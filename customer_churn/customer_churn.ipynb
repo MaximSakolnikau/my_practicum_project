{
 "cells": [
  {
   "cell_type": "markdown",
   "metadata": {
    "toc": true
   },
   "source": [
    "<h1>Содержание<span class=\"tocSkip\"></span></h1>\n",
    "<div class=\"toc\"><ul class=\"toc-item\"><li><span><a href=\"#Подготовка-данных\" data-toc-modified-id=\"Подготовка-данных-1\"><span class=\"toc-item-num\">1&nbsp;&nbsp;</span>Подготовка данных</a></span></li><li><span><a href=\"#Исследование-задачи\" data-toc-modified-id=\"Исследование-задачи-2\"><span class=\"toc-item-num\">2&nbsp;&nbsp;</span>Исследование задачи</a></span></li><li><span><a href=\"#Борьба-с-дисбалансом\" data-toc-modified-id=\"Борьба-с-дисбалансом-3\"><span class=\"toc-item-num\">3&nbsp;&nbsp;</span>Борьба с дисбалансом</a></span><ul class=\"toc-item\"><li><span><a href=\"#Взвешивание-классов\" data-toc-modified-id=\"Взвешивание-классов-3.1\"><span class=\"toc-item-num\">3.1&nbsp;&nbsp;</span>Взвешивание классов</a></span><ul class=\"toc-item\"><li><span><a href=\"#Увеличение-выборки\" data-toc-modified-id=\"Увеличение-выборки-3.1.1\"><span class=\"toc-item-num\">3.1.1&nbsp;&nbsp;</span>Увеличение выборки</a></span></li><li><span><a href=\"#Уменьшение-выборки\" data-toc-modified-id=\"Уменьшение-выборки-3.1.2\"><span class=\"toc-item-num\">3.1.2&nbsp;&nbsp;</span>Уменьшение выборки</a></span></li><li><span><a href=\"#Уменьшение и увеличение выборок (импровизация)\" data-toc-modified-id=\"Уменьшение и увеличение выборок (импровизация)-3.1.3\"><span class=\"toc-item-num\">3.1.3&nbsp;&nbsp;</span>Уменьшение и увеличение выборок (импровизация)</a></span></li></ul></li><li><span><a href=\"#Увеличение-F1-на-лучшей-модели\" data-toc-modified-id=\"Увеличение-F1-на-лучшей-модели-3.2\"><span class=\"toc-item-num\">3.2&nbsp;&nbsp;</span>Увеличение F1 на лучшей модели</a></span></li><li><span><a href=\"#Изменение-порога\" data-toc-modified-id=\"Изменение-порога-3.3\"><span class=\"toc-item-num\">3.3&nbsp;&nbsp;</span>Изменение порога</a></span></li></ul></li><li><span><a href=\"#Тестирование-модели\" data-toc-modified-id=\"Тестирование-модели-4\"><span class=\"toc-item-num\">4&nbsp;&nbsp;</span>Тестирование модели</a></span></li><li><span><a href=\"#Чек-лист-готовности-проекта\" data-toc-modified-id=\"Чек-лист-готовности-проекта-5\"><span class=\"toc-item-num\">5&nbsp;&nbsp;</span>Чек-лист готовности проекта</a></span></li></ul></div>"
   ]
  },
  {
   "cell_type": "markdown",
   "metadata": {},
   "source": [
    "# Отток клиентов"
   ]
  },
  {
   "cell_type": "markdown",
   "metadata": {},
   "source": [
    "Из «Бета-Банка» стали уходить клиенты. Каждый месяц. Немного, но заметно. Банковские маркетологи посчитали: сохранять текущих клиентов дешевле, чем привлекать новых.\n",
    "\n",
    "Нужно спрогнозировать, уйдёт клиент из банка в ближайшее время или нет. Нам предоставлены исторические данные о поведении клиентов и расторжении договоров с банком. \n",
    "\n",
    "Построим модель с предельно большим значением *F1*-меры. Чтобы сдать проект успешно, нам необходимо довести метрику до 0.59. Проверим *F1*-меру на тестовой выборке самостоятельно.\n",
    "\n",
    "Дополнительно измерим *AUC-ROC*, сравнив её значение с *F1*-мерой.\n",
    "\n",
    "Источник данных: [https://www.kaggle.com/barelydedicated/bank-customer-churn-modeling](https://www.kaggle.com/barelydedicated/bank-customer-churn-modeling)"
   ]
  },
  {
   "cell_type": "markdown",
   "metadata": {},
   "source": [
    "<hr style=\"border: 2px solid blue;\" />"
   ]
  },
  {
   "cell_type": "markdown",
   "metadata": {},
   "source": [
    "## Подготовка данных"
   ]
  },
  {
   "cell_type": "code",
   "execution_count": 1,
   "metadata": {},
   "outputs": [],
   "source": [
    "# импортируем необходимые нам библиотеки\n",
    "import pandas as pd\n",
    "import numpy as np\n",
    "import seaborn as sns\n",
    "import matplotlib.pyplot as plt\n",
    "from sklearn.model_selection import train_test_split\n",
    "from sklearn.metrics import accuracy_score\n",
    "from sklearn.preprocessing import StandardScaler \n",
    "from sklearn.metrics import f1_score\n",
    "from sklearn.tree import DecisionTreeClassifier\n",
    "from sklearn.ensemble import RandomForestClassifier\n",
    "from sklearn.linear_model import LogisticRegression\n",
    "from sklearn.utils import shuffle\n",
    "from sklearn.metrics import precision_score, recall_score\n",
    "from sklearn.metrics import roc_auc_score\n",
    "import warnings\n",
    "warnings.filterwarnings('ignore')\n",
    "pd.options.mode.chained_assignment = None"
   ]
  },
  {
   "cell_type": "code",
   "execution_count": 2,
   "metadata": {},
   "outputs": [
    {
     "name": "stdout",
     "output_type": "stream",
     "text": [
      "<class 'pandas.core.frame.DataFrame'>\n",
      "RangeIndex: 10000 entries, 0 to 9999\n",
      "Data columns (total 14 columns):\n",
      " #   Column           Non-Null Count  Dtype  \n",
      "---  ------           --------------  -----  \n",
      " 0   RowNumber        10000 non-null  int64  \n",
      " 1   CustomerId       10000 non-null  int64  \n",
      " 2   Surname          10000 non-null  object \n",
      " 3   CreditScore      10000 non-null  int64  \n",
      " 4   Geography        10000 non-null  object \n",
      " 5   Gender           10000 non-null  object \n",
      " 6   Age              10000 non-null  int64  \n",
      " 7   Tenure           9091 non-null   float64\n",
      " 8   Balance          10000 non-null  float64\n",
      " 9   NumOfProducts    10000 non-null  int64  \n",
      " 10  HasCrCard        10000 non-null  int64  \n",
      " 11  IsActiveMember   10000 non-null  int64  \n",
      " 12  EstimatedSalary  10000 non-null  float64\n",
      " 13  Exited           10000 non-null  int64  \n",
      "dtypes: float64(3), int64(8), object(3)\n",
      "memory usage: 1.1+ MB\n"
     ]
    }
   ],
   "source": [
    "#прочитаем файл и выведем общую информацию о нем\n",
    "df = pd.read_csv(r'C:\\Users\\User\\Downloads\\Churn.csv')\n",
    "df.info()"
   ]
  },
  {
   "cell_type": "markdown",
   "metadata": {},
   "source": [
    "В столбцах присутствует типы данных int, float, object. Изучим данные более подробно, возможно int преобразуем во float для повышения скорости вычислений."
   ]
  },
  {
   "cell_type": "code",
   "execution_count": 3,
   "metadata": {},
   "outputs": [
    {
     "data": {
      "text/plain": [
       "RowNumber            0\n",
       "CustomerId           0\n",
       "Surname              0\n",
       "CreditScore          0\n",
       "Geography            0\n",
       "Gender               0\n",
       "Age                  0\n",
       "Tenure             909\n",
       "Balance              0\n",
       "NumOfProducts        0\n",
       "HasCrCard            0\n",
       "IsActiveMember       0\n",
       "EstimatedSalary      0\n",
       "Exited               0\n",
       "dtype: int64"
      ]
     },
     "execution_count": 3,
     "metadata": {},
     "output_type": "execute_result"
    }
   ],
   "source": [
    "# выведем количество пропусков \n",
    "df.isna().sum()"
   ]
  },
  {
   "cell_type": "markdown",
   "metadata": {},
   "source": [
    "В столбце Tenure присутствуют пропуски. Возможно это клиенты которые меньше года ими являются."
   ]
  },
  {
   "cell_type": "code",
   "execution_count": 4,
   "metadata": {},
   "outputs": [
    {
     "data": {
      "text/plain": [
       "0"
      ]
     },
     "execution_count": 4,
     "metadata": {},
     "output_type": "execute_result"
    }
   ],
   "source": [
    "# найдем количестов явных дубликатов \n",
    "df.duplicated().sum()"
   ]
  },
  {
   "cell_type": "markdown",
   "metadata": {},
   "source": [
    "Дубликаты отсутствуют"
   ]
  },
  {
   "cell_type": "code",
   "execution_count": 5,
   "metadata": {
    "scrolled": true
   },
   "outputs": [
    {
     "data": {
      "text/plain": [
       "Index(['RowNumber', 'CustomerId', 'Surname', 'CreditScore', 'Geography',\n",
       "       'Gender', 'Age', 'Tenure', 'Balance', 'NumOfProducts', 'HasCrCard',\n",
       "       'IsActiveMember', 'EstimatedSalary', 'Exited'],\n",
       "      dtype='object')"
      ]
     },
     "execution_count": 5,
     "metadata": {},
     "output_type": "execute_result"
    }
   ],
   "source": [
    "# проверим название столбцов на соответствие стилю\n",
    "df.columns"
   ]
  },
  {
   "cell_type": "markdown",
   "metadata": {},
   "source": [
    "столбцы необходмо привесвти в соответствие стилю(убрать заглавные, добавиь нижний регистр)"
   ]
  },
  {
   "cell_type": "code",
   "execution_count": 6,
   "metadata": {},
   "outputs": [
    {
     "data": {
      "text/plain": [
       "Index(['row_number', 'customer_id', 'surname', 'credit_score', 'geography',\n",
       "       'gender', 'age', 'tenure', 'balance', 'num_of_products', 'has_cr_card',\n",
       "       'is_active_member', 'estimated_salary', 'exited'],\n",
       "      dtype='object')"
      ]
     },
     "execution_count": 6,
     "metadata": {},
     "output_type": "execute_result"
    }
   ],
   "source": [
    "# Переименуем столбцы на соответствие стилю и проверим результат\n",
    "df = df.rename(columns={'RowNumber': 'Row_Number', \n",
    "                        'CustomerId': 'Customer_Id', \n",
    "                        'CreditScore': 'Credit_Score', \n",
    "                        'NumOfProducts': 'Num_Of_Products', \n",
    "                        'HasCrCard': 'Has_Cr_Card', \n",
    "                        'IsActiveMember': 'Is_Active_Member', \n",
    "                        'EstimatedSalary': 'Estimated_Salary'})\n",
    "df.columns = df.columns.str.lower()\n",
    "\n",
    "# Проверим получившийся результат \n",
    "df.columns"
   ]
  },
  {
   "cell_type": "code",
   "execution_count": 7,
   "metadata": {},
   "outputs": [
    {
     "data": {
      "text/html": [
       "<div>\n",
       "<style scoped>\n",
       "    .dataframe tbody tr th:only-of-type {\n",
       "        vertical-align: middle;\n",
       "    }\n",
       "\n",
       "    .dataframe tbody tr th {\n",
       "        vertical-align: top;\n",
       "    }\n",
       "\n",
       "    .dataframe thead th {\n",
       "        text-align: right;\n",
       "    }\n",
       "</style>\n",
       "<table border=\"1\" class=\"dataframe\">\n",
       "  <thead>\n",
       "    <tr style=\"text-align: right;\">\n",
       "      <th></th>\n",
       "      <th>row_number</th>\n",
       "      <th>customer_id</th>\n",
       "      <th>surname</th>\n",
       "      <th>credit_score</th>\n",
       "      <th>geography</th>\n",
       "      <th>gender</th>\n",
       "      <th>age</th>\n",
       "      <th>tenure</th>\n",
       "      <th>balance</th>\n",
       "      <th>num_of_products</th>\n",
       "      <th>has_cr_card</th>\n",
       "      <th>is_active_member</th>\n",
       "      <th>estimated_salary</th>\n",
       "      <th>exited</th>\n",
       "    </tr>\n",
       "  </thead>\n",
       "  <tbody>\n",
       "    <tr>\n",
       "      <th>0</th>\n",
       "      <td>1</td>\n",
       "      <td>15634602</td>\n",
       "      <td>Hargrave</td>\n",
       "      <td>619</td>\n",
       "      <td>France</td>\n",
       "      <td>Female</td>\n",
       "      <td>42</td>\n",
       "      <td>2.0</td>\n",
       "      <td>0.00</td>\n",
       "      <td>1</td>\n",
       "      <td>1</td>\n",
       "      <td>1</td>\n",
       "      <td>101348.88</td>\n",
       "      <td>1</td>\n",
       "    </tr>\n",
       "    <tr>\n",
       "      <th>1</th>\n",
       "      <td>2</td>\n",
       "      <td>15647311</td>\n",
       "      <td>Hill</td>\n",
       "      <td>608</td>\n",
       "      <td>Spain</td>\n",
       "      <td>Female</td>\n",
       "      <td>41</td>\n",
       "      <td>1.0</td>\n",
       "      <td>83807.86</td>\n",
       "      <td>1</td>\n",
       "      <td>0</td>\n",
       "      <td>1</td>\n",
       "      <td>112542.58</td>\n",
       "      <td>0</td>\n",
       "    </tr>\n",
       "    <tr>\n",
       "      <th>2</th>\n",
       "      <td>3</td>\n",
       "      <td>15619304</td>\n",
       "      <td>Onio</td>\n",
       "      <td>502</td>\n",
       "      <td>France</td>\n",
       "      <td>Female</td>\n",
       "      <td>42</td>\n",
       "      <td>8.0</td>\n",
       "      <td>159660.80</td>\n",
       "      <td>3</td>\n",
       "      <td>1</td>\n",
       "      <td>0</td>\n",
       "      <td>113931.57</td>\n",
       "      <td>1</td>\n",
       "    </tr>\n",
       "    <tr>\n",
       "      <th>3</th>\n",
       "      <td>4</td>\n",
       "      <td>15701354</td>\n",
       "      <td>Boni</td>\n",
       "      <td>699</td>\n",
       "      <td>France</td>\n",
       "      <td>Female</td>\n",
       "      <td>39</td>\n",
       "      <td>1.0</td>\n",
       "      <td>0.00</td>\n",
       "      <td>2</td>\n",
       "      <td>0</td>\n",
       "      <td>0</td>\n",
       "      <td>93826.63</td>\n",
       "      <td>0</td>\n",
       "    </tr>\n",
       "    <tr>\n",
       "      <th>4</th>\n",
       "      <td>5</td>\n",
       "      <td>15737888</td>\n",
       "      <td>Mitchell</td>\n",
       "      <td>850</td>\n",
       "      <td>Spain</td>\n",
       "      <td>Female</td>\n",
       "      <td>43</td>\n",
       "      <td>2.0</td>\n",
       "      <td>125510.82</td>\n",
       "      <td>1</td>\n",
       "      <td>1</td>\n",
       "      <td>1</td>\n",
       "      <td>79084.10</td>\n",
       "      <td>0</td>\n",
       "    </tr>\n",
       "    <tr>\n",
       "      <th>5</th>\n",
       "      <td>6</td>\n",
       "      <td>15574012</td>\n",
       "      <td>Chu</td>\n",
       "      <td>645</td>\n",
       "      <td>Spain</td>\n",
       "      <td>Male</td>\n",
       "      <td>44</td>\n",
       "      <td>8.0</td>\n",
       "      <td>113755.78</td>\n",
       "      <td>2</td>\n",
       "      <td>1</td>\n",
       "      <td>0</td>\n",
       "      <td>149756.71</td>\n",
       "      <td>1</td>\n",
       "    </tr>\n",
       "    <tr>\n",
       "      <th>6</th>\n",
       "      <td>7</td>\n",
       "      <td>15592531</td>\n",
       "      <td>Bartlett</td>\n",
       "      <td>822</td>\n",
       "      <td>France</td>\n",
       "      <td>Male</td>\n",
       "      <td>50</td>\n",
       "      <td>7.0</td>\n",
       "      <td>0.00</td>\n",
       "      <td>2</td>\n",
       "      <td>1</td>\n",
       "      <td>1</td>\n",
       "      <td>10062.80</td>\n",
       "      <td>0</td>\n",
       "    </tr>\n",
       "    <tr>\n",
       "      <th>7</th>\n",
       "      <td>8</td>\n",
       "      <td>15656148</td>\n",
       "      <td>Obinna</td>\n",
       "      <td>376</td>\n",
       "      <td>Germany</td>\n",
       "      <td>Female</td>\n",
       "      <td>29</td>\n",
       "      <td>4.0</td>\n",
       "      <td>115046.74</td>\n",
       "      <td>4</td>\n",
       "      <td>1</td>\n",
       "      <td>0</td>\n",
       "      <td>119346.88</td>\n",
       "      <td>1</td>\n",
       "    </tr>\n",
       "    <tr>\n",
       "      <th>8</th>\n",
       "      <td>9</td>\n",
       "      <td>15792365</td>\n",
       "      <td>He</td>\n",
       "      <td>501</td>\n",
       "      <td>France</td>\n",
       "      <td>Male</td>\n",
       "      <td>44</td>\n",
       "      <td>4.0</td>\n",
       "      <td>142051.07</td>\n",
       "      <td>2</td>\n",
       "      <td>0</td>\n",
       "      <td>1</td>\n",
       "      <td>74940.50</td>\n",
       "      <td>0</td>\n",
       "    </tr>\n",
       "    <tr>\n",
       "      <th>9</th>\n",
       "      <td>10</td>\n",
       "      <td>15592389</td>\n",
       "      <td>H?</td>\n",
       "      <td>684</td>\n",
       "      <td>France</td>\n",
       "      <td>Male</td>\n",
       "      <td>27</td>\n",
       "      <td>2.0</td>\n",
       "      <td>134603.88</td>\n",
       "      <td>1</td>\n",
       "      <td>1</td>\n",
       "      <td>1</td>\n",
       "      <td>71725.73</td>\n",
       "      <td>0</td>\n",
       "    </tr>\n",
       "  </tbody>\n",
       "</table>\n",
       "</div>"
      ],
      "text/plain": [
       "   row_number  customer_id   surname  credit_score geography  gender  age  \\\n",
       "0           1     15634602  Hargrave           619    France  Female   42   \n",
       "1           2     15647311      Hill           608     Spain  Female   41   \n",
       "2           3     15619304      Onio           502    France  Female   42   \n",
       "3           4     15701354      Boni           699    France  Female   39   \n",
       "4           5     15737888  Mitchell           850     Spain  Female   43   \n",
       "5           6     15574012       Chu           645     Spain    Male   44   \n",
       "6           7     15592531  Bartlett           822    France    Male   50   \n",
       "7           8     15656148    Obinna           376   Germany  Female   29   \n",
       "8           9     15792365        He           501    France    Male   44   \n",
       "9          10     15592389        H?           684    France    Male   27   \n",
       "\n",
       "   tenure    balance  num_of_products  has_cr_card  is_active_member  \\\n",
       "0     2.0       0.00                1            1                 1   \n",
       "1     1.0   83807.86                1            0                 1   \n",
       "2     8.0  159660.80                3            1                 0   \n",
       "3     1.0       0.00                2            0                 0   \n",
       "4     2.0  125510.82                1            1                 1   \n",
       "5     8.0  113755.78                2            1                 0   \n",
       "6     7.0       0.00                2            1                 1   \n",
       "7     4.0  115046.74                4            1                 0   \n",
       "8     4.0  142051.07                2            0                 1   \n",
       "9     2.0  134603.88                1            1                 1   \n",
       "\n",
       "   estimated_salary  exited  \n",
       "0         101348.88       1  \n",
       "1         112542.58       0  \n",
       "2         113931.57       1  \n",
       "3          93826.63       0  \n",
       "4          79084.10       0  \n",
       "5         149756.71       1  \n",
       "6          10062.80       0  \n",
       "7         119346.88       1  \n",
       "8          74940.50       0  \n",
       "9          71725.73       0  "
      ]
     },
     "execution_count": 7,
     "metadata": {},
     "output_type": "execute_result"
    }
   ],
   "source": [
    "# посмотрим на первые строки таблицы\n",
    "df.head(10)"
   ]
  },
  {
   "cell_type": "code",
   "execution_count": 8,
   "metadata": {
    "scrolled": true
   },
   "outputs": [
    {
     "data": {
      "text/html": [
       "<div>\n",
       "<style scoped>\n",
       "    .dataframe tbody tr th:only-of-type {\n",
       "        vertical-align: middle;\n",
       "    }\n",
       "\n",
       "    .dataframe tbody tr th {\n",
       "        vertical-align: top;\n",
       "    }\n",
       "\n",
       "    .dataframe thead th {\n",
       "        text-align: right;\n",
       "    }\n",
       "</style>\n",
       "<table border=\"1\" class=\"dataframe\">\n",
       "  <thead>\n",
       "    <tr style=\"text-align: right;\">\n",
       "      <th></th>\n",
       "      <th>row_number</th>\n",
       "      <th>customer_id</th>\n",
       "      <th>surname</th>\n",
       "      <th>credit_score</th>\n",
       "      <th>geography</th>\n",
       "      <th>gender</th>\n",
       "      <th>age</th>\n",
       "      <th>tenure</th>\n",
       "      <th>balance</th>\n",
       "      <th>num_of_products</th>\n",
       "      <th>has_cr_card</th>\n",
       "      <th>is_active_member</th>\n",
       "      <th>estimated_salary</th>\n",
       "      <th>exited</th>\n",
       "    </tr>\n",
       "  </thead>\n",
       "  <tbody>\n",
       "    <tr>\n",
       "      <th>9990</th>\n",
       "      <td>9991</td>\n",
       "      <td>15798964</td>\n",
       "      <td>Nkemakonam</td>\n",
       "      <td>714</td>\n",
       "      <td>Germany</td>\n",
       "      <td>Male</td>\n",
       "      <td>33</td>\n",
       "      <td>3.0</td>\n",
       "      <td>35016.60</td>\n",
       "      <td>1</td>\n",
       "      <td>1</td>\n",
       "      <td>0</td>\n",
       "      <td>53667.08</td>\n",
       "      <td>0</td>\n",
       "    </tr>\n",
       "    <tr>\n",
       "      <th>9991</th>\n",
       "      <td>9992</td>\n",
       "      <td>15769959</td>\n",
       "      <td>Ajuluchukwu</td>\n",
       "      <td>597</td>\n",
       "      <td>France</td>\n",
       "      <td>Female</td>\n",
       "      <td>53</td>\n",
       "      <td>4.0</td>\n",
       "      <td>88381.21</td>\n",
       "      <td>1</td>\n",
       "      <td>1</td>\n",
       "      <td>0</td>\n",
       "      <td>69384.71</td>\n",
       "      <td>1</td>\n",
       "    </tr>\n",
       "    <tr>\n",
       "      <th>9992</th>\n",
       "      <td>9993</td>\n",
       "      <td>15657105</td>\n",
       "      <td>Chukwualuka</td>\n",
       "      <td>726</td>\n",
       "      <td>Spain</td>\n",
       "      <td>Male</td>\n",
       "      <td>36</td>\n",
       "      <td>2.0</td>\n",
       "      <td>0.00</td>\n",
       "      <td>1</td>\n",
       "      <td>1</td>\n",
       "      <td>0</td>\n",
       "      <td>195192.40</td>\n",
       "      <td>0</td>\n",
       "    </tr>\n",
       "    <tr>\n",
       "      <th>9993</th>\n",
       "      <td>9994</td>\n",
       "      <td>15569266</td>\n",
       "      <td>Rahman</td>\n",
       "      <td>644</td>\n",
       "      <td>France</td>\n",
       "      <td>Male</td>\n",
       "      <td>28</td>\n",
       "      <td>7.0</td>\n",
       "      <td>155060.41</td>\n",
       "      <td>1</td>\n",
       "      <td>1</td>\n",
       "      <td>0</td>\n",
       "      <td>29179.52</td>\n",
       "      <td>0</td>\n",
       "    </tr>\n",
       "    <tr>\n",
       "      <th>9994</th>\n",
       "      <td>9995</td>\n",
       "      <td>15719294</td>\n",
       "      <td>Wood</td>\n",
       "      <td>800</td>\n",
       "      <td>France</td>\n",
       "      <td>Female</td>\n",
       "      <td>29</td>\n",
       "      <td>2.0</td>\n",
       "      <td>0.00</td>\n",
       "      <td>2</td>\n",
       "      <td>0</td>\n",
       "      <td>0</td>\n",
       "      <td>167773.55</td>\n",
       "      <td>0</td>\n",
       "    </tr>\n",
       "    <tr>\n",
       "      <th>9995</th>\n",
       "      <td>9996</td>\n",
       "      <td>15606229</td>\n",
       "      <td>Obijiaku</td>\n",
       "      <td>771</td>\n",
       "      <td>France</td>\n",
       "      <td>Male</td>\n",
       "      <td>39</td>\n",
       "      <td>5.0</td>\n",
       "      <td>0.00</td>\n",
       "      <td>2</td>\n",
       "      <td>1</td>\n",
       "      <td>0</td>\n",
       "      <td>96270.64</td>\n",
       "      <td>0</td>\n",
       "    </tr>\n",
       "    <tr>\n",
       "      <th>9996</th>\n",
       "      <td>9997</td>\n",
       "      <td>15569892</td>\n",
       "      <td>Johnstone</td>\n",
       "      <td>516</td>\n",
       "      <td>France</td>\n",
       "      <td>Male</td>\n",
       "      <td>35</td>\n",
       "      <td>10.0</td>\n",
       "      <td>57369.61</td>\n",
       "      <td>1</td>\n",
       "      <td>1</td>\n",
       "      <td>1</td>\n",
       "      <td>101699.77</td>\n",
       "      <td>0</td>\n",
       "    </tr>\n",
       "    <tr>\n",
       "      <th>9997</th>\n",
       "      <td>9998</td>\n",
       "      <td>15584532</td>\n",
       "      <td>Liu</td>\n",
       "      <td>709</td>\n",
       "      <td>France</td>\n",
       "      <td>Female</td>\n",
       "      <td>36</td>\n",
       "      <td>7.0</td>\n",
       "      <td>0.00</td>\n",
       "      <td>1</td>\n",
       "      <td>0</td>\n",
       "      <td>1</td>\n",
       "      <td>42085.58</td>\n",
       "      <td>1</td>\n",
       "    </tr>\n",
       "    <tr>\n",
       "      <th>9998</th>\n",
       "      <td>9999</td>\n",
       "      <td>15682355</td>\n",
       "      <td>Sabbatini</td>\n",
       "      <td>772</td>\n",
       "      <td>Germany</td>\n",
       "      <td>Male</td>\n",
       "      <td>42</td>\n",
       "      <td>3.0</td>\n",
       "      <td>75075.31</td>\n",
       "      <td>2</td>\n",
       "      <td>1</td>\n",
       "      <td>0</td>\n",
       "      <td>92888.52</td>\n",
       "      <td>1</td>\n",
       "    </tr>\n",
       "    <tr>\n",
       "      <th>9999</th>\n",
       "      <td>10000</td>\n",
       "      <td>15628319</td>\n",
       "      <td>Walker</td>\n",
       "      <td>792</td>\n",
       "      <td>France</td>\n",
       "      <td>Female</td>\n",
       "      <td>28</td>\n",
       "      <td>NaN</td>\n",
       "      <td>130142.79</td>\n",
       "      <td>1</td>\n",
       "      <td>1</td>\n",
       "      <td>0</td>\n",
       "      <td>38190.78</td>\n",
       "      <td>0</td>\n",
       "    </tr>\n",
       "  </tbody>\n",
       "</table>\n",
       "</div>"
      ],
      "text/plain": [
       "      row_number  customer_id      surname  credit_score geography  gender  \\\n",
       "9990        9991     15798964   Nkemakonam           714   Germany    Male   \n",
       "9991        9992     15769959  Ajuluchukwu           597    France  Female   \n",
       "9992        9993     15657105  Chukwualuka           726     Spain    Male   \n",
       "9993        9994     15569266       Rahman           644    France    Male   \n",
       "9994        9995     15719294         Wood           800    France  Female   \n",
       "9995        9996     15606229     Obijiaku           771    France    Male   \n",
       "9996        9997     15569892    Johnstone           516    France    Male   \n",
       "9997        9998     15584532          Liu           709    France  Female   \n",
       "9998        9999     15682355    Sabbatini           772   Germany    Male   \n",
       "9999       10000     15628319       Walker           792    France  Female   \n",
       "\n",
       "      age  tenure    balance  num_of_products  has_cr_card  is_active_member  \\\n",
       "9990   33     3.0   35016.60                1            1                 0   \n",
       "9991   53     4.0   88381.21                1            1                 0   \n",
       "9992   36     2.0       0.00                1            1                 0   \n",
       "9993   28     7.0  155060.41                1            1                 0   \n",
       "9994   29     2.0       0.00                2            0                 0   \n",
       "9995   39     5.0       0.00                2            1                 0   \n",
       "9996   35    10.0   57369.61                1            1                 1   \n",
       "9997   36     7.0       0.00                1            0                 1   \n",
       "9998   42     3.0   75075.31                2            1                 0   \n",
       "9999   28     NaN  130142.79                1            1                 0   \n",
       "\n",
       "      estimated_salary  exited  \n",
       "9990          53667.08       0  \n",
       "9991          69384.71       1  \n",
       "9992         195192.40       0  \n",
       "9993          29179.52       0  \n",
       "9994         167773.55       0  \n",
       "9995          96270.64       0  \n",
       "9996         101699.77       0  \n",
       "9997          42085.58       1  \n",
       "9998          92888.52       1  \n",
       "9999          38190.78       0  "
      ]
     },
     "execution_count": 8,
     "metadata": {},
     "output_type": "execute_result"
    }
   ],
   "source": [
    "# проверим ошибки ближе к концу кода\n",
    "df.tail(10)"
   ]
  },
  {
   "cell_type": "markdown",
   "metadata": {},
   "source": [
    "вроде бы все нормально"
   ]
  },
  {
   "cell_type": "code",
   "execution_count": 9,
   "metadata": {
    "scrolled": true
   },
   "outputs": [
    {
     "name": "stdout",
     "output_type": "stream",
     "text": [
      "Уникальные значения для столбца \u001b[1m row_number \u001b[0m : [    1     2     3 ...  9998  9999 10000]\n",
      "----------------------------------------------------------------------------------------------------\n",
      "Уникальные значения для столбца \u001b[1m customer_id \u001b[0m : [15565701 15565706 15565714 ... 15815656 15815660 15815690]\n",
      "----------------------------------------------------------------------------------------------------\n",
      "Уникальные значения для столбца \u001b[1m surname \u001b[0m : ['Abazu' 'Abbie' 'Abbott' ... 'Zuev' 'Zuyev' 'Zuyeva']\n",
      "----------------------------------------------------------------------------------------------------\n",
      "Уникальные значения для столбца \u001b[1m credit_score \u001b[0m : [350 351 358 359 363 365 367 373 376 382 383 386 395 399 401 404 405 407\n",
      " 408 410 411 412 413 414 415 416 417 418 419 420 421 422 423 424 425 426\n",
      " 427 428 429 430 431 432 433 434 435 436 437 438 439 440 441 442 443 444\n",
      " 445 446 447 448 449 450 451 452 453 454 455 456 457 458 459 460 461 462\n",
      " 463 464 465 466 467 468 469 470 471 472 473 474 475 476 477 478 479 480\n",
      " 481 482 483 484 485 486 487 488 489 490 491 492 493 494 495 496 497 498\n",
      " 499 500 501 502 503 504 505 506 507 508 509 510 511 512 513 514 515 516\n",
      " 517 518 519 520 521 522 523 524 525 526 527 528 529 530 531 532 533 534\n",
      " 535 536 537 538 539 540 541 542 543 544 545 546 547 548 549 550 551 552\n",
      " 553 554 555 556 557 558 559 560 561 562 563 564 565 566 567 568 569 570\n",
      " 571 572 573 574 575 576 577 578 579 580 581 582 583 584 585 586 587 588\n",
      " 589 590 591 592 593 594 595 596 597 598 599 600 601 602 603 604 605 606\n",
      " 607 608 609 610 611 612 613 614 615 616 617 618 619 620 621 622 623 624\n",
      " 625 626 627 628 629 630 631 632 633 634 635 636 637 638 639 640 641 642\n",
      " 643 644 645 646 647 648 649 650 651 652 653 654 655 656 657 658 659 660\n",
      " 661 662 663 664 665 666 667 668 669 670 671 672 673 674 675 676 677 678\n",
      " 679 680 681 682 683 684 685 686 687 688 689 690 691 692 693 694 695 696\n",
      " 697 698 699 700 701 702 703 704 705 706 707 708 709 710 711 712 713 714\n",
      " 715 716 717 718 719 720 721 722 723 724 725 726 727 728 729 730 731 732\n",
      " 733 734 735 736 737 738 739 740 741 742 743 744 745 746 747 748 749 750\n",
      " 751 752 753 754 755 756 757 758 759 760 761 762 763 764 765 766 767 768\n",
      " 769 770 771 772 773 774 775 776 777 778 779 780 781 782 783 784 785 786\n",
      " 787 788 789 790 791 792 793 794 795 796 797 798 799 800 801 802 803 804\n",
      " 805 806 807 808 809 810 811 812 813 814 815 816 817 818 819 820 821 822\n",
      " 823 824 825 826 827 828 829 830 831 832 833 834 835 836 837 838 839 840\n",
      " 841 842 843 844 845 846 847 848 849 850]\n",
      "----------------------------------------------------------------------------------------------------\n",
      "Уникальные значения для столбца \u001b[1m geography \u001b[0m : ['France' 'Germany' 'Spain']\n",
      "----------------------------------------------------------------------------------------------------\n",
      "Уникальные значения для столбца \u001b[1m gender \u001b[0m : ['Female' 'Male']\n",
      "----------------------------------------------------------------------------------------------------\n",
      "Уникальные значения для столбца \u001b[1m age \u001b[0m : [18 19 20 21 22 23 24 25 26 27 28 29 30 31 32 33 34 35 36 37 38 39 40 41\n",
      " 42 43 44 45 46 47 48 49 50 51 52 53 54 55 56 57 58 59 60 61 62 63 64 65\n",
      " 66 67 68 69 70 71 72 73 74 75 76 77 78 79 80 81 82 83 84 85 88 92]\n",
      "----------------------------------------------------------------------------------------------------\n",
      "Уникальные значения для столбца \u001b[1m tenure \u001b[0m : [ 0.  1.  2.  3.  4.  5.  6.  7.  8.  9. 10. nan]\n",
      "----------------------------------------------------------------------------------------------------\n",
      "Уникальные значения для столбца \u001b[1m balance \u001b[0m : [     0.     3768.69  12459.19 ... 222267.63 238387.56 250898.09]\n",
      "----------------------------------------------------------------------------------------------------\n",
      "Уникальные значения для столбца \u001b[1m num_of_products \u001b[0m : [1 2 3 4]\n",
      "----------------------------------------------------------------------------------------------------\n",
      "Уникальные значения для столбца \u001b[1m has_cr_card \u001b[0m : [0 1]\n",
      "----------------------------------------------------------------------------------------------------\n",
      "Уникальные значения для столбца \u001b[1m is_active_member \u001b[0m : [0 1]\n",
      "----------------------------------------------------------------------------------------------------\n",
      "Уникальные значения для столбца \u001b[1m estimated_salary \u001b[0m : [1.1580000e+01 9.0070000e+01 9.1750000e+01 ... 1.9995333e+05 1.9997074e+05\n",
      " 1.9999248e+05]\n",
      "----------------------------------------------------------------------------------------------------\n",
      "Уникальные значения для столбца \u001b[1m exited \u001b[0m : [0 1]\n",
      "----------------------------------------------------------------------------------------------------\n"
     ]
    }
   ],
   "source": [
    "# выведем уникальные значения для каждого столбца \n",
    "for column in df.columns:\n",
    "    print('Уникальные значения для столбца', '\\033[1m', column, '\\033[0m', ':', df[column].sort_values().unique())\n",
    "    print(\"-\"*100)"
   ]
  },
  {
   "cell_type": "markdown",
   "metadata": {},
   "source": [
    "- В столбце **row_number** хранятся значения индекса строки в данных. Думаю, этот столбец следует удалить и не обучать модель этими данными.\n",
    "- В столбце **customer_id** хранится уникальный идентификатор клиента. Думаю, этим столбцом так же не стоит обучать модель.\n",
    "- В столбце **surname** хранится фамилия клиента. Аналогично предыдущим двум, этим столбцом обучать не будем.\n",
    "- В столбце **credit_score** хранится кредитный рейтинг клиента. Тип данных **int**. Пропусков нет, уникальные значения подозрений не вызывают.\n",
    "- В столбце **geography** хранится страна проживания клиента. Всего три значения Франция, Германия, Испания. Думаю, значения можно заменить на 0 1 и 2 или сделать матрицу. Пропусков нет, уникальные значения подозрений не вызывают.  \n",
    "- В столбце **gender** хранится пол клиента. Два значения заменим на 0 и 1 или сделаем матрицу. \n",
    "- В столбце **age** хранится возраст клиента. Тип данных **int**. Пропусков нет, уникальные значения подозрений не вызывают.\n",
    "- В столбце **tenure** хранятся данные о том, сколько лет человек является клиентом банка. Тип данных **float**, следует заменить на **int**. В уникальных значениях хранятся цифры от 0 до 10. Ноль скорее всего означает, что клиент обслуживается в банке меньше года. Так же в данных имеется 909 пропусков. Посмотрим на значения более подробно и после примем решение, удалять или заполнять их, и если заполнять, то чем.\n",
    "- В столбце **balance** хранится баланс на счёте у клиента. Все значения имеют две цифры после запятой. До множим на 100 все значения и заменим тип данных с **float** на **int**. В уникальных значениях есть 0, который скорее всего ноль и означает. Пропусков нет, уникальные значения подозрений не вызывают.\n",
    "- В столбце **num_of_products** хранится количество продуктов банка, используемых клиентом. Тип данных **int** устраивает. Пропусков нет, уникальные значения подозрений не вызывают.\n",
    "- В столбце **has_cr_card** хранится значение о наличие кредитной карты. 0 скорее всего означает отсутствие, а ноль означает наличие карты. Хотя модели, наверное, все равно))) Пропусков нет, уникальные значения подозрений не вызывают.\n",
    "- В столбце **is_active_member** хранятся данные о активности клиента. Скорее всего 1 - наличие активности, 0 - ее отсутствие ее. Пропусков нет, уникальные значения подозрений не вызывают.\n",
    "- В столбце **estimated_salary** хранится предполагаемая зарплата. Также до множим значения на 100 и присвоим тип данных int. Пропусков нет, уникальные значения подозрений не вызывают.\n",
    "- В столбце **exited** хранится информация о факте ухода клиента из банка. Всего два значения. 0 и 1. Скорее всего 1 - клиент ушел. 0 - остается клиентом. Пропусков нет, уникальные значения подозрений не вызывают."
   ]
  },
  {
   "cell_type": "code",
   "execution_count": 10,
   "metadata": {},
   "outputs": [
    {
     "name": "stdout",
     "output_type": "stream",
     "text": [
      "медиальное значение 5.0\n",
      "среднее значение 4.997690023099769\n"
     ]
    }
   ],
   "source": [
    "# найдем среднее и медальное значение столбца \n",
    "print('медиальное значение', df['tenure'].median())\n",
    "print('среднее значение', df['tenure'].mean())"
   ]
  },
  {
   "cell_type": "markdown",
   "metadata": {},
   "source": [
    "Значения средней и медиальной фактически равны, что говорит о отсутствии отдельно больших групп, особенно в малых годах или больших."
   ]
  },
  {
   "cell_type": "code",
   "execution_count": 11,
   "metadata": {
    "scrolled": true
   },
   "outputs": [
    {
     "name": "stdout",
     "output_type": "stream",
     "text": [
      "при tenure = 0 есть 382 абонентов\n",
      "при tenure = 1 есть 952 абонентов\n",
      "при tenure = 2 есть 950 абонентов\n",
      "при tenure = 3 есть 928 абонентов\n",
      "при tenure = 4 есть 885 абонентов\n",
      "при tenure = 5 есть 927 абонентов\n",
      "при tenure = 6 есть 881 абонентов\n",
      "при tenure = 7 есть 925 абонентов\n",
      "при tenure = 8 есть 933 абонентов\n",
      "при tenure = 9 есть 882 абонентов\n",
      "при tenure = 10 есть 446 абонентов\n"
     ]
    }
   ],
   "source": [
    "# найдем сколько в столбце tenure значений в каждой группе лет.\n",
    "for tenure in range(0, 11):   \n",
    "    print(f'при tenure = {tenure} есть {len(df.query(\"tenure == @tenure\"))} абонентов')"
   ]
  },
  {
   "cell_type": "code",
   "execution_count": 12,
   "metadata": {},
   "outputs": [
    {
     "name": "stdout",
     "output_type": "stream",
     "text": [
      "2\n"
     ]
    }
   ],
   "source": [
    "# найдем сколько строк с клиентами банка в возрасте 18, где не указан параметр tenure.\n",
    "print(df[df['age'] == 18]['age'].count() - df[df['age'] == 18]['tenure'].count())"
   ]
  },
  {
   "cell_type": "markdown",
   "metadata": {},
   "source": [
    "В каждой возрастной группе клиентов банка, скажем сопоставимые значения о количестве клиентов (скажем везде порядка 900). Заполнив данные средним значением, мы сильно изменим баланс, и мы исказиться картину. в категории 5 лет будет под 2000, а во всех остальных меньше 1000. Надо искать другие пути восстановления данных. Можно попробовать найти, например, через возраст. Но разброс значений столбца tenure маленький в отличии от столбца age (типа чем старше, тем скорее всего больше пользуешься банком).  Но если будет большая зависимость между двумя столбцами, то это говорит о мультиколлинеаорности факторов, и толку ноль, один столбец придется удалить. Исходя из логики, лицам которым 18, скорее всего в Tenure будет 0, а тем, кому 19, или 1 или 0. Тут уже можно неправильно заполнить данные. Тех кому 18 всего 2 человека из 909.  Думаю, что лучше удалить и оставить верные данные, чем заполнить непонятно чем и исказить. Хотя возможно nan образовался после обьединения таблиц напрмер методом merge, и часть данных была утерена. Могу преположить, что это были данные с нулями. Но нули в данных есть, значит это скорее всего всё-таки пропуски."
   ]
  },
  {
   "cell_type": "code",
   "execution_count": 13,
   "metadata": {},
   "outputs": [
    {
     "data": {
      "text/plain": [
       "row_number          0\n",
       "customer_id         0\n",
       "surname             0\n",
       "credit_score        0\n",
       "geography           0\n",
       "gender              0\n",
       "age                 0\n",
       "tenure              0\n",
       "balance             0\n",
       "num_of_products     0\n",
       "has_cr_card         0\n",
       "is_active_member    0\n",
       "estimated_salary    0\n",
       "exited              0\n",
       "dtype: int64"
      ]
     },
     "execution_count": 13,
     "metadata": {},
     "output_type": "execute_result"
    }
   ],
   "source": [
    "# удалим строки с пропусками\n",
    "df = df.dropna().reset_index(drop=True)\n",
    "\n",
    "# создадим функцию замены типа данных в int64 \n",
    "def int_64(columns):\n",
    "    for column in columns:\n",
    "        df[column] = df[column].astype('int64')\n",
    "int_64(['tenure'])\n",
    "df.isna().sum()"
   ]
  },
  {
   "cell_type": "code",
   "execution_count": 14,
   "metadata": {},
   "outputs": [
    {
     "data": {
      "text/plain": [
       "Germany    2293\n",
       "Spain      2248\n",
       "dtype: int64"
      ]
     },
     "execution_count": 14,
     "metadata": {},
     "output_type": "execute_result"
    }
   ],
   "source": [
    "# преобразуем колонку geography техникой OHE, избегая дамми-ловушку\n",
    "geography_ohe = pd.get_dummies(df['geography'], drop_first=True)\n",
    "# найдем количество клиентов по регионам\n",
    "geography_ohe.sum()"
   ]
  },
  {
   "cell_type": "markdown",
   "metadata": {},
   "source": [
    "Получается жителей из Германии и Испании практически одинаково, а жителей из Франции в двое больше. "
   ]
  },
  {
   "cell_type": "code",
   "execution_count": 15,
   "metadata": {},
   "outputs": [
    {
     "data": {
      "text/plain": [
       "row_number          0\n",
       "customer_id         0\n",
       "surname             0\n",
       "credit_score        0\n",
       "gender              0\n",
       "age                 0\n",
       "tenure              0\n",
       "balance             0\n",
       "num_of_products     0\n",
       "has_cr_card         0\n",
       "is_active_member    0\n",
       "estimated_salary    0\n",
       "exited              0\n",
       "Germany             0\n",
       "Spain               0\n",
       "dtype: int64"
      ]
     },
     "execution_count": 15,
     "metadata": {},
     "output_type": "execute_result"
    }
   ],
   "source": [
    "# удалим столбец geography\n",
    "df = df.drop('geography', axis=1)\n",
    "# добавим эти столбцы в таблицу\n",
    "for column in geography_ohe.columns:\n",
    "    df[column] = geography_ohe[column]\n",
    "df.isna().sum()"
   ]
  },
  {
   "cell_type": "code",
   "execution_count": 16,
   "metadata": {},
   "outputs": [
    {
     "data": {
      "text/plain": [
       "Male    4974\n",
       "dtype: int64"
      ]
     },
     "execution_count": 16,
     "metadata": {},
     "output_type": "execute_result"
    }
   ],
   "source": [
    "# преобразуем значения 'Female' 'Male' в столбце geography в 0 и 1\n",
    "# техникой OHE и при помощи удаления первого столбца\n",
    "gender_ohe = pd.get_dummies(df['gender'], drop_first=True)\n",
    "gender_ohe.sum()"
   ]
  },
  {
   "cell_type": "markdown",
   "metadata": {},
   "source": [
    "Тут мужчины и женщины находятся в соотношении 4 к 5, почти поровну."
   ]
  },
  {
   "cell_type": "code",
   "execution_count": 17,
   "metadata": {},
   "outputs": [],
   "source": [
    "# присвоим новые значение в столбец \n",
    "df['gender'] = gender_ohe"
   ]
  },
  {
   "cell_type": "code",
   "execution_count": 18,
   "metadata": {},
   "outputs": [
    {
     "name": "stdout",
     "output_type": "stream",
     "text": [
      "<class 'pandas.core.frame.DataFrame'>\n",
      "RangeIndex: 9091 entries, 0 to 9090\n",
      "Data columns (total 15 columns):\n",
      " #   Column            Non-Null Count  Dtype \n",
      "---  ------            --------------  ----- \n",
      " 0   row_number        9091 non-null   int64 \n",
      " 1   customer_id       9091 non-null   int64 \n",
      " 2   surname           9091 non-null   object\n",
      " 3   credit_score      9091 non-null   int64 \n",
      " 4   gender            9091 non-null   uint8 \n",
      " 5   age               9091 non-null   int64 \n",
      " 6   tenure            9091 non-null   int64 \n",
      " 7   balance           9091 non-null   int64 \n",
      " 8   num_of_products   9091 non-null   int64 \n",
      " 9   has_cr_card       9091 non-null   int64 \n",
      " 10  is_active_member  9091 non-null   int64 \n",
      " 11  estimated_salary  9091 non-null   int64 \n",
      " 12  exited            9091 non-null   int64 \n",
      " 13  Germany           9091 non-null   uint8 \n",
      " 14  Spain             9091 non-null   uint8 \n",
      "dtypes: int64(11), object(1), uint8(3)\n",
      "memory usage: 879.0+ KB\n"
     ]
    }
   ],
   "source": [
    "# проведем замену типа данных в столбцах balance, estimated_salary\n",
    "for column in ['balance', 'estimated_salary']:\n",
    "    df[column] = 100*df[column].astype('int64')\n",
    "df.info()"
   ]
  },
  {
   "cell_type": "code",
   "execution_count": 19,
   "metadata": {},
   "outputs": [],
   "source": [
    "# приведем названия столбцов Germany, Spain к нижнему регистру \n",
    "df.columns = df.columns.str.lower()"
   ]
  },
  {
   "cell_type": "code",
   "execution_count": 20,
   "metadata": {},
   "outputs": [],
   "source": [
    "# проведем замену типа данных в столбцах gender, germany, spain\n",
    "int_64(['gender', 'germany', 'spain'])"
   ]
  },
  {
   "cell_type": "markdown",
   "metadata": {},
   "source": [
    "Хотя возможно, этого можно было и не делать, а оставить тип данных uint8, он тоже вроде бы быстрый."
   ]
  },
  {
   "cell_type": "code",
   "execution_count": 21,
   "metadata": {
    "scrolled": false
   },
   "outputs": [
    {
     "name": "stdout",
     "output_type": "stream",
     "text": [
      "<class 'pandas.core.frame.DataFrame'>\n",
      "RangeIndex: 9091 entries, 0 to 9090\n",
      "Data columns (total 15 columns):\n",
      " #   Column            Non-Null Count  Dtype \n",
      "---  ------            --------------  ----- \n",
      " 0   row_number        9091 non-null   int64 \n",
      " 1   customer_id       9091 non-null   int64 \n",
      " 2   surname           9091 non-null   object\n",
      " 3   credit_score      9091 non-null   int64 \n",
      " 4   gender            9091 non-null   int64 \n",
      " 5   age               9091 non-null   int64 \n",
      " 6   tenure            9091 non-null   int64 \n",
      " 7   balance           9091 non-null   int64 \n",
      " 8   num_of_products   9091 non-null   int64 \n",
      " 9   has_cr_card       9091 non-null   int64 \n",
      " 10  is_active_member  9091 non-null   int64 \n",
      " 11  estimated_salary  9091 non-null   int64 \n",
      " 12  exited            9091 non-null   int64 \n",
      " 13  germany           9091 non-null   int64 \n",
      " 14  spain             9091 non-null   int64 \n",
      "dtypes: int64(14), object(1)\n",
      "memory usage: 1.0+ MB\n"
     ]
    }
   ],
   "source": [
    "df.info()"
   ]
  },
  {
   "cell_type": "markdown",
   "metadata": {},
   "source": [
    "В ходе подготовки данных мы:\n",
    "- привели название столбцов в соответствие со стилем \n",
    "- удалили пропуски\n",
    "- столбцы с цифровыми значения привели к типу данных int64\n",
    "- преобразовали столбец geography техникой OHE, избегая дамми-ловушку\n",
    "- в столбце gender заменили значения Female и Male, на 0 и 1\n",
    "- в столбце tenure удалили nan"
   ]
  },
  {
   "cell_type": "markdown",
   "metadata": {},
   "source": [
    "## Исследование задачи"
   ]
  },
  {
   "cell_type": "markdown",
   "metadata": {},
   "source": [
    "Для обучающего датафрейма, думаю такие столбцы как row_number, customer_id, surname включать не стоит. Они относятся к идентификации клиента и крайне маловероятно помогут решению задачи. Хотя теоретически, клиенты могут уходить с начала списка, или, например, с конца. Для этого необходимо будет перемешать значения.\n",
    "\n",
    "Также мне кажется возможно можно попробовать еще отделить часть признаков, не связанных с отношениями клиента и банка, такие как пол и место проживания. Оставить типа только признаки характеризующие отношения клиента и банка. \n",
    "\n",
    "По-хорошему, не мешало бы провести полноценное исследование, и узнать какие признаки больше всего влияют на целевой признак и потом используя только их обучить модель. Но, думаю, это не входит в рамки данного проекта. \n",
    "\n",
    "**Цель: необходимо спрогнозировать, уйдёт клиент из банка в ближайшее время или нет.**\n",
    "\n",
    "**Задача:**\n",
    "- Обучить модель без учёта дисбаланса.\n",
    "- Улучшите качество модели, учитывая дисбаланс классов.\n",
    "- Обучите разные модели и найти лучшую \n",
    "- Получить метрику F-1 минимум 0.59"
   ]
  },
  {
   "cell_type": "code",
   "execution_count": 22,
   "metadata": {
    "scrolled": false
   },
   "outputs": [
    {
     "data": {
      "text/html": [
       "<div>\n",
       "<style scoped>\n",
       "    .dataframe tbody tr th:only-of-type {\n",
       "        vertical-align: middle;\n",
       "    }\n",
       "\n",
       "    .dataframe tbody tr th {\n",
       "        vertical-align: top;\n",
       "    }\n",
       "\n",
       "    .dataframe thead th {\n",
       "        text-align: right;\n",
       "    }\n",
       "</style>\n",
       "<table border=\"1\" class=\"dataframe\">\n",
       "  <thead>\n",
       "    <tr style=\"text-align: right;\">\n",
       "      <th></th>\n",
       "      <th>credit_score</th>\n",
       "      <th>gender</th>\n",
       "      <th>age</th>\n",
       "      <th>tenure</th>\n",
       "      <th>balance</th>\n",
       "      <th>num_of_products</th>\n",
       "      <th>has_cr_card</th>\n",
       "      <th>is_active_member</th>\n",
       "      <th>estimated_salary</th>\n",
       "      <th>exited</th>\n",
       "      <th>germany</th>\n",
       "      <th>spain</th>\n",
       "    </tr>\n",
       "  </thead>\n",
       "  <tbody>\n",
       "    <tr>\n",
       "      <th>0</th>\n",
       "      <td>619</td>\n",
       "      <td>0</td>\n",
       "      <td>42</td>\n",
       "      <td>2</td>\n",
       "      <td>0</td>\n",
       "      <td>1</td>\n",
       "      <td>1</td>\n",
       "      <td>1</td>\n",
       "      <td>10134800</td>\n",
       "      <td>1</td>\n",
       "      <td>0</td>\n",
       "      <td>0</td>\n",
       "    </tr>\n",
       "    <tr>\n",
       "      <th>1</th>\n",
       "      <td>608</td>\n",
       "      <td>0</td>\n",
       "      <td>41</td>\n",
       "      <td>1</td>\n",
       "      <td>8380700</td>\n",
       "      <td>1</td>\n",
       "      <td>0</td>\n",
       "      <td>1</td>\n",
       "      <td>11254200</td>\n",
       "      <td>0</td>\n",
       "      <td>0</td>\n",
       "      <td>1</td>\n",
       "    </tr>\n",
       "    <tr>\n",
       "      <th>2</th>\n",
       "      <td>502</td>\n",
       "      <td>0</td>\n",
       "      <td>42</td>\n",
       "      <td>8</td>\n",
       "      <td>15966000</td>\n",
       "      <td>3</td>\n",
       "      <td>1</td>\n",
       "      <td>0</td>\n",
       "      <td>11393100</td>\n",
       "      <td>1</td>\n",
       "      <td>0</td>\n",
       "      <td>0</td>\n",
       "    </tr>\n",
       "    <tr>\n",
       "      <th>3</th>\n",
       "      <td>699</td>\n",
       "      <td>0</td>\n",
       "      <td>39</td>\n",
       "      <td>1</td>\n",
       "      <td>0</td>\n",
       "      <td>2</td>\n",
       "      <td>0</td>\n",
       "      <td>0</td>\n",
       "      <td>9382600</td>\n",
       "      <td>0</td>\n",
       "      <td>0</td>\n",
       "      <td>0</td>\n",
       "    </tr>\n",
       "    <tr>\n",
       "      <th>4</th>\n",
       "      <td>850</td>\n",
       "      <td>0</td>\n",
       "      <td>43</td>\n",
       "      <td>2</td>\n",
       "      <td>12551000</td>\n",
       "      <td>1</td>\n",
       "      <td>1</td>\n",
       "      <td>1</td>\n",
       "      <td>7908400</td>\n",
       "      <td>0</td>\n",
       "      <td>0</td>\n",
       "      <td>1</td>\n",
       "    </tr>\n",
       "    <tr>\n",
       "      <th>...</th>\n",
       "      <td>...</td>\n",
       "      <td>...</td>\n",
       "      <td>...</td>\n",
       "      <td>...</td>\n",
       "      <td>...</td>\n",
       "      <td>...</td>\n",
       "      <td>...</td>\n",
       "      <td>...</td>\n",
       "      <td>...</td>\n",
       "      <td>...</td>\n",
       "      <td>...</td>\n",
       "      <td>...</td>\n",
       "    </tr>\n",
       "    <tr>\n",
       "      <th>9086</th>\n",
       "      <td>800</td>\n",
       "      <td>0</td>\n",
       "      <td>29</td>\n",
       "      <td>2</td>\n",
       "      <td>0</td>\n",
       "      <td>2</td>\n",
       "      <td>0</td>\n",
       "      <td>0</td>\n",
       "      <td>16777300</td>\n",
       "      <td>0</td>\n",
       "      <td>0</td>\n",
       "      <td>0</td>\n",
       "    </tr>\n",
       "    <tr>\n",
       "      <th>9087</th>\n",
       "      <td>771</td>\n",
       "      <td>1</td>\n",
       "      <td>39</td>\n",
       "      <td>5</td>\n",
       "      <td>0</td>\n",
       "      <td>2</td>\n",
       "      <td>1</td>\n",
       "      <td>0</td>\n",
       "      <td>9627000</td>\n",
       "      <td>0</td>\n",
       "      <td>0</td>\n",
       "      <td>0</td>\n",
       "    </tr>\n",
       "    <tr>\n",
       "      <th>9088</th>\n",
       "      <td>516</td>\n",
       "      <td>1</td>\n",
       "      <td>35</td>\n",
       "      <td>10</td>\n",
       "      <td>5736900</td>\n",
       "      <td>1</td>\n",
       "      <td>1</td>\n",
       "      <td>1</td>\n",
       "      <td>10169900</td>\n",
       "      <td>0</td>\n",
       "      <td>0</td>\n",
       "      <td>0</td>\n",
       "    </tr>\n",
       "    <tr>\n",
       "      <th>9089</th>\n",
       "      <td>709</td>\n",
       "      <td>0</td>\n",
       "      <td>36</td>\n",
       "      <td>7</td>\n",
       "      <td>0</td>\n",
       "      <td>1</td>\n",
       "      <td>0</td>\n",
       "      <td>1</td>\n",
       "      <td>4208500</td>\n",
       "      <td>1</td>\n",
       "      <td>0</td>\n",
       "      <td>0</td>\n",
       "    </tr>\n",
       "    <tr>\n",
       "      <th>9090</th>\n",
       "      <td>772</td>\n",
       "      <td>1</td>\n",
       "      <td>42</td>\n",
       "      <td>3</td>\n",
       "      <td>7507500</td>\n",
       "      <td>2</td>\n",
       "      <td>1</td>\n",
       "      <td>0</td>\n",
       "      <td>9288800</td>\n",
       "      <td>1</td>\n",
       "      <td>1</td>\n",
       "      <td>0</td>\n",
       "    </tr>\n",
       "  </tbody>\n",
       "</table>\n",
       "<p>9091 rows × 12 columns</p>\n",
       "</div>"
      ],
      "text/plain": [
       "      credit_score  gender  age  tenure   balance  num_of_products  \\\n",
       "0              619       0   42       2         0                1   \n",
       "1              608       0   41       1   8380700                1   \n",
       "2              502       0   42       8  15966000                3   \n",
       "3              699       0   39       1         0                2   \n",
       "4              850       0   43       2  12551000                1   \n",
       "...            ...     ...  ...     ...       ...              ...   \n",
       "9086           800       0   29       2         0                2   \n",
       "9087           771       1   39       5         0                2   \n",
       "9088           516       1   35      10   5736900                1   \n",
       "9089           709       0   36       7         0                1   \n",
       "9090           772       1   42       3   7507500                2   \n",
       "\n",
       "      has_cr_card  is_active_member  estimated_salary  exited  germany  spain  \n",
       "0               1                 1          10134800       1        0      0  \n",
       "1               0                 1          11254200       0        0      1  \n",
       "2               1                 0          11393100       1        0      0  \n",
       "3               0                 0           9382600       0        0      0  \n",
       "4               1                 1           7908400       0        0      1  \n",
       "...           ...               ...               ...     ...      ...    ...  \n",
       "9086            0                 0          16777300       0        0      0  \n",
       "9087            1                 0           9627000       0        0      0  \n",
       "9088            1                 1          10169900       0        0      0  \n",
       "9089            0                 1           4208500       1        0      0  \n",
       "9090            1                 0           9288800       1        1      0  \n",
       "\n",
       "[9091 rows x 12 columns]"
      ]
     },
     "execution_count": 22,
     "metadata": {},
     "output_type": "execute_result"
    }
   ],
   "source": [
    "# удалим столбцы с ненужными признаками\n",
    "df = df.drop(['row_number', 'customer_id', 'surname'], axis=1) #\n",
    "df"
   ]
  },
  {
   "cell_type": "markdown",
   "metadata": {},
   "source": [
    "Найдем границы выбросов для каждого столбца c нормальным распределением данных, бинарные столбцы брать не будем."
   ]
  },
  {
   "cell_type": "code",
   "execution_count": 23,
   "metadata": {},
   "outputs": [],
   "source": [
    "# выделим столбцы с не бинарными данными\n",
    "ejection_columns = ['credit_score', 'age',  'tenure', 'balance', 'estimated_salary']"
   ]
  },
  {
   "cell_type": "code",
   "execution_count": 24,
   "metadata": {
    "scrolled": true
   },
   "outputs": [
    {
     "name": "stdout",
     "output_type": "stream",
     "text": [
      "Для столбца credit_score:\n",
      "                  левая гранциа = 384.5\n",
      "                  правая граница = 850.0\n",
      "Для столбца age:\n",
      "                  левая гранциа = 18.0\n",
      "                  правая граница = 62.0\n",
      "Для столбца tenure:\n",
      "                  левая гранциа = 0.0\n",
      "                  правая граница = 10.0\n",
      "Для столбца balance:\n",
      "                  левая гранциа = 0.0\n",
      "                  правая граница = 25089800.0\n",
      "Для столбца estimated_salary:\n",
      "                  левая гранциа = 1100.0\n",
      "                  правая граница = 19999200.0\n"
     ]
    }
   ],
   "source": [
    "# будем хранить значения левых и правых границ в соответсвующих списках\n",
    "left_restrictions = []\n",
    "right_restrictions = []\n",
    "# объявим счетчик индексов\n",
    "i = 0\n",
    "# найдем размахи усов для столбцов\n",
    "for column in ejection_columns:\n",
    "    df_ = pd.DataFrame()\n",
    "    df_[column] = df[column].sort_values()\n",
    "    # создадим новые инексы\n",
    "    df_ = df_.reset_index(drop=True)\n",
    "    # найдем Q1 и Q3 \n",
    "    Q1 = df_.loc[int(round((len(df_)-1)/4)), column]\n",
    "    Q3 = df_.loc[int(round((len(df_)-1)*3/4)), column]\n",
    "    # найдем лево и правое отклонение \"усов\"\n",
    "    left = Q1-(Q3-Q1)*1.5\n",
    "    right = Q3+(Q3-Q1)*1.5\n",
    "    # если отклонение выйдет за границы размерности, то присвоим значение граничного значения\n",
    "    if left < float(df_[column].min()):\n",
    "        left = float(df_[column].min())\n",
    "    if right > float(df_[column].max()):\n",
    "        right = float(df_[column].max())\n",
    "    left_restrictions.append(left)\n",
    "    right_restrictions.append(right)\n",
    "    print(f'''Для столбца {column}:\n",
    "                  левая гранциа = {left_restrictions[i]}\n",
    "                  правая граница = {right_restrictions[i]}''')\n",
    "    i += 1"
   ]
  },
  {
   "cell_type": "markdown",
   "metadata": {},
   "source": [
    "Удалим выбросы "
   ]
  },
  {
   "cell_type": "code",
   "execution_count": 25,
   "metadata": {
    "scrolled": true
   },
   "outputs": [
    {
     "data": {
      "text/plain": [
       "8755"
      ]
     },
     "execution_count": 25,
     "metadata": {},
     "output_type": "execute_result"
    }
   ],
   "source": [
    "# так как левый минимум равен минимальным значениям, то удалим строки, которые превышают правый\n",
    "j = 0\n",
    "for column in ejection_columns:\n",
    "    df = df.loc[df[column] <= right_restrictions[j]]\n",
    "    j += 1\n",
    "# создадим новые индексы\n",
    "#df = df.reset_index(drop=True)\n",
    "# узнаем длину нового датафрейма\n",
    "len(df)"
   ]
  },
  {
   "cell_type": "markdown",
   "metadata": {},
   "source": [
    "Ушло всего 336 значений. Удалим их."
   ]
  },
  {
   "cell_type": "markdown",
   "metadata": {},
   "source": [
    "Обучим модели сначала исходными данными. Но перед этим перемешаем значеия. "
   ]
  },
  {
   "cell_type": "code",
   "execution_count": 26,
   "metadata": {},
   "outputs": [],
   "source": [
    "# перемешаем значения, чтобы более равномерно распределить нули и единицы \n",
    "# целевого признака по обучающий, валидационной и тестовой выборке \n",
    "df_shuffle = shuffle(df, random_state=12345)"
   ]
  },
  {
   "cell_type": "code",
   "execution_count": 27,
   "metadata": {
    "scrolled": true
   },
   "outputs": [
    {
     "name": "stdout",
     "output_type": "stream",
     "text": [
      "(5253, 12)\n",
      "(1751, 12)\n",
      "(1751, 12)\n"
     ]
    }
   ],
   "source": [
    "# разобьем данные на обучающую, валидационную и тестовую выборку в соотношении 3:1:1 соответственно\n",
    "df_train, df_validate, df_test = np.split(df_shuffle, [int(.6*len(df)), int(.80*len(df_shuffle))])\n",
    "train_features = df_train.drop('exited', axis=1)\n",
    "train_target = df_train['exited']\n",
    "validate_features = df_validate.drop('exited', axis=1) \n",
    "validate_target = df_validate['exited']\n",
    "test_features = df_test.drop('exited', axis=1)\n",
    "test_target = df_test['exited']\n",
    "# проверим длину выборок\n",
    "print(df_train.shape)\n",
    "print(df_validate.shape)\n",
    "print(df_test.shape)"
   ]
  },
  {
   "cell_type": "code",
   "execution_count": 28,
   "metadata": {},
   "outputs": [],
   "source": [
    "# создадим функции моделей дерева решений, случайного леса и логической регрессии\n",
    "def tree_model(value_hyperparameter):\n",
    "    return DecisionTreeClassifier (random_state=12345, max_depth=value_hyperparameter)\n",
    "\n",
    "def forest_model(value_hyperparameter):\n",
    "    return RandomForestClassifier(random_state=12345, n_estimators=value_hyperparameter*25)\n",
    "\n",
    "def regression_model(value_hyperparameter):\n",
    "    return LogisticRegression(random_state=12345, max_iter=value_hyperparameter*50)"
   ]
  },
  {
   "cell_type": "code",
   "execution_count": 29,
   "metadata": {},
   "outputs": [],
   "source": [
    "# создадим функцию обучения модели и найдем лучшие значения f1\n",
    "def good_model(func, name_model, name_gyper):\n",
    "    # так как исходя из описания проекта  f1 необходимо довести \n",
    "    # по крайней мере до 0.59, то создадим переменную \n",
    "    # которая будет хранить искомое значение (f1)\n",
    "    f1 = 0.59\n",
    "    # а также список в котором будем хранить данные гиперпараметра и значение соответствующие ему значение f1\n",
    "    first_excess = []\n",
    "    \n",
    "    # Еще создадим переменные хранящие максимальное значение f1\n",
    "    # максимального значения гиперпараметра и подсчета количества неправильных обучений подряд\n",
    "    f1_max = 0\n",
    "    f1_auc_roc = 0\n",
    "    auc_roc_max = 0 \n",
    "    auc_roc_f1 = 0\n",
    "    \n",
    "    value_hyperparameter = 1\n",
    "    f1_hyperparameter = 1\n",
    "    auc_roc_hyperparameter = 1\n",
    "    fail = 0\n",
    "    \n",
    "    repeats = 0\n",
    "    \n",
    "    # Для наглядности изменений точности предсказаний от изменения значения гиперпараметра построим график\n",
    "    # для этого очитсим списки в которых будем хранить необходимые значения\n",
    "    x_hyper = []\n",
    "    y_f1 = []\n",
    "    y_auc_roc = []\n",
    "    \n",
    "    # если количество провалов подряд больше 10, то закончим обучение модели \n",
    "    while fail < 11 and repeats < 50: \n",
    "        model = func(value_hyperparameter)\n",
    "        model.fit(train_features, train_target)\n",
    "        answers = model.predict(validate_features)\n",
    "        \n",
    "        # найдем значение F1\n",
    "        f1_accuracy = f1_score(validate_target, answers) \n",
    "        x_hyper.append(value_hyperparameter)\n",
    "        y_f1.append(f1_accuracy)\n",
    "        \n",
    "        # найдем площадь под AUC-ROC кривой \n",
    "        probabilities_valid = model.predict_proba(validate_features)\n",
    "        probabilities_one_valid = probabilities_valid[:, 1]\n",
    "        auc_roc = roc_auc_score(validate_target, probabilities_one_valid)\n",
    "        y_auc_roc.append(auc_roc)\n",
    "        \n",
    "        # найдем максимальное значение f1\n",
    "        if f1_accuracy > f1_max:\n",
    "            f1_max = f1_accuracy\n",
    "            f1_hyperparameter = value_hyperparameter\n",
    "            f1_auc_roc = auc_roc\n",
    "            # так как обучение удачное, то обнулим счетчик провалов\n",
    "            fail = 0\n",
    "        # если обучение хуже максимума, то добавим значение в количество провалов подряд         \n",
    "        else:\n",
    "            fail += 1\n",
    "        \n",
    "        # найдем максимальное значение AUC-ROC\n",
    "        if auc_roc >= auc_roc_max:\n",
    "            auc_roc_max = auc_roc\n",
    "            auc_roc_f1 = f1_accuracy\n",
    "            auc_roc_hyperparameter = value_hyperparameter\n",
    "            \n",
    "        value_hyperparameter +=1   \n",
    "        repeats += 1\n",
    "    # построим график \n",
    "    plt.plot(x_hyper,y_f1)\n",
    "    plt.plot(x_hyper,y_auc_roc)\n",
    "    plt.legend(('F1', 'AUC-ROC'), loc='center right', shadow=True)\n",
    "    plt.suptitle(f'График доли правильных ответов \\n для модели \"{name_model}\"', fontsize=14, fontweight=\"bold\")\n",
    "    plt.xlabel(f'Значение гиперпараметра \"{name_gyper}\"', fontsize=14)    \n",
    "    plt.ylabel('Значение', fontsize=14)   \n",
    "    \n",
    "    # Выведем максимальное значение f1 и соответствующие ему значение гиперпараметра и AUC-ROC\n",
    "    print(f'''\n",
    "             При максимальном значении f1 = {f1_max} \n",
    "                    гиперпараметр = {f1_hyperparameter}\n",
    "                    AUC-ROC = {f1_auc_roc}\n",
    "                    \n",
    "             При максимальном значении AUC-ROC = {auc_roc_max} \n",
    "                    гиперпараметр = {auc_roc_hyperparameter}\n",
    "                    f1 = {auc_roc_f1}       \n",
    "                    ''')\n",
    "    return y_f1, y_auc_roc"
   ]
  },
  {
   "cell_type": "markdown",
   "metadata": {},
   "source": [
    "*P.s.*\n",
    "- *Вывод первого значения меннее 0.59, сделан из расчета, что, если мол стоит задача добиться 0.59 на самой быстрой модели, то самая быстрая модель, будет та, у которой минимальные значения гиперпараметра.*\n",
    "- *Максимальное ограничение не вводил, так как мы сравниваем не с предыдущим ходом, а с максимальным значением. Плюс мне кажется, что модель рано или поздно переучится и значение упадет.*"
   ]
  },
  {
   "cell_type": "code",
   "execution_count": 30,
   "metadata": {},
   "outputs": [],
   "source": [
    "# создадим функцию которая выведет коэффициент Пирсона и построит диаграмму рассеяния\n",
    "def pirson(y_f1, y_auc_roc):  \n",
    "    plt.scatter(y_f1, y_auc_roc)\n",
    "    plt.suptitle('График зависимости f1 и AUC-ROC', fontsize=14)\n",
    "    plt.xlabel('f1', fontsize=14)\n",
    "    plt.ylabel('AUC-ROC', fontsize=14)\n",
    "    y_f1 = pd.DataFrame(y_f1)\n",
    "    y_auc_roc = pd.DataFrame(y_auc_roc)\n",
    "    print('Коэффициент Пирсона =', y_f1[0].corr(y_auc_roc[0]))"
   ]
  },
  {
   "cell_type": "code",
   "execution_count": 31,
   "metadata": {},
   "outputs": [],
   "source": [
    "# произведем масштабирование признаков\n",
    "scaler = StandardScaler()\n",
    "scaler.fit(train_features) \n",
    "train_features = pd.DataFrame(scaler.transform(train_features), index=train_features.index, columns=train_features.columns)\n",
    "validate_features = pd.DataFrame(scaler.transform(validate_features), index=validate_features.index, columns=validate_features.columns)\n",
    "test_features = pd.DataFrame(scaler.transform(test_features), index=test_features.index, columns=test_features.columns)"
   ]
  },
  {
   "cell_type": "markdown",
   "metadata": {},
   "source": [
    "Oбучим модели данных без учета дисбаланса, а потом с учетом."
   ]
  },
  {
   "cell_type": "code",
   "execution_count": 32,
   "metadata": {
    "scrolled": false
   },
   "outputs": [
    {
     "name": "stdout",
     "output_type": "stream",
     "text": [
      "\n",
      "             При максимальном значении f1 = 0.5834738617200674 \n",
      "                    гиперпараметр = 7\n",
      "                    AUC-ROC = 0.8265857275478341\n",
      "                    \n",
      "             При максимальном значении AUC-ROC = 0.8505308866731772 \n",
      "                    гиперпараметр = 5\n",
      "                    f1 = 0.54014598540146       \n",
      "                    \n"
     ]
    },
    {
     "data": {
      "image/png": "[encoded data removed]",
      "text/plain": [
       "<Figure size 432x288 with 1 Axes>"
      ]
     },
     "metadata": {
      "needs_background": "light"
     },
     "output_type": "display_data"
    }
   ],
   "source": [
    "# Выведем первое превышение значения f1 выше 0,59 и максимальное значение f1\n",
    "# в ходе теста до 5-ти неудач для модели Дерево решений\n",
    "y_f1, y_auc_roc = good_model(tree_model, \"Дерево решений\", \"max_depth\")"
   ]
  },
  {
   "cell_type": "code",
   "execution_count": 33,
   "metadata": {
    "scrolled": false
   },
   "outputs": [
    {
     "name": "stdout",
     "output_type": "stream",
     "text": [
      "Коэффициент Пирсона = 0.23419034092368562\n"
     ]
    },
    {
     "data": {
      "image/png": "[encoded data removed]",
      "text/plain": [
       "<Figure size 432x288 with 1 Axes>"
      ]
     },
     "metadata": {
      "needs_background": "light"
     },
     "output_type": "display_data"
    }
   ],
   "source": [
    "# найдем зависимость между f1 и AUC-ROC и построит диаграмму рассеяния для \n",
    "pirson(y_f1, y_auc_roc)"
   ]
  },
  {
   "cell_type": "markdown",
   "metadata": {},
   "source": [
    "Как видно из графика при одинаковых (очень близких) значениях F1 имеются разные значения AUC-ROC, о чем и говорит низкий коэффициент корреляции. Но, если внимательно посмотреть на график правильных ответов, то можно заметить подобие линий, и повторение очертаний, особенно после значения глубины дерева 7. До этого момента зависимость очень слабая. \n",
    "При максимальном значении метрики f1 значение AUC-ROC меньше максимального на 2,8%. "
   ]
  },
  {
   "cell_type": "code",
   "execution_count": 34,
   "metadata": {
    "scrolled": false
   },
   "outputs": [
    {
     "name": "stdout",
     "output_type": "stream",
     "text": [
      "\n",
      "             При максимальном значении f1 = 0.5777777777777778 \n",
      "                    гиперпараметр = 4\n",
      "                    AUC-ROC = 0.8512773832632049\n",
      "                    \n",
      "             При максимальном значении AUC-ROC = 0.8551414827049901 \n",
      "                    гиперпараметр = 8\n",
      "                    f1 = 0.5595854922279793       \n",
      "                    \n"
     ]
    },
    {
     "data": {
      "image/png": "[encoded data removed]",
      "text/plain": [
       "<Figure size 432x288 with 1 Axes>"
      ]
     },
     "metadata": {
      "needs_background": "light"
     },
     "output_type": "display_data"
    }
   ],
   "source": [
    "# Выведем первое превышение значения f1 выше 0,59 и максимальное значение f1\n",
    "# в ходе теста до 5-ти неудач для модели Случайный лес\n",
    "y_f1, y_auc_roc = good_model(forest_model,\"Случайный лес\", \"n_estimators * 25\")"
   ]
  },
  {
   "cell_type": "code",
   "execution_count": 35,
   "metadata": {
    "scrolled": false
   },
   "outputs": [
    {
     "name": "stdout",
     "output_type": "stream",
     "text": [
      "Коэффициент Пирсона = 0.3844379641039225\n"
     ]
    },
    {
     "data": {
      "image/png": "[encoded data removed]",
      "text/plain": [
       "<Figure size 432x288 with 1 Axes>"
      ]
     },
     "metadata": {
      "needs_background": "light"
     },
     "output_type": "display_data"
    }
   ],
   "source": [
    "# найдем зависимость между f1 и AUC-ROC и построит диаграмму рассеяния для \n",
    "pirson(y_f1, y_auc_roc)"
   ]
  },
  {
   "cell_type": "markdown",
   "metadata": {},
   "source": [
    "Практически аналогично как для предыдущей модели, линейная зависимость слабя, при одинаковых значениях f1 заметно разное AUC-ROC и наоборот, при схожих значениях AUC-ROC, совсем не схожие значения f1. \n",
    "При максимальном значении f1 значение AUC-ROC меньше на 0.45% от максимального AUC-ROC"
   ]
  },
  {
   "cell_type": "code",
   "execution_count": 36,
   "metadata": {
    "scrolled": false
   },
   "outputs": [
    {
     "name": "stdout",
     "output_type": "stream",
     "text": [
      "\n",
      "             При максимальном значении f1 = 0.4293785310734463 \n",
      "                    гиперпараметр = 1\n",
      "                    AUC-ROC = 0.8084769058268932\n",
      "                    \n",
      "             При максимальном значении AUC-ROC = 0.8084769058268932 \n",
      "                    гиперпараметр = 12\n",
      "                    f1 = 0.4293785310734463       \n",
      "                    \n"
     ]
    },
    {
     "data": {
      "image/png": "[encoded data removed]",
      "text/plain": [
       "<Figure size 432x288 with 1 Axes>"
      ]
     },
     "metadata": {
      "needs_background": "light"
     },
     "output_type": "display_data"
    }
   ],
   "source": [
    "# Выведем первое превышение значения f1 выше 0,59 и максимальное значение f1\n",
    "# в ходе теста до 5-ти неудач для модели Линейная регрессия \n",
    "y_f1, y_auc_roc = good_model(regression_model, \"Линейная регрессия\", \"max_iter * 50\")"
   ]
  },
  {
   "cell_type": "code",
   "execution_count": 37,
   "metadata": {
    "scrolled": false
   },
   "outputs": [
    {
     "name": "stdout",
     "output_type": "stream",
     "text": [
      "Коэффициент Пирсона = nan\n"
     ]
    },
    {
     "data": {
      "image/png": "[encoded data removed]",
      "text/plain": [
       "<Figure size 432x288 with 1 Axes>"
      ]
     },
     "metadata": {
      "needs_background": "light"
     },
     "output_type": "display_data"
    }
   ],
   "source": [
    "# найдем зависимость между f1 и AUC-ROC и построит диаграмму рассеяния для \n",
    "pirson(y_f1, y_auc_roc)"
   ]
  },
  {
   "cell_type": "markdown",
   "metadata": {},
   "source": [
    "Тут тяжел что сказать, так как значения f1 и AUC-ROC не менялись от изменения гиперпараметра."
   ]
  },
  {
   "cell_type": "markdown",
   "metadata": {},
   "source": [
    "Возьмём модели только дерева решений и случайного леса. Логическую регрессию брать не будем, она не подходит для решения нашей задачи"
   ]
  },
  {
   "cell_type": "markdown",
   "metadata": {},
   "source": [
    "Лучше всего в данный момент проявила себя модель дерева решений."
   ]
  },
  {
   "cell_type": "markdown",
   "metadata": {},
   "source": [
    "## Борьба с дисбалансом"
   ]
  },
  {
   "cell_type": "code",
   "execution_count": 38,
   "metadata": {},
   "outputs": [],
   "source": [
    "def f1_auc_roc(func, train_features, train_target):\n",
    "    f1_max = 0     \n",
    "    f1_auc_roc = 0 \n",
    "    fail = 0\n",
    "    value_hyperparameter = 1\n",
    "    good_value_hyperparameter = 1\n",
    "    repeats = 0\n",
    "    while fail < 11 and repeats < 50: \n",
    "        model = func(value_hyperparameter)\n",
    "        model.fit(train_features, train_target)\n",
    "        \n",
    "        # найдем значение f1\n",
    "        answers = model.predict(validate_features)\n",
    "        f1 = f1_score(validate_target, answers)\n",
    "              \n",
    "        # найдем площадь под AUC-ROC кривой \n",
    "        probabilities_valid = model.predict_proba(validate_features)\n",
    "        probabilities_one_valid = probabilities_valid[:, 1]\n",
    "        auc_roc = roc_auc_score(validate_target, probabilities_one_valid)\n",
    "        \n",
    "        # найдем максимальное значение f1 и соответствующее значение AUC-ROC\n",
    "        if f1 > f1_max:\n",
    "            f1_max = f1\n",
    "            f1_auc_roc = auc_roc\n",
    "            good_value_hyperparameter = value_hyperparameter\n",
    "            fail = 0\n",
    "        else:\n",
    "            fail += 1\n",
    "            \n",
    "        value_hyperparameter += 1\n",
    "        repeats += 1\n",
    "    return f1_max, f1_auc_roc, good_value_hyperparameter"
   ]
  },
  {
   "cell_type": "code",
   "execution_count": 39,
   "metadata": {
    "scrolled": false
   },
   "outputs": [],
   "source": [
    "def max_f1(train_features, train_target):\n",
    "    # Выведем  максимальное значения f1 и auc_roc дерева решений\n",
    "    f1, auc_roc, hyperparameter = f1_auc_roc(tree_model, train_features, train_target)\n",
    "    print('\\033[1mДерево решений\\033[0m')\n",
    "    print(f'С лучшей глубиной дерева {hyperparameter}')\n",
    "    print(f'достигли:')\n",
    "    print(f'         f1 = {f1}')\n",
    "    print(f'         AUC-ROC = {auc_roc}')\n",
    "    print()\n",
    "    # Выведем  максимальное значения f1 и auc_roc случайного леса\n",
    "    f1, auc_roc, hyperparameter = f1_auc_roc(forest_model, train_features, train_target)\n",
    "    print('\\033[1mСлучайный лес\\033[0m')\n",
    "    print(f'С лучшим количеством оценщиков {hyperparameter*25}')\n",
    "    print(f'достигли:')\n",
    "    print(f'         f1 = {f1}')\n",
    "    print(f'         AUC-ROC = {auc_roc}')"
   ]
  },
  {
   "cell_type": "markdown",
   "metadata": {},
   "source": [
    "### Взвешивание классов"
   ]
  },
  {
   "cell_type": "code",
   "execution_count": 40,
   "metadata": {
    "scrolled": true
   },
   "outputs": [
    {
     "name": "stdout",
     "output_type": "stream",
     "text": [
      "Покинуло 1787\n",
      "Остались клиентами 6968\n"
     ]
    }
   ],
   "source": [
    "# и количество клиентов которые покинули банк\n",
    "print('Покинуло', len(df[df['exited'] == 1]))\n",
    "# найдем количество клиентов, которые остались клиентами банка \n",
    "print('Остались клиентами', len(df[df['exited'] == 0]))"
   ]
  },
  {
   "cell_type": "markdown",
   "metadata": {},
   "source": [
    "Как видно, клиентов, которые покинули банк порядка 4 раз меньше чем тех, кто остался."
   ]
  },
  {
   "cell_type": "markdown",
   "metadata": {},
   "source": [
    "#### Увеличение выборки"
   ]
  },
  {
   "cell_type": "code",
   "execution_count": 41,
   "metadata": {},
   "outputs": [],
   "source": [
    "# разобьем выборки на положительные и отрицательные\n",
    "features_ones = train_features[train_target==1]\n",
    "features_zeros = train_features[train_target==0]\n",
    "train_ones = train_target[train_target==1]\n",
    "train_zeros = train_target[train_target==0]\n",
    "\n",
    "# увеличим количество значений ухода в 4 раза\n",
    "up_train_features = pd.concat([features_zeros] + [features_ones] * 4)\n",
    "up_train_target = pd.concat([train_zeros] + [train_ones] * 4)\n",
    "up_train_features, up_train_target = shuffle(up_train_features, up_train_target, random_state=12345)"
   ]
  },
  {
   "cell_type": "code",
   "execution_count": 42,
   "metadata": {
    "scrolled": true
   },
   "outputs": [
    {
     "name": "stdout",
     "output_type": "stream",
     "text": [
      "\u001b[1mДерево решений\u001b[0m\n",
      "С лучшей глубиной дерева 4\n",
      "достигли:\n",
      "         f1 = 0.5795574288724973\n",
      "         AUC-ROC = 0.8400538120556688\n",
      "\n",
      "\u001b[1mСлучайный лес\u001b[0m\n",
      "С лучшим количеством оценщиков 300\n",
      "достигли:\n",
      "         f1 = 0.5848484848484848\n",
      "         AUC-ROC = 0.8477970815298861\n"
     ]
    }
   ],
   "source": [
    "# посмотрим, как отобразится на обучении увеличение выборки\n",
    "max_f1(up_train_features, up_train_target)"
   ]
  },
  {
   "cell_type": "markdown",
   "metadata": {},
   "source": [
    "Модель дерева решений после масштабирования потеряла 0,4%, а случайный лес добавила 0.7% точности, но все еще не хватает до отметки в 0,59. "
   ]
  },
  {
   "cell_type": "markdown",
   "metadata": {},
   "source": [
    "#### Уменьшение выборки"
   ]
  },
  {
   "cell_type": "code",
   "execution_count": 43,
   "metadata": {},
   "outputs": [],
   "source": [
    "# уменьшим количество значений ухода в 4 раза\n",
    "down_train_features = pd.concat([features_zeros.sample(frac=0.25, random_state=12345)] + [features_ones])\n",
    "down_train_target = pd.concat([train_zeros.sample(frac=0.25, random_state=12345)] + [train_ones])\n",
    "down_train_features, down_train_target = shuffle(down_train_features, down_train_target, random_state=12345)"
   ]
  },
  {
   "cell_type": "code",
   "execution_count": 44,
   "metadata": {
    "scrolled": true
   },
   "outputs": [
    {
     "name": "stdout",
     "output_type": "stream",
     "text": [
      "\u001b[1mДерево решений\u001b[0m\n",
      "С лучшей глубиной дерева 4\n",
      "достигли:\n",
      "         f1 = 0.5806451612903226\n",
      "         AUC-ROC = 0.8198853429463607\n",
      "\n",
      "\u001b[1mСлучайный лес\u001b[0m\n",
      "С лучшим количеством оценщиков 200\n",
      "достигли:\n",
      "         f1 = 0.5922746781115881\n",
      "         AUC-ROC = 0.8520871763339481\n"
     ]
    }
   ],
   "source": [
    "# посмотрим, как отобразится на обучении уменьшение выборки\n",
    "max_f1(down_train_features, down_train_target)"
   ]
  },
  {
   "cell_type": "markdown",
   "metadata": {},
   "source": [
    "Модель дерева решений после уменьшения выборки потеряло 0,28% , случайный лес добавил 1.5% точности, и наконец барьер в 0.59 был преодолен."
   ]
  },
  {
   "cell_type": "markdown",
   "metadata": {},
   "source": [
    "#### Уменьшение и увеличение выборок (импровизация)"
   ]
  },
  {
   "cell_type": "code",
   "execution_count": 45,
   "metadata": {},
   "outputs": [],
   "source": [
    "# увеличим количество значений ухода в 2 раза, а количество тех, кто остался уменьшим в 2 раза\n",
    "ud_train_features = pd.concat([features_zeros.sample(frac=0.5, random_state=12345)] + [features_ones]*2)\n",
    "ud_train_target = pd.concat([train_zeros.sample(frac=0.5, random_state=12345)] + [train_ones]*2)\n",
    "ud_train_features, ud_train_target = shuffle(ud_train_features, ud_train_target, random_state=12345)#6296257"
   ]
  },
  {
   "cell_type": "code",
   "execution_count": 46,
   "metadata": {
    "scrolled": true
   },
   "outputs": [
    {
     "name": "stdout",
     "output_type": "stream",
     "text": [
      "\u001b[1mДерево решений\u001b[0m\n",
      "С лучшей глубиной дерева 7\n",
      "достигли:\n",
      "         f1 = 0.5866050808314088\n",
      "         AUC-ROC = 0.8257317274111939\n",
      "\n",
      "\u001b[1mСлучайный лес\u001b[0m\n",
      "С лучшим количеством оценщиков 425\n",
      "достигли:\n",
      "         f1 = 0.6063569682151589\n",
      "         AUC-ROC = 0.8495593359294937\n"
     ]
    }
   ],
   "source": [
    "# посмотрим, как отобразится на обучении одновременное уменьшение и увеличение выборки\n",
    "max_f1(ud_train_features, ud_train_target)"
   ]
  },
  {
   "cell_type": "markdown",
   "metadata": {},
   "source": [
    "Дерево решений наконец добавило в точности, хоть и 0,31%.\n",
    "Случайный лес прибавил 2,86%. \n",
    "Думаю, можно сказать, что эксперимент удался, так, как и дерево решений и случайный лес показали лучший результат, в том числе и наилучший по всем тестам. "
   ]
  },
  {
   "cell_type": "markdown",
   "metadata": {},
   "source": [
    "### Увеличение F1 на лучшей модели  "
   ]
  },
  {
   "cell_type": "code",
   "execution_count": 47,
   "metadata": {},
   "outputs": [],
   "source": [
    "# создадим функцию которая будет обучать модель после удаления столбцов \n",
    "def last_hope_model(train_features, train_target, validate_features, validate_target):\n",
    "    model_tree.fit(train_features, train_target)\n",
    "    answer = model_tree.predict(validate_features)\n",
    "    f1 = f1_score(answer, validate_target)\n",
    "    return f1"
   ]
  },
  {
   "cell_type": "code",
   "execution_count": 48,
   "metadata": {},
   "outputs": [],
   "source": [
    "# создадим функцию которая будет обучать модель после удаления столбцов \n",
    "def last_hope_model(train_features, train_target, validate_features, validate_target):\n",
    "    model_forest = RandomForestClassifier(random_state=12345, n_estimators=450)\n",
    "    model_forest.fit(train_features, train_target)\n",
    "    answer = model_forest.predict(validate_features)\n",
    "    f1 = f1_score(answer, validate_target)\n",
    "    return f1"
   ]
  },
  {
   "cell_type": "code",
   "execution_count": 49,
   "metadata": {},
   "outputs": [
    {
     "name": "stdout",
     "output_type": "stream",
     "text": [
      "0.6140776699029127\n",
      "Index(['is_active_member', 'estimated_salary'], dtype='object')\n"
     ]
    }
   ],
   "source": [
    "# организуем цикл и поочередно будем удалять столбцы пока не найдем лучший результат.\n",
    "j = 0\n",
    "i = 1\n",
    "good_f1 = 0\n",
    "columns = ud_train_features.columns\n",
    "#удалим поочередно столбцы начиная с одного первого, \n",
    "#потом удалим первый и второй и тд пока не останется один последний\n",
    "while i < len(ud_train_features.columns):\n",
    "    new_train_features = ud_train_features.drop(columns[j:i], axis=1)\n",
    "    new_validate_features = validate_features.drop(columns[j:i], axis=1)\n",
    "    f1 = last_hope_model(new_train_features, ud_train_target,  new_validate_features, validate_target)\n",
    "    if f1 >= good_f1:\n",
    "        good_f1 = f1\n",
    "        bad_columns = columns[j:i]      \n",
    "    i+=1\n",
    "    # так как смысла в комбинации удаления второго и первого нет\n",
    "    # так как комбинация удаления первого и второго была, и тому подобные зеркальная комбинации \n",
    "    # то далее будем искать без столбца, который прошел все комбинации\n",
    "    if i == len(train_features.columns):\n",
    "        j+=1\n",
    "        i = j+1\n",
    "print(good_f1)\n",
    "print(bad_columns)"
   ]
  },
  {
   "cell_type": "markdown",
   "metadata": {},
   "source": [
    "Увеличить значение F1, можно удалив столбцы is_active_member и estimated_salary."
   ]
  },
  {
   "cell_type": "markdown",
   "metadata": {},
   "source": [
    "### Изменение порога"
   ]
  },
  {
   "cell_type": "code",
   "execution_count": 50,
   "metadata": {},
   "outputs": [],
   "source": [
    "# удалим \"ненужный\" признак\n",
    "ud_train_features = ud_train_features.drop(bad_columns ,axis=1)\n",
    "validate_features = validate_features.drop(bad_columns ,axis=1)\n",
    "test_features = test_features.drop(bad_columns ,axis=1)"
   ]
  },
  {
   "cell_type": "code",
   "execution_count": 51,
   "metadata": {
    "scrolled": true
   },
   "outputs": [
    {
     "name": "stdout",
     "output_type": "stream",
     "text": [
      "При пороге = 0.51 f1 = 0.6159509202453988\n",
      "Площадь под ROC-кривой = 0.8438315067777469\n"
     ]
    }
   ],
   "source": [
    "# возьмём модель с лучшим результатом на данный момент — это\n",
    "# случайный лес обученный на уменьшено/увеличенной выборке \n",
    "# без признака is_active_member и estimated_salary\n",
    "# обучим модель\n",
    "new_model_forest = RandomForestClassifier(random_state=12345, n_estimators=450)\n",
    "new_model_forest.fit(ud_train_features, ud_train_target)\n",
    "\n",
    "# найдем пороговые значения для модели случайного леса\n",
    "probabilities_valid_logis = new_model_forest.predict_proba(validate_features)\n",
    "probabilities_one_valid = probabilities_valid_logis[:, 1]\n",
    "\n",
    "# Найдем лучший порог при котором значение f1 наибольшее\n",
    "old_f1 = 0\n",
    "for threshold in np.arange(0, 1.0, 0.01):\n",
    "    predicted_valid = probabilities_one_valid > threshold\n",
    "    precision = precision_score(validate_target, predicted_valid)\n",
    "    recall = recall_score(validate_target, predicted_valid)\n",
    " \n",
    "    # так как F1 находится по формуле (2 * Precision * Recall)/(Precision + Recall)\n",
    "    # то найдем лучший порог\n",
    "    new_f1 = (2 * precision * recall)/(precision + recall)\n",
    "    if new_f1 > old_f1:\n",
    "        good_threshold = round(threshold,2)\n",
    "        old_f1 = new_f1\n",
    "    \n",
    "print(f\"При пороге = {good_threshold} f1 = {old_f1}\")\n",
    "    \n",
    "# найдём площадь под ROC-кривой \n",
    "auc_roc = roc_auc_score(validate_target, probabilities_one_valid)\n",
    "print('Площадь под ROC-кривой =', auc_roc)"
   ]
  },
  {
   "cell_type": "markdown",
   "metadata": {},
   "source": [
    "При борьбе с дисбалансом выяснилось, что:\n",
    "- **Лучшим методом** для борьбы с ним оказался **импровизированный** способ (одновременно увеличения одной и уменьшение другой выборки). \n",
    "- **Лучшей моделью**, оказалась модель **случайного леса**, обученная на увеличено/уменьшенной выборке с **числом оценщиков 450**.\n",
    "- **Сильная зависимость** между метрикой f1 и AUC-ROC **отсутствует**. Их максимумы не совпадают, а исходя из графика правильных ответов, при одних значениях первой, имеем разные значения второй и наоборот. А также при максимуме первой меры, максимум второй не достигается и наоборот.   \n",
    "- После **изменения порогового** значения точность **увеличилась** на 0,19%"
   ]
  },
  {
   "cell_type": "markdown",
   "metadata": {},
   "source": [
    "## Тестирование модели"
   ]
  },
  {
   "cell_type": "code",
   "execution_count": 52,
   "metadata": {},
   "outputs": [
    {
     "name": "stdout",
     "output_type": "stream",
     "text": [
      "При пороге = 0.51 f1 = 0.6159509202453988\n",
      "Площадь под ROC-кривой = 0.8363059445498204\n"
     ]
    }
   ],
   "source": [
    "# Найдем f1 при лучшем пороге\n",
    "probabilities_valid_logis = new_model_forest.predict_proba(test_features)\n",
    "probabilities_one_valid = probabilities_valid_logis[:, 1]\n",
    "predicted_valid = probabilities_one_valid > good_threshold\n",
    "precision = precision_score(test_target, predicted_valid)\n",
    "recall = recall_score(test_target, predicted_valid)\n",
    "    \n",
    "print(f\"При пороге = {good_threshold} f1 = {old_f1}\")\n",
    "    \n",
    "# найдём площадь под ROC-кривой \n",
    "auc_roc = roc_auc_score(test_target, probabilities_one_valid)\n",
    "print('Площадь под ROC-кривой =', auc_roc)"
   ]
  },
  {
   "cell_type": "markdown",
   "metadata": {},
   "source": [
    "При увлечении порога до 0.51 удалось достигнуть, преодоления величины метрики f1 более 0.59 как на валидационной, так и на тестовой выборке."
   ]
  },
  {
   "cell_type": "markdown",
   "metadata": {},
   "source": [
    " ## Вывод:\n",
    "- Проведена подготовка и исследовательский анализ данных\n",
    "- Проведена подготовка признаков \n",
    "- Проведено обучение и выбор лучшей модели\n",
    "- Проведен анализ зависимости метркии f1 и AUC-ROC  \n",
    "- Достигнуто необходимо значение метрики F1"
   ]
  }
 ],
 "metadata": {
  "ExecuteTimeLog": [
   {
    "duration": 729,
    "start_time": "2022-02-28T14:50:10.272Z"
   },
   {
    "duration": 41,
    "start_time": "2022-02-28T14:51:12.809Z"
   },
   {
    "duration": 13,
    "start_time": "2022-02-28T14:51:13.757Z"
   },
   {
    "duration": 825,
    "start_time": "2022-02-28T15:06:14.094Z"
   },
   {
    "duration": 66,
    "start_time": "2022-02-28T15:06:14.922Z"
   },
   {
    "duration": 13,
    "start_time": "2022-02-28T15:06:14.992Z"
   },
   {
    "duration": 17,
    "start_time": "2022-02-28T15:06:15.009Z"
   },
   {
    "duration": 10,
    "start_time": "2022-02-28T15:06:15.033Z"
   },
   {
    "duration": 25,
    "start_time": "2022-02-28T15:06:15.046Z"
   },
   {
    "duration": 20,
    "start_time": "2022-02-28T15:06:15.074Z"
   },
   {
    "duration": 105,
    "start_time": "2022-02-28T15:06:15.099Z"
   },
   {
    "duration": 32,
    "start_time": "2022-02-28T15:06:15.206Z"
   },
   {
    "duration": 850,
    "start_time": "2022-02-28T16:19:04.291Z"
   },
   {
    "duration": 45,
    "start_time": "2022-02-28T16:19:05.144Z"
   },
   {
    "duration": 12,
    "start_time": "2022-02-28T16:19:05.192Z"
   },
   {
    "duration": 102,
    "start_time": "2022-02-28T16:19:05.206Z"
   },
   {
    "duration": -2022,
    "start_time": "2022-02-28T16:19:07.333Z"
   },
   {
    "duration": -2024,
    "start_time": "2022-02-28T16:19:07.336Z"
   },
   {
    "duration": -2024,
    "start_time": "2022-02-28T16:19:07.338Z"
   },
   {
    "duration": -2026,
    "start_time": "2022-02-28T16:19:07.341Z"
   },
   {
    "duration": -2026,
    "start_time": "2022-02-28T16:19:07.343Z"
   },
   {
    "duration": -2027,
    "start_time": "2022-02-28T16:19:07.345Z"
   },
   {
    "duration": -2038,
    "start_time": "2022-02-28T16:19:07.357Z"
   },
   {
    "duration": -2038,
    "start_time": "2022-02-28T16:19:07.359Z"
   },
   {
    "duration": 811,
    "start_time": "2022-02-28T16:19:19.074Z"
   },
   {
    "duration": 44,
    "start_time": "2022-02-28T16:19:19.887Z"
   },
   {
    "duration": 14,
    "start_time": "2022-02-28T16:19:19.937Z"
   },
   {
    "duration": 18,
    "start_time": "2022-02-28T16:19:19.954Z"
   },
   {
    "duration": 96,
    "start_time": "2022-02-28T16:19:19.974Z"
   },
   {
    "duration": -2207,
    "start_time": "2022-02-28T16:19:22.279Z"
   },
   {
    "duration": -2220,
    "start_time": "2022-02-28T16:19:22.294Z"
   },
   {
    "duration": -2247,
    "start_time": "2022-02-28T16:19:22.322Z"
   },
   {
    "duration": -2260,
    "start_time": "2022-02-28T16:19:22.337Z"
   },
   {
    "duration": -2277,
    "start_time": "2022-02-28T16:19:22.355Z"
   },
   {
    "duration": -2292,
    "start_time": "2022-02-28T16:19:22.371Z"
   },
   {
    "duration": 835,
    "start_time": "2022-02-28T16:19:46.850Z"
   },
   {
    "duration": 44,
    "start_time": "2022-02-28T16:19:47.687Z"
   },
   {
    "duration": 15,
    "start_time": "2022-02-28T16:19:47.735Z"
   },
   {
    "duration": 16,
    "start_time": "2022-02-28T16:19:47.753Z"
   },
   {
    "duration": 5,
    "start_time": "2022-02-28T16:19:47.772Z"
   },
   {
    "duration": 4,
    "start_time": "2022-02-28T16:19:47.780Z"
   },
   {
    "duration": 69,
    "start_time": "2022-02-28T16:19:47.787Z"
   },
   {
    "duration": 20,
    "start_time": "2022-02-28T16:19:47.859Z"
   },
   {
    "duration": 102,
    "start_time": "2022-02-28T16:19:47.883Z"
   },
   {
    "duration": 13,
    "start_time": "2022-02-28T16:30:45.030Z"
   },
   {
    "duration": 872,
    "start_time": "2022-02-28T16:30:55.022Z"
   },
   {
    "duration": 49,
    "start_time": "2022-02-28T16:30:55.897Z"
   },
   {
    "duration": 13,
    "start_time": "2022-02-28T16:30:55.950Z"
   },
   {
    "duration": 19,
    "start_time": "2022-02-28T16:30:55.966Z"
   },
   {
    "duration": 5,
    "start_time": "2022-02-28T16:30:55.988Z"
   },
   {
    "duration": 50,
    "start_time": "2022-02-28T16:30:55.996Z"
   },
   {
    "duration": 23,
    "start_time": "2022-02-28T16:30:56.048Z"
   },
   {
    "duration": 20,
    "start_time": "2022-02-28T16:30:56.073Z"
   },
   {
    "duration": 109,
    "start_time": "2022-02-28T16:30:56.097Z"
   },
   {
    "duration": 384,
    "start_time": "2022-02-28T16:44:59.908Z"
   },
   {
    "duration": 270,
    "start_time": "2022-02-28T16:45:43.688Z"
   },
   {
    "duration": 242,
    "start_time": "2022-02-28T16:45:47.746Z"
   },
   {
    "duration": 7,
    "start_time": "2022-02-28T16:46:01.648Z"
   },
   {
    "duration": 7,
    "start_time": "2022-02-28T17:21:38.146Z"
   },
   {
    "duration": 6,
    "start_time": "2022-02-28T17:21:45.936Z"
   },
   {
    "duration": 15,
    "start_time": "2022-02-28T17:23:21.875Z"
   },
   {
    "duration": 9,
    "start_time": "2022-02-28T17:23:41.845Z"
   },
   {
    "duration": 31,
    "start_time": "2022-02-28T17:27:13.495Z"
   },
   {
    "duration": 33,
    "start_time": "2022-02-28T17:27:23.045Z"
   },
   {
    "duration": 102,
    "start_time": "2022-02-28T17:29:43.515Z"
   },
   {
    "duration": 35,
    "start_time": "2022-02-28T17:30:00.775Z"
   },
   {
    "duration": 41,
    "start_time": "2022-02-28T17:30:17.999Z"
   },
   {
    "duration": 35,
    "start_time": "2022-02-28T17:30:26.095Z"
   },
   {
    "duration": 33,
    "start_time": "2022-02-28T17:31:12.075Z"
   },
   {
    "duration": 36,
    "start_time": "2022-02-28T17:31:20.846Z"
   },
   {
    "duration": 39,
    "start_time": "2022-02-28T17:33:52.535Z"
   },
   {
    "duration": 6,
    "start_time": "2022-02-28T17:42:20.363Z"
   },
   {
    "duration": 7,
    "start_time": "2022-02-28T17:43:03.075Z"
   },
   {
    "duration": 7,
    "start_time": "2022-02-28T17:43:12.114Z"
   },
   {
    "duration": 277,
    "start_time": "2022-02-28T17:51:59.406Z"
   },
   {
    "duration": 7,
    "start_time": "2022-02-28T17:52:10.095Z"
   },
   {
    "duration": 11,
    "start_time": "2022-02-28T18:27:00.567Z"
   },
   {
    "duration": 296,
    "start_time": "2022-02-28T18:40:46.086Z"
   },
   {
    "duration": 108,
    "start_time": "2022-02-28T18:40:51.286Z"
   },
   {
    "duration": 256,
    "start_time": "2022-02-28T18:40:54.834Z"
   },
   {
    "duration": 926,
    "start_time": "2022-02-28T18:41:03.966Z"
   },
   {
    "duration": 251,
    "start_time": "2022-02-28T18:43:54.566Z"
   },
   {
    "duration": 114,
    "start_time": "2022-02-28T18:44:49.145Z"
   },
   {
    "duration": 120,
    "start_time": "2022-02-28T18:45:03.446Z"
   },
   {
    "duration": 276,
    "start_time": "2022-02-28T18:45:12.216Z"
   },
   {
    "duration": 91,
    "start_time": "2022-02-28T18:45:33.405Z"
   },
   {
    "duration": 266,
    "start_time": "2022-02-28T18:45:42.578Z"
   },
   {
    "duration": 280,
    "start_time": "2022-02-28T18:45:52.225Z"
   },
   {
    "duration": 6800,
    "start_time": "2022-02-28T18:46:55.106Z"
   },
   {
    "duration": 8,
    "start_time": "2022-02-28T18:47:06.885Z"
   },
   {
    "duration": 16,
    "start_time": "2022-02-28T18:47:19.676Z"
   },
   {
    "duration": 21,
    "start_time": "2022-02-28T18:47:44.825Z"
   },
   {
    "duration": 16,
    "start_time": "2022-02-28T18:59:12.559Z"
   },
   {
    "duration": 847,
    "start_time": "2022-03-01T15:26:44.173Z"
   },
   {
    "duration": 43,
    "start_time": "2022-03-01T15:26:45.023Z"
   },
   {
    "duration": 12,
    "start_time": "2022-03-01T15:26:45.069Z"
   },
   {
    "duration": 18,
    "start_time": "2022-03-01T15:26:45.083Z"
   },
   {
    "duration": 30,
    "start_time": "2022-03-01T15:26:45.104Z"
   },
   {
    "duration": 11,
    "start_time": "2022-03-01T15:26:45.137Z"
   },
   {
    "duration": 23,
    "start_time": "2022-03-01T15:26:45.150Z"
   },
   {
    "duration": 61,
    "start_time": "2022-03-01T15:26:45.175Z"
   },
   {
    "duration": 105,
    "start_time": "2022-03-01T15:26:45.239Z"
   },
   {
    "duration": 13,
    "start_time": "2022-03-01T15:26:45.347Z"
   },
   {
    "duration": 7,
    "start_time": "2022-03-01T15:26:45.362Z"
   },
   {
    "duration": 84,
    "start_time": "2022-03-01T15:26:45.372Z"
   },
   {
    "duration": 3,
    "start_time": "2022-03-01T15:26:45.459Z"
   },
   {
    "duration": 12,
    "start_time": "2022-03-01T15:26:45.464Z"
   },
   {
    "duration": 8,
    "start_time": "2022-03-01T15:29:29.378Z"
   },
   {
    "duration": 94,
    "start_time": "2022-03-01T15:31:08.340Z"
   },
   {
    "duration": 9,
    "start_time": "2022-03-01T15:31:12.497Z"
   },
   {
    "duration": 8,
    "start_time": "2022-03-01T15:31:28.108Z"
   },
   {
    "duration": 343,
    "start_time": "2022-03-01T15:34:09.018Z"
   },
   {
    "duration": 241,
    "start_time": "2022-03-01T15:34:18.979Z"
   },
   {
    "duration": 11,
    "start_time": "2022-03-01T15:36:24.117Z"
   },
   {
    "duration": 20,
    "start_time": "2022-03-01T15:36:32.625Z"
   },
   {
    "duration": 17,
    "start_time": "2022-03-01T15:41:33.358Z"
   },
   {
    "duration": 19,
    "start_time": "2022-03-01T15:42:15.436Z"
   },
   {
    "duration": 15,
    "start_time": "2022-03-01T15:42:23.377Z"
   },
   {
    "duration": 6,
    "start_time": "2022-03-01T15:44:30.347Z"
   },
   {
    "duration": 13,
    "start_time": "2022-03-01T15:44:35.468Z"
   },
   {
    "duration": 15,
    "start_time": "2022-03-01T16:33:05.904Z"
   },
   {
    "duration": 9,
    "start_time": "2022-03-01T16:33:54.418Z"
   },
   {
    "duration": 269,
    "start_time": "2022-03-01T16:39:08.997Z"
   },
   {
    "duration": 8,
    "start_time": "2022-03-01T16:39:20.197Z"
   },
   {
    "duration": 93,
    "start_time": "2022-03-01T16:41:42.597Z"
   },
   {
    "duration": 12,
    "start_time": "2022-03-01T16:43:09.997Z"
   },
   {
    "duration": 10,
    "start_time": "2022-03-01T16:45:32.677Z"
   },
   {
    "duration": 19,
    "start_time": "2022-03-01T16:51:04.077Z"
   },
   {
    "duration": 9,
    "start_time": "2022-03-01T16:51:10.457Z"
   },
   {
    "duration": 8,
    "start_time": "2022-03-01T16:51:11.837Z"
   },
   {
    "duration": 8,
    "start_time": "2022-03-01T16:51:13.797Z"
   },
   {
    "duration": 885,
    "start_time": "2022-03-01T16:51:42.002Z"
   },
   {
    "duration": 45,
    "start_time": "2022-03-01T16:51:42.890Z"
   },
   {
    "duration": 12,
    "start_time": "2022-03-01T16:51:42.939Z"
   },
   {
    "duration": 16,
    "start_time": "2022-03-01T16:51:42.953Z"
   },
   {
    "duration": 5,
    "start_time": "2022-03-01T16:51:42.971Z"
   },
   {
    "duration": 12,
    "start_time": "2022-03-01T16:51:42.978Z"
   },
   {
    "duration": 61,
    "start_time": "2022-03-01T16:51:42.992Z"
   },
   {
    "duration": 20,
    "start_time": "2022-03-01T16:51:43.055Z"
   },
   {
    "duration": 115,
    "start_time": "2022-03-01T16:51:43.079Z"
   },
   {
    "duration": 8,
    "start_time": "2022-03-01T16:51:43.197Z"
   },
   {
    "duration": 39,
    "start_time": "2022-03-01T16:51:43.233Z"
   },
   {
    "duration": 8,
    "start_time": "2022-03-01T16:51:43.274Z"
   },
   {
    "duration": 49,
    "start_time": "2022-03-01T16:51:43.284Z"
   },
   {
    "duration": 9,
    "start_time": "2022-03-01T16:51:43.335Z"
   },
   {
    "duration": 9,
    "start_time": "2022-03-01T16:51:43.346Z"
   },
   {
    "duration": 82,
    "start_time": "2022-03-01T16:51:43.357Z"
   },
   {
    "duration": 8,
    "start_time": "2022-03-01T16:51:54.882Z"
   },
   {
    "duration": 788,
    "start_time": "2022-03-01T16:52:03.786Z"
   },
   {
    "duration": 42,
    "start_time": "2022-03-01T16:52:04.577Z"
   },
   {
    "duration": 12,
    "start_time": "2022-03-01T16:52:04.622Z"
   },
   {
    "duration": 17,
    "start_time": "2022-03-01T16:52:04.637Z"
   },
   {
    "duration": 4,
    "start_time": "2022-03-01T16:52:04.657Z"
   },
   {
    "duration": 12,
    "start_time": "2022-03-01T16:52:04.664Z"
   },
   {
    "duration": 63,
    "start_time": "2022-03-01T16:52:04.678Z"
   },
   {
    "duration": 19,
    "start_time": "2022-03-01T16:52:04.743Z"
   },
   {
    "duration": 96,
    "start_time": "2022-03-01T16:52:04.766Z"
   },
   {
    "duration": 6,
    "start_time": "2022-03-01T16:52:04.865Z"
   },
   {
    "duration": 67,
    "start_time": "2022-03-01T16:52:04.873Z"
   },
   {
    "duration": 8,
    "start_time": "2022-03-01T16:52:04.943Z"
   },
   {
    "duration": 26,
    "start_time": "2022-03-01T16:52:04.953Z"
   },
   {
    "duration": 9,
    "start_time": "2022-03-01T16:52:04.981Z"
   },
   {
    "duration": 9,
    "start_time": "2022-03-01T16:52:04.992Z"
   },
   {
    "duration": 9,
    "start_time": "2022-03-01T16:52:05.034Z"
   },
   {
    "duration": 13,
    "start_time": "2022-03-01T16:52:13.796Z"
   },
   {
    "duration": 5,
    "start_time": "2022-03-01T16:52:50.705Z"
   },
   {
    "duration": 13,
    "start_time": "2022-03-01T16:52:52.565Z"
   },
   {
    "duration": 361,
    "start_time": "2022-03-01T16:57:22.305Z"
   },
   {
    "duration": 256,
    "start_time": "2022-03-01T16:57:40.184Z"
   },
   {
    "duration": 46,
    "start_time": "2022-03-01T16:58:35.984Z"
   },
   {
    "duration": 17,
    "start_time": "2022-03-01T16:59:33.704Z"
   },
   {
    "duration": 65,
    "start_time": "2022-03-01T17:01:39.625Z"
   },
   {
    "duration": 831,
    "start_time": "2022-03-01T17:01:49.021Z"
   },
   {
    "duration": 55,
    "start_time": "2022-03-01T17:01:49.854Z"
   },
   {
    "duration": 13,
    "start_time": "2022-03-01T17:01:49.913Z"
   },
   {
    "duration": 19,
    "start_time": "2022-03-01T17:01:49.929Z"
   },
   {
    "duration": 4,
    "start_time": "2022-03-01T17:01:49.950Z"
   },
   {
    "duration": 12,
    "start_time": "2022-03-01T17:01:49.957Z"
   },
   {
    "duration": 64,
    "start_time": "2022-03-01T17:01:49.972Z"
   },
   {
    "duration": 21,
    "start_time": "2022-03-01T17:01:50.042Z"
   },
   {
    "duration": 107,
    "start_time": "2022-03-01T17:01:50.066Z"
   },
   {
    "duration": 7,
    "start_time": "2022-03-01T17:01:50.176Z"
   },
   {
    "duration": 67,
    "start_time": "2022-03-01T17:01:50.185Z"
   },
   {
    "duration": 8,
    "start_time": "2022-03-01T17:01:50.254Z"
   },
   {
    "duration": 30,
    "start_time": "2022-03-01T17:01:50.264Z"
   },
   {
    "duration": 36,
    "start_time": "2022-03-01T17:01:50.296Z"
   },
   {
    "duration": 43,
    "start_time": "2022-03-01T17:01:50.335Z"
   },
   {
    "duration": 8,
    "start_time": "2022-03-01T17:01:50.381Z"
   },
   {
    "duration": 3,
    "start_time": "2022-03-01T17:01:50.392Z"
   },
   {
    "duration": 45,
    "start_time": "2022-03-01T17:01:50.398Z"
   },
   {
    "duration": 341,
    "start_time": "2022-03-01T17:04:37.741Z"
   },
   {
    "duration": 42,
    "start_time": "2022-03-01T17:04:46.741Z"
   },
   {
    "duration": 261,
    "start_time": "2022-03-01T17:04:59.541Z"
   },
   {
    "duration": 798,
    "start_time": "2022-03-01T17:05:07.379Z"
   },
   {
    "duration": 43,
    "start_time": "2022-03-01T17:05:08.179Z"
   },
   {
    "duration": 16,
    "start_time": "2022-03-01T17:05:08.225Z"
   },
   {
    "duration": 17,
    "start_time": "2022-03-01T17:05:08.244Z"
   },
   {
    "duration": 6,
    "start_time": "2022-03-01T17:05:08.264Z"
   },
   {
    "duration": 13,
    "start_time": "2022-03-01T17:05:08.273Z"
   },
   {
    "duration": 65,
    "start_time": "2022-03-01T17:05:08.288Z"
   },
   {
    "duration": 20,
    "start_time": "2022-03-01T17:05:08.357Z"
   },
   {
    "duration": 101,
    "start_time": "2022-03-01T17:05:08.380Z"
   },
   {
    "duration": 7,
    "start_time": "2022-03-01T17:05:08.484Z"
   },
   {
    "duration": 67,
    "start_time": "2022-03-01T17:05:08.493Z"
   },
   {
    "duration": 7,
    "start_time": "2022-03-01T17:05:08.563Z"
   },
   {
    "duration": 18,
    "start_time": "2022-03-01T17:05:08.572Z"
   },
   {
    "duration": 40,
    "start_time": "2022-03-01T17:05:08.592Z"
   },
   {
    "duration": 52,
    "start_time": "2022-03-01T17:05:08.635Z"
   },
   {
    "duration": 9,
    "start_time": "2022-03-01T17:05:08.689Z"
   },
   {
    "duration": 32,
    "start_time": "2022-03-01T17:05:08.700Z"
   },
   {
    "duration": 15,
    "start_time": "2022-03-01T17:05:08.735Z"
   },
   {
    "duration": 832,
    "start_time": "2022-03-01T17:05:30.477Z"
   },
   {
    "duration": 46,
    "start_time": "2022-03-01T17:05:31.312Z"
   },
   {
    "duration": 12,
    "start_time": "2022-03-01T17:05:31.361Z"
   },
   {
    "duration": 31,
    "start_time": "2022-03-01T17:05:31.376Z"
   },
   {
    "duration": 25,
    "start_time": "2022-03-01T17:05:31.410Z"
   },
   {
    "duration": 24,
    "start_time": "2022-03-01T17:05:31.438Z"
   },
   {
    "duration": 38,
    "start_time": "2022-03-01T17:05:31.464Z"
   },
   {
    "duration": 20,
    "start_time": "2022-03-01T17:05:31.504Z"
   },
   {
    "duration": 69,
    "start_time": "2022-03-01T17:05:31.533Z"
   },
   {
    "duration": 32,
    "start_time": "2022-03-01T17:05:31.604Z"
   },
   {
    "duration": 42,
    "start_time": "2022-03-01T17:05:31.639Z"
   },
   {
    "duration": 8,
    "start_time": "2022-03-01T17:05:31.683Z"
   },
   {
    "duration": 54,
    "start_time": "2022-03-01T17:05:31.693Z"
   },
   {
    "duration": 10,
    "start_time": "2022-03-01T17:05:31.749Z"
   },
   {
    "duration": 95,
    "start_time": "2022-03-01T17:05:31.761Z"
   },
   {
    "duration": 9,
    "start_time": "2022-03-01T17:05:31.858Z"
   },
   {
    "duration": 3,
    "start_time": "2022-03-01T17:05:31.869Z"
   },
   {
    "duration": 18,
    "start_time": "2022-03-01T17:05:31.875Z"
   },
   {
    "duration": 836,
    "start_time": "2022-03-01T17:08:14.633Z"
   },
   {
    "duration": 56,
    "start_time": "2022-03-01T17:08:15.472Z"
   },
   {
    "duration": 11,
    "start_time": "2022-03-01T17:08:15.532Z"
   },
   {
    "duration": 17,
    "start_time": "2022-03-01T17:08:15.546Z"
   },
   {
    "duration": 6,
    "start_time": "2022-03-01T17:08:15.565Z"
   },
   {
    "duration": 11,
    "start_time": "2022-03-01T17:08:15.573Z"
   },
   {
    "duration": 64,
    "start_time": "2022-03-01T17:08:15.586Z"
   },
   {
    "duration": 21,
    "start_time": "2022-03-01T17:08:15.652Z"
   },
   {
    "duration": 94,
    "start_time": "2022-03-01T17:08:15.677Z"
   },
   {
    "duration": 7,
    "start_time": "2022-03-01T17:08:15.773Z"
   },
   {
    "duration": 69,
    "start_time": "2022-03-01T17:08:15.783Z"
   },
   {
    "duration": 8,
    "start_time": "2022-03-01T17:08:15.854Z"
   },
   {
    "duration": 20,
    "start_time": "2022-03-01T17:08:15.864Z"
   },
   {
    "duration": 12,
    "start_time": "2022-03-01T17:08:15.887Z"
   },
   {
    "duration": 66,
    "start_time": "2022-03-01T17:08:15.934Z"
   },
   {
    "duration": 106,
    "start_time": "2022-03-01T17:08:16.003Z"
   },
   {
    "duration": -3464,
    "start_time": "2022-03-01T17:08:19.576Z"
   },
   {
    "duration": -3471,
    "start_time": "2022-03-01T17:08:19.584Z"
   },
   {
    "duration": -3473,
    "start_time": "2022-03-01T17:08:19.588Z"
   },
   {
    "duration": -3474,
    "start_time": "2022-03-01T17:08:19.591Z"
   },
   {
    "duration": 821,
    "start_time": "2022-03-01T17:09:26.332Z"
   },
   {
    "duration": 43,
    "start_time": "2022-03-01T17:09:27.156Z"
   },
   {
    "duration": 10,
    "start_time": "2022-03-01T17:09:27.203Z"
   },
   {
    "duration": 29,
    "start_time": "2022-03-01T17:09:27.216Z"
   },
   {
    "duration": 5,
    "start_time": "2022-03-01T17:09:27.247Z"
   },
   {
    "duration": 11,
    "start_time": "2022-03-01T17:09:27.255Z"
   },
   {
    "duration": 22,
    "start_time": "2022-03-01T17:09:27.268Z"
   },
   {
    "duration": 20,
    "start_time": "2022-03-01T17:09:27.332Z"
   },
   {
    "duration": 99,
    "start_time": "2022-03-01T17:09:27.357Z"
   },
   {
    "duration": 6,
    "start_time": "2022-03-01T17:09:27.459Z"
   },
   {
    "duration": 65,
    "start_time": "2022-03-01T17:09:27.468Z"
   },
   {
    "duration": 8,
    "start_time": "2022-03-01T17:09:27.535Z"
   },
   {
    "duration": 19,
    "start_time": "2022-03-01T17:09:27.546Z"
   },
   {
    "duration": 9,
    "start_time": "2022-03-01T17:09:27.568Z"
   },
   {
    "duration": 130,
    "start_time": "2022-03-01T17:09:27.580Z"
   },
   {
    "duration": 81,
    "start_time": "2022-03-01T17:09:27.732Z"
   },
   {
    "duration": -3474,
    "start_time": "2022-03-01T17:09:31.289Z"
   },
   {
    "duration": -3477,
    "start_time": "2022-03-01T17:09:31.293Z"
   },
   {
    "duration": -3480,
    "start_time": "2022-03-01T17:09:31.298Z"
   },
   {
    "duration": -3482,
    "start_time": "2022-03-01T17:09:31.301Z"
   },
   {
    "duration": 364,
    "start_time": "2022-03-01T17:10:08.343Z"
   },
   {
    "duration": 838,
    "start_time": "2022-03-01T17:10:15.597Z"
   },
   {
    "duration": 43,
    "start_time": "2022-03-01T17:10:16.438Z"
   },
   {
    "duration": 11,
    "start_time": "2022-03-01T17:10:16.484Z"
   },
   {
    "duration": 16,
    "start_time": "2022-03-01T17:10:16.498Z"
   },
   {
    "duration": 5,
    "start_time": "2022-03-01T17:10:16.533Z"
   },
   {
    "duration": 14,
    "start_time": "2022-03-01T17:10:16.540Z"
   },
   {
    "duration": 21,
    "start_time": "2022-03-01T17:10:16.556Z"
   },
   {
    "duration": 53,
    "start_time": "2022-03-01T17:10:16.580Z"
   },
   {
    "duration": 68,
    "start_time": "2022-03-01T17:10:16.636Z"
   },
   {
    "duration": 7,
    "start_time": "2022-03-01T17:10:16.732Z"
   },
   {
    "duration": 37,
    "start_time": "2022-03-01T17:10:16.742Z"
   },
   {
    "duration": 8,
    "start_time": "2022-03-01T17:10:16.781Z"
   },
   {
    "duration": 54,
    "start_time": "2022-03-01T17:10:16.791Z"
   },
   {
    "duration": 9,
    "start_time": "2022-03-01T17:10:16.848Z"
   },
   {
    "duration": 42,
    "start_time": "2022-03-01T17:10:16.859Z"
   },
   {
    "duration": 111,
    "start_time": "2022-03-01T17:10:16.903Z"
   },
   {
    "duration": -3506,
    "start_time": "2022-03-01T17:10:20.523Z"
   },
   {
    "duration": -3508,
    "start_time": "2022-03-01T17:10:20.526Z"
   },
   {
    "duration": -3511,
    "start_time": "2022-03-01T17:10:20.530Z"
   },
   {
    "duration": -3513,
    "start_time": "2022-03-01T17:10:20.534Z"
   },
   {
    "duration": 372,
    "start_time": "2022-03-01T17:10:35.171Z"
   },
   {
    "duration": 813,
    "start_time": "2022-03-01T17:10:41.067Z"
   },
   {
    "duration": 44,
    "start_time": "2022-03-01T17:10:41.883Z"
   },
   {
    "duration": 11,
    "start_time": "2022-03-01T17:10:41.933Z"
   },
   {
    "duration": 18,
    "start_time": "2022-03-01T17:10:41.947Z"
   },
   {
    "duration": 4,
    "start_time": "2022-03-01T17:10:41.967Z"
   },
   {
    "duration": 9,
    "start_time": "2022-03-01T17:10:41.974Z"
   },
   {
    "duration": 58,
    "start_time": "2022-03-01T17:10:41.986Z"
   },
   {
    "duration": 20,
    "start_time": "2022-03-01T17:10:42.047Z"
   },
   {
    "duration": 103,
    "start_time": "2022-03-01T17:10:42.071Z"
   },
   {
    "duration": 8,
    "start_time": "2022-03-01T17:10:42.178Z"
   },
   {
    "duration": 71,
    "start_time": "2022-03-01T17:10:42.189Z"
   },
   {
    "duration": 9,
    "start_time": "2022-03-01T17:10:42.263Z"
   },
   {
    "duration": 19,
    "start_time": "2022-03-01T17:10:42.275Z"
   },
   {
    "duration": 42,
    "start_time": "2022-03-01T17:10:42.297Z"
   },
   {
    "duration": 16,
    "start_time": "2022-03-01T17:10:42.342Z"
   },
   {
    "duration": 86,
    "start_time": "2022-03-01T17:10:42.361Z"
   },
   {
    "duration": -3469,
    "start_time": "2022-03-01T17:10:45.919Z"
   },
   {
    "duration": -3472,
    "start_time": "2022-03-01T17:10:45.924Z"
   },
   {
    "duration": -3487,
    "start_time": "2022-03-01T17:10:45.941Z"
   },
   {
    "duration": -3491,
    "start_time": "2022-03-01T17:10:45.947Z"
   },
   {
    "duration": 11,
    "start_time": "2022-03-01T17:17:24.079Z"
   },
   {
    "duration": 4,
    "start_time": "2022-03-01T17:17:25.138Z"
   },
   {
    "duration": 16,
    "start_time": "2022-03-01T17:17:27.097Z"
   },
   {
    "duration": 811,
    "start_time": "2022-03-01T17:23:57.065Z"
   },
   {
    "duration": 54,
    "start_time": "2022-03-01T17:23:57.879Z"
   },
   {
    "duration": 13,
    "start_time": "2022-03-01T17:23:57.936Z"
   },
   {
    "duration": 17,
    "start_time": "2022-03-01T17:23:57.951Z"
   },
   {
    "duration": 4,
    "start_time": "2022-03-01T17:23:57.970Z"
   },
   {
    "duration": 9,
    "start_time": "2022-03-01T17:23:57.977Z"
   },
   {
    "duration": 58,
    "start_time": "2022-03-01T17:23:57.989Z"
   },
   {
    "duration": 19,
    "start_time": "2022-03-01T17:23:58.050Z"
   },
   {
    "duration": 108,
    "start_time": "2022-03-01T17:23:58.072Z"
   },
   {
    "duration": 7,
    "start_time": "2022-03-01T17:23:58.183Z"
   },
   {
    "duration": 64,
    "start_time": "2022-03-01T17:23:58.193Z"
   },
   {
    "duration": 8,
    "start_time": "2022-03-01T17:23:58.260Z"
   },
   {
    "duration": 6211,
    "start_time": "2022-03-01T17:23:58.270Z"
   },
   {
    "duration": -3694,
    "start_time": "2022-03-01T17:24:08.178Z"
   },
   {
    "duration": -3698,
    "start_time": "2022-03-01T17:24:08.184Z"
   },
   {
    "duration": -3704,
    "start_time": "2022-03-01T17:24:08.191Z"
   },
   {
    "duration": -3709,
    "start_time": "2022-03-01T17:24:08.198Z"
   },
   {
    "duration": -3711,
    "start_time": "2022-03-01T17:24:08.201Z"
   },
   {
    "duration": -3716,
    "start_time": "2022-03-01T17:24:08.207Z"
   },
   {
    "duration": 6043,
    "start_time": "2022-03-01T17:24:47.625Z"
   },
   {
    "duration": 19,
    "start_time": "2022-03-01T17:24:58.225Z"
   },
   {
    "duration": 6214,
    "start_time": "2022-03-01T17:25:04.005Z"
   },
   {
    "duration": 17,
    "start_time": "2022-03-01T17:25:11.705Z"
   },
   {
    "duration": 844,
    "start_time": "2022-03-01T17:27:59.842Z"
   },
   {
    "duration": 45,
    "start_time": "2022-03-01T17:28:00.689Z"
   },
   {
    "duration": 12,
    "start_time": "2022-03-01T17:28:00.737Z"
   },
   {
    "duration": 22,
    "start_time": "2022-03-01T17:28:00.752Z"
   },
   {
    "duration": 5,
    "start_time": "2022-03-01T17:28:00.776Z"
   },
   {
    "duration": 13,
    "start_time": "2022-03-01T17:28:00.783Z"
   },
   {
    "duration": 53,
    "start_time": "2022-03-01T17:28:00.798Z"
   },
   {
    "duration": 20,
    "start_time": "2022-03-01T17:28:00.853Z"
   },
   {
    "duration": 101,
    "start_time": "2022-03-01T17:28:00.877Z"
   },
   {
    "duration": 7,
    "start_time": "2022-03-01T17:28:00.980Z"
   },
   {
    "duration": 70,
    "start_time": "2022-03-01T17:28:00.990Z"
   },
   {
    "duration": 8,
    "start_time": "2022-03-01T17:28:01.062Z"
   },
   {
    "duration": 21,
    "start_time": "2022-03-01T17:28:01.073Z"
   },
   {
    "duration": 37,
    "start_time": "2022-03-01T17:28:01.097Z"
   },
   {
    "duration": 16,
    "start_time": "2022-03-01T17:28:01.136Z"
   },
   {
    "duration": 13,
    "start_time": "2022-03-01T17:28:01.155Z"
   },
   {
    "duration": 5,
    "start_time": "2022-03-01T17:28:01.171Z"
   },
   {
    "duration": 54,
    "start_time": "2022-03-01T17:28:01.179Z"
   },
   {
    "duration": 4,
    "start_time": "2022-03-01T17:28:01.235Z"
   },
   {
    "duration": 349,
    "start_time": "2022-03-01T17:28:01.242Z"
   },
   {
    "duration": -3497,
    "start_time": "2022-03-01T17:28:05.090Z"
   },
   {
    "duration": 6,
    "start_time": "2022-03-01T17:28:19.740Z"
   },
   {
    "duration": 12,
    "start_time": "2022-03-01T17:28:21.060Z"
   },
   {
    "duration": 1234,
    "start_time": "2022-03-02T17:38:34.192Z"
   },
   {
    "duration": 46,
    "start_time": "2022-03-02T17:38:35.427Z"
   },
   {
    "duration": 10,
    "start_time": "2022-03-02T17:38:35.475Z"
   },
   {
    "duration": 13,
    "start_time": "2022-03-02T17:38:35.487Z"
   },
   {
    "duration": 5,
    "start_time": "2022-03-02T17:38:35.501Z"
   },
   {
    "duration": 10,
    "start_time": "2022-03-02T17:38:35.508Z"
   },
   {
    "duration": 17,
    "start_time": "2022-03-02T17:38:35.519Z"
   },
   {
    "duration": 48,
    "start_time": "2022-03-02T17:38:35.538Z"
   },
   {
    "duration": 77,
    "start_time": "2022-03-02T17:38:35.589Z"
   },
   {
    "duration": 5,
    "start_time": "2022-03-02T17:38:35.678Z"
   },
   {
    "duration": 55,
    "start_time": "2022-03-02T17:38:35.685Z"
   },
   {
    "duration": 7,
    "start_time": "2022-03-02T17:38:35.742Z"
   },
   {
    "duration": 39,
    "start_time": "2022-03-02T17:38:35.752Z"
   },
   {
    "duration": 12,
    "start_time": "2022-03-02T17:38:35.793Z"
   },
   {
    "duration": 23,
    "start_time": "2022-03-02T17:38:35.806Z"
   },
   {
    "duration": 18,
    "start_time": "2022-03-02T17:38:35.831Z"
   },
   {
    "duration": 18,
    "start_time": "2022-03-02T17:38:35.851Z"
   },
   {
    "duration": 20,
    "start_time": "2022-03-02T17:38:35.871Z"
   },
   {
    "duration": 5,
    "start_time": "2022-03-02T17:38:35.893Z"
   },
   {
    "duration": 17,
    "start_time": "2022-03-02T17:38:35.900Z"
   },
   {
    "duration": 70,
    "start_time": "2022-03-02T17:38:35.918Z"
   },
   {
    "duration": -4704,
    "start_time": "2022-03-02T17:38:40.694Z"
   },
   {
    "duration": -4710,
    "start_time": "2022-03-02T17:38:40.702Z"
   },
   {
    "duration": 8,
    "start_time": "2022-03-02T17:39:21.770Z"
   },
   {
    "duration": 420,
    "start_time": "2022-03-02T17:39:22.419Z"
   },
   {
    "duration": 422,
    "start_time": "2022-03-02T17:39:38.710Z"
   },
   {
    "duration": 328,
    "start_time": "2022-03-02T17:40:02.353Z"
   },
   {
    "duration": 203,
    "start_time": "2022-03-02T17:40:28.192Z"
   },
   {
    "duration": 406,
    "start_time": "2022-03-02T17:41:11.281Z"
   },
   {
    "duration": 5,
    "start_time": "2022-03-02T17:42:46.353Z"
   },
   {
    "duration": 414,
    "start_time": "2022-03-02T17:43:17.691Z"
   },
   {
    "duration": 539,
    "start_time": "2022-03-02T17:43:57.871Z"
   },
   {
    "duration": 253,
    "start_time": "2022-03-02T17:55:38.883Z"
   },
   {
    "duration": 14,
    "start_time": "2022-03-02T17:59:52.694Z"
   },
   {
    "duration": 52,
    "start_time": "2022-03-02T18:00:31.934Z"
   },
   {
    "duration": 13,
    "start_time": "2022-03-02T18:06:09.652Z"
   },
   {
    "duration": 56,
    "start_time": "2022-03-02T18:06:32.232Z"
   },
   {
    "duration": 5,
    "start_time": "2022-03-02T18:07:19.471Z"
   },
   {
    "duration": 9,
    "start_time": "2022-03-02T18:07:30.760Z"
   },
   {
    "duration": 7,
    "start_time": "2022-03-02T18:07:53.972Z"
   },
   {
    "duration": 1187,
    "start_time": "2022-03-02T18:08:05.043Z"
   },
   {
    "duration": 50,
    "start_time": "2022-03-02T18:08:06.232Z"
   },
   {
    "duration": 12,
    "start_time": "2022-03-02T18:08:06.284Z"
   },
   {
    "duration": 11,
    "start_time": "2022-03-02T18:08:06.298Z"
   },
   {
    "duration": 4,
    "start_time": "2022-03-02T18:08:06.311Z"
   },
   {
    "duration": 11,
    "start_time": "2022-03-02T18:08:06.317Z"
   },
   {
    "duration": 22,
    "start_time": "2022-03-02T18:08:06.330Z"
   },
   {
    "duration": 19,
    "start_time": "2022-03-02T18:08:06.382Z"
   },
   {
    "duration": 77,
    "start_time": "2022-03-02T18:08:06.404Z"
   },
   {
    "duration": 6,
    "start_time": "2022-03-02T18:08:06.484Z"
   },
   {
    "duration": 31,
    "start_time": "2022-03-02T18:08:06.494Z"
   },
   {
    "duration": 6,
    "start_time": "2022-03-02T18:08:06.527Z"
   },
   {
    "duration": 17,
    "start_time": "2022-03-02T18:08:06.534Z"
   },
   {
    "duration": 10,
    "start_time": "2022-03-02T18:08:06.578Z"
   },
   {
    "duration": 18,
    "start_time": "2022-03-02T18:08:06.590Z"
   },
   {
    "duration": 7,
    "start_time": "2022-03-02T18:08:06.610Z"
   },
   {
    "duration": 4,
    "start_time": "2022-03-02T18:08:06.619Z"
   },
   {
    "duration": 17,
    "start_time": "2022-03-02T18:08:06.625Z"
   },
   {
    "duration": 3,
    "start_time": "2022-03-02T18:08:06.643Z"
   },
   {
    "duration": 32,
    "start_time": "2022-03-02T18:08:06.647Z"
   },
   {
    "duration": 24,
    "start_time": "2022-03-02T18:08:06.681Z"
   },
   {
    "duration": 14,
    "start_time": "2022-03-02T18:08:06.707Z"
   },
   {
    "duration": 66,
    "start_time": "2022-03-02T18:08:06.723Z"
   },
   {
    "duration": 8,
    "start_time": "2022-03-02T18:08:06.791Z"
   },
   {
    "duration": 495,
    "start_time": "2022-03-02T18:08:06.801Z"
   },
   {
    "duration": 7,
    "start_time": "2022-03-02T18:08:29.522Z"
   },
   {
    "duration": 1237,
    "start_time": "2022-03-02T18:08:36.622Z"
   },
   {
    "duration": 42,
    "start_time": "2022-03-02T18:08:37.861Z"
   },
   {
    "duration": 8,
    "start_time": "2022-03-02T18:08:37.906Z"
   },
   {
    "duration": 11,
    "start_time": "2022-03-02T18:08:37.916Z"
   },
   {
    "duration": 8,
    "start_time": "2022-03-02T18:08:37.929Z"
   },
   {
    "duration": 18,
    "start_time": "2022-03-02T18:08:37.939Z"
   },
   {
    "duration": 34,
    "start_time": "2022-03-02T18:08:37.959Z"
   },
   {
    "duration": 24,
    "start_time": "2022-03-02T18:08:37.996Z"
   },
   {
    "duration": 76,
    "start_time": "2022-03-02T18:08:38.023Z"
   },
   {
    "duration": 5,
    "start_time": "2022-03-02T18:08:38.101Z"
   },
   {
    "duration": 33,
    "start_time": "2022-03-02T18:08:38.107Z"
   },
   {
    "duration": 5,
    "start_time": "2022-03-02T18:08:38.142Z"
   },
   {
    "duration": 44,
    "start_time": "2022-03-02T18:08:38.149Z"
   },
   {
    "duration": 10,
    "start_time": "2022-03-02T18:08:38.195Z"
   },
   {
    "duration": 24,
    "start_time": "2022-03-02T18:08:38.207Z"
   },
   {
    "duration": 7,
    "start_time": "2022-03-02T18:08:38.234Z"
   },
   {
    "duration": 12,
    "start_time": "2022-03-02T18:08:38.243Z"
   },
   {
    "duration": 31,
    "start_time": "2022-03-02T18:08:38.256Z"
   },
   {
    "duration": 12,
    "start_time": "2022-03-02T18:08:38.289Z"
   },
   {
    "duration": 19,
    "start_time": "2022-03-02T18:08:38.303Z"
   },
   {
    "duration": 19,
    "start_time": "2022-03-02T18:08:38.324Z"
   },
   {
    "duration": 13,
    "start_time": "2022-03-02T18:08:38.345Z"
   },
   {
    "duration": 70,
    "start_time": "2022-03-02T18:08:38.360Z"
   },
   {
    "duration": 7,
    "start_time": "2022-03-02T18:08:38.432Z"
   },
   {
    "duration": 482,
    "start_time": "2022-03-02T18:08:38.440Z"
   },
   {
    "duration": 5568,
    "start_time": "2022-03-02T18:08:56.423Z"
   },
   {
    "duration": 5486,
    "start_time": "2022-03-02T18:09:22.005Z"
   },
   {
    "duration": 5403,
    "start_time": "2022-03-02T18:12:05.189Z"
   },
   {
    "duration": 5949,
    "start_time": "2022-03-02T18:12:19.123Z"
   },
   {
    "duration": 40,
    "start_time": "2022-03-02T18:13:02.405Z"
   },
   {
    "duration": 454,
    "start_time": "2022-03-02T18:17:21.974Z"
   },
   {
    "duration": 531,
    "start_time": "2022-03-02T18:17:41.803Z"
   },
   {
    "duration": 4,
    "start_time": "2022-03-02T18:27:37.882Z"
   },
   {
    "duration": 29,
    "start_time": "2022-03-02T18:36:12.062Z"
   },
   {
    "duration": 8,
    "start_time": "2022-03-02T18:45:08.220Z"
   },
   {
    "duration": 7,
    "start_time": "2022-03-02T18:46:41.722Z"
   },
   {
    "duration": 8,
    "start_time": "2022-03-02T18:47:38.960Z"
   },
   {
    "duration": 3,
    "start_time": "2022-03-02T18:51:03.999Z"
   },
   {
    "duration": 3,
    "start_time": "2022-03-02T18:52:29.668Z"
   },
   {
    "duration": 8,
    "start_time": "2022-03-02T18:52:30.681Z"
   },
   {
    "duration": 460,
    "start_time": "2022-03-02T18:52:47.008Z"
   },
   {
    "duration": 9,
    "start_time": "2022-03-02T18:57:28.009Z"
   },
   {
    "duration": 9,
    "start_time": "2022-03-02T18:58:10.789Z"
   },
   {
    "duration": 395,
    "start_time": "2022-03-02T18:58:17.839Z"
   },
   {
    "duration": 7,
    "start_time": "2022-03-02T19:03:08.960Z"
   },
   {
    "duration": 421,
    "start_time": "2022-03-02T19:03:11.067Z"
   },
   {
    "duration": 4,
    "start_time": "2022-03-02T19:03:28.160Z"
   },
   {
    "duration": 421,
    "start_time": "2022-03-02T19:03:39.867Z"
   },
   {
    "duration": 8,
    "start_time": "2022-03-02T19:04:21.397Z"
   },
   {
    "duration": 91611,
    "start_time": "2022-03-02T19:04:21.407Z"
   },
   {
    "duration": 8,
    "start_time": "2022-03-02T19:06:04.910Z"
   },
   {
    "duration": 43052,
    "start_time": "2022-03-02T19:06:05.599Z"
   },
   {
    "duration": 7,
    "start_time": "2022-03-02T19:07:23.320Z"
   },
   {
    "duration": 404,
    "start_time": "2022-03-02T19:07:23.439Z"
   },
   {
    "duration": 8,
    "start_time": "2022-03-02T19:07:35.960Z"
   },
   {
    "duration": 433,
    "start_time": "2022-03-02T19:07:36.379Z"
   },
   {
    "duration": 7,
    "start_time": "2022-03-02T19:07:48.711Z"
   },
   {
    "duration": 430,
    "start_time": "2022-03-02T19:07:49.160Z"
   },
   {
    "duration": 8,
    "start_time": "2022-03-02T19:08:00.006Z"
   },
   {
    "duration": 443,
    "start_time": "2022-03-02T19:08:01.060Z"
   },
   {
    "duration": 7,
    "start_time": "2022-03-02T19:08:11.164Z"
   },
   {
    "duration": 422,
    "start_time": "2022-03-02T19:08:11.680Z"
   },
   {
    "duration": 8,
    "start_time": "2022-03-02T19:09:27.767Z"
   },
   {
    "duration": 3962,
    "start_time": "2022-03-02T19:09:28.620Z"
   },
   {
    "duration": 225,
    "start_time": "2022-03-02T19:09:39.040Z"
   },
   {
    "duration": 19,
    "start_time": "2022-03-02T19:10:03.788Z"
   },
   {
    "duration": 20,
    "start_time": "2022-03-02T19:10:17.508Z"
   },
   {
    "duration": 1167,
    "start_time": "2022-03-03T15:27:44.308Z"
   },
   {
    "duration": 31,
    "start_time": "2022-03-03T15:27:45.477Z"
   },
   {
    "duration": 10,
    "start_time": "2022-03-03T15:27:45.510Z"
   },
   {
    "duration": 11,
    "start_time": "2022-03-03T15:27:45.522Z"
   },
   {
    "duration": 4,
    "start_time": "2022-03-03T15:27:45.535Z"
   },
   {
    "duration": 8,
    "start_time": "2022-03-03T15:27:45.563Z"
   },
   {
    "duration": 14,
    "start_time": "2022-03-03T15:27:45.573Z"
   },
   {
    "duration": 13,
    "start_time": "2022-03-03T15:27:45.590Z"
   },
   {
    "duration": 77,
    "start_time": "2022-03-03T15:27:45.605Z"
   },
   {
    "duration": 6,
    "start_time": "2022-03-03T15:27:45.684Z"
   },
   {
    "duration": 27,
    "start_time": "2022-03-03T15:27:45.692Z"
   },
   {
    "duration": 5,
    "start_time": "2022-03-03T15:27:45.721Z"
   },
   {
    "duration": 47,
    "start_time": "2022-03-03T15:27:45.728Z"
   },
   {
    "duration": 7,
    "start_time": "2022-03-03T15:27:45.777Z"
   },
   {
    "duration": 11,
    "start_time": "2022-03-03T15:27:45.786Z"
   },
   {
    "duration": 16,
    "start_time": "2022-03-03T15:27:45.798Z"
   },
   {
    "duration": 16,
    "start_time": "2022-03-03T15:27:45.816Z"
   },
   {
    "duration": 29,
    "start_time": "2022-03-03T15:27:45.834Z"
   },
   {
    "duration": 3,
    "start_time": "2022-03-03T15:27:45.864Z"
   },
   {
    "duration": 8,
    "start_time": "2022-03-03T15:27:45.868Z"
   },
   {
    "duration": 10,
    "start_time": "2022-03-03T15:27:45.878Z"
   },
   {
    "duration": 11,
    "start_time": "2022-03-03T15:27:45.890Z"
   },
   {
    "duration": 71,
    "start_time": "2022-03-03T15:27:45.904Z"
   },
   {
    "duration": 23,
    "start_time": "2022-03-03T15:27:45.977Z"
   },
   {
    "duration": 9,
    "start_time": "2022-03-03T15:27:46.002Z"
   },
   {
    "duration": 4,
    "start_time": "2022-03-03T15:27:46.013Z"
   },
   {
    "duration": 8,
    "start_time": "2022-03-03T15:27:46.019Z"
   },
   {
    "duration": 481516,
    "start_time": "2022-03-03T15:27:46.029Z"
   },
   {
    "duration": -4992,
    "start_time": "2022-03-03T15:35:52.539Z"
   },
   {
    "duration": 20,
    "start_time": "2022-03-03T15:35:49.816Z"
   },
   {
    "duration": 8,
    "start_time": "2022-03-03T15:38:49.289Z"
   },
   {
    "duration": 503,
    "start_time": "2022-03-03T15:38:49.299Z"
   },
   {
    "duration": 8,
    "start_time": "2022-03-03T15:40:35.619Z"
   },
   {
    "duration": 488,
    "start_time": "2022-03-03T15:40:37.228Z"
   },
   {
    "duration": 7,
    "start_time": "2022-03-03T15:41:05.725Z"
   },
   {
    "duration": 508,
    "start_time": "2022-03-03T15:41:05.736Z"
   },
   {
    "duration": 7,
    "start_time": "2022-03-03T15:41:15.380Z"
   },
   {
    "duration": 178,
    "start_time": "2022-03-03T15:41:15.443Z"
   },
   {
    "duration": 7,
    "start_time": "2022-03-03T15:41:41.992Z"
   },
   {
    "duration": 301,
    "start_time": "2022-03-03T15:41:43.554Z"
   },
   {
    "duration": 7,
    "start_time": "2022-03-03T15:42:29.149Z"
   },
   {
    "duration": 301,
    "start_time": "2022-03-03T15:42:29.267Z"
   },
   {
    "duration": 7,
    "start_time": "2022-03-03T15:42:49.299Z"
   },
   {
    "duration": 287,
    "start_time": "2022-03-03T15:42:49.778Z"
   },
   {
    "duration": 10,
    "start_time": "2022-03-03T15:43:21.741Z"
   },
   {
    "duration": 8,
    "start_time": "2022-03-03T15:45:51.487Z"
   },
   {
    "duration": 362,
    "start_time": "2022-03-03T15:45:51.499Z"
   },
   {
    "duration": 7,
    "start_time": "2022-03-03T15:46:56.056Z"
   },
   {
    "duration": 600,
    "start_time": "2022-03-03T15:46:56.145Z"
   },
   {
    "duration": 56,
    "start_time": "2022-03-03T15:47:38.743Z"
   },
   {
    "duration": -4936,
    "start_time": "2022-03-03T15:47:43.737Z"
   },
   {
    "duration": 8,
    "start_time": "2022-03-03T15:47:46.105Z"
   },
   {
    "duration": 613,
    "start_time": "2022-03-03T15:47:46.115Z"
   },
   {
    "duration": 8,
    "start_time": "2022-03-03T15:48:00.747Z"
   },
   {
    "duration": 301,
    "start_time": "2022-03-03T15:48:00.766Z"
   },
   {
    "duration": 8,
    "start_time": "2022-03-03T15:48:21.751Z"
   },
   {
    "duration": 290,
    "start_time": "2022-03-03T15:48:21.761Z"
   },
   {
    "duration": 4,
    "start_time": "2022-03-03T15:54:47.944Z"
   },
   {
    "duration": 7,
    "start_time": "2022-03-03T15:59:04.166Z"
   },
   {
    "duration": 317,
    "start_time": "2022-03-03T15:59:04.268Z"
   },
   {
    "duration": 3,
    "start_time": "2022-03-03T16:02:42.524Z"
   },
   {
    "duration": 53,
    "start_time": "2022-03-03T16:09:50.017Z"
   },
   {
    "duration": 159,
    "start_time": "2022-03-03T16:09:59.411Z"
   },
   {
    "duration": 6,
    "start_time": "2022-03-03T16:11:08.263Z"
   },
   {
    "duration": 5,
    "start_time": "2022-03-03T16:11:25.257Z"
   },
   {
    "duration": 189,
    "start_time": "2022-03-03T16:12:36.552Z"
   },
   {
    "duration": 236,
    "start_time": "2022-03-03T16:12:54.034Z"
   },
   {
    "duration": 6,
    "start_time": "2022-03-03T16:13:23.819Z"
   },
   {
    "duration": 153,
    "start_time": "2022-03-03T16:16:57.148Z"
   },
   {
    "duration": 16,
    "start_time": "2022-03-03T16:17:01.010Z"
   },
   {
    "duration": 6,
    "start_time": "2022-03-03T16:17:25.044Z"
   },
   {
    "duration": 7,
    "start_time": "2022-03-03T16:19:32.035Z"
   },
   {
    "duration": 354,
    "start_time": "2022-03-03T16:19:47.352Z"
   },
   {
    "duration": 1188,
    "start_time": "2022-03-03T16:19:58.053Z"
   },
   {
    "duration": 29,
    "start_time": "2022-03-03T16:19:59.243Z"
   },
   {
    "duration": 9,
    "start_time": "2022-03-03T16:19:59.275Z"
   },
   {
    "duration": 11,
    "start_time": "2022-03-03T16:19:59.286Z"
   },
   {
    "duration": 4,
    "start_time": "2022-03-03T16:19:59.299Z"
   },
   {
    "duration": 12,
    "start_time": "2022-03-03T16:19:59.305Z"
   },
   {
    "duration": 45,
    "start_time": "2022-03-03T16:19:59.319Z"
   },
   {
    "duration": 13,
    "start_time": "2022-03-03T16:19:59.367Z"
   },
   {
    "duration": 49,
    "start_time": "2022-03-03T16:19:59.382Z"
   },
   {
    "duration": 30,
    "start_time": "2022-03-03T16:19:59.434Z"
   },
   {
    "duration": 27,
    "start_time": "2022-03-03T16:19:59.465Z"
   },
   {
    "duration": 5,
    "start_time": "2022-03-03T16:19:59.494Z"
   },
   {
    "duration": 15,
    "start_time": "2022-03-03T16:19:59.501Z"
   },
   {
    "duration": 6,
    "start_time": "2022-03-03T16:19:59.517Z"
   },
   {
    "duration": 38,
    "start_time": "2022-03-03T16:19:59.525Z"
   },
   {
    "duration": 6,
    "start_time": "2022-03-03T16:19:59.565Z"
   },
   {
    "duration": 4,
    "start_time": "2022-03-03T16:19:59.573Z"
   },
   {
    "duration": 13,
    "start_time": "2022-03-03T16:19:59.579Z"
   },
   {
    "duration": 2,
    "start_time": "2022-03-03T16:19:59.594Z"
   },
   {
    "duration": 7,
    "start_time": "2022-03-03T16:19:59.598Z"
   },
   {
    "duration": 8,
    "start_time": "2022-03-03T16:19:59.607Z"
   },
   {
    "duration": 13,
    "start_time": "2022-03-03T16:19:59.617Z"
   },
   {
    "duration": 47,
    "start_time": "2022-03-03T16:19:59.665Z"
   },
   {
    "duration": 23,
    "start_time": "2022-03-03T16:19:59.714Z"
   },
   {
    "duration": 30,
    "start_time": "2022-03-03T16:19:59.739Z"
   },
   {
    "duration": 4,
    "start_time": "2022-03-03T16:19:59.770Z"
   },
   {
    "duration": 8,
    "start_time": "2022-03-03T16:19:59.776Z"
   },
   {
    "duration": 347,
    "start_time": "2022-03-03T16:19:59.786Z"
   },
   {
    "duration": 7,
    "start_time": "2022-03-03T16:20:00.135Z"
   },
   {
    "duration": 25,
    "start_time": "2022-03-03T16:20:00.144Z"
   },
   {
    "duration": 319,
    "start_time": "2022-03-03T16:20:08.738Z"
   },
   {
    "duration": 318,
    "start_time": "2022-03-03T16:21:41.328Z"
   },
   {
    "duration": 1916,
    "start_time": "2022-03-03T17:51:11.405Z"
   },
   {
    "duration": 52,
    "start_time": "2022-03-03T17:51:13.324Z"
   },
   {
    "duration": 20,
    "start_time": "2022-03-03T17:51:13.379Z"
   },
   {
    "duration": 32,
    "start_time": "2022-03-03T17:51:13.403Z"
   },
   {
    "duration": 6,
    "start_time": "2022-03-03T17:51:13.437Z"
   },
   {
    "duration": 50,
    "start_time": "2022-03-03T17:51:13.446Z"
   },
   {
    "duration": 35,
    "start_time": "2022-03-03T17:51:13.500Z"
   },
   {
    "duration": 72,
    "start_time": "2022-03-03T17:51:13.542Z"
   },
   {
    "duration": 131,
    "start_time": "2022-03-03T17:51:13.619Z"
   },
   {
    "duration": 8,
    "start_time": "2022-03-03T17:51:13.752Z"
   },
   {
    "duration": 56,
    "start_time": "2022-03-03T17:51:13.787Z"
   },
   {
    "duration": 44,
    "start_time": "2022-03-03T17:51:13.846Z"
   },
   {
    "duration": 37,
    "start_time": "2022-03-03T17:51:13.894Z"
   },
   {
    "duration": 9,
    "start_time": "2022-03-03T17:51:13.933Z"
   },
   {
    "duration": 57,
    "start_time": "2022-03-03T17:51:13.945Z"
   },
   {
    "duration": 14,
    "start_time": "2022-03-03T17:51:14.005Z"
   },
   {
    "duration": 22,
    "start_time": "2022-03-03T17:51:14.023Z"
   },
   {
    "duration": 48,
    "start_time": "2022-03-03T17:51:14.048Z"
   },
   {
    "duration": 5,
    "start_time": "2022-03-03T17:51:14.099Z"
   },
   {
    "duration": 15,
    "start_time": "2022-03-03T17:51:14.107Z"
   },
   {
    "duration": 17,
    "start_time": "2022-03-03T17:51:14.124Z"
   },
   {
    "duration": 66,
    "start_time": "2022-03-03T17:51:14.144Z"
   },
   {
    "duration": 104,
    "start_time": "2022-03-03T17:51:14.215Z"
   },
   {
    "duration": 81,
    "start_time": "2022-03-03T17:51:14.323Z"
   },
   {
    "duration": 16,
    "start_time": "2022-03-03T17:51:14.407Z"
   },
   {
    "duration": 12,
    "start_time": "2022-03-03T17:51:14.425Z"
   },
   {
    "duration": 17,
    "start_time": "2022-03-03T17:51:14.440Z"
   },
   {
    "duration": 609,
    "start_time": "2022-03-03T17:51:14.460Z"
   },
   {
    "duration": 1189,
    "start_time": "2022-03-03T17:51:15.071Z"
   },
   {
    "duration": 27,
    "start_time": "2022-03-03T17:51:16.263Z"
   },
   {
    "duration": 10,
    "start_time": "2022-03-03T17:51:16.299Z"
   },
   {
    "duration": 570,
    "start_time": "2022-03-03T17:51:16.312Z"
   },
   {
    "duration": 1400,
    "start_time": "2022-03-03T17:51:16.887Z"
   },
   {
    "duration": 578,
    "start_time": "2022-03-03T17:55:57.685Z"
   },
   {
    "duration": 9,
    "start_time": "2022-03-03T18:01:18.523Z"
   },
   {
    "duration": 24,
    "start_time": "2022-03-03T18:08:29.044Z"
   },
   {
    "duration": 37,
    "start_time": "2022-03-03T18:08:57.624Z"
   },
   {
    "duration": 540,
    "start_time": "2022-03-03T18:09:39.733Z"
   },
   {
    "duration": 304,
    "start_time": "2022-03-03T18:10:34.792Z"
   },
   {
    "duration": 78,
    "start_time": "2022-03-03T18:11:02.323Z"
   },
   {
    "duration": 104,
    "start_time": "2022-03-03T18:11:09.284Z"
   },
   {
    "duration": 65,
    "start_time": "2022-03-03T18:11:17.524Z"
   },
   {
    "duration": 278,
    "start_time": "2022-03-03T18:16:30.284Z"
   },
   {
    "duration": 7,
    "start_time": "2022-03-03T18:17:04.364Z"
   },
   {
    "duration": 5,
    "start_time": "2022-03-03T18:23:38.932Z"
   },
   {
    "duration": 248,
    "start_time": "2022-03-03T18:28:51.944Z"
   },
   {
    "duration": 394,
    "start_time": "2022-03-03T18:29:59.986Z"
   },
   {
    "duration": 1562,
    "start_time": "2022-03-03T18:32:48.973Z"
   },
   {
    "duration": 59,
    "start_time": "2022-03-03T18:32:50.538Z"
   },
   {
    "duration": 12,
    "start_time": "2022-03-03T18:32:50.600Z"
   },
   {
    "duration": 23,
    "start_time": "2022-03-03T18:32:50.614Z"
   },
   {
    "duration": 4,
    "start_time": "2022-03-03T18:32:50.640Z"
   },
   {
    "duration": 12,
    "start_time": "2022-03-03T18:32:50.646Z"
   },
   {
    "duration": 22,
    "start_time": "2022-03-03T18:32:50.688Z"
   },
   {
    "duration": 21,
    "start_time": "2022-03-03T18:32:50.714Z"
   },
   {
    "duration": 114,
    "start_time": "2022-03-03T18:32:50.738Z"
   },
   {
    "duration": 7,
    "start_time": "2022-03-03T18:32:50.854Z"
   },
   {
    "duration": 40,
    "start_time": "2022-03-03T18:32:50.887Z"
   },
   {
    "duration": 9,
    "start_time": "2022-03-03T18:32:50.930Z"
   },
   {
    "duration": 50,
    "start_time": "2022-03-03T18:32:50.942Z"
   },
   {
    "duration": 9,
    "start_time": "2022-03-03T18:32:50.995Z"
   },
   {
    "duration": 17,
    "start_time": "2022-03-03T18:32:51.007Z"
   },
   {
    "duration": 26,
    "start_time": "2022-03-03T18:32:51.027Z"
   },
   {
    "duration": 4,
    "start_time": "2022-03-03T18:32:51.056Z"
   },
   {
    "duration": 17,
    "start_time": "2022-03-03T18:32:51.088Z"
   },
   {
    "duration": 3,
    "start_time": "2022-03-03T18:32:51.108Z"
   },
   {
    "duration": 14,
    "start_time": "2022-03-03T18:32:51.114Z"
   },
   {
    "duration": 27,
    "start_time": "2022-03-03T18:32:51.131Z"
   },
   {
    "duration": 39,
    "start_time": "2022-03-03T18:32:51.161Z"
   },
   {
    "duration": 93,
    "start_time": "2022-03-03T18:32:51.204Z"
   },
   {
    "duration": 36,
    "start_time": "2022-03-03T18:32:51.300Z"
   },
   {
    "duration": 13,
    "start_time": "2022-03-03T18:32:51.338Z"
   },
   {
    "duration": 5,
    "start_time": "2022-03-03T18:32:51.353Z"
   },
   {
    "duration": 11,
    "start_time": "2022-03-03T18:32:51.388Z"
   },
   {
    "duration": 533,
    "start_time": "2022-03-03T18:32:51.402Z"
   },
   {
    "duration": 10,
    "start_time": "2022-03-03T18:32:51.938Z"
   },
   {
    "duration": 517,
    "start_time": "2022-03-03T18:32:51.951Z"
   },
   {
    "duration": 24,
    "start_time": "2022-03-03T18:32:52.470Z"
   },
   {
    "duration": 16,
    "start_time": "2022-03-03T18:32:52.497Z"
   },
   {
    "duration": 86,
    "start_time": "2022-03-03T18:32:52.516Z"
   },
   {
    "duration": 74,
    "start_time": "2022-03-03T18:33:13.193Z"
   },
   {
    "duration": 19,
    "start_time": "2022-03-03T18:34:21.214Z"
   },
   {
    "duration": 61,
    "start_time": "2022-03-03T18:34:22.232Z"
   },
   {
    "duration": 90,
    "start_time": "2022-03-03T18:35:00.213Z"
   },
   {
    "duration": 15,
    "start_time": "2022-03-03T18:36:40.353Z"
   },
   {
    "duration": 11,
    "start_time": "2022-03-03T18:36:52.713Z"
   },
   {
    "duration": 16,
    "start_time": "2022-03-03T18:36:56.393Z"
   },
   {
    "duration": 1551,
    "start_time": "2022-03-03T18:39:03.958Z"
   },
   {
    "duration": 46,
    "start_time": "2022-03-03T18:39:05.512Z"
   },
   {
    "duration": 29,
    "start_time": "2022-03-03T18:39:05.562Z"
   },
   {
    "duration": 22,
    "start_time": "2022-03-03T18:39:05.594Z"
   },
   {
    "duration": 9,
    "start_time": "2022-03-03T18:39:05.619Z"
   },
   {
    "duration": 20,
    "start_time": "2022-03-03T18:39:05.631Z"
   },
   {
    "duration": 44,
    "start_time": "2022-03-03T18:39:05.653Z"
   },
   {
    "duration": 20,
    "start_time": "2022-03-03T18:39:05.700Z"
   },
   {
    "duration": 91,
    "start_time": "2022-03-03T18:39:05.724Z"
   },
   {
    "duration": 7,
    "start_time": "2022-03-03T18:39:05.818Z"
   },
   {
    "duration": 71,
    "start_time": "2022-03-03T18:39:05.827Z"
   },
   {
    "duration": 8,
    "start_time": "2022-03-03T18:39:05.900Z"
   },
   {
    "duration": 19,
    "start_time": "2022-03-03T18:39:05.910Z"
   },
   {
    "duration": 8,
    "start_time": "2022-03-03T18:39:05.931Z"
   },
   {
    "duration": 53,
    "start_time": "2022-03-03T18:39:05.942Z"
   },
   {
    "duration": 8,
    "start_time": "2022-03-03T18:39:05.998Z"
   },
   {
    "duration": 6,
    "start_time": "2022-03-03T18:39:06.009Z"
   },
   {
    "duration": 20,
    "start_time": "2022-03-03T18:39:06.017Z"
   },
   {
    "duration": 4,
    "start_time": "2022-03-03T18:39:06.039Z"
   },
   {
    "duration": 42,
    "start_time": "2022-03-03T18:39:06.045Z"
   },
   {
    "duration": 12,
    "start_time": "2022-03-03T18:39:06.089Z"
   },
   {
    "duration": 19,
    "start_time": "2022-03-03T18:39:06.103Z"
   },
   {
    "duration": 102,
    "start_time": "2022-03-03T18:39:06.125Z"
   },
   {
    "duration": 32,
    "start_time": "2022-03-03T18:39:06.229Z"
   },
   {
    "duration": 29,
    "start_time": "2022-03-03T18:39:06.263Z"
   },
   {
    "duration": 13,
    "start_time": "2022-03-03T18:39:06.295Z"
   },
   {
    "duration": 11,
    "start_time": "2022-03-03T18:39:06.313Z"
   },
   {
    "duration": 538,
    "start_time": "2022-03-03T18:39:06.327Z"
   },
   {
    "duration": 22,
    "start_time": "2022-03-03T18:39:06.867Z"
   },
   {
    "duration": 510,
    "start_time": "2022-03-03T18:39:06.892Z"
   },
   {
    "duration": 9,
    "start_time": "2022-03-03T18:39:07.405Z"
   },
   {
    "duration": 428,
    "start_time": "2022-03-03T18:39:07.416Z"
   },
   {
    "duration": -5716,
    "start_time": "2022-03-03T18:39:13.563Z"
   },
   {
    "duration": -5720,
    "start_time": "2022-03-03T18:39:13.568Z"
   },
   {
    "duration": 16,
    "start_time": "2022-03-03T18:41:07.000Z"
   },
   {
    "duration": 6,
    "start_time": "2022-03-03T18:41:07.760Z"
   },
   {
    "duration": 5,
    "start_time": "2022-03-03T18:42:22.279Z"
   },
   {
    "duration": 19,
    "start_time": "2022-03-03T18:43:35.300Z"
   },
   {
    "duration": 5,
    "start_time": "2022-03-03T18:43:39.059Z"
   },
   {
    "duration": 5,
    "start_time": "2022-03-03T18:43:54.619Z"
   },
   {
    "duration": 1556,
    "start_time": "2022-03-03T18:44:27.380Z"
   },
   {
    "duration": 38,
    "start_time": "2022-03-03T18:44:28.939Z"
   },
   {
    "duration": 16,
    "start_time": "2022-03-03T18:44:28.980Z"
   },
   {
    "duration": 20,
    "start_time": "2022-03-03T18:44:28.999Z"
   },
   {
    "duration": 5,
    "start_time": "2022-03-03T18:44:29.022Z"
   },
   {
    "duration": 12,
    "start_time": "2022-03-03T18:44:29.030Z"
   },
   {
    "duration": 60,
    "start_time": "2022-03-03T18:44:29.044Z"
   },
   {
    "duration": 23,
    "start_time": "2022-03-03T18:44:29.106Z"
   },
   {
    "duration": 101,
    "start_time": "2022-03-03T18:44:29.133Z"
   },
   {
    "duration": 8,
    "start_time": "2022-03-03T18:44:29.238Z"
   },
   {
    "duration": 72,
    "start_time": "2022-03-03T18:44:29.248Z"
   },
   {
    "duration": 8,
    "start_time": "2022-03-03T18:44:29.322Z"
   },
   {
    "duration": 20,
    "start_time": "2022-03-03T18:44:29.332Z"
   },
   {
    "duration": 36,
    "start_time": "2022-03-03T18:44:29.354Z"
   },
   {
    "duration": 15,
    "start_time": "2022-03-03T18:44:29.393Z"
   },
   {
    "duration": 9,
    "start_time": "2022-03-03T18:44:29.410Z"
   },
   {
    "duration": 4,
    "start_time": "2022-03-03T18:44:29.422Z"
   },
   {
    "duration": 18,
    "start_time": "2022-03-03T18:44:29.428Z"
   },
   {
    "duration": 40,
    "start_time": "2022-03-03T18:44:29.448Z"
   },
   {
    "duration": 17,
    "start_time": "2022-03-03T18:44:29.490Z"
   },
   {
    "duration": 23,
    "start_time": "2022-03-03T18:44:29.510Z"
   },
   {
    "duration": 24,
    "start_time": "2022-03-03T18:44:29.536Z"
   },
   {
    "duration": 86,
    "start_time": "2022-03-03T18:44:29.562Z"
   },
   {
    "duration": 51,
    "start_time": "2022-03-03T18:44:29.651Z"
   },
   {
    "duration": 14,
    "start_time": "2022-03-03T18:44:29.704Z"
   },
   {
    "duration": 8,
    "start_time": "2022-03-03T18:44:29.720Z"
   },
   {
    "duration": 11,
    "start_time": "2022-03-03T18:44:29.734Z"
   },
   {
    "duration": 573,
    "start_time": "2022-03-03T18:44:29.749Z"
   },
   {
    "duration": 11,
    "start_time": "2022-03-03T18:44:30.324Z"
   },
   {
    "duration": 531,
    "start_time": "2022-03-03T18:44:30.338Z"
   },
   {
    "duration": 21,
    "start_time": "2022-03-03T18:44:30.871Z"
   },
   {
    "duration": 444,
    "start_time": "2022-03-03T18:44:30.894Z"
   },
   {
    "duration": -5549,
    "start_time": "2022-03-03T18:44:36.889Z"
   },
   {
    "duration": -5553,
    "start_time": "2022-03-03T18:44:36.895Z"
   },
   {
    "duration": 1509,
    "start_time": "2022-03-03T18:44:52.116Z"
   },
   {
    "duration": 38,
    "start_time": "2022-03-03T18:44:53.628Z"
   },
   {
    "duration": 19,
    "start_time": "2022-03-03T18:44:53.669Z"
   },
   {
    "duration": 28,
    "start_time": "2022-03-03T18:44:53.691Z"
   },
   {
    "duration": 5,
    "start_time": "2022-03-03T18:44:53.722Z"
   },
   {
    "duration": 19,
    "start_time": "2022-03-03T18:44:53.730Z"
   },
   {
    "duration": 42,
    "start_time": "2022-03-03T18:44:53.752Z"
   },
   {
    "duration": 20,
    "start_time": "2022-03-03T18:44:53.796Z"
   },
   {
    "duration": 100,
    "start_time": "2022-03-03T18:44:53.819Z"
   },
   {
    "duration": 6,
    "start_time": "2022-03-03T18:44:53.922Z"
   },
   {
    "duration": 65,
    "start_time": "2022-03-03T18:44:53.930Z"
   },
   {
    "duration": 8,
    "start_time": "2022-03-03T18:44:53.997Z"
   },
   {
    "duration": 21,
    "start_time": "2022-03-03T18:44:54.007Z"
   },
   {
    "duration": 8,
    "start_time": "2022-03-03T18:44:54.030Z"
   },
   {
    "duration": 48,
    "start_time": "2022-03-03T18:44:54.041Z"
   },
   {
    "duration": 9,
    "start_time": "2022-03-03T18:44:54.091Z"
   },
   {
    "duration": 9,
    "start_time": "2022-03-03T18:44:54.103Z"
   },
   {
    "duration": 20,
    "start_time": "2022-03-03T18:44:54.114Z"
   },
   {
    "duration": 4,
    "start_time": "2022-03-03T18:44:54.136Z"
   },
   {
    "duration": 8,
    "start_time": "2022-03-03T18:44:54.142Z"
   },
   {
    "duration": 45,
    "start_time": "2022-03-03T18:44:54.152Z"
   },
   {
    "duration": 19,
    "start_time": "2022-03-03T18:44:54.200Z"
   },
   {
    "duration": 105,
    "start_time": "2022-03-03T18:44:54.221Z"
   },
   {
    "duration": 34,
    "start_time": "2022-03-03T18:44:54.328Z"
   },
   {
    "duration": 33,
    "start_time": "2022-03-03T18:44:54.365Z"
   },
   {
    "duration": 8,
    "start_time": "2022-03-03T18:44:54.401Z"
   },
   {
    "duration": 12,
    "start_time": "2022-03-03T18:44:54.414Z"
   },
   {
    "duration": 529,
    "start_time": "2022-03-03T18:44:54.428Z"
   },
   {
    "duration": 9,
    "start_time": "2022-03-03T18:44:54.960Z"
   },
   {
    "duration": 521,
    "start_time": "2022-03-03T18:44:54.986Z"
   },
   {
    "duration": 9,
    "start_time": "2022-03-03T18:44:55.509Z"
   },
   {
    "duration": 13,
    "start_time": "2022-03-03T18:44:55.520Z"
   },
   {
    "duration": 4,
    "start_time": "2022-03-03T18:44:55.536Z"
   },
   {
    "duration": 71,
    "start_time": "2022-03-03T18:44:55.542Z"
   },
   {
    "duration": 19,
    "start_time": "2022-03-03T18:45:22.115Z"
   },
   {
    "duration": 5,
    "start_time": "2022-03-03T18:45:22.855Z"
   },
   {
    "duration": 32,
    "start_time": "2022-03-03T18:45:32.204Z"
   },
   {
    "duration": 5,
    "start_time": "2022-03-03T18:45:32.545Z"
   },
   {
    "duration": 169,
    "start_time": "2022-03-03T18:45:41.595Z"
   },
   {
    "duration": 1580,
    "start_time": "2022-03-03T18:45:47.854Z"
   },
   {
    "duration": 38,
    "start_time": "2022-03-03T18:45:49.437Z"
   },
   {
    "duration": 17,
    "start_time": "2022-03-03T18:45:49.479Z"
   },
   {
    "duration": 16,
    "start_time": "2022-03-03T18:45:49.499Z"
   },
   {
    "duration": 6,
    "start_time": "2022-03-03T18:45:49.517Z"
   },
   {
    "duration": 13,
    "start_time": "2022-03-03T18:45:49.525Z"
   },
   {
    "duration": 63,
    "start_time": "2022-03-03T18:45:49.541Z"
   },
   {
    "duration": 21,
    "start_time": "2022-03-03T18:45:49.608Z"
   },
   {
    "duration": 101,
    "start_time": "2022-03-03T18:45:49.632Z"
   },
   {
    "duration": 7,
    "start_time": "2022-03-03T18:45:49.735Z"
   },
   {
    "duration": 68,
    "start_time": "2022-03-03T18:45:49.745Z"
   },
   {
    "duration": 8,
    "start_time": "2022-03-03T18:45:49.816Z"
   },
   {
    "duration": 22,
    "start_time": "2022-03-03T18:45:49.827Z"
   },
   {
    "duration": 42,
    "start_time": "2022-03-03T18:45:49.852Z"
   },
   {
    "duration": 16,
    "start_time": "2022-03-03T18:45:49.897Z"
   },
   {
    "duration": 11,
    "start_time": "2022-03-03T18:45:49.916Z"
   },
   {
    "duration": 12,
    "start_time": "2022-03-03T18:45:49.930Z"
   },
   {
    "duration": 56,
    "start_time": "2022-03-03T18:45:49.945Z"
   },
   {
    "duration": 7,
    "start_time": "2022-03-03T18:45:50.004Z"
   },
   {
    "duration": 19,
    "start_time": "2022-03-03T18:45:50.013Z"
   },
   {
    "duration": 15,
    "start_time": "2022-03-03T18:45:50.035Z"
   },
   {
    "duration": 50,
    "start_time": "2022-03-03T18:45:50.053Z"
   },
   {
    "duration": 98,
    "start_time": "2022-03-03T18:45:50.111Z"
   },
   {
    "duration": 35,
    "start_time": "2022-03-03T18:45:50.212Z"
   },
   {
    "duration": 39,
    "start_time": "2022-03-03T18:45:50.250Z"
   },
   {
    "duration": 9,
    "start_time": "2022-03-03T18:45:50.291Z"
   },
   {
    "duration": 11,
    "start_time": "2022-03-03T18:45:50.303Z"
   },
   {
    "duration": 547,
    "start_time": "2022-03-03T18:45:50.317Z"
   },
   {
    "duration": 22,
    "start_time": "2022-03-03T18:45:50.867Z"
   },
   {
    "duration": 615,
    "start_time": "2022-03-03T18:45:50.892Z"
   },
   {
    "duration": 9,
    "start_time": "2022-03-03T18:45:51.510Z"
   },
   {
    "duration": 23,
    "start_time": "2022-03-03T18:45:51.521Z"
   },
   {
    "duration": 5,
    "start_time": "2022-03-03T18:45:51.546Z"
   },
   {
    "duration": 59,
    "start_time": "2022-03-03T18:45:51.553Z"
   },
   {
    "duration": 6,
    "start_time": "2022-03-03T18:46:11.753Z"
   },
   {
    "duration": 1755,
    "start_time": "2022-03-03T18:47:00.118Z"
   },
   {
    "duration": 51,
    "start_time": "2022-03-03T18:47:01.876Z"
   },
   {
    "duration": 15,
    "start_time": "2022-03-03T18:47:01.931Z"
   },
   {
    "duration": 38,
    "start_time": "2022-03-03T18:47:01.950Z"
   },
   {
    "duration": 6,
    "start_time": "2022-03-03T18:47:01.991Z"
   },
   {
    "duration": 25,
    "start_time": "2022-03-03T18:47:02.000Z"
   },
   {
    "duration": 25,
    "start_time": "2022-03-03T18:47:02.028Z"
   },
   {
    "duration": 52,
    "start_time": "2022-03-03T18:47:02.058Z"
   },
   {
    "duration": 112,
    "start_time": "2022-03-03T18:47:02.113Z"
   },
   {
    "duration": 6,
    "start_time": "2022-03-03T18:47:02.229Z"
   },
   {
    "duration": 78,
    "start_time": "2022-03-03T18:47:02.237Z"
   },
   {
    "duration": 8,
    "start_time": "2022-03-03T18:47:02.318Z"
   },
   {
    "duration": 24,
    "start_time": "2022-03-03T18:47:02.329Z"
   },
   {
    "duration": 40,
    "start_time": "2022-03-03T18:47:02.356Z"
   },
   {
    "duration": 45,
    "start_time": "2022-03-03T18:47:02.400Z"
   },
   {
    "duration": 14,
    "start_time": "2022-03-03T18:47:02.447Z"
   },
   {
    "duration": 4,
    "start_time": "2022-03-03T18:47:02.464Z"
   },
   {
    "duration": 39,
    "start_time": "2022-03-03T18:47:02.472Z"
   },
   {
    "duration": 5,
    "start_time": "2022-03-03T18:47:02.513Z"
   },
   {
    "duration": 10,
    "start_time": "2022-03-03T18:47:02.521Z"
   },
   {
    "duration": 20,
    "start_time": "2022-03-03T18:47:02.534Z"
   },
   {
    "duration": 49,
    "start_time": "2022-03-03T18:47:02.556Z"
   },
   {
    "duration": 99,
    "start_time": "2022-03-03T18:47:02.611Z"
   },
   {
    "duration": 37,
    "start_time": "2022-03-03T18:47:02.713Z"
   },
   {
    "duration": 37,
    "start_time": "2022-03-03T18:47:02.753Z"
   },
   {
    "duration": 6,
    "start_time": "2022-03-03T18:47:02.792Z"
   },
   {
    "duration": 15,
    "start_time": "2022-03-03T18:47:02.800Z"
   },
   {
    "duration": 610,
    "start_time": "2022-03-03T18:47:02.817Z"
   },
   {
    "duration": 12,
    "start_time": "2022-03-03T18:47:03.429Z"
   },
   {
    "duration": 633,
    "start_time": "2022-03-03T18:47:03.443Z"
   },
   {
    "duration": 14,
    "start_time": "2022-03-03T18:47:04.079Z"
   },
   {
    "duration": 9,
    "start_time": "2022-03-03T18:47:04.095Z"
   },
   {
    "duration": 15,
    "start_time": "2022-03-03T18:47:04.107Z"
   },
   {
    "duration": 12,
    "start_time": "2022-03-03T18:47:04.125Z"
   },
   {
    "duration": 47,
    "start_time": "2022-03-03T18:47:04.140Z"
   },
   {
    "duration": 36,
    "start_time": "2022-03-03T18:47:04.190Z"
   },
   {
    "duration": 1512,
    "start_time": "2022-03-03T18:47:35.421Z"
   },
   {
    "duration": 37,
    "start_time": "2022-03-03T18:47:36.936Z"
   },
   {
    "duration": 20,
    "start_time": "2022-03-03T18:47:36.976Z"
   },
   {
    "duration": 16,
    "start_time": "2022-03-03T18:47:36.998Z"
   },
   {
    "duration": 6,
    "start_time": "2022-03-03T18:47:37.016Z"
   },
   {
    "duration": 12,
    "start_time": "2022-03-03T18:47:37.025Z"
   },
   {
    "duration": 69,
    "start_time": "2022-03-03T18:47:37.040Z"
   },
   {
    "duration": 21,
    "start_time": "2022-03-03T18:47:37.112Z"
   },
   {
    "duration": 99,
    "start_time": "2022-03-03T18:47:37.138Z"
   },
   {
    "duration": 6,
    "start_time": "2022-03-03T18:47:37.240Z"
   },
   {
    "duration": 62,
    "start_time": "2022-03-03T18:47:37.248Z"
   },
   {
    "duration": 7,
    "start_time": "2022-03-03T18:47:37.313Z"
   },
   {
    "duration": 20,
    "start_time": "2022-03-03T18:47:37.322Z"
   },
   {
    "duration": 8,
    "start_time": "2022-03-03T18:47:37.345Z"
   },
   {
    "duration": 43,
    "start_time": "2022-03-03T18:47:37.356Z"
   },
   {
    "duration": 8,
    "start_time": "2022-03-03T18:47:37.401Z"
   },
   {
    "duration": 7,
    "start_time": "2022-03-03T18:47:37.411Z"
   },
   {
    "duration": 16,
    "start_time": "2022-03-03T18:47:37.421Z"
   },
   {
    "duration": 4,
    "start_time": "2022-03-03T18:47:37.439Z"
   },
   {
    "duration": 42,
    "start_time": "2022-03-03T18:47:37.445Z"
   },
   {
    "duration": 19,
    "start_time": "2022-03-03T18:47:37.490Z"
   },
   {
    "duration": 20,
    "start_time": "2022-03-03T18:47:37.512Z"
   },
   {
    "duration": 111,
    "start_time": "2022-03-03T18:47:37.534Z"
   },
   {
    "duration": 50,
    "start_time": "2022-03-03T18:47:37.647Z"
   },
   {
    "duration": 11,
    "start_time": "2022-03-03T18:47:37.699Z"
   },
   {
    "duration": 5,
    "start_time": "2022-03-03T18:47:37.712Z"
   },
   {
    "duration": 10,
    "start_time": "2022-03-03T18:47:37.721Z"
   },
   {
    "duration": 564,
    "start_time": "2022-03-03T18:47:37.734Z"
   },
   {
    "duration": 9,
    "start_time": "2022-03-03T18:47:38.301Z"
   },
   {
    "duration": 517,
    "start_time": "2022-03-03T18:47:38.312Z"
   },
   {
    "duration": 10,
    "start_time": "2022-03-03T18:47:38.831Z"
   },
   {
    "duration": 9,
    "start_time": "2022-03-03T18:47:38.844Z"
   },
   {
    "duration": 34,
    "start_time": "2022-03-03T18:47:38.855Z"
   },
   {
    "duration": 9,
    "start_time": "2022-03-03T18:47:38.891Z"
   },
   {
    "duration": 5,
    "start_time": "2022-03-03T18:47:38.902Z"
   },
   {
    "duration": 38,
    "start_time": "2022-03-03T18:47:38.909Z"
   },
   {
    "duration": 6,
    "start_time": "2022-03-03T18:53:49.838Z"
   },
   {
    "duration": 5,
    "start_time": "2022-03-03T18:53:59.898Z"
   },
   {
    "duration": 16,
    "start_time": "2022-03-03T18:54:16.140Z"
   },
   {
    "duration": 25,
    "start_time": "2022-03-03T18:54:25.002Z"
   },
   {
    "duration": 1611,
    "start_time": "2022-03-03T18:56:32.258Z"
   },
   {
    "duration": 55,
    "start_time": "2022-03-03T18:56:33.873Z"
   },
   {
    "duration": 17,
    "start_time": "2022-03-03T18:56:33.932Z"
   },
   {
    "duration": 43,
    "start_time": "2022-03-03T18:56:33.952Z"
   },
   {
    "duration": 7,
    "start_time": "2022-03-03T18:56:33.998Z"
   },
   {
    "duration": 16,
    "start_time": "2022-03-03T18:56:34.008Z"
   },
   {
    "duration": 27,
    "start_time": "2022-03-03T18:56:34.027Z"
   },
   {
    "duration": 21,
    "start_time": "2022-03-03T18:56:34.087Z"
   },
   {
    "duration": 114,
    "start_time": "2022-03-03T18:56:34.111Z"
   },
   {
    "duration": 8,
    "start_time": "2022-03-03T18:56:34.228Z"
   },
   {
    "duration": 58,
    "start_time": "2022-03-03T18:56:34.238Z"
   },
   {
    "duration": 11,
    "start_time": "2022-03-03T18:56:34.299Z"
   },
   {
    "duration": 26,
    "start_time": "2022-03-03T18:56:34.313Z"
   },
   {
    "duration": 45,
    "start_time": "2022-03-03T18:56:34.342Z"
   },
   {
    "duration": 26,
    "start_time": "2022-03-03T18:56:34.390Z"
   },
   {
    "duration": 11,
    "start_time": "2022-03-03T18:56:34.418Z"
   },
   {
    "duration": 6,
    "start_time": "2022-03-03T18:56:34.432Z"
   },
   {
    "duration": 47,
    "start_time": "2022-03-03T18:56:34.441Z"
   },
   {
    "duration": 5,
    "start_time": "2022-03-03T18:56:34.491Z"
   },
   {
    "duration": 10,
    "start_time": "2022-03-03T18:56:34.499Z"
   },
   {
    "duration": 14,
    "start_time": "2022-03-03T18:56:34.512Z"
   },
   {
    "duration": 58,
    "start_time": "2022-03-03T18:56:34.529Z"
   },
   {
    "duration": 101,
    "start_time": "2022-03-03T18:56:34.594Z"
   },
   {
    "duration": 33,
    "start_time": "2022-03-03T18:56:34.698Z"
   },
   {
    "duration": 15,
    "start_time": "2022-03-03T18:56:34.734Z"
   },
   {
    "duration": 39,
    "start_time": "2022-03-03T18:56:34.752Z"
   },
   {
    "duration": 17,
    "start_time": "2022-03-03T18:56:34.795Z"
   },
   {
    "duration": 757,
    "start_time": "2022-03-03T18:56:34.815Z"
   },
   {
    "duration": 24,
    "start_time": "2022-03-03T18:56:35.575Z"
   },
   {
    "duration": 755,
    "start_time": "2022-03-03T18:56:35.602Z"
   },
   {
    "duration": 11,
    "start_time": "2022-03-03T18:56:36.360Z"
   },
   {
    "duration": 3,
    "start_time": "2022-03-03T18:56:36.387Z"
   },
   {
    "duration": 6,
    "start_time": "2022-03-03T18:56:36.393Z"
   },
   {
    "duration": 24,
    "start_time": "2022-03-03T18:56:36.401Z"
   },
   {
    "duration": 25,
    "start_time": "2022-03-03T18:56:36.429Z"
   },
   {
    "duration": 93,
    "start_time": "2022-03-03T18:56:36.488Z"
   },
   {
    "duration": -5550,
    "start_time": "2022-03-03T18:56:42.134Z"
   },
   {
    "duration": 1537,
    "start_time": "2022-03-03T18:57:03.621Z"
   },
   {
    "duration": 41,
    "start_time": "2022-03-03T18:57:05.161Z"
   },
   {
    "duration": 11,
    "start_time": "2022-03-03T18:57:05.205Z"
   },
   {
    "duration": 18,
    "start_time": "2022-03-03T18:57:05.219Z"
   },
   {
    "duration": 6,
    "start_time": "2022-03-03T18:57:05.240Z"
   },
   {
    "duration": 46,
    "start_time": "2022-03-03T18:57:05.249Z"
   },
   {
    "duration": 23,
    "start_time": "2022-03-03T18:57:05.297Z"
   },
   {
    "duration": 20,
    "start_time": "2022-03-03T18:57:05.324Z"
   },
   {
    "duration": 157,
    "start_time": "2022-03-03T18:57:05.347Z"
   },
   {
    "duration": 8,
    "start_time": "2022-03-03T18:57:05.507Z"
   },
   {
    "duration": 79,
    "start_time": "2022-03-03T18:57:05.518Z"
   },
   {
    "duration": 10,
    "start_time": "2022-03-03T18:57:05.600Z"
   },
   {
    "duration": 24,
    "start_time": "2022-03-03T18:57:05.612Z"
   },
   {
    "duration": 13,
    "start_time": "2022-03-03T18:57:05.638Z"
   },
   {
    "duration": 47,
    "start_time": "2022-03-03T18:57:05.653Z"
   },
   {
    "duration": 8,
    "start_time": "2022-03-03T18:57:05.703Z"
   },
   {
    "duration": 8,
    "start_time": "2022-03-03T18:57:05.713Z"
   },
   {
    "duration": 19,
    "start_time": "2022-03-03T18:57:05.723Z"
   },
   {
    "duration": 44,
    "start_time": "2022-03-03T18:57:05.744Z"
   },
   {
    "duration": 15,
    "start_time": "2022-03-03T18:57:05.790Z"
   },
   {
    "duration": 20,
    "start_time": "2022-03-03T18:57:05.808Z"
   },
   {
    "duration": 55,
    "start_time": "2022-03-03T18:57:05.832Z"
   },
   {
    "duration": 123,
    "start_time": "2022-03-03T18:57:05.894Z"
   },
   {
    "duration": 66,
    "start_time": "2022-03-03T18:57:06.021Z"
   },
   {
    "duration": 16,
    "start_time": "2022-03-03T18:57:06.090Z"
   },
   {
    "duration": 12,
    "start_time": "2022-03-03T18:57:06.108Z"
   },
   {
    "duration": 10,
    "start_time": "2022-03-03T18:57:06.122Z"
   },
   {
    "duration": 531,
    "start_time": "2022-03-03T18:57:06.135Z"
   },
   {
    "duration": 19,
    "start_time": "2022-03-03T18:57:06.668Z"
   },
   {
    "duration": 516,
    "start_time": "2022-03-03T18:57:06.689Z"
   },
   {
    "duration": 11,
    "start_time": "2022-03-03T18:57:07.208Z"
   },
   {
    "duration": 5,
    "start_time": "2022-03-03T18:57:07.222Z"
   },
   {
    "duration": 8,
    "start_time": "2022-03-03T18:57:07.230Z"
   },
   {
    "duration": 6,
    "start_time": "2022-03-03T18:57:07.240Z"
   },
   {
    "duration": 47,
    "start_time": "2022-03-03T18:57:07.249Z"
   },
   {
    "duration": 97,
    "start_time": "2022-03-03T18:57:07.299Z"
   },
   {
    "duration": -5522,
    "start_time": "2022-03-03T18:57:12.921Z"
   },
   {
    "duration": 16,
    "start_time": "2022-03-03T18:57:15.021Z"
   },
   {
    "duration": 23,
    "start_time": "2022-03-03T18:57:36.582Z"
   },
   {
    "duration": 2060,
    "start_time": "2022-03-03T19:02:12.129Z"
   },
   {
    "duration": 52,
    "start_time": "2022-03-03T19:02:14.192Z"
   },
   {
    "duration": 16,
    "start_time": "2022-03-03T19:02:14.248Z"
   },
   {
    "duration": 37,
    "start_time": "2022-03-03T19:02:14.267Z"
   },
   {
    "duration": 7,
    "start_time": "2022-03-03T19:02:14.307Z"
   },
   {
    "duration": 15,
    "start_time": "2022-03-03T19:02:14.316Z"
   },
   {
    "duration": 65,
    "start_time": "2022-03-03T19:02:14.334Z"
   },
   {
    "duration": 29,
    "start_time": "2022-03-03T19:02:14.401Z"
   },
   {
    "duration": 128,
    "start_time": "2022-03-03T19:02:14.435Z"
   },
   {
    "duration": 22,
    "start_time": "2022-03-03T19:02:14.566Z"
   },
   {
    "duration": 37,
    "start_time": "2022-03-03T19:02:14.591Z"
   },
   {
    "duration": 8,
    "start_time": "2022-03-03T19:02:14.630Z"
   },
   {
    "duration": 57,
    "start_time": "2022-03-03T19:02:14.640Z"
   },
   {
    "duration": 9,
    "start_time": "2022-03-03T19:02:14.700Z"
   },
   {
    "duration": 14,
    "start_time": "2022-03-03T19:02:14.711Z"
   },
   {
    "duration": 9,
    "start_time": "2022-03-03T19:02:14.727Z"
   },
   {
    "duration": 49,
    "start_time": "2022-03-03T19:02:14.739Z"
   },
   {
    "duration": 18,
    "start_time": "2022-03-03T19:02:14.791Z"
   },
   {
    "duration": 11,
    "start_time": "2022-03-03T19:02:14.811Z"
   },
   {
    "duration": 8,
    "start_time": "2022-03-03T19:02:14.824Z"
   },
   {
    "duration": 12,
    "start_time": "2022-03-03T19:02:14.835Z"
   },
   {
    "duration": 54,
    "start_time": "2022-03-03T19:02:14.849Z"
   },
   {
    "duration": 96,
    "start_time": "2022-03-03T19:02:14.905Z"
   },
   {
    "duration": 33,
    "start_time": "2022-03-03T19:02:15.004Z"
   },
   {
    "duration": 13,
    "start_time": "2022-03-03T19:02:15.040Z"
   },
   {
    "duration": 33,
    "start_time": "2022-03-03T19:02:15.055Z"
   },
   {
    "duration": 16,
    "start_time": "2022-03-03T19:02:15.093Z"
   },
   {
    "duration": 523,
    "start_time": "2022-03-03T19:02:15.112Z"
   },
   {
    "duration": 12,
    "start_time": "2022-03-03T19:02:15.639Z"
   },
   {
    "duration": 522,
    "start_time": "2022-03-03T19:02:15.654Z"
   },
   {
    "duration": 17,
    "start_time": "2022-03-03T19:02:16.179Z"
   },
   {
    "duration": 542,
    "start_time": "2022-03-03T19:02:16.199Z"
   },
   {
    "duration": -5853,
    "start_time": "2022-03-03T19:02:22.597Z"
   },
   {
    "duration": -5858,
    "start_time": "2022-03-03T19:02:22.604Z"
   },
   {
    "duration": -5860,
    "start_time": "2022-03-03T19:02:22.608Z"
   },
   {
    "duration": -5863,
    "start_time": "2022-03-03T19:02:22.613Z"
   },
   {
    "duration": -5865,
    "start_time": "2022-03-03T19:02:22.618Z"
   },
   {
    "duration": 1645,
    "start_time": "2022-03-03T19:03:15.416Z"
   },
   {
    "duration": 46,
    "start_time": "2022-03-03T19:03:17.064Z"
   },
   {
    "duration": 11,
    "start_time": "2022-03-03T19:03:17.113Z"
   },
   {
    "duration": 18,
    "start_time": "2022-03-03T19:03:17.127Z"
   },
   {
    "duration": 6,
    "start_time": "2022-03-03T19:03:17.148Z"
   },
   {
    "duration": 14,
    "start_time": "2022-03-03T19:03:17.189Z"
   },
   {
    "duration": 27,
    "start_time": "2022-03-03T19:03:17.206Z"
   },
   {
    "duration": 56,
    "start_time": "2022-03-03T19:03:17.238Z"
   },
   {
    "duration": 112,
    "start_time": "2022-03-03T19:03:17.298Z"
   },
   {
    "duration": 8,
    "start_time": "2022-03-03T19:03:17.413Z"
   },
   {
    "duration": 40,
    "start_time": "2022-03-03T19:03:17.423Z"
   },
   {
    "duration": 10,
    "start_time": "2022-03-03T19:03:17.488Z"
   },
   {
    "duration": 23,
    "start_time": "2022-03-03T19:03:17.502Z"
   },
   {
    "duration": 9,
    "start_time": "2022-03-03T19:03:17.528Z"
   },
   {
    "duration": 50,
    "start_time": "2022-03-03T19:03:17.539Z"
   },
   {
    "duration": 15,
    "start_time": "2022-03-03T19:03:17.593Z"
   },
   {
    "duration": 8,
    "start_time": "2022-03-03T19:03:17.611Z"
   },
   {
    "duration": 16,
    "start_time": "2022-03-03T19:03:17.622Z"
   },
   {
    "duration": 4,
    "start_time": "2022-03-03T19:03:17.640Z"
   },
   {
    "duration": 49,
    "start_time": "2022-03-03T19:03:17.646Z"
   },
   {
    "duration": 24,
    "start_time": "2022-03-03T19:03:17.698Z"
   },
   {
    "duration": 19,
    "start_time": "2022-03-03T19:03:17.725Z"
   },
   {
    "duration": 107,
    "start_time": "2022-03-03T19:03:17.749Z"
   },
   {
    "duration": 55,
    "start_time": "2022-03-03T19:03:17.860Z"
   },
   {
    "duration": 15,
    "start_time": "2022-03-03T19:03:17.918Z"
   },
   {
    "duration": 13,
    "start_time": "2022-03-03T19:03:17.936Z"
   },
   {
    "duration": 36,
    "start_time": "2022-03-03T19:03:17.952Z"
   },
   {
    "duration": 586,
    "start_time": "2022-03-03T19:03:17.991Z"
   },
   {
    "duration": 17,
    "start_time": "2022-03-03T19:03:18.587Z"
   },
   {
    "duration": 586,
    "start_time": "2022-03-03T19:03:18.607Z"
   },
   {
    "duration": 13,
    "start_time": "2022-03-03T19:03:19.196Z"
   },
   {
    "duration": 424,
    "start_time": "2022-03-03T19:03:19.213Z"
   },
   {
    "duration": -6115,
    "start_time": "2022-03-03T19:03:25.755Z"
   },
   {
    "duration": -6121,
    "start_time": "2022-03-03T19:03:25.762Z"
   },
   {
    "duration": -6124,
    "start_time": "2022-03-03T19:03:25.767Z"
   },
   {
    "duration": -6128,
    "start_time": "2022-03-03T19:03:25.773Z"
   },
   {
    "duration": -6130,
    "start_time": "2022-03-03T19:03:25.777Z"
   },
   {
    "duration": 2107,
    "start_time": "2022-03-03T19:03:44.453Z"
   },
   {
    "duration": 51,
    "start_time": "2022-03-03T19:03:46.564Z"
   },
   {
    "duration": 11,
    "start_time": "2022-03-03T19:03:46.618Z"
   },
   {
    "duration": 19,
    "start_time": "2022-03-03T19:03:46.632Z"
   },
   {
    "duration": 36,
    "start_time": "2022-03-03T19:03:46.653Z"
   },
   {
    "duration": 14,
    "start_time": "2022-03-03T19:03:46.692Z"
   },
   {
    "duration": 30,
    "start_time": "2022-03-03T19:03:46.709Z"
   },
   {
    "duration": 65,
    "start_time": "2022-03-03T19:03:46.742Z"
   },
   {
    "duration": 119,
    "start_time": "2022-03-03T19:03:46.812Z"
   },
   {
    "duration": 7,
    "start_time": "2022-03-03T19:03:46.935Z"
   },
   {
    "duration": 76,
    "start_time": "2022-03-03T19:03:46.945Z"
   },
   {
    "duration": 11,
    "start_time": "2022-03-03T19:03:47.024Z"
   },
   {
    "duration": 22,
    "start_time": "2022-03-03T19:03:47.038Z"
   },
   {
    "duration": 32,
    "start_time": "2022-03-03T19:03:47.062Z"
   },
   {
    "duration": 13,
    "start_time": "2022-03-03T19:03:47.096Z"
   },
   {
    "duration": 10,
    "start_time": "2022-03-03T19:03:47.112Z"
   },
   {
    "duration": 8,
    "start_time": "2022-03-03T19:03:47.125Z"
   },
   {
    "duration": 52,
    "start_time": "2022-03-03T19:03:47.135Z"
   },
   {
    "duration": 5,
    "start_time": "2022-03-03T19:03:47.190Z"
   },
   {
    "duration": 9,
    "start_time": "2022-03-03T19:03:47.198Z"
   },
   {
    "duration": 15,
    "start_time": "2022-03-03T19:03:47.209Z"
   },
   {
    "duration": 20,
    "start_time": "2022-03-03T19:03:47.226Z"
   },
   {
    "duration": 70,
    "start_time": "2022-03-03T19:03:47.288Z"
   },
   {
    "duration": 49,
    "start_time": "2022-03-03T19:03:47.361Z"
   },
   {
    "duration": 13,
    "start_time": "2022-03-03T19:03:47.412Z"
   },
   {
    "duration": 7,
    "start_time": "2022-03-03T19:03:47.428Z"
   },
   {
    "duration": 11,
    "start_time": "2022-03-03T19:03:47.440Z"
   },
   {
    "duration": 527,
    "start_time": "2022-03-03T19:03:47.488Z"
   },
   {
    "duration": 10,
    "start_time": "2022-03-03T19:03:48.018Z"
   },
   {
    "duration": 518,
    "start_time": "2022-03-03T19:03:48.030Z"
   },
   {
    "duration": 11,
    "start_time": "2022-03-03T19:03:48.551Z"
   },
   {
    "duration": 36,
    "start_time": "2022-03-03T19:03:48.564Z"
   },
   {
    "duration": 533,
    "start_time": "2022-03-03T19:03:48.603Z"
   },
   {
    "duration": -5698,
    "start_time": "2022-03-03T19:03:54.837Z"
   },
   {
    "duration": -5701,
    "start_time": "2022-03-03T19:03:54.841Z"
   },
   {
    "duration": -5704,
    "start_time": "2022-03-03T19:03:54.847Z"
   },
   {
    "duration": -5707,
    "start_time": "2022-03-03T19:03:54.852Z"
   },
   {
    "duration": 1647,
    "start_time": "2022-03-03T19:04:28.100Z"
   },
   {
    "duration": 42,
    "start_time": "2022-03-03T19:04:29.750Z"
   },
   {
    "duration": 13,
    "start_time": "2022-03-03T19:04:29.795Z"
   },
   {
    "duration": 21,
    "start_time": "2022-03-03T19:04:29.811Z"
   },
   {
    "duration": 7,
    "start_time": "2022-03-03T19:04:29.835Z"
   },
   {
    "duration": 45,
    "start_time": "2022-03-03T19:04:29.845Z"
   },
   {
    "duration": 35,
    "start_time": "2022-03-03T19:04:29.892Z"
   },
   {
    "duration": 21,
    "start_time": "2022-03-03T19:04:29.930Z"
   },
   {
    "duration": 106,
    "start_time": "2022-03-03T19:04:29.955Z"
   },
   {
    "duration": 8,
    "start_time": "2022-03-03T19:04:30.088Z"
   },
   {
    "duration": 43,
    "start_time": "2022-03-03T19:04:30.099Z"
   },
   {
    "duration": 8,
    "start_time": "2022-03-03T19:04:30.144Z"
   },
   {
    "duration": 48,
    "start_time": "2022-03-03T19:04:30.155Z"
   },
   {
    "duration": 10,
    "start_time": "2022-03-03T19:04:30.206Z"
   },
   {
    "duration": 30,
    "start_time": "2022-03-03T19:04:30.219Z"
   },
   {
    "duration": 41,
    "start_time": "2022-03-03T19:04:30.251Z"
   },
   {
    "duration": 5,
    "start_time": "2022-03-03T19:04:30.294Z"
   },
   {
    "duration": 25,
    "start_time": "2022-03-03T19:04:30.302Z"
   },
   {
    "duration": 11,
    "start_time": "2022-03-03T19:04:30.330Z"
   },
   {
    "duration": 16,
    "start_time": "2022-03-03T19:04:30.343Z"
   },
   {
    "duration": 30,
    "start_time": "2022-03-03T19:04:30.362Z"
   },
   {
    "duration": 21,
    "start_time": "2022-03-03T19:04:30.395Z"
   },
   {
    "duration": 96,
    "start_time": "2022-03-03T19:04:30.419Z"
   },
   {
    "duration": 36,
    "start_time": "2022-03-03T19:04:30.519Z"
   },
   {
    "duration": 41,
    "start_time": "2022-03-03T19:04:30.558Z"
   },
   {
    "duration": 18,
    "start_time": "2022-03-03T19:04:30.602Z"
   },
   {
    "duration": 16,
    "start_time": "2022-03-03T19:04:30.627Z"
   },
   {
    "duration": 547,
    "start_time": "2022-03-03T19:04:30.646Z"
   },
   {
    "duration": 12,
    "start_time": "2022-03-03T19:04:31.196Z"
   },
   {
    "duration": 548,
    "start_time": "2022-03-03T19:04:31.211Z"
   },
   {
    "duration": 27,
    "start_time": "2022-03-03T19:04:31.761Z"
   },
   {
    "duration": 17,
    "start_time": "2022-03-03T19:04:31.792Z"
   },
   {
    "duration": 37,
    "start_time": "2022-03-03T19:04:31.811Z"
   },
   {
    "duration": 36,
    "start_time": "2022-03-03T19:04:31.851Z"
   },
   {
    "duration": 20,
    "start_time": "2022-03-03T19:04:31.890Z"
   },
   {
    "duration": 12,
    "start_time": "2022-03-03T19:04:31.913Z"
   },
   {
    "duration": 440,
    "start_time": "2022-03-03T19:04:31.928Z"
   },
   {
    "duration": 2193,
    "start_time": "2022-03-03T19:05:00.350Z"
   },
   {
    "duration": 56,
    "start_time": "2022-03-03T19:05:02.547Z"
   },
   {
    "duration": 15,
    "start_time": "2022-03-03T19:05:02.607Z"
   },
   {
    "duration": 35,
    "start_time": "2022-03-03T19:05:02.625Z"
   },
   {
    "duration": 26,
    "start_time": "2022-03-03T19:05:02.662Z"
   },
   {
    "duration": 18,
    "start_time": "2022-03-03T19:05:02.691Z"
   },
   {
    "duration": 38,
    "start_time": "2022-03-03T19:05:02.712Z"
   },
   {
    "duration": 42,
    "start_time": "2022-03-03T19:05:02.754Z"
   },
   {
    "duration": 93,
    "start_time": "2022-03-03T19:05:02.799Z"
   },
   {
    "duration": 6,
    "start_time": "2022-03-03T19:05:02.894Z"
   },
   {
    "duration": 45,
    "start_time": "2022-03-03T19:05:02.903Z"
   },
   {
    "duration": 44,
    "start_time": "2022-03-03T19:05:02.951Z"
   },
   {
    "duration": 44,
    "start_time": "2022-03-03T19:05:02.998Z"
   },
   {
    "duration": 11,
    "start_time": "2022-03-03T19:05:03.044Z"
   },
   {
    "duration": 39,
    "start_time": "2022-03-03T19:05:03.058Z"
   },
   {
    "duration": 9,
    "start_time": "2022-03-03T19:05:03.100Z"
   },
   {
    "duration": 6,
    "start_time": "2022-03-03T19:05:03.112Z"
   },
   {
    "duration": 17,
    "start_time": "2022-03-03T19:05:03.121Z"
   },
   {
    "duration": 4,
    "start_time": "2022-03-03T19:05:03.140Z"
   },
   {
    "duration": 44,
    "start_time": "2022-03-03T19:05:03.146Z"
   },
   {
    "duration": 20,
    "start_time": "2022-03-03T19:05:03.192Z"
   },
   {
    "duration": 37,
    "start_time": "2022-03-03T19:05:03.215Z"
   },
   {
    "duration": 90,
    "start_time": "2022-03-03T19:05:03.257Z"
   },
   {
    "duration": 50,
    "start_time": "2022-03-03T19:05:03.350Z"
   },
   {
    "duration": 21,
    "start_time": "2022-03-03T19:05:03.402Z"
   },
   {
    "duration": 39,
    "start_time": "2022-03-03T19:05:03.425Z"
   },
   {
    "duration": 28,
    "start_time": "2022-03-03T19:05:03.467Z"
   },
   {
    "duration": 712,
    "start_time": "2022-03-03T19:05:03.498Z"
   },
   {
    "duration": 13,
    "start_time": "2022-03-03T19:05:04.213Z"
   },
   {
    "duration": 745,
    "start_time": "2022-03-03T19:05:04.229Z"
   },
   {
    "duration": 16,
    "start_time": "2022-03-03T19:05:04.977Z"
   },
   {
    "duration": 22,
    "start_time": "2022-03-03T19:05:04.996Z"
   },
   {
    "duration": 66,
    "start_time": "2022-03-03T19:05:05.021Z"
   },
   {
    "duration": 14,
    "start_time": "2022-03-03T19:05:05.091Z"
   },
   {
    "duration": 39,
    "start_time": "2022-03-03T19:05:05.108Z"
   },
   {
    "duration": 15,
    "start_time": "2022-03-03T19:05:05.150Z"
   },
   {
    "duration": 48,
    "start_time": "2022-03-03T19:05:05.169Z"
   },
   {
    "duration": 1143,
    "start_time": "2022-03-05T09:30:27.461Z"
   },
   {
    "duration": 32,
    "start_time": "2022-03-05T09:30:28.606Z"
   },
   {
    "duration": 7,
    "start_time": "2022-03-05T09:30:28.640Z"
   },
   {
    "duration": 9,
    "start_time": "2022-03-05T09:30:28.649Z"
   },
   {
    "duration": 3,
    "start_time": "2022-03-05T09:30:28.660Z"
   },
   {
    "duration": 7,
    "start_time": "2022-03-05T09:30:28.664Z"
   },
   {
    "duration": 12,
    "start_time": "2022-03-05T09:30:28.673Z"
   },
   {
    "duration": 11,
    "start_time": "2022-03-05T09:30:28.686Z"
   },
   {
    "duration": 81,
    "start_time": "2022-03-05T09:30:28.699Z"
   },
   {
    "duration": 4,
    "start_time": "2022-03-05T09:30:28.783Z"
   },
   {
    "duration": 54,
    "start_time": "2022-03-05T09:30:28.789Z"
   },
   {
    "duration": 5,
    "start_time": "2022-03-05T09:30:28.845Z"
   },
   {
    "duration": 16,
    "start_time": "2022-03-05T09:30:28.851Z"
   },
   {
    "duration": 6,
    "start_time": "2022-03-05T09:30:28.869Z"
   },
   {
    "duration": 8,
    "start_time": "2022-03-05T09:30:28.877Z"
   },
   {
    "duration": 5,
    "start_time": "2022-03-05T09:30:28.886Z"
   },
   {
    "duration": 4,
    "start_time": "2022-03-05T09:30:28.893Z"
   },
   {
    "duration": 42,
    "start_time": "2022-03-05T09:30:28.899Z"
   },
   {
    "duration": 3,
    "start_time": "2022-03-05T09:30:28.943Z"
   },
   {
    "duration": 11,
    "start_time": "2022-03-05T09:30:28.948Z"
   },
   {
    "duration": 8,
    "start_time": "2022-03-05T09:30:28.960Z"
   },
   {
    "duration": 12,
    "start_time": "2022-03-05T09:30:28.969Z"
   },
   {
    "duration": 74,
    "start_time": "2022-03-05T09:30:28.983Z"
   },
   {
    "duration": 22,
    "start_time": "2022-03-05T09:30:29.059Z"
   },
   {
    "duration": 7,
    "start_time": "2022-03-05T09:30:29.083Z"
   },
   {
    "duration": 7,
    "start_time": "2022-03-05T09:30:29.092Z"
   },
   {
    "duration": 31,
    "start_time": "2022-03-05T09:30:29.102Z"
   },
   {
    "duration": 336,
    "start_time": "2022-03-05T09:30:29.135Z"
   },
   {
    "duration": 7,
    "start_time": "2022-03-05T09:30:29.472Z"
   },
   {
    "duration": 322,
    "start_time": "2022-03-05T09:30:29.480Z"
   },
   {
    "duration": 6,
    "start_time": "2022-03-05T09:30:29.804Z"
   },
   {
    "duration": 24,
    "start_time": "2022-03-05T09:30:29.811Z"
   },
   {
    "duration": 22,
    "start_time": "2022-03-05T09:30:29.836Z"
   },
   {
    "duration": 7,
    "start_time": "2022-03-05T09:30:29.860Z"
   },
   {
    "duration": 17,
    "start_time": "2022-03-05T09:30:29.868Z"
   },
   {
    "duration": 7,
    "start_time": "2022-03-05T09:30:29.887Z"
   },
   {
    "duration": 40,
    "start_time": "2022-03-05T09:30:29.896Z"
   },
   {
    "duration": 6,
    "start_time": "2022-03-05T09:31:23.564Z"
   },
   {
    "duration": 298,
    "start_time": "2022-03-05T09:31:25.341Z"
   },
   {
    "duration": 928,
    "start_time": "2022-03-05T09:31:57.553Z"
   },
   {
    "duration": 995,
    "start_time": "2022-03-05T09:40:17.242Z"
   },
   {
    "duration": 1520,
    "start_time": "2022-03-05T09:41:57.702Z"
   },
   {
    "duration": 6,
    "start_time": "2022-03-05T10:28:38.780Z"
   },
   {
    "duration": 374,
    "start_time": "2022-03-05T10:29:44.400Z"
   },
   {
    "duration": 4,
    "start_time": "2022-03-05T10:29:48.170Z"
   },
   {
    "duration": 131,
    "start_time": "2022-03-05T10:30:06.660Z"
   },
   {
    "duration": 4,
    "start_time": "2022-03-05T10:30:34.141Z"
   },
   {
    "duration": 271,
    "start_time": "2022-03-05T10:30:36.420Z"
   },
   {
    "duration": 4,
    "start_time": "2022-03-05T10:34:12.788Z"
   },
   {
    "duration": 277,
    "start_time": "2022-03-05T10:34:16.000Z"
   },
   {
    "duration": 5,
    "start_time": "2022-03-05T10:34:35.136Z"
   },
   {
    "duration": 26,
    "start_time": "2022-03-05T10:34:38.040Z"
   },
   {
    "duration": 3,
    "start_time": "2022-03-05T10:34:55.777Z"
   },
   {
    "duration": 27,
    "start_time": "2022-03-05T10:34:59.221Z"
   },
   {
    "duration": 1202,
    "start_time": "2022-03-05T10:35:11.700Z"
   },
   {
    "duration": 28,
    "start_time": "2022-03-05T10:35:12.904Z"
   },
   {
    "duration": 9,
    "start_time": "2022-03-05T10:35:12.934Z"
   },
   {
    "duration": 10,
    "start_time": "2022-03-05T10:35:12.945Z"
   },
   {
    "duration": 4,
    "start_time": "2022-03-05T10:35:12.956Z"
   },
   {
    "duration": 11,
    "start_time": "2022-03-05T10:35:12.961Z"
   },
   {
    "duration": 16,
    "start_time": "2022-03-05T10:35:12.973Z"
   },
   {
    "duration": 51,
    "start_time": "2022-03-05T10:35:12.991Z"
   },
   {
    "duration": 52,
    "start_time": "2022-03-05T10:35:13.044Z"
   },
   {
    "duration": 5,
    "start_time": "2022-03-05T10:35:13.098Z"
   },
   {
    "duration": 25,
    "start_time": "2022-03-05T10:35:13.134Z"
   },
   {
    "duration": 6,
    "start_time": "2022-03-05T10:35:13.161Z"
   },
   {
    "duration": 15,
    "start_time": "2022-03-05T10:35:13.168Z"
   },
   {
    "duration": 6,
    "start_time": "2022-03-05T10:35:13.185Z"
   },
   {
    "duration": 46,
    "start_time": "2022-03-05T10:35:13.193Z"
   },
   {
    "duration": 6,
    "start_time": "2022-03-05T10:35:13.241Z"
   },
   {
    "duration": 3,
    "start_time": "2022-03-05T10:35:13.248Z"
   },
   {
    "duration": 14,
    "start_time": "2022-03-05T10:35:13.253Z"
   },
   {
    "duration": 3,
    "start_time": "2022-03-05T10:35:13.269Z"
   },
   {
    "duration": 6,
    "start_time": "2022-03-05T10:35:13.274Z"
   },
   {
    "duration": 8,
    "start_time": "2022-03-05T10:35:13.282Z"
   },
   {
    "duration": 42,
    "start_time": "2022-03-05T10:35:13.292Z"
   },
   {
    "duration": 46,
    "start_time": "2022-03-05T10:35:13.338Z"
   },
   {
    "duration": 47,
    "start_time": "2022-03-05T10:35:13.386Z"
   },
   {
    "duration": 9,
    "start_time": "2022-03-05T10:35:13.435Z"
   },
   {
    "duration": 3,
    "start_time": "2022-03-05T10:35:13.446Z"
   },
   {
    "duration": 7,
    "start_time": "2022-03-05T10:35:13.451Z"
   },
   {
    "duration": 342,
    "start_time": "2022-03-05T10:35:13.460Z"
   },
   {
    "duration": 1587,
    "start_time": "2022-03-05T10:35:13.804Z"
   },
   {
    "duration": 689,
    "start_time": "2022-03-05T10:35:15.393Z"
   },
   {
    "duration": 4,
    "start_time": "2022-03-05T10:35:16.083Z"
   },
   {
    "duration": 10,
    "start_time": "2022-03-05T10:35:16.089Z"
   },
   {
    "duration": 378,
    "start_time": "2022-03-05T10:35:16.100Z"
   },
   {
    "duration": -279,
    "start_time": "2022-03-05T10:35:16.759Z"
   },
   {
    "duration": -283,
    "start_time": "2022-03-05T10:35:16.765Z"
   },
   {
    "duration": -290,
    "start_time": "2022-03-05T10:35:16.772Z"
   },
   {
    "duration": -294,
    "start_time": "2022-03-05T10:35:16.778Z"
   },
   {
    "duration": -334,
    "start_time": "2022-03-05T10:35:16.819Z"
   },
   {
    "duration": -356,
    "start_time": "2022-03-05T10:35:16.842Z"
   },
   {
    "duration": -380,
    "start_time": "2022-03-05T10:35:16.867Z"
   },
   {
    "duration": -403,
    "start_time": "2022-03-05T10:35:16.891Z"
   },
   {
    "duration": -416,
    "start_time": "2022-03-05T10:35:16.905Z"
   },
   {
    "duration": 3,
    "start_time": "2022-03-05T10:36:12.750Z"
   },
   {
    "duration": 92,
    "start_time": "2022-03-05T10:36:15.441Z"
   },
   {
    "duration": 5,
    "start_time": "2022-03-05T10:36:26.762Z"
   },
   {
    "duration": 52,
    "start_time": "2022-03-05T10:36:28.881Z"
   },
   {
    "duration": 140,
    "start_time": "2022-03-05T10:46:17.340Z"
   },
   {
    "duration": 10,
    "start_time": "2022-03-05T10:46:20.802Z"
   },
   {
    "duration": 57,
    "start_time": "2022-03-05T10:46:21.579Z"
   },
   {
    "duration": 130,
    "start_time": "2022-03-05T10:50:53.923Z"
   },
   {
    "duration": 8,
    "start_time": "2022-03-05T10:50:56.937Z"
   },
   {
    "duration": 118,
    "start_time": "2022-03-05T10:50:57.520Z"
   },
   {
    "duration": 9,
    "start_time": "2022-03-05T10:51:29.960Z"
   },
   {
    "duration": 26,
    "start_time": "2022-03-05T10:51:30.611Z"
   },
   {
    "duration": 7,
    "start_time": "2022-03-05T10:56:26.628Z"
   },
   {
    "duration": 25,
    "start_time": "2022-03-05T10:56:31.880Z"
   },
   {
    "duration": 1149,
    "start_time": "2022-03-05T10:56:42.245Z"
   },
   {
    "duration": 33,
    "start_time": "2022-03-05T10:56:43.396Z"
   },
   {
    "duration": 8,
    "start_time": "2022-03-05T10:56:43.433Z"
   },
   {
    "duration": 15,
    "start_time": "2022-03-05T10:56:43.442Z"
   },
   {
    "duration": 3,
    "start_time": "2022-03-05T10:56:43.458Z"
   },
   {
    "duration": 7,
    "start_time": "2022-03-05T10:56:43.463Z"
   },
   {
    "duration": 13,
    "start_time": "2022-03-05T10:56:43.471Z"
   },
   {
    "duration": 12,
    "start_time": "2022-03-05T10:56:43.486Z"
   },
   {
    "duration": 49,
    "start_time": "2022-03-05T10:56:43.532Z"
   },
   {
    "duration": 4,
    "start_time": "2022-03-05T10:56:43.583Z"
   },
   {
    "duration": 45,
    "start_time": "2022-03-05T10:56:43.588Z"
   },
   {
    "duration": 6,
    "start_time": "2022-03-05T10:56:43.634Z"
   },
   {
    "duration": 18,
    "start_time": "2022-03-05T10:56:43.641Z"
   },
   {
    "duration": 5,
    "start_time": "2022-03-05T10:56:43.661Z"
   },
   {
    "duration": 9,
    "start_time": "2022-03-05T10:56:43.668Z"
   },
   {
    "duration": 7,
    "start_time": "2022-03-05T10:56:43.678Z"
   },
   {
    "duration": 3,
    "start_time": "2022-03-05T10:56:43.687Z"
   },
   {
    "duration": 48,
    "start_time": "2022-03-05T10:56:43.692Z"
   },
   {
    "duration": 3,
    "start_time": "2022-03-05T10:56:43.742Z"
   },
   {
    "duration": 8,
    "start_time": "2022-03-05T10:56:43.747Z"
   },
   {
    "duration": 9,
    "start_time": "2022-03-05T10:56:43.756Z"
   },
   {
    "duration": 13,
    "start_time": "2022-03-05T10:56:43.767Z"
   },
   {
    "duration": 76,
    "start_time": "2022-03-05T10:56:43.782Z"
   },
   {
    "duration": 21,
    "start_time": "2022-03-05T10:56:43.860Z"
   },
   {
    "duration": 8,
    "start_time": "2022-03-05T10:56:43.883Z"
   },
   {
    "duration": 5,
    "start_time": "2022-03-05T10:56:43.894Z"
   },
   {
    "duration": 34,
    "start_time": "2022-03-05T10:56:43.901Z"
   },
   {
    "duration": 312,
    "start_time": "2022-03-05T10:56:43.937Z"
   },
   {
    "duration": 1535,
    "start_time": "2022-03-05T10:56:44.250Z"
   },
   {
    "duration": 888,
    "start_time": "2022-03-05T10:56:45.787Z"
   },
   {
    "duration": 4,
    "start_time": "2022-03-05T10:56:46.677Z"
   },
   {
    "duration": 9,
    "start_time": "2022-03-05T10:56:46.682Z"
   },
   {
    "duration": 41,
    "start_time": "2022-03-05T10:56:46.693Z"
   },
   {
    "duration": 97,
    "start_time": "2022-03-05T10:56:46.737Z"
   },
   {
    "duration": 16,
    "start_time": "2022-03-05T10:56:46.836Z"
   },
   {
    "duration": 96,
    "start_time": "2022-03-05T10:56:46.854Z"
   },
   {
    "duration": 82,
    "start_time": "2022-03-05T10:56:46.952Z"
   },
   {
    "duration": 117,
    "start_time": "2022-03-05T10:56:47.037Z"
   },
   {
    "duration": 99,
    "start_time": "2022-03-05T10:56:47.234Z"
   },
   {
    "duration": 98,
    "start_time": "2022-03-05T10:56:47.335Z"
   },
   {
    "duration": 61,
    "start_time": "2022-03-05T11:00:09.332Z"
   },
   {
    "duration": 47,
    "start_time": "2022-03-05T11:11:23.964Z"
   },
   {
    "duration": 11,
    "start_time": "2022-03-05T11:11:24.606Z"
   },
   {
    "duration": 307,
    "start_time": "2022-03-05T11:11:25.825Z"
   },
   {
    "duration": 1640,
    "start_time": "2022-03-05T11:11:28.665Z"
   },
   {
    "duration": 883,
    "start_time": "2022-03-05T11:11:30.307Z"
   },
   {
    "duration": 5,
    "start_time": "2022-03-05T11:11:35.988Z"
   },
   {
    "duration": 7,
    "start_time": "2022-03-05T11:11:37.424Z"
   },
   {
    "duration": 41,
    "start_time": "2022-03-05T11:11:38.996Z"
   },
   {
    "duration": 6,
    "start_time": "2022-03-05T11:11:41.144Z"
   },
   {
    "duration": 10,
    "start_time": "2022-03-05T11:11:43.265Z"
   },
   {
    "duration": 93,
    "start_time": "2022-03-05T11:11:47.044Z"
   },
   {
    "duration": 4,
    "start_time": "2022-03-05T11:18:54.844Z"
   },
   {
    "duration": 8,
    "start_time": "2022-03-05T11:18:55.425Z"
   },
   {
    "duration": 318,
    "start_time": "2022-03-05T11:18:56.224Z"
   },
   {
    "duration": 1626,
    "start_time": "2022-03-05T11:18:56.544Z"
   },
   {
    "duration": 1079,
    "start_time": "2022-03-05T11:18:58.172Z"
   },
   {
    "duration": 6,
    "start_time": "2022-03-05T11:18:59.253Z"
   },
   {
    "duration": 18,
    "start_time": "2022-03-05T11:18:59.261Z"
   },
   {
    "duration": 55,
    "start_time": "2022-03-05T11:18:59.281Z"
   },
   {
    "duration": 95,
    "start_time": "2022-03-05T11:18:59.339Z"
   },
   {
    "duration": 19,
    "start_time": "2022-03-05T11:18:59.436Z"
   },
   {
    "duration": 95,
    "start_time": "2022-03-05T11:18:59.457Z"
   },
   {
    "duration": 85,
    "start_time": "2022-03-05T11:18:59.554Z"
   },
   {
    "duration": 117,
    "start_time": "2022-03-05T11:18:59.641Z"
   },
   {
    "duration": 8,
    "start_time": "2022-03-05T11:18:59.933Z"
   },
   {
    "duration": 26,
    "start_time": "2022-03-05T11:19:00.076Z"
   },
   {
    "duration": 44,
    "start_time": "2022-03-05T11:25:56.684Z"
   },
   {
    "duration": 5,
    "start_time": "2022-03-05T11:26:03.944Z"
   },
   {
    "duration": 253,
    "start_time": "2022-03-05T11:30:58.152Z"
   },
   {
    "duration": 138,
    "start_time": "2022-03-05T11:31:11.044Z"
   },
   {
    "duration": 218,
    "start_time": "2022-03-05T11:31:21.864Z"
   },
   {
    "duration": 70,
    "start_time": "2022-03-05T11:32:52.164Z"
   },
   {
    "duration": 233,
    "start_time": "2022-03-05T11:33:48.284Z"
   },
   {
    "duration": 205,
    "start_time": "2022-03-05T11:34:48.670Z"
   },
   {
    "duration": 262,
    "start_time": "2022-03-05T11:35:47.625Z"
   },
   {
    "duration": 240,
    "start_time": "2022-03-05T11:39:44.944Z"
   },
   {
    "duration": 5,
    "start_time": "2022-03-05T11:40:30.804Z"
   },
   {
    "duration": 210,
    "start_time": "2022-03-05T11:40:38.772Z"
   },
   {
    "duration": 21,
    "start_time": "2022-03-05T11:41:16.424Z"
   },
   {
    "duration": 230,
    "start_time": "2022-03-05T12:40:52.984Z"
   },
   {
    "duration": 212,
    "start_time": "2022-03-05T12:41:31.364Z"
   },
   {
    "duration": 210,
    "start_time": "2022-03-05T12:41:41.464Z"
   },
   {
    "duration": 281,
    "start_time": "2022-03-05T12:42:24.505Z"
   },
   {
    "duration": 1162,
    "start_time": "2022-03-05T13:02:24.403Z"
   },
   {
    "duration": 33,
    "start_time": "2022-03-05T13:02:25.567Z"
   },
   {
    "duration": 8,
    "start_time": "2022-03-05T13:02:25.602Z"
   },
   {
    "duration": 22,
    "start_time": "2022-03-05T13:02:25.611Z"
   },
   {
    "duration": 3,
    "start_time": "2022-03-05T13:02:25.635Z"
   },
   {
    "duration": 8,
    "start_time": "2022-03-05T13:02:25.640Z"
   },
   {
    "duration": 13,
    "start_time": "2022-03-05T13:02:25.649Z"
   },
   {
    "duration": 13,
    "start_time": "2022-03-05T13:02:25.664Z"
   },
   {
    "duration": 77,
    "start_time": "2022-03-05T13:02:25.678Z"
   },
   {
    "duration": 4,
    "start_time": "2022-03-05T13:02:25.757Z"
   },
   {
    "duration": 24,
    "start_time": "2022-03-05T13:02:25.763Z"
   },
   {
    "duration": 5,
    "start_time": "2022-03-05T13:02:25.788Z"
   },
   {
    "duration": 39,
    "start_time": "2022-03-05T13:02:25.795Z"
   },
   {
    "duration": 6,
    "start_time": "2022-03-05T13:02:25.836Z"
   },
   {
    "duration": 9,
    "start_time": "2022-03-05T13:02:25.844Z"
   },
   {
    "duration": 7,
    "start_time": "2022-03-05T13:02:25.855Z"
   },
   {
    "duration": 3,
    "start_time": "2022-03-05T13:02:25.864Z"
   },
   {
    "duration": 12,
    "start_time": "2022-03-05T13:02:25.869Z"
   },
   {
    "duration": 3,
    "start_time": "2022-03-05T13:02:25.883Z"
   },
   {
    "duration": 47,
    "start_time": "2022-03-05T13:02:25.888Z"
   },
   {
    "duration": 10,
    "start_time": "2022-03-05T13:02:25.937Z"
   },
   {
    "duration": 12,
    "start_time": "2022-03-05T13:02:25.949Z"
   },
   {
    "duration": 86,
    "start_time": "2022-03-05T13:02:25.966Z"
   },
   {
    "duration": 35,
    "start_time": "2022-03-05T13:02:26.055Z"
   },
   {
    "duration": 11,
    "start_time": "2022-03-05T13:02:26.092Z"
   },
   {
    "duration": 4,
    "start_time": "2022-03-05T13:02:26.105Z"
   },
   {
    "duration": 28,
    "start_time": "2022-03-05T13:02:26.110Z"
   },
   {
    "duration": 360,
    "start_time": "2022-03-05T13:02:26.140Z"
   },
   {
    "duration": 4826,
    "start_time": "2022-03-05T13:02:26.501Z"
   },
   {
    "duration": 1346,
    "start_time": "2022-03-05T13:02:31.333Z"
   },
   {
    "duration": 4,
    "start_time": "2022-03-05T13:02:32.682Z"
   },
   {
    "duration": 18,
    "start_time": "2022-03-05T13:02:32.688Z"
   },
   {
    "duration": 225,
    "start_time": "2022-03-05T13:02:32.708Z"
   },
   {
    "duration": 7,
    "start_time": "2022-03-05T13:02:32.935Z"
   },
   {
    "duration": 14,
    "start_time": "2022-03-05T13:02:32.943Z"
   },
   {
    "duration": 85,
    "start_time": "2022-03-05T13:02:32.959Z"
   },
   {
    "duration": 97,
    "start_time": "2022-03-05T13:02:33.047Z"
   },
   {
    "duration": 27,
    "start_time": "2022-03-05T13:02:33.233Z"
   },
   {
    "duration": 79,
    "start_time": "2022-03-05T13:02:33.262Z"
   },
   {
    "duration": 192,
    "start_time": "2022-03-05T13:02:33.343Z"
   },
   {
    "duration": 460,
    "start_time": "2022-03-05T13:02:33.538Z"
   },
   {
    "duration": 1142,
    "start_time": "2022-03-05T13:04:34.302Z"
   },
   {
    "duration": 30,
    "start_time": "2022-03-05T13:04:35.446Z"
   },
   {
    "duration": 8,
    "start_time": "2022-03-05T13:04:35.478Z"
   },
   {
    "duration": 13,
    "start_time": "2022-03-05T13:04:35.488Z"
   },
   {
    "duration": 3,
    "start_time": "2022-03-05T13:04:35.503Z"
   },
   {
    "duration": 27,
    "start_time": "2022-03-05T13:04:35.507Z"
   },
   {
    "duration": 15,
    "start_time": "2022-03-05T13:04:35.535Z"
   },
   {
    "duration": 14,
    "start_time": "2022-03-05T13:04:35.551Z"
   },
   {
    "duration": 82,
    "start_time": "2022-03-05T13:04:35.568Z"
   },
   {
    "duration": 4,
    "start_time": "2022-03-05T13:04:35.653Z"
   },
   {
    "duration": 27,
    "start_time": "2022-03-05T13:04:35.658Z"
   },
   {
    "duration": 6,
    "start_time": "2022-03-05T13:04:35.686Z"
   },
   {
    "duration": 46,
    "start_time": "2022-03-05T13:04:35.693Z"
   },
   {
    "duration": 6,
    "start_time": "2022-03-05T13:04:35.741Z"
   },
   {
    "duration": 11,
    "start_time": "2022-03-05T13:04:35.749Z"
   },
   {
    "duration": 6,
    "start_time": "2022-03-05T13:04:35.761Z"
   },
   {
    "duration": 5,
    "start_time": "2022-03-05T13:04:35.769Z"
   },
   {
    "duration": 13,
    "start_time": "2022-03-05T13:04:35.775Z"
   },
   {
    "duration": 2,
    "start_time": "2022-03-05T13:04:35.789Z"
   },
   {
    "duration": 43,
    "start_time": "2022-03-05T13:04:35.793Z"
   },
   {
    "duration": 9,
    "start_time": "2022-03-05T13:04:35.838Z"
   },
   {
    "duration": 12,
    "start_time": "2022-03-05T13:04:35.848Z"
   },
   {
    "duration": 80,
    "start_time": "2022-03-05T13:04:35.862Z"
   },
   {
    "duration": 26,
    "start_time": "2022-03-05T13:04:35.944Z"
   },
   {
    "duration": 9,
    "start_time": "2022-03-05T13:04:35.971Z"
   },
   {
    "duration": 8,
    "start_time": "2022-03-05T13:04:35.981Z"
   },
   {
    "duration": 7,
    "start_time": "2022-03-05T13:04:35.992Z"
   },
   {
    "duration": 379,
    "start_time": "2022-03-05T13:04:36.001Z"
   },
   {
    "duration": 4696,
    "start_time": "2022-03-05T13:04:36.382Z"
   },
   {
    "duration": 1300,
    "start_time": "2022-03-05T13:04:41.080Z"
   },
   {
    "duration": 4,
    "start_time": "2022-03-05T13:04:42.383Z"
   },
   {
    "duration": 9,
    "start_time": "2022-03-05T13:04:42.389Z"
   },
   {
    "duration": 61,
    "start_time": "2022-03-05T13:04:42.400Z"
   },
   {
    "duration": 72,
    "start_time": "2022-03-05T13:04:42.463Z"
   },
   {
    "duration": 109,
    "start_time": "2022-03-05T13:04:42.537Z"
   },
   {
    "duration": 92,
    "start_time": "2022-03-05T13:04:42.648Z"
   },
   {
    "duration": 94,
    "start_time": "2022-03-05T13:04:42.742Z"
   },
   {
    "duration": 96,
    "start_time": "2022-03-05T13:04:42.838Z"
   },
   {
    "duration": 99,
    "start_time": "2022-03-05T13:04:42.937Z"
   },
   {
    "duration": 98,
    "start_time": "2022-03-05T13:04:43.037Z"
   },
   {
    "duration": 476,
    "start_time": "2022-03-05T13:04:43.138Z"
   },
   {
    "duration": 236,
    "start_time": "2022-03-05T13:06:32.543Z"
   },
   {
    "duration": 423,
    "start_time": "2022-03-05T13:08:25.823Z"
   },
   {
    "duration": 391,
    "start_time": "2022-03-05T13:09:26.263Z"
   },
   {
    "duration": 432,
    "start_time": "2022-03-05T13:09:52.474Z"
   },
   {
    "duration": 477,
    "start_time": "2022-03-05T13:10:01.643Z"
   },
   {
    "duration": 429,
    "start_time": "2022-03-05T13:20:20.831Z"
   },
   {
    "duration": 603,
    "start_time": "2022-03-05T13:20:45.464Z"
   },
   {
    "duration": 482,
    "start_time": "2022-03-05T13:21:09.223Z"
   },
   {
    "duration": 307,
    "start_time": "2022-03-05T13:22:16.291Z"
   },
   {
    "duration": 1149,
    "start_time": "2022-03-05T13:23:53.557Z"
   },
   {
    "duration": 33,
    "start_time": "2022-03-05T13:23:54.708Z"
   },
   {
    "duration": 8,
    "start_time": "2022-03-05T13:23:54.744Z"
   },
   {
    "duration": 12,
    "start_time": "2022-03-05T13:23:54.754Z"
   },
   {
    "duration": 4,
    "start_time": "2022-03-05T13:23:54.767Z"
   },
   {
    "duration": 9,
    "start_time": "2022-03-05T13:23:54.773Z"
   },
   {
    "duration": 50,
    "start_time": "2022-03-05T13:23:54.784Z"
   },
   {
    "duration": 19,
    "start_time": "2022-03-05T13:23:54.837Z"
   },
   {
    "duration": 49,
    "start_time": "2022-03-05T13:23:54.857Z"
   },
   {
    "duration": 26,
    "start_time": "2022-03-05T13:23:54.908Z"
   },
   {
    "duration": 43,
    "start_time": "2022-03-05T13:23:54.936Z"
   },
   {
    "duration": 6,
    "start_time": "2022-03-05T13:23:54.980Z"
   },
   {
    "duration": 14,
    "start_time": "2022-03-05T13:23:54.987Z"
   },
   {
    "duration": 6,
    "start_time": "2022-03-05T13:23:55.003Z"
   },
   {
    "duration": 28,
    "start_time": "2022-03-05T13:23:55.011Z"
   },
   {
    "duration": 5,
    "start_time": "2022-03-05T13:23:55.041Z"
   },
   {
    "duration": 12,
    "start_time": "2022-03-05T13:23:55.048Z"
   },
   {
    "duration": 18,
    "start_time": "2022-03-05T13:23:55.062Z"
   },
   {
    "duration": 3,
    "start_time": "2022-03-05T13:23:55.081Z"
   },
   {
    "duration": 7,
    "start_time": "2022-03-05T13:23:55.085Z"
   },
   {
    "duration": 9,
    "start_time": "2022-03-05T13:23:55.094Z"
   },
   {
    "duration": 36,
    "start_time": "2022-03-05T13:23:55.105Z"
   },
   {
    "duration": 52,
    "start_time": "2022-03-05T13:23:55.145Z"
   },
   {
    "duration": 49,
    "start_time": "2022-03-05T13:23:55.199Z"
   },
   {
    "duration": 8,
    "start_time": "2022-03-05T13:23:55.250Z"
   },
   {
    "duration": 6,
    "start_time": "2022-03-05T13:23:55.259Z"
   },
   {
    "duration": 7,
    "start_time": "2022-03-05T13:23:55.266Z"
   },
   {
    "duration": 343,
    "start_time": "2022-03-05T13:23:55.275Z"
   },
   {
    "duration": 1565,
    "start_time": "2022-03-05T13:23:55.619Z"
   },
   {
    "duration": 997,
    "start_time": "2022-03-05T13:23:57.186Z"
   },
   {
    "duration": 4,
    "start_time": "2022-03-05T13:23:58.185Z"
   },
   {
    "duration": 9,
    "start_time": "2022-03-05T13:23:58.191Z"
   },
   {
    "duration": 40,
    "start_time": "2022-03-05T13:23:58.202Z"
   },
   {
    "duration": 94,
    "start_time": "2022-03-05T13:23:58.245Z"
   },
   {
    "duration": 100,
    "start_time": "2022-03-05T13:23:58.341Z"
   },
   {
    "duration": 34,
    "start_time": "2022-03-05T13:23:58.443Z"
   },
   {
    "duration": 8,
    "start_time": "2022-03-05T13:23:58.533Z"
   },
   {
    "duration": 107,
    "start_time": "2022-03-05T13:23:58.543Z"
   },
   {
    "duration": 86,
    "start_time": "2022-03-05T13:23:58.654Z"
   },
   {
    "duration": 121,
    "start_time": "2022-03-05T13:23:58.743Z"
   },
   {
    "duration": 493,
    "start_time": "2022-03-05T13:23:58.866Z"
   },
   {
    "duration": 316,
    "start_time": "2022-03-05T13:24:40.278Z"
   },
   {
    "duration": 330,
    "start_time": "2022-03-05T13:25:36.883Z"
   },
   {
    "duration": 340,
    "start_time": "2022-03-05T13:27:12.460Z"
   },
   {
    "duration": 352,
    "start_time": "2022-03-05T13:28:15.717Z"
   },
   {
    "duration": 404,
    "start_time": "2022-03-05T13:28:27.298Z"
   },
   {
    "duration": 279,
    "start_time": "2022-03-05T13:28:48.758Z"
   },
   {
    "duration": 1099,
    "start_time": "2022-03-05T13:30:57.199Z"
   },
   {
    "duration": 40,
    "start_time": "2022-03-05T13:30:58.300Z"
   },
   {
    "duration": 11,
    "start_time": "2022-03-05T13:30:58.343Z"
   },
   {
    "duration": 13,
    "start_time": "2022-03-05T13:30:58.356Z"
   },
   {
    "duration": 3,
    "start_time": "2022-03-05T13:30:58.371Z"
   },
   {
    "duration": 12,
    "start_time": "2022-03-05T13:30:58.376Z"
   },
   {
    "duration": 44,
    "start_time": "2022-03-05T13:30:58.390Z"
   },
   {
    "duration": 13,
    "start_time": "2022-03-05T13:30:58.436Z"
   },
   {
    "duration": 53,
    "start_time": "2022-03-05T13:30:58.451Z"
   },
   {
    "duration": 29,
    "start_time": "2022-03-05T13:30:58.506Z"
   },
   {
    "duration": 33,
    "start_time": "2022-03-05T13:30:58.537Z"
   },
   {
    "duration": 6,
    "start_time": "2022-03-05T13:30:58.571Z"
   },
   {
    "duration": 14,
    "start_time": "2022-03-05T13:30:58.579Z"
   },
   {
    "duration": 6,
    "start_time": "2022-03-05T13:30:58.594Z"
   },
   {
    "duration": 38,
    "start_time": "2022-03-05T13:30:58.601Z"
   },
   {
    "duration": 5,
    "start_time": "2022-03-05T13:30:58.641Z"
   },
   {
    "duration": 7,
    "start_time": "2022-03-05T13:30:58.648Z"
   },
   {
    "duration": 13,
    "start_time": "2022-03-05T13:30:58.657Z"
   },
   {
    "duration": 3,
    "start_time": "2022-03-05T13:30:58.672Z"
   },
   {
    "duration": 6,
    "start_time": "2022-03-05T13:30:58.677Z"
   },
   {
    "duration": 10,
    "start_time": "2022-03-05T13:30:58.684Z"
   },
   {
    "duration": 38,
    "start_time": "2022-03-05T13:30:58.695Z"
   },
   {
    "duration": 48,
    "start_time": "2022-03-05T13:30:58.735Z"
   },
   {
    "duration": 23,
    "start_time": "2022-03-05T13:30:58.784Z"
   },
   {
    "duration": 30,
    "start_time": "2022-03-05T13:30:58.809Z"
   },
   {
    "duration": 4,
    "start_time": "2022-03-05T13:30:58.840Z"
   },
   {
    "duration": 7,
    "start_time": "2022-03-05T13:30:58.848Z"
   },
   {
    "duration": 202,
    "start_time": "2022-03-05T13:30:58.857Z"
   },
   {
    "duration": 205,
    "start_time": "2022-03-05T13:30:59.061Z"
   },
   {
    "duration": 348,
    "start_time": "2022-03-05T13:30:59.268Z"
   },
   {
    "duration": -515,
    "start_time": "2022-03-05T13:31:00.133Z"
   },
   {
    "duration": -520,
    "start_time": "2022-03-05T13:31:00.139Z"
   },
   {
    "duration": -524,
    "start_time": "2022-03-05T13:31:00.144Z"
   },
   {
    "duration": -527,
    "start_time": "2022-03-05T13:31:00.149Z"
   },
   {
    "duration": -531,
    "start_time": "2022-03-05T13:31:00.154Z"
   },
   {
    "duration": -536,
    "start_time": "2022-03-05T13:31:00.160Z"
   },
   {
    "duration": -539,
    "start_time": "2022-03-05T13:31:00.164Z"
   },
   {
    "duration": -543,
    "start_time": "2022-03-05T13:31:00.169Z"
   },
   {
    "duration": -548,
    "start_time": "2022-03-05T13:31:00.175Z"
   },
   {
    "duration": -551,
    "start_time": "2022-03-05T13:31:00.180Z"
   },
   {
    "duration": -555,
    "start_time": "2022-03-05T13:31:00.185Z"
   },
   {
    "duration": 1119,
    "start_time": "2022-03-05T13:35:58.681Z"
   },
   {
    "duration": 33,
    "start_time": "2022-03-05T13:35:59.802Z"
   },
   {
    "duration": 8,
    "start_time": "2022-03-05T13:35:59.837Z"
   },
   {
    "duration": 13,
    "start_time": "2022-03-05T13:35:59.846Z"
   },
   {
    "duration": 3,
    "start_time": "2022-03-05T13:35:59.860Z"
   },
   {
    "duration": 7,
    "start_time": "2022-03-05T13:35:59.865Z"
   },
   {
    "duration": 14,
    "start_time": "2022-03-05T13:35:59.874Z"
   },
   {
    "duration": 51,
    "start_time": "2022-03-05T13:35:59.890Z"
   },
   {
    "duration": 55,
    "start_time": "2022-03-05T13:35:59.944Z"
   },
   {
    "duration": 33,
    "start_time": "2022-03-05T13:36:00.001Z"
   },
   {
    "duration": 26,
    "start_time": "2022-03-05T13:36:00.036Z"
   },
   {
    "duration": 6,
    "start_time": "2022-03-05T13:36:00.064Z"
   },
   {
    "duration": 16,
    "start_time": "2022-03-05T13:36:00.072Z"
   },
   {
    "duration": 6,
    "start_time": "2022-03-05T13:36:00.090Z"
   },
   {
    "duration": 43,
    "start_time": "2022-03-05T13:36:00.098Z"
   },
   {
    "duration": 8,
    "start_time": "2022-03-05T13:36:00.142Z"
   },
   {
    "duration": 3,
    "start_time": "2022-03-05T13:36:00.152Z"
   },
   {
    "duration": 14,
    "start_time": "2022-03-05T13:36:00.156Z"
   },
   {
    "duration": 3,
    "start_time": "2022-03-05T13:36:00.171Z"
   },
   {
    "duration": 7,
    "start_time": "2022-03-05T13:36:00.176Z"
   },
   {
    "duration": 10,
    "start_time": "2022-03-05T13:36:00.184Z"
   },
   {
    "duration": 42,
    "start_time": "2022-03-05T13:36:00.196Z"
   },
   {
    "duration": 48,
    "start_time": "2022-03-05T13:36:00.239Z"
   },
   {
    "duration": 20,
    "start_time": "2022-03-05T13:36:00.289Z"
   },
   {
    "duration": 9,
    "start_time": "2022-03-05T13:36:00.333Z"
   },
   {
    "duration": 8,
    "start_time": "2022-03-05T13:36:00.344Z"
   },
   {
    "duration": 7,
    "start_time": "2022-03-05T13:36:00.355Z"
   },
   {
    "duration": 341,
    "start_time": "2022-03-05T13:36:00.364Z"
   },
   {
    "duration": 1588,
    "start_time": "2022-03-05T13:36:00.706Z"
   },
   {
    "duration": 887,
    "start_time": "2022-03-05T13:36:02.296Z"
   },
   {
    "duration": 4,
    "start_time": "2022-03-05T13:36:03.185Z"
   },
   {
    "duration": 11,
    "start_time": "2022-03-05T13:36:03.190Z"
   },
   {
    "duration": 44,
    "start_time": "2022-03-05T13:36:03.203Z"
   },
   {
    "duration": 91,
    "start_time": "2022-03-05T13:36:03.250Z"
   },
   {
    "duration": 107,
    "start_time": "2022-03-05T13:36:03.343Z"
   },
   {
    "duration": 83,
    "start_time": "2022-03-05T13:36:03.452Z"
   },
   {
    "duration": 96,
    "start_time": "2022-03-05T13:36:03.537Z"
   },
   {
    "duration": 98,
    "start_time": "2022-03-05T13:36:03.635Z"
   },
   {
    "duration": 102,
    "start_time": "2022-03-05T13:36:03.735Z"
   },
   {
    "duration": 95,
    "start_time": "2022-03-05T13:36:03.839Z"
   },
   {
    "duration": 364,
    "start_time": "2022-03-05T13:36:03.936Z"
   },
   {
    "duration": 219,
    "start_time": "2022-03-05T13:37:22.121Z"
   },
   {
    "duration": 1048,
    "start_time": "2022-03-05T13:37:38.365Z"
   },
   {
    "duration": 33,
    "start_time": "2022-03-05T13:37:39.415Z"
   },
   {
    "duration": 8,
    "start_time": "2022-03-05T13:37:39.451Z"
   },
   {
    "duration": 10,
    "start_time": "2022-03-05T13:37:39.461Z"
   },
   {
    "duration": 7,
    "start_time": "2022-03-05T13:37:39.473Z"
   },
   {
    "duration": 10,
    "start_time": "2022-03-05T13:37:39.481Z"
   },
   {
    "duration": 13,
    "start_time": "2022-03-05T13:37:39.493Z"
   },
   {
    "duration": 14,
    "start_time": "2022-03-05T13:37:39.533Z"
   },
   {
    "duration": 45,
    "start_time": "2022-03-05T13:37:39.549Z"
   },
   {
    "duration": 4,
    "start_time": "2022-03-05T13:37:39.596Z"
   },
   {
    "duration": 51,
    "start_time": "2022-03-05T13:37:39.602Z"
   },
   {
    "duration": 5,
    "start_time": "2022-03-05T13:37:39.654Z"
   },
   {
    "duration": 16,
    "start_time": "2022-03-05T13:37:39.661Z"
   },
   {
    "duration": 6,
    "start_time": "2022-03-05T13:37:39.678Z"
   },
   {
    "duration": 9,
    "start_time": "2022-03-05T13:37:39.685Z"
   },
   {
    "duration": 39,
    "start_time": "2022-03-05T13:37:39.696Z"
   },
   {
    "duration": 3,
    "start_time": "2022-03-05T13:37:39.737Z"
   },
   {
    "duration": 14,
    "start_time": "2022-03-05T13:37:39.741Z"
   },
   {
    "duration": 3,
    "start_time": "2022-03-05T13:37:39.757Z"
   },
   {
    "duration": 11,
    "start_time": "2022-03-05T13:37:39.761Z"
   },
   {
    "duration": 8,
    "start_time": "2022-03-05T13:37:39.774Z"
   },
   {
    "duration": 13,
    "start_time": "2022-03-05T13:37:39.783Z"
   },
   {
    "duration": 78,
    "start_time": "2022-03-05T13:37:39.797Z"
   },
   {
    "duration": 23,
    "start_time": "2022-03-05T13:37:39.877Z"
   },
   {
    "duration": 32,
    "start_time": "2022-03-05T13:37:39.901Z"
   },
   {
    "duration": 7,
    "start_time": "2022-03-05T13:37:39.935Z"
   },
   {
    "duration": 9,
    "start_time": "2022-03-05T13:37:39.946Z"
   },
   {
    "duration": 380,
    "start_time": "2022-03-05T13:37:39.957Z"
   },
   {
    "duration": 4676,
    "start_time": "2022-03-05T13:37:40.339Z"
   },
   {
    "duration": 1258,
    "start_time": "2022-03-05T13:37:45.017Z"
   },
   {
    "duration": 5,
    "start_time": "2022-03-05T13:37:46.277Z"
   },
   {
    "duration": 8,
    "start_time": "2022-03-05T13:37:46.284Z"
   },
   {
    "duration": 57,
    "start_time": "2022-03-05T13:37:46.294Z"
   },
   {
    "duration": 84,
    "start_time": "2022-03-05T13:37:46.353Z"
   },
   {
    "duration": 108,
    "start_time": "2022-03-05T13:37:46.439Z"
   },
   {
    "duration": 87,
    "start_time": "2022-03-05T13:37:46.549Z"
   },
   {
    "duration": 99,
    "start_time": "2022-03-05T13:37:46.638Z"
   },
   {
    "duration": 95,
    "start_time": "2022-03-05T13:37:46.739Z"
   },
   {
    "duration": 100,
    "start_time": "2022-03-05T13:37:46.836Z"
   },
   {
    "duration": 95,
    "start_time": "2022-03-05T13:37:46.938Z"
   },
   {
    "duration": 363,
    "start_time": "2022-03-05T13:37:47.035Z"
   },
   {
    "duration": 1438,
    "start_time": "2022-03-05T13:54:07.297Z"
   },
   {
    "duration": 39,
    "start_time": "2022-03-05T13:54:08.737Z"
   },
   {
    "duration": 7,
    "start_time": "2022-03-05T13:54:08.778Z"
   },
   {
    "duration": 14,
    "start_time": "2022-03-05T13:54:08.787Z"
   },
   {
    "duration": 4,
    "start_time": "2022-03-05T13:54:08.802Z"
   },
   {
    "duration": 8,
    "start_time": "2022-03-05T13:54:08.807Z"
   },
   {
    "duration": 27,
    "start_time": "2022-03-05T13:54:08.817Z"
   },
   {
    "duration": 13,
    "start_time": "2022-03-05T13:54:08.846Z"
   },
   {
    "duration": 48,
    "start_time": "2022-03-05T13:54:08.860Z"
   },
   {
    "duration": 30,
    "start_time": "2022-03-05T13:54:08.910Z"
   },
   {
    "duration": 26,
    "start_time": "2022-03-05T13:54:08.942Z"
   },
   {
    "duration": 5,
    "start_time": "2022-03-05T13:54:08.970Z"
   },
   {
    "duration": 13,
    "start_time": "2022-03-05T13:54:08.977Z"
   },
   {
    "duration": 11,
    "start_time": "2022-03-05T13:54:08.992Z"
   },
   {
    "duration": 38,
    "start_time": "2022-03-05T13:54:09.005Z"
   },
   {
    "duration": 8,
    "start_time": "2022-03-05T13:54:09.045Z"
   },
   {
    "duration": 3,
    "start_time": "2022-03-05T13:54:09.055Z"
   },
   {
    "duration": 14,
    "start_time": "2022-03-05T13:54:09.060Z"
   },
   {
    "duration": 3,
    "start_time": "2022-03-05T13:54:09.076Z"
   },
   {
    "duration": 7,
    "start_time": "2022-03-05T13:54:09.081Z"
   },
   {
    "duration": 45,
    "start_time": "2022-03-05T13:54:09.090Z"
   },
   {
    "duration": 13,
    "start_time": "2022-03-05T13:54:09.139Z"
   },
   {
    "duration": 46,
    "start_time": "2022-03-05T13:54:09.154Z"
   },
   {
    "duration": 45,
    "start_time": "2022-03-05T13:54:09.202Z"
   },
   {
    "duration": 9,
    "start_time": "2022-03-05T13:54:09.249Z"
   },
   {
    "duration": 4,
    "start_time": "2022-03-05T13:54:09.260Z"
   },
   {
    "duration": 8,
    "start_time": "2022-03-05T13:54:09.265Z"
   },
   {
    "duration": 339,
    "start_time": "2022-03-05T13:54:09.274Z"
   },
   {
    "duration": 1555,
    "start_time": "2022-03-05T13:54:09.615Z"
   },
   {
    "duration": 878,
    "start_time": "2022-03-05T13:54:11.171Z"
   },
   {
    "duration": 5,
    "start_time": "2022-03-05T13:54:12.051Z"
   },
   {
    "duration": 14,
    "start_time": "2022-03-05T13:54:12.058Z"
   },
   {
    "duration": 60,
    "start_time": "2022-03-05T13:54:12.073Z"
   },
   {
    "duration": 97,
    "start_time": "2022-03-05T13:54:12.135Z"
   },
   {
    "duration": 22,
    "start_time": "2022-03-05T13:54:12.234Z"
   },
   {
    "duration": 78,
    "start_time": "2022-03-05T13:54:12.258Z"
   },
   {
    "duration": 96,
    "start_time": "2022-03-05T13:54:12.341Z"
   },
   {
    "duration": 103,
    "start_time": "2022-03-05T13:54:12.439Z"
   },
   {
    "duration": 7,
    "start_time": "2022-03-05T13:54:12.633Z"
   },
   {
    "duration": 94,
    "start_time": "2022-03-05T13:54:12.642Z"
   },
   {
    "duration": 361,
    "start_time": "2022-03-05T13:54:12.738Z"
   },
   {
    "duration": 1390,
    "start_time": "2022-03-05T13:54:47.325Z"
   },
   {
    "duration": 27,
    "start_time": "2022-03-05T13:54:48.717Z"
   },
   {
    "duration": 7,
    "start_time": "2022-03-05T13:54:48.747Z"
   },
   {
    "duration": 13,
    "start_time": "2022-03-05T13:54:48.756Z"
   },
   {
    "duration": 4,
    "start_time": "2022-03-05T13:54:48.771Z"
   },
   {
    "duration": 12,
    "start_time": "2022-03-05T13:54:48.777Z"
   },
   {
    "duration": 48,
    "start_time": "2022-03-05T13:54:48.790Z"
   },
   {
    "duration": 18,
    "start_time": "2022-03-05T13:54:48.841Z"
   },
   {
    "duration": 70,
    "start_time": "2022-03-05T13:54:48.862Z"
   },
   {
    "duration": 6,
    "start_time": "2022-03-05T13:54:48.935Z"
   },
   {
    "duration": 31,
    "start_time": "2022-03-05T13:54:48.943Z"
   },
   {
    "duration": 6,
    "start_time": "2022-03-05T13:54:48.976Z"
   },
   {
    "duration": 15,
    "start_time": "2022-03-05T13:54:48.984Z"
   },
   {
    "duration": 36,
    "start_time": "2022-03-05T13:54:49.001Z"
   },
   {
    "duration": 11,
    "start_time": "2022-03-05T13:54:49.038Z"
   },
   {
    "duration": 8,
    "start_time": "2022-03-05T13:54:49.051Z"
   },
   {
    "duration": 7,
    "start_time": "2022-03-05T13:54:49.061Z"
   },
   {
    "duration": 15,
    "start_time": "2022-03-05T13:54:49.070Z"
   },
   {
    "duration": 2,
    "start_time": "2022-03-05T13:54:49.087Z"
   },
   {
    "duration": 6,
    "start_time": "2022-03-05T13:54:49.091Z"
   },
   {
    "duration": 44,
    "start_time": "2022-03-05T13:54:49.099Z"
   },
   {
    "duration": 13,
    "start_time": "2022-03-05T13:54:49.144Z"
   },
   {
    "duration": 51,
    "start_time": "2022-03-05T13:54:49.160Z"
   },
   {
    "duration": 24,
    "start_time": "2022-03-05T13:54:49.234Z"
   },
   {
    "duration": 8,
    "start_time": "2022-03-05T13:54:49.260Z"
   },
   {
    "duration": 6,
    "start_time": "2022-03-05T13:54:49.269Z"
   },
   {
    "duration": 8,
    "start_time": "2022-03-05T13:54:49.276Z"
   },
   {
    "duration": 382,
    "start_time": "2022-03-05T13:54:49.285Z"
   },
   {
    "duration": 4974,
    "start_time": "2022-03-05T13:54:49.668Z"
   },
   {
    "duration": 1340,
    "start_time": "2022-03-05T13:54:54.643Z"
   },
   {
    "duration": 4,
    "start_time": "2022-03-05T13:54:55.985Z"
   },
   {
    "duration": 12,
    "start_time": "2022-03-05T13:54:55.990Z"
   },
   {
    "duration": 132,
    "start_time": "2022-03-05T13:54:56.004Z"
   },
   {
    "duration": 97,
    "start_time": "2022-03-05T13:54:56.138Z"
   },
   {
    "duration": 11,
    "start_time": "2022-03-05T13:54:56.237Z"
   },
   {
    "duration": 85,
    "start_time": "2022-03-05T13:54:56.249Z"
   },
   {
    "duration": 96,
    "start_time": "2022-03-05T13:54:56.337Z"
   },
   {
    "duration": 102,
    "start_time": "2022-03-05T13:54:56.435Z"
   },
   {
    "duration": 94,
    "start_time": "2022-03-05T13:54:56.539Z"
   },
   {
    "duration": 100,
    "start_time": "2022-03-05T13:54:56.635Z"
   },
   {
    "duration": 360,
    "start_time": "2022-03-05T13:54:56.738Z"
   },
   {
    "duration": 5,
    "start_time": "2022-03-05T14:28:29.159Z"
   },
   {
    "duration": 14,
    "start_time": "2022-03-05T14:28:33.918Z"
   },
   {
    "duration": 1152,
    "start_time": "2022-03-05T14:28:47.346Z"
   },
   {
    "duration": 36,
    "start_time": "2022-03-05T14:28:48.500Z"
   },
   {
    "duration": 7,
    "start_time": "2022-03-05T14:28:48.538Z"
   },
   {
    "duration": 12,
    "start_time": "2022-03-05T14:28:48.547Z"
   },
   {
    "duration": 3,
    "start_time": "2022-03-05T14:28:48.561Z"
   },
   {
    "duration": 7,
    "start_time": "2022-03-05T14:28:48.566Z"
   },
   {
    "duration": 14,
    "start_time": "2022-03-05T14:28:48.574Z"
   },
   {
    "duration": 44,
    "start_time": "2022-03-05T14:28:48.590Z"
   },
   {
    "duration": 44,
    "start_time": "2022-03-05T14:28:48.636Z"
   },
   {
    "duration": 4,
    "start_time": "2022-03-05T14:28:48.681Z"
   },
   {
    "duration": 53,
    "start_time": "2022-03-05T14:28:48.687Z"
   },
   {
    "duration": 5,
    "start_time": "2022-03-05T14:28:48.742Z"
   },
   {
    "duration": 15,
    "start_time": "2022-03-05T14:28:48.748Z"
   },
   {
    "duration": 6,
    "start_time": "2022-03-05T14:28:48.764Z"
   },
   {
    "duration": 8,
    "start_time": "2022-03-05T14:28:48.772Z"
   },
   {
    "duration": 5,
    "start_time": "2022-03-05T14:28:48.782Z"
   },
   {
    "duration": 5,
    "start_time": "2022-03-05T14:28:48.788Z"
   },
   {
    "duration": 43,
    "start_time": "2022-03-05T14:28:48.795Z"
   },
   {
    "duration": 3,
    "start_time": "2022-03-05T14:28:48.840Z"
   },
   {
    "duration": 9,
    "start_time": "2022-03-05T14:28:48.845Z"
   },
   {
    "duration": 13,
    "start_time": "2022-03-05T14:28:48.856Z"
   },
   {
    "duration": 17,
    "start_time": "2022-03-05T14:28:48.871Z"
   },
   {
    "duration": 103,
    "start_time": "2022-03-05T14:28:48.893Z"
   },
   {
    "duration": 52,
    "start_time": "2022-03-05T14:28:48.999Z"
   },
   {
    "duration": 4,
    "start_time": "2022-03-05T14:28:49.053Z"
   },
   {
    "duration": 14,
    "start_time": "2022-03-05T14:28:49.059Z"
   },
   {
    "duration": 5,
    "start_time": "2022-03-05T14:28:49.075Z"
   },
   {
    "duration": 8,
    "start_time": "2022-03-05T14:28:49.081Z"
   },
   {
    "duration": 438,
    "start_time": "2022-03-05T14:28:49.090Z"
   },
   {
    "duration": 1740,
    "start_time": "2022-03-05T14:28:49.530Z"
   },
   {
    "duration": 1308,
    "start_time": "2022-03-05T14:28:51.271Z"
   },
   {
    "duration": 3,
    "start_time": "2022-03-05T14:28:52.581Z"
   },
   {
    "duration": 9,
    "start_time": "2022-03-05T14:28:52.586Z"
   },
   {
    "duration": 140,
    "start_time": "2022-03-05T14:28:52.597Z"
   },
   {
    "duration": 98,
    "start_time": "2022-03-05T14:28:52.739Z"
   },
   {
    "duration": 13,
    "start_time": "2022-03-05T14:28:52.839Z"
   },
   {
    "duration": 180,
    "start_time": "2022-03-05T14:28:52.853Z"
   },
   {
    "duration": 7,
    "start_time": "2022-03-05T14:28:53.035Z"
   },
   {
    "duration": 190,
    "start_time": "2022-03-05T14:28:53.043Z"
   },
   {
    "duration": 7,
    "start_time": "2022-03-05T14:28:53.235Z"
   },
   {
    "duration": 98,
    "start_time": "2022-03-05T14:28:53.244Z"
   },
   {
    "duration": 427,
    "start_time": "2022-03-05T14:28:53.433Z"
   },
   {
    "duration": 1108,
    "start_time": "2022-03-05T14:29:54.785Z"
   },
   {
    "duration": 28,
    "start_time": "2022-03-05T14:29:55.895Z"
   },
   {
    "duration": 12,
    "start_time": "2022-03-05T14:29:55.925Z"
   },
   {
    "duration": 12,
    "start_time": "2022-03-05T14:29:55.939Z"
   },
   {
    "duration": 5,
    "start_time": "2022-03-05T14:29:55.953Z"
   },
   {
    "duration": 9,
    "start_time": "2022-03-05T14:29:55.960Z"
   },
   {
    "duration": 14,
    "start_time": "2022-03-05T14:29:55.970Z"
   },
   {
    "duration": 13,
    "start_time": "2022-03-05T14:29:55.985Z"
   },
   {
    "duration": 58,
    "start_time": "2022-03-05T14:29:56.035Z"
   },
   {
    "duration": 4,
    "start_time": "2022-03-05T14:29:56.095Z"
   },
   {
    "duration": 56,
    "start_time": "2022-03-05T14:29:56.101Z"
   },
   {
    "duration": 6,
    "start_time": "2022-03-05T14:29:56.158Z"
   },
   {
    "duration": 19,
    "start_time": "2022-03-05T14:29:56.166Z"
   },
   {
    "duration": 11,
    "start_time": "2022-03-05T14:29:56.187Z"
   },
   {
    "duration": 35,
    "start_time": "2022-03-05T14:29:56.200Z"
   },
   {
    "duration": 12,
    "start_time": "2022-03-05T14:29:56.237Z"
   },
   {
    "duration": 5,
    "start_time": "2022-03-05T14:29:56.251Z"
   },
   {
    "duration": 13,
    "start_time": "2022-03-05T14:29:56.258Z"
   },
   {
    "duration": 4,
    "start_time": "2022-03-05T14:29:56.273Z"
   },
   {
    "duration": 9,
    "start_time": "2022-03-05T14:29:56.278Z"
   },
   {
    "duration": 13,
    "start_time": "2022-03-05T14:29:56.289Z"
   },
   {
    "duration": 13,
    "start_time": "2022-03-05T14:29:56.333Z"
   },
   {
    "duration": 49,
    "start_time": "2022-03-05T14:29:56.348Z"
   },
   {
    "duration": 53,
    "start_time": "2022-03-05T14:29:56.398Z"
   },
   {
    "duration": 2,
    "start_time": "2022-03-05T14:29:56.453Z"
   },
   {
    "duration": 9,
    "start_time": "2022-03-05T14:29:56.456Z"
   },
   {
    "duration": 2,
    "start_time": "2022-03-05T14:29:56.469Z"
   },
   {
    "duration": 12,
    "start_time": "2022-03-05T14:29:56.473Z"
   },
   {
    "duration": 373,
    "start_time": "2022-03-05T14:29:56.487Z"
   },
   {
    "duration": 4720,
    "start_time": "2022-03-05T14:29:56.862Z"
   },
   {
    "duration": 1294,
    "start_time": "2022-03-05T14:30:01.584Z"
   },
   {
    "duration": 4,
    "start_time": "2022-03-05T14:30:02.880Z"
   },
   {
    "duration": 11,
    "start_time": "2022-03-05T14:30:02.885Z"
   },
   {
    "duration": 58,
    "start_time": "2022-03-05T14:30:02.897Z"
   },
   {
    "duration": 82,
    "start_time": "2022-03-05T14:30:02.957Z"
   },
   {
    "duration": 114,
    "start_time": "2022-03-05T14:30:03.041Z"
   },
   {
    "duration": 75,
    "start_time": "2022-03-05T14:30:03.157Z"
   },
   {
    "duration": 98,
    "start_time": "2022-03-05T14:30:03.235Z"
   },
   {
    "duration": 100,
    "start_time": "2022-03-05T14:30:03.336Z"
   },
   {
    "duration": 95,
    "start_time": "2022-03-05T14:30:03.438Z"
   },
   {
    "duration": 43,
    "start_time": "2022-03-05T14:30:03.535Z"
   },
   {
    "duration": 391,
    "start_time": "2022-03-05T14:30:03.634Z"
   },
   {
    "duration": 1172,
    "start_time": "2022-03-05T14:30:56.237Z"
   },
   {
    "duration": 32,
    "start_time": "2022-03-05T14:30:57.411Z"
   },
   {
    "duration": 7,
    "start_time": "2022-03-05T14:30:57.445Z"
   },
   {
    "duration": 9,
    "start_time": "2022-03-05T14:30:57.454Z"
   },
   {
    "duration": 3,
    "start_time": "2022-03-05T14:30:57.465Z"
   },
   {
    "duration": 8,
    "start_time": "2022-03-05T14:30:57.469Z"
   },
   {
    "duration": 13,
    "start_time": "2022-03-05T14:30:57.478Z"
   },
   {
    "duration": 51,
    "start_time": "2022-03-05T14:30:57.493Z"
   },
   {
    "duration": 45,
    "start_time": "2022-03-05T14:30:57.547Z"
   },
   {
    "duration": 5,
    "start_time": "2022-03-05T14:30:57.594Z"
   },
   {
    "duration": 56,
    "start_time": "2022-03-05T14:30:57.600Z"
   },
   {
    "duration": 5,
    "start_time": "2022-03-05T14:30:57.657Z"
   },
   {
    "duration": 16,
    "start_time": "2022-03-05T14:30:57.663Z"
   },
   {
    "duration": 6,
    "start_time": "2022-03-05T14:30:57.680Z"
   },
   {
    "duration": 9,
    "start_time": "2022-03-05T14:30:57.687Z"
   },
   {
    "duration": 7,
    "start_time": "2022-03-05T14:30:57.733Z"
   },
   {
    "duration": 7,
    "start_time": "2022-03-05T14:30:57.742Z"
   },
   {
    "duration": 15,
    "start_time": "2022-03-05T14:30:57.750Z"
   },
   {
    "duration": 2,
    "start_time": "2022-03-05T14:30:57.767Z"
   },
   {
    "duration": 5,
    "start_time": "2022-03-05T14:30:57.771Z"
   },
   {
    "duration": 11,
    "start_time": "2022-03-05T14:30:57.778Z"
   },
   {
    "duration": 44,
    "start_time": "2022-03-05T14:30:57.791Z"
   },
   {
    "duration": 52,
    "start_time": "2022-03-05T14:30:57.837Z"
   },
   {
    "duration": 45,
    "start_time": "2022-03-05T14:30:57.891Z"
   },
   {
    "duration": 4,
    "start_time": "2022-03-05T14:30:57.939Z"
   },
   {
    "duration": 12,
    "start_time": "2022-03-05T14:30:57.945Z"
   },
   {
    "duration": 3,
    "start_time": "2022-03-05T14:30:57.961Z"
   },
   {
    "duration": 8,
    "start_time": "2022-03-05T14:30:57.967Z"
   },
   {
    "duration": 451,
    "start_time": "2022-03-05T14:30:57.977Z"
   },
   {
    "duration": 1452,
    "start_time": "2022-03-05T14:30:58.429Z"
   },
   {
    "duration": 1299,
    "start_time": "2022-03-05T14:30:59.883Z"
   },
   {
    "duration": 4,
    "start_time": "2022-03-05T14:31:01.185Z"
   },
   {
    "duration": 25,
    "start_time": "2022-03-05T14:31:01.191Z"
   },
   {
    "duration": 121,
    "start_time": "2022-03-05T14:31:01.218Z"
   },
   {
    "duration": 93,
    "start_time": "2022-03-05T14:31:01.342Z"
   },
   {
    "duration": 35,
    "start_time": "2022-03-05T14:31:01.437Z"
   },
   {
    "duration": 70,
    "start_time": "2022-03-05T14:31:01.474Z"
   },
   {
    "duration": 89,
    "start_time": "2022-03-05T14:31:01.546Z"
   },
   {
    "duration": 134,
    "start_time": "2022-03-05T14:31:01.639Z"
   },
   {
    "duration": 67,
    "start_time": "2022-03-05T14:31:01.775Z"
   },
   {
    "duration": 190,
    "start_time": "2022-03-05T14:31:01.845Z"
   },
   {
    "duration": 361,
    "start_time": "2022-03-05T14:31:02.041Z"
   },
   {
    "duration": 1123,
    "start_time": "2022-03-05T14:33:13.367Z"
   },
   {
    "duration": 29,
    "start_time": "2022-03-05T14:33:14.492Z"
   },
   {
    "duration": 18,
    "start_time": "2022-03-05T14:33:14.523Z"
   },
   {
    "duration": 11,
    "start_time": "2022-03-05T14:33:14.543Z"
   },
   {
    "duration": 4,
    "start_time": "2022-03-05T14:33:14.556Z"
   },
   {
    "duration": 8,
    "start_time": "2022-03-05T14:33:14.562Z"
   },
   {
    "duration": 14,
    "start_time": "2022-03-05T14:33:14.572Z"
   },
   {
    "duration": 53,
    "start_time": "2022-03-05T14:33:14.589Z"
   },
   {
    "duration": 51,
    "start_time": "2022-03-05T14:33:14.645Z"
   },
   {
    "duration": 4,
    "start_time": "2022-03-05T14:33:14.698Z"
   },
   {
    "duration": 49,
    "start_time": "2022-03-05T14:33:14.704Z"
   },
   {
    "duration": 5,
    "start_time": "2022-03-05T14:33:14.755Z"
   },
   {
    "duration": 14,
    "start_time": "2022-03-05T14:33:14.762Z"
   },
   {
    "duration": 7,
    "start_time": "2022-03-05T14:33:14.778Z"
   },
   {
    "duration": 11,
    "start_time": "2022-03-05T14:33:14.786Z"
   },
   {
    "duration": 40,
    "start_time": "2022-03-05T14:33:14.798Z"
   },
   {
    "duration": 3,
    "start_time": "2022-03-05T14:33:14.839Z"
   },
   {
    "duration": 13,
    "start_time": "2022-03-05T14:33:14.844Z"
   },
   {
    "duration": 3,
    "start_time": "2022-03-05T14:33:14.858Z"
   },
   {
    "duration": 6,
    "start_time": "2022-03-05T14:33:14.862Z"
   },
   {
    "duration": 9,
    "start_time": "2022-03-05T14:33:14.870Z"
   },
   {
    "duration": 54,
    "start_time": "2022-03-05T14:33:14.880Z"
   },
   {
    "duration": 54,
    "start_time": "2022-03-05T14:33:14.937Z"
   },
   {
    "duration": 51,
    "start_time": "2022-03-05T14:33:14.994Z"
   },
   {
    "duration": 1,
    "start_time": "2022-03-05T14:33:15.047Z"
   },
   {
    "duration": 10,
    "start_time": "2022-03-05T14:33:15.050Z"
   },
   {
    "duration": 3,
    "start_time": "2022-03-05T14:33:15.062Z"
   },
   {
    "duration": 7,
    "start_time": "2022-03-05T14:33:15.066Z"
   },
   {
    "duration": 370,
    "start_time": "2022-03-05T14:33:15.075Z"
   },
   {
    "duration": 4859,
    "start_time": "2022-03-05T14:33:15.447Z"
   },
   {
    "duration": 1368,
    "start_time": "2022-03-05T14:33:20.308Z"
   },
   {
    "duration": 4,
    "start_time": "2022-03-05T14:33:21.678Z"
   },
   {
    "duration": 10,
    "start_time": "2022-03-05T14:33:21.683Z"
   },
   {
    "duration": 77,
    "start_time": "2022-03-05T14:33:21.694Z"
   },
   {
    "duration": 6,
    "start_time": "2022-03-05T14:33:21.773Z"
   },
   {
    "duration": 13,
    "start_time": "2022-03-05T14:33:21.780Z"
   },
   {
    "duration": 93,
    "start_time": "2022-03-05T14:33:21.795Z"
   },
   {
    "duration": 8,
    "start_time": "2022-03-05T14:33:21.889Z"
   },
   {
    "duration": 53,
    "start_time": "2022-03-05T14:33:21.898Z"
   },
   {
    "duration": 7,
    "start_time": "2022-03-05T14:33:21.953Z"
   },
   {
    "duration": 52,
    "start_time": "2022-03-05T14:33:21.961Z"
   },
   {
    "duration": 293,
    "start_time": "2022-03-05T14:33:22.015Z"
   },
   {
    "duration": 4,
    "start_time": "2022-03-05T14:33:52.577Z"
   },
   {
    "duration": 8,
    "start_time": "2022-03-05T14:33:53.984Z"
   },
   {
    "duration": 128,
    "start_time": "2022-03-05T14:33:57.845Z"
   },
   {
    "duration": 4,
    "start_time": "2022-03-05T14:34:14.794Z"
   },
   {
    "duration": 7,
    "start_time": "2022-03-05T14:34:15.614Z"
   },
   {
    "duration": 127,
    "start_time": "2022-03-05T14:34:15.874Z"
   },
   {
    "duration": 7,
    "start_time": "2022-03-05T14:34:23.454Z"
   },
   {
    "duration": 1119,
    "start_time": "2022-03-05T14:34:38.377Z"
   },
   {
    "duration": 862,
    "start_time": "2022-03-05T14:34:39.498Z"
   },
   {
    "duration": 7,
    "start_time": "2022-03-05T14:34:40.363Z"
   },
   {
    "duration": 15,
    "start_time": "2022-03-05T14:34:40.372Z"
   },
   {
    "duration": 3,
    "start_time": "2022-03-05T14:34:40.389Z"
   },
   {
    "duration": 14,
    "start_time": "2022-03-05T14:34:40.394Z"
   },
   {
    "duration": 27,
    "start_time": "2022-03-05T14:34:40.410Z"
   },
   {
    "duration": 13,
    "start_time": "2022-03-05T14:34:40.439Z"
   },
   {
    "duration": 55,
    "start_time": "2022-03-05T14:34:40.454Z"
   },
   {
    "duration": 25,
    "start_time": "2022-03-05T14:34:40.511Z"
   },
   {
    "duration": 28,
    "start_time": "2022-03-05T14:34:40.538Z"
   },
   {
    "duration": 5,
    "start_time": "2022-03-05T14:34:40.568Z"
   },
   {
    "duration": 15,
    "start_time": "2022-03-05T14:34:40.575Z"
   },
   {
    "duration": 7,
    "start_time": "2022-03-05T14:34:40.592Z"
   },
   {
    "duration": 39,
    "start_time": "2022-03-05T14:34:40.601Z"
   },
   {
    "duration": 16,
    "start_time": "2022-03-05T14:34:40.641Z"
   },
   {
    "duration": 10,
    "start_time": "2022-03-05T14:34:40.658Z"
   },
   {
    "duration": 13,
    "start_time": "2022-03-05T14:34:40.669Z"
   },
   {
    "duration": 2,
    "start_time": "2022-03-05T14:34:40.684Z"
   },
   {
    "duration": 6,
    "start_time": "2022-03-05T14:34:40.688Z"
   },
   {
    "duration": 8,
    "start_time": "2022-03-05T14:34:40.695Z"
   },
   {
    "duration": 28,
    "start_time": "2022-03-05T14:34:40.705Z"
   },
   {
    "duration": 51,
    "start_time": "2022-03-05T14:34:40.735Z"
   },
   {
    "duration": 51,
    "start_time": "2022-03-05T14:34:40.787Z"
   },
   {
    "duration": 2,
    "start_time": "2022-03-05T14:34:40.840Z"
   },
   {
    "duration": 12,
    "start_time": "2022-03-05T14:34:40.844Z"
   },
   {
    "duration": 4,
    "start_time": "2022-03-05T14:34:40.859Z"
   },
   {
    "duration": 7,
    "start_time": "2022-03-05T14:34:40.865Z"
   },
   {
    "duration": 365,
    "start_time": "2022-03-05T14:34:40.874Z"
   },
   {
    "duration": 4701,
    "start_time": "2022-03-05T14:34:41.241Z"
   },
   {
    "duration": 1335,
    "start_time": "2022-03-05T14:34:45.944Z"
   },
   {
    "duration": 5,
    "start_time": "2022-03-05T14:34:47.281Z"
   },
   {
    "duration": 9,
    "start_time": "2022-03-05T14:34:47.288Z"
   },
   {
    "duration": 149,
    "start_time": "2022-03-05T14:34:47.299Z"
   },
   {
    "duration": 7,
    "start_time": "2022-03-05T14:34:47.450Z"
   },
   {
    "duration": 14,
    "start_time": "2022-03-05T14:34:47.458Z"
   },
   {
    "duration": 198,
    "start_time": "2022-03-05T14:34:47.473Z"
   },
   {
    "duration": 15,
    "start_time": "2022-03-05T14:34:47.673Z"
   },
   {
    "duration": 90,
    "start_time": "2022-03-05T14:34:47.690Z"
   },
   {
    "duration": 8,
    "start_time": "2022-03-05T14:34:47.782Z"
   },
   {
    "duration": 128,
    "start_time": "2022-03-05T14:34:47.791Z"
   },
   {
    "duration": 281,
    "start_time": "2022-03-05T14:34:47.921Z"
   },
   {
    "duration": 4,
    "start_time": "2022-03-05T14:37:39.148Z"
   },
   {
    "duration": 1136,
    "start_time": "2022-03-05T14:37:52.757Z"
   },
   {
    "duration": 29,
    "start_time": "2022-03-05T14:37:53.895Z"
   },
   {
    "duration": 14,
    "start_time": "2022-03-05T14:37:53.926Z"
   },
   {
    "duration": 11,
    "start_time": "2022-03-05T14:37:53.942Z"
   },
   {
    "duration": 4,
    "start_time": "2022-03-05T14:37:53.954Z"
   },
   {
    "duration": 11,
    "start_time": "2022-03-05T14:37:53.959Z"
   },
   {
    "duration": 14,
    "start_time": "2022-03-05T14:37:53.972Z"
   },
   {
    "duration": 46,
    "start_time": "2022-03-05T14:37:53.988Z"
   },
   {
    "duration": 48,
    "start_time": "2022-03-05T14:37:54.037Z"
   },
   {
    "duration": 5,
    "start_time": "2022-03-05T14:37:54.087Z"
   },
   {
    "duration": 56,
    "start_time": "2022-03-05T14:37:54.093Z"
   },
   {
    "duration": 6,
    "start_time": "2022-03-05T14:37:54.151Z"
   },
   {
    "duration": 16,
    "start_time": "2022-03-05T14:37:54.159Z"
   },
   {
    "duration": 8,
    "start_time": "2022-03-05T14:37:54.177Z"
   },
   {
    "duration": 11,
    "start_time": "2022-03-05T14:37:54.187Z"
   },
   {
    "duration": 39,
    "start_time": "2022-03-05T14:37:54.200Z"
   },
   {
    "duration": 8,
    "start_time": "2022-03-05T14:37:54.241Z"
   },
   {
    "duration": 13,
    "start_time": "2022-03-05T14:37:54.251Z"
   },
   {
    "duration": 3,
    "start_time": "2022-03-05T14:37:54.267Z"
   },
   {
    "duration": 8,
    "start_time": "2022-03-05T14:37:54.272Z"
   },
   {
    "duration": 12,
    "start_time": "2022-03-05T14:37:54.283Z"
   },
   {
    "duration": 44,
    "start_time": "2022-03-05T14:37:54.297Z"
   },
   {
    "duration": 69,
    "start_time": "2022-03-05T14:37:54.343Z"
   },
   {
    "duration": 35,
    "start_time": "2022-03-05T14:37:54.433Z"
   },
   {
    "duration": 3,
    "start_time": "2022-03-05T14:37:54.470Z"
   },
   {
    "duration": 11,
    "start_time": "2022-03-05T14:37:54.475Z"
   },
   {
    "duration": 4,
    "start_time": "2022-03-05T14:37:54.490Z"
   },
   {
    "duration": 37,
    "start_time": "2022-03-05T14:37:54.496Z"
   },
   {
    "duration": 512,
    "start_time": "2022-03-05T14:37:54.536Z"
   },
   {
    "duration": 6997,
    "start_time": "2022-03-05T14:37:55.050Z"
   },
   {
    "duration": 1360,
    "start_time": "2022-03-05T14:38:02.049Z"
   },
   {
    "duration": 5,
    "start_time": "2022-03-05T14:38:03.411Z"
   },
   {
    "duration": 22,
    "start_time": "2022-03-05T14:38:03.418Z"
   },
   {
    "duration": 719,
    "start_time": "2022-03-05T14:38:03.442Z"
   },
   {
    "duration": -461,
    "start_time": "2022-03-05T14:38:04.624Z"
   },
   {
    "duration": -481,
    "start_time": "2022-03-05T14:38:04.646Z"
   },
   {
    "duration": -485,
    "start_time": "2022-03-05T14:38:04.651Z"
   },
   {
    "duration": -489,
    "start_time": "2022-03-05T14:38:04.656Z"
   },
   {
    "duration": -493,
    "start_time": "2022-03-05T14:38:04.662Z"
   },
   {
    "duration": -498,
    "start_time": "2022-03-05T14:38:04.668Z"
   },
   {
    "duration": -502,
    "start_time": "2022-03-05T14:38:04.673Z"
   },
   {
    "duration": -506,
    "start_time": "2022-03-05T14:38:04.678Z"
   },
   {
    "duration": 1180,
    "start_time": "2022-03-05T14:42:44.603Z"
   },
   {
    "duration": 29,
    "start_time": "2022-03-05T14:42:45.785Z"
   },
   {
    "duration": 15,
    "start_time": "2022-03-05T14:42:45.817Z"
   },
   {
    "duration": 11,
    "start_time": "2022-03-05T14:42:45.835Z"
   },
   {
    "duration": 4,
    "start_time": "2022-03-05T14:42:45.848Z"
   },
   {
    "duration": 10,
    "start_time": "2022-03-05T14:42:45.854Z"
   },
   {
    "duration": 19,
    "start_time": "2022-03-05T14:42:45.866Z"
   },
   {
    "duration": 51,
    "start_time": "2022-03-05T14:42:45.887Z"
   },
   {
    "duration": 44,
    "start_time": "2022-03-05T14:42:45.941Z"
   },
   {
    "duration": 5,
    "start_time": "2022-03-05T14:42:45.987Z"
   },
   {
    "duration": 52,
    "start_time": "2022-03-05T14:42:45.993Z"
   },
   {
    "duration": 5,
    "start_time": "2022-03-05T14:42:46.046Z"
   },
   {
    "duration": 14,
    "start_time": "2022-03-05T14:42:46.053Z"
   },
   {
    "duration": 6,
    "start_time": "2022-03-05T14:42:46.068Z"
   },
   {
    "duration": 10,
    "start_time": "2022-03-05T14:42:46.075Z"
   },
   {
    "duration": 6,
    "start_time": "2022-03-05T14:42:46.086Z"
   },
   {
    "duration": 5,
    "start_time": "2022-03-05T14:42:46.093Z"
   },
   {
    "duration": 42,
    "start_time": "2022-03-05T14:42:46.099Z"
   },
   {
    "duration": 5,
    "start_time": "2022-03-05T14:42:46.143Z"
   },
   {
    "duration": 7,
    "start_time": "2022-03-05T14:42:46.149Z"
   },
   {
    "duration": 11,
    "start_time": "2022-03-05T14:42:46.158Z"
   },
   {
    "duration": 18,
    "start_time": "2022-03-05T14:42:46.171Z"
   },
   {
    "duration": 106,
    "start_time": "2022-03-05T14:42:46.191Z"
   },
   {
    "duration": 47,
    "start_time": "2022-03-05T14:42:46.299Z"
   },
   {
    "duration": 2,
    "start_time": "2022-03-05T14:42:46.348Z"
   },
   {
    "duration": 10,
    "start_time": "2022-03-05T14:42:46.352Z"
   },
   {
    "duration": 4,
    "start_time": "2022-03-05T14:42:46.365Z"
   },
   {
    "duration": 11,
    "start_time": "2022-03-05T14:42:46.371Z"
   },
   {
    "duration": 517,
    "start_time": "2022-03-05T14:42:46.385Z"
   },
   {
    "duration": 6982,
    "start_time": "2022-03-05T14:42:46.904Z"
   },
   {
    "duration": 1311,
    "start_time": "2022-03-05T14:42:53.888Z"
   },
   {
    "duration": 5,
    "start_time": "2022-03-05T14:42:55.201Z"
   },
   {
    "duration": 25,
    "start_time": "2022-03-05T14:42:55.208Z"
   },
   {
    "duration": 319,
    "start_time": "2022-03-05T14:42:55.235Z"
   },
   {
    "duration": 8,
    "start_time": "2022-03-05T14:42:55.556Z"
   },
   {
    "duration": 13,
    "start_time": "2022-03-05T14:42:55.566Z"
   },
   {
    "duration": 466,
    "start_time": "2022-03-05T14:42:55.581Z"
   },
   {
    "duration": 10,
    "start_time": "2022-03-05T14:42:56.049Z"
   },
   {
    "duration": 183,
    "start_time": "2022-03-05T14:42:56.061Z"
   },
   {
    "duration": 9,
    "start_time": "2022-03-05T14:42:56.246Z"
   },
   {
    "duration": 189,
    "start_time": "2022-03-05T14:42:56.256Z"
   },
   {
    "duration": 270,
    "start_time": "2022-03-05T14:42:56.447Z"
   },
   {
    "duration": 4,
    "start_time": "2022-03-05T14:43:36.515Z"
   },
   {
    "duration": 15,
    "start_time": "2022-03-05T14:45:18.395Z"
   },
   {
    "duration": 7,
    "start_time": "2022-03-05T14:45:36.535Z"
   },
   {
    "duration": 7,
    "start_time": "2022-03-05T14:45:46.934Z"
   },
   {
    "duration": 515,
    "start_time": "2022-03-05T14:46:50.363Z"
   },
   {
    "duration": 268,
    "start_time": "2022-03-05T14:47:00.855Z"
   },
   {
    "duration": 438,
    "start_time": "2022-03-05T14:49:12.745Z"
   },
   {
    "duration": 50,
    "start_time": "2022-03-05T14:54:15.615Z"
   },
   {
    "duration": 6,
    "start_time": "2022-03-05T14:54:19.295Z"
   },
   {
    "duration": 6,
    "start_time": "2022-03-05T14:55:01.937Z"
   },
   {
    "duration": 281,
    "start_time": "2022-03-05T14:55:26.105Z"
   },
   {
    "duration": 5,
    "start_time": "2022-03-05T14:55:37.094Z"
   },
   {
    "duration": 5,
    "start_time": "2022-03-05T14:55:37.794Z"
   },
   {
    "duration": 9,
    "start_time": "2022-03-05T14:55:39.126Z"
   },
   {
    "duration": 1195,
    "start_time": "2022-03-05T14:55:50.748Z"
   },
   {
    "duration": 33,
    "start_time": "2022-03-05T14:55:51.945Z"
   },
   {
    "duration": 14,
    "start_time": "2022-03-05T14:55:51.980Z"
   },
   {
    "duration": 11,
    "start_time": "2022-03-05T14:55:51.996Z"
   },
   {
    "duration": 3,
    "start_time": "2022-03-05T14:55:52.008Z"
   },
   {
    "duration": 8,
    "start_time": "2022-03-05T14:55:52.013Z"
   },
   {
    "duration": 15,
    "start_time": "2022-03-05T14:55:52.022Z"
   },
   {
    "duration": 13,
    "start_time": "2022-03-05T14:55:52.039Z"
   },
   {
    "duration": 85,
    "start_time": "2022-03-05T14:55:52.055Z"
   },
   {
    "duration": 6,
    "start_time": "2022-03-05T14:55:52.142Z"
   },
   {
    "duration": 89,
    "start_time": "2022-03-05T14:55:52.149Z"
   },
   {
    "duration": 6,
    "start_time": "2022-03-05T14:55:52.240Z"
   },
   {
    "duration": 18,
    "start_time": "2022-03-05T14:55:52.248Z"
   },
   {
    "duration": 6,
    "start_time": "2022-03-05T14:55:52.267Z"
   },
   {
    "duration": 9,
    "start_time": "2022-03-05T14:55:52.274Z"
   },
   {
    "duration": 52,
    "start_time": "2022-03-05T14:55:52.285Z"
   },
   {
    "duration": 9,
    "start_time": "2022-03-05T14:55:52.339Z"
   },
   {
    "duration": 15,
    "start_time": "2022-03-05T14:55:52.349Z"
   },
   {
    "duration": 3,
    "start_time": "2022-03-05T14:55:52.366Z"
   },
   {
    "duration": 6,
    "start_time": "2022-03-05T14:55:52.370Z"
   },
   {
    "duration": 9,
    "start_time": "2022-03-05T14:55:52.377Z"
   },
   {
    "duration": 46,
    "start_time": "2022-03-05T14:55:52.388Z"
   },
   {
    "duration": 130,
    "start_time": "2022-03-05T14:55:52.439Z"
   },
   {
    "duration": 72,
    "start_time": "2022-03-05T14:55:52.571Z"
   },
   {
    "duration": 4,
    "start_time": "2022-03-05T14:55:52.645Z"
   },
   {
    "duration": 8,
    "start_time": "2022-03-05T14:55:52.651Z"
   },
   {
    "duration": 4,
    "start_time": "2022-03-05T14:55:52.661Z"
   },
   {
    "duration": 5,
    "start_time": "2022-03-05T14:55:52.666Z"
   },
   {
    "duration": 13,
    "start_time": "2022-03-05T14:55:52.673Z"
   },
   {
    "duration": 5,
    "start_time": "2022-03-05T14:55:52.688Z"
   },
   {
    "duration": 41,
    "start_time": "2022-03-05T14:55:52.694Z"
   },
   {
    "duration": 481,
    "start_time": "2022-03-05T14:55:52.736Z"
   },
   {
    "duration": 2729,
    "start_time": "2022-03-05T14:55:53.218Z"
   },
   {
    "duration": 1303,
    "start_time": "2022-03-05T14:55:55.949Z"
   },
   {
    "duration": 5,
    "start_time": "2022-03-05T14:55:57.254Z"
   },
   {
    "duration": 10,
    "start_time": "2022-03-05T14:55:57.261Z"
   },
   {
    "duration": 336,
    "start_time": "2022-03-05T14:55:57.273Z"
   },
   {
    "duration": 7,
    "start_time": "2022-03-05T14:55:57.611Z"
   },
   {
    "duration": 13,
    "start_time": "2022-03-05T14:55:57.632Z"
   },
   {
    "duration": 457,
    "start_time": "2022-03-05T14:55:57.647Z"
   },
   {
    "duration": 10,
    "start_time": "2022-03-05T14:55:58.106Z"
   },
   {
    "duration": 183,
    "start_time": "2022-03-05T14:55:58.118Z"
   },
   {
    "duration": 9,
    "start_time": "2022-03-05T14:55:58.303Z"
   },
   {
    "duration": 271,
    "start_time": "2022-03-05T14:55:58.314Z"
   },
   {
    "duration": 454,
    "start_time": "2022-03-05T14:55:58.587Z"
   },
   {
    "duration": 7,
    "start_time": "2022-03-05T14:58:17.968Z"
   },
   {
    "duration": 5296,
    "start_time": "2022-03-05T15:00:00.548Z"
   },
   {
    "duration": 404,
    "start_time": "2022-03-05T15:00:49.789Z"
   },
   {
    "duration": 4866,
    "start_time": "2022-03-05T15:00:58.767Z"
   },
   {
    "duration": 1172,
    "start_time": "2022-03-05T15:01:11.331Z"
   },
   {
    "duration": 37,
    "start_time": "2022-03-05T15:01:12.504Z"
   },
   {
    "duration": 11,
    "start_time": "2022-03-05T15:01:12.543Z"
   },
   {
    "duration": 22,
    "start_time": "2022-03-05T15:01:12.556Z"
   },
   {
    "duration": 4,
    "start_time": "2022-03-05T15:01:12.581Z"
   },
   {
    "duration": 13,
    "start_time": "2022-03-05T15:01:12.586Z"
   },
   {
    "duration": 32,
    "start_time": "2022-03-05T15:01:12.601Z"
   },
   {
    "duration": 12,
    "start_time": "2022-03-05T15:01:12.635Z"
   },
   {
    "duration": 57,
    "start_time": "2022-03-05T15:01:12.650Z"
   },
   {
    "duration": 5,
    "start_time": "2022-03-05T15:01:12.709Z"
   },
   {
    "duration": 25,
    "start_time": "2022-03-05T15:01:12.733Z"
   },
   {
    "duration": 5,
    "start_time": "2022-03-05T15:01:12.760Z"
   },
   {
    "duration": 15,
    "start_time": "2022-03-05T15:01:12.767Z"
   },
   {
    "duration": 6,
    "start_time": "2022-03-05T15:01:12.784Z"
   },
   {
    "duration": 11,
    "start_time": "2022-03-05T15:01:12.791Z"
   },
   {
    "duration": 36,
    "start_time": "2022-03-05T15:01:12.803Z"
   },
   {
    "duration": 4,
    "start_time": "2022-03-05T15:01:12.840Z"
   },
   {
    "duration": 13,
    "start_time": "2022-03-05T15:01:12.846Z"
   },
   {
    "duration": 2,
    "start_time": "2022-03-05T15:01:12.861Z"
   },
   {
    "duration": 12,
    "start_time": "2022-03-05T15:01:12.865Z"
   },
   {
    "duration": 18,
    "start_time": "2022-03-05T15:01:12.878Z"
   },
   {
    "duration": 13,
    "start_time": "2022-03-05T15:01:12.898Z"
   },
   {
    "duration": 66,
    "start_time": "2022-03-05T15:01:12.913Z"
   },
   {
    "duration": 23,
    "start_time": "2022-03-05T15:01:12.981Z"
   },
   {
    "duration": 29,
    "start_time": "2022-03-05T15:01:13.006Z"
   },
   {
    "duration": 7,
    "start_time": "2022-03-05T15:01:13.037Z"
   },
   {
    "duration": 4,
    "start_time": "2022-03-05T15:01:13.047Z"
   },
   {
    "duration": 6,
    "start_time": "2022-03-05T15:01:13.053Z"
   },
   {
    "duration": 12,
    "start_time": "2022-03-05T15:01:13.061Z"
   },
   {
    "duration": 3,
    "start_time": "2022-03-05T15:01:13.075Z"
   },
   {
    "duration": 10,
    "start_time": "2022-03-05T15:01:13.080Z"
   },
   {
    "duration": 497,
    "start_time": "2022-03-05T15:01:13.091Z"
   },
   {
    "duration": 809,
    "start_time": "2022-03-05T15:01:13.590Z"
   },
   {
    "duration": 1377,
    "start_time": "2022-03-05T15:01:14.401Z"
   },
   {
    "duration": 8,
    "start_time": "2022-03-05T15:01:15.779Z"
   },
   {
    "duration": 496,
    "start_time": "2022-03-05T15:01:15.789Z"
   },
   {
    "duration": 7038,
    "start_time": "2022-03-05T15:01:16.287Z"
   },
   {
    "duration": 5,
    "start_time": "2022-03-05T15:01:23.333Z"
   },
   {
    "duration": 11,
    "start_time": "2022-03-05T15:01:23.341Z"
   },
   {
    "duration": 324,
    "start_time": "2022-03-05T15:01:23.354Z"
   },
   {
    "duration": 8,
    "start_time": "2022-03-05T15:01:23.680Z"
   },
   {
    "duration": 11,
    "start_time": "2022-03-05T15:01:23.689Z"
   },
   {
    "duration": 317,
    "start_time": "2022-03-05T15:01:23.702Z"
   },
   {
    "duration": 16,
    "start_time": "2022-03-05T15:01:24.021Z"
   },
   {
    "duration": 121,
    "start_time": "2022-03-05T15:01:24.039Z"
   },
   {
    "duration": 7,
    "start_time": "2022-03-05T15:01:24.162Z"
   },
   {
    "duration": 196,
    "start_time": "2022-03-05T15:01:24.170Z"
   },
   {
    "duration": 451,
    "start_time": "2022-03-05T15:01:24.368Z"
   },
   {
    "duration": 1621,
    "start_time": "2022-03-06T07:53:17.878Z"
   },
   {
    "duration": 45,
    "start_time": "2022-03-06T07:53:19.501Z"
   },
   {
    "duration": 12,
    "start_time": "2022-03-06T07:53:19.549Z"
   },
   {
    "duration": 32,
    "start_time": "2022-03-06T07:53:19.564Z"
   },
   {
    "duration": 5,
    "start_time": "2022-03-06T07:53:19.598Z"
   },
   {
    "duration": 10,
    "start_time": "2022-03-06T07:53:19.606Z"
   },
   {
    "duration": 68,
    "start_time": "2022-03-06T07:53:19.618Z"
   },
   {
    "duration": 20,
    "start_time": "2022-03-06T07:53:19.691Z"
   },
   {
    "duration": 108,
    "start_time": "2022-03-06T07:53:19.714Z"
   },
   {
    "duration": 6,
    "start_time": "2022-03-06T07:53:19.825Z"
   },
   {
    "duration": 74,
    "start_time": "2022-03-06T07:53:19.834Z"
   },
   {
    "duration": 7,
    "start_time": "2022-03-06T07:53:19.911Z"
   },
   {
    "duration": 19,
    "start_time": "2022-03-06T07:53:19.920Z"
   },
   {
    "duration": 47,
    "start_time": "2022-03-06T07:53:19.941Z"
   },
   {
    "duration": 13,
    "start_time": "2022-03-06T07:53:19.991Z"
   },
   {
    "duration": 16,
    "start_time": "2022-03-06T07:53:20.007Z"
   },
   {
    "duration": 5,
    "start_time": "2022-03-06T07:53:20.025Z"
   },
   {
    "duration": 56,
    "start_time": "2022-03-06T07:53:20.032Z"
   },
   {
    "duration": 4,
    "start_time": "2022-03-06T07:53:20.090Z"
   },
   {
    "duration": 13,
    "start_time": "2022-03-06T07:53:20.096Z"
   },
   {
    "duration": 22,
    "start_time": "2022-03-06T07:53:20.111Z"
   },
   {
    "duration": 22,
    "start_time": "2022-03-06T07:53:20.135Z"
   },
   {
    "duration": 80,
    "start_time": "2022-03-06T07:53:20.190Z"
   },
   {
    "duration": 37,
    "start_time": "2022-03-06T07:53:20.289Z"
   },
   {
    "duration": 6,
    "start_time": "2022-03-06T07:53:20.330Z"
   },
   {
    "duration": 56,
    "start_time": "2022-03-06T07:53:20.339Z"
   },
   {
    "duration": 13,
    "start_time": "2022-03-06T07:53:20.397Z"
   },
   {
    "duration": 6,
    "start_time": "2022-03-06T07:53:20.412Z"
   },
   {
    "duration": 16,
    "start_time": "2022-03-06T07:53:20.421Z"
   },
   {
    "duration": 5,
    "start_time": "2022-03-06T07:53:20.440Z"
   },
   {
    "duration": 47,
    "start_time": "2022-03-06T07:53:20.447Z"
   },
   {
    "duration": 568,
    "start_time": "2022-03-06T07:53:20.497Z"
   },
   {
    "duration": 1949,
    "start_time": "2022-03-06T07:53:21.067Z"
   },
   {
    "duration": 1433,
    "start_time": "2022-03-06T07:53:23.019Z"
   },
   {
    "duration": 6,
    "start_time": "2022-03-06T07:53:24.454Z"
   },
   {
    "duration": 33,
    "start_time": "2022-03-06T07:53:24.462Z"
   },
   {
    "duration": 123,
    "start_time": "2022-03-06T07:53:24.497Z"
   },
   {
    "duration": 9,
    "start_time": "2022-03-06T07:53:24.623Z"
   },
   {
    "duration": 26,
    "start_time": "2022-03-06T07:53:24.634Z"
   },
   {
    "duration": 168,
    "start_time": "2022-03-06T07:53:24.662Z"
   },
   {
    "duration": 10,
    "start_time": "2022-03-06T07:53:24.832Z"
   },
   {
    "duration": 80,
    "start_time": "2022-03-06T07:53:24.845Z"
   },
   {
    "duration": 10,
    "start_time": "2022-03-06T07:53:24.928Z"
   },
   {
    "duration": 108,
    "start_time": "2022-03-06T07:53:24.940Z"
   },
   {
    "duration": 495,
    "start_time": "2022-03-06T07:53:25.051Z"
   },
   {
    "duration": 1669,
    "start_time": "2022-03-06T07:53:52.564Z"
   },
   {
    "duration": 37,
    "start_time": "2022-03-06T07:53:54.236Z"
   },
   {
    "duration": 11,
    "start_time": "2022-03-06T07:53:54.287Z"
   },
   {
    "duration": 19,
    "start_time": "2022-03-06T07:53:54.301Z"
   },
   {
    "duration": 5,
    "start_time": "2022-03-06T07:53:54.322Z"
   },
   {
    "duration": 15,
    "start_time": "2022-03-06T07:53:54.329Z"
   },
   {
    "duration": 55,
    "start_time": "2022-03-06T07:53:54.346Z"
   },
   {
    "duration": 23,
    "start_time": "2022-03-06T07:53:54.403Z"
   },
   {
    "duration": 105,
    "start_time": "2022-03-06T07:53:54.429Z"
   },
   {
    "duration": 6,
    "start_time": "2022-03-06T07:53:54.536Z"
   },
   {
    "duration": 72,
    "start_time": "2022-03-06T07:53:54.544Z"
   },
   {
    "duration": 7,
    "start_time": "2022-03-06T07:53:54.618Z"
   },
   {
    "duration": 23,
    "start_time": "2022-03-06T07:53:54.627Z"
   },
   {
    "duration": 37,
    "start_time": "2022-03-06T07:53:54.652Z"
   },
   {
    "duration": 13,
    "start_time": "2022-03-06T07:53:54.691Z"
   },
   {
    "duration": 12,
    "start_time": "2022-03-06T07:53:54.706Z"
   },
   {
    "duration": 6,
    "start_time": "2022-03-06T07:53:54.720Z"
   },
   {
    "duration": 63,
    "start_time": "2022-03-06T07:53:54.728Z"
   },
   {
    "duration": 3,
    "start_time": "2022-03-06T07:53:54.793Z"
   },
   {
    "duration": 12,
    "start_time": "2022-03-06T07:53:54.799Z"
   },
   {
    "duration": 14,
    "start_time": "2022-03-06T07:53:54.813Z"
   },
   {
    "duration": 19,
    "start_time": "2022-03-06T07:53:54.829Z"
   },
   {
    "duration": 107,
    "start_time": "2022-03-06T07:53:54.850Z"
   },
   {
    "duration": 61,
    "start_time": "2022-03-06T07:53:54.959Z"
   },
   {
    "duration": 5,
    "start_time": "2022-03-06T07:53:55.022Z"
   },
   {
    "duration": 12,
    "start_time": "2022-03-06T07:53:55.029Z"
   },
   {
    "duration": 42,
    "start_time": "2022-03-06T07:53:55.046Z"
   },
   {
    "duration": 10,
    "start_time": "2022-03-06T07:53:55.091Z"
   },
   {
    "duration": 19,
    "start_time": "2022-03-06T07:53:55.103Z"
   },
   {
    "duration": 6,
    "start_time": "2022-03-06T07:53:55.125Z"
   },
   {
    "duration": 14,
    "start_time": "2022-03-06T07:53:55.134Z"
   },
   {
    "duration": 749,
    "start_time": "2022-03-06T07:53:55.150Z"
   },
   {
    "duration": 1538,
    "start_time": "2022-03-06T07:53:55.902Z"
   },
   {
    "duration": 1490,
    "start_time": "2022-03-06T07:53:57.442Z"
   },
   {
    "duration": 6,
    "start_time": "2022-03-06T07:53:58.934Z"
   },
   {
    "duration": 14,
    "start_time": "2022-03-06T07:53:58.942Z"
   },
   {
    "duration": 122,
    "start_time": "2022-03-06T07:53:58.958Z"
   },
   {
    "duration": 8,
    "start_time": "2022-03-06T07:53:59.087Z"
   },
   {
    "duration": 14,
    "start_time": "2022-03-06T07:53:59.097Z"
   },
   {
    "duration": 174,
    "start_time": "2022-03-06T07:53:59.113Z"
   },
   {
    "duration": 9,
    "start_time": "2022-03-06T07:53:59.289Z"
   },
   {
    "duration": 56,
    "start_time": "2022-03-06T07:53:59.300Z"
   },
   {
    "duration": 35,
    "start_time": "2022-03-06T07:53:59.358Z"
   },
   {
    "duration": 106,
    "start_time": "2022-03-06T07:53:59.396Z"
   },
   {
    "duration": 573,
    "start_time": "2022-03-06T07:53:59.505Z"
   },
   {
    "duration": 1566,
    "start_time": "2022-03-06T07:54:28.138Z"
   },
   {
    "duration": 39,
    "start_time": "2022-03-06T07:54:29.707Z"
   },
   {
    "duration": 11,
    "start_time": "2022-03-06T07:54:29.750Z"
   },
   {
    "duration": 36,
    "start_time": "2022-03-06T07:54:29.764Z"
   },
   {
    "duration": 5,
    "start_time": "2022-03-06T07:54:29.802Z"
   },
   {
    "duration": 9,
    "start_time": "2022-03-06T07:54:29.809Z"
   },
   {
    "duration": 68,
    "start_time": "2022-03-06T07:54:29.820Z"
   },
   {
    "duration": 20,
    "start_time": "2022-03-06T07:54:29.890Z"
   },
   {
    "duration": 104,
    "start_time": "2022-03-06T07:54:29.914Z"
   },
   {
    "duration": 7,
    "start_time": "2022-03-06T07:54:30.021Z"
   },
   {
    "duration": 71,
    "start_time": "2022-03-06T07:54:30.030Z"
   },
   {
    "duration": 8,
    "start_time": "2022-03-06T07:54:30.104Z"
   },
   {
    "duration": 27,
    "start_time": "2022-03-06T07:54:30.114Z"
   },
   {
    "duration": 9,
    "start_time": "2022-03-06T07:54:30.144Z"
   },
   {
    "duration": 45,
    "start_time": "2022-03-06T07:54:30.155Z"
   },
   {
    "duration": 14,
    "start_time": "2022-03-06T07:54:30.203Z"
   },
   {
    "duration": 18,
    "start_time": "2022-03-06T07:54:30.219Z"
   },
   {
    "duration": 55,
    "start_time": "2022-03-06T07:54:30.239Z"
   },
   {
    "duration": 4,
    "start_time": "2022-03-06T07:54:30.297Z"
   },
   {
    "duration": 30,
    "start_time": "2022-03-06T07:54:30.303Z"
   },
   {
    "duration": 30,
    "start_time": "2022-03-06T07:54:30.335Z"
   },
   {
    "duration": 25,
    "start_time": "2022-03-06T07:54:30.367Z"
   },
   {
    "duration": 98,
    "start_time": "2022-03-06T07:54:30.394Z"
   },
   {
    "duration": 35,
    "start_time": "2022-03-06T07:54:30.495Z"
   },
   {
    "duration": 5,
    "start_time": "2022-03-06T07:54:30.533Z"
   },
   {
    "duration": 51,
    "start_time": "2022-03-06T07:54:30.541Z"
   },
   {
    "duration": 8,
    "start_time": "2022-03-06T07:54:30.597Z"
   },
   {
    "duration": 9,
    "start_time": "2022-03-06T07:54:30.607Z"
   },
   {
    "duration": 55,
    "start_time": "2022-03-06T07:54:30.618Z"
   },
   {
    "duration": 10,
    "start_time": "2022-03-06T07:54:30.675Z"
   },
   {
    "duration": 27,
    "start_time": "2022-03-06T07:54:30.688Z"
   },
   {
    "duration": 760,
    "start_time": "2022-03-06T07:54:30.717Z"
   },
   {
    "duration": 2758,
    "start_time": "2022-03-06T07:54:31.486Z"
   },
   {
    "duration": 1727,
    "start_time": "2022-03-06T07:54:34.247Z"
   },
   {
    "duration": 14,
    "start_time": "2022-03-06T07:54:35.976Z"
   },
   {
    "duration": 22,
    "start_time": "2022-03-06T07:54:35.992Z"
   },
   {
    "duration": 129,
    "start_time": "2022-03-06T07:54:36.017Z"
   },
   {
    "duration": 9,
    "start_time": "2022-03-06T07:54:36.148Z"
   },
   {
    "duration": 34,
    "start_time": "2022-03-06T07:54:36.160Z"
   },
   {
    "duration": 163,
    "start_time": "2022-03-06T07:54:36.197Z"
   },
   {
    "duration": 24,
    "start_time": "2022-03-06T07:54:36.363Z"
   },
   {
    "duration": 58,
    "start_time": "2022-03-06T07:54:36.389Z"
   },
   {
    "duration": 10,
    "start_time": "2022-03-06T07:54:36.450Z"
   },
   {
    "duration": 108,
    "start_time": "2022-03-06T07:54:36.462Z"
   },
   {
    "duration": 476,
    "start_time": "2022-03-06T07:54:36.588Z"
   },
   {
    "duration": 1569,
    "start_time": "2022-03-06T07:55:00.061Z"
   },
   {
    "duration": 38,
    "start_time": "2022-03-06T07:55:01.633Z"
   },
   {
    "duration": 19,
    "start_time": "2022-03-06T07:55:01.676Z"
   },
   {
    "duration": 37,
    "start_time": "2022-03-06T07:55:01.698Z"
   },
   {
    "duration": 9,
    "start_time": "2022-03-06T07:55:01.737Z"
   },
   {
    "duration": 21,
    "start_time": "2022-03-06T07:55:01.749Z"
   },
   {
    "duration": 21,
    "start_time": "2022-03-06T07:55:01.789Z"
   },
   {
    "duration": 25,
    "start_time": "2022-03-06T07:55:01.813Z"
   },
   {
    "duration": 102,
    "start_time": "2022-03-06T07:55:01.841Z"
   },
   {
    "duration": 7,
    "start_time": "2022-03-06T07:55:01.946Z"
   },
   {
    "duration": 64,
    "start_time": "2022-03-06T07:55:01.955Z"
   },
   {
    "duration": 7,
    "start_time": "2022-03-06T07:55:02.021Z"
   },
   {
    "duration": 58,
    "start_time": "2022-03-06T07:55:02.031Z"
   },
   {
    "duration": 11,
    "start_time": "2022-03-06T07:55:02.091Z"
   },
   {
    "duration": 33,
    "start_time": "2022-03-06T07:55:02.105Z"
   },
   {
    "duration": 10,
    "start_time": "2022-03-06T07:55:02.140Z"
   },
   {
    "duration": 40,
    "start_time": "2022-03-06T07:55:02.152Z"
   },
   {
    "duration": 73,
    "start_time": "2022-03-06T07:55:02.194Z"
   },
   {
    "duration": 96,
    "start_time": "2022-03-06T07:55:02.269Z"
   },
   {
    "duration": 54,
    "start_time": "2022-03-06T07:55:02.368Z"
   },
   {
    "duration": 118,
    "start_time": "2022-03-06T07:55:02.425Z"
   },
   {
    "duration": 30,
    "start_time": "2022-03-06T07:55:02.548Z"
   },
   {
    "duration": 111,
    "start_time": "2022-03-06T07:55:02.582Z"
   },
   {
    "duration": 38,
    "start_time": "2022-03-06T07:55:02.696Z"
   },
   {
    "duration": 16,
    "start_time": "2022-03-06T07:55:02.737Z"
   },
   {
    "duration": 106,
    "start_time": "2022-03-06T07:55:02.756Z"
   },
   {
    "duration": 7,
    "start_time": "2022-03-06T07:55:02.865Z"
   },
   {
    "duration": 9,
    "start_time": "2022-03-06T07:55:02.875Z"
   },
   {
    "duration": 19,
    "start_time": "2022-03-06T07:55:02.887Z"
   },
   {
    "duration": 5,
    "start_time": "2022-03-06T07:55:02.908Z"
   },
   {
    "duration": 14,
    "start_time": "2022-03-06T07:55:02.916Z"
   },
   {
    "duration": 730,
    "start_time": "2022-03-06T07:55:02.933Z"
   },
   {
    "duration": 2753,
    "start_time": "2022-03-06T07:55:03.666Z"
   },
   {
    "duration": 1647,
    "start_time": "2022-03-06T07:55:06.421Z"
   },
   {
    "duration": 21,
    "start_time": "2022-03-06T07:55:08.070Z"
   },
   {
    "duration": 13,
    "start_time": "2022-03-06T07:55:08.093Z"
   },
   {
    "duration": 125,
    "start_time": "2022-03-06T07:55:08.108Z"
   },
   {
    "duration": 8,
    "start_time": "2022-03-06T07:55:08.236Z"
   },
   {
    "duration": 41,
    "start_time": "2022-03-06T07:55:08.246Z"
   },
   {
    "duration": 150,
    "start_time": "2022-03-06T07:55:08.289Z"
   },
   {
    "duration": 10,
    "start_time": "2022-03-06T07:55:08.441Z"
   },
   {
    "duration": 81,
    "start_time": "2022-03-06T07:55:08.453Z"
   },
   {
    "duration": 10,
    "start_time": "2022-03-06T07:55:08.536Z"
   },
   {
    "duration": 106,
    "start_time": "2022-03-06T07:55:08.549Z"
   },
   {
    "duration": 470,
    "start_time": "2022-03-06T07:55:08.658Z"
   },
   {
    "duration": 7,
    "start_time": "2022-03-06T07:55:32.314Z"
   },
   {
    "duration": 1543,
    "start_time": "2022-03-06T07:55:37.197Z"
   },
   {
    "duration": 44,
    "start_time": "2022-03-06T07:55:38.743Z"
   },
   {
    "duration": 12,
    "start_time": "2022-03-06T07:55:38.790Z"
   },
   {
    "duration": 16,
    "start_time": "2022-03-06T07:55:38.805Z"
   },
   {
    "duration": 6,
    "start_time": "2022-03-06T07:55:38.823Z"
   },
   {
    "duration": 58,
    "start_time": "2022-03-06T07:55:38.831Z"
   },
   {
    "duration": 22,
    "start_time": "2022-03-06T07:55:38.891Z"
   },
   {
    "duration": 25,
    "start_time": "2022-03-06T07:55:38.916Z"
   },
   {
    "duration": 116,
    "start_time": "2022-03-06T07:55:38.946Z"
   },
   {
    "duration": 7,
    "start_time": "2022-03-06T07:55:39.087Z"
   },
   {
    "duration": 38,
    "start_time": "2022-03-06T07:55:39.097Z"
   },
   {
    "duration": 8,
    "start_time": "2022-03-06T07:55:39.137Z"
   },
   {
    "duration": 18,
    "start_time": "2022-03-06T07:55:39.188Z"
   },
   {
    "duration": 8,
    "start_time": "2022-03-06T07:55:39.208Z"
   },
   {
    "duration": 13,
    "start_time": "2022-03-06T07:55:39.218Z"
   },
   {
    "duration": 58,
    "start_time": "2022-03-06T07:55:39.233Z"
   },
   {
    "duration": 4,
    "start_time": "2022-03-06T07:55:39.294Z"
   },
   {
    "duration": 16,
    "start_time": "2022-03-06T07:55:39.300Z"
   },
   {
    "duration": 3,
    "start_time": "2022-03-06T07:55:39.318Z"
   },
   {
    "duration": 9,
    "start_time": "2022-03-06T07:55:39.324Z"
   },
   {
    "duration": 56,
    "start_time": "2022-03-06T07:55:39.336Z"
   },
   {
    "duration": 19,
    "start_time": "2022-03-06T07:55:39.395Z"
   },
   {
    "duration": 109,
    "start_time": "2022-03-06T07:55:39.416Z"
   },
   {
    "duration": 36,
    "start_time": "2022-03-06T07:55:39.528Z"
   },
   {
    "duration": 23,
    "start_time": "2022-03-06T07:55:39.567Z"
   },
   {
    "duration": 11,
    "start_time": "2022-03-06T07:55:39.593Z"
   },
   {
    "duration": 7,
    "start_time": "2022-03-06T07:55:39.611Z"
   },
   {
    "duration": 7,
    "start_time": "2022-03-06T07:55:39.621Z"
   },
   {
    "duration": 67,
    "start_time": "2022-03-06T07:55:39.631Z"
   },
   {
    "duration": 6,
    "start_time": "2022-03-06T07:55:39.701Z"
   },
   {
    "duration": 13,
    "start_time": "2022-03-06T07:55:39.710Z"
   },
   {
    "duration": 760,
    "start_time": "2022-03-06T07:55:39.726Z"
   },
   {
    "duration": 2819,
    "start_time": "2022-03-06T07:55:40.489Z"
   },
   {
    "duration": 1587,
    "start_time": "2022-03-06T07:55:43.310Z"
   },
   {
    "duration": 6,
    "start_time": "2022-03-06T07:55:44.899Z"
   },
   {
    "duration": 13,
    "start_time": "2022-03-06T07:55:44.907Z"
   },
   {
    "duration": 134,
    "start_time": "2022-03-06T07:55:44.923Z"
   },
   {
    "duration": 9,
    "start_time": "2022-03-06T07:55:45.060Z"
   },
   {
    "duration": 14,
    "start_time": "2022-03-06T07:55:45.087Z"
   },
   {
    "duration": 165,
    "start_time": "2022-03-06T07:55:45.103Z"
   },
   {
    "duration": 17,
    "start_time": "2022-03-06T07:55:45.270Z"
   },
   {
    "duration": 56,
    "start_time": "2022-03-06T07:55:45.290Z"
   },
   {
    "duration": 10,
    "start_time": "2022-03-06T07:55:45.348Z"
   },
   {
    "duration": 86,
    "start_time": "2022-03-06T07:55:45.388Z"
   },
   {
    "duration": 581,
    "start_time": "2022-03-06T07:55:45.487Z"
   },
   {
    "duration": 1601,
    "start_time": "2022-03-06T07:56:13.361Z"
   },
   {
    "duration": 47,
    "start_time": "2022-03-06T07:56:14.965Z"
   },
   {
    "duration": 13,
    "start_time": "2022-03-06T07:56:15.015Z"
   },
   {
    "duration": 15,
    "start_time": "2022-03-06T07:56:15.031Z"
   },
   {
    "duration": 42,
    "start_time": "2022-03-06T07:56:15.049Z"
   },
   {
    "duration": 16,
    "start_time": "2022-03-06T07:56:15.094Z"
   },
   {
    "duration": 22,
    "start_time": "2022-03-06T07:56:15.112Z"
   },
   {
    "duration": 67,
    "start_time": "2022-03-06T07:56:15.137Z"
   },
   {
    "duration": 97,
    "start_time": "2022-03-06T07:56:15.209Z"
   },
   {
    "duration": 7,
    "start_time": "2022-03-06T07:56:15.309Z"
   },
   {
    "duration": 69,
    "start_time": "2022-03-06T07:56:15.318Z"
   },
   {
    "duration": 9,
    "start_time": "2022-03-06T07:56:15.390Z"
   },
   {
    "duration": 20,
    "start_time": "2022-03-06T07:56:15.401Z"
   },
   {
    "duration": 10,
    "start_time": "2022-03-06T07:56:15.423Z"
   },
   {
    "duration": 61,
    "start_time": "2022-03-06T07:56:15.439Z"
   },
   {
    "duration": 12,
    "start_time": "2022-03-06T07:56:15.503Z"
   },
   {
    "duration": 4,
    "start_time": "2022-03-06T07:56:15.518Z"
   },
   {
    "duration": 65,
    "start_time": "2022-03-06T07:56:15.525Z"
   },
   {
    "duration": 4,
    "start_time": "2022-03-06T07:56:15.592Z"
   },
   {
    "duration": 10,
    "start_time": "2022-03-06T07:56:15.599Z"
   },
   {
    "duration": 12,
    "start_time": "2022-03-06T07:56:15.611Z"
   },
   {
    "duration": 19,
    "start_time": "2022-03-06T07:56:15.625Z"
   },
   {
    "duration": 73,
    "start_time": "2022-03-06T07:56:15.687Z"
   },
   {
    "duration": 56,
    "start_time": "2022-03-06T07:56:15.762Z"
   },
   {
    "duration": 5,
    "start_time": "2022-03-06T07:56:15.820Z"
   },
   {
    "duration": 10,
    "start_time": "2022-03-06T07:56:15.827Z"
   },
   {
    "duration": 5,
    "start_time": "2022-03-06T07:56:15.887Z"
   },
   {
    "duration": 6,
    "start_time": "2022-03-06T07:56:15.895Z"
   },
   {
    "duration": 19,
    "start_time": "2022-03-06T07:56:15.904Z"
   },
   {
    "duration": 5,
    "start_time": "2022-03-06T07:56:15.925Z"
   },
   {
    "duration": 10,
    "start_time": "2022-03-06T07:56:15.932Z"
   },
   {
    "duration": 698,
    "start_time": "2022-03-06T07:56:15.945Z"
   },
   {
    "duration": 2320,
    "start_time": "2022-03-06T07:56:16.645Z"
   },
   {
    "duration": 1612,
    "start_time": "2022-03-06T07:56:18.967Z"
   },
   {
    "duration": 6,
    "start_time": "2022-03-06T07:56:20.582Z"
   },
   {
    "duration": 18,
    "start_time": "2022-03-06T07:56:20.590Z"
   },
   {
    "duration": 138,
    "start_time": "2022-03-06T07:56:20.611Z"
   },
   {
    "duration": 11,
    "start_time": "2022-03-06T07:56:20.752Z"
   },
   {
    "duration": 21,
    "start_time": "2022-03-06T07:56:20.787Z"
   },
   {
    "duration": 179,
    "start_time": "2022-03-06T07:56:20.810Z"
   },
   {
    "duration": 15,
    "start_time": "2022-03-06T07:56:20.992Z"
   },
   {
    "duration": 92,
    "start_time": "2022-03-06T07:56:21.009Z"
   },
   {
    "duration": 14,
    "start_time": "2022-03-06T07:56:21.105Z"
   },
   {
    "duration": 125,
    "start_time": "2022-03-06T07:56:21.122Z"
   },
   {
    "duration": 487,
    "start_time": "2022-03-06T07:56:21.250Z"
   },
   {
    "duration": 1068,
    "start_time": "2022-03-06T08:01:05.241Z"
   },
   {
    "duration": 81,
    "start_time": "2022-03-06T08:01:31.431Z"
   },
   {
    "duration": -898,
    "start_time": "2022-03-06T08:10:44.425Z"
   },
   {
    "duration": -903,
    "start_time": "2022-03-06T08:10:44.432Z"
   },
   {
    "duration": 8,
    "start_time": "2022-03-06T08:10:46.807Z"
   },
   {
    "duration": -1175,
    "start_time": "2022-03-06T08:12:54.517Z"
   },
   {
    "duration": -1179,
    "start_time": "2022-03-06T08:12:54.522Z"
   },
   {
    "duration": 8,
    "start_time": "2022-03-06T08:12:55.536Z"
   },
   {
    "duration": 12580,
    "start_time": "2022-03-06T08:12:55.973Z"
   },
   {
    "duration": 7,
    "start_time": "2022-03-06T08:13:14.292Z"
   },
   {
    "duration": 7,
    "start_time": "2022-03-06T08:15:54.530Z"
   },
   {
    "duration": -1192,
    "start_time": "2022-03-06T08:19:37.047Z"
   },
   {
    "duration": -1202,
    "start_time": "2022-03-06T08:19:37.058Z"
   },
   {
    "duration": 8,
    "start_time": "2022-03-06T08:19:38.345Z"
   },
   {
    "duration": -1080,
    "start_time": "2022-03-06T08:21:00.887Z"
   },
   {
    "duration": -1086,
    "start_time": "2022-03-06T08:21:00.894Z"
   },
   {
    "duration": 8,
    "start_time": "2022-03-06T08:21:03.912Z"
   },
   {
    "duration": -1008,
    "start_time": "2022-03-06T08:23:24.566Z"
   },
   {
    "duration": -1017,
    "start_time": "2022-03-06T08:23:24.577Z"
   },
   {
    "duration": 8,
    "start_time": "2022-03-06T08:23:28.098Z"
   },
   {
    "duration": 13782,
    "start_time": "2022-03-06T08:23:28.473Z"
   },
   {
    "duration": 7,
    "start_time": "2022-03-06T08:23:45.477Z"
   },
   {
    "duration": 32232,
    "start_time": "2022-03-06T08:23:47.112Z"
   },
   {
    "duration": 29606,
    "start_time": "2022-03-06T08:24:21.265Z"
   },
   {
    "duration": 136079,
    "start_time": "2022-03-06T08:25:35.345Z"
   },
   {
    "duration": -1062,
    "start_time": "2022-03-06T08:28:48.797Z"
   },
   {
    "duration": -1088,
    "start_time": "2022-03-06T08:28:48.824Z"
   },
   {
    "duration": 6,
    "start_time": "2022-03-06T08:28:54.846Z"
   },
   {
    "duration": 7,
    "start_time": "2022-03-06T08:28:59.270Z"
   },
   {
    "duration": 259102,
    "start_time": "2022-03-06T08:28:59.946Z"
   },
   {
    "duration": 7,
    "start_time": "2022-03-06T08:33:19.054Z"
   },
   {
    "duration": 5,
    "start_time": "2022-03-06T08:33:19.087Z"
   },
   {
    "duration": 10,
    "start_time": "2022-03-06T08:33:19.095Z"
   },
   {
    "duration": 375,
    "start_time": "2022-03-06T08:33:19.107Z"
   },
   {
    "duration": 6,
    "start_time": "2022-03-06T08:35:55.532Z"
   },
   {
    "duration": 6,
    "start_time": "2022-03-06T08:36:06.992Z"
   },
   {
    "duration": 11,
    "start_time": "2022-03-06T08:36:10.051Z"
   },
   {
    "duration": 5,
    "start_time": "2022-03-06T08:36:13.131Z"
   },
   {
    "duration": 13,
    "start_time": "2022-03-06T08:36:17.112Z"
   },
   {
    "duration": 783,
    "start_time": "2022-03-06T08:36:21.651Z"
   },
   {
    "duration": 6,
    "start_time": "2022-03-06T08:37:15.251Z"
   },
   {
    "duration": 7,
    "start_time": "2022-03-06T08:37:16.832Z"
   },
   {
    "duration": 10,
    "start_time": "2022-03-06T08:37:17.739Z"
   },
   {
    "duration": 5,
    "start_time": "2022-03-06T08:37:18.632Z"
   },
   {
    "duration": 10,
    "start_time": "2022-03-06T08:37:19.260Z"
   },
   {
    "duration": 6828,
    "start_time": "2022-03-06T08:37:20.231Z"
   },
   {
    "duration": 8,
    "start_time": "2022-03-06T08:37:40.282Z"
   },
   {
    "duration": 6,
    "start_time": "2022-03-06T08:37:40.491Z"
   },
   {
    "duration": 11,
    "start_time": "2022-03-06T08:37:40.710Z"
   },
   {
    "duration": 4,
    "start_time": "2022-03-06T08:37:40.992Z"
   },
   {
    "duration": 12,
    "start_time": "2022-03-06T08:37:41.572Z"
   },
   {
    "duration": 599,
    "start_time": "2022-03-06T08:37:42.491Z"
   },
   {
    "duration": 3136,
    "start_time": "2022-03-06T08:38:01.980Z"
   },
   {
    "duration": 6,
    "start_time": "2022-03-06T08:38:43.503Z"
   },
   {
    "duration": 7,
    "start_time": "2022-03-06T08:38:43.892Z"
   },
   {
    "duration": 10,
    "start_time": "2022-03-06T08:38:44.160Z"
   },
   {
    "duration": 5,
    "start_time": "2022-03-06T08:38:44.432Z"
   },
   {
    "duration": 11,
    "start_time": "2022-03-06T08:38:45.029Z"
   },
   {
    "duration": 643,
    "start_time": "2022-03-06T08:38:46.173Z"
   },
   {
    "duration": 8405,
    "start_time": "2022-03-06T08:38:59.212Z"
   },
   {
    "duration": 2361,
    "start_time": "2022-03-06T08:43:18.892Z"
   },
   {
    "duration": 7,
    "start_time": "2022-03-06T08:44:10.419Z"
   },
   {
    "duration": 8,
    "start_time": "2022-03-06T08:46:04.455Z"
   },
   {
    "duration": 263195,
    "start_time": "2022-03-06T08:46:24.212Z"
   },
   {
    "duration": 182637,
    "start_time": "2022-03-06T08:53:33.659Z"
   },
   {
    "duration": 15367,
    "start_time": "2022-03-06T08:58:13.673Z"
   },
   {
    "duration": 202287,
    "start_time": "2022-03-06T08:59:23.100Z"
   },
   {
    "duration": 191538,
    "start_time": "2022-03-06T09:03:03.832Z"
   },
   {
    "duration": 6,
    "start_time": "2022-03-06T09:14:59.808Z"
   },
   {
    "duration": 8,
    "start_time": "2022-03-06T09:15:03.779Z"
   },
   {
    "duration": 12,
    "start_time": "2022-03-06T09:15:05.849Z"
   },
   {
    "duration": 5,
    "start_time": "2022-03-06T09:15:07.799Z"
   },
   {
    "duration": 12,
    "start_time": "2022-03-06T09:15:28.399Z"
   },
   {
    "duration": 603,
    "start_time": "2022-03-06T09:15:33.499Z"
   },
   {
    "duration": 8153,
    "start_time": "2022-03-06T09:15:38.579Z"
   },
   {
    "duration": 1467,
    "start_time": "2022-03-06T09:15:57.149Z"
   },
   {
    "duration": 9,
    "start_time": "2022-03-06T09:16:49.708Z"
   },
   {
    "duration": 13,
    "start_time": "2022-03-06T09:16:53.508Z"
   },
   {
    "duration": 353,
    "start_time": "2022-03-06T09:16:54.902Z"
   },
   {
    "duration": 8,
    "start_time": "2022-03-06T09:20:47.427Z"
   },
   {
    "duration": 14,
    "start_time": "2022-03-06T09:20:57.219Z"
   },
   {
    "duration": 505,
    "start_time": "2022-03-06T09:20:58.139Z"
   },
   {
    "duration": 13,
    "start_time": "2022-03-06T09:23:22.980Z"
   },
   {
    "duration": 520,
    "start_time": "2022-03-06T09:23:23.519Z"
   },
   {
    "duration": 11,
    "start_time": "2022-03-06T09:23:41.159Z"
   },
   {
    "duration": 183,
    "start_time": "2022-03-06T09:23:41.647Z"
   },
   {
    "duration": 6,
    "start_time": "2022-03-06T09:26:24.599Z"
   },
   {
    "duration": 5,
    "start_time": "2022-03-06T09:27:59.459Z"
   },
   {
    "duration": 9,
    "start_time": "2022-03-06T09:30:59.870Z"
   },
   {
    "duration": 185,
    "start_time": "2022-03-06T09:31:01.288Z"
   },
   {
    "duration": 10,
    "start_time": "2022-03-06T09:32:26.679Z"
   },
   {
    "duration": 305,
    "start_time": "2022-03-06T09:32:27.319Z"
   },
   {
    "duration": 1087,
    "start_time": "2022-03-06T09:33:34.707Z"
   },
   {
    "duration": 17,
    "start_time": "2022-03-06T09:58:03.740Z"
   },
   {
    "duration": 14,
    "start_time": "2022-03-06T09:58:21.119Z"
   },
   {
    "duration": 5,
    "start_time": "2022-03-06T09:58:52.239Z"
   },
   {
    "duration": 1519,
    "start_time": "2022-03-06T09:59:20.342Z"
   },
   {
    "duration": 48,
    "start_time": "2022-03-06T09:59:21.863Z"
   },
   {
    "duration": 11,
    "start_time": "2022-03-06T09:59:21.917Z"
   },
   {
    "duration": 15,
    "start_time": "2022-03-06T09:59:21.930Z"
   },
   {
    "duration": 46,
    "start_time": "2022-03-06T09:59:21.947Z"
   },
   {
    "duration": 18,
    "start_time": "2022-03-06T09:59:21.996Z"
   },
   {
    "duration": 21,
    "start_time": "2022-03-06T09:59:22.017Z"
   },
   {
    "duration": 62,
    "start_time": "2022-03-06T09:59:22.043Z"
   },
   {
    "duration": 98,
    "start_time": "2022-03-06T09:59:22.108Z"
   },
   {
    "duration": 8,
    "start_time": "2022-03-06T09:59:22.209Z"
   },
   {
    "duration": 78,
    "start_time": "2022-03-06T09:59:22.220Z"
   },
   {
    "duration": 8,
    "start_time": "2022-03-06T09:59:22.301Z"
   },
   {
    "duration": 21,
    "start_time": "2022-03-06T09:59:22.311Z"
   },
   {
    "duration": 8,
    "start_time": "2022-03-06T09:59:22.335Z"
   },
   {
    "duration": 55,
    "start_time": "2022-03-06T09:59:22.346Z"
   },
   {
    "duration": 9,
    "start_time": "2022-03-06T09:59:22.404Z"
   },
   {
    "duration": 5,
    "start_time": "2022-03-06T09:59:22.416Z"
   },
   {
    "duration": 22,
    "start_time": "2022-03-06T09:59:22.423Z"
   },
   {
    "duration": 44,
    "start_time": "2022-03-06T09:59:22.447Z"
   },
   {
    "duration": 16,
    "start_time": "2022-03-06T09:59:22.494Z"
   },
   {
    "duration": 15,
    "start_time": "2022-03-06T09:59:22.513Z"
   },
   {
    "duration": 433,
    "start_time": "2022-03-06T09:59:22.531Z"
   },
   {
    "duration": -1022,
    "start_time": "2022-03-06T09:59:23.991Z"
   },
   {
    "duration": -1027,
    "start_time": "2022-03-06T09:59:23.997Z"
   },
   {
    "duration": -1064,
    "start_time": "2022-03-06T09:59:24.035Z"
   },
   {
    "duration": -1073,
    "start_time": "2022-03-06T09:59:24.045Z"
   },
   {
    "duration": -1077,
    "start_time": "2022-03-06T09:59:24.051Z"
   },
   {
    "duration": -1082,
    "start_time": "2022-03-06T09:59:24.057Z"
   },
   {
    "duration": -1085,
    "start_time": "2022-03-06T09:59:24.062Z"
   },
   {
    "duration": -1089,
    "start_time": "2022-03-06T09:59:24.067Z"
   },
   {
    "duration": -1094,
    "start_time": "2022-03-06T09:59:24.073Z"
   },
   {
    "duration": -1098,
    "start_time": "2022-03-06T09:59:24.078Z"
   },
   {
    "duration": -1104,
    "start_time": "2022-03-06T09:59:24.086Z"
   },
   {
    "duration": -1109,
    "start_time": "2022-03-06T09:59:24.092Z"
   },
   {
    "duration": -1114,
    "start_time": "2022-03-06T09:59:24.098Z"
   },
   {
    "duration": -1118,
    "start_time": "2022-03-06T09:59:24.103Z"
   },
   {
    "duration": -1119,
    "start_time": "2022-03-06T09:59:24.108Z"
   },
   {
    "duration": -1135,
    "start_time": "2022-03-06T09:59:24.126Z"
   },
   {
    "duration": -1140,
    "start_time": "2022-03-06T09:59:24.132Z"
   },
   {
    "duration": -1143,
    "start_time": "2022-03-06T09:59:24.137Z"
   },
   {
    "duration": -1157,
    "start_time": "2022-03-06T09:59:24.153Z"
   },
   {
    "duration": -1158,
    "start_time": "2022-03-06T09:59:24.158Z"
   },
   {
    "duration": -1163,
    "start_time": "2022-03-06T09:59:24.164Z"
   },
   {
    "duration": -1166,
    "start_time": "2022-03-06T09:59:24.169Z"
   },
   {
    "duration": -1172,
    "start_time": "2022-03-06T09:59:24.176Z"
   },
   {
    "duration": -1175,
    "start_time": "2022-03-06T09:59:24.181Z"
   },
   {
    "duration": -1179,
    "start_time": "2022-03-06T09:59:24.186Z"
   },
   {
    "duration": -1186,
    "start_time": "2022-03-06T09:59:24.194Z"
   },
   {
    "duration": 6,
    "start_time": "2022-03-06T09:59:31.821Z"
   },
   {
    "duration": 24,
    "start_time": "2022-03-06T10:00:33.491Z"
   },
   {
    "duration": 25,
    "start_time": "2022-03-06T10:01:38.571Z"
   },
   {
    "duration": 1702,
    "start_time": "2022-03-06T10:01:49.777Z"
   },
   {
    "duration": 40,
    "start_time": "2022-03-06T10:01:51.482Z"
   },
   {
    "duration": 15,
    "start_time": "2022-03-06T10:01:51.526Z"
   },
   {
    "duration": 57,
    "start_time": "2022-03-06T10:01:51.545Z"
   },
   {
    "duration": 5,
    "start_time": "2022-03-06T10:01:51.604Z"
   },
   {
    "duration": 14,
    "start_time": "2022-03-06T10:01:51.611Z"
   },
   {
    "duration": 22,
    "start_time": "2022-03-06T10:01:51.627Z"
   },
   {
    "duration": 20,
    "start_time": "2022-03-06T10:01:51.688Z"
   },
   {
    "duration": 111,
    "start_time": "2022-03-06T10:01:51.713Z"
   },
   {
    "duration": 7,
    "start_time": "2022-03-06T10:01:51.827Z"
   },
   {
    "duration": 70,
    "start_time": "2022-03-06T10:01:51.836Z"
   },
   {
    "duration": 9,
    "start_time": "2022-03-06T10:01:51.910Z"
   },
   {
    "duration": 24,
    "start_time": "2022-03-06T10:01:51.922Z"
   },
   {
    "duration": 49,
    "start_time": "2022-03-06T10:01:51.949Z"
   },
   {
    "duration": 19,
    "start_time": "2022-03-06T10:01:52.001Z"
   },
   {
    "duration": 11,
    "start_time": "2022-03-06T10:01:52.023Z"
   },
   {
    "duration": 51,
    "start_time": "2022-03-06T10:01:52.038Z"
   },
   {
    "duration": 23,
    "start_time": "2022-03-06T10:01:52.092Z"
   },
   {
    "duration": 4,
    "start_time": "2022-03-06T10:01:52.119Z"
   },
   {
    "duration": 11,
    "start_time": "2022-03-06T10:01:52.126Z"
   },
   {
    "duration": 58,
    "start_time": "2022-03-06T10:01:52.139Z"
   },
   {
    "duration": 25,
    "start_time": "2022-03-06T10:01:52.200Z"
   },
   {
    "duration": 65,
    "start_time": "2022-03-06T10:01:52.228Z"
   },
   {
    "duration": 21,
    "start_time": "2022-03-06T10:01:52.295Z"
   },
   {
    "duration": 116,
    "start_time": "2022-03-06T10:01:52.318Z"
   },
   {
    "duration": 57,
    "start_time": "2022-03-06T10:01:52.436Z"
   },
   {
    "duration": 6,
    "start_time": "2022-03-06T10:01:52.498Z"
   },
   {
    "duration": 6,
    "start_time": "2022-03-06T10:01:52.507Z"
   },
   {
    "duration": 12,
    "start_time": "2022-03-06T10:01:52.515Z"
   },
   {
    "duration": 5,
    "start_time": "2022-03-06T10:01:52.530Z"
   },
   {
    "duration": 55,
    "start_time": "2022-03-06T10:01:52.537Z"
   },
   {
    "duration": 112,
    "start_time": "2022-03-06T10:01:52.595Z"
   },
   {
    "duration": -1225,
    "start_time": "2022-03-06T10:01:53.934Z"
   },
   {
    "duration": -1228,
    "start_time": "2022-03-06T10:01:53.939Z"
   },
   {
    "duration": -1231,
    "start_time": "2022-03-06T10:01:53.944Z"
   },
   {
    "duration": -1236,
    "start_time": "2022-03-06T10:01:53.950Z"
   },
   {
    "duration": -1239,
    "start_time": "2022-03-06T10:01:53.955Z"
   },
   {
    "duration": -1244,
    "start_time": "2022-03-06T10:01:53.961Z"
   },
   {
    "duration": -1247,
    "start_time": "2022-03-06T10:01:53.966Z"
   },
   {
    "duration": -1251,
    "start_time": "2022-03-06T10:01:53.971Z"
   },
   {
    "duration": -1255,
    "start_time": "2022-03-06T10:01:53.977Z"
   },
   {
    "duration": -1259,
    "start_time": "2022-03-06T10:01:53.982Z"
   },
   {
    "duration": -1262,
    "start_time": "2022-03-06T10:01:53.988Z"
   },
   {
    "duration": -1264,
    "start_time": "2022-03-06T10:01:53.992Z"
   },
   {
    "duration": -1269,
    "start_time": "2022-03-06T10:01:53.998Z"
   },
   {
    "duration": -1298,
    "start_time": "2022-03-06T10:01:54.029Z"
   },
   {
    "duration": -1302,
    "start_time": "2022-03-06T10:01:54.035Z"
   },
   {
    "duration": -1306,
    "start_time": "2022-03-06T10:01:54.040Z"
   },
   {
    "duration": 2093,
    "start_time": "2022-03-06T10:02:18.656Z"
   },
   {
    "duration": 58,
    "start_time": "2022-03-06T10:02:20.753Z"
   },
   {
    "duration": 15,
    "start_time": "2022-03-06T10:02:20.815Z"
   },
   {
    "duration": 22,
    "start_time": "2022-03-06T10:02:20.833Z"
   },
   {
    "duration": 6,
    "start_time": "2022-03-06T10:02:20.888Z"
   },
   {
    "duration": 15,
    "start_time": "2022-03-06T10:02:20.897Z"
   },
   {
    "duration": 31,
    "start_time": "2022-03-06T10:02:20.915Z"
   },
   {
    "duration": 30,
    "start_time": "2022-03-06T10:02:20.988Z"
   },
   {
    "duration": 130,
    "start_time": "2022-03-06T10:02:21.024Z"
   },
   {
    "duration": 8,
    "start_time": "2022-03-06T10:02:21.158Z"
   },
   {
    "duration": 51,
    "start_time": "2022-03-06T10:02:21.188Z"
   },
   {
    "duration": 9,
    "start_time": "2022-03-06T10:02:21.242Z"
   },
   {
    "duration": 56,
    "start_time": "2022-03-06T10:02:21.253Z"
   },
   {
    "duration": 13,
    "start_time": "2022-03-06T10:02:21.312Z"
   },
   {
    "duration": 69,
    "start_time": "2022-03-06T10:02:21.329Z"
   },
   {
    "duration": 10,
    "start_time": "2022-03-06T10:02:21.401Z"
   },
   {
    "duration": 5,
    "start_time": "2022-03-06T10:02:21.414Z"
   },
   {
    "duration": 66,
    "start_time": "2022-03-06T10:02:21.421Z"
   },
   {
    "duration": 5,
    "start_time": "2022-03-06T10:02:21.489Z"
   },
   {
    "duration": 7,
    "start_time": "2022-03-06T10:02:21.497Z"
   },
   {
    "duration": 18,
    "start_time": "2022-03-06T10:02:21.507Z"
   },
   {
    "duration": 76,
    "start_time": "2022-03-06T10:02:21.528Z"
   },
   {
    "duration": 14,
    "start_time": "2022-03-06T10:02:21.608Z"
   },
   {
    "duration": 19,
    "start_time": "2022-03-06T10:02:21.625Z"
   },
   {
    "duration": 102,
    "start_time": "2022-03-06T10:02:21.646Z"
   },
   {
    "duration": 58,
    "start_time": "2022-03-06T10:02:21.751Z"
   },
   {
    "duration": 5,
    "start_time": "2022-03-06T10:02:21.814Z"
   },
   {
    "duration": 11,
    "start_time": "2022-03-06T10:02:21.821Z"
   },
   {
    "duration": 18,
    "start_time": "2022-03-06T10:02:21.834Z"
   },
   {
    "duration": 6,
    "start_time": "2022-03-06T10:02:21.888Z"
   },
   {
    "duration": 18,
    "start_time": "2022-03-06T10:02:21.897Z"
   },
   {
    "duration": 14,
    "start_time": "2022-03-06T10:02:21.918Z"
   },
   {
    "duration": 643,
    "start_time": "2022-03-06T10:02:21.934Z"
   },
   {
    "duration": 1807,
    "start_time": "2022-03-06T10:02:22.587Z"
   },
   {
    "duration": 1445,
    "start_time": "2022-03-06T10:02:24.396Z"
   },
   {
    "duration": 6,
    "start_time": "2022-03-06T10:02:25.843Z"
   },
   {
    "duration": 40,
    "start_time": "2022-03-06T10:02:25.852Z"
   },
   {
    "duration": 435,
    "start_time": "2022-03-06T10:02:25.895Z"
   },
   {
    "duration": 9,
    "start_time": "2022-03-06T10:02:26.332Z"
   },
   {
    "duration": 43,
    "start_time": "2022-03-06T10:02:26.344Z"
   },
   {
    "duration": 609,
    "start_time": "2022-03-06T10:02:26.389Z"
   },
   {
    "duration": 4,
    "start_time": "2022-03-06T10:02:27.000Z"
   },
   {
    "duration": 12,
    "start_time": "2022-03-06T10:02:27.007Z"
   },
   {
    "duration": 240,
    "start_time": "2022-03-06T10:02:27.021Z"
   },
   {
    "duration": 26,
    "start_time": "2022-03-06T10:02:27.263Z"
   },
   {
    "duration": 350,
    "start_time": "2022-03-06T10:02:27.292Z"
   },
   {
    "duration": 811,
    "start_time": "2022-03-06T10:02:27.644Z"
   },
   {
    "duration": 1598,
    "start_time": "2022-03-06T10:03:29.860Z"
   },
   {
    "duration": 42,
    "start_time": "2022-03-06T10:03:31.461Z"
   },
   {
    "duration": 11,
    "start_time": "2022-03-06T10:03:31.507Z"
   },
   {
    "duration": 22,
    "start_time": "2022-03-06T10:03:31.520Z"
   },
   {
    "duration": 5,
    "start_time": "2022-03-06T10:03:31.545Z"
   },
   {
    "duration": 11,
    "start_time": "2022-03-06T10:03:31.587Z"
   },
   {
    "duration": 28,
    "start_time": "2022-03-06T10:03:31.600Z"
   },
   {
    "duration": 61,
    "start_time": "2022-03-06T10:03:31.632Z"
   },
   {
    "duration": 91,
    "start_time": "2022-03-06T10:03:31.697Z"
   },
   {
    "duration": 7,
    "start_time": "2022-03-06T10:03:31.791Z"
   },
   {
    "duration": 59,
    "start_time": "2022-03-06T10:03:31.800Z"
   },
   {
    "duration": 8,
    "start_time": "2022-03-06T10:03:31.861Z"
   },
   {
    "duration": 17,
    "start_time": "2022-03-06T10:03:31.888Z"
   },
   {
    "duration": 8,
    "start_time": "2022-03-06T10:03:31.908Z"
   },
   {
    "duration": 14,
    "start_time": "2022-03-06T10:03:31.919Z"
   },
   {
    "duration": 9,
    "start_time": "2022-03-06T10:03:31.988Z"
   },
   {
    "duration": 9,
    "start_time": "2022-03-06T10:03:31.999Z"
   },
   {
    "duration": 16,
    "start_time": "2022-03-06T10:03:32.010Z"
   },
   {
    "duration": 6,
    "start_time": "2022-03-06T10:03:32.029Z"
   },
   {
    "duration": 53,
    "start_time": "2022-03-06T10:03:32.037Z"
   },
   {
    "duration": 15,
    "start_time": "2022-03-06T10:03:32.092Z"
   },
   {
    "duration": 23,
    "start_time": "2022-03-06T10:03:32.110Z"
   },
   {
    "duration": 58,
    "start_time": "2022-03-06T10:03:32.142Z"
   },
   {
    "duration": 22,
    "start_time": "2022-03-06T10:03:32.204Z"
   },
   {
    "duration": 117,
    "start_time": "2022-03-06T10:03:32.229Z"
   },
   {
    "duration": 59,
    "start_time": "2022-03-06T10:03:32.349Z"
   },
   {
    "duration": 5,
    "start_time": "2022-03-06T10:03:32.411Z"
   },
   {
    "duration": 10,
    "start_time": "2022-03-06T10:03:32.419Z"
   },
   {
    "duration": 18,
    "start_time": "2022-03-06T10:03:32.432Z"
   },
   {
    "duration": 36,
    "start_time": "2022-03-06T10:03:32.452Z"
   },
   {
    "duration": 11,
    "start_time": "2022-03-06T10:03:32.490Z"
   },
   {
    "duration": 16,
    "start_time": "2022-03-06T10:03:32.504Z"
   },
   {
    "duration": 525,
    "start_time": "2022-03-06T10:03:32.523Z"
   },
   {
    "duration": 2905,
    "start_time": "2022-03-06T10:03:33.050Z"
   },
   {
    "duration": 1282,
    "start_time": "2022-03-06T10:03:35.957Z"
   },
   {
    "duration": 6,
    "start_time": "2022-03-06T10:03:37.241Z"
   },
   {
    "duration": 15,
    "start_time": "2022-03-06T10:03:37.249Z"
   },
   {
    "duration": 364,
    "start_time": "2022-03-06T10:03:37.267Z"
   },
   {
    "duration": 9,
    "start_time": "2022-03-06T10:03:37.634Z"
   },
   {
    "duration": 42,
    "start_time": "2022-03-06T10:03:37.645Z"
   },
   {
    "duration": 486,
    "start_time": "2022-03-06T10:03:37.690Z"
   },
   {
    "duration": 10,
    "start_time": "2022-03-06T10:03:38.179Z"
   },
   {
    "duration": 11,
    "start_time": "2022-03-06T10:03:38.191Z"
   },
   {
    "duration": 209,
    "start_time": "2022-03-06T10:03:38.204Z"
   },
   {
    "duration": 10,
    "start_time": "2022-03-06T10:03:38.415Z"
   },
   {
    "duration": 301,
    "start_time": "2022-03-06T10:03:38.427Z"
   },
   {
    "duration": 719,
    "start_time": "2022-03-06T10:03:38.730Z"
   },
   {
    "duration": 1592,
    "start_time": "2022-03-06T10:05:16.960Z"
   },
   {
    "duration": 42,
    "start_time": "2022-03-06T10:05:18.554Z"
   },
   {
    "duration": 15,
    "start_time": "2022-03-06T10:05:18.599Z"
   },
   {
    "duration": 23,
    "start_time": "2022-03-06T10:05:18.618Z"
   },
   {
    "duration": 5,
    "start_time": "2022-03-06T10:05:18.643Z"
   },
   {
    "duration": 50,
    "start_time": "2022-03-06T10:05:18.650Z"
   },
   {
    "duration": 26,
    "start_time": "2022-03-06T10:05:18.703Z"
   },
   {
    "duration": 61,
    "start_time": "2022-03-06T10:05:18.732Z"
   },
   {
    "duration": 95,
    "start_time": "2022-03-06T10:05:18.798Z"
   },
   {
    "duration": 8,
    "start_time": "2022-03-06T10:05:18.896Z"
   },
   {
    "duration": 38,
    "start_time": "2022-03-06T10:05:18.907Z"
   },
   {
    "duration": 8,
    "start_time": "2022-03-06T10:05:18.987Z"
   },
   {
    "duration": 22,
    "start_time": "2022-03-06T10:05:18.998Z"
   },
   {
    "duration": 9,
    "start_time": "2022-03-06T10:05:19.023Z"
   },
   {
    "duration": 13,
    "start_time": "2022-03-06T10:05:19.034Z"
   },
   {
    "duration": 9,
    "start_time": "2022-03-06T10:05:19.087Z"
   },
   {
    "duration": 6,
    "start_time": "2022-03-06T10:05:19.098Z"
   },
   {
    "duration": 16,
    "start_time": "2022-03-06T10:05:19.106Z"
   },
   {
    "duration": 4,
    "start_time": "2022-03-06T10:05:19.124Z"
   },
   {
    "duration": 8,
    "start_time": "2022-03-06T10:05:19.130Z"
   },
   {
    "duration": 12,
    "start_time": "2022-03-06T10:05:19.187Z"
   },
   {
    "duration": 12,
    "start_time": "2022-03-06T10:05:19.202Z"
   },
   {
    "duration": 20,
    "start_time": "2022-03-06T10:05:19.216Z"
   },
   {
    "duration": 122,
    "start_time": "2022-03-06T10:05:19.239Z"
   },
   {
    "duration": 61,
    "start_time": "2022-03-06T10:05:19.364Z"
   },
   {
    "duration": 7,
    "start_time": "2022-03-06T10:05:19.428Z"
   },
   {
    "duration": 6,
    "start_time": "2022-03-06T10:05:19.487Z"
   },
   {
    "duration": 20,
    "start_time": "2022-03-06T10:05:19.497Z"
   },
   {
    "duration": 4,
    "start_time": "2022-03-06T10:05:19.520Z"
   },
   {
    "duration": 12,
    "start_time": "2022-03-06T10:05:19.526Z"
   },
   {
    "duration": 8,
    "start_time": "2022-03-06T10:05:19.541Z"
   },
   {
    "duration": 559,
    "start_time": "2022-03-06T10:05:19.588Z"
   },
   {
    "duration": 8348,
    "start_time": "2022-03-06T10:05:20.150Z"
   },
   {
    "duration": 1437,
    "start_time": "2022-03-06T10:05:28.501Z"
   },
   {
    "duration": 8,
    "start_time": "2022-03-06T10:05:29.941Z"
   },
   {
    "duration": 43,
    "start_time": "2022-03-06T10:05:29.952Z"
   },
   {
    "duration": 383,
    "start_time": "2022-03-06T10:05:29.997Z"
   },
   {
    "duration": 10,
    "start_time": "2022-03-06T10:05:30.382Z"
   },
   {
    "duration": 22,
    "start_time": "2022-03-06T10:05:30.395Z"
   },
   {
    "duration": 552,
    "start_time": "2022-03-06T10:05:30.419Z"
   },
   {
    "duration": 15,
    "start_time": "2022-03-06T10:05:30.973Z"
   },
   {
    "duration": 13,
    "start_time": "2022-03-06T10:05:30.990Z"
   },
   {
    "duration": 202,
    "start_time": "2022-03-06T10:05:31.005Z"
   },
   {
    "duration": 11,
    "start_time": "2022-03-06T10:05:31.209Z"
   },
   {
    "duration": 317,
    "start_time": "2022-03-06T10:05:31.222Z"
   },
   {
    "duration": 749,
    "start_time": "2022-03-06T10:05:31.541Z"
   },
   {
    "duration": 398,
    "start_time": "2022-03-06T10:14:39.660Z"
   },
   {
    "duration": 20,
    "start_time": "2022-03-06T10:14:55.180Z"
   },
   {
    "duration": 276,
    "start_time": "2022-03-06T10:19:22.160Z"
   },
   {
    "duration": 542,
    "start_time": "2022-03-06T10:19:29.508Z"
   },
   {
    "duration": 4,
    "start_time": "2022-03-06T10:22:15.961Z"
   },
   {
    "duration": 29,
    "start_time": "2022-03-06T10:25:35.651Z"
   },
   {
    "duration": 7,
    "start_time": "2022-03-06T10:26:33.820Z"
   },
   {
    "duration": 5,
    "start_time": "2022-03-06T10:31:52.759Z"
   },
   {
    "duration": 261,
    "start_time": "2022-03-06T10:31:53.479Z"
   },
   {
    "duration": 6143,
    "start_time": "2022-03-06T10:33:55.099Z"
   },
   {
    "duration": 743,
    "start_time": "2022-03-06T10:34:16.879Z"
   },
   {
    "duration": 6445,
    "start_time": "2022-03-06T10:34:21.539Z"
   },
   {
    "duration": 1175,
    "start_time": "2022-03-07T08:57:52.629Z"
   },
   {
    "duration": 30,
    "start_time": "2022-03-07T08:57:53.806Z"
   },
   {
    "duration": 12,
    "start_time": "2022-03-07T08:57:53.839Z"
   },
   {
    "duration": 20,
    "start_time": "2022-03-07T08:57:53.854Z"
   },
   {
    "duration": 11,
    "start_time": "2022-03-07T08:57:53.876Z"
   },
   {
    "duration": 19,
    "start_time": "2022-03-07T08:57:53.889Z"
   },
   {
    "duration": 22,
    "start_time": "2022-03-07T08:57:53.909Z"
   },
   {
    "duration": 17,
    "start_time": "2022-03-07T08:57:53.934Z"
   },
   {
    "duration": 72,
    "start_time": "2022-03-07T08:57:53.953Z"
   },
   {
    "duration": 6,
    "start_time": "2022-03-07T08:57:54.027Z"
   },
   {
    "duration": 37,
    "start_time": "2022-03-07T08:57:54.035Z"
   },
   {
    "duration": 6,
    "start_time": "2022-03-07T08:57:54.073Z"
   },
   {
    "duration": 33,
    "start_time": "2022-03-07T08:57:54.080Z"
   },
   {
    "duration": 6,
    "start_time": "2022-03-07T08:57:54.115Z"
   },
   {
    "duration": 12,
    "start_time": "2022-03-07T08:57:54.123Z"
   },
   {
    "duration": 8,
    "start_time": "2022-03-07T08:57:54.136Z"
   },
   {
    "duration": 8,
    "start_time": "2022-03-07T08:57:54.146Z"
   },
   {
    "duration": 24,
    "start_time": "2022-03-07T08:57:54.156Z"
   },
   {
    "duration": 3,
    "start_time": "2022-03-07T08:57:54.201Z"
   },
   {
    "duration": 11,
    "start_time": "2022-03-07T08:57:54.206Z"
   },
   {
    "duration": 21,
    "start_time": "2022-03-07T08:57:54.218Z"
   },
   {
    "duration": 16,
    "start_time": "2022-03-07T08:57:54.241Z"
   },
   {
    "duration": 15,
    "start_time": "2022-03-07T08:57:54.261Z"
   },
   {
    "duration": 66,
    "start_time": "2022-03-07T08:57:54.279Z"
   },
   {
    "duration": 25,
    "start_time": "2022-03-07T08:57:54.347Z"
   },
   {
    "duration": 4,
    "start_time": "2022-03-07T08:57:54.374Z"
   },
   {
    "duration": 23,
    "start_time": "2022-03-07T08:57:54.380Z"
   },
   {
    "duration": 19,
    "start_time": "2022-03-07T08:57:54.405Z"
   },
   {
    "duration": 9,
    "start_time": "2022-03-07T08:57:54.425Z"
   },
   {
    "duration": 14,
    "start_time": "2022-03-07T08:57:54.436Z"
   },
   {
    "duration": 409,
    "start_time": "2022-03-07T08:57:54.452Z"
   },
   {
    "duration": 6491,
    "start_time": "2022-03-07T08:57:54.863Z"
   },
   {
    "duration": 1320,
    "start_time": "2022-03-07T08:58:01.356Z"
   },
   {
    "duration": 5,
    "start_time": "2022-03-07T08:58:02.678Z"
   },
   {
    "duration": 32,
    "start_time": "2022-03-07T08:58:02.685Z"
   },
   {
    "duration": 316,
    "start_time": "2022-03-07T08:58:02.719Z"
   },
   {
    "duration": 8,
    "start_time": "2022-03-07T08:58:03.037Z"
   },
   {
    "duration": 27,
    "start_time": "2022-03-07T08:58:03.047Z"
   },
   {
    "duration": 404,
    "start_time": "2022-03-07T08:58:03.077Z"
   },
   {
    "duration": 5,
    "start_time": "2022-03-07T08:58:03.483Z"
   },
   {
    "duration": 68,
    "start_time": "2022-03-07T08:58:03.489Z"
   },
   {
    "duration": 147,
    "start_time": "2022-03-07T08:58:03.559Z"
   },
   {
    "duration": 10,
    "start_time": "2022-03-07T08:58:03.708Z"
   },
   {
    "duration": 236,
    "start_time": "2022-03-07T08:58:03.720Z"
   },
   {
    "duration": 67,
    "start_time": "2022-03-07T08:58:03.958Z"
   },
   {
    "duration": -1459,
    "start_time": "2022-03-07T08:58:05.486Z"
   },
   {
    "duration": -1464,
    "start_time": "2022-03-07T08:58:05.492Z"
   },
   {
    "duration": -1468,
    "start_time": "2022-03-07T08:58:05.498Z"
   },
   {
    "duration": -1472,
    "start_time": "2022-03-07T08:58:05.503Z"
   },
   {
    "duration": 4,
    "start_time": "2022-03-07T08:58:09.594Z"
   },
   {
    "duration": 57,
    "start_time": "2022-03-07T08:58:11.285Z"
   },
   {
    "duration": 3082,
    "start_time": "2022-03-07T08:58:17.154Z"
   },
   {
    "duration": 49725,
    "start_time": "2022-03-07T09:00:15.816Z"
   },
   {
    "duration": 547,
    "start_time": "2022-03-07T09:04:25.273Z"
   },
   {
    "duration": 176,
    "start_time": "2022-03-07T09:07:24.567Z"
   },
   {
    "duration": 789,
    "start_time": "2022-03-07T09:07:45.387Z"
   },
   {
    "duration": 528192,
    "start_time": "2022-03-07T09:08:07.304Z"
   },
   {
    "duration": 1451,
    "start_time": "2022-03-07T09:19:02.028Z"
   },
   {
    "duration": 743,
    "start_time": "2022-03-07T09:19:24.496Z"
   },
   {
    "duration": 616,
    "start_time": "2022-03-07T09:32:46.564Z"
   },
   {
    "duration": 668,
    "start_time": "2022-03-07T09:33:16.928Z"
   },
   {
    "duration": 710,
    "start_time": "2022-03-07T09:34:09.506Z"
   },
   {
    "duration": 764,
    "start_time": "2022-03-07T09:34:28.794Z"
   },
   {
    "duration": 629,
    "start_time": "2022-03-07T09:37:20.068Z"
   },
   {
    "duration": 701,
    "start_time": "2022-03-07T09:37:28.227Z"
   },
   {
    "duration": 669,
    "start_time": "2022-03-07T09:40:09.567Z"
   },
   {
    "duration": 1238,
    "start_time": "2022-03-07T09:40:14.665Z"
   },
   {
    "duration": 35,
    "start_time": "2022-03-07T09:40:15.906Z"
   },
   {
    "duration": 9,
    "start_time": "2022-03-07T09:40:15.944Z"
   },
   {
    "duration": 16,
    "start_time": "2022-03-07T09:40:15.955Z"
   },
   {
    "duration": 11,
    "start_time": "2022-03-07T09:40:15.973Z"
   },
   {
    "duration": 22,
    "start_time": "2022-03-07T09:40:15.986Z"
   },
   {
    "duration": 17,
    "start_time": "2022-03-07T09:40:16.010Z"
   },
   {
    "duration": 18,
    "start_time": "2022-03-07T09:40:16.029Z"
   },
   {
    "duration": 82,
    "start_time": "2022-03-07T09:40:16.051Z"
   },
   {
    "duration": 5,
    "start_time": "2022-03-07T09:40:16.135Z"
   },
   {
    "duration": 33,
    "start_time": "2022-03-07T09:40:16.142Z"
   },
   {
    "duration": 26,
    "start_time": "2022-03-07T09:40:16.177Z"
   },
   {
    "duration": 18,
    "start_time": "2022-03-07T09:40:16.205Z"
   },
   {
    "duration": 10,
    "start_time": "2022-03-07T09:40:16.225Z"
   },
   {
    "duration": 13,
    "start_time": "2022-03-07T09:40:16.238Z"
   },
   {
    "duration": 14,
    "start_time": "2022-03-07T09:40:16.253Z"
   },
   {
    "duration": 3,
    "start_time": "2022-03-07T09:40:16.269Z"
   },
   {
    "duration": 37,
    "start_time": "2022-03-07T09:40:16.274Z"
   },
   {
    "duration": 3,
    "start_time": "2022-03-07T09:40:16.313Z"
   },
   {
    "duration": 10,
    "start_time": "2022-03-07T09:40:16.318Z"
   },
   {
    "duration": 17,
    "start_time": "2022-03-07T09:40:16.330Z"
   },
   {
    "duration": 22,
    "start_time": "2022-03-07T09:40:16.349Z"
   },
   {
    "duration": 32,
    "start_time": "2022-03-07T09:40:16.373Z"
   },
   {
    "duration": 62,
    "start_time": "2022-03-07T09:40:16.407Z"
   },
   {
    "duration": 39,
    "start_time": "2022-03-07T09:40:16.471Z"
   },
   {
    "duration": 5,
    "start_time": "2022-03-07T09:40:16.512Z"
   },
   {
    "duration": 5,
    "start_time": "2022-03-07T09:40:16.520Z"
   },
   {
    "duration": 13,
    "start_time": "2022-03-07T09:40:16.527Z"
   },
   {
    "duration": 15,
    "start_time": "2022-03-07T09:40:16.542Z"
   },
   {
    "duration": 9,
    "start_time": "2022-03-07T09:40:16.559Z"
   },
   {
    "duration": 420,
    "start_time": "2022-03-07T09:40:16.570Z"
   },
   {
    "duration": 6347,
    "start_time": "2022-03-07T09:40:16.992Z"
   },
   {
    "duration": 1332,
    "start_time": "2022-03-07T09:40:23.341Z"
   },
   {
    "duration": 5,
    "start_time": "2022-03-07T09:40:24.674Z"
   },
   {
    "duration": 21,
    "start_time": "2022-03-07T09:40:24.681Z"
   },
   {
    "duration": 284,
    "start_time": "2022-03-07T09:40:24.704Z"
   },
   {
    "duration": 14,
    "start_time": "2022-03-07T09:40:24.990Z"
   },
   {
    "duration": 13,
    "start_time": "2022-03-07T09:40:25.006Z"
   },
   {
    "duration": 485,
    "start_time": "2022-03-07T09:40:25.021Z"
   },
   {
    "duration": 5,
    "start_time": "2022-03-07T09:40:25.508Z"
   },
   {
    "duration": 12,
    "start_time": "2022-03-07T09:40:25.515Z"
   },
   {
    "duration": 153,
    "start_time": "2022-03-07T09:40:25.529Z"
   },
   {
    "duration": 18,
    "start_time": "2022-03-07T09:40:25.684Z"
   },
   {
    "duration": 224,
    "start_time": "2022-03-07T09:40:25.704Z"
   },
   {
    "duration": 60,
    "start_time": "2022-03-07T09:40:25.931Z"
   },
   {
    "duration": -1503,
    "start_time": "2022-03-07T09:40:27.497Z"
   },
   {
    "duration": -1509,
    "start_time": "2022-03-07T09:40:27.504Z"
   },
   {
    "duration": -1513,
    "start_time": "2022-03-07T09:40:27.510Z"
   },
   {
    "duration": -1518,
    "start_time": "2022-03-07T09:40:27.516Z"
   },
   {
    "duration": 4,
    "start_time": "2022-03-07T09:40:37.112Z"
   },
   {
    "duration": 927,
    "start_time": "2022-03-07T09:40:39.445Z"
   },
   {
    "duration": 14,
    "start_time": "2022-03-07T09:41:00.576Z"
   },
   {
    "duration": 10,
    "start_time": "2022-03-07T09:41:10.224Z"
   },
   {
    "duration": 830,
    "start_time": "2022-03-07T09:42:35.834Z"
   },
   {
    "duration": 4259,
    "start_time": "2022-03-07T09:43:23.497Z"
   },
   {
    "duration": 3,
    "start_time": "2022-03-07T09:49:40.425Z"
   },
   {
    "duration": 5,
    "start_time": "2022-03-07T09:49:47.954Z"
   },
   {
    "duration": 3,
    "start_time": "2022-03-07T09:50:02.157Z"
   },
   {
    "duration": 6,
    "start_time": "2022-03-07T09:54:48.691Z"
   },
   {
    "duration": 4285,
    "start_time": "2022-03-07T09:55:41.488Z"
   },
   {
    "duration": 4275,
    "start_time": "2022-03-07T09:55:48.724Z"
   },
   {
    "duration": 4195,
    "start_time": "2022-03-07T09:56:22.696Z"
   },
   {
    "duration": 5,
    "start_time": "2022-03-07T09:58:34.765Z"
   },
   {
    "duration": 186,
    "start_time": "2022-03-07T10:00:23.275Z"
   },
   {
    "duration": 4480,
    "start_time": "2022-03-07T10:00:35.524Z"
   },
   {
    "duration": 4269,
    "start_time": "2022-03-07T10:01:17.004Z"
   },
   {
    "duration": 78,
    "start_time": "2022-03-07T10:04:46.172Z"
   },
   {
    "duration": 186,
    "start_time": "2022-03-07T10:04:56.328Z"
   },
   {
    "duration": 4462,
    "start_time": "2022-03-07T10:05:21.946Z"
   },
   {
    "duration": 4517,
    "start_time": "2022-03-07T10:11:59.139Z"
   },
   {
    "duration": 231,
    "start_time": "2022-03-07T10:13:31.958Z"
   },
   {
    "duration": 176,
    "start_time": "2022-03-07T10:13:45.113Z"
   },
   {
    "duration": 244,
    "start_time": "2022-03-07T10:13:53.885Z"
   },
   {
    "duration": 511,
    "start_time": "2022-03-07T10:14:24.192Z"
   },
   {
    "duration": 493,
    "start_time": "2022-03-07T10:14:48.726Z"
   },
   {
    "duration": 4346,
    "start_time": "2022-03-07T10:14:59.254Z"
   },
   {
    "duration": 4388,
    "start_time": "2022-03-07T10:15:16.875Z"
   },
   {
    "duration": 3431,
    "start_time": "2022-03-07T10:15:46.484Z"
   },
   {
    "duration": 3289,
    "start_time": "2022-03-07T10:15:51.826Z"
   },
   {
    "duration": 4099,
    "start_time": "2022-03-07T10:17:55.925Z"
   },
   {
    "duration": 1342,
    "start_time": "2022-03-07T10:24:16.888Z"
   },
   {
    "duration": 49,
    "start_time": "2022-03-07T10:24:18.232Z"
   },
   {
    "duration": 18,
    "start_time": "2022-03-07T10:24:18.285Z"
   },
   {
    "duration": 17,
    "start_time": "2022-03-07T10:24:18.306Z"
   },
   {
    "duration": 6,
    "start_time": "2022-03-07T10:24:18.325Z"
   },
   {
    "duration": 14,
    "start_time": "2022-03-07T10:24:18.333Z"
   },
   {
    "duration": 54,
    "start_time": "2022-03-07T10:24:18.349Z"
   },
   {
    "duration": 15,
    "start_time": "2022-03-07T10:24:18.405Z"
   },
   {
    "duration": 86,
    "start_time": "2022-03-07T10:24:18.424Z"
   },
   {
    "duration": 5,
    "start_time": "2022-03-07T10:24:18.513Z"
   },
   {
    "duration": 31,
    "start_time": "2022-03-07T10:24:18.520Z"
   },
   {
    "duration": 7,
    "start_time": "2022-03-07T10:24:18.552Z"
   },
   {
    "duration": 47,
    "start_time": "2022-03-07T10:24:18.561Z"
   },
   {
    "duration": 8,
    "start_time": "2022-03-07T10:24:18.610Z"
   },
   {
    "duration": 11,
    "start_time": "2022-03-07T10:24:18.620Z"
   },
   {
    "duration": 8,
    "start_time": "2022-03-07T10:24:18.633Z"
   },
   {
    "duration": 7,
    "start_time": "2022-03-07T10:24:18.643Z"
   },
   {
    "duration": 16,
    "start_time": "2022-03-07T10:24:18.652Z"
   },
   {
    "duration": 4,
    "start_time": "2022-03-07T10:24:18.702Z"
   },
   {
    "duration": 9,
    "start_time": "2022-03-07T10:24:18.708Z"
   },
   {
    "duration": 16,
    "start_time": "2022-03-07T10:24:18.719Z"
   },
   {
    "duration": 13,
    "start_time": "2022-03-07T10:24:18.737Z"
   },
   {
    "duration": 22,
    "start_time": "2022-03-07T10:24:18.752Z"
   },
   {
    "duration": 78,
    "start_time": "2022-03-07T10:24:18.776Z"
   },
   {
    "duration": 47,
    "start_time": "2022-03-07T10:24:18.856Z"
   },
   {
    "duration": 5,
    "start_time": "2022-03-07T10:24:18.905Z"
   },
   {
    "duration": 5,
    "start_time": "2022-03-07T10:24:18.914Z"
   },
   {
    "duration": 11,
    "start_time": "2022-03-07T10:24:18.921Z"
   },
   {
    "duration": 4,
    "start_time": "2022-03-07T10:24:18.935Z"
   },
   {
    "duration": 10,
    "start_time": "2022-03-07T10:24:18.941Z"
   },
   {
    "duration": 461,
    "start_time": "2022-03-07T10:24:18.953Z"
   },
   {
    "duration": 6543,
    "start_time": "2022-03-07T10:24:19.416Z"
   },
   {
    "duration": 1307,
    "start_time": "2022-03-07T10:24:25.962Z"
   },
   {
    "duration": 5,
    "start_time": "2022-03-07T10:24:27.271Z"
   },
   {
    "duration": 23,
    "start_time": "2022-03-07T10:24:27.278Z"
   },
   {
    "duration": 291,
    "start_time": "2022-03-07T10:24:27.303Z"
   },
   {
    "duration": 8,
    "start_time": "2022-03-07T10:24:27.600Z"
   },
   {
    "duration": 14,
    "start_time": "2022-03-07T10:24:27.611Z"
   },
   {
    "duration": 423,
    "start_time": "2022-03-07T10:24:27.627Z"
   },
   {
    "duration": 5,
    "start_time": "2022-03-07T10:24:28.053Z"
   },
   {
    "duration": 19,
    "start_time": "2022-03-07T10:24:28.060Z"
   },
   {
    "duration": 158,
    "start_time": "2022-03-07T10:24:28.081Z"
   },
   {
    "duration": 10,
    "start_time": "2022-03-07T10:24:28.241Z"
   },
   {
    "duration": 261,
    "start_time": "2022-03-07T10:24:28.253Z"
   },
   {
    "duration": 56,
    "start_time": "2022-03-07T10:24:28.515Z"
   },
   {
    "duration": -1523,
    "start_time": "2022-03-07T10:24:30.096Z"
   },
   {
    "duration": -1529,
    "start_time": "2022-03-07T10:24:30.103Z"
   },
   {
    "duration": -1533,
    "start_time": "2022-03-07T10:24:30.108Z"
   },
   {
    "duration": -1538,
    "start_time": "2022-03-07T10:24:30.114Z"
   },
   {
    "duration": -1543,
    "start_time": "2022-03-07T10:24:30.120Z"
   },
   {
    "duration": -1548,
    "start_time": "2022-03-07T10:24:30.126Z"
   },
   {
    "duration": 5,
    "start_time": "2022-03-07T10:24:32.042Z"
   },
   {
    "duration": 11,
    "start_time": "2022-03-07T10:24:35.942Z"
   },
   {
    "duration": 278,
    "start_time": "2022-03-07T10:24:36.870Z"
   },
   {
    "duration": 217,
    "start_time": "2022-03-07T10:25:11.812Z"
   },
   {
    "duration": 2999,
    "start_time": "2022-03-07T10:25:37.353Z"
   },
   {
    "duration": 24122,
    "start_time": "2022-03-07T10:26:16.731Z"
   },
   {
    "duration": 23490,
    "start_time": "2022-03-07T10:29:26.150Z"
   },
   {
    "duration": 538,
    "start_time": "2022-03-07T10:36:36.273Z"
   },
   {
    "duration": 594,
    "start_time": "2022-03-07T10:39:18.233Z"
   },
   {
    "duration": 233,
    "start_time": "2022-03-07T10:40:08.638Z"
   },
   {
    "duration": 716,
    "start_time": "2022-03-07T10:41:21.397Z"
   },
   {
    "duration": 761,
    "start_time": "2022-03-07T10:42:45.788Z"
   },
   {
    "duration": 168,
    "start_time": "2022-03-07T10:42:49.455Z"
   },
   {
    "duration": 169,
    "start_time": "2022-03-07T10:43:12.448Z"
   },
   {
    "duration": 23173,
    "start_time": "2022-03-07T10:43:25.648Z"
   },
   {
    "duration": 6,
    "start_time": "2022-03-07T10:43:57.647Z"
   },
   {
    "duration": 628,
    "start_time": "2022-03-07T10:44:00.068Z"
   },
   {
    "duration": 518,
    "start_time": "2022-03-07T10:45:53.508Z"
   },
   {
    "duration": 696,
    "start_time": "2022-03-07T10:46:40.409Z"
   },
   {
    "duration": 5,
    "start_time": "2022-03-07T10:47:01.208Z"
   },
   {
    "duration": 206,
    "start_time": "2022-03-07T10:47:02.389Z"
   },
   {
    "duration": 535,
    "start_time": "2022-03-07T10:47:19.328Z"
   },
   {
    "duration": 5,
    "start_time": "2022-03-07T10:48:22.248Z"
   },
   {
    "duration": 622,
    "start_time": "2022-03-07T10:48:22.889Z"
   },
   {
    "duration": 1178,
    "start_time": "2022-03-07T10:51:19.917Z"
   },
   {
    "duration": 30,
    "start_time": "2022-03-07T10:51:21.098Z"
   },
   {
    "duration": 10,
    "start_time": "2022-03-07T10:51:21.130Z"
   },
   {
    "duration": 11,
    "start_time": "2022-03-07T10:51:21.142Z"
   },
   {
    "duration": 7,
    "start_time": "2022-03-07T10:51:21.155Z"
   },
   {
    "duration": 12,
    "start_time": "2022-03-07T10:51:21.164Z"
   },
   {
    "duration": 16,
    "start_time": "2022-03-07T10:51:21.202Z"
   },
   {
    "duration": 22,
    "start_time": "2022-03-07T10:51:21.221Z"
   },
   {
    "duration": 74,
    "start_time": "2022-03-07T10:51:21.246Z"
   },
   {
    "duration": 5,
    "start_time": "2022-03-07T10:51:21.322Z"
   },
   {
    "duration": 35,
    "start_time": "2022-03-07T10:51:21.329Z"
   },
   {
    "duration": 19,
    "start_time": "2022-03-07T10:51:21.366Z"
   },
   {
    "duration": 14,
    "start_time": "2022-03-07T10:51:21.387Z"
   },
   {
    "duration": 18,
    "start_time": "2022-03-07T10:51:21.403Z"
   },
   {
    "duration": 11,
    "start_time": "2022-03-07T10:51:21.423Z"
   },
   {
    "duration": 13,
    "start_time": "2022-03-07T10:51:21.436Z"
   },
   {
    "duration": 14,
    "start_time": "2022-03-07T10:51:21.451Z"
   },
   {
    "duration": 20,
    "start_time": "2022-03-07T10:51:21.467Z"
   },
   {
    "duration": 8,
    "start_time": "2022-03-07T10:51:21.489Z"
   },
   {
    "duration": 279,
    "start_time": "2022-03-07T10:51:21.499Z"
   },
   {
    "duration": -1847,
    "start_time": "2022-03-07T10:51:23.628Z"
   },
   {
    "duration": -1852,
    "start_time": "2022-03-07T10:51:23.634Z"
   },
   {
    "duration": -1855,
    "start_time": "2022-03-07T10:51:23.638Z"
   },
   {
    "duration": -1860,
    "start_time": "2022-03-07T10:51:23.644Z"
   },
   {
    "duration": -1877,
    "start_time": "2022-03-07T10:51:23.662Z"
   },
   {
    "duration": -1881,
    "start_time": "2022-03-07T10:51:23.667Z"
   },
   {
    "duration": -1886,
    "start_time": "2022-03-07T10:51:23.673Z"
   },
   {
    "duration": -1890,
    "start_time": "2022-03-07T10:51:23.678Z"
   },
   {
    "duration": -1893,
    "start_time": "2022-03-07T10:51:23.682Z"
   },
   {
    "duration": -1898,
    "start_time": "2022-03-07T10:51:23.688Z"
   },
   {
    "duration": -1902,
    "start_time": "2022-03-07T10:51:23.693Z"
   },
   {
    "duration": -1906,
    "start_time": "2022-03-07T10:51:23.698Z"
   },
   {
    "duration": -1910,
    "start_time": "2022-03-07T10:51:23.703Z"
   },
   {
    "duration": -1914,
    "start_time": "2022-03-07T10:51:23.708Z"
   },
   {
    "duration": -1918,
    "start_time": "2022-03-07T10:51:23.713Z"
   },
   {
    "duration": -1923,
    "start_time": "2022-03-07T10:51:23.719Z"
   },
   {
    "duration": -1928,
    "start_time": "2022-03-07T10:51:23.725Z"
   },
   {
    "duration": -1933,
    "start_time": "2022-03-07T10:51:23.731Z"
   },
   {
    "duration": -1936,
    "start_time": "2022-03-07T10:51:23.736Z"
   },
   {
    "duration": -1940,
    "start_time": "2022-03-07T10:51:23.741Z"
   },
   {
    "duration": -1944,
    "start_time": "2022-03-07T10:51:23.746Z"
   },
   {
    "duration": -1948,
    "start_time": "2022-03-07T10:51:23.751Z"
   },
   {
    "duration": -1952,
    "start_time": "2022-03-07T10:51:23.756Z"
   },
   {
    "duration": -1969,
    "start_time": "2022-03-07T10:51:23.774Z"
   },
   {
    "duration": -1972,
    "start_time": "2022-03-07T10:51:23.778Z"
   },
   {
    "duration": -1976,
    "start_time": "2022-03-07T10:51:23.783Z"
   },
   {
    "duration": -1980,
    "start_time": "2022-03-07T10:51:23.788Z"
   },
   {
    "duration": 1204,
    "start_time": "2022-03-07T10:52:14.109Z"
   },
   {
    "duration": 31,
    "start_time": "2022-03-07T10:52:15.315Z"
   },
   {
    "duration": 8,
    "start_time": "2022-03-07T10:52:15.349Z"
   },
   {
    "duration": 22,
    "start_time": "2022-03-07T10:52:15.359Z"
   },
   {
    "duration": 20,
    "start_time": "2022-03-07T10:52:15.383Z"
   },
   {
    "duration": 19,
    "start_time": "2022-03-07T10:52:15.405Z"
   },
   {
    "duration": 19,
    "start_time": "2022-03-07T10:52:15.425Z"
   },
   {
    "duration": 16,
    "start_time": "2022-03-07T10:52:15.447Z"
   },
   {
    "duration": 68,
    "start_time": "2022-03-07T10:52:15.465Z"
   },
   {
    "duration": 5,
    "start_time": "2022-03-07T10:52:15.535Z"
   },
   {
    "duration": 35,
    "start_time": "2022-03-07T10:52:15.542Z"
   },
   {
    "duration": 26,
    "start_time": "2022-03-07T10:52:15.578Z"
   },
   {
    "duration": 8,
    "start_time": "2022-03-07T10:52:15.606Z"
   },
   {
    "duration": 24,
    "start_time": "2022-03-07T10:52:15.616Z"
   },
   {
    "duration": 13,
    "start_time": "2022-03-07T10:52:15.642Z"
   },
   {
    "duration": 7,
    "start_time": "2022-03-07T10:52:15.657Z"
   },
   {
    "duration": 9,
    "start_time": "2022-03-07T10:52:15.665Z"
   },
   {
    "duration": 15,
    "start_time": "2022-03-07T10:52:15.676Z"
   },
   {
    "duration": 3,
    "start_time": "2022-03-07T10:52:15.702Z"
   },
   {
    "duration": 11,
    "start_time": "2022-03-07T10:52:15.706Z"
   },
   {
    "duration": 16,
    "start_time": "2022-03-07T10:52:15.719Z"
   },
   {
    "duration": 16,
    "start_time": "2022-03-07T10:52:15.737Z"
   },
   {
    "duration": 72,
    "start_time": "2022-03-07T10:52:15.757Z"
   },
   {
    "duration": 28,
    "start_time": "2022-03-07T10:52:15.831Z"
   },
   {
    "duration": 5,
    "start_time": "2022-03-07T10:52:15.861Z"
   },
   {
    "duration": 6,
    "start_time": "2022-03-07T10:52:15.868Z"
   },
   {
    "duration": 8,
    "start_time": "2022-03-07T10:52:15.901Z"
   },
   {
    "duration": 10,
    "start_time": "2022-03-07T10:52:15.911Z"
   },
   {
    "duration": 10,
    "start_time": "2022-03-07T10:52:15.923Z"
   },
   {
    "duration": 411,
    "start_time": "2022-03-07T10:52:15.935Z"
   },
   {
    "duration": 590,
    "start_time": "2022-03-07T10:52:16.348Z"
   },
   {
    "duration": 1352,
    "start_time": "2022-03-07T10:52:16.940Z"
   },
   {
    "duration": 5,
    "start_time": "2022-03-07T10:52:18.302Z"
   },
   {
    "duration": 21,
    "start_time": "2022-03-07T10:52:18.309Z"
   },
   {
    "duration": 303,
    "start_time": "2022-03-07T10:52:18.331Z"
   },
   {
    "duration": 10,
    "start_time": "2022-03-07T10:52:18.636Z"
   },
   {
    "duration": 17,
    "start_time": "2022-03-07T10:52:18.648Z"
   },
   {
    "duration": 444,
    "start_time": "2022-03-07T10:52:18.667Z"
   },
   {
    "duration": 5,
    "start_time": "2022-03-07T10:52:19.114Z"
   },
   {
    "duration": 11,
    "start_time": "2022-03-07T10:52:19.121Z"
   },
   {
    "duration": 179,
    "start_time": "2022-03-07T10:52:19.134Z"
   },
   {
    "duration": 12,
    "start_time": "2022-03-07T10:52:19.316Z"
   },
   {
    "duration": 266,
    "start_time": "2022-03-07T10:52:19.330Z"
   },
   {
    "duration": 3,
    "start_time": "2022-03-07T10:52:19.602Z"
   },
   {
    "duration": 20639,
    "start_time": "2022-03-07T10:52:19.607Z"
   },
   {
    "duration": 5,
    "start_time": "2022-03-07T10:52:40.248Z"
   },
   {
    "duration": 615,
    "start_time": "2022-03-07T10:52:40.255Z"
   },
   {
    "duration": 1173,
    "start_time": "2022-03-07T10:53:45.829Z"
   },
   {
    "duration": 36,
    "start_time": "2022-03-07T10:53:47.004Z"
   },
   {
    "duration": 9,
    "start_time": "2022-03-07T10:53:47.042Z"
   },
   {
    "duration": 12,
    "start_time": "2022-03-07T10:53:47.053Z"
   },
   {
    "duration": 4,
    "start_time": "2022-03-07T10:53:47.067Z"
   },
   {
    "duration": 29,
    "start_time": "2022-03-07T10:53:47.073Z"
   },
   {
    "duration": 16,
    "start_time": "2022-03-07T10:53:47.104Z"
   },
   {
    "duration": 19,
    "start_time": "2022-03-07T10:53:47.123Z"
   },
   {
    "duration": 75,
    "start_time": "2022-03-07T10:53:47.145Z"
   },
   {
    "duration": 5,
    "start_time": "2022-03-07T10:53:47.222Z"
   },
   {
    "duration": 30,
    "start_time": "2022-03-07T10:53:47.228Z"
   },
   {
    "duration": 6,
    "start_time": "2022-03-07T10:53:47.259Z"
   },
   {
    "duration": 41,
    "start_time": "2022-03-07T10:53:47.267Z"
   },
   {
    "duration": 7,
    "start_time": "2022-03-07T10:53:47.310Z"
   },
   {
    "duration": 12,
    "start_time": "2022-03-07T10:53:47.318Z"
   },
   {
    "duration": 7,
    "start_time": "2022-03-07T10:53:47.332Z"
   },
   {
    "duration": 15,
    "start_time": "2022-03-07T10:53:47.341Z"
   },
   {
    "duration": 12,
    "start_time": "2022-03-07T10:53:47.358Z"
   },
   {
    "duration": 3,
    "start_time": "2022-03-07T10:53:47.371Z"
   },
   {
    "duration": 29,
    "start_time": "2022-03-07T10:53:47.376Z"
   },
   {
    "duration": 18,
    "start_time": "2022-03-07T10:53:47.407Z"
   },
   {
    "duration": 17,
    "start_time": "2022-03-07T10:53:47.427Z"
   },
   {
    "duration": 82,
    "start_time": "2022-03-07T10:53:47.449Z"
   },
   {
    "duration": 27,
    "start_time": "2022-03-07T10:53:47.534Z"
   },
   {
    "duration": 5,
    "start_time": "2022-03-07T10:53:47.564Z"
   },
   {
    "duration": 30,
    "start_time": "2022-03-07T10:53:47.571Z"
   },
   {
    "duration": 14,
    "start_time": "2022-03-07T10:53:47.603Z"
   },
   {
    "duration": 3,
    "start_time": "2022-03-07T10:53:47.619Z"
   },
   {
    "duration": 9,
    "start_time": "2022-03-07T10:53:47.624Z"
   },
   {
    "duration": 415,
    "start_time": "2022-03-07T10:53:47.634Z"
   },
   {
    "duration": 3111,
    "start_time": "2022-03-07T10:53:48.051Z"
   },
   {
    "duration": 1399,
    "start_time": "2022-03-07T10:53:51.164Z"
   },
   {
    "duration": 4,
    "start_time": "2022-03-07T10:53:52.565Z"
   },
   {
    "duration": 13,
    "start_time": "2022-03-07T10:53:52.571Z"
   },
   {
    "duration": 287,
    "start_time": "2022-03-07T10:53:52.586Z"
   },
   {
    "duration": 8,
    "start_time": "2022-03-07T10:53:52.875Z"
   },
   {
    "duration": 25,
    "start_time": "2022-03-07T10:53:52.885Z"
   },
   {
    "duration": 387,
    "start_time": "2022-03-07T10:53:52.912Z"
   },
   {
    "duration": 5,
    "start_time": "2022-03-07T10:53:53.301Z"
   },
   {
    "duration": 21,
    "start_time": "2022-03-07T10:53:53.307Z"
   },
   {
    "duration": 149,
    "start_time": "2022-03-07T10:53:53.330Z"
   },
   {
    "duration": 8,
    "start_time": "2022-03-07T10:53:53.481Z"
   },
   {
    "duration": 231,
    "start_time": "2022-03-07T10:53:53.491Z"
   },
   {
    "duration": 5,
    "start_time": "2022-03-07T10:53:53.724Z"
   },
   {
    "duration": 18932,
    "start_time": "2022-03-07T10:53:53.731Z"
   },
   {
    "duration": 4,
    "start_time": "2022-03-07T10:54:12.665Z"
   },
   {
    "duration": 591,
    "start_time": "2022-03-07T10:54:12.670Z"
   },
   {
    "duration": 1283,
    "start_time": "2022-03-07T11:01:57.456Z"
   },
   {
    "duration": 31,
    "start_time": "2022-03-07T11:01:58.742Z"
   },
   {
    "duration": 9,
    "start_time": "2022-03-07T11:01:58.776Z"
   },
   {
    "duration": 25,
    "start_time": "2022-03-07T11:01:58.787Z"
   },
   {
    "duration": 4,
    "start_time": "2022-03-07T11:01:58.814Z"
   },
   {
    "duration": 9,
    "start_time": "2022-03-07T11:01:58.820Z"
   },
   {
    "duration": 16,
    "start_time": "2022-03-07T11:01:58.831Z"
   },
   {
    "duration": 14,
    "start_time": "2022-03-07T11:01:58.850Z"
   },
   {
    "duration": 87,
    "start_time": "2022-03-07T11:01:58.866Z"
   },
   {
    "duration": 6,
    "start_time": "2022-03-07T11:01:58.956Z"
   },
   {
    "duration": 60,
    "start_time": "2022-03-07T11:01:58.964Z"
   },
   {
    "duration": 7,
    "start_time": "2022-03-07T11:01:59.026Z"
   },
   {
    "duration": 19,
    "start_time": "2022-03-07T11:01:59.035Z"
   },
   {
    "duration": 9,
    "start_time": "2022-03-07T11:01:59.057Z"
   },
   {
    "duration": 42,
    "start_time": "2022-03-07T11:01:59.068Z"
   },
   {
    "duration": 10,
    "start_time": "2022-03-07T11:01:59.112Z"
   },
   {
    "duration": 5,
    "start_time": "2022-03-07T11:01:59.125Z"
   },
   {
    "duration": 14,
    "start_time": "2022-03-07T11:01:59.132Z"
   },
   {
    "duration": 3,
    "start_time": "2022-03-07T11:01:59.149Z"
   },
   {
    "duration": 47,
    "start_time": "2022-03-07T11:01:59.155Z"
   },
   {
    "duration": 13,
    "start_time": "2022-03-07T11:01:59.204Z"
   },
   {
    "duration": 14,
    "start_time": "2022-03-07T11:01:59.219Z"
   },
   {
    "duration": 79,
    "start_time": "2022-03-07T11:01:59.235Z"
   },
   {
    "duration": 26,
    "start_time": "2022-03-07T11:01:59.316Z"
   },
   {
    "duration": 4,
    "start_time": "2022-03-07T11:01:59.344Z"
   },
   {
    "duration": 11,
    "start_time": "2022-03-07T11:01:59.350Z"
   },
   {
    "duration": 22,
    "start_time": "2022-03-07T11:01:59.363Z"
   },
   {
    "duration": 14,
    "start_time": "2022-03-07T11:01:59.387Z"
   },
   {
    "duration": 12,
    "start_time": "2022-03-07T11:01:59.404Z"
   },
   {
    "duration": 402,
    "start_time": "2022-03-07T11:02:00.003Z"
   },
   {
    "duration": 3351,
    "start_time": "2022-03-07T11:02:00.407Z"
   },
   {
    "duration": 1402,
    "start_time": "2022-03-07T11:02:03.761Z"
   },
   {
    "duration": 6,
    "start_time": "2022-03-07T11:02:05.165Z"
   },
   {
    "duration": 22,
    "start_time": "2022-03-07T11:02:05.172Z"
   },
   {
    "duration": 284,
    "start_time": "2022-03-07T11:02:05.196Z"
   },
   {
    "duration": 19,
    "start_time": "2022-03-07T11:02:05.482Z"
   },
   {
    "duration": 12,
    "start_time": "2022-03-07T11:02:05.503Z"
   },
   {
    "duration": 407,
    "start_time": "2022-03-07T11:02:05.518Z"
   },
   {
    "duration": 5,
    "start_time": "2022-03-07T11:02:05.927Z"
   },
   {
    "duration": 16,
    "start_time": "2022-03-07T11:02:05.933Z"
   },
   {
    "duration": 157,
    "start_time": "2022-03-07T11:02:05.951Z"
   },
   {
    "duration": 9,
    "start_time": "2022-03-07T11:02:06.110Z"
   },
   {
    "duration": 268,
    "start_time": "2022-03-07T11:02:06.121Z"
   },
   {
    "duration": 11,
    "start_time": "2022-03-07T11:02:06.391Z"
   },
   {
    "duration": 19758,
    "start_time": "2022-03-07T11:02:06.404Z"
   },
   {
    "duration": 6,
    "start_time": "2022-03-07T11:02:26.165Z"
   },
   {
    "duration": 606,
    "start_time": "2022-03-07T11:02:26.173Z"
   },
   {
    "duration": 2,
    "start_time": "2022-03-07T11:04:39.233Z"
   },
   {
    "duration": 652,
    "start_time": "2022-03-07T11:04:39.884Z"
   },
   {
    "duration": 628,
    "start_time": "2022-03-07T11:06:18.269Z"
   },
   {
    "duration": 6,
    "start_time": "2022-03-07T11:06:35.079Z"
   },
   {
    "duration": 501,
    "start_time": "2022-03-07T11:06:39.706Z"
   },
   {
    "duration": 603,
    "start_time": "2022-03-07T11:07:02.339Z"
   },
   {
    "duration": 608,
    "start_time": "2022-03-07T11:07:54.370Z"
   },
   {
    "duration": 1392,
    "start_time": "2022-03-07T11:14:32.568Z"
   },
   {
    "duration": 32,
    "start_time": "2022-03-07T11:14:33.962Z"
   },
   {
    "duration": 12,
    "start_time": "2022-03-07T11:14:33.996Z"
   },
   {
    "duration": 19,
    "start_time": "2022-03-07T11:14:34.010Z"
   },
   {
    "duration": 6,
    "start_time": "2022-03-07T11:14:34.031Z"
   },
   {
    "duration": 11,
    "start_time": "2022-03-07T11:14:34.039Z"
   },
   {
    "duration": 21,
    "start_time": "2022-03-07T11:14:34.053Z"
   },
   {
    "duration": 33,
    "start_time": "2022-03-07T11:14:34.077Z"
   },
   {
    "duration": 66,
    "start_time": "2022-03-07T11:14:34.112Z"
   },
   {
    "duration": 22,
    "start_time": "2022-03-07T11:14:34.180Z"
   },
   {
    "duration": 32,
    "start_time": "2022-03-07T11:14:34.204Z"
   },
   {
    "duration": 6,
    "start_time": "2022-03-07T11:14:34.238Z"
   },
   {
    "duration": 21,
    "start_time": "2022-03-07T11:14:34.246Z"
   },
   {
    "duration": 32,
    "start_time": "2022-03-07T11:14:34.269Z"
   },
   {
    "duration": 12,
    "start_time": "2022-03-07T11:14:34.304Z"
   },
   {
    "duration": 9,
    "start_time": "2022-03-07T11:14:34.318Z"
   },
   {
    "duration": 10,
    "start_time": "2022-03-07T11:14:34.329Z"
   },
   {
    "duration": 20,
    "start_time": "2022-03-07T11:14:34.342Z"
   },
   {
    "duration": 6,
    "start_time": "2022-03-07T11:14:34.364Z"
   },
   {
    "duration": 32,
    "start_time": "2022-03-07T11:14:34.371Z"
   },
   {
    "duration": 15,
    "start_time": "2022-03-07T11:14:34.405Z"
   },
   {
    "duration": 14,
    "start_time": "2022-03-07T11:14:34.422Z"
   },
   {
    "duration": 75,
    "start_time": "2022-03-07T11:14:34.439Z"
   },
   {
    "duration": 28,
    "start_time": "2022-03-07T11:14:34.517Z"
   },
   {
    "duration": 6,
    "start_time": "2022-03-07T11:14:34.547Z"
   },
   {
    "duration": 6,
    "start_time": "2022-03-07T11:14:34.555Z"
   },
   {
    "duration": 39,
    "start_time": "2022-03-07T11:14:34.563Z"
   },
   {
    "duration": 4,
    "start_time": "2022-03-07T11:14:34.604Z"
   },
   {
    "duration": 10,
    "start_time": "2022-03-07T11:14:34.610Z"
   },
   {
    "duration": 401,
    "start_time": "2022-03-07T11:14:34.622Z"
   },
   {
    "duration": 3513,
    "start_time": "2022-03-07T11:14:35.025Z"
   },
   {
    "duration": 1326,
    "start_time": "2022-03-07T11:14:38.540Z"
   },
   {
    "duration": 4,
    "start_time": "2022-03-07T11:14:39.868Z"
   },
   {
    "duration": 26,
    "start_time": "2022-03-07T11:14:39.875Z"
   },
   {
    "duration": 293,
    "start_time": "2022-03-07T11:14:39.903Z"
   },
   {
    "duration": 8,
    "start_time": "2022-03-07T11:14:40.201Z"
   },
   {
    "duration": 17,
    "start_time": "2022-03-07T11:14:40.211Z"
   },
   {
    "duration": 401,
    "start_time": "2022-03-07T11:14:40.230Z"
   },
   {
    "duration": 10,
    "start_time": "2022-03-07T11:14:40.633Z"
   },
   {
    "duration": 158,
    "start_time": "2022-03-07T11:14:40.645Z"
   },
   {
    "duration": 10,
    "start_time": "2022-03-07T11:14:40.806Z"
   },
   {
    "duration": 254,
    "start_time": "2022-03-07T11:14:40.821Z"
   },
   {
    "duration": 4,
    "start_time": "2022-03-07T11:14:41.078Z"
   },
   {
    "duration": 801,
    "start_time": "2022-03-07T11:14:41.084Z"
   },
   {
    "duration": -1668,
    "start_time": "2022-03-07T11:14:43.556Z"
   },
   {
    "duration": -1672,
    "start_time": "2022-03-07T11:14:43.561Z"
   },
   {
    "duration": 3,
    "start_time": "2022-03-07T11:15:37.341Z"
   },
   {
    "duration": 19774,
    "start_time": "2022-03-07T11:15:37.810Z"
   },
   {
    "duration": 54,
    "start_time": "2022-03-07T11:15:57.587Z"
   },
   {
    "duration": -11326,
    "start_time": "2022-03-07T11:16:08.970Z"
   },
   {
    "duration": 642,
    "start_time": "2022-03-07T11:16:57.251Z"
   },
   {
    "duration": 1222,
    "start_time": "2022-03-07T11:29:08.799Z"
   },
   {
    "duration": 39,
    "start_time": "2022-03-07T11:29:10.023Z"
   },
   {
    "duration": 9,
    "start_time": "2022-03-07T11:29:10.065Z"
   },
   {
    "duration": 27,
    "start_time": "2022-03-07T11:29:10.076Z"
   },
   {
    "duration": 4,
    "start_time": "2022-03-07T11:29:10.105Z"
   },
   {
    "duration": 13,
    "start_time": "2022-03-07T11:29:10.111Z"
   },
   {
    "duration": 18,
    "start_time": "2022-03-07T11:29:10.127Z"
   },
   {
    "duration": 16,
    "start_time": "2022-03-07T11:29:10.149Z"
   },
   {
    "duration": 60,
    "start_time": "2022-03-07T11:29:10.203Z"
   },
   {
    "duration": 6,
    "start_time": "2022-03-07T11:29:10.265Z"
   },
   {
    "duration": 29,
    "start_time": "2022-03-07T11:29:10.302Z"
   },
   {
    "duration": 6,
    "start_time": "2022-03-07T11:29:10.333Z"
   },
   {
    "duration": 16,
    "start_time": "2022-03-07T11:29:10.341Z"
   },
   {
    "duration": 7,
    "start_time": "2022-03-07T11:29:10.359Z"
   },
   {
    "duration": 42,
    "start_time": "2022-03-07T11:29:10.368Z"
   },
   {
    "duration": 8,
    "start_time": "2022-03-07T11:29:10.412Z"
   },
   {
    "duration": 9,
    "start_time": "2022-03-07T11:29:10.422Z"
   },
   {
    "duration": 29,
    "start_time": "2022-03-07T11:29:10.433Z"
   },
   {
    "duration": 3,
    "start_time": "2022-03-07T11:29:10.464Z"
   },
   {
    "duration": 11,
    "start_time": "2022-03-07T11:29:10.469Z"
   },
   {
    "duration": 22,
    "start_time": "2022-03-07T11:29:10.482Z"
   },
   {
    "duration": 15,
    "start_time": "2022-03-07T11:29:10.506Z"
   },
   {
    "duration": 84,
    "start_time": "2022-03-07T11:29:10.525Z"
   },
   {
    "duration": 26,
    "start_time": "2022-03-07T11:29:10.612Z"
   },
   {
    "duration": 4,
    "start_time": "2022-03-07T11:29:10.640Z"
   },
   {
    "duration": 7,
    "start_time": "2022-03-07T11:29:10.646Z"
   },
   {
    "duration": 17,
    "start_time": "2022-03-07T11:29:10.655Z"
   },
   {
    "duration": 28,
    "start_time": "2022-03-07T11:29:10.674Z"
   },
   {
    "duration": 9,
    "start_time": "2022-03-07T11:29:10.704Z"
   },
   {
    "duration": 414,
    "start_time": "2022-03-07T11:29:10.715Z"
   },
   {
    "duration": 3244,
    "start_time": "2022-03-07T11:29:11.131Z"
   },
   {
    "duration": 1298,
    "start_time": "2022-03-07T11:29:14.377Z"
   },
   {
    "duration": 4,
    "start_time": "2022-03-07T11:29:15.677Z"
   },
   {
    "duration": 23,
    "start_time": "2022-03-07T11:29:15.683Z"
   },
   {
    "duration": 277,
    "start_time": "2022-03-07T11:29:15.708Z"
   },
   {
    "duration": 16,
    "start_time": "2022-03-07T11:29:15.987Z"
   },
   {
    "duration": 12,
    "start_time": "2022-03-07T11:29:16.005Z"
   },
   {
    "duration": 385,
    "start_time": "2022-03-07T11:29:16.019Z"
   },
   {
    "duration": 9,
    "start_time": "2022-03-07T11:29:16.406Z"
   },
   {
    "duration": 156,
    "start_time": "2022-03-07T11:29:16.417Z"
   },
   {
    "duration": 8,
    "start_time": "2022-03-07T11:29:16.575Z"
   },
   {
    "duration": 234,
    "start_time": "2022-03-07T11:29:16.584Z"
   },
   {
    "duration": 4,
    "start_time": "2022-03-07T11:29:16.820Z"
   },
   {
    "duration": 19476,
    "start_time": "2022-03-07T11:29:16.825Z"
   },
   {
    "duration": 634,
    "start_time": "2022-03-07T11:29:36.303Z"
   },
   {
    "duration": 396,
    "start_time": "2022-03-07T16:07:21.263Z"
   },
   {
    "duration": 1653,
    "start_time": "2022-03-07T16:07:27.556Z"
   },
   {
    "duration": 44,
    "start_time": "2022-03-07T16:07:29.211Z"
   },
   {
    "duration": 20,
    "start_time": "2022-03-07T16:07:29.261Z"
   },
   {
    "duration": 16,
    "start_time": "2022-03-07T16:07:29.284Z"
   },
   {
    "duration": 5,
    "start_time": "2022-03-07T16:07:29.303Z"
   },
   {
    "duration": 68,
    "start_time": "2022-03-07T16:07:29.311Z"
   },
   {
    "duration": 24,
    "start_time": "2022-03-07T16:07:29.382Z"
   },
   {
    "duration": 66,
    "start_time": "2022-03-07T16:07:29.410Z"
   },
   {
    "duration": 103,
    "start_time": "2022-03-07T16:07:29.479Z"
   },
   {
    "duration": 6,
    "start_time": "2022-03-07T16:07:29.585Z"
   },
   {
    "duration": 85,
    "start_time": "2022-03-07T16:07:29.594Z"
   },
   {
    "duration": 12,
    "start_time": "2022-03-07T16:07:29.682Z"
   },
   {
    "duration": 32,
    "start_time": "2022-03-07T16:07:29.697Z"
   },
   {
    "duration": 12,
    "start_time": "2022-03-07T16:07:29.732Z"
   },
   {
    "duration": 19,
    "start_time": "2022-03-07T16:07:29.775Z"
   },
   {
    "duration": 18,
    "start_time": "2022-03-07T16:07:29.796Z"
   },
   {
    "duration": 56,
    "start_time": "2022-03-07T16:07:29.817Z"
   },
   {
    "duration": 31,
    "start_time": "2022-03-07T16:07:29.876Z"
   },
   {
    "duration": 16,
    "start_time": "2022-03-07T16:07:29.909Z"
   },
   {
    "duration": 20,
    "start_time": "2022-03-07T16:07:29.927Z"
   },
   {
    "duration": 27,
    "start_time": "2022-03-07T16:07:29.950Z"
   },
   {
    "duration": 27,
    "start_time": "2022-03-07T16:07:29.982Z"
   },
   {
    "duration": 117,
    "start_time": "2022-03-07T16:07:30.014Z"
   },
   {
    "duration": 56,
    "start_time": "2022-03-07T16:07:30.134Z"
   },
   {
    "duration": 6,
    "start_time": "2022-03-07T16:07:30.193Z"
   },
   {
    "duration": 13,
    "start_time": "2022-03-07T16:07:30.202Z"
   },
   {
    "duration": 55,
    "start_time": "2022-03-07T16:07:30.218Z"
   },
   {
    "duration": 5,
    "start_time": "2022-03-07T16:07:30.276Z"
   },
   {
    "duration": 19,
    "start_time": "2022-03-07T16:07:30.283Z"
   },
   {
    "duration": 575,
    "start_time": "2022-03-07T16:07:30.305Z"
   },
   {
    "duration": 4278,
    "start_time": "2022-03-07T16:07:30.882Z"
   },
   {
    "duration": 1458,
    "start_time": "2022-03-07T16:07:35.174Z"
   },
   {
    "duration": 6,
    "start_time": "2022-03-07T16:07:36.635Z"
   },
   {
    "duration": 36,
    "start_time": "2022-03-07T16:07:36.644Z"
   },
   {
    "duration": 439,
    "start_time": "2022-03-07T16:07:36.683Z"
   },
   {
    "duration": 10,
    "start_time": "2022-03-07T16:07:37.125Z"
   },
   {
    "duration": 41,
    "start_time": "2022-03-07T16:07:37.138Z"
   },
   {
    "duration": 533,
    "start_time": "2022-03-07T16:07:37.181Z"
   },
   {
    "duration": 11,
    "start_time": "2022-03-07T16:07:37.717Z"
   },
   {
    "duration": 213,
    "start_time": "2022-03-07T16:07:37.730Z"
   },
   {
    "duration": 27,
    "start_time": "2022-03-07T16:07:37.946Z"
   },
   {
    "duration": 310,
    "start_time": "2022-03-07T16:07:37.976Z"
   },
   {
    "duration": 4,
    "start_time": "2022-03-07T16:07:38.288Z"
   },
   {
    "duration": 27227,
    "start_time": "2022-03-07T16:07:38.295Z"
   },
   {
    "duration": 999,
    "start_time": "2022-03-07T16:08:05.524Z"
   },
   {
    "duration": 26,
    "start_time": "2022-03-07T16:08:06.525Z"
   },
   {
    "duration": 28,
    "start_time": "2022-03-07T16:09:58.926Z"
   },
   {
    "duration": 29,
    "start_time": "2022-03-07T16:10:03.194Z"
   },
   {
    "duration": 27,
    "start_time": "2022-03-07T16:10:09.685Z"
   },
   {
    "duration": 10,
    "start_time": "2022-03-07T16:11:43.858Z"
   },
   {
    "duration": 536,
    "start_time": "2022-03-07T16:11:44.901Z"
   },
   {
    "duration": 3500,
    "start_time": "2022-03-07T16:11:46.747Z"
   },
   {
    "duration": 1476,
    "start_time": "2022-03-07T16:11:50.250Z"
   },
   {
    "duration": 7,
    "start_time": "2022-03-07T16:12:40.145Z"
   },
   {
    "duration": 6,
    "start_time": "2022-03-07T16:12:40.887Z"
   },
   {
    "duration": 11,
    "start_time": "2022-03-07T16:12:41.426Z"
   },
   {
    "duration": 5,
    "start_time": "2022-03-07T16:12:41.926Z"
   },
   {
    "duration": 10,
    "start_time": "2022-03-07T16:12:42.551Z"
   },
   {
    "duration": 802,
    "start_time": "2022-03-07T16:12:43.605Z"
   },
   {
    "duration": 6553,
    "start_time": "2022-03-07T16:12:45.649Z"
   },
   {
    "duration": 1643,
    "start_time": "2022-03-07T16:12:52.204Z"
   },
   {
    "duration": 6,
    "start_time": "2022-03-07T16:13:00.047Z"
   },
   {
    "duration": 10,
    "start_time": "2022-03-07T16:13:01.965Z"
   },
   {
    "duration": 355,
    "start_time": "2022-03-07T16:13:02.505Z"
   },
   {
    "duration": 10,
    "start_time": "2022-03-07T16:13:05.107Z"
   },
   {
    "duration": 15,
    "start_time": "2022-03-07T16:13:09.827Z"
   },
   {
    "duration": 505,
    "start_time": "2022-03-07T16:13:09.845Z"
   },
   {
    "duration": 11,
    "start_time": "2022-03-07T16:13:12.573Z"
   },
   {
    "duration": 181,
    "start_time": "2022-03-07T16:13:13.326Z"
   },
   {
    "duration": 12,
    "start_time": "2022-03-07T16:13:19.954Z"
   },
   {
    "duration": 285,
    "start_time": "2022-03-07T16:13:21.333Z"
   },
   {
    "duration": 5,
    "start_time": "2022-03-07T16:14:37.868Z"
   },
   {
    "duration": 22484,
    "start_time": "2022-03-07T16:15:48.208Z"
   },
   {
    "duration": 4,
    "start_time": "2022-03-07T16:17:52.010Z"
   },
   {
    "duration": 15120,
    "start_time": "2022-03-07T16:17:52.395Z"
   },
   {
    "duration": 672,
    "start_time": "2022-03-07T16:18:15.996Z"
   },
   {
    "duration": 26,
    "start_time": "2022-03-07T16:18:23.870Z"
   },
   {
    "duration": 1594,
    "start_time": "2022-03-07T16:20:06.767Z"
   },
   {
    "duration": 45,
    "start_time": "2022-03-07T16:20:08.363Z"
   },
   {
    "duration": 12,
    "start_time": "2022-03-07T16:20:10.339Z"
   },
   {
    "duration": 18,
    "start_time": "2022-03-07T16:20:11.488Z"
   },
   {
    "duration": 6,
    "start_time": "2022-03-07T16:20:13.519Z"
   },
   {
    "duration": 12,
    "start_time": "2022-03-07T16:20:16.041Z"
   },
   {
    "duration": 21,
    "start_time": "2022-03-07T16:20:22.799Z"
   },
   {
    "duration": 20,
    "start_time": "2022-03-07T16:20:24.859Z"
   },
   {
    "duration": 71,
    "start_time": "2022-03-07T16:20:28.062Z"
   },
   {
    "duration": 6,
    "start_time": "2022-03-07T16:20:34.789Z"
   },
   {
    "duration": 41,
    "start_time": "2022-03-07T16:20:56.116Z"
   },
   {
    "duration": 12,
    "start_time": "2022-03-07T16:20:58.803Z"
   },
   {
    "duration": 19,
    "start_time": "2022-03-07T16:21:04.384Z"
   },
   {
    "duration": 9,
    "start_time": "2022-03-07T16:21:11.581Z"
   },
   {
    "duration": 15,
    "start_time": "2022-03-07T16:22:16.259Z"
   },
   {
    "duration": 9,
    "start_time": "2022-03-07T16:22:17.260Z"
   },
   {
    "duration": 4,
    "start_time": "2022-03-07T16:22:40.561Z"
   },
   {
    "duration": 17,
    "start_time": "2022-03-07T16:22:45.383Z"
   },
   {
    "duration": 4,
    "start_time": "2022-03-07T16:22:47.381Z"
   },
   {
    "duration": 7,
    "start_time": "2022-03-07T16:22:48.720Z"
   },
   {
    "duration": 12,
    "start_time": "2022-03-07T16:22:50.279Z"
   },
   {
    "duration": 24,
    "start_time": "2022-03-07T16:23:05.678Z"
   },
   {
    "duration": 83,
    "start_time": "2022-03-07T16:23:07.498Z"
   },
   {
    "duration": 36,
    "start_time": "2022-03-07T16:23:10.609Z"
   },
   {
    "duration": 6,
    "start_time": "2022-03-07T16:23:12.373Z"
   },
   {
    "duration": 7,
    "start_time": "2022-03-07T16:23:12.382Z"
   },
   {
    "duration": 17,
    "start_time": "2022-03-07T16:23:12.393Z"
   },
   {
    "duration": 5,
    "start_time": "2022-03-07T16:23:12.413Z"
   },
   {
    "duration": 56,
    "start_time": "2022-03-07T16:23:12.420Z"
   },
   {
    "duration": 778,
    "start_time": "2022-03-07T16:23:12.478Z"
   },
   {
    "duration": 4295,
    "start_time": "2022-03-07T16:23:13.258Z"
   },
   {
    "duration": 1848,
    "start_time": "2022-03-07T16:23:17.555Z"
   },
   {
    "duration": 8,
    "start_time": "2022-03-07T16:23:19.407Z"
   },
   {
    "duration": 17,
    "start_time": "2022-03-07T16:23:19.419Z"
   },
   {
    "duration": 537,
    "start_time": "2022-03-07T16:23:19.439Z"
   },
   {
    "duration": 10,
    "start_time": "2022-03-07T16:23:19.979Z"
   },
   {
    "duration": 33,
    "start_time": "2022-03-07T16:23:19.991Z"
   },
   {
    "duration": 553,
    "start_time": "2022-03-07T16:23:20.027Z"
   },
   {
    "duration": 13,
    "start_time": "2022-03-07T16:23:20.582Z"
   },
   {
    "duration": 226,
    "start_time": "2022-03-07T16:23:20.597Z"
   },
   {
    "duration": 15,
    "start_time": "2022-03-07T16:23:20.826Z"
   },
   {
    "duration": 461,
    "start_time": "2022-03-07T16:23:20.844Z"
   },
   {
    "duration": 6,
    "start_time": "2022-03-07T16:23:21.308Z"
   },
   {
    "duration": 18768,
    "start_time": "2022-03-07T16:23:21.317Z"
   },
   {
    "duration": 684,
    "start_time": "2022-03-07T16:23:40.088Z"
   },
   {
    "duration": 37,
    "start_time": "2022-03-07T16:23:40.775Z"
   },
   {
    "duration": 22,
    "start_time": "2022-03-07T16:28:36.647Z"
   },
   {
    "duration": 665,
    "start_time": "2022-03-07T16:28:57.428Z"
   },
   {
    "duration": 26,
    "start_time": "2022-03-07T16:29:11.719Z"
   },
   {
    "duration": 6,
    "start_time": "2022-03-07T16:32:39.507Z"
   },
   {
    "duration": 6,
    "start_time": "2022-03-07T16:32:39.740Z"
   },
   {
    "duration": 11,
    "start_time": "2022-03-07T16:32:40.139Z"
   },
   {
    "duration": 4,
    "start_time": "2022-03-07T16:32:41.130Z"
   },
   {
    "duration": 11,
    "start_time": "2022-03-07T16:32:41.688Z"
   },
   {
    "duration": 418,
    "start_time": "2022-03-07T16:32:42.758Z"
   },
   {
    "duration": 337,
    "start_time": "2022-03-07T16:32:53.128Z"
   },
   {
    "duration": 865,
    "start_time": "2022-03-07T16:32:54.386Z"
   },
   {
    "duration": 2322,
    "start_time": "2022-03-07T16:33:06.695Z"
   },
   {
    "duration": 58,
    "start_time": "2022-03-07T16:33:09.021Z"
   },
   {
    "duration": 13,
    "start_time": "2022-03-07T16:33:09.083Z"
   },
   {
    "duration": 25,
    "start_time": "2022-03-07T16:33:09.099Z"
   },
   {
    "duration": 6,
    "start_time": "2022-03-07T16:33:09.127Z"
   },
   {
    "duration": 38,
    "start_time": "2022-03-07T16:33:09.136Z"
   },
   {
    "duration": 44,
    "start_time": "2022-03-07T16:33:09.176Z"
   },
   {
    "duration": 34,
    "start_time": "2022-03-07T16:33:09.225Z"
   },
   {
    "duration": 99,
    "start_time": "2022-03-07T16:33:09.262Z"
   },
   {
    "duration": 6,
    "start_time": "2022-03-07T16:33:09.364Z"
   },
   {
    "duration": 63,
    "start_time": "2022-03-07T16:33:09.373Z"
   },
   {
    "duration": 8,
    "start_time": "2022-03-07T16:33:09.439Z"
   },
   {
    "duration": 42,
    "start_time": "2022-03-07T16:33:09.450Z"
   },
   {
    "duration": 13,
    "start_time": "2022-03-07T16:33:09.495Z"
   },
   {
    "duration": 22,
    "start_time": "2022-03-07T16:33:09.510Z"
   },
   {
    "duration": 28,
    "start_time": "2022-03-07T16:33:09.536Z"
   },
   {
    "duration": 32,
    "start_time": "2022-03-07T16:33:09.567Z"
   },
   {
    "duration": 39,
    "start_time": "2022-03-07T16:33:09.602Z"
   },
   {
    "duration": 7,
    "start_time": "2022-03-07T16:33:09.643Z"
   },
   {
    "duration": 25,
    "start_time": "2022-03-07T16:33:09.652Z"
   },
   {
    "duration": 37,
    "start_time": "2022-03-07T16:33:09.680Z"
   },
   {
    "duration": 28,
    "start_time": "2022-03-07T16:33:09.720Z"
   },
   {
    "duration": 96,
    "start_time": "2022-03-07T16:33:09.753Z"
   },
   {
    "duration": 55,
    "start_time": "2022-03-07T16:33:09.854Z"
   },
   {
    "duration": 7,
    "start_time": "2022-03-07T16:33:09.914Z"
   },
   {
    "duration": 30,
    "start_time": "2022-03-07T16:33:09.924Z"
   },
   {
    "duration": 29,
    "start_time": "2022-03-07T16:33:09.957Z"
   },
   {
    "duration": 8,
    "start_time": "2022-03-07T16:33:09.988Z"
   },
   {
    "duration": 17,
    "start_time": "2022-03-07T16:33:09.999Z"
   },
   {
    "duration": 578,
    "start_time": "2022-03-07T16:33:10.019Z"
   },
   {
    "duration": 586,
    "start_time": "2022-03-07T16:33:10.600Z"
   },
   {
    "duration": 821,
    "start_time": "2022-03-07T16:33:11.194Z"
   },
   {
    "duration": -2072,
    "start_time": "2022-03-07T16:33:14.091Z"
   },
   {
    "duration": -2079,
    "start_time": "2022-03-07T16:33:14.100Z"
   },
   {
    "duration": -2082,
    "start_time": "2022-03-07T16:33:14.105Z"
   },
   {
    "duration": -2085,
    "start_time": "2022-03-07T16:33:14.110Z"
   },
   {
    "duration": -2088,
    "start_time": "2022-03-07T16:33:14.115Z"
   },
   {
    "duration": -2092,
    "start_time": "2022-03-07T16:33:14.121Z"
   },
   {
    "duration": -2107,
    "start_time": "2022-03-07T16:33:14.138Z"
   },
   {
    "duration": -2110,
    "start_time": "2022-03-07T16:33:14.144Z"
   },
   {
    "duration": -2114,
    "start_time": "2022-03-07T16:33:14.150Z"
   },
   {
    "duration": -2118,
    "start_time": "2022-03-07T16:33:14.156Z"
   },
   {
    "duration": -2122,
    "start_time": "2022-03-07T16:33:14.162Z"
   },
   {
    "duration": -2125,
    "start_time": "2022-03-07T16:33:14.168Z"
   },
   {
    "duration": -2128,
    "start_time": "2022-03-07T16:33:14.173Z"
   },
   {
    "duration": -2131,
    "start_time": "2022-03-07T16:33:14.178Z"
   },
   {
    "duration": -2134,
    "start_time": "2022-03-07T16:33:14.184Z"
   },
   {
    "duration": 1768,
    "start_time": "2022-03-07T16:33:38.723Z"
   },
   {
    "duration": 45,
    "start_time": "2022-03-07T16:33:40.494Z"
   },
   {
    "duration": 31,
    "start_time": "2022-03-07T16:33:40.543Z"
   },
   {
    "duration": 18,
    "start_time": "2022-03-07T16:33:40.578Z"
   },
   {
    "duration": 5,
    "start_time": "2022-03-07T16:33:40.599Z"
   },
   {
    "duration": 21,
    "start_time": "2022-03-07T16:33:40.607Z"
   },
   {
    "duration": 66,
    "start_time": "2022-03-07T16:33:40.630Z"
   },
   {
    "duration": 21,
    "start_time": "2022-03-07T16:33:40.698Z"
   },
   {
    "duration": 157,
    "start_time": "2022-03-07T16:33:40.724Z"
   },
   {
    "duration": 9,
    "start_time": "2022-03-07T16:33:40.885Z"
   },
   {
    "duration": 81,
    "start_time": "2022-03-07T16:33:40.898Z"
   },
   {
    "duration": 8,
    "start_time": "2022-03-07T16:33:40.982Z"
   },
   {
    "duration": 22,
    "start_time": "2022-03-07T16:33:40.993Z"
   },
   {
    "duration": 10,
    "start_time": "2022-03-07T16:33:41.017Z"
   },
   {
    "duration": 58,
    "start_time": "2022-03-07T16:33:41.030Z"
   },
   {
    "duration": 12,
    "start_time": "2022-03-07T16:33:41.091Z"
   },
   {
    "duration": 4,
    "start_time": "2022-03-07T16:33:41.107Z"
   },
   {
    "duration": 63,
    "start_time": "2022-03-07T16:33:41.114Z"
   },
   {
    "duration": 5,
    "start_time": "2022-03-07T16:33:41.180Z"
   },
   {
    "duration": 9,
    "start_time": "2022-03-07T16:33:41.188Z"
   },
   {
    "duration": 15,
    "start_time": "2022-03-07T16:33:41.200Z"
   },
   {
    "duration": 72,
    "start_time": "2022-03-07T16:33:41.218Z"
   },
   {
    "duration": 126,
    "start_time": "2022-03-07T16:33:41.293Z"
   },
   {
    "duration": 66,
    "start_time": "2022-03-07T16:33:41.422Z"
   },
   {
    "duration": 6,
    "start_time": "2022-03-07T16:33:41.491Z"
   },
   {
    "duration": 13,
    "start_time": "2022-03-07T16:33:41.499Z"
   },
   {
    "duration": 46,
    "start_time": "2022-03-07T16:33:41.517Z"
   },
   {
    "duration": 9,
    "start_time": "2022-03-07T16:33:41.566Z"
   },
   {
    "duration": 19,
    "start_time": "2022-03-07T16:33:41.578Z"
   },
   {
    "duration": 856,
    "start_time": "2022-03-07T16:33:41.599Z"
   },
   {
    "duration": 4376,
    "start_time": "2022-03-07T16:33:42.473Z"
   },
   {
    "duration": 1708,
    "start_time": "2022-03-07T16:33:46.851Z"
   },
   {
    "duration": 15,
    "start_time": "2022-03-07T16:33:48.561Z"
   },
   {
    "duration": 16,
    "start_time": "2022-03-07T16:33:48.579Z"
   },
   {
    "duration": 577,
    "start_time": "2022-03-07T16:33:48.598Z"
   },
   {
    "duration": 12,
    "start_time": "2022-03-07T16:33:49.177Z"
   },
   {
    "duration": 17,
    "start_time": "2022-03-07T16:33:49.191Z"
   },
   {
    "duration": 558,
    "start_time": "2022-03-07T16:33:49.211Z"
   },
   {
    "duration": 10,
    "start_time": "2022-03-07T16:33:49.774Z"
   },
   {
    "duration": 208,
    "start_time": "2022-03-07T16:33:49.787Z"
   },
   {
    "duration": 11,
    "start_time": "2022-03-07T16:33:49.997Z"
   },
   {
    "duration": 340,
    "start_time": "2022-03-07T16:33:50.011Z"
   },
   {
    "duration": 5,
    "start_time": "2022-03-07T16:33:50.354Z"
   },
   {
    "duration": 21015,
    "start_time": "2022-03-07T16:33:50.361Z"
   },
   {
    "duration": 23,
    "start_time": "2022-03-07T16:34:11.378Z"
   },
   {
    "duration": 720,
    "start_time": "2022-03-07T16:34:11.404Z"
   },
   {
    "duration": 50,
    "start_time": "2022-03-07T16:34:12.127Z"
   },
   {
    "duration": 1630,
    "start_time": "2022-03-07T16:36:57.163Z"
   },
   {
    "duration": 40,
    "start_time": "2022-03-07T16:36:58.798Z"
   },
   {
    "duration": 34,
    "start_time": "2022-03-07T16:36:58.841Z"
   },
   {
    "duration": 18,
    "start_time": "2022-03-07T16:36:58.878Z"
   },
   {
    "duration": 7,
    "start_time": "2022-03-07T16:36:58.899Z"
   },
   {
    "duration": 63,
    "start_time": "2022-03-07T16:36:58.911Z"
   },
   {
    "duration": 26,
    "start_time": "2022-03-07T16:36:58.980Z"
   },
   {
    "duration": 63,
    "start_time": "2022-03-07T16:36:59.010Z"
   },
   {
    "duration": 104,
    "start_time": "2022-03-07T16:36:59.076Z"
   },
   {
    "duration": 7,
    "start_time": "2022-03-07T16:36:59.183Z"
   },
   {
    "duration": 42,
    "start_time": "2022-03-07T16:36:59.193Z"
   },
   {
    "duration": 41,
    "start_time": "2022-03-07T16:36:59.238Z"
   },
   {
    "duration": 20,
    "start_time": "2022-03-07T16:36:59.281Z"
   },
   {
    "duration": 9,
    "start_time": "2022-03-07T16:36:59.303Z"
   },
   {
    "duration": 58,
    "start_time": "2022-03-07T16:36:59.315Z"
   },
   {
    "duration": 10,
    "start_time": "2022-03-07T16:36:59.376Z"
   },
   {
    "duration": 6,
    "start_time": "2022-03-07T16:36:59.389Z"
   },
   {
    "duration": 17,
    "start_time": "2022-03-07T16:36:59.397Z"
   },
   {
    "duration": 4,
    "start_time": "2022-03-07T16:36:59.417Z"
   },
   {
    "duration": 53,
    "start_time": "2022-03-07T16:36:59.423Z"
   },
   {
    "duration": 14,
    "start_time": "2022-03-07T16:36:59.479Z"
   },
   {
    "duration": 31,
    "start_time": "2022-03-07T16:36:59.500Z"
   },
   {
    "duration": 101,
    "start_time": "2022-03-07T16:36:59.575Z"
   },
   {
    "duration": 37,
    "start_time": "2022-03-07T16:36:59.678Z"
   },
   {
    "duration": 6,
    "start_time": "2022-03-07T16:36:59.718Z"
   },
   {
    "duration": 46,
    "start_time": "2022-03-07T16:36:59.727Z"
   },
   {
    "duration": 17,
    "start_time": "2022-03-07T16:36:59.776Z"
   },
   {
    "duration": 7,
    "start_time": "2022-03-07T16:36:59.796Z"
   },
   {
    "duration": 13,
    "start_time": "2022-03-07T16:36:59.806Z"
   },
   {
    "duration": 804,
    "start_time": "2022-03-07T16:36:59.823Z"
   },
   {
    "duration": 4427,
    "start_time": "2022-03-07T16:37:00.630Z"
   },
   {
    "duration": 1683,
    "start_time": "2022-03-07T16:37:05.073Z"
   },
   {
    "duration": 16,
    "start_time": "2022-03-07T16:37:06.758Z"
   },
   {
    "duration": 12,
    "start_time": "2022-03-07T16:37:06.776Z"
   },
   {
    "duration": 397,
    "start_time": "2022-03-07T16:37:06.790Z"
   },
   {
    "duration": 10,
    "start_time": "2022-03-07T16:37:07.189Z"
   },
   {
    "duration": 17,
    "start_time": "2022-03-07T16:37:07.201Z"
   },
   {
    "duration": 568,
    "start_time": "2022-03-07T16:37:07.221Z"
   },
   {
    "duration": 9,
    "start_time": "2022-03-07T16:37:07.792Z"
   },
   {
    "duration": 203,
    "start_time": "2022-03-07T16:37:07.804Z"
   },
   {
    "duration": 11,
    "start_time": "2022-03-07T16:37:08.009Z"
   },
   {
    "duration": 317,
    "start_time": "2022-03-07T16:37:08.022Z"
   },
   {
    "duration": 4,
    "start_time": "2022-03-07T16:37:08.342Z"
   },
   {
    "duration": 18909,
    "start_time": "2022-03-07T16:37:08.349Z"
   },
   {
    "duration": 3,
    "start_time": "2022-03-07T16:37:27.272Z"
   },
   {
    "duration": 683,
    "start_time": "2022-03-07T16:37:27.278Z"
   },
   {
    "duration": 44,
    "start_time": "2022-03-07T16:37:27.964Z"
   },
   {
    "duration": 1635,
    "start_time": "2022-03-07T16:44:06.114Z"
   },
   {
    "duration": 49,
    "start_time": "2022-03-07T16:44:07.751Z"
   },
   {
    "duration": 12,
    "start_time": "2022-03-07T16:44:07.803Z"
   },
   {
    "duration": 17,
    "start_time": "2022-03-07T16:44:07.819Z"
   },
   {
    "duration": 38,
    "start_time": "2022-03-07T16:44:07.839Z"
   },
   {
    "duration": 12,
    "start_time": "2022-03-07T16:44:07.879Z"
   },
   {
    "duration": 23,
    "start_time": "2022-03-07T16:44:07.893Z"
   },
   {
    "duration": 65,
    "start_time": "2022-03-07T16:44:07.920Z"
   },
   {
    "duration": 105,
    "start_time": "2022-03-07T16:44:07.988Z"
   },
   {
    "duration": 11,
    "start_time": "2022-03-07T16:44:08.096Z"
   },
   {
    "duration": 68,
    "start_time": "2022-03-07T16:44:08.109Z"
   },
   {
    "duration": 9,
    "start_time": "2022-03-07T16:44:08.180Z"
   },
   {
    "duration": 23,
    "start_time": "2022-03-07T16:44:08.191Z"
   },
   {
    "duration": 12,
    "start_time": "2022-03-07T16:44:08.217Z"
   },
   {
    "duration": 55,
    "start_time": "2022-03-07T16:44:08.232Z"
   },
   {
    "duration": 12,
    "start_time": "2022-03-07T16:44:08.290Z"
   },
   {
    "duration": 5,
    "start_time": "2022-03-07T16:44:08.305Z"
   },
   {
    "duration": 71,
    "start_time": "2022-03-07T16:44:08.312Z"
   },
   {
    "duration": 15,
    "start_time": "2022-03-07T16:44:08.387Z"
   },
   {
    "duration": 12,
    "start_time": "2022-03-07T16:44:08.404Z"
   },
   {
    "duration": 16,
    "start_time": "2022-03-07T16:44:08.419Z"
   },
   {
    "duration": 62,
    "start_time": "2022-03-07T16:44:08.438Z"
   },
   {
    "duration": 109,
    "start_time": "2022-03-07T16:44:08.509Z"
   },
   {
    "duration": 57,
    "start_time": "2022-03-07T16:44:08.621Z"
   },
   {
    "duration": 3,
    "start_time": "2022-03-07T16:44:08.681Z"
   },
   {
    "duration": 10,
    "start_time": "2022-03-07T16:44:08.687Z"
   },
   {
    "duration": 18,
    "start_time": "2022-03-07T16:44:08.699Z"
   },
   {
    "duration": 5,
    "start_time": "2022-03-07T16:44:08.720Z"
   },
   {
    "duration": 50,
    "start_time": "2022-03-07T16:44:08.728Z"
   },
   {
    "duration": 568,
    "start_time": "2022-03-07T16:44:08.780Z"
   },
   {
    "duration": 3408,
    "start_time": "2022-03-07T16:44:09.351Z"
   },
   {
    "duration": 1475,
    "start_time": "2022-03-07T16:44:12.761Z"
   },
   {
    "duration": 6,
    "start_time": "2022-03-07T16:44:14.238Z"
   },
   {
    "duration": 33,
    "start_time": "2022-03-07T16:44:14.246Z"
   },
   {
    "duration": 375,
    "start_time": "2022-03-07T16:44:14.282Z"
   },
   {
    "duration": 17,
    "start_time": "2022-03-07T16:44:14.660Z"
   },
   {
    "duration": 16,
    "start_time": "2022-03-07T16:44:14.680Z"
   },
   {
    "duration": 560,
    "start_time": "2022-03-07T16:44:14.699Z"
   },
   {
    "duration": 22,
    "start_time": "2022-03-07T16:44:15.262Z"
   },
   {
    "duration": 208,
    "start_time": "2022-03-07T16:44:15.286Z"
   },
   {
    "duration": 15,
    "start_time": "2022-03-07T16:44:15.497Z"
   },
   {
    "duration": 323,
    "start_time": "2022-03-07T16:44:15.515Z"
   },
   {
    "duration": 6,
    "start_time": "2022-03-07T16:44:15.842Z"
   },
   {
    "duration": 17950,
    "start_time": "2022-03-07T16:44:15.851Z"
   },
   {
    "duration": 3,
    "start_time": "2022-03-07T16:44:33.805Z"
   },
   {
    "duration": 701,
    "start_time": "2022-03-07T16:44:33.812Z"
   },
   {
    "duration": 29,
    "start_time": "2022-03-07T16:44:34.517Z"
   },
   {
    "duration": 21744,
    "start_time": "2022-03-07T16:45:56.803Z"
   },
   {
    "duration": 733,
    "start_time": "2022-03-07T16:47:34.440Z"
   },
   {
    "duration": 25,
    "start_time": "2022-03-07T16:47:45.445Z"
   },
   {
    "duration": 8,
    "start_time": "2022-03-07T16:48:30.816Z"
   },
   {
    "duration": 790,
    "start_time": "2022-03-07T16:48:32.388Z"
   },
   {
    "duration": 26,
    "start_time": "2022-03-07T16:48:45.783Z"
   },
   {
    "duration": 327,
    "start_time": "2022-03-08T10:41:30.255Z"
   },
   {
    "duration": 1527,
    "start_time": "2022-03-08T10:41:51.008Z"
   },
   {
    "duration": 42,
    "start_time": "2022-03-08T10:41:52.537Z"
   },
   {
    "duration": 13,
    "start_time": "2022-03-08T10:41:52.582Z"
   },
   {
    "duration": 20,
    "start_time": "2022-03-08T10:41:52.598Z"
   },
   {
    "duration": 5,
    "start_time": "2022-03-08T10:41:52.621Z"
   },
   {
    "duration": 20,
    "start_time": "2022-03-08T10:41:52.628Z"
   },
   {
    "duration": 53,
    "start_time": "2022-03-08T10:41:52.650Z"
   },
   {
    "duration": 22,
    "start_time": "2022-03-08T10:41:52.705Z"
   },
   {
    "duration": 105,
    "start_time": "2022-03-08T10:41:52.732Z"
   },
   {
    "duration": 7,
    "start_time": "2022-03-08T10:41:52.841Z"
   },
   {
    "duration": 67,
    "start_time": "2022-03-08T10:41:52.851Z"
   },
   {
    "duration": 8,
    "start_time": "2022-03-08T10:41:52.921Z"
   },
   {
    "duration": 21,
    "start_time": "2022-03-08T10:41:52.932Z"
   },
   {
    "duration": 12,
    "start_time": "2022-03-08T10:41:52.987Z"
   },
   {
    "duration": 15,
    "start_time": "2022-03-08T10:41:53.001Z"
   },
   {
    "duration": 10,
    "start_time": "2022-03-08T10:41:53.019Z"
   },
   {
    "duration": 4,
    "start_time": "2022-03-08T10:41:53.032Z"
   },
   {
    "duration": 62,
    "start_time": "2022-03-08T10:41:53.039Z"
   },
   {
    "duration": 5,
    "start_time": "2022-03-08T10:41:53.104Z"
   },
   {
    "duration": 8,
    "start_time": "2022-03-08T10:41:53.112Z"
   },
   {
    "duration": 14,
    "start_time": "2022-03-08T10:41:53.122Z"
   },
   {
    "duration": 66,
    "start_time": "2022-03-08T10:41:53.138Z"
   },
   {
    "duration": 102,
    "start_time": "2022-03-08T10:41:53.207Z"
   },
   {
    "duration": 36,
    "start_time": "2022-03-08T10:41:53.312Z"
   },
   {
    "duration": 40,
    "start_time": "2022-03-08T10:41:53.350Z"
   },
   {
    "duration": 387,
    "start_time": "2022-03-08T10:41:53.392Z"
   },
   {
    "duration": -3391,
    "start_time": "2022-03-08T10:41:57.173Z"
   },
   {
    "duration": -3397,
    "start_time": "2022-03-08T10:41:57.180Z"
   },
   {
    "duration": -3402,
    "start_time": "2022-03-08T10:41:57.186Z"
   },
   {
    "duration": -3405,
    "start_time": "2022-03-08T10:41:57.191Z"
   },
   {
    "duration": -3409,
    "start_time": "2022-03-08T10:41:57.197Z"
   },
   {
    "duration": -3412,
    "start_time": "2022-03-08T10:41:57.201Z"
   },
   {
    "duration": -3417,
    "start_time": "2022-03-08T10:41:57.207Z"
   },
   {
    "duration": -3419,
    "start_time": "2022-03-08T10:41:57.211Z"
   },
   {
    "duration": -3423,
    "start_time": "2022-03-08T10:41:57.216Z"
   },
   {
    "duration": -3428,
    "start_time": "2022-03-08T10:41:57.222Z"
   },
   {
    "duration": -3433,
    "start_time": "2022-03-08T10:41:57.228Z"
   },
   {
    "duration": -3435,
    "start_time": "2022-03-08T10:41:57.232Z"
   },
   {
    "duration": -3439,
    "start_time": "2022-03-08T10:41:57.237Z"
   },
   {
    "duration": -3442,
    "start_time": "2022-03-08T10:41:57.242Z"
   },
   {
    "duration": -3446,
    "start_time": "2022-03-08T10:41:57.247Z"
   },
   {
    "duration": -3450,
    "start_time": "2022-03-08T10:41:57.252Z"
   },
   {
    "duration": -3454,
    "start_time": "2022-03-08T10:41:57.257Z"
   },
   {
    "duration": -3470,
    "start_time": "2022-03-08T10:41:57.275Z"
   },
   {
    "duration": -3474,
    "start_time": "2022-03-08T10:41:57.280Z"
   },
   {
    "duration": -3477,
    "start_time": "2022-03-08T10:41:57.285Z"
   },
   {
    "duration": -3481,
    "start_time": "2022-03-08T10:41:57.290Z"
   },
   {
    "duration": -3484,
    "start_time": "2022-03-08T10:41:57.295Z"
   },
   {
    "duration": -3488,
    "start_time": "2022-03-08T10:41:57.300Z"
   },
   {
    "duration": 8,
    "start_time": "2022-03-08T10:44:32.777Z"
   },
   {
    "duration": 7,
    "start_time": "2022-03-08T10:45:00.518Z"
   },
   {
    "duration": 7,
    "start_time": "2022-03-08T10:45:05.260Z"
   },
   {
    "duration": 7,
    "start_time": "2022-03-08T10:46:17.180Z"
   },
   {
    "duration": 11,
    "start_time": "2022-03-08T10:46:29.026Z"
   },
   {
    "duration": 1506,
    "start_time": "2022-03-08T11:01:01.146Z"
   },
   {
    "duration": 43,
    "start_time": "2022-03-08T11:01:02.655Z"
   },
   {
    "duration": 24,
    "start_time": "2022-03-08T11:01:02.700Z"
   },
   {
    "duration": 27,
    "start_time": "2022-03-08T11:01:02.726Z"
   },
   {
    "duration": 5,
    "start_time": "2022-03-08T11:01:02.755Z"
   },
   {
    "duration": 26,
    "start_time": "2022-03-08T11:01:02.762Z"
   },
   {
    "duration": 21,
    "start_time": "2022-03-08T11:01:02.790Z"
   },
   {
    "duration": 42,
    "start_time": "2022-03-08T11:01:02.813Z"
   },
   {
    "duration": 75,
    "start_time": "2022-03-08T11:01:02.859Z"
   },
   {
    "duration": 5,
    "start_time": "2022-03-08T11:01:02.937Z"
   },
   {
    "duration": 63,
    "start_time": "2022-03-08T11:01:02.945Z"
   },
   {
    "duration": 7,
    "start_time": "2022-03-08T11:01:03.010Z"
   },
   {
    "duration": 33,
    "start_time": "2022-03-08T11:01:03.020Z"
   },
   {
    "duration": 8,
    "start_time": "2022-03-08T11:01:03.055Z"
   },
   {
    "duration": 31,
    "start_time": "2022-03-08T11:01:03.065Z"
   },
   {
    "duration": 18,
    "start_time": "2022-03-08T11:01:03.099Z"
   },
   {
    "duration": 8,
    "start_time": "2022-03-08T11:01:03.119Z"
   },
   {
    "duration": 27,
    "start_time": "2022-03-08T11:01:03.130Z"
   },
   {
    "duration": 4,
    "start_time": "2022-03-08T11:01:03.159Z"
   },
   {
    "duration": 22,
    "start_time": "2022-03-08T11:01:03.165Z"
   },
   {
    "duration": 12,
    "start_time": "2022-03-08T11:01:03.189Z"
   },
   {
    "duration": 10,
    "start_time": "2022-03-08T11:01:03.203Z"
   },
   {
    "duration": 20,
    "start_time": "2022-03-08T11:01:03.215Z"
   },
   {
    "duration": 107,
    "start_time": "2022-03-08T11:01:03.237Z"
   },
   {
    "duration": 45,
    "start_time": "2022-03-08T11:01:03.347Z"
   },
   {
    "duration": 16,
    "start_time": "2022-03-08T11:01:03.394Z"
   },
   {
    "duration": 6,
    "start_time": "2022-03-08T11:01:03.415Z"
   },
   {
    "duration": 8,
    "start_time": "2022-03-08T11:01:03.424Z"
   },
   {
    "duration": 15,
    "start_time": "2022-03-08T11:01:03.435Z"
   },
   {
    "duration": 4,
    "start_time": "2022-03-08T11:01:03.453Z"
   },
   {
    "duration": 11,
    "start_time": "2022-03-08T11:01:03.487Z"
   },
   {
    "duration": 813,
    "start_time": "2022-03-08T11:01:03.500Z"
   },
   {
    "duration": 1131,
    "start_time": "2022-03-08T11:01:04.316Z"
   },
   {
    "duration": 985,
    "start_time": "2022-03-08T11:01:05.449Z"
   },
   {
    "duration": 6,
    "start_time": "2022-03-08T11:01:06.437Z"
   },
   {
    "duration": 24,
    "start_time": "2022-03-08T11:01:06.445Z"
   },
   {
    "duration": 337,
    "start_time": "2022-03-08T11:01:06.471Z"
   },
   {
    "duration": 9,
    "start_time": "2022-03-08T11:01:06.810Z"
   },
   {
    "duration": 17,
    "start_time": "2022-03-08T11:01:06.822Z"
   },
   {
    "duration": 601,
    "start_time": "2022-03-08T11:01:06.841Z"
   },
   {
    "duration": 11,
    "start_time": "2022-03-08T11:01:07.444Z"
   },
   {
    "duration": 188,
    "start_time": "2022-03-08T11:01:07.457Z"
   },
   {
    "duration": 10,
    "start_time": "2022-03-08T11:01:07.647Z"
   },
   {
    "duration": 281,
    "start_time": "2022-03-08T11:01:07.659Z"
   },
   {
    "duration": 4,
    "start_time": "2022-03-08T11:01:07.942Z"
   },
   {
    "duration": 15798,
    "start_time": "2022-03-08T11:01:07.948Z"
   },
   {
    "duration": 7,
    "start_time": "2022-03-08T11:01:23.749Z"
   },
   {
    "duration": 762,
    "start_time": "2022-03-08T11:01:23.758Z"
   },
   {
    "duration": 25,
    "start_time": "2022-03-08T11:01:24.522Z"
   },
   {
    "duration": 1618,
    "start_time": "2022-03-08T11:02:37.718Z"
   },
   {
    "duration": 38,
    "start_time": "2022-03-08T11:02:39.340Z"
   },
   {
    "duration": 15,
    "start_time": "2022-03-08T11:02:39.381Z"
   },
   {
    "duration": 22,
    "start_time": "2022-03-08T11:02:39.399Z"
   },
   {
    "duration": 9,
    "start_time": "2022-03-08T11:02:39.423Z"
   },
   {
    "duration": 21,
    "start_time": "2022-03-08T11:02:39.434Z"
   },
   {
    "duration": 47,
    "start_time": "2022-03-08T11:02:39.457Z"
   },
   {
    "duration": 20,
    "start_time": "2022-03-08T11:02:39.507Z"
   },
   {
    "duration": 95,
    "start_time": "2022-03-08T11:02:39.531Z"
   },
   {
    "duration": 6,
    "start_time": "2022-03-08T11:02:39.629Z"
   },
   {
    "duration": 67,
    "start_time": "2022-03-08T11:02:39.637Z"
   },
   {
    "duration": 8,
    "start_time": "2022-03-08T11:02:39.707Z"
   },
   {
    "duration": 31,
    "start_time": "2022-03-08T11:02:39.718Z"
   },
   {
    "duration": 10,
    "start_time": "2022-03-08T11:02:39.752Z"
   },
   {
    "duration": 31,
    "start_time": "2022-03-08T11:02:39.764Z"
   },
   {
    "duration": 14,
    "start_time": "2022-03-08T11:02:39.798Z"
   },
   {
    "duration": 19,
    "start_time": "2022-03-08T11:02:39.814Z"
   },
   {
    "duration": 26,
    "start_time": "2022-03-08T11:02:39.835Z"
   },
   {
    "duration": 3,
    "start_time": "2022-03-08T11:02:39.863Z"
   },
   {
    "duration": 20,
    "start_time": "2022-03-08T11:02:39.868Z"
   },
   {
    "duration": 24,
    "start_time": "2022-03-08T11:02:39.891Z"
   },
   {
    "duration": 9,
    "start_time": "2022-03-08T11:02:39.917Z"
   },
   {
    "duration": 30,
    "start_time": "2022-03-08T11:02:39.929Z"
   },
   {
    "duration": 85,
    "start_time": "2022-03-08T11:02:39.961Z"
   },
   {
    "duration": 51,
    "start_time": "2022-03-08T11:02:40.048Z"
   },
   {
    "duration": 16,
    "start_time": "2022-03-08T11:02:40.101Z"
   },
   {
    "duration": 3,
    "start_time": "2022-03-08T11:02:40.122Z"
   },
   {
    "duration": 6,
    "start_time": "2022-03-08T11:02:40.128Z"
   },
   {
    "duration": 15,
    "start_time": "2022-03-08T11:02:40.136Z"
   },
   {
    "duration": 6,
    "start_time": "2022-03-08T11:02:40.153Z"
   },
   {
    "duration": 10,
    "start_time": "2022-03-08T11:02:40.188Z"
   },
   {
    "duration": 794,
    "start_time": "2022-03-08T11:02:40.200Z"
   },
   {
    "duration": 1165,
    "start_time": "2022-03-08T11:02:40.996Z"
   },
   {
    "duration": 1076,
    "start_time": "2022-03-08T11:02:42.163Z"
   },
   {
    "duration": 5,
    "start_time": "2022-03-08T11:02:43.242Z"
   },
   {
    "duration": 19,
    "start_time": "2022-03-08T11:02:43.250Z"
   },
   {
    "duration": 338,
    "start_time": "2022-03-08T11:02:43.271Z"
   },
   {
    "duration": 9,
    "start_time": "2022-03-08T11:02:43.611Z"
   },
   {
    "duration": 25,
    "start_time": "2022-03-08T11:02:43.622Z"
   },
   {
    "duration": 488,
    "start_time": "2022-03-08T11:02:43.649Z"
   },
   {
    "duration": 10,
    "start_time": "2022-03-08T11:02:44.140Z"
   },
   {
    "duration": 194,
    "start_time": "2022-03-08T11:02:44.152Z"
   },
   {
    "duration": 11,
    "start_time": "2022-03-08T11:02:44.348Z"
   },
   {
    "duration": 289,
    "start_time": "2022-03-08T11:02:44.361Z"
   },
   {
    "duration": 5,
    "start_time": "2022-03-08T11:02:44.652Z"
   },
   {
    "duration": 15470,
    "start_time": "2022-03-08T11:02:44.659Z"
   },
   {
    "duration": 3,
    "start_time": "2022-03-08T11:03:00.131Z"
   },
   {
    "duration": 736,
    "start_time": "2022-03-08T11:03:00.136Z"
   },
   {
    "duration": 34,
    "start_time": "2022-03-08T11:03:00.875Z"
   },
   {
    "duration": 7,
    "start_time": "2022-03-08T11:03:56.038Z"
   },
   {
    "duration": 669,
    "start_time": "2022-03-08T11:03:57.066Z"
   },
   {
    "duration": 26,
    "start_time": "2022-03-08T11:04:04.979Z"
   },
   {
    "duration": 1546,
    "start_time": "2022-03-08T11:05:46.498Z"
   },
   {
    "duration": 41,
    "start_time": "2022-03-08T11:05:48.046Z"
   },
   {
    "duration": 10,
    "start_time": "2022-03-08T11:05:48.090Z"
   },
   {
    "duration": 18,
    "start_time": "2022-03-08T11:05:48.103Z"
   },
   {
    "duration": 5,
    "start_time": "2022-03-08T11:05:48.123Z"
   },
   {
    "duration": 18,
    "start_time": "2022-03-08T11:05:48.130Z"
   },
   {
    "duration": 50,
    "start_time": "2022-03-08T11:05:48.150Z"
   },
   {
    "duration": 20,
    "start_time": "2022-03-08T11:05:48.204Z"
   },
   {
    "duration": 100,
    "start_time": "2022-03-08T11:05:48.226Z"
   },
   {
    "duration": 7,
    "start_time": "2022-03-08T11:05:48.328Z"
   },
   {
    "duration": 63,
    "start_time": "2022-03-08T11:05:48.337Z"
   },
   {
    "duration": 8,
    "start_time": "2022-03-08T11:05:48.402Z"
   },
   {
    "duration": 20,
    "start_time": "2022-03-08T11:05:48.412Z"
   },
   {
    "duration": 8,
    "start_time": "2022-03-08T11:05:48.434Z"
   },
   {
    "duration": 49,
    "start_time": "2022-03-08T11:05:48.444Z"
   },
   {
    "duration": 8,
    "start_time": "2022-03-08T11:05:48.495Z"
   },
   {
    "duration": 4,
    "start_time": "2022-03-08T11:05:48.505Z"
   },
   {
    "duration": 15,
    "start_time": "2022-03-08T11:05:48.512Z"
   },
   {
    "duration": 4,
    "start_time": "2022-03-08T11:05:48.529Z"
   },
   {
    "duration": 10,
    "start_time": "2022-03-08T11:05:48.535Z"
   },
   {
    "duration": 50,
    "start_time": "2022-03-08T11:05:48.547Z"
   },
   {
    "duration": 10,
    "start_time": "2022-03-08T11:05:48.599Z"
   },
   {
    "duration": 21,
    "start_time": "2022-03-08T11:05:48.614Z"
   },
   {
    "duration": 122,
    "start_time": "2022-03-08T11:05:48.638Z"
   },
   {
    "duration": 46,
    "start_time": "2022-03-08T11:05:48.763Z"
   },
   {
    "duration": 18,
    "start_time": "2022-03-08T11:05:48.811Z"
   },
   {
    "duration": 4,
    "start_time": "2022-03-08T11:05:48.831Z"
   },
   {
    "duration": 9,
    "start_time": "2022-03-08T11:05:48.838Z"
   },
   {
    "duration": 47,
    "start_time": "2022-03-08T11:05:48.849Z"
   },
   {
    "duration": 5,
    "start_time": "2022-03-08T11:05:48.898Z"
   },
   {
    "duration": 12,
    "start_time": "2022-03-08T11:05:48.906Z"
   },
   {
    "duration": 769,
    "start_time": "2022-03-08T11:05:48.920Z"
   },
   {
    "duration": 1161,
    "start_time": "2022-03-08T11:05:49.691Z"
   },
   {
    "duration": 1282,
    "start_time": "2022-03-08T11:05:50.855Z"
   },
   {
    "duration": 7,
    "start_time": "2022-03-08T11:05:52.139Z"
   },
   {
    "duration": 16,
    "start_time": "2022-03-08T11:05:52.149Z"
   },
   {
    "duration": 334,
    "start_time": "2022-03-08T11:05:52.186Z"
   },
   {
    "duration": 12,
    "start_time": "2022-03-08T11:05:52.523Z"
   },
   {
    "duration": 14,
    "start_time": "2022-03-08T11:05:52.537Z"
   },
   {
    "duration": 495,
    "start_time": "2022-03-08T11:05:52.554Z"
   },
   {
    "duration": 10,
    "start_time": "2022-03-08T11:05:53.051Z"
   },
   {
    "duration": 205,
    "start_time": "2022-03-08T11:05:53.063Z"
   },
   {
    "duration": 22,
    "start_time": "2022-03-08T11:05:53.271Z"
   },
   {
    "duration": 276,
    "start_time": "2022-03-08T11:05:53.295Z"
   },
   {
    "duration": 4,
    "start_time": "2022-03-08T11:05:53.574Z"
   },
   {
    "duration": 15867,
    "start_time": "2022-03-08T11:05:53.587Z"
   },
   {
    "duration": 2,
    "start_time": "2022-03-08T11:06:09.457Z"
   },
   {
    "duration": 691,
    "start_time": "2022-03-08T11:06:09.461Z"
   },
   {
    "duration": 45,
    "start_time": "2022-03-08T11:06:10.155Z"
   },
   {
    "duration": 1498,
    "start_time": "2022-03-08T11:10:17.441Z"
   },
   {
    "duration": 37,
    "start_time": "2022-03-08T11:10:18.942Z"
   },
   {
    "duration": 11,
    "start_time": "2022-03-08T11:10:18.987Z"
   },
   {
    "duration": 15,
    "start_time": "2022-03-08T11:10:19.000Z"
   },
   {
    "duration": 5,
    "start_time": "2022-03-08T11:10:19.017Z"
   },
   {
    "duration": 10,
    "start_time": "2022-03-08T11:10:19.025Z"
   },
   {
    "duration": 61,
    "start_time": "2022-03-08T11:10:19.037Z"
   },
   {
    "duration": 19,
    "start_time": "2022-03-08T11:10:19.100Z"
   },
   {
    "duration": 96,
    "start_time": "2022-03-08T11:10:19.123Z"
   },
   {
    "duration": 7,
    "start_time": "2022-03-08T11:10:19.222Z"
   },
   {
    "duration": 71,
    "start_time": "2022-03-08T11:10:19.232Z"
   },
   {
    "duration": 7,
    "start_time": "2022-03-08T11:10:19.306Z"
   },
   {
    "duration": 22,
    "start_time": "2022-03-08T11:10:19.316Z"
   },
   {
    "duration": 9,
    "start_time": "2022-03-08T11:10:19.341Z"
   },
   {
    "duration": 17,
    "start_time": "2022-03-08T11:10:19.388Z"
   },
   {
    "duration": 8,
    "start_time": "2022-03-08T11:10:19.408Z"
   },
   {
    "duration": 7,
    "start_time": "2022-03-08T11:10:19.418Z"
   },
   {
    "duration": 21,
    "start_time": "2022-03-08T11:10:19.427Z"
   },
   {
    "duration": 4,
    "start_time": "2022-03-08T11:10:19.451Z"
   },
   {
    "duration": 9,
    "start_time": "2022-03-08T11:10:19.488Z"
   },
   {
    "duration": 15,
    "start_time": "2022-03-08T11:10:19.500Z"
   },
   {
    "duration": 10,
    "start_time": "2022-03-08T11:10:19.518Z"
   },
   {
    "duration": 71,
    "start_time": "2022-03-08T11:10:19.531Z"
   },
   {
    "duration": 92,
    "start_time": "2022-03-08T11:10:19.604Z"
   },
   {
    "duration": 33,
    "start_time": "2022-03-08T11:10:19.698Z"
   },
   {
    "duration": 17,
    "start_time": "2022-03-08T11:10:19.733Z"
   },
   {
    "duration": 4,
    "start_time": "2022-03-08T11:10:19.788Z"
   },
   {
    "duration": 7,
    "start_time": "2022-03-08T11:10:19.795Z"
   },
   {
    "duration": 15,
    "start_time": "2022-03-08T11:10:19.805Z"
   },
   {
    "duration": 5,
    "start_time": "2022-03-08T11:10:19.822Z"
   },
   {
    "duration": 14,
    "start_time": "2022-03-08T11:10:19.830Z"
   },
   {
    "duration": 789,
    "start_time": "2022-03-08T11:10:19.847Z"
   },
   {
    "duration": 1191,
    "start_time": "2022-03-08T11:10:20.639Z"
   },
   {
    "duration": 1118,
    "start_time": "2022-03-08T11:10:21.833Z"
   },
   {
    "duration": 6,
    "start_time": "2022-03-08T11:10:22.953Z"
   },
   {
    "duration": 25,
    "start_time": "2022-03-08T11:10:22.962Z"
   },
   {
    "duration": 329,
    "start_time": "2022-03-08T11:10:22.990Z"
   },
   {
    "duration": 9,
    "start_time": "2022-03-08T11:10:23.321Z"
   },
   {
    "duration": 18,
    "start_time": "2022-03-08T11:10:23.332Z"
   },
   {
    "duration": 485,
    "start_time": "2022-03-08T11:10:23.352Z"
   },
   {
    "duration": 9,
    "start_time": "2022-03-08T11:10:23.840Z"
   },
   {
    "duration": 181,
    "start_time": "2022-03-08T11:10:23.851Z"
   },
   {
    "duration": 10,
    "start_time": "2022-03-08T11:10:24.035Z"
   },
   {
    "duration": 283,
    "start_time": "2022-03-08T11:10:24.047Z"
   },
   {
    "duration": 4,
    "start_time": "2022-03-08T11:10:24.332Z"
   },
   {
    "duration": 15463,
    "start_time": "2022-03-08T11:10:24.339Z"
   },
   {
    "duration": 3,
    "start_time": "2022-03-08T11:10:39.805Z"
   },
   {
    "duration": 707,
    "start_time": "2022-03-08T11:10:39.810Z"
   },
   {
    "duration": 24,
    "start_time": "2022-03-08T11:10:40.520Z"
   },
   {
    "duration": 11,
    "start_time": "2022-03-08T11:11:50.151Z"
   },
   {
    "duration": 723,
    "start_time": "2022-03-08T11:11:51.380Z"
   },
   {
    "duration": 11,
    "start_time": "2022-03-08T11:12:20.988Z"
   },
   {
    "duration": 515,
    "start_time": "2022-03-08T11:12:21.962Z"
   },
   {
    "duration": 2478,
    "start_time": "2022-03-08T11:12:27.422Z"
   },
   {
    "duration": 1336,
    "start_time": "2022-03-08T11:12:30.800Z"
   },
   {
    "duration": 287,
    "start_time": "2022-03-08T11:12:55.740Z"
   },
   {
    "duration": 11,
    "start_time": "2022-03-08T11:13:15.362Z"
   },
   {
    "duration": 263,
    "start_time": "2022-03-08T11:13:15.892Z"
   },
   {
    "duration": 1603,
    "start_time": "2022-03-08T11:14:14.364Z"
   },
   {
    "duration": 39,
    "start_time": "2022-03-08T11:14:15.970Z"
   },
   {
    "duration": 12,
    "start_time": "2022-03-08T11:14:16.011Z"
   },
   {
    "duration": 18,
    "start_time": "2022-03-08T11:14:16.026Z"
   },
   {
    "duration": 4,
    "start_time": "2022-03-08T11:14:16.047Z"
   },
   {
    "duration": 38,
    "start_time": "2022-03-08T11:14:16.054Z"
   },
   {
    "duration": 22,
    "start_time": "2022-03-08T11:14:16.095Z"
   },
   {
    "duration": 23,
    "start_time": "2022-03-08T11:14:16.120Z"
   },
   {
    "duration": 108,
    "start_time": "2022-03-08T11:14:16.147Z"
   },
   {
    "duration": 6,
    "start_time": "2022-03-08T11:14:16.258Z"
   },
   {
    "duration": 42,
    "start_time": "2022-03-08T11:14:16.288Z"
   },
   {
    "duration": 8,
    "start_time": "2022-03-08T11:14:16.332Z"
   },
   {
    "duration": 51,
    "start_time": "2022-03-08T11:14:16.342Z"
   },
   {
    "duration": 8,
    "start_time": "2022-03-08T11:14:16.396Z"
   },
   {
    "duration": 13,
    "start_time": "2022-03-08T11:14:16.406Z"
   },
   {
    "duration": 8,
    "start_time": "2022-03-08T11:14:16.421Z"
   },
   {
    "duration": 9,
    "start_time": "2022-03-08T11:14:16.431Z"
   },
   {
    "duration": 54,
    "start_time": "2022-03-08T11:14:16.442Z"
   },
   {
    "duration": 3,
    "start_time": "2022-03-08T11:14:16.498Z"
   },
   {
    "duration": 7,
    "start_time": "2022-03-08T11:14:16.503Z"
   },
   {
    "duration": 14,
    "start_time": "2022-03-08T11:14:16.512Z"
   },
   {
    "duration": 9,
    "start_time": "2022-03-08T11:14:16.529Z"
   },
   {
    "duration": 63,
    "start_time": "2022-03-08T11:14:16.540Z"
   },
   {
    "duration": 94,
    "start_time": "2022-03-08T11:14:16.605Z"
   },
   {
    "duration": 34,
    "start_time": "2022-03-08T11:14:16.701Z"
   },
   {
    "duration": 17,
    "start_time": "2022-03-08T11:14:16.737Z"
   },
   {
    "duration": 3,
    "start_time": "2022-03-08T11:14:16.788Z"
   },
   {
    "duration": 7,
    "start_time": "2022-03-08T11:14:16.794Z"
   },
   {
    "duration": 12,
    "start_time": "2022-03-08T11:14:16.804Z"
   },
   {
    "duration": 4,
    "start_time": "2022-03-08T11:14:16.819Z"
   },
   {
    "duration": 22,
    "start_time": "2022-03-08T11:14:16.826Z"
   },
   {
    "duration": 542,
    "start_time": "2022-03-08T11:14:16.851Z"
   },
   {
    "duration": 2575,
    "start_time": "2022-03-08T11:14:17.396Z"
   },
   {
    "duration": 1273,
    "start_time": "2022-03-08T11:14:19.974Z"
   },
   {
    "duration": 5,
    "start_time": "2022-03-08T11:14:21.249Z"
   },
   {
    "duration": 30,
    "start_time": "2022-03-08T11:14:21.257Z"
   },
   {
    "duration": 337,
    "start_time": "2022-03-08T11:14:21.290Z"
   },
   {
    "duration": 8,
    "start_time": "2022-03-08T11:14:21.630Z"
   },
   {
    "duration": 15,
    "start_time": "2022-03-08T11:14:21.640Z"
   },
   {
    "duration": 498,
    "start_time": "2022-03-08T11:14:21.657Z"
   },
   {
    "duration": 10,
    "start_time": "2022-03-08T11:14:22.158Z"
   },
   {
    "duration": 196,
    "start_time": "2022-03-08T11:14:22.170Z"
   },
   {
    "duration": 19,
    "start_time": "2022-03-08T11:14:22.368Z"
   },
   {
    "duration": 278,
    "start_time": "2022-03-08T11:14:22.389Z"
   },
   {
    "duration": 4,
    "start_time": "2022-03-08T11:14:22.670Z"
   },
   {
    "duration": 15751,
    "start_time": "2022-03-08T11:14:22.676Z"
   },
   {
    "duration": 2,
    "start_time": "2022-03-08T11:14:38.429Z"
   },
   {
    "duration": 724,
    "start_time": "2022-03-08T11:14:38.434Z"
   },
   {
    "duration": 37,
    "start_time": "2022-03-08T11:14:39.160Z"
   },
   {
    "duration": 1553,
    "start_time": "2022-03-08T11:15:31.799Z"
   },
   {
    "duration": 39,
    "start_time": "2022-03-08T11:15:33.355Z"
   },
   {
    "duration": 11,
    "start_time": "2022-03-08T11:15:33.397Z"
   },
   {
    "duration": 16,
    "start_time": "2022-03-08T11:15:33.410Z"
   },
   {
    "duration": 5,
    "start_time": "2022-03-08T11:15:33.429Z"
   },
   {
    "duration": 14,
    "start_time": "2022-03-08T11:15:33.437Z"
   },
   {
    "duration": 23,
    "start_time": "2022-03-08T11:15:33.487Z"
   },
   {
    "duration": 24,
    "start_time": "2022-03-08T11:15:33.512Z"
   },
   {
    "duration": 104,
    "start_time": "2022-03-08T11:15:33.540Z"
   },
   {
    "duration": 7,
    "start_time": "2022-03-08T11:15:33.648Z"
   },
   {
    "duration": 68,
    "start_time": "2022-03-08T11:15:33.658Z"
   },
   {
    "duration": 11,
    "start_time": "2022-03-08T11:15:33.728Z"
   },
   {
    "duration": 53,
    "start_time": "2022-03-08T11:15:33.741Z"
   },
   {
    "duration": 10,
    "start_time": "2022-03-08T11:15:33.796Z"
   },
   {
    "duration": 17,
    "start_time": "2022-03-08T11:15:33.809Z"
   },
   {
    "duration": 8,
    "start_time": "2022-03-08T11:15:33.828Z"
   },
   {
    "duration": 10,
    "start_time": "2022-03-08T11:15:33.838Z"
   },
   {
    "duration": 47,
    "start_time": "2022-03-08T11:15:33.850Z"
   },
   {
    "duration": 4,
    "start_time": "2022-03-08T11:15:33.899Z"
   },
   {
    "duration": 9,
    "start_time": "2022-03-08T11:15:33.906Z"
   },
   {
    "duration": 13,
    "start_time": "2022-03-08T11:15:33.917Z"
   },
   {
    "duration": 8,
    "start_time": "2022-03-08T11:15:33.933Z"
   },
   {
    "duration": 60,
    "start_time": "2022-03-08T11:15:33.943Z"
   },
   {
    "duration": 84,
    "start_time": "2022-03-08T11:15:34.006Z"
   },
   {
    "duration": 34,
    "start_time": "2022-03-08T11:15:34.092Z"
   },
   {
    "duration": 17,
    "start_time": "2022-03-08T11:15:34.128Z"
   },
   {
    "duration": 8,
    "start_time": "2022-03-08T11:15:34.151Z"
   },
   {
    "duration": 6,
    "start_time": "2022-03-08T11:15:34.188Z"
   },
   {
    "duration": 29,
    "start_time": "2022-03-08T11:15:34.196Z"
   },
   {
    "duration": 6,
    "start_time": "2022-03-08T11:15:34.227Z"
   },
   {
    "duration": 21,
    "start_time": "2022-03-08T11:15:34.235Z"
   },
   {
    "duration": 552,
    "start_time": "2022-03-08T11:15:34.259Z"
   },
   {
    "duration": 2790,
    "start_time": "2022-03-08T11:15:34.813Z"
   },
   {
    "duration": 1175,
    "start_time": "2022-03-08T11:15:37.605Z"
   },
   {
    "duration": 7,
    "start_time": "2022-03-08T11:15:38.788Z"
   },
   {
    "duration": 10,
    "start_time": "2022-03-08T11:15:38.797Z"
   },
   {
    "duration": 6,
    "start_time": "2022-03-08T11:15:38.810Z"
   },
   {
    "duration": 12,
    "start_time": "2022-03-08T11:15:38.819Z"
   },
   {
    "duration": 16,
    "start_time": "2022-03-08T11:15:38.833Z"
   },
   {
    "duration": 515,
    "start_time": "2022-03-08T11:15:38.852Z"
   },
   {
    "duration": 19,
    "start_time": "2022-03-08T11:15:39.370Z"
   },
   {
    "duration": 191,
    "start_time": "2022-03-08T11:15:39.392Z"
   },
   {
    "duration": 10,
    "start_time": "2022-03-08T11:15:39.586Z"
   },
   {
    "duration": 289,
    "start_time": "2022-03-08T11:15:39.599Z"
   },
   {
    "duration": 4,
    "start_time": "2022-03-08T11:15:39.891Z"
   },
   {
    "duration": 15574,
    "start_time": "2022-03-08T11:15:39.897Z"
   },
   {
    "duration": 3,
    "start_time": "2022-03-08T11:15:55.473Z"
   },
   {
    "duration": 709,
    "start_time": "2022-03-08T11:15:55.478Z"
   },
   {
    "duration": 25,
    "start_time": "2022-03-08T11:15:56.189Z"
   },
   {
    "duration": 1520,
    "start_time": "2022-03-08T11:18:19.231Z"
   },
   {
    "duration": 45,
    "start_time": "2022-03-08T11:18:20.754Z"
   },
   {
    "duration": 10,
    "start_time": "2022-03-08T11:18:20.802Z"
   },
   {
    "duration": 25,
    "start_time": "2022-03-08T11:18:20.815Z"
   },
   {
    "duration": 5,
    "start_time": "2022-03-08T11:18:20.842Z"
   },
   {
    "duration": 39,
    "start_time": "2022-03-08T11:18:20.850Z"
   },
   {
    "duration": 20,
    "start_time": "2022-03-08T11:18:20.892Z"
   },
   {
    "duration": 37,
    "start_time": "2022-03-08T11:18:20.916Z"
   },
   {
    "duration": 86,
    "start_time": "2022-03-08T11:18:20.957Z"
   },
   {
    "duration": 7,
    "start_time": "2022-03-08T11:18:21.047Z"
   },
   {
    "duration": 66,
    "start_time": "2022-03-08T11:18:21.056Z"
   },
   {
    "duration": 7,
    "start_time": "2022-03-08T11:18:21.124Z"
   },
   {
    "duration": 20,
    "start_time": "2022-03-08T11:18:21.133Z"
   },
   {
    "duration": 37,
    "start_time": "2022-03-08T11:18:21.155Z"
   },
   {
    "duration": 15,
    "start_time": "2022-03-08T11:18:21.195Z"
   },
   {
    "duration": 10,
    "start_time": "2022-03-08T11:18:21.213Z"
   },
   {
    "duration": 5,
    "start_time": "2022-03-08T11:18:21.226Z"
   },
   {
    "duration": 61,
    "start_time": "2022-03-08T11:18:21.234Z"
   },
   {
    "duration": 3,
    "start_time": "2022-03-08T11:18:21.298Z"
   },
   {
    "duration": 9,
    "start_time": "2022-03-08T11:18:21.304Z"
   },
   {
    "duration": 14,
    "start_time": "2022-03-08T11:18:21.315Z"
   },
   {
    "duration": 10,
    "start_time": "2022-03-08T11:18:21.332Z"
   },
   {
    "duration": 58,
    "start_time": "2022-03-08T11:18:21.344Z"
   },
   {
    "duration": 90,
    "start_time": "2022-03-08T11:18:21.404Z"
   },
   {
    "duration": 34,
    "start_time": "2022-03-08T11:18:21.497Z"
   },
   {
    "duration": 16,
    "start_time": "2022-03-08T11:18:21.533Z"
   },
   {
    "duration": 2,
    "start_time": "2022-03-08T11:18:21.555Z"
   },
   {
    "duration": 6,
    "start_time": "2022-03-08T11:18:21.587Z"
   },
   {
    "duration": 14,
    "start_time": "2022-03-08T11:18:21.596Z"
   },
   {
    "duration": 4,
    "start_time": "2022-03-08T11:18:21.612Z"
   },
   {
    "duration": 11,
    "start_time": "2022-03-08T11:18:21.619Z"
   },
   {
    "duration": 533,
    "start_time": "2022-03-08T11:18:21.632Z"
   },
   {
    "duration": 2481,
    "start_time": "2022-03-08T11:18:22.167Z"
   },
   {
    "duration": 1089,
    "start_time": "2022-03-08T11:18:24.650Z"
   },
   {
    "duration": 6,
    "start_time": "2022-03-08T11:18:25.741Z"
   },
   {
    "duration": 17,
    "start_time": "2022-03-08T11:18:25.749Z"
   },
   {
    "duration": 341,
    "start_time": "2022-03-08T11:18:25.769Z"
   },
   {
    "duration": 8,
    "start_time": "2022-03-08T11:18:26.112Z"
   },
   {
    "duration": 15,
    "start_time": "2022-03-08T11:18:26.122Z"
   },
   {
    "duration": 490,
    "start_time": "2022-03-08T11:18:26.139Z"
   },
   {
    "duration": 9,
    "start_time": "2022-03-08T11:18:26.631Z"
   },
   {
    "duration": 187,
    "start_time": "2022-03-08T11:18:26.642Z"
   },
   {
    "duration": 10,
    "start_time": "2022-03-08T11:18:26.832Z"
   },
   {
    "duration": 286,
    "start_time": "2022-03-08T11:18:26.844Z"
   },
   {
    "duration": 4,
    "start_time": "2022-03-08T11:18:27.132Z"
   },
   {
    "duration": 15505,
    "start_time": "2022-03-08T11:18:27.139Z"
   },
   {
    "duration": 3,
    "start_time": "2022-03-08T11:18:42.646Z"
   },
   {
    "duration": 736,
    "start_time": "2022-03-08T11:18:42.651Z"
   },
   {
    "duration": 27,
    "start_time": "2022-03-08T11:18:43.389Z"
   },
   {
    "duration": 5,
    "start_time": "2022-03-08T11:20:49.636Z"
   },
   {
    "duration": 5,
    "start_time": "2022-03-08T11:21:10.735Z"
   },
   {
    "duration": 5,
    "start_time": "2022-03-08T11:22:06.156Z"
   },
   {
    "duration": 5,
    "start_time": "2022-03-08T11:24:34.694Z"
   },
   {
    "duration": 5,
    "start_time": "2022-03-08T11:24:43.194Z"
   },
   {
    "duration": 5,
    "start_time": "2022-03-08T11:24:55.194Z"
   },
   {
    "duration": 11,
    "start_time": "2022-03-08T11:25:02.883Z"
   },
   {
    "duration": 5,
    "start_time": "2022-03-08T11:25:07.795Z"
   },
   {
    "duration": 5,
    "start_time": "2022-03-08T11:25:19.874Z"
   },
   {
    "duration": 4,
    "start_time": "2022-03-08T11:26:50.114Z"
   },
   {
    "duration": 911,
    "start_time": "2022-03-08T11:26:50.934Z"
   },
   {
    "duration": 6,
    "start_time": "2022-03-08T11:27:24.170Z"
   },
   {
    "duration": 10,
    "start_time": "2022-03-08T11:27:25.674Z"
   },
   {
    "duration": 161,
    "start_time": "2022-03-08T11:27:26.514Z"
   },
   {
    "duration": 5,
    "start_time": "2022-03-08T11:28:47.336Z"
   },
   {
    "duration": 6,
    "start_time": "2022-03-08T11:29:09.654Z"
   },
   {
    "duration": 5,
    "start_time": "2022-03-08T11:29:22.474Z"
   },
   {
    "duration": 5,
    "start_time": "2022-03-08T11:30:42.154Z"
   },
   {
    "duration": 951,
    "start_time": "2022-03-08T11:30:42.895Z"
   },
   {
    "duration": 414,
    "start_time": "2022-03-08T11:31:06.962Z"
   },
   {
    "duration": 9,
    "start_time": "2022-03-08T11:31:14.455Z"
   },
   {
    "duration": 283,
    "start_time": "2022-03-08T11:31:29.624Z"
   },
   {
    "duration": 416,
    "start_time": "2022-03-08T11:31:53.524Z"
   },
   {
    "duration": 9,
    "start_time": "2022-03-08T11:31:56.734Z"
   },
   {
    "duration": 8,
    "start_time": "2022-03-08T11:32:07.156Z"
   },
   {
    "duration": 423,
    "start_time": "2022-03-08T11:32:10.397Z"
   },
   {
    "duration": 10,
    "start_time": "2022-03-08T11:32:17.554Z"
   },
   {
    "duration": 86,
    "start_time": "2022-03-08T11:36:55.224Z"
   },
   {
    "duration": 272,
    "start_time": "2022-03-08T11:41:12.554Z"
   },
   {
    "duration": 21339,
    "start_time": "2022-03-08T11:41:25.274Z"
   },
   {
    "duration": 25108,
    "start_time": "2022-03-08T11:42:44.356Z"
   },
   {
    "duration": -3270,
    "start_time": "2022-03-08T11:44:50.016Z"
   },
   {
    "duration": 354845,
    "start_time": "2022-03-08T11:44:49.278Z"
   },
   {
    "duration": 280,
    "start_time": "2022-03-08T11:55:45.756Z"
   },
   {
    "duration": 278,
    "start_time": "2022-03-08T11:55:54.394Z"
   },
   {
    "duration": 17,
    "start_time": "2022-03-08T11:57:05.594Z"
   },
   {
    "duration": 15,
    "start_time": "2022-03-08T11:57:46.464Z"
   },
   {
    "duration": 16,
    "start_time": "2022-03-08T11:58:31.433Z"
   },
   {
    "duration": 1540,
    "start_time": "2022-03-08T11:58:54.998Z"
   },
   {
    "duration": 39,
    "start_time": "2022-03-08T11:58:56.541Z"
   },
   {
    "duration": 11,
    "start_time": "2022-03-08T11:58:56.583Z"
   },
   {
    "duration": 21,
    "start_time": "2022-03-08T11:58:56.596Z"
   },
   {
    "duration": 16,
    "start_time": "2022-03-08T11:58:56.619Z"
   },
   {
    "duration": 15,
    "start_time": "2022-03-08T11:58:56.637Z"
   },
   {
    "duration": 47,
    "start_time": "2022-03-08T11:58:56.655Z"
   },
   {
    "duration": 30,
    "start_time": "2022-03-08T11:58:56.704Z"
   },
   {
    "duration": 91,
    "start_time": "2022-03-08T11:58:56.738Z"
   },
   {
    "duration": 6,
    "start_time": "2022-03-08T11:58:56.832Z"
   },
   {
    "duration": 62,
    "start_time": "2022-03-08T11:58:56.840Z"
   },
   {
    "duration": 7,
    "start_time": "2022-03-08T11:58:56.904Z"
   },
   {
    "duration": 19,
    "start_time": "2022-03-08T11:58:56.914Z"
   },
   {
    "duration": 8,
    "start_time": "2022-03-08T11:58:56.935Z"
   },
   {
    "duration": 51,
    "start_time": "2022-03-08T11:58:56.945Z"
   },
   {
    "duration": 8,
    "start_time": "2022-03-08T11:58:56.999Z"
   },
   {
    "duration": 5,
    "start_time": "2022-03-08T11:58:57.009Z"
   },
   {
    "duration": 16,
    "start_time": "2022-03-08T11:58:57.016Z"
   },
   {
    "duration": 4,
    "start_time": "2022-03-08T11:58:57.034Z"
   },
   {
    "duration": 46,
    "start_time": "2022-03-08T11:58:57.040Z"
   },
   {
    "duration": 17,
    "start_time": "2022-03-08T11:58:57.089Z"
   },
   {
    "duration": 9,
    "start_time": "2022-03-08T11:58:57.108Z"
   },
   {
    "duration": 23,
    "start_time": "2022-03-08T11:58:57.120Z"
   },
   {
    "duration": 99,
    "start_time": "2022-03-08T11:58:57.145Z"
   },
   {
    "duration": 54,
    "start_time": "2022-03-08T11:58:57.246Z"
   },
   {
    "duration": 17,
    "start_time": "2022-03-08T11:58:57.302Z"
   },
   {
    "duration": 6,
    "start_time": "2022-03-08T11:58:57.323Z"
   },
   {
    "duration": 7,
    "start_time": "2022-03-08T11:58:57.332Z"
   },
   {
    "duration": 12,
    "start_time": "2022-03-08T11:58:57.341Z"
   },
   {
    "duration": 32,
    "start_time": "2022-03-08T11:58:57.355Z"
   },
   {
    "duration": 11,
    "start_time": "2022-03-08T11:58:57.390Z"
   },
   {
    "duration": 520,
    "start_time": "2022-03-08T11:58:57.403Z"
   },
   {
    "duration": 2472,
    "start_time": "2022-03-08T11:58:57.926Z"
   },
   {
    "duration": 1041,
    "start_time": "2022-03-08T11:59:00.400Z"
   },
   {
    "duration": 6,
    "start_time": "2022-03-08T11:59:01.443Z"
   },
   {
    "duration": 38,
    "start_time": "2022-03-08T11:59:01.452Z"
   },
   {
    "duration": 187,
    "start_time": "2022-03-08T11:59:01.492Z"
   },
   {
    "duration": 10,
    "start_time": "2022-03-08T11:59:01.686Z"
   },
   {
    "duration": 20,
    "start_time": "2022-03-08T11:59:01.699Z"
   },
   {
    "duration": 253,
    "start_time": "2022-03-08T11:59:01.721Z"
   },
   {
    "duration": 18,
    "start_time": "2022-03-08T11:59:01.976Z"
   },
   {
    "duration": 123,
    "start_time": "2022-03-08T11:59:01.996Z"
   },
   {
    "duration": 11,
    "start_time": "2022-03-08T11:59:02.121Z"
   },
   {
    "duration": 169,
    "start_time": "2022-03-08T11:59:02.134Z"
   },
   {
    "duration": 1525,
    "start_time": "2022-03-08T11:59:36.696Z"
   },
   {
    "duration": 39,
    "start_time": "2022-03-08T11:59:38.224Z"
   },
   {
    "duration": 23,
    "start_time": "2022-03-08T11:59:38.266Z"
   },
   {
    "duration": 18,
    "start_time": "2022-03-08T11:59:38.292Z"
   },
   {
    "duration": 5,
    "start_time": "2022-03-08T11:59:38.312Z"
   },
   {
    "duration": 11,
    "start_time": "2022-03-08T11:59:38.319Z"
   },
   {
    "duration": 58,
    "start_time": "2022-03-08T11:59:38.332Z"
   },
   {
    "duration": 23,
    "start_time": "2022-03-08T11:59:38.392Z"
   },
   {
    "duration": 90,
    "start_time": "2022-03-08T11:59:38.419Z"
   },
   {
    "duration": 7,
    "start_time": "2022-03-08T11:59:38.512Z"
   },
   {
    "duration": 70,
    "start_time": "2022-03-08T11:59:38.521Z"
   },
   {
    "duration": 7,
    "start_time": "2022-03-08T11:59:38.593Z"
   },
   {
    "duration": 21,
    "start_time": "2022-03-08T11:59:38.603Z"
   },
   {
    "duration": 11,
    "start_time": "2022-03-08T11:59:38.627Z"
   },
   {
    "duration": 51,
    "start_time": "2022-03-08T11:59:38.641Z"
   },
   {
    "duration": 28,
    "start_time": "2022-03-08T11:59:38.694Z"
   },
   {
    "duration": 26,
    "start_time": "2022-03-08T11:59:38.725Z"
   },
   {
    "duration": 15,
    "start_time": "2022-03-08T11:59:38.754Z"
   },
   {
    "duration": 4,
    "start_time": "2022-03-08T11:59:38.772Z"
   },
   {
    "duration": 10,
    "start_time": "2022-03-08T11:59:38.779Z"
   },
   {
    "duration": 13,
    "start_time": "2022-03-08T11:59:38.791Z"
   },
   {
    "duration": 9,
    "start_time": "2022-03-08T11:59:38.806Z"
   },
   {
    "duration": 27,
    "start_time": "2022-03-08T11:59:38.817Z"
   },
   {
    "duration": 98,
    "start_time": "2022-03-08T11:59:38.847Z"
   },
   {
    "duration": 54,
    "start_time": "2022-03-08T11:59:38.948Z"
   },
   {
    "duration": 19,
    "start_time": "2022-03-08T11:59:39.005Z"
   },
   {
    "duration": 3,
    "start_time": "2022-03-08T11:59:39.031Z"
   },
   {
    "duration": 6,
    "start_time": "2022-03-08T11:59:39.038Z"
   },
   {
    "duration": 44,
    "start_time": "2022-03-08T11:59:39.047Z"
   },
   {
    "duration": 5,
    "start_time": "2022-03-08T11:59:39.093Z"
   },
   {
    "duration": 11,
    "start_time": "2022-03-08T11:59:39.100Z"
   },
   {
    "duration": 523,
    "start_time": "2022-03-08T11:59:39.113Z"
   },
   {
    "duration": 2433,
    "start_time": "2022-03-08T11:59:39.639Z"
   },
   {
    "duration": 1268,
    "start_time": "2022-03-08T11:59:42.074Z"
   },
   {
    "duration": 6,
    "start_time": "2022-03-08T11:59:43.344Z"
   },
   {
    "duration": 22,
    "start_time": "2022-03-08T11:59:43.352Z"
   },
   {
    "duration": 175,
    "start_time": "2022-03-08T11:59:43.376Z"
   },
   {
    "duration": 8,
    "start_time": "2022-03-08T11:59:43.553Z"
   },
   {
    "duration": 31,
    "start_time": "2022-03-08T11:59:43.563Z"
   },
   {
    "duration": 402,
    "start_time": "2022-03-08T11:59:43.597Z"
   },
   {
    "duration": 13,
    "start_time": "2022-03-08T11:59:44.002Z"
   },
   {
    "duration": 155,
    "start_time": "2022-03-08T11:59:44.018Z"
   },
   {
    "duration": 19,
    "start_time": "2022-03-08T11:59:44.176Z"
   },
   {
    "duration": 145,
    "start_time": "2022-03-08T11:59:44.198Z"
   },
   {
    "duration": 4,
    "start_time": "2022-03-08T11:59:44.345Z"
   },
   {
    "duration": 11,
    "start_time": "2022-03-08T11:59:44.351Z"
   },
   {
    "duration": 863,
    "start_time": "2022-03-08T11:59:44.364Z"
   },
   {
    "duration": 7,
    "start_time": "2022-03-08T11:59:45.230Z"
   },
   {
    "duration": 448,
    "start_time": "2022-03-08T11:59:45.240Z"
   },
   {
    "duration": 8,
    "start_time": "2022-03-08T11:59:45.690Z"
   },
   {
    "duration": 16,
    "start_time": "2022-03-08T11:59:45.700Z"
   },
   {
    "duration": 418,
    "start_time": "2022-03-08T12:01:38.377Z"
   },
   {
    "duration": 10,
    "start_time": "2022-03-08T12:01:40.663Z"
   },
   {
    "duration": 15,
    "start_time": "2022-03-08T12:01:41.743Z"
   },
   {
    "duration": 15,
    "start_time": "2022-03-08T12:04:19.336Z"
   },
   {
    "duration": 15,
    "start_time": "2022-03-08T12:04:24.584Z"
   },
   {
    "duration": 17,
    "start_time": "2022-03-08T12:04:27.973Z"
   },
   {
    "duration": 16,
    "start_time": "2022-03-08T12:04:31.384Z"
   },
   {
    "duration": 16,
    "start_time": "2022-03-08T12:04:35.495Z"
   },
   {
    "duration": 15,
    "start_time": "2022-03-08T12:04:50.335Z"
   },
   {
    "duration": 15,
    "start_time": "2022-03-08T12:04:56.798Z"
   },
   {
    "duration": 16,
    "start_time": "2022-03-08T12:05:01.155Z"
   },
   {
    "duration": 16,
    "start_time": "2022-03-08T12:05:22.535Z"
   },
   {
    "duration": 1494,
    "start_time": "2022-03-08T12:08:28.438Z"
   },
   {
    "duration": 42,
    "start_time": "2022-03-08T12:08:29.935Z"
   },
   {
    "duration": 15,
    "start_time": "2022-03-08T12:08:29.980Z"
   },
   {
    "duration": 15,
    "start_time": "2022-03-08T12:08:29.998Z"
   },
   {
    "duration": 5,
    "start_time": "2022-03-08T12:08:30.016Z"
   },
   {
    "duration": 21,
    "start_time": "2022-03-08T12:08:30.023Z"
   },
   {
    "duration": 54,
    "start_time": "2022-03-08T12:08:30.046Z"
   },
   {
    "duration": 21,
    "start_time": "2022-03-08T12:08:30.103Z"
   },
   {
    "duration": 103,
    "start_time": "2022-03-08T12:08:30.127Z"
   },
   {
    "duration": 7,
    "start_time": "2022-03-08T12:08:30.234Z"
   },
   {
    "duration": 67,
    "start_time": "2022-03-08T12:08:30.243Z"
   },
   {
    "duration": 8,
    "start_time": "2022-03-08T12:08:30.313Z"
   },
   {
    "duration": 35,
    "start_time": "2022-03-08T12:08:30.323Z"
   },
   {
    "duration": 18,
    "start_time": "2022-03-08T12:08:30.360Z"
   },
   {
    "duration": 62,
    "start_time": "2022-03-08T12:08:30.380Z"
   },
   {
    "duration": 35,
    "start_time": "2022-03-08T12:08:30.444Z"
   },
   {
    "duration": 49,
    "start_time": "2022-03-08T12:08:30.482Z"
   },
   {
    "duration": 30,
    "start_time": "2022-03-08T12:08:30.533Z"
   },
   {
    "duration": 4,
    "start_time": "2022-03-08T12:08:30.565Z"
   },
   {
    "duration": 27,
    "start_time": "2022-03-08T12:08:30.572Z"
   },
   {
    "duration": 32,
    "start_time": "2022-03-08T12:08:30.601Z"
   },
   {
    "duration": 9,
    "start_time": "2022-03-08T12:08:30.636Z"
   },
   {
    "duration": 25,
    "start_time": "2022-03-08T12:08:30.647Z"
   },
   {
    "duration": 73,
    "start_time": "2022-03-08T12:08:30.674Z"
   },
   {
    "duration": 53,
    "start_time": "2022-03-08T12:08:30.750Z"
   },
   {
    "duration": 18,
    "start_time": "2022-03-08T12:08:30.805Z"
   },
   {
    "duration": 18,
    "start_time": "2022-03-08T12:08:30.828Z"
   },
   {
    "duration": 16,
    "start_time": "2022-03-08T12:08:30.849Z"
   },
   {
    "duration": 26,
    "start_time": "2022-03-08T12:08:30.867Z"
   },
   {
    "duration": 5,
    "start_time": "2022-03-08T12:08:30.895Z"
   },
   {
    "duration": 12,
    "start_time": "2022-03-08T12:08:30.902Z"
   },
   {
    "duration": 517,
    "start_time": "2022-03-08T12:08:30.916Z"
   },
   {
    "duration": 2965,
    "start_time": "2022-03-08T12:08:31.436Z"
   },
   {
    "duration": 1234,
    "start_time": "2022-03-08T12:08:34.403Z"
   },
   {
    "duration": 6,
    "start_time": "2022-03-08T12:08:35.639Z"
   },
   {
    "duration": 17,
    "start_time": "2022-03-08T12:08:35.647Z"
   },
   {
    "duration": 181,
    "start_time": "2022-03-08T12:08:35.666Z"
   },
   {
    "duration": 10,
    "start_time": "2022-03-08T12:08:35.849Z"
   },
   {
    "duration": 36,
    "start_time": "2022-03-08T12:08:35.861Z"
   },
   {
    "duration": 235,
    "start_time": "2022-03-08T12:08:35.899Z"
   },
   {
    "duration": 9,
    "start_time": "2022-03-08T12:08:36.136Z"
   },
   {
    "duration": 107,
    "start_time": "2022-03-08T12:08:36.147Z"
   },
   {
    "duration": 9,
    "start_time": "2022-03-08T12:08:36.256Z"
   },
   {
    "duration": 148,
    "start_time": "2022-03-08T12:08:36.268Z"
   },
   {
    "duration": 3,
    "start_time": "2022-03-08T12:08:36.418Z"
   },
   {
    "duration": 11,
    "start_time": "2022-03-08T12:08:36.423Z"
   },
   {
    "duration": 843,
    "start_time": "2022-03-08T12:08:36.437Z"
   },
   {
    "duration": 2,
    "start_time": "2022-03-08T12:08:37.287Z"
   },
   {
    "duration": 430,
    "start_time": "2022-03-08T12:08:37.292Z"
   },
   {
    "duration": 9,
    "start_time": "2022-03-08T12:08:37.724Z"
   },
   {
    "duration": 17,
    "start_time": "2022-03-08T12:08:37.736Z"
   },
   {
    "duration": 8,
    "start_time": "2022-03-08T12:09:23.938Z"
   },
   {
    "duration": 402,
    "start_time": "2022-03-08T12:09:24.439Z"
   },
   {
    "duration": 10,
    "start_time": "2022-03-08T12:09:28.278Z"
   },
   {
    "duration": 16,
    "start_time": "2022-03-08T12:09:31.098Z"
   },
   {
    "duration": 1537,
    "start_time": "2022-03-08T12:10:32.913Z"
   },
   {
    "duration": 43,
    "start_time": "2022-03-08T12:10:34.453Z"
   },
   {
    "duration": 11,
    "start_time": "2022-03-08T12:10:34.499Z"
   },
   {
    "duration": 16,
    "start_time": "2022-03-08T12:10:34.512Z"
   },
   {
    "duration": 5,
    "start_time": "2022-03-08T12:10:34.530Z"
   },
   {
    "duration": 20,
    "start_time": "2022-03-08T12:10:34.537Z"
   },
   {
    "duration": 22,
    "start_time": "2022-03-08T12:10:34.587Z"
   },
   {
    "duration": 25,
    "start_time": "2022-03-08T12:10:34.611Z"
   },
   {
    "duration": 102,
    "start_time": "2022-03-08T12:10:34.642Z"
   },
   {
    "duration": 6,
    "start_time": "2022-03-08T12:10:34.747Z"
   },
   {
    "duration": 64,
    "start_time": "2022-03-08T12:10:34.756Z"
   },
   {
    "duration": 8,
    "start_time": "2022-03-08T12:10:34.823Z"
   },
   {
    "duration": 19,
    "start_time": "2022-03-08T12:10:34.833Z"
   },
   {
    "duration": 34,
    "start_time": "2022-03-08T12:10:34.855Z"
   },
   {
    "duration": 14,
    "start_time": "2022-03-08T12:10:34.891Z"
   },
   {
    "duration": 13,
    "start_time": "2022-03-08T12:10:34.907Z"
   },
   {
    "duration": 3,
    "start_time": "2022-03-08T12:10:34.923Z"
   },
   {
    "duration": 18,
    "start_time": "2022-03-08T12:10:34.928Z"
   },
   {
    "duration": 39,
    "start_time": "2022-03-08T12:10:34.948Z"
   },
   {
    "duration": 6,
    "start_time": "2022-03-08T12:10:34.990Z"
   },
   {
    "duration": 18,
    "start_time": "2022-03-08T12:10:34.998Z"
   },
   {
    "duration": 9,
    "start_time": "2022-03-08T12:10:35.018Z"
   },
   {
    "duration": 25,
    "start_time": "2022-03-08T12:10:35.029Z"
   },
   {
    "duration": 100,
    "start_time": "2022-03-08T12:10:35.057Z"
   },
   {
    "duration": 50,
    "start_time": "2022-03-08T12:10:35.160Z"
   },
   {
    "duration": 17,
    "start_time": "2022-03-08T12:10:35.212Z"
   },
   {
    "duration": 7,
    "start_time": "2022-03-08T12:10:35.234Z"
   },
   {
    "duration": 11,
    "start_time": "2022-03-08T12:10:35.243Z"
   },
   {
    "duration": 44,
    "start_time": "2022-03-08T12:10:35.256Z"
   },
   {
    "duration": 4,
    "start_time": "2022-03-08T12:10:35.303Z"
   },
   {
    "duration": 13,
    "start_time": "2022-03-08T12:10:35.309Z"
   },
   {
    "duration": 531,
    "start_time": "2022-03-08T12:10:35.324Z"
   },
   {
    "duration": 2483,
    "start_time": "2022-03-08T12:10:35.858Z"
   },
   {
    "duration": 1097,
    "start_time": "2022-03-08T12:10:38.344Z"
   },
   {
    "duration": 6,
    "start_time": "2022-03-08T12:10:39.444Z"
   },
   {
    "duration": 9,
    "start_time": "2022-03-08T12:10:39.453Z"
   },
   {
    "duration": 22,
    "start_time": "2022-03-08T12:10:39.465Z"
   },
   {
    "duration": 9,
    "start_time": "2022-03-08T12:10:39.490Z"
   },
   {
    "duration": 14,
    "start_time": "2022-03-08T12:10:39.502Z"
   },
   {
    "duration": 259,
    "start_time": "2022-03-08T12:10:39.518Z"
   },
   {
    "duration": 13,
    "start_time": "2022-03-08T12:10:39.779Z"
   },
   {
    "duration": 106,
    "start_time": "2022-03-08T12:10:39.794Z"
   },
   {
    "duration": 13,
    "start_time": "2022-03-08T12:10:39.903Z"
   },
   {
    "duration": 161,
    "start_time": "2022-03-08T12:10:39.919Z"
   },
   {
    "duration": 4,
    "start_time": "2022-03-08T12:10:40.086Z"
   },
   {
    "duration": 15,
    "start_time": "2022-03-08T12:10:40.092Z"
   },
   {
    "duration": 1058,
    "start_time": "2022-03-08T12:10:40.109Z"
   },
   {
    "duration": 20,
    "start_time": "2022-03-08T12:10:41.170Z"
   },
   {
    "duration": 571,
    "start_time": "2022-03-08T12:10:41.193Z"
   },
   {
    "duration": 21,
    "start_time": "2022-03-08T12:10:41.767Z"
   },
   {
    "duration": 15,
    "start_time": "2022-03-08T12:10:41.790Z"
   },
   {
    "duration": 1590,
    "start_time": "2022-03-08T12:11:13.246Z"
   },
   {
    "duration": 48,
    "start_time": "2022-03-08T12:11:14.839Z"
   },
   {
    "duration": 11,
    "start_time": "2022-03-08T12:11:14.891Z"
   },
   {
    "duration": 16,
    "start_time": "2022-03-08T12:11:14.905Z"
   },
   {
    "duration": 5,
    "start_time": "2022-03-08T12:11:14.923Z"
   },
   {
    "duration": 16,
    "start_time": "2022-03-08T12:11:14.930Z"
   },
   {
    "duration": 59,
    "start_time": "2022-03-08T12:11:14.948Z"
   },
   {
    "duration": 22,
    "start_time": "2022-03-08T12:11:15.011Z"
   },
   {
    "duration": 97,
    "start_time": "2022-03-08T12:11:15.037Z"
   },
   {
    "duration": 6,
    "start_time": "2022-03-08T12:11:15.137Z"
   },
   {
    "duration": 64,
    "start_time": "2022-03-08T12:11:15.145Z"
   },
   {
    "duration": 8,
    "start_time": "2022-03-08T12:11:15.211Z"
   },
   {
    "duration": 24,
    "start_time": "2022-03-08T12:11:15.221Z"
   },
   {
    "duration": 9,
    "start_time": "2022-03-08T12:11:15.248Z"
   },
   {
    "duration": 38,
    "start_time": "2022-03-08T12:11:15.259Z"
   },
   {
    "duration": 8,
    "start_time": "2022-03-08T12:11:15.300Z"
   },
   {
    "duration": 4,
    "start_time": "2022-03-08T12:11:15.310Z"
   },
   {
    "duration": 16,
    "start_time": "2022-03-08T12:11:15.316Z"
   },
   {
    "duration": 3,
    "start_time": "2022-03-08T12:11:15.335Z"
   },
   {
    "duration": 50,
    "start_time": "2022-03-08T12:11:15.340Z"
   },
   {
    "duration": 15,
    "start_time": "2022-03-08T12:11:15.393Z"
   },
   {
    "duration": 10,
    "start_time": "2022-03-08T12:11:15.410Z"
   },
   {
    "duration": 24,
    "start_time": "2022-03-08T12:11:15.422Z"
   },
   {
    "duration": 108,
    "start_time": "2022-03-08T12:11:15.449Z"
   },
   {
    "duration": 51,
    "start_time": "2022-03-08T12:11:15.560Z"
   },
   {
    "duration": 16,
    "start_time": "2022-03-08T12:11:15.613Z"
   },
   {
    "duration": 7,
    "start_time": "2022-03-08T12:11:15.635Z"
   },
   {
    "duration": 7,
    "start_time": "2022-03-08T12:11:15.644Z"
   },
   {
    "duration": 42,
    "start_time": "2022-03-08T12:11:15.653Z"
   },
   {
    "duration": 4,
    "start_time": "2022-03-08T12:11:15.697Z"
   },
   {
    "duration": 10,
    "start_time": "2022-03-08T12:11:15.704Z"
   },
   {
    "duration": 531,
    "start_time": "2022-03-08T12:11:15.717Z"
   },
   {
    "duration": 2511,
    "start_time": "2022-03-08T12:11:16.250Z"
   },
   {
    "duration": 1377,
    "start_time": "2022-03-08T12:11:18.763Z"
   },
   {
    "duration": 5,
    "start_time": "2022-03-08T12:11:20.143Z"
   },
   {
    "duration": 9,
    "start_time": "2022-03-08T12:11:20.151Z"
   },
   {
    "duration": 25,
    "start_time": "2022-03-08T12:11:20.163Z"
   },
   {
    "duration": 10,
    "start_time": "2022-03-08T12:11:20.191Z"
   },
   {
    "duration": 15,
    "start_time": "2022-03-08T12:11:20.203Z"
   },
   {
    "duration": 256,
    "start_time": "2022-03-08T12:11:20.221Z"
   },
   {
    "duration": 14,
    "start_time": "2022-03-08T12:11:20.479Z"
   },
   {
    "duration": 106,
    "start_time": "2022-03-08T12:11:20.495Z"
   },
   {
    "duration": 10,
    "start_time": "2022-03-08T12:11:20.603Z"
   },
   {
    "duration": 160,
    "start_time": "2022-03-08T12:11:20.616Z"
   },
   {
    "duration": 9,
    "start_time": "2022-03-08T12:11:20.778Z"
   },
   {
    "duration": 5,
    "start_time": "2022-03-08T12:11:20.790Z"
   },
   {
    "duration": 976,
    "start_time": "2022-03-08T12:11:20.797Z"
   },
   {
    "duration": 14,
    "start_time": "2022-03-08T12:11:21.775Z"
   },
   {
    "duration": 437,
    "start_time": "2022-03-08T12:11:21.791Z"
   },
   {
    "duration": 9,
    "start_time": "2022-03-08T12:11:22.231Z"
   },
   {
    "duration": 14,
    "start_time": "2022-03-08T12:11:22.242Z"
   },
   {
    "duration": 1534,
    "start_time": "2022-03-08T12:12:31.322Z"
   },
   {
    "duration": 44,
    "start_time": "2022-03-08T12:12:32.859Z"
   },
   {
    "duration": 10,
    "start_time": "2022-03-08T12:12:32.907Z"
   },
   {
    "duration": 21,
    "start_time": "2022-03-08T12:12:32.919Z"
   },
   {
    "duration": 5,
    "start_time": "2022-03-08T12:12:32.942Z"
   },
   {
    "duration": 39,
    "start_time": "2022-03-08T12:12:32.949Z"
   },
   {
    "duration": 22,
    "start_time": "2022-03-08T12:12:32.991Z"
   },
   {
    "duration": 22,
    "start_time": "2022-03-08T12:12:33.015Z"
   },
   {
    "duration": 110,
    "start_time": "2022-03-08T12:12:33.040Z"
   },
   {
    "duration": 7,
    "start_time": "2022-03-08T12:12:33.153Z"
   },
   {
    "duration": 61,
    "start_time": "2022-03-08T12:12:33.163Z"
   },
   {
    "duration": 8,
    "start_time": "2022-03-08T12:12:33.226Z"
   },
   {
    "duration": 19,
    "start_time": "2022-03-08T12:12:33.236Z"
   },
   {
    "duration": 9,
    "start_time": "2022-03-08T12:12:33.288Z"
   },
   {
    "duration": 13,
    "start_time": "2022-03-08T12:12:33.300Z"
   },
   {
    "duration": 9,
    "start_time": "2022-03-08T12:12:33.316Z"
   },
   {
    "duration": 5,
    "start_time": "2022-03-08T12:12:33.327Z"
   },
   {
    "duration": 59,
    "start_time": "2022-03-08T12:12:33.334Z"
   },
   {
    "duration": 4,
    "start_time": "2022-03-08T12:12:33.395Z"
   },
   {
    "duration": 8,
    "start_time": "2022-03-08T12:12:33.401Z"
   },
   {
    "duration": 11,
    "start_time": "2022-03-08T12:12:33.411Z"
   },
   {
    "duration": 9,
    "start_time": "2022-03-08T12:12:33.425Z"
   },
   {
    "duration": 59,
    "start_time": "2022-03-08T12:12:33.436Z"
   },
   {
    "duration": 75,
    "start_time": "2022-03-08T12:12:33.498Z"
   },
   {
    "duration": 39,
    "start_time": "2022-03-08T12:12:33.587Z"
   },
   {
    "duration": 6,
    "start_time": "2022-03-08T12:12:33.629Z"
   },
   {
    "duration": 13,
    "start_time": "2022-03-08T12:12:33.640Z"
   },
   {
    "duration": 47,
    "start_time": "2022-03-08T12:12:33.656Z"
   },
   {
    "duration": 5,
    "start_time": "2022-03-08T12:12:33.706Z"
   },
   {
    "duration": 13,
    "start_time": "2022-03-08T12:12:33.715Z"
   },
   {
    "duration": 545,
    "start_time": "2022-03-08T12:12:33.730Z"
   },
   {
    "duration": 2585,
    "start_time": "2022-03-08T12:12:34.287Z"
   },
   {
    "duration": 1271,
    "start_time": "2022-03-08T12:12:36.876Z"
   },
   {
    "duration": 6,
    "start_time": "2022-03-08T12:12:38.149Z"
   },
   {
    "duration": 13,
    "start_time": "2022-03-08T12:12:38.157Z"
   },
   {
    "duration": 16,
    "start_time": "2022-03-08T12:12:38.172Z"
   },
   {
    "duration": 21,
    "start_time": "2022-03-08T12:12:38.190Z"
   },
   {
    "duration": 14,
    "start_time": "2022-03-08T12:12:38.214Z"
   },
   {
    "duration": 262,
    "start_time": "2022-03-08T12:12:38.231Z"
   },
   {
    "duration": 10,
    "start_time": "2022-03-08T12:12:38.496Z"
   },
   {
    "duration": 107,
    "start_time": "2022-03-08T12:12:38.508Z"
   },
   {
    "duration": 10,
    "start_time": "2022-03-08T12:12:38.618Z"
   },
   {
    "duration": 168,
    "start_time": "2022-03-08T12:12:38.630Z"
   },
   {
    "duration": 3,
    "start_time": "2022-03-08T12:12:38.800Z"
   },
   {
    "duration": 13,
    "start_time": "2022-03-08T12:12:38.806Z"
   },
   {
    "duration": 872,
    "start_time": "2022-03-08T12:12:38.821Z"
   },
   {
    "duration": 7,
    "start_time": "2022-03-08T12:12:39.696Z"
   },
   {
    "duration": 439,
    "start_time": "2022-03-08T12:12:39.705Z"
   },
   {
    "duration": 9,
    "start_time": "2022-03-08T12:12:40.146Z"
   },
   {
    "duration": 33,
    "start_time": "2022-03-08T12:12:40.157Z"
   },
   {
    "duration": 1684,
    "start_time": "2022-03-08T12:14:42.860Z"
   },
   {
    "duration": 43,
    "start_time": "2022-03-08T12:14:44.547Z"
   },
   {
    "duration": 11,
    "start_time": "2022-03-08T12:14:44.593Z"
   },
   {
    "duration": 15,
    "start_time": "2022-03-08T12:14:44.607Z"
   },
   {
    "duration": 4,
    "start_time": "2022-03-08T12:14:44.624Z"
   },
   {
    "duration": 16,
    "start_time": "2022-03-08T12:14:44.630Z"
   },
   {
    "duration": 59,
    "start_time": "2022-03-08T12:14:44.648Z"
   },
   {
    "duration": 23,
    "start_time": "2022-03-08T12:14:44.709Z"
   },
   {
    "duration": 107,
    "start_time": "2022-03-08T12:14:44.735Z"
   },
   {
    "duration": 6,
    "start_time": "2022-03-08T12:14:44.846Z"
   },
   {
    "duration": 67,
    "start_time": "2022-03-08T12:14:44.854Z"
   },
   {
    "duration": 7,
    "start_time": "2022-03-08T12:14:44.923Z"
   },
   {
    "duration": 19,
    "start_time": "2022-03-08T12:14:44.932Z"
   },
   {
    "duration": 9,
    "start_time": "2022-03-08T12:14:44.953Z"
   },
   {
    "duration": 15,
    "start_time": "2022-03-08T12:14:44.988Z"
   },
   {
    "duration": 24,
    "start_time": "2022-03-08T12:14:45.006Z"
   },
   {
    "duration": 17,
    "start_time": "2022-03-08T12:14:45.032Z"
   },
   {
    "duration": 43,
    "start_time": "2022-03-08T12:14:45.052Z"
   },
   {
    "duration": 18,
    "start_time": "2022-03-08T12:14:45.097Z"
   },
   {
    "duration": 17,
    "start_time": "2022-03-08T12:14:45.117Z"
   },
   {
    "duration": 22,
    "start_time": "2022-03-08T12:14:45.137Z"
   },
   {
    "duration": 40,
    "start_time": "2022-03-08T12:14:45.161Z"
   },
   {
    "duration": 71,
    "start_time": "2022-03-08T12:14:45.203Z"
   },
   {
    "duration": 42,
    "start_time": "2022-03-08T12:14:45.276Z"
   },
   {
    "duration": 5,
    "start_time": "2022-03-08T12:14:45.320Z"
   },
   {
    "duration": 8,
    "start_time": "2022-03-08T12:14:45.328Z"
   },
   {
    "duration": 16,
    "start_time": "2022-03-08T12:14:45.341Z"
   },
   {
    "duration": 29,
    "start_time": "2022-03-08T12:14:45.360Z"
   },
   {
    "duration": 10,
    "start_time": "2022-03-08T12:14:45.391Z"
   },
   {
    "duration": 525,
    "start_time": "2022-03-08T12:14:45.404Z"
   },
   {
    "duration": 2533,
    "start_time": "2022-03-08T12:14:45.932Z"
   },
   {
    "duration": 1377,
    "start_time": "2022-03-08T12:14:48.468Z"
   },
   {
    "duration": 6,
    "start_time": "2022-03-08T12:14:49.847Z"
   },
   {
    "duration": 32,
    "start_time": "2022-03-08T12:14:49.855Z"
   },
   {
    "duration": 171,
    "start_time": "2022-03-08T12:14:49.889Z"
   },
   {
    "duration": 10,
    "start_time": "2022-03-08T12:14:50.063Z"
   },
   {
    "duration": 25,
    "start_time": "2022-03-08T12:14:50.075Z"
   },
   {
    "duration": 347,
    "start_time": "2022-03-08T12:14:50.102Z"
   },
   {
    "duration": 9,
    "start_time": "2022-03-08T12:14:50.452Z"
   },
   {
    "duration": 105,
    "start_time": "2022-03-08T12:14:50.464Z"
   },
   {
    "duration": 16,
    "start_time": "2022-03-08T12:14:50.571Z"
   },
   {
    "duration": 157,
    "start_time": "2022-03-08T12:14:50.589Z"
   },
   {
    "duration": 3,
    "start_time": "2022-03-08T12:14:50.748Z"
   },
   {
    "duration": 19,
    "start_time": "2022-03-08T12:14:50.754Z"
   },
   {
    "duration": 867,
    "start_time": "2022-03-08T12:14:50.775Z"
   },
   {
    "duration": 7,
    "start_time": "2022-03-08T12:14:51.644Z"
   },
   {
    "duration": 418,
    "start_time": "2022-03-08T12:14:51.653Z"
   },
   {
    "duration": 14,
    "start_time": "2022-03-08T12:14:52.074Z"
   },
   {
    "duration": 15,
    "start_time": "2022-03-08T12:14:52.090Z"
   },
   {
    "duration": 1531,
    "start_time": "2022-03-08T12:16:15.323Z"
   },
   {
    "duration": 42,
    "start_time": "2022-03-08T12:16:16.857Z"
   },
   {
    "duration": 11,
    "start_time": "2022-03-08T12:16:16.901Z"
   },
   {
    "duration": 15,
    "start_time": "2022-03-08T12:16:16.915Z"
   },
   {
    "duration": 5,
    "start_time": "2022-03-08T12:16:16.932Z"
   },
   {
    "duration": 20,
    "start_time": "2022-03-08T12:16:16.939Z"
   },
   {
    "duration": 21,
    "start_time": "2022-03-08T12:16:16.988Z"
   },
   {
    "duration": 20,
    "start_time": "2022-03-08T12:16:17.012Z"
   },
   {
    "duration": 107,
    "start_time": "2022-03-08T12:16:17.035Z"
   },
   {
    "duration": 7,
    "start_time": "2022-03-08T12:16:17.145Z"
   },
   {
    "duration": 60,
    "start_time": "2022-03-08T12:16:17.154Z"
   },
   {
    "duration": 7,
    "start_time": "2022-03-08T12:16:17.217Z"
   },
   {
    "duration": 22,
    "start_time": "2022-03-08T12:16:17.226Z"
   },
   {
    "duration": 37,
    "start_time": "2022-03-08T12:16:17.251Z"
   },
   {
    "duration": 14,
    "start_time": "2022-03-08T12:16:17.291Z"
   },
   {
    "duration": 8,
    "start_time": "2022-03-08T12:16:17.307Z"
   },
   {
    "duration": 9,
    "start_time": "2022-03-08T12:16:17.318Z"
   },
   {
    "duration": 21,
    "start_time": "2022-03-08T12:16:17.329Z"
   },
   {
    "duration": 35,
    "start_time": "2022-03-08T12:16:17.352Z"
   },
   {
    "duration": 6,
    "start_time": "2022-03-08T12:16:17.390Z"
   },
   {
    "duration": 23,
    "start_time": "2022-03-08T12:16:17.398Z"
   },
   {
    "duration": 19,
    "start_time": "2022-03-08T12:16:17.424Z"
   },
   {
    "duration": 102,
    "start_time": "2022-03-08T12:16:17.445Z"
   },
   {
    "duration": 52,
    "start_time": "2022-03-08T12:16:17.550Z"
   },
   {
    "duration": 7,
    "start_time": "2022-03-08T12:16:17.605Z"
   },
   {
    "duration": 6,
    "start_time": "2022-03-08T12:16:17.614Z"
   },
   {
    "duration": 22,
    "start_time": "2022-03-08T12:16:17.625Z"
   },
   {
    "duration": 5,
    "start_time": "2022-03-08T12:16:17.650Z"
   },
   {
    "duration": 39,
    "start_time": "2022-03-08T12:16:17.657Z"
   },
   {
    "duration": 521,
    "start_time": "2022-03-08T12:16:17.699Z"
   },
   {
    "duration": 2619,
    "start_time": "2022-03-08T12:16:18.222Z"
   },
   {
    "duration": 1210,
    "start_time": "2022-03-08T12:16:20.843Z"
   },
   {
    "duration": 8,
    "start_time": "2022-03-08T12:16:22.056Z"
   },
   {
    "duration": 28,
    "start_time": "2022-03-08T12:16:22.066Z"
   },
   {
    "duration": 186,
    "start_time": "2022-03-08T12:16:22.097Z"
   },
   {
    "duration": 8,
    "start_time": "2022-03-08T12:16:22.287Z"
   },
   {
    "duration": 15,
    "start_time": "2022-03-08T12:16:22.298Z"
   },
   {
    "duration": 271,
    "start_time": "2022-03-08T12:16:22.316Z"
   },
   {
    "duration": 11,
    "start_time": "2022-03-08T12:16:22.589Z"
   },
   {
    "duration": 117,
    "start_time": "2022-03-08T12:16:22.602Z"
   },
   {
    "duration": 10,
    "start_time": "2022-03-08T12:16:22.722Z"
   },
   {
    "duration": 158,
    "start_time": "2022-03-08T12:16:22.735Z"
   },
   {
    "duration": 3,
    "start_time": "2022-03-08T12:16:22.895Z"
   },
   {
    "duration": 9,
    "start_time": "2022-03-08T12:16:22.901Z"
   },
   {
    "duration": 991,
    "start_time": "2022-03-08T12:16:22.912Z"
   },
   {
    "duration": 3,
    "start_time": "2022-03-08T12:16:23.906Z"
   },
   {
    "duration": 465,
    "start_time": "2022-03-08T12:16:23.912Z"
   },
   {
    "duration": 12,
    "start_time": "2022-03-08T12:16:24.387Z"
   },
   {
    "duration": 17,
    "start_time": "2022-03-08T12:16:24.401Z"
   },
   {
    "duration": 6,
    "start_time": "2022-03-08T12:18:11.223Z"
   },
   {
    "duration": 801,
    "start_time": "2022-03-08T12:18:11.950Z"
   },
   {
    "duration": 5,
    "start_time": "2022-03-08T12:18:39.002Z"
   },
   {
    "duration": 7746,
    "start_time": "2022-03-08T12:18:39.478Z"
   },
   {
    "duration": 526,
    "start_time": "2022-03-08T12:19:47.853Z"
   },
   {
    "duration": 537,
    "start_time": "2022-03-08T12:20:11.385Z"
   },
   {
    "duration": 1555,
    "start_time": "2022-03-08T12:29:34.988Z"
   },
   {
    "duration": 44,
    "start_time": "2022-03-08T12:29:36.546Z"
   },
   {
    "duration": 12,
    "start_time": "2022-03-08T12:29:36.594Z"
   },
   {
    "duration": 16,
    "start_time": "2022-03-08T12:29:36.609Z"
   },
   {
    "duration": 5,
    "start_time": "2022-03-08T12:29:36.628Z"
   },
   {
    "duration": 53,
    "start_time": "2022-03-08T12:29:36.635Z"
   },
   {
    "duration": 22,
    "start_time": "2022-03-08T12:29:36.691Z"
   },
   {
    "duration": 26,
    "start_time": "2022-03-08T12:29:36.715Z"
   },
   {
    "duration": 101,
    "start_time": "2022-03-08T12:29:36.745Z"
   },
   {
    "duration": 6,
    "start_time": "2022-03-08T12:29:36.849Z"
   },
   {
    "duration": 66,
    "start_time": "2022-03-08T12:29:36.857Z"
   },
   {
    "duration": 7,
    "start_time": "2022-03-08T12:29:36.925Z"
   },
   {
    "duration": 7,
    "start_time": "2022-03-08T12:29:36.935Z"
   },
   {
    "duration": 6,
    "start_time": "2022-03-08T12:29:36.944Z"
   },
   {
    "duration": 36,
    "start_time": "2022-03-08T12:29:36.952Z"
   },
   {
    "duration": 17,
    "start_time": "2022-03-08T12:29:36.991Z"
   },
   {
    "duration": 13,
    "start_time": "2022-03-08T12:29:37.010Z"
   },
   {
    "duration": 4,
    "start_time": "2022-03-08T12:29:37.025Z"
   },
   {
    "duration": 16,
    "start_time": "2022-03-08T12:29:37.031Z"
   },
   {
    "duration": 41,
    "start_time": "2022-03-08T12:29:37.049Z"
   },
   {
    "duration": 429,
    "start_time": "2022-03-08T12:29:37.092Z"
   },
   {
    "duration": -3399,
    "start_time": "2022-03-08T12:29:40.923Z"
   },
   {
    "duration": -3402,
    "start_time": "2022-03-08T12:29:40.928Z"
   },
   {
    "duration": -3408,
    "start_time": "2022-03-08T12:29:40.935Z"
   },
   {
    "duration": -3411,
    "start_time": "2022-03-08T12:29:40.940Z"
   },
   {
    "duration": -3417,
    "start_time": "2022-03-08T12:29:40.947Z"
   },
   {
    "duration": -3434,
    "start_time": "2022-03-08T12:29:40.966Z"
   },
   {
    "duration": -3439,
    "start_time": "2022-03-08T12:29:40.972Z"
   },
   {
    "duration": -3443,
    "start_time": "2022-03-08T12:29:40.977Z"
   },
   {
    "duration": -3448,
    "start_time": "2022-03-08T12:29:40.983Z"
   },
   {
    "duration": -3451,
    "start_time": "2022-03-08T12:29:40.988Z"
   },
   {
    "duration": -3456,
    "start_time": "2022-03-08T12:29:40.994Z"
   },
   {
    "duration": -3461,
    "start_time": "2022-03-08T12:29:41.000Z"
   },
   {
    "duration": -3466,
    "start_time": "2022-03-08T12:29:41.006Z"
   },
   {
    "duration": -3471,
    "start_time": "2022-03-08T12:29:41.013Z"
   },
   {
    "duration": -3475,
    "start_time": "2022-03-08T12:29:41.018Z"
   },
   {
    "duration": -3479,
    "start_time": "2022-03-08T12:29:41.023Z"
   },
   {
    "duration": -3484,
    "start_time": "2022-03-08T12:29:41.029Z"
   },
   {
    "duration": -3487,
    "start_time": "2022-03-08T12:29:41.034Z"
   },
   {
    "duration": -3490,
    "start_time": "2022-03-08T12:29:41.039Z"
   },
   {
    "duration": -3494,
    "start_time": "2022-03-08T12:29:41.044Z"
   },
   {
    "duration": -3498,
    "start_time": "2022-03-08T12:29:41.050Z"
   },
   {
    "duration": -3502,
    "start_time": "2022-03-08T12:29:41.055Z"
   },
   {
    "duration": -3506,
    "start_time": "2022-03-08T12:29:41.060Z"
   },
   {
    "duration": -3522,
    "start_time": "2022-03-08T12:29:41.077Z"
   },
   {
    "duration": -3527,
    "start_time": "2022-03-08T12:29:41.083Z"
   },
   {
    "duration": -3530,
    "start_time": "2022-03-08T12:29:41.088Z"
   },
   {
    "duration": -3535,
    "start_time": "2022-03-08T12:29:41.094Z"
   },
   {
    "duration": -3539,
    "start_time": "2022-03-08T12:29:41.099Z"
   },
   {
    "duration": -3543,
    "start_time": "2022-03-08T12:29:41.105Z"
   },
   {
    "duration": 1590,
    "start_time": "2022-03-08T12:30:40.252Z"
   },
   {
    "duration": 42,
    "start_time": "2022-03-08T12:30:41.845Z"
   },
   {
    "duration": 13,
    "start_time": "2022-03-08T12:30:41.892Z"
   },
   {
    "duration": 17,
    "start_time": "2022-03-08T12:30:41.908Z"
   },
   {
    "duration": 6,
    "start_time": "2022-03-08T12:30:41.928Z"
   },
   {
    "duration": 52,
    "start_time": "2022-03-08T12:30:41.937Z"
   },
   {
    "duration": 22,
    "start_time": "2022-03-08T12:30:41.991Z"
   },
   {
    "duration": 20,
    "start_time": "2022-03-08T12:30:42.015Z"
   },
   {
    "duration": 112,
    "start_time": "2022-03-08T12:30:42.039Z"
   },
   {
    "duration": 33,
    "start_time": "2022-03-08T12:30:42.155Z"
   },
   {
    "duration": 43,
    "start_time": "2022-03-08T12:30:42.191Z"
   },
   {
    "duration": 7,
    "start_time": "2022-03-08T12:30:42.236Z"
   },
   {
    "duration": 51,
    "start_time": "2022-03-08T12:30:42.246Z"
   },
   {
    "duration": 9,
    "start_time": "2022-03-08T12:30:42.299Z"
   },
   {
    "duration": 13,
    "start_time": "2022-03-08T12:30:42.311Z"
   },
   {
    "duration": 9,
    "start_time": "2022-03-08T12:30:42.327Z"
   },
   {
    "duration": 3,
    "start_time": "2022-03-08T12:30:42.339Z"
   },
   {
    "duration": 17,
    "start_time": "2022-03-08T12:30:42.387Z"
   },
   {
    "duration": 4,
    "start_time": "2022-03-08T12:30:42.406Z"
   },
   {
    "duration": 18,
    "start_time": "2022-03-08T12:30:42.413Z"
   },
   {
    "duration": 18,
    "start_time": "2022-03-08T12:30:42.434Z"
   },
   {
    "duration": 40,
    "start_time": "2022-03-08T12:30:42.455Z"
   },
   {
    "duration": 89,
    "start_time": "2022-03-08T12:30:42.497Z"
   },
   {
    "duration": 37,
    "start_time": "2022-03-08T12:30:42.589Z"
   },
   {
    "duration": 6,
    "start_time": "2022-03-08T12:30:42.629Z"
   },
   {
    "duration": 7,
    "start_time": "2022-03-08T12:30:42.637Z"
   },
   {
    "duration": 40,
    "start_time": "2022-03-08T12:30:42.650Z"
   },
   {
    "duration": 4,
    "start_time": "2022-03-08T12:30:42.693Z"
   },
   {
    "duration": 14,
    "start_time": "2022-03-08T12:30:42.700Z"
   },
   {
    "duration": 552,
    "start_time": "2022-03-08T12:30:42.716Z"
   },
   {
    "duration": 2345,
    "start_time": "2022-03-08T12:30:43.271Z"
   },
   {
    "duration": 1221,
    "start_time": "2022-03-08T12:30:45.619Z"
   },
   {
    "duration": 5,
    "start_time": "2022-03-08T12:30:46.843Z"
   },
   {
    "duration": 25,
    "start_time": "2022-03-08T12:30:46.851Z"
   },
   {
    "duration": 185,
    "start_time": "2022-03-08T12:30:46.888Z"
   },
   {
    "duration": 19,
    "start_time": "2022-03-08T12:30:47.076Z"
   },
   {
    "duration": 27,
    "start_time": "2022-03-08T12:30:47.098Z"
   },
   {
    "duration": 269,
    "start_time": "2022-03-08T12:30:47.128Z"
   },
   {
    "duration": 12,
    "start_time": "2022-03-08T12:30:47.400Z"
   },
   {
    "duration": 115,
    "start_time": "2022-03-08T12:30:47.414Z"
   },
   {
    "duration": 10,
    "start_time": "2022-03-08T12:30:47.531Z"
   },
   {
    "duration": 171,
    "start_time": "2022-03-08T12:30:47.543Z"
   },
   {
    "duration": 3,
    "start_time": "2022-03-08T12:30:47.716Z"
   },
   {
    "duration": 27,
    "start_time": "2022-03-08T12:30:47.721Z"
   },
   {
    "duration": 7947,
    "start_time": "2022-03-08T12:30:47.750Z"
   },
   {
    "duration": 2,
    "start_time": "2022-03-08T12:30:55.700Z"
   },
   {
    "duration": 599,
    "start_time": "2022-03-08T12:30:55.706Z"
   },
   {
    "duration": -3210,
    "start_time": "2022-03-08T12:30:59.518Z"
   },
   {
    "duration": -3223,
    "start_time": "2022-03-08T12:30:59.533Z"
   },
   {
    "duration": 569,
    "start_time": "2022-03-08T12:31:24.772Z"
   },
   {
    "duration": 267,
    "start_time": "2022-03-08T12:31:25.639Z"
   },
   {
    "duration": 18,
    "start_time": "2022-03-08T12:31:33.111Z"
   },
   {
    "duration": 266,
    "start_time": "2022-03-08T12:31:40.411Z"
   },
   {
    "duration": 22,
    "start_time": "2022-03-08T12:31:49.051Z"
   },
   {
    "duration": 483,
    "start_time": "2022-03-08T12:36:00.092Z"
   },
   {
    "duration": 17,
    "start_time": "2022-03-08T12:36:07.351Z"
   },
   {
    "duration": 416,
    "start_time": "2022-03-08T12:37:05.292Z"
   },
   {
    "duration": 11,
    "start_time": "2022-03-08T12:37:12.571Z"
   },
   {
    "duration": 17,
    "start_time": "2022-03-08T12:37:20.591Z"
   },
   {
    "duration": 1523,
    "start_time": "2022-03-08T12:48:00.814Z"
   },
   {
    "duration": 39,
    "start_time": "2022-03-08T12:48:02.340Z"
   },
   {
    "duration": 11,
    "start_time": "2022-03-08T12:48:02.387Z"
   },
   {
    "duration": 21,
    "start_time": "2022-03-08T12:48:02.400Z"
   },
   {
    "duration": 5,
    "start_time": "2022-03-08T12:48:02.423Z"
   },
   {
    "duration": 17,
    "start_time": "2022-03-08T12:48:02.430Z"
   },
   {
    "duration": 51,
    "start_time": "2022-03-08T12:48:02.449Z"
   },
   {
    "duration": 24,
    "start_time": "2022-03-08T12:48:02.503Z"
   },
   {
    "duration": 96,
    "start_time": "2022-03-08T12:48:02.531Z"
   },
   {
    "duration": 6,
    "start_time": "2022-03-08T12:48:02.630Z"
   },
   {
    "duration": 62,
    "start_time": "2022-03-08T12:48:02.638Z"
   },
   {
    "duration": 7,
    "start_time": "2022-03-08T12:48:02.703Z"
   },
   {
    "duration": 17,
    "start_time": "2022-03-08T12:48:02.712Z"
   },
   {
    "duration": 11,
    "start_time": "2022-03-08T12:48:02.731Z"
   },
   {
    "duration": 50,
    "start_time": "2022-03-08T12:48:02.745Z"
   },
   {
    "duration": 8,
    "start_time": "2022-03-08T12:48:02.798Z"
   },
   {
    "duration": 6,
    "start_time": "2022-03-08T12:48:02.808Z"
   },
   {
    "duration": 19,
    "start_time": "2022-03-08T12:48:02.817Z"
   },
   {
    "duration": 4,
    "start_time": "2022-03-08T12:48:02.838Z"
   },
   {
    "duration": 45,
    "start_time": "2022-03-08T12:48:02.844Z"
   },
   {
    "duration": 13,
    "start_time": "2022-03-08T12:48:02.892Z"
   },
   {
    "duration": 22,
    "start_time": "2022-03-08T12:48:02.908Z"
   },
   {
    "duration": 111,
    "start_time": "2022-03-08T12:48:02.933Z"
   },
   {
    "duration": 47,
    "start_time": "2022-03-08T12:48:03.047Z"
   },
   {
    "duration": 9,
    "start_time": "2022-03-08T12:48:03.096Z"
   },
   {
    "duration": 8,
    "start_time": "2022-03-08T12:48:03.107Z"
   },
   {
    "duration": 12,
    "start_time": "2022-03-08T12:48:03.121Z"
   },
   {
    "duration": 4,
    "start_time": "2022-03-08T12:48:03.136Z"
   },
   {
    "duration": 48,
    "start_time": "2022-03-08T12:48:03.143Z"
   },
   {
    "duration": 546,
    "start_time": "2022-03-08T12:48:03.193Z"
   },
   {
    "duration": 2410,
    "start_time": "2022-03-08T12:48:03.742Z"
   },
   {
    "duration": 1087,
    "start_time": "2022-03-08T12:48:06.154Z"
   },
   {
    "duration": 6,
    "start_time": "2022-03-08T12:48:07.243Z"
   },
   {
    "duration": 35,
    "start_time": "2022-03-08T12:48:07.252Z"
   },
   {
    "duration": 183,
    "start_time": "2022-03-08T12:48:07.290Z"
   },
   {
    "duration": 16,
    "start_time": "2022-03-08T12:48:07.475Z"
   },
   {
    "duration": 23,
    "start_time": "2022-03-08T12:48:07.494Z"
   },
   {
    "duration": 260,
    "start_time": "2022-03-08T12:48:07.520Z"
   },
   {
    "duration": 9,
    "start_time": "2022-03-08T12:48:07.787Z"
   },
   {
    "duration": 105,
    "start_time": "2022-03-08T12:48:07.799Z"
   },
   {
    "duration": 10,
    "start_time": "2022-03-08T12:48:07.907Z"
   },
   {
    "duration": 169,
    "start_time": "2022-03-08T12:48:07.919Z"
   },
   {
    "duration": 3,
    "start_time": "2022-03-08T12:48:08.090Z"
   },
   {
    "duration": 19,
    "start_time": "2022-03-08T12:48:08.096Z"
   },
   {
    "duration": 8276,
    "start_time": "2022-03-08T12:48:08.118Z"
   },
   {
    "duration": 3,
    "start_time": "2022-03-08T12:48:16.396Z"
   },
   {
    "duration": 534,
    "start_time": "2022-03-08T12:48:16.402Z"
   },
   {
    "duration": 434,
    "start_time": "2022-03-08T12:48:16.938Z"
   },
   {
    "duration": 18,
    "start_time": "2022-03-08T12:48:17.374Z"
   },
   {
    "duration": 21,
    "start_time": "2022-03-08T12:48:17.394Z"
   },
   {
    "duration": 1558,
    "start_time": "2022-03-08T12:49:48.375Z"
   },
   {
    "duration": 39,
    "start_time": "2022-03-08T12:49:49.936Z"
   },
   {
    "duration": 11,
    "start_time": "2022-03-08T12:49:49.986Z"
   },
   {
    "duration": 15,
    "start_time": "2022-03-08T12:49:50.000Z"
   },
   {
    "duration": 6,
    "start_time": "2022-03-08T12:49:50.017Z"
   },
   {
    "duration": 23,
    "start_time": "2022-03-08T12:49:50.026Z"
   },
   {
    "duration": 54,
    "start_time": "2022-03-08T12:49:50.052Z"
   },
   {
    "duration": 23,
    "start_time": "2022-03-08T12:49:50.108Z"
   },
   {
    "duration": 89,
    "start_time": "2022-03-08T12:49:50.136Z"
   },
   {
    "duration": 7,
    "start_time": "2022-03-08T12:49:50.228Z"
   },
   {
    "duration": 70,
    "start_time": "2022-03-08T12:49:50.237Z"
   },
   {
    "duration": 8,
    "start_time": "2022-03-08T12:49:50.309Z"
   },
   {
    "duration": 15,
    "start_time": "2022-03-08T12:49:50.320Z"
   },
   {
    "duration": 49,
    "start_time": "2022-03-08T12:49:50.338Z"
   },
   {
    "duration": 17,
    "start_time": "2022-03-08T12:49:50.389Z"
   },
   {
    "duration": 11,
    "start_time": "2022-03-08T12:49:50.409Z"
   },
   {
    "duration": 5,
    "start_time": "2022-03-08T12:49:50.423Z"
   },
   {
    "duration": 61,
    "start_time": "2022-03-08T12:49:50.431Z"
   },
   {
    "duration": 4,
    "start_time": "2022-03-08T12:49:50.496Z"
   },
   {
    "duration": 13,
    "start_time": "2022-03-08T12:49:50.503Z"
   },
   {
    "duration": 14,
    "start_time": "2022-03-08T12:49:50.519Z"
   },
   {
    "duration": 20,
    "start_time": "2022-03-08T12:49:50.536Z"
   },
   {
    "duration": 102,
    "start_time": "2022-03-08T12:49:50.558Z"
   },
   {
    "duration": 55,
    "start_time": "2022-03-08T12:49:50.663Z"
   },
   {
    "duration": 6,
    "start_time": "2022-03-08T12:49:50.720Z"
   },
   {
    "duration": 8,
    "start_time": "2022-03-08T12:49:50.728Z"
   },
   {
    "duration": 45,
    "start_time": "2022-03-08T12:49:50.744Z"
   },
   {
    "duration": 6,
    "start_time": "2022-03-08T12:49:50.794Z"
   },
   {
    "duration": 16,
    "start_time": "2022-03-08T12:49:50.803Z"
   },
   {
    "duration": 922,
    "start_time": "2022-03-08T12:49:50.822Z"
   },
   {
    "duration": 2098,
    "start_time": "2022-03-08T12:49:51.747Z"
   },
   {
    "duration": 1494,
    "start_time": "2022-03-08T12:49:53.848Z"
   },
   {
    "duration": 5,
    "start_time": "2022-03-08T12:49:55.345Z"
   },
   {
    "duration": 18,
    "start_time": "2022-03-08T12:49:55.352Z"
   },
   {
    "duration": 209,
    "start_time": "2022-03-08T12:49:55.387Z"
   },
   {
    "duration": 9,
    "start_time": "2022-03-08T12:49:55.598Z"
   },
   {
    "duration": 15,
    "start_time": "2022-03-08T12:49:55.609Z"
   },
   {
    "duration": 305,
    "start_time": "2022-03-08T12:49:55.627Z"
   },
   {
    "duration": 10,
    "start_time": "2022-03-08T12:49:55.934Z"
   },
   {
    "duration": 119,
    "start_time": "2022-03-08T12:49:55.946Z"
   },
   {
    "duration": 10,
    "start_time": "2022-03-08T12:49:56.067Z"
   },
   {
    "duration": 172,
    "start_time": "2022-03-08T12:49:56.087Z"
   },
   {
    "duration": 3,
    "start_time": "2022-03-08T12:49:56.261Z"
   },
   {
    "duration": 20,
    "start_time": "2022-03-08T12:49:56.267Z"
   },
   {
    "duration": 10890,
    "start_time": "2022-03-08T12:49:56.289Z"
   },
   {
    "duration": 8,
    "start_time": "2022-03-08T12:50:07.181Z"
   },
   {
    "duration": 536,
    "start_time": "2022-03-08T12:50:07.192Z"
   },
   {
    "duration": 460,
    "start_time": "2022-03-08T12:50:07.731Z"
   },
   {
    "duration": 9,
    "start_time": "2022-03-08T12:50:08.194Z"
   },
   {
    "duration": 17,
    "start_time": "2022-03-08T12:50:08.205Z"
   },
   {
    "duration": 1585,
    "start_time": "2022-03-08T12:51:48.346Z"
   },
   {
    "duration": 38,
    "start_time": "2022-03-08T12:51:49.934Z"
   },
   {
    "duration": 14,
    "start_time": "2022-03-08T12:51:49.975Z"
   },
   {
    "duration": 16,
    "start_time": "2022-03-08T12:51:49.992Z"
   },
   {
    "duration": 5,
    "start_time": "2022-03-08T12:51:50.010Z"
   },
   {
    "duration": 17,
    "start_time": "2022-03-08T12:51:50.017Z"
   },
   {
    "duration": 60,
    "start_time": "2022-03-08T12:51:50.036Z"
   },
   {
    "duration": 20,
    "start_time": "2022-03-08T12:51:50.099Z"
   },
   {
    "duration": 91,
    "start_time": "2022-03-08T12:51:50.124Z"
   },
   {
    "duration": 6,
    "start_time": "2022-03-08T12:51:50.218Z"
   },
   {
    "duration": 67,
    "start_time": "2022-03-08T12:51:50.227Z"
   },
   {
    "duration": 8,
    "start_time": "2022-03-08T12:51:50.296Z"
   },
   {
    "duration": 18,
    "start_time": "2022-03-08T12:51:50.306Z"
   },
   {
    "duration": 9,
    "start_time": "2022-03-08T12:51:50.326Z"
   },
   {
    "duration": 13,
    "start_time": "2022-03-08T12:51:50.337Z"
   },
   {
    "duration": 42,
    "start_time": "2022-03-08T12:51:50.352Z"
   },
   {
    "duration": 4,
    "start_time": "2022-03-08T12:51:50.396Z"
   },
   {
    "duration": 17,
    "start_time": "2022-03-08T12:51:50.402Z"
   },
   {
    "duration": 3,
    "start_time": "2022-03-08T12:51:50.422Z"
   },
   {
    "duration": 11,
    "start_time": "2022-03-08T12:51:50.427Z"
   },
   {
    "duration": 54,
    "start_time": "2022-03-08T12:51:50.440Z"
   },
   {
    "duration": 20,
    "start_time": "2022-03-08T12:51:50.496Z"
   },
   {
    "duration": 94,
    "start_time": "2022-03-08T12:51:50.518Z"
   },
   {
    "duration": 33,
    "start_time": "2022-03-08T12:51:50.614Z"
   },
   {
    "duration": 5,
    "start_time": "2022-03-08T12:51:50.650Z"
   },
   {
    "duration": 30,
    "start_time": "2022-03-08T12:51:50.657Z"
   },
   {
    "duration": 12,
    "start_time": "2022-03-08T12:51:50.692Z"
   },
   {
    "duration": 4,
    "start_time": "2022-03-08T12:51:50.708Z"
   },
   {
    "duration": 10,
    "start_time": "2022-03-08T12:51:50.715Z"
   },
   {
    "duration": 559,
    "start_time": "2022-03-08T12:51:50.728Z"
   },
   {
    "duration": 2278,
    "start_time": "2022-03-08T12:51:51.290Z"
   },
   {
    "duration": 1269,
    "start_time": "2022-03-08T12:51:53.570Z"
   },
   {
    "duration": 6,
    "start_time": "2022-03-08T12:51:54.842Z"
   },
   {
    "duration": 36,
    "start_time": "2022-03-08T12:51:54.851Z"
   },
   {
    "duration": 188,
    "start_time": "2022-03-08T12:51:54.889Z"
   },
   {
    "duration": 13,
    "start_time": "2022-03-08T12:51:55.079Z"
   },
   {
    "duration": 15,
    "start_time": "2022-03-08T12:51:55.094Z"
   },
   {
    "duration": 276,
    "start_time": "2022-03-08T12:51:55.111Z"
   },
   {
    "duration": 9,
    "start_time": "2022-03-08T12:51:55.390Z"
   },
   {
    "duration": 109,
    "start_time": "2022-03-08T12:51:55.401Z"
   },
   {
    "duration": 10,
    "start_time": "2022-03-08T12:51:55.513Z"
   },
   {
    "duration": 168,
    "start_time": "2022-03-08T12:51:55.526Z"
   },
   {
    "duration": 3,
    "start_time": "2022-03-08T12:51:55.697Z"
   },
   {
    "duration": 19,
    "start_time": "2022-03-08T12:51:55.703Z"
   },
   {
    "duration": 7921,
    "start_time": "2022-03-08T12:51:55.725Z"
   },
   {
    "duration": 3,
    "start_time": "2022-03-08T12:52:03.649Z"
   },
   {
    "duration": 512,
    "start_time": "2022-03-08T12:52:03.654Z"
   },
   {
    "duration": 542,
    "start_time": "2022-03-08T12:52:04.169Z"
   },
   {
    "duration": 9,
    "start_time": "2022-03-08T12:52:04.714Z"
   },
   {
    "duration": 17,
    "start_time": "2022-03-08T12:52:04.726Z"
   },
   {
    "duration": 457,
    "start_time": "2022-03-08T12:52:20.131Z"
   },
   {
    "duration": 10,
    "start_time": "2022-03-08T12:52:21.851Z"
   },
   {
    "duration": 16,
    "start_time": "2022-03-08T12:52:22.171Z"
   },
   {
    "duration": 1624,
    "start_time": "2022-03-08T12:53:15.432Z"
   },
   {
    "duration": 39,
    "start_time": "2022-03-08T12:53:17.058Z"
   },
   {
    "duration": 10,
    "start_time": "2022-03-08T12:53:17.100Z"
   },
   {
    "duration": 15,
    "start_time": "2022-03-08T12:53:17.114Z"
   },
   {
    "duration": 4,
    "start_time": "2022-03-08T12:53:17.131Z"
   },
   {
    "duration": 15,
    "start_time": "2022-03-08T12:53:17.137Z"
   },
   {
    "duration": 24,
    "start_time": "2022-03-08T12:53:17.187Z"
   },
   {
    "duration": 22,
    "start_time": "2022-03-08T12:53:17.216Z"
   },
   {
    "duration": 110,
    "start_time": "2022-03-08T12:53:17.243Z"
   },
   {
    "duration": 33,
    "start_time": "2022-03-08T12:53:17.356Z"
   },
   {
    "duration": 38,
    "start_time": "2022-03-08T12:53:17.392Z"
   },
   {
    "duration": 9,
    "start_time": "2022-03-08T12:53:17.433Z"
   },
   {
    "duration": 52,
    "start_time": "2022-03-08T12:53:17.445Z"
   },
   {
    "duration": 9,
    "start_time": "2022-03-08T12:53:17.499Z"
   },
   {
    "duration": 15,
    "start_time": "2022-03-08T12:53:17.511Z"
   },
   {
    "duration": 9,
    "start_time": "2022-03-08T12:53:17.529Z"
   },
   {
    "duration": 4,
    "start_time": "2022-03-08T12:53:17.540Z"
   },
   {
    "duration": 17,
    "start_time": "2022-03-08T12:53:17.587Z"
   },
   {
    "duration": 3,
    "start_time": "2022-03-08T12:53:17.606Z"
   },
   {
    "duration": 9,
    "start_time": "2022-03-08T12:53:17.611Z"
   },
   {
    "duration": 19,
    "start_time": "2022-03-08T12:53:17.622Z"
   },
   {
    "duration": 52,
    "start_time": "2022-03-08T12:53:17.643Z"
   },
   {
    "duration": 90,
    "start_time": "2022-03-08T12:53:17.700Z"
   },
   {
    "duration": 34,
    "start_time": "2022-03-08T12:53:17.793Z"
   },
   {
    "duration": 5,
    "start_time": "2022-03-08T12:53:17.830Z"
   },
   {
    "duration": 6,
    "start_time": "2022-03-08T12:53:17.838Z"
   },
   {
    "duration": 45,
    "start_time": "2022-03-08T12:53:17.846Z"
   },
   {
    "duration": 4,
    "start_time": "2022-03-08T12:53:17.894Z"
   },
   {
    "duration": 11,
    "start_time": "2022-03-08T12:53:17.901Z"
   },
   {
    "duration": 555,
    "start_time": "2022-03-08T12:53:17.914Z"
   },
   {
    "duration": 3542,
    "start_time": "2022-03-08T12:53:18.471Z"
   },
   {
    "duration": 1230,
    "start_time": "2022-03-08T12:53:22.016Z"
   },
   {
    "duration": 6,
    "start_time": "2022-03-08T12:53:23.248Z"
   },
   {
    "duration": 16,
    "start_time": "2022-03-08T12:53:23.257Z"
   },
   {
    "duration": 189,
    "start_time": "2022-03-08T12:53:23.287Z"
   },
   {
    "duration": 13,
    "start_time": "2022-03-08T12:53:23.479Z"
   },
   {
    "duration": 17,
    "start_time": "2022-03-08T12:53:23.495Z"
   },
   {
    "duration": 277,
    "start_time": "2022-03-08T12:53:23.514Z"
   },
   {
    "duration": 12,
    "start_time": "2022-03-08T12:53:23.794Z"
   },
   {
    "duration": 120,
    "start_time": "2022-03-08T12:53:23.809Z"
   },
   {
    "duration": 9,
    "start_time": "2022-03-08T12:53:23.932Z"
   },
   {
    "duration": 165,
    "start_time": "2022-03-08T12:53:23.944Z"
   },
   {
    "duration": 3,
    "start_time": "2022-03-08T12:53:24.111Z"
   },
   {
    "duration": 10,
    "start_time": "2022-03-08T12:53:24.116Z"
   },
   {
    "duration": 8483,
    "start_time": "2022-03-08T12:53:24.128Z"
   },
   {
    "duration": 3,
    "start_time": "2022-03-08T12:53:32.614Z"
   },
   {
    "duration": 501,
    "start_time": "2022-03-08T12:53:32.620Z"
   },
   {
    "duration": 520,
    "start_time": "2022-03-08T12:53:33.124Z"
   },
   {
    "duration": 13,
    "start_time": "2022-03-08T12:53:33.647Z"
   },
   {
    "duration": 35,
    "start_time": "2022-03-08T12:53:33.662Z"
   },
   {
    "duration": 6,
    "start_time": "2022-03-08T12:54:14.651Z"
   },
   {
    "duration": 12,
    "start_time": "2022-03-08T12:54:16.111Z"
   },
   {
    "duration": 210,
    "start_time": "2022-03-08T12:54:16.571Z"
   },
   {
    "duration": 10,
    "start_time": "2022-03-08T12:54:20.739Z"
   },
   {
    "duration": 13,
    "start_time": "2022-03-08T12:54:22.932Z"
   },
   {
    "duration": 319,
    "start_time": "2022-03-08T12:54:24.691Z"
   },
   {
    "duration": 12,
    "start_time": "2022-03-08T12:54:30.991Z"
   },
   {
    "duration": 117,
    "start_time": "2022-03-08T12:54:32.131Z"
   },
   {
    "duration": 10,
    "start_time": "2022-03-08T12:54:34.232Z"
   },
   {
    "duration": 181,
    "start_time": "2022-03-08T12:54:34.651Z"
   },
   {
    "duration": 420,
    "start_time": "2022-03-08T12:58:23.724Z"
   },
   {
    "duration": 11,
    "start_time": "2022-03-08T12:58:27.511Z"
   },
   {
    "duration": 17,
    "start_time": "2022-03-08T12:58:29.651Z"
   },
   {
    "duration": 774,
    "start_time": "2022-03-08T12:59:57.371Z"
   },
   {
    "duration": 504,
    "start_time": "2022-03-08T13:00:02.635Z"
   },
   {
    "duration": 10,
    "start_time": "2022-03-08T13:00:13.292Z"
   },
   {
    "duration": 20,
    "start_time": "2022-03-08T13:00:23.851Z"
   },
   {
    "duration": 16,
    "start_time": "2022-03-08T13:00:33.911Z"
   },
   {
    "duration": 1661,
    "start_time": "2022-03-08T13:02:05.674Z"
   },
   {
    "duration": 38,
    "start_time": "2022-03-08T13:02:07.339Z"
   },
   {
    "duration": 12,
    "start_time": "2022-03-08T13:02:07.387Z"
   },
   {
    "duration": 15,
    "start_time": "2022-03-08T13:02:07.401Z"
   },
   {
    "duration": 5,
    "start_time": "2022-03-08T13:02:07.419Z"
   },
   {
    "duration": 17,
    "start_time": "2022-03-08T13:02:07.426Z"
   },
   {
    "duration": 65,
    "start_time": "2022-03-08T13:02:07.446Z"
   },
   {
    "duration": 26,
    "start_time": "2022-03-08T13:02:07.514Z"
   },
   {
    "duration": 97,
    "start_time": "2022-03-08T13:02:07.543Z"
   },
   {
    "duration": 7,
    "start_time": "2022-03-08T13:02:07.643Z"
   },
   {
    "duration": 77,
    "start_time": "2022-03-08T13:02:07.653Z"
   },
   {
    "duration": 10,
    "start_time": "2022-03-08T13:02:07.733Z"
   },
   {
    "duration": 47,
    "start_time": "2022-03-08T13:02:07.746Z"
   },
   {
    "duration": 12,
    "start_time": "2022-03-08T13:02:07.796Z"
   },
   {
    "duration": 20,
    "start_time": "2022-03-08T13:02:07.812Z"
   },
   {
    "duration": 12,
    "start_time": "2022-03-08T13:02:07.835Z"
   },
   {
    "duration": 41,
    "start_time": "2022-03-08T13:02:07.850Z"
   },
   {
    "duration": 23,
    "start_time": "2022-03-08T13:02:07.894Z"
   },
   {
    "duration": 5,
    "start_time": "2022-03-08T13:02:07.920Z"
   },
   {
    "duration": 9,
    "start_time": "2022-03-08T13:02:07.928Z"
   },
   {
    "duration": 49,
    "start_time": "2022-03-08T13:02:07.939Z"
   },
   {
    "duration": 19,
    "start_time": "2022-03-08T13:02:07.995Z"
   },
   {
    "duration": 98,
    "start_time": "2022-03-08T13:02:08.018Z"
   },
   {
    "duration": 35,
    "start_time": "2022-03-08T13:02:08.118Z"
   },
   {
    "duration": 6,
    "start_time": "2022-03-08T13:02:08.155Z"
   },
   {
    "duration": 6,
    "start_time": "2022-03-08T13:02:08.187Z"
   },
   {
    "duration": 16,
    "start_time": "2022-03-08T13:02:08.195Z"
   },
   {
    "duration": 5,
    "start_time": "2022-03-08T13:02:08.213Z"
   },
   {
    "duration": 14,
    "start_time": "2022-03-08T13:02:08.221Z"
   },
   {
    "duration": 570,
    "start_time": "2022-03-08T13:02:08.238Z"
   },
   {
    "duration": 2397,
    "start_time": "2022-03-08T13:02:08.811Z"
   },
   {
    "duration": 1126,
    "start_time": "2022-03-08T13:02:11.211Z"
   },
   {
    "duration": 6,
    "start_time": "2022-03-08T13:02:12.339Z"
   },
   {
    "duration": 30,
    "start_time": "2022-03-08T13:02:12.347Z"
   },
   {
    "duration": 236,
    "start_time": "2022-03-08T13:02:12.379Z"
   },
   {
    "duration": 8,
    "start_time": "2022-03-08T13:02:12.617Z"
   },
   {
    "duration": 21,
    "start_time": "2022-03-08T13:02:12.627Z"
   },
   {
    "duration": 331,
    "start_time": "2022-03-08T13:02:12.651Z"
   },
   {
    "duration": 11,
    "start_time": "2022-03-08T13:02:12.984Z"
   },
   {
    "duration": 130,
    "start_time": "2022-03-08T13:02:12.997Z"
   },
   {
    "duration": 10,
    "start_time": "2022-03-08T13:02:13.129Z"
   },
   {
    "duration": 198,
    "start_time": "2022-03-08T13:02:13.141Z"
   },
   {
    "duration": 3,
    "start_time": "2022-03-08T13:02:13.341Z"
   },
   {
    "duration": 13,
    "start_time": "2022-03-08T13:02:13.346Z"
   },
   {
    "duration": 10103,
    "start_time": "2022-03-08T13:02:13.361Z"
   },
   {
    "duration": 3,
    "start_time": "2022-03-08T13:02:23.466Z"
   },
   {
    "duration": 734,
    "start_time": "2022-03-08T13:02:23.487Z"
   },
   {
    "duration": 447,
    "start_time": "2022-03-08T13:02:24.224Z"
   },
   {
    "duration": 28,
    "start_time": "2022-03-08T13:02:24.674Z"
   },
   {
    "duration": 9,
    "start_time": "2022-03-08T13:02:24.704Z"
   },
   {
    "duration": 16,
    "start_time": "2022-03-08T13:02:24.716Z"
   },
   {
    "duration": 6,
    "start_time": "2022-03-08T13:08:37.672Z"
   },
   {
    "duration": 10,
    "start_time": "2022-03-08T13:08:38.932Z"
   },
   {
    "duration": 157,
    "start_time": "2022-03-08T13:08:39.791Z"
   },
   {
    "duration": 9,
    "start_time": "2022-03-08T13:09:29.711Z"
   },
   {
    "duration": 14,
    "start_time": "2022-03-08T13:09:38.911Z"
   },
   {
    "duration": 224,
    "start_time": "2022-03-08T13:09:40.312Z"
   },
   {
    "duration": 5,
    "start_time": "2022-03-08T13:10:07.532Z"
   },
   {
    "duration": 5,
    "start_time": "2022-03-08T13:10:22.832Z"
   },
   {
    "duration": 5,
    "start_time": "2022-03-08T13:11:38.051Z"
   },
   {
    "duration": 10,
    "start_time": "2022-03-08T13:12:47.511Z"
   },
   {
    "duration": 86,
    "start_time": "2022-03-08T13:12:48.951Z"
   },
   {
    "duration": 5,
    "start_time": "2022-03-08T13:13:48.191Z"
   },
   {
    "duration": 5,
    "start_time": "2022-03-08T13:15:03.492Z"
   },
   {
    "duration": 12,
    "start_time": "2022-03-08T13:16:30.063Z"
   },
   {
    "duration": 138,
    "start_time": "2022-03-08T13:16:31.013Z"
   },
   {
    "duration": 4037,
    "start_time": "2022-03-08T13:18:21.972Z"
   },
   {
    "duration": 417,
    "start_time": "2022-03-08T13:19:02.253Z"
   },
   {
    "duration": 20,
    "start_time": "2022-03-08T13:19:09.580Z"
   },
   {
    "duration": 12,
    "start_time": "2022-03-08T13:19:15.300Z"
   },
   {
    "duration": 18,
    "start_time": "2022-03-08T13:19:26.071Z"
   },
   {
    "duration": 566,
    "start_time": "2022-03-08T13:22:37.341Z"
   },
   {
    "duration": 1507,
    "start_time": "2022-03-08T13:24:23.642Z"
   },
   {
    "duration": 38,
    "start_time": "2022-03-08T13:24:25.152Z"
   },
   {
    "duration": 12,
    "start_time": "2022-03-08T13:24:25.193Z"
   },
   {
    "duration": 14,
    "start_time": "2022-03-08T13:24:25.208Z"
   },
   {
    "duration": 5,
    "start_time": "2022-03-08T13:24:25.224Z"
   },
   {
    "duration": 15,
    "start_time": "2022-03-08T13:24:25.232Z"
   },
   {
    "duration": 21,
    "start_time": "2022-03-08T13:24:25.286Z"
   },
   {
    "duration": 25,
    "start_time": "2022-03-08T13:24:25.310Z"
   },
   {
    "duration": 96,
    "start_time": "2022-03-08T13:24:25.339Z"
   },
   {
    "duration": 7,
    "start_time": "2022-03-08T13:24:25.437Z"
   },
   {
    "duration": 65,
    "start_time": "2022-03-08T13:24:25.447Z"
   },
   {
    "duration": 7,
    "start_time": "2022-03-08T13:24:25.515Z"
   },
   {
    "duration": 15,
    "start_time": "2022-03-08T13:24:25.524Z"
   },
   {
    "duration": 11,
    "start_time": "2022-03-08T13:24:25.542Z"
   },
   {
    "duration": 46,
    "start_time": "2022-03-08T13:24:25.555Z"
   },
   {
    "duration": 11,
    "start_time": "2022-03-08T13:24:25.604Z"
   },
   {
    "duration": 5,
    "start_time": "2022-03-08T13:24:25.617Z"
   },
   {
    "duration": 62,
    "start_time": "2022-03-08T13:24:25.625Z"
   },
   {
    "duration": 5,
    "start_time": "2022-03-08T13:24:25.690Z"
   },
   {
    "duration": 9,
    "start_time": "2022-03-08T13:24:25.698Z"
   },
   {
    "duration": 24,
    "start_time": "2022-03-08T13:24:25.709Z"
   },
   {
    "duration": 52,
    "start_time": "2022-03-08T13:24:25.735Z"
   },
   {
    "duration": 72,
    "start_time": "2022-03-08T13:24:25.790Z"
   },
   {
    "duration": 50,
    "start_time": "2022-03-08T13:24:25.864Z"
   },
   {
    "duration": 6,
    "start_time": "2022-03-08T13:24:25.916Z"
   },
   {
    "duration": 11,
    "start_time": "2022-03-08T13:24:25.924Z"
   },
   {
    "duration": 12,
    "start_time": "2022-03-08T13:24:25.940Z"
   },
   {
    "duration": 32,
    "start_time": "2022-03-08T13:24:25.955Z"
   },
   {
    "duration": 15,
    "start_time": "2022-03-08T13:24:25.990Z"
   },
   {
    "duration": 534,
    "start_time": "2022-03-08T13:24:26.008Z"
   },
   {
    "duration": 2253,
    "start_time": "2022-03-08T13:24:26.544Z"
   },
   {
    "duration": 1248,
    "start_time": "2022-03-08T13:24:28.799Z"
   },
   {
    "duration": 6,
    "start_time": "2022-03-08T13:24:30.049Z"
   },
   {
    "duration": 33,
    "start_time": "2022-03-08T13:24:30.057Z"
   },
   {
    "duration": 170,
    "start_time": "2022-03-08T13:24:30.093Z"
   },
   {
    "duration": 20,
    "start_time": "2022-03-08T13:24:30.266Z"
   },
   {
    "duration": 15,
    "start_time": "2022-03-08T13:24:30.289Z"
   },
   {
    "duration": 252,
    "start_time": "2022-03-08T13:24:30.306Z"
   },
   {
    "duration": 10,
    "start_time": "2022-03-08T13:24:30.560Z"
   },
   {
    "duration": 99,
    "start_time": "2022-03-08T13:24:30.572Z"
   },
   {
    "duration": 16,
    "start_time": "2022-03-08T13:24:30.673Z"
   },
   {
    "duration": 18,
    "start_time": "2022-03-08T13:24:30.691Z"
   },
   {
    "duration": 155,
    "start_time": "2022-03-08T13:24:30.711Z"
   },
   {
    "duration": 3,
    "start_time": "2022-03-08T13:24:30.869Z"
   },
   {
    "duration": 17,
    "start_time": "2022-03-08T13:24:30.874Z"
   },
   {
    "duration": 731,
    "start_time": "2022-03-08T13:24:30.893Z"
   },
   {
    "duration": -3565,
    "start_time": "2022-03-08T13:24:35.192Z"
   },
   {
    "duration": -3575,
    "start_time": "2022-03-08T13:24:35.204Z"
   },
   {
    "duration": -3584,
    "start_time": "2022-03-08T13:24:35.214Z"
   },
   {
    "duration": -3650,
    "start_time": "2022-03-08T13:24:35.282Z"
   },
   {
    "duration": 274,
    "start_time": "2022-03-08T14:59:31.498Z"
   },
   {
    "duration": 651,
    "start_time": "2022-03-08T14:59:53.653Z"
   },
   {
    "duration": 540,
    "start_time": "2022-03-08T15:01:31.017Z"
   },
   {
    "duration": 3,
    "start_time": "2022-03-08T15:01:52.852Z"
   },
   {
    "duration": 424,
    "start_time": "2022-03-08T15:01:53.821Z"
   },
   {
    "duration": 9,
    "start_time": "2022-03-08T15:02:04.492Z"
   },
   {
    "duration": 15,
    "start_time": "2022-03-08T15:02:08.212Z"
   },
   {
    "duration": 1500,
    "start_time": "2022-03-08T15:03:45.544Z"
   },
   {
    "duration": 43,
    "start_time": "2022-03-08T15:03:47.046Z"
   },
   {
    "duration": 11,
    "start_time": "2022-03-08T15:03:47.092Z"
   },
   {
    "duration": 25,
    "start_time": "2022-03-08T15:03:47.106Z"
   },
   {
    "duration": 5,
    "start_time": "2022-03-08T15:03:47.134Z"
   },
   {
    "duration": 21,
    "start_time": "2022-03-08T15:03:47.141Z"
   },
   {
    "duration": 43,
    "start_time": "2022-03-08T15:03:47.164Z"
   },
   {
    "duration": 21,
    "start_time": "2022-03-08T15:03:47.211Z"
   },
   {
    "duration": 101,
    "start_time": "2022-03-08T15:03:47.234Z"
   },
   {
    "duration": 7,
    "start_time": "2022-03-08T15:03:47.338Z"
   },
   {
    "duration": 67,
    "start_time": "2022-03-08T15:03:47.348Z"
   },
   {
    "duration": 7,
    "start_time": "2022-03-08T15:03:47.418Z"
   },
   {
    "duration": 13,
    "start_time": "2022-03-08T15:03:47.428Z"
   },
   {
    "duration": 8,
    "start_time": "2022-03-08T15:03:47.444Z"
   },
   {
    "duration": 43,
    "start_time": "2022-03-08T15:03:47.455Z"
   },
   {
    "duration": 8,
    "start_time": "2022-03-08T15:03:47.501Z"
   },
   {
    "duration": 3,
    "start_time": "2022-03-08T15:03:47.511Z"
   },
   {
    "duration": 17,
    "start_time": "2022-03-08T15:03:47.516Z"
   },
   {
    "duration": 4,
    "start_time": "2022-03-08T15:03:47.535Z"
   },
   {
    "duration": 49,
    "start_time": "2022-03-08T15:03:47.541Z"
   },
   {
    "duration": 12,
    "start_time": "2022-03-08T15:03:47.592Z"
   },
   {
    "duration": 20,
    "start_time": "2022-03-08T15:03:47.606Z"
   },
   {
    "duration": 100,
    "start_time": "2022-03-08T15:03:47.632Z"
   },
   {
    "duration": 36,
    "start_time": "2022-03-08T15:03:47.735Z"
   },
   {
    "duration": 6,
    "start_time": "2022-03-08T15:03:47.788Z"
   },
   {
    "duration": 14,
    "start_time": "2022-03-08T15:03:47.796Z"
   },
   {
    "duration": 15,
    "start_time": "2022-03-08T15:03:47.812Z"
   },
   {
    "duration": 5,
    "start_time": "2022-03-08T15:03:47.829Z"
   },
   {
    "duration": 11,
    "start_time": "2022-03-08T15:03:47.837Z"
   },
   {
    "duration": 556,
    "start_time": "2022-03-08T15:03:47.850Z"
   },
   {
    "duration": 2310,
    "start_time": "2022-03-08T15:03:48.408Z"
   },
   {
    "duration": 1217,
    "start_time": "2022-03-08T15:03:50.720Z"
   },
   {
    "duration": 6,
    "start_time": "2022-03-08T15:03:51.939Z"
   },
   {
    "duration": 16,
    "start_time": "2022-03-08T15:03:51.948Z"
   },
   {
    "duration": 184,
    "start_time": "2022-03-08T15:03:51.967Z"
   },
   {
    "duration": 10,
    "start_time": "2022-03-08T15:03:52.154Z"
   },
   {
    "duration": 32,
    "start_time": "2022-03-08T15:03:52.167Z"
   },
   {
    "duration": 242,
    "start_time": "2022-03-08T15:03:52.202Z"
   },
   {
    "duration": 11,
    "start_time": "2022-03-08T15:03:52.447Z"
   },
   {
    "duration": 103,
    "start_time": "2022-03-08T15:03:52.461Z"
   },
   {
    "duration": 25,
    "start_time": "2022-03-08T15:03:52.566Z"
   },
   {
    "duration": 145,
    "start_time": "2022-03-08T15:03:52.594Z"
   },
   {
    "duration": 3,
    "start_time": "2022-03-08T15:03:52.741Z"
   },
   {
    "duration": 10,
    "start_time": "2022-03-08T15:03:52.747Z"
   },
   {
    "duration": 735,
    "start_time": "2022-03-08T15:03:52.759Z"
   },
   {
    "duration": -2689,
    "start_time": "2022-03-08T15:03:56.186Z"
   },
   {
    "duration": -2695,
    "start_time": "2022-03-08T15:03:56.193Z"
   },
   {
    "duration": -2700,
    "start_time": "2022-03-08T15:03:56.200Z"
   },
   {
    "duration": -2705,
    "start_time": "2022-03-08T15:03:56.206Z"
   },
   {
    "duration": 563,
    "start_time": "2022-03-08T15:06:10.100Z"
   },
   {
    "duration": 539,
    "start_time": "2022-03-08T15:06:15.490Z"
   },
   {
    "duration": 533,
    "start_time": "2022-03-08T15:06:26.773Z"
   },
   {
    "duration": 577,
    "start_time": "2022-03-08T15:06:47.261Z"
   },
   {
    "duration": 540,
    "start_time": "2022-03-08T15:07:55.323Z"
   },
   {
    "duration": 543,
    "start_time": "2022-03-08T15:08:45.663Z"
   },
   {
    "duration": 521,
    "start_time": "2022-03-08T15:08:59.240Z"
   },
   {
    "duration": 4,
    "start_time": "2022-03-08T15:10:36.702Z"
   },
   {
    "duration": 525,
    "start_time": "2022-03-08T15:10:37.422Z"
   },
   {
    "duration": 4,
    "start_time": "2022-03-08T15:11:10.930Z"
   },
   {
    "duration": 574,
    "start_time": "2022-03-08T15:11:11.503Z"
   },
   {
    "duration": 4,
    "start_time": "2022-03-08T15:11:28.893Z"
   },
   {
    "duration": 605,
    "start_time": "2022-03-08T15:11:29.500Z"
   },
   {
    "duration": 6,
    "start_time": "2022-03-08T15:12:06.902Z"
   },
   {
    "duration": 300,
    "start_time": "2022-03-08T15:12:08.001Z"
   },
   {
    "duration": 285,
    "start_time": "2022-03-08T15:13:09.800Z"
   },
   {
    "duration": 312,
    "start_time": "2022-03-08T15:13:10.361Z"
   },
   {
    "duration": 1570,
    "start_time": "2022-03-08T15:13:19.293Z"
   },
   {
    "duration": 39,
    "start_time": "2022-03-08T15:13:20.867Z"
   },
   {
    "duration": 12,
    "start_time": "2022-03-08T15:13:20.909Z"
   },
   {
    "duration": 17,
    "start_time": "2022-03-08T15:13:20.923Z"
   },
   {
    "duration": 5,
    "start_time": "2022-03-08T15:13:20.943Z"
   },
   {
    "duration": 44,
    "start_time": "2022-03-08T15:13:20.950Z"
   },
   {
    "duration": 22,
    "start_time": "2022-03-08T15:13:20.997Z"
   },
   {
    "duration": 23,
    "start_time": "2022-03-08T15:13:21.023Z"
   },
   {
    "duration": 109,
    "start_time": "2022-03-08T15:13:21.050Z"
   },
   {
    "duration": 6,
    "start_time": "2022-03-08T15:13:21.187Z"
   },
   {
    "duration": 43,
    "start_time": "2022-03-08T15:13:21.196Z"
   },
   {
    "duration": 8,
    "start_time": "2022-03-08T15:13:21.241Z"
   },
   {
    "duration": 46,
    "start_time": "2022-03-08T15:13:21.251Z"
   },
   {
    "duration": 9,
    "start_time": "2022-03-08T15:13:21.299Z"
   },
   {
    "duration": 15,
    "start_time": "2022-03-08T15:13:21.310Z"
   },
   {
    "duration": 11,
    "start_time": "2022-03-08T15:13:21.328Z"
   },
   {
    "duration": 45,
    "start_time": "2022-03-08T15:13:21.342Z"
   },
   {
    "duration": 22,
    "start_time": "2022-03-08T15:13:21.390Z"
   },
   {
    "duration": 5,
    "start_time": "2022-03-08T15:13:21.415Z"
   },
   {
    "duration": 10,
    "start_time": "2022-03-08T15:13:21.423Z"
   },
   {
    "duration": 14,
    "start_time": "2022-03-08T15:13:21.436Z"
   },
   {
    "duration": 51,
    "start_time": "2022-03-08T15:13:21.453Z"
   },
   {
    "duration": 104,
    "start_time": "2022-03-08T15:13:21.507Z"
   },
   {
    "duration": 39,
    "start_time": "2022-03-08T15:13:21.614Z"
   },
   {
    "duration": 7,
    "start_time": "2022-03-08T15:13:21.655Z"
   },
   {
    "duration": 6,
    "start_time": "2022-03-08T15:13:21.691Z"
   },
   {
    "duration": 14,
    "start_time": "2022-03-08T15:13:21.700Z"
   },
   {
    "duration": 4,
    "start_time": "2022-03-08T15:13:21.717Z"
   },
   {
    "duration": 18,
    "start_time": "2022-03-08T15:13:21.723Z"
   },
   {
    "duration": 569,
    "start_time": "2022-03-08T15:13:21.743Z"
   },
   {
    "duration": 2759,
    "start_time": "2022-03-08T15:13:22.315Z"
   },
   {
    "duration": 1171,
    "start_time": "2022-03-08T15:13:25.076Z"
   },
   {
    "duration": 6,
    "start_time": "2022-03-08T15:13:26.250Z"
   },
   {
    "duration": 32,
    "start_time": "2022-03-08T15:13:26.258Z"
   },
   {
    "duration": 172,
    "start_time": "2022-03-08T15:13:26.292Z"
   },
   {
    "duration": 20,
    "start_time": "2022-03-08T15:13:26.467Z"
   },
   {
    "duration": 16,
    "start_time": "2022-03-08T15:13:26.489Z"
   },
   {
    "duration": 257,
    "start_time": "2022-03-08T15:13:26.507Z"
   },
   {
    "duration": 20,
    "start_time": "2022-03-08T15:13:26.767Z"
   },
   {
    "duration": 107,
    "start_time": "2022-03-08T15:13:26.790Z"
   },
   {
    "duration": 12,
    "start_time": "2022-03-08T15:13:26.899Z"
   },
   {
    "duration": 167,
    "start_time": "2022-03-08T15:13:26.913Z"
   },
   {
    "duration": 6,
    "start_time": "2022-03-08T15:13:27.082Z"
   },
   {
    "duration": 10,
    "start_time": "2022-03-08T15:13:27.091Z"
   },
   {
    "duration": 624,
    "start_time": "2022-03-08T15:13:27.104Z"
   },
   {
    "duration": 8,
    "start_time": "2022-03-08T15:13:27.730Z"
   },
   {
    "duration": 572,
    "start_time": "2022-03-08T15:13:27.740Z"
   },
   {
    "duration": -2488,
    "start_time": "2022-03-08T15:13:30.803Z"
   },
   {
    "duration": -2501,
    "start_time": "2022-03-08T15:13:30.818Z"
   },
   {
    "duration": 283,
    "start_time": "2022-03-08T15:13:50.160Z"
   },
   {
    "duration": 1494,
    "start_time": "2022-03-08T15:13:56.232Z"
   },
   {
    "duration": 39,
    "start_time": "2022-03-08T15:13:57.728Z"
   },
   {
    "duration": 19,
    "start_time": "2022-03-08T15:13:57.770Z"
   },
   {
    "duration": 15,
    "start_time": "2022-03-08T15:13:57.791Z"
   },
   {
    "duration": 5,
    "start_time": "2022-03-08T15:13:57.808Z"
   },
   {
    "duration": 19,
    "start_time": "2022-03-08T15:13:57.815Z"
   },
   {
    "duration": 51,
    "start_time": "2022-03-08T15:13:57.837Z"
   },
   {
    "duration": 21,
    "start_time": "2022-03-08T15:13:57.891Z"
   },
   {
    "duration": 93,
    "start_time": "2022-03-08T15:13:57.916Z"
   },
   {
    "duration": 7,
    "start_time": "2022-03-08T15:13:58.012Z"
   },
   {
    "duration": 66,
    "start_time": "2022-03-08T15:13:58.022Z"
   },
   {
    "duration": 9,
    "start_time": "2022-03-08T15:13:58.091Z"
   },
   {
    "duration": 24,
    "start_time": "2022-03-08T15:13:58.103Z"
   },
   {
    "duration": 11,
    "start_time": "2022-03-08T15:13:58.130Z"
   },
   {
    "duration": 52,
    "start_time": "2022-03-08T15:13:58.144Z"
   },
   {
    "duration": 11,
    "start_time": "2022-03-08T15:13:58.198Z"
   },
   {
    "duration": 4,
    "start_time": "2022-03-08T15:13:58.212Z"
   },
   {
    "duration": 24,
    "start_time": "2022-03-08T15:13:58.219Z"
   },
   {
    "duration": 42,
    "start_time": "2022-03-08T15:13:58.246Z"
   },
   {
    "duration": 8,
    "start_time": "2022-03-08T15:13:58.291Z"
   },
   {
    "duration": 14,
    "start_time": "2022-03-08T15:13:58.302Z"
   },
   {
    "duration": 21,
    "start_time": "2022-03-08T15:13:58.319Z"
   },
   {
    "duration": 110,
    "start_time": "2022-03-08T15:13:58.344Z"
   },
   {
    "duration": 52,
    "start_time": "2022-03-08T15:13:58.456Z"
   },
   {
    "duration": 6,
    "start_time": "2022-03-08T15:13:58.510Z"
   },
   {
    "duration": 17,
    "start_time": "2022-03-08T15:13:58.518Z"
   },
   {
    "duration": 19,
    "start_time": "2022-03-08T15:13:58.540Z"
   },
   {
    "duration": 4,
    "start_time": "2022-03-08T15:13:58.562Z"
   },
   {
    "duration": 26,
    "start_time": "2022-03-08T15:13:58.569Z"
   },
   {
    "duration": 535,
    "start_time": "2022-03-08T15:13:58.597Z"
   },
   {
    "duration": 2326,
    "start_time": "2022-03-08T15:13:59.135Z"
   },
   {
    "duration": 1280,
    "start_time": "2022-03-08T15:14:01.463Z"
   },
   {
    "duration": 5,
    "start_time": "2022-03-08T15:14:02.745Z"
   },
   {
    "duration": 24,
    "start_time": "2022-03-08T15:14:02.753Z"
   },
   {
    "duration": 172,
    "start_time": "2022-03-08T15:14:02.779Z"
   },
   {
    "duration": 9,
    "start_time": "2022-03-08T15:14:02.953Z"
   },
   {
    "duration": 32,
    "start_time": "2022-03-08T15:14:02.964Z"
   },
   {
    "duration": 233,
    "start_time": "2022-03-08T15:14:02.999Z"
   },
   {
    "duration": 9,
    "start_time": "2022-03-08T15:14:03.235Z"
   },
   {
    "duration": 104,
    "start_time": "2022-03-08T15:14:03.246Z"
   },
   {
    "duration": 10,
    "start_time": "2022-03-08T15:14:03.352Z"
   },
   {
    "duration": 148,
    "start_time": "2022-03-08T15:14:03.364Z"
   },
   {
    "duration": 4,
    "start_time": "2022-03-08T15:14:03.515Z"
   },
   {
    "duration": 10,
    "start_time": "2022-03-08T15:14:03.521Z"
   },
   {
    "duration": 602,
    "start_time": "2022-03-08T15:14:03.534Z"
   },
   {
    "duration": 7,
    "start_time": "2022-03-08T15:14:04.138Z"
   },
   {
    "duration": 437,
    "start_time": "2022-03-08T15:14:04.148Z"
   },
   {
    "duration": -2352,
    "start_time": "2022-03-08T15:14:06.939Z"
   },
   {
    "duration": -2355,
    "start_time": "2022-03-08T15:14:06.944Z"
   },
   {
    "duration": 1543,
    "start_time": "2022-03-08T15:14:23.804Z"
   },
   {
    "duration": 38,
    "start_time": "2022-03-08T15:14:25.350Z"
   },
   {
    "duration": 11,
    "start_time": "2022-03-08T15:14:25.390Z"
   },
   {
    "duration": 21,
    "start_time": "2022-03-08T15:14:25.403Z"
   },
   {
    "duration": 9,
    "start_time": "2022-03-08T15:14:25.426Z"
   },
   {
    "duration": 14,
    "start_time": "2022-03-08T15:14:25.437Z"
   },
   {
    "duration": 51,
    "start_time": "2022-03-08T15:14:25.453Z"
   },
   {
    "duration": 21,
    "start_time": "2022-03-08T15:14:25.508Z"
   },
   {
    "duration": 96,
    "start_time": "2022-03-08T15:14:25.532Z"
   },
   {
    "duration": 7,
    "start_time": "2022-03-08T15:14:25.630Z"
   },
   {
    "duration": 70,
    "start_time": "2022-03-08T15:14:25.639Z"
   },
   {
    "duration": 8,
    "start_time": "2022-03-08T15:14:25.711Z"
   },
   {
    "duration": 15,
    "start_time": "2022-03-08T15:14:25.721Z"
   },
   {
    "duration": 9,
    "start_time": "2022-03-08T15:14:25.738Z"
   },
   {
    "duration": 47,
    "start_time": "2022-03-08T15:14:25.750Z"
   },
   {
    "duration": 9,
    "start_time": "2022-03-08T15:14:25.799Z"
   },
   {
    "duration": 5,
    "start_time": "2022-03-08T15:14:25.810Z"
   },
   {
    "duration": 17,
    "start_time": "2022-03-08T15:14:25.817Z"
   },
   {
    "duration": 4,
    "start_time": "2022-03-08T15:14:25.837Z"
   },
   {
    "duration": 47,
    "start_time": "2022-03-08T15:14:25.844Z"
   },
   {
    "duration": 14,
    "start_time": "2022-03-08T15:14:25.894Z"
   },
   {
    "duration": 20,
    "start_time": "2022-03-08T15:14:25.911Z"
   },
   {
    "duration": 123,
    "start_time": "2022-03-08T15:14:25.939Z"
   },
   {
    "duration": 57,
    "start_time": "2022-03-08T15:14:26.065Z"
   },
   {
    "duration": 8,
    "start_time": "2022-03-08T15:14:26.124Z"
   },
   {
    "duration": 11,
    "start_time": "2022-03-08T15:14:26.134Z"
   },
   {
    "duration": 39,
    "start_time": "2022-03-08T15:14:26.148Z"
   },
   {
    "duration": 4,
    "start_time": "2022-03-08T15:14:26.190Z"
   },
   {
    "duration": 13,
    "start_time": "2022-03-08T15:14:26.196Z"
   },
   {
    "duration": 555,
    "start_time": "2022-03-08T15:14:26.212Z"
   },
   {
    "duration": 2304,
    "start_time": "2022-03-08T15:14:26.769Z"
   },
   {
    "duration": 1276,
    "start_time": "2022-03-08T15:14:29.075Z"
   },
   {
    "duration": 5,
    "start_time": "2022-03-08T15:14:30.354Z"
   },
   {
    "duration": 45,
    "start_time": "2022-03-08T15:14:30.362Z"
   },
   {
    "duration": 164,
    "start_time": "2022-03-08T15:14:30.409Z"
   },
   {
    "duration": 17,
    "start_time": "2022-03-08T15:14:30.576Z"
   },
   {
    "duration": 19,
    "start_time": "2022-03-08T15:14:30.595Z"
   },
   {
    "duration": 242,
    "start_time": "2022-03-08T15:14:30.616Z"
   },
   {
    "duration": 26,
    "start_time": "2022-03-08T15:14:30.861Z"
   },
   {
    "duration": 86,
    "start_time": "2022-03-08T15:14:30.890Z"
   },
   {
    "duration": 11,
    "start_time": "2022-03-08T15:14:30.986Z"
   },
   {
    "duration": 157,
    "start_time": "2022-03-08T15:14:30.999Z"
   },
   {
    "duration": 3,
    "start_time": "2022-03-08T15:14:31.158Z"
   },
   {
    "duration": 24,
    "start_time": "2022-03-08T15:14:31.163Z"
   },
   {
    "duration": 572,
    "start_time": "2022-03-08T15:14:31.189Z"
   },
   {
    "duration": 7,
    "start_time": "2022-03-08T15:14:31.763Z"
   },
   {
    "duration": 437,
    "start_time": "2022-03-08T15:14:31.773Z"
   },
   {
    "duration": 9,
    "start_time": "2022-03-08T15:14:32.212Z"
   },
   {
    "duration": 17,
    "start_time": "2022-03-08T15:14:32.223Z"
   },
   {
    "duration": 434,
    "start_time": "2022-03-08T15:21:31.705Z"
   },
   {
    "duration": 10,
    "start_time": "2022-03-08T15:21:33.924Z"
   },
   {
    "duration": 17,
    "start_time": "2022-03-08T15:21:34.724Z"
   },
   {
    "duration": 95,
    "start_time": "2022-03-08T15:21:35.192Z"
   },
   {
    "duration": 1581,
    "start_time": "2022-03-08T15:22:46.970Z"
   },
   {
    "duration": 47,
    "start_time": "2022-03-08T15:22:48.554Z"
   },
   {
    "duration": 13,
    "start_time": "2022-03-08T15:22:48.605Z"
   },
   {
    "duration": 22,
    "start_time": "2022-03-08T15:22:48.621Z"
   },
   {
    "duration": 8,
    "start_time": "2022-03-08T15:22:48.646Z"
   },
   {
    "duration": 39,
    "start_time": "2022-03-08T15:22:48.657Z"
   },
   {
    "duration": 32,
    "start_time": "2022-03-08T15:22:48.699Z"
   },
   {
    "duration": 55,
    "start_time": "2022-03-08T15:22:48.734Z"
   },
   {
    "duration": 119,
    "start_time": "2022-03-08T15:22:48.795Z"
   },
   {
    "duration": 7,
    "start_time": "2022-03-08T15:22:48.917Z"
   },
   {
    "duration": 64,
    "start_time": "2022-03-08T15:22:48.926Z"
   },
   {
    "duration": 8,
    "start_time": "2022-03-08T15:22:48.992Z"
   },
   {
    "duration": 13,
    "start_time": "2022-03-08T15:22:49.003Z"
   },
   {
    "duration": 9,
    "start_time": "2022-03-08T15:22:49.019Z"
   },
   {
    "duration": 13,
    "start_time": "2022-03-08T15:22:49.030Z"
   },
   {
    "duration": 49,
    "start_time": "2022-03-08T15:22:49.045Z"
   },
   {
    "duration": 6,
    "start_time": "2022-03-08T15:22:49.096Z"
   },
   {
    "duration": 18,
    "start_time": "2022-03-08T15:22:49.104Z"
   },
   {
    "duration": 3,
    "start_time": "2022-03-08T15:22:49.124Z"
   },
   {
    "duration": 10,
    "start_time": "2022-03-08T15:22:49.129Z"
   },
   {
    "duration": 47,
    "start_time": "2022-03-08T15:22:49.141Z"
   },
   {
    "duration": 21,
    "start_time": "2022-03-08T15:22:49.190Z"
   },
   {
    "duration": 109,
    "start_time": "2022-03-08T15:22:49.213Z"
   },
   {
    "duration": 37,
    "start_time": "2022-03-08T15:22:49.325Z"
   },
   {
    "duration": 26,
    "start_time": "2022-03-08T15:22:49.364Z"
   },
   {
    "duration": 7,
    "start_time": "2022-03-08T15:22:49.393Z"
   },
   {
    "duration": 10,
    "start_time": "2022-03-08T15:22:49.405Z"
   },
   {
    "duration": 5,
    "start_time": "2022-03-08T15:22:49.418Z"
   },
   {
    "duration": 10,
    "start_time": "2022-03-08T15:22:49.425Z"
   },
   {
    "duration": 574,
    "start_time": "2022-03-08T15:22:49.438Z"
   },
   {
    "duration": 2246,
    "start_time": "2022-03-08T15:22:50.014Z"
   },
   {
    "duration": 1283,
    "start_time": "2022-03-08T15:22:52.262Z"
   },
   {
    "duration": 6,
    "start_time": "2022-03-08T15:22:53.548Z"
   },
   {
    "duration": 30,
    "start_time": "2022-03-08T15:22:53.556Z"
   },
   {
    "duration": 174,
    "start_time": "2022-03-08T15:22:53.589Z"
   },
   {
    "duration": 9,
    "start_time": "2022-03-08T15:22:53.765Z"
   },
   {
    "duration": 14,
    "start_time": "2022-03-08T15:22:53.786Z"
   },
   {
    "duration": 240,
    "start_time": "2022-03-08T15:22:53.803Z"
   },
   {
    "duration": 10,
    "start_time": "2022-03-08T15:22:54.045Z"
   },
   {
    "duration": 101,
    "start_time": "2022-03-08T15:22:54.057Z"
   },
   {
    "duration": 9,
    "start_time": "2022-03-08T15:22:54.160Z"
   },
   {
    "duration": 153,
    "start_time": "2022-03-08T15:22:54.171Z"
   },
   {
    "duration": 3,
    "start_time": "2022-03-08T15:22:54.326Z"
   },
   {
    "duration": 13,
    "start_time": "2022-03-08T15:22:54.331Z"
   },
   {
    "duration": 585,
    "start_time": "2022-03-08T15:22:54.346Z"
   },
   {
    "duration": 7,
    "start_time": "2022-03-08T15:22:54.933Z"
   },
   {
    "duration": 444,
    "start_time": "2022-03-08T15:22:54.943Z"
   },
   {
    "duration": 9,
    "start_time": "2022-03-08T15:22:55.389Z"
   },
   {
    "duration": 25,
    "start_time": "2022-03-08T15:22:55.400Z"
   },
   {
    "duration": 9,
    "start_time": "2022-03-08T15:25:45.449Z"
   },
   {
    "duration": 6737,
    "start_time": "2022-03-08T15:25:46.190Z"
   },
   {
    "duration": 1694,
    "start_time": "2022-03-08T15:26:00.288Z"
   },
   {
    "duration": 41,
    "start_time": "2022-03-08T15:26:01.988Z"
   },
   {
    "duration": 14,
    "start_time": "2022-03-08T15:26:02.033Z"
   },
   {
    "duration": 45,
    "start_time": "2022-03-08T15:26:02.051Z"
   },
   {
    "duration": 6,
    "start_time": "2022-03-08T15:26:02.099Z"
   },
   {
    "duration": 16,
    "start_time": "2022-03-08T15:26:02.108Z"
   },
   {
    "duration": 30,
    "start_time": "2022-03-08T15:26:02.127Z"
   },
   {
    "duration": 25,
    "start_time": "2022-03-08T15:26:02.188Z"
   },
   {
    "duration": 103,
    "start_time": "2022-03-08T15:26:02.219Z"
   },
   {
    "duration": 8,
    "start_time": "2022-03-08T15:26:02.326Z"
   },
   {
    "duration": 66,
    "start_time": "2022-03-08T15:26:02.337Z"
   },
   {
    "duration": 9,
    "start_time": "2022-03-08T15:26:02.406Z"
   },
   {
    "duration": 21,
    "start_time": "2022-03-08T15:26:02.419Z"
   },
   {
    "duration": 47,
    "start_time": "2022-03-08T15:26:02.443Z"
   },
   {
    "duration": 14,
    "start_time": "2022-03-08T15:26:02.492Z"
   },
   {
    "duration": 8,
    "start_time": "2022-03-08T15:26:02.509Z"
   },
   {
    "duration": 6,
    "start_time": "2022-03-08T15:26:02.520Z"
   },
   {
    "duration": 24,
    "start_time": "2022-03-08T15:26:02.528Z"
   },
   {
    "duration": 33,
    "start_time": "2022-03-08T15:26:02.554Z"
   },
   {
    "duration": 13,
    "start_time": "2022-03-08T15:26:02.590Z"
   },
   {
    "duration": 16,
    "start_time": "2022-03-08T15:26:02.605Z"
   },
   {
    "duration": 19,
    "start_time": "2022-03-08T15:26:02.624Z"
   },
   {
    "duration": 91,
    "start_time": "2022-03-08T15:26:02.645Z"
   },
   {
    "duration": 49,
    "start_time": "2022-03-08T15:26:02.738Z"
   },
   {
    "duration": 6,
    "start_time": "2022-03-08T15:26:02.789Z"
   },
   {
    "duration": 10,
    "start_time": "2022-03-08T15:26:02.797Z"
   },
   {
    "duration": 10,
    "start_time": "2022-03-08T15:26:02.812Z"
   },
   {
    "duration": 5,
    "start_time": "2022-03-08T15:26:02.825Z"
   },
   {
    "duration": 16,
    "start_time": "2022-03-08T15:26:02.832Z"
   },
   {
    "duration": 551,
    "start_time": "2022-03-08T15:26:02.851Z"
   },
   {
    "duration": 2400,
    "start_time": "2022-03-08T15:26:03.405Z"
   },
   {
    "duration": 1242,
    "start_time": "2022-03-08T15:26:05.808Z"
   },
   {
    "duration": 7,
    "start_time": "2022-03-08T15:26:07.053Z"
   },
   {
    "duration": 29,
    "start_time": "2022-03-08T15:26:07.063Z"
   },
   {
    "duration": 182,
    "start_time": "2022-03-08T15:26:07.094Z"
   },
   {
    "duration": 16,
    "start_time": "2022-03-08T15:26:07.278Z"
   },
   {
    "duration": 16,
    "start_time": "2022-03-08T15:26:07.296Z"
   },
   {
    "duration": 252,
    "start_time": "2022-03-08T15:26:07.314Z"
   },
   {
    "duration": 20,
    "start_time": "2022-03-08T15:26:07.569Z"
   },
   {
    "duration": 100,
    "start_time": "2022-03-08T15:26:07.592Z"
   },
   {
    "duration": 10,
    "start_time": "2022-03-08T15:26:07.695Z"
   },
   {
    "duration": 150,
    "start_time": "2022-03-08T15:26:07.708Z"
   },
   {
    "duration": 4,
    "start_time": "2022-03-08T15:26:07.860Z"
   },
   {
    "duration": 21,
    "start_time": "2022-03-08T15:26:07.866Z"
   },
   {
    "duration": 570,
    "start_time": "2022-03-08T15:26:07.889Z"
   },
   {
    "duration": 7,
    "start_time": "2022-03-08T15:26:08.462Z"
   },
   {
    "duration": 438,
    "start_time": "2022-03-08T15:26:08.486Z"
   },
   {
    "duration": 10,
    "start_time": "2022-03-08T15:26:08.927Z"
   },
   {
    "duration": 15,
    "start_time": "2022-03-08T15:26:08.939Z"
   },
   {
    "duration": 1121,
    "start_time": "2022-03-09T17:32:22.507Z"
   },
   {
    "duration": 33,
    "start_time": "2022-03-09T17:32:23.630Z"
   },
   {
    "duration": 6,
    "start_time": "2022-03-09T17:32:23.665Z"
   },
   {
    "duration": 14,
    "start_time": "2022-03-09T17:32:23.673Z"
   },
   {
    "duration": 3,
    "start_time": "2022-03-09T17:32:23.688Z"
   },
   {
    "duration": 16,
    "start_time": "2022-03-09T17:32:23.693Z"
   },
   {
    "duration": 15,
    "start_time": "2022-03-09T17:32:23.710Z"
   },
   {
    "duration": 10,
    "start_time": "2022-03-09T17:32:23.727Z"
   },
   {
    "duration": 73,
    "start_time": "2022-03-09T17:32:23.739Z"
   },
   {
    "duration": 4,
    "start_time": "2022-03-09T17:32:23.814Z"
   },
   {
    "duration": 30,
    "start_time": "2022-03-09T17:32:23.819Z"
   },
   {
    "duration": 4,
    "start_time": "2022-03-09T17:32:23.851Z"
   },
   {
    "duration": 12,
    "start_time": "2022-03-09T17:32:23.857Z"
   },
   {
    "duration": 4,
    "start_time": "2022-03-09T17:32:23.871Z"
   },
   {
    "duration": 34,
    "start_time": "2022-03-09T17:32:23.877Z"
   },
   {
    "duration": 9,
    "start_time": "2022-03-09T17:32:23.913Z"
   },
   {
    "duration": 4,
    "start_time": "2022-03-09T17:32:23.923Z"
   },
   {
    "duration": 12,
    "start_time": "2022-03-09T17:32:23.929Z"
   },
   {
    "duration": 3,
    "start_time": "2022-03-09T17:32:23.942Z"
   },
   {
    "duration": 7,
    "start_time": "2022-03-09T17:32:23.946Z"
   },
   {
    "duration": 9,
    "start_time": "2022-03-09T17:32:23.954Z"
   },
   {
    "duration": 48,
    "start_time": "2022-03-09T17:32:23.964Z"
   },
   {
    "duration": 43,
    "start_time": "2022-03-09T17:32:24.015Z"
   },
   {
    "duration": 46,
    "start_time": "2022-03-09T17:32:24.060Z"
   },
   {
    "duration": 3,
    "start_time": "2022-03-09T17:32:24.108Z"
   },
   {
    "duration": 7,
    "start_time": "2022-03-09T17:32:24.113Z"
   },
   {
    "duration": 8,
    "start_time": "2022-03-09T17:32:24.121Z"
   },
   {
    "duration": 3,
    "start_time": "2022-03-09T17:32:24.131Z"
   },
   {
    "duration": 9,
    "start_time": "2022-03-09T17:32:24.136Z"
   },
   {
    "duration": 331,
    "start_time": "2022-03-09T17:32:24.146Z"
   },
   {
    "duration": 1337,
    "start_time": "2022-03-09T17:32:24.478Z"
   },
   {
    "duration": 910,
    "start_time": "2022-03-09T17:32:25.817Z"
   },
   {
    "duration": 4,
    "start_time": "2022-03-09T17:32:26.728Z"
   },
   {
    "duration": 11,
    "start_time": "2022-03-09T17:32:26.733Z"
   },
   {
    "duration": 112,
    "start_time": "2022-03-09T17:32:26.745Z"
   },
   {
    "duration": 5,
    "start_time": "2022-03-09T17:32:26.859Z"
   },
   {
    "duration": 19,
    "start_time": "2022-03-09T17:32:26.865Z"
   },
   {
    "duration": 143,
    "start_time": "2022-03-09T17:32:26.886Z"
   },
   {
    "duration": 6,
    "start_time": "2022-03-09T17:32:27.030Z"
   },
   {
    "duration": 69,
    "start_time": "2022-03-09T17:32:27.038Z"
   },
   {
    "duration": 9,
    "start_time": "2022-03-09T17:32:27.109Z"
   },
   {
    "duration": 96,
    "start_time": "2022-03-09T17:32:27.119Z"
   },
   {
    "duration": 3,
    "start_time": "2022-03-09T17:32:27.216Z"
   },
   {
    "duration": 357,
    "start_time": "2022-03-09T17:32:27.221Z"
   },
   {
    "duration": 4,
    "start_time": "2022-03-09T17:32:27.580Z"
   },
   {
    "duration": 268,
    "start_time": "2022-03-09T17:32:27.585Z"
   },
   {
    "duration": 9,
    "start_time": "2022-03-09T17:32:27.854Z"
   },
   {
    "duration": 24,
    "start_time": "2022-03-09T17:32:27.865Z"
   },
   {
    "duration": 6,
    "start_time": "2022-03-09T18:46:21.985Z"
   },
   {
    "duration": 388,
    "start_time": "2022-03-09T18:46:22.411Z"
   },
   {
    "duration": 1114,
    "start_time": "2022-03-09T18:47:05.155Z"
   },
   {
    "duration": 32,
    "start_time": "2022-03-09T18:47:06.270Z"
   },
   {
    "duration": 7,
    "start_time": "2022-03-09T18:47:06.304Z"
   },
   {
    "duration": 10,
    "start_time": "2022-03-09T18:47:06.312Z"
   },
   {
    "duration": 4,
    "start_time": "2022-03-09T18:47:06.324Z"
   },
   {
    "duration": 7,
    "start_time": "2022-03-09T18:47:06.329Z"
   },
   {
    "duration": 12,
    "start_time": "2022-03-09T18:47:06.338Z"
   },
   {
    "duration": 15,
    "start_time": "2022-03-09T18:47:06.353Z"
   },
   {
    "duration": 60,
    "start_time": "2022-03-09T18:47:06.406Z"
   },
   {
    "duration": 5,
    "start_time": "2022-03-09T18:47:06.468Z"
   },
   {
    "duration": 44,
    "start_time": "2022-03-09T18:47:06.474Z"
   },
   {
    "duration": 4,
    "start_time": "2022-03-09T18:47:06.520Z"
   },
   {
    "duration": 9,
    "start_time": "2022-03-09T18:47:06.525Z"
   },
   {
    "duration": 5,
    "start_time": "2022-03-09T18:47:06.535Z"
   },
   {
    "duration": 10,
    "start_time": "2022-03-09T18:47:06.541Z"
   },
   {
    "duration": 8,
    "start_time": "2022-03-09T18:47:06.552Z"
   },
   {
    "duration": 7,
    "start_time": "2022-03-09T18:47:06.561Z"
   },
   {
    "duration": 12,
    "start_time": "2022-03-09T18:47:06.569Z"
   },
   {
    "duration": 22,
    "start_time": "2022-03-09T18:47:06.583Z"
   },
   {
    "duration": 7,
    "start_time": "2022-03-09T18:47:06.607Z"
   },
   {
    "duration": 10,
    "start_time": "2022-03-09T18:47:06.615Z"
   },
   {
    "duration": 16,
    "start_time": "2022-03-09T18:47:06.627Z"
   },
   {
    "duration": 75,
    "start_time": "2022-03-09T18:47:06.647Z"
   },
   {
    "duration": 20,
    "start_time": "2022-03-09T18:47:06.724Z"
   },
   {
    "duration": 4,
    "start_time": "2022-03-09T18:47:06.745Z"
   },
   {
    "duration": 6,
    "start_time": "2022-03-09T18:47:06.750Z"
   },
   {
    "duration": 8,
    "start_time": "2022-03-09T18:47:06.757Z"
   },
   {
    "duration": 3,
    "start_time": "2022-03-09T18:47:06.767Z"
   },
   {
    "duration": 33,
    "start_time": "2022-03-09T18:47:06.772Z"
   },
   {
    "duration": 300,
    "start_time": "2022-03-09T18:47:06.807Z"
   },
   {
    "duration": 1341,
    "start_time": "2022-03-09T18:47:07.109Z"
   },
   {
    "duration": 884,
    "start_time": "2022-03-09T18:47:08.451Z"
   },
   {
    "duration": 3,
    "start_time": "2022-03-09T18:47:09.337Z"
   },
   {
    "duration": 11,
    "start_time": "2022-03-09T18:47:09.342Z"
   },
   {
    "duration": 105,
    "start_time": "2022-03-09T18:47:09.354Z"
   },
   {
    "duration": 5,
    "start_time": "2022-03-09T18:47:09.460Z"
   },
   {
    "duration": 9,
    "start_time": "2022-03-09T18:47:09.467Z"
   },
   {
    "duration": 205,
    "start_time": "2022-03-09T18:47:09.478Z"
   },
   {
    "duration": 7,
    "start_time": "2022-03-09T18:47:09.685Z"
   },
   {
    "duration": 83,
    "start_time": "2022-03-09T18:47:09.694Z"
   },
   {
    "duration": 8,
    "start_time": "2022-03-09T18:47:09.779Z"
   },
   {
    "duration": 93,
    "start_time": "2022-03-09T18:47:09.788Z"
   },
   {
    "duration": 3,
    "start_time": "2022-03-09T18:47:09.882Z"
   },
   {
    "duration": 349,
    "start_time": "2022-03-09T18:47:09.886Z"
   },
   {
    "duration": 4,
    "start_time": "2022-03-09T18:47:10.237Z"
   },
   {
    "duration": 271,
    "start_time": "2022-03-09T18:47:10.243Z"
   },
   {
    "duration": 12,
    "start_time": "2022-03-09T18:47:10.517Z"
   },
   {
    "duration": 6,
    "start_time": "2022-03-09T18:47:10.530Z"
   },
   {
    "duration": 99,
    "start_time": "2022-03-10T16:29:23.958Z"
   },
   {
    "duration": 1525,
    "start_time": "2022-03-10T16:45:48.420Z"
   },
   {
    "duration": 43,
    "start_time": "2022-03-10T16:45:49.947Z"
   },
   {
    "duration": 11,
    "start_time": "2022-03-10T16:45:49.992Z"
   },
   {
    "duration": 32,
    "start_time": "2022-03-10T16:45:50.005Z"
   },
   {
    "duration": 4,
    "start_time": "2022-03-10T16:45:50.040Z"
   },
   {
    "duration": 24,
    "start_time": "2022-03-10T16:45:50.046Z"
   },
   {
    "duration": 27,
    "start_time": "2022-03-10T16:45:50.073Z"
   },
   {
    "duration": 26,
    "start_time": "2022-03-10T16:45:50.102Z"
   },
   {
    "duration": 99,
    "start_time": "2022-03-10T16:45:50.132Z"
   },
   {
    "duration": 7,
    "start_time": "2022-03-10T16:45:50.234Z"
   },
   {
    "duration": 70,
    "start_time": "2022-03-10T16:45:50.243Z"
   },
   {
    "duration": 9,
    "start_time": "2022-03-10T16:45:50.315Z"
   },
   {
    "duration": 117,
    "start_time": "2022-03-10T16:45:50.326Z"
   },
   {
    "duration": -5096,
    "start_time": "2022-03-10T16:45:55.543Z"
   },
   {
    "duration": -5100,
    "start_time": "2022-03-10T16:45:55.549Z"
   },
   {
    "duration": -5105,
    "start_time": "2022-03-10T16:45:55.555Z"
   },
   {
    "duration": -5115,
    "start_time": "2022-03-10T16:45:55.567Z"
   },
   {
    "duration": -5120,
    "start_time": "2022-03-10T16:45:55.573Z"
   },
   {
    "duration": -5125,
    "start_time": "2022-03-10T16:45:55.579Z"
   },
   {
    "duration": -5128,
    "start_time": "2022-03-10T16:45:55.584Z"
   },
   {
    "duration": -5133,
    "start_time": "2022-03-10T16:45:55.590Z"
   },
   {
    "duration": -5137,
    "start_time": "2022-03-10T16:45:55.595Z"
   },
   {
    "duration": -5167,
    "start_time": "2022-03-10T16:45:55.626Z"
   },
   {
    "duration": -5177,
    "start_time": "2022-03-10T16:45:55.638Z"
   },
   {
    "duration": -5182,
    "start_time": "2022-03-10T16:45:55.644Z"
   },
   {
    "duration": -5185,
    "start_time": "2022-03-10T16:45:55.649Z"
   },
   {
    "duration": -5190,
    "start_time": "2022-03-10T16:45:55.656Z"
   },
   {
    "duration": -5198,
    "start_time": "2022-03-10T16:45:55.665Z"
   },
   {
    "duration": -5202,
    "start_time": "2022-03-10T16:45:55.671Z"
   },
   {
    "duration": -5205,
    "start_time": "2022-03-10T16:45:55.676Z"
   },
   {
    "duration": -5209,
    "start_time": "2022-03-10T16:45:55.682Z"
   },
   {
    "duration": -5213,
    "start_time": "2022-03-10T16:45:55.687Z"
   },
   {
    "duration": -5219,
    "start_time": "2022-03-10T16:45:55.694Z"
   },
   {
    "duration": -5222,
    "start_time": "2022-03-10T16:45:55.699Z"
   },
   {
    "duration": -5227,
    "start_time": "2022-03-10T16:45:55.705Z"
   },
   {
    "duration": -5230,
    "start_time": "2022-03-10T16:45:55.710Z"
   },
   {
    "duration": -5234,
    "start_time": "2022-03-10T16:45:55.716Z"
   },
   {
    "duration": -5238,
    "start_time": "2022-03-10T16:45:55.721Z"
   },
   {
    "duration": -5251,
    "start_time": "2022-03-10T16:45:55.738Z"
   },
   {
    "duration": -5254,
    "start_time": "2022-03-10T16:45:55.743Z"
   },
   {
    "duration": -5257,
    "start_time": "2022-03-10T16:45:55.748Z"
   },
   {
    "duration": -5263,
    "start_time": "2022-03-10T16:45:55.755Z"
   },
   {
    "duration": -5267,
    "start_time": "2022-03-10T16:45:55.760Z"
   },
   {
    "duration": -5270,
    "start_time": "2022-03-10T16:45:55.765Z"
   },
   {
    "duration": -5275,
    "start_time": "2022-03-10T16:45:55.771Z"
   },
   {
    "duration": -5278,
    "start_time": "2022-03-10T16:45:55.776Z"
   },
   {
    "duration": -5283,
    "start_time": "2022-03-10T16:45:55.782Z"
   },
   {
    "duration": -5288,
    "start_time": "2022-03-10T16:45:55.788Z"
   },
   {
    "duration": -5292,
    "start_time": "2022-03-10T16:45:55.794Z"
   },
   {
    "duration": 1496,
    "start_time": "2022-03-10T16:46:10.240Z"
   },
   {
    "duration": 41,
    "start_time": "2022-03-10T16:46:11.739Z"
   },
   {
    "duration": 11,
    "start_time": "2022-03-10T16:46:11.787Z"
   },
   {
    "duration": 18,
    "start_time": "2022-03-10T16:46:11.800Z"
   },
   {
    "duration": 4,
    "start_time": "2022-03-10T16:46:11.821Z"
   },
   {
    "duration": 11,
    "start_time": "2022-03-10T16:46:11.827Z"
   },
   {
    "duration": 60,
    "start_time": "2022-03-10T16:46:11.840Z"
   },
   {
    "duration": 21,
    "start_time": "2022-03-10T16:46:11.902Z"
   },
   {
    "duration": 101,
    "start_time": "2022-03-10T16:46:11.926Z"
   },
   {
    "duration": 7,
    "start_time": "2022-03-10T16:46:12.030Z"
   },
   {
    "duration": 78,
    "start_time": "2022-03-10T16:46:12.040Z"
   },
   {
    "duration": 8,
    "start_time": "2022-03-10T16:46:12.120Z"
   },
   {
    "duration": 30,
    "start_time": "2022-03-10T16:46:12.131Z"
   },
   {
    "duration": 29,
    "start_time": "2022-03-10T16:46:12.164Z"
   },
   {
    "duration": 15,
    "start_time": "2022-03-10T16:46:12.196Z"
   },
   {
    "duration": 11,
    "start_time": "2022-03-10T16:46:12.213Z"
   },
   {
    "duration": 4,
    "start_time": "2022-03-10T16:46:12.226Z"
   },
   {
    "duration": 55,
    "start_time": "2022-03-10T16:46:12.232Z"
   },
   {
    "duration": 3,
    "start_time": "2022-03-10T16:46:12.290Z"
   },
   {
    "duration": 47,
    "start_time": "2022-03-10T16:46:12.296Z"
   },
   {
    "duration": 24,
    "start_time": "2022-03-10T16:46:12.346Z"
   },
   {
    "duration": 23,
    "start_time": "2022-03-10T16:46:12.373Z"
   },
   {
    "duration": 90,
    "start_time": "2022-03-10T16:46:12.398Z"
   },
   {
    "duration": 36,
    "start_time": "2022-03-10T16:46:12.491Z"
   },
   {
    "duration": 6,
    "start_time": "2022-03-10T16:46:12.529Z"
   },
   {
    "duration": 10,
    "start_time": "2022-03-10T16:46:12.537Z"
   },
   {
    "duration": 10,
    "start_time": "2022-03-10T16:46:12.589Z"
   },
   {
    "duration": 6,
    "start_time": "2022-03-10T16:46:12.602Z"
   },
   {
    "duration": 15,
    "start_time": "2022-03-10T16:46:12.610Z"
   },
   {
    "duration": 17,
    "start_time": "2022-03-10T16:46:12.627Z"
   },
   {
    "duration": 723,
    "start_time": "2022-03-10T16:46:12.647Z"
   },
   {
    "duration": -5036,
    "start_time": "2022-03-10T16:46:18.408Z"
   },
   {
    "duration": -5041,
    "start_time": "2022-03-10T16:46:18.415Z"
   },
   {
    "duration": -5046,
    "start_time": "2022-03-10T16:46:18.421Z"
   },
   {
    "duration": -5051,
    "start_time": "2022-03-10T16:46:18.427Z"
   },
   {
    "duration": -5055,
    "start_time": "2022-03-10T16:46:18.433Z"
   },
   {
    "duration": -5060,
    "start_time": "2022-03-10T16:46:18.439Z"
   },
   {
    "duration": -5064,
    "start_time": "2022-03-10T16:46:18.444Z"
   },
   {
    "duration": -5068,
    "start_time": "2022-03-10T16:46:18.450Z"
   },
   {
    "duration": -5073,
    "start_time": "2022-03-10T16:46:18.456Z"
   },
   {
    "duration": -5076,
    "start_time": "2022-03-10T16:46:18.461Z"
   },
   {
    "duration": -5081,
    "start_time": "2022-03-10T16:46:18.467Z"
   },
   {
    "duration": -5085,
    "start_time": "2022-03-10T16:46:18.472Z"
   },
   {
    "duration": -5088,
    "start_time": "2022-03-10T16:46:18.477Z"
   },
   {
    "duration": -5092,
    "start_time": "2022-03-10T16:46:18.482Z"
   },
   {
    "duration": -5097,
    "start_time": "2022-03-10T16:46:18.488Z"
   },
   {
    "duration": -5112,
    "start_time": "2022-03-10T16:46:18.505Z"
   },
   {
    "duration": -5118,
    "start_time": "2022-03-10T16:46:18.512Z"
   },
   {
    "duration": 9,
    "start_time": "2022-03-10T16:47:34.687Z"
   },
   {
    "duration": 551,
    "start_time": "2022-03-10T16:47:35.407Z"
   },
   {
    "duration": 1565,
    "start_time": "2022-03-10T16:47:52.585Z"
   },
   {
    "duration": 43,
    "start_time": "2022-03-10T16:47:54.152Z"
   },
   {
    "duration": 11,
    "start_time": "2022-03-10T16:47:54.198Z"
   },
   {
    "duration": 16,
    "start_time": "2022-03-10T16:47:54.211Z"
   },
   {
    "duration": 5,
    "start_time": "2022-03-10T16:47:54.229Z"
   },
   {
    "duration": 12,
    "start_time": "2022-03-10T16:47:54.236Z"
   },
   {
    "duration": 22,
    "start_time": "2022-03-10T16:47:54.288Z"
   },
   {
    "duration": 21,
    "start_time": "2022-03-10T16:47:54.312Z"
   },
   {
    "duration": 113,
    "start_time": "2022-03-10T16:47:54.338Z"
   },
   {
    "duration": 6,
    "start_time": "2022-03-10T16:47:54.454Z"
   },
   {
    "duration": 64,
    "start_time": "2022-03-10T16:47:54.462Z"
   },
   {
    "duration": 8,
    "start_time": "2022-03-10T16:47:54.529Z"
   },
   {
    "duration": 16,
    "start_time": "2022-03-10T16:47:54.540Z"
   },
   {
    "duration": 34,
    "start_time": "2022-03-10T16:47:54.559Z"
   },
   {
    "duration": 14,
    "start_time": "2022-03-10T16:47:54.595Z"
   },
   {
    "duration": 10,
    "start_time": "2022-03-10T16:47:54.612Z"
   },
   {
    "duration": 6,
    "start_time": "2022-03-10T16:47:54.624Z"
   },
   {
    "duration": 54,
    "start_time": "2022-03-10T16:47:54.633Z"
   },
   {
    "duration": 4,
    "start_time": "2022-03-10T16:47:54.689Z"
   },
   {
    "duration": 9,
    "start_time": "2022-03-10T16:47:54.696Z"
   },
   {
    "duration": 14,
    "start_time": "2022-03-10T16:47:54.707Z"
   },
   {
    "duration": 19,
    "start_time": "2022-03-10T16:47:54.723Z"
   },
   {
    "duration": 103,
    "start_time": "2022-03-10T16:47:54.745Z"
   },
   {
    "duration": 51,
    "start_time": "2022-03-10T16:47:54.850Z"
   },
   {
    "duration": 5,
    "start_time": "2022-03-10T16:47:54.904Z"
   },
   {
    "duration": 15,
    "start_time": "2022-03-10T16:47:54.912Z"
   },
   {
    "duration": 15,
    "start_time": "2022-03-10T16:47:54.932Z"
   },
   {
    "duration": 4,
    "start_time": "2022-03-10T16:47:54.951Z"
   },
   {
    "duration": 12,
    "start_time": "2022-03-10T16:47:54.986Z"
   },
   {
    "duration": 18,
    "start_time": "2022-03-10T16:47:55.000Z"
   },
   {
    "duration": 514,
    "start_time": "2022-03-10T16:47:55.021Z"
   },
   {
    "duration": 14182,
    "start_time": "2022-03-10T16:47:55.537Z"
   },
   {
    "duration": 1540,
    "start_time": "2022-03-10T16:48:09.721Z"
   },
   {
    "duration": 7,
    "start_time": "2022-03-10T16:48:11.264Z"
   },
   {
    "duration": 174,
    "start_time": "2022-03-10T16:48:11.288Z"
   },
   {
    "duration": 11,
    "start_time": "2022-03-10T16:48:11.465Z"
   },
   {
    "duration": 449,
    "start_time": "2022-03-10T16:48:11.488Z"
   },
   {
    "duration": -5085,
    "start_time": "2022-03-10T16:48:17.026Z"
   },
   {
    "duration": -5115,
    "start_time": "2022-03-10T16:48:17.058Z"
   },
   {
    "duration": -5133,
    "start_time": "2022-03-10T16:48:17.077Z"
   },
   {
    "duration": -5155,
    "start_time": "2022-03-10T16:48:17.101Z"
   },
   {
    "duration": -5176,
    "start_time": "2022-03-10T16:48:17.123Z"
   },
   {
    "duration": -5196,
    "start_time": "2022-03-10T16:48:17.145Z"
   },
   {
    "duration": -5208,
    "start_time": "2022-03-10T16:48:17.159Z"
   },
   {
    "duration": -5233,
    "start_time": "2022-03-10T16:48:17.185Z"
   },
   {
    "duration": -5250,
    "start_time": "2022-03-10T16:48:17.203Z"
   },
   {
    "duration": -5269,
    "start_time": "2022-03-10T16:48:17.224Z"
   },
   {
    "duration": -5289,
    "start_time": "2022-03-10T16:48:17.246Z"
   },
   {
    "duration": 11,
    "start_time": "2022-03-10T16:48:40.392Z"
   },
   {
    "duration": 7,
    "start_time": "2022-03-10T16:48:41.317Z"
   },
   {
    "duration": 685,
    "start_time": "2022-03-10T16:48:42.385Z"
   },
   {
    "duration": 23206,
    "start_time": "2022-03-10T16:48:45.165Z"
   },
   {
    "duration": 2288,
    "start_time": "2022-03-10T16:49:08.373Z"
   },
   {
    "duration": 5,
    "start_time": "2022-03-10T16:49:39.294Z"
   },
   {
    "duration": 10,
    "start_time": "2022-03-10T16:49:40.683Z"
   },
   {
    "duration": 7,
    "start_time": "2022-03-10T16:49:44.257Z"
   },
   {
    "duration": 694,
    "start_time": "2022-03-10T16:49:45.576Z"
   },
   {
    "duration": 1566,
    "start_time": "2022-03-10T16:50:49.496Z"
   },
   {
    "duration": 44,
    "start_time": "2022-03-10T16:50:51.064Z"
   },
   {
    "duration": 12,
    "start_time": "2022-03-10T16:50:51.111Z"
   },
   {
    "duration": 16,
    "start_time": "2022-03-10T16:50:51.126Z"
   },
   {
    "duration": 5,
    "start_time": "2022-03-10T16:50:51.144Z"
   },
   {
    "duration": 44,
    "start_time": "2022-03-10T16:50:51.151Z"
   },
   {
    "duration": 24,
    "start_time": "2022-03-10T16:50:51.198Z"
   },
   {
    "duration": 22,
    "start_time": "2022-03-10T16:50:51.224Z"
   },
   {
    "duration": 103,
    "start_time": "2022-03-10T16:50:51.286Z"
   },
   {
    "duration": 6,
    "start_time": "2022-03-10T16:50:51.392Z"
   },
   {
    "duration": 54,
    "start_time": "2022-03-10T16:50:51.400Z"
   },
   {
    "duration": 7,
    "start_time": "2022-03-10T16:50:51.456Z"
   },
   {
    "duration": 31,
    "start_time": "2022-03-10T16:50:51.466Z"
   },
   {
    "duration": 14,
    "start_time": "2022-03-10T16:50:51.500Z"
   },
   {
    "duration": 27,
    "start_time": "2022-03-10T16:50:51.517Z"
   },
   {
    "duration": 16,
    "start_time": "2022-03-10T16:50:51.546Z"
   },
   {
    "duration": 36,
    "start_time": "2022-03-10T16:50:51.564Z"
   },
   {
    "duration": 36,
    "start_time": "2022-03-10T16:50:51.602Z"
   },
   {
    "duration": 26,
    "start_time": "2022-03-10T16:50:51.641Z"
   },
   {
    "duration": 22,
    "start_time": "2022-03-10T16:50:51.670Z"
   },
   {
    "duration": 13,
    "start_time": "2022-03-10T16:50:51.695Z"
   },
   {
    "duration": 20,
    "start_time": "2022-03-10T16:50:51.711Z"
   },
   {
    "duration": 99,
    "start_time": "2022-03-10T16:50:51.733Z"
   },
   {
    "duration": 58,
    "start_time": "2022-03-10T16:50:51.836Z"
   },
   {
    "duration": 8,
    "start_time": "2022-03-10T16:50:51.897Z"
   },
   {
    "duration": 11,
    "start_time": "2022-03-10T16:50:51.908Z"
   },
   {
    "duration": 12,
    "start_time": "2022-03-10T16:50:51.927Z"
   },
   {
    "duration": 5,
    "start_time": "2022-03-10T16:50:51.943Z"
   },
   {
    "duration": 11,
    "start_time": "2022-03-10T16:50:51.988Z"
   },
   {
    "duration": 20,
    "start_time": "2022-03-10T16:50:52.001Z"
   },
   {
    "duration": 722,
    "start_time": "2022-03-10T16:50:52.024Z"
   },
   {
    "duration": 48597,
    "start_time": "2022-03-10T16:50:52.749Z"
   },
   {
    "duration": 2614,
    "start_time": "2022-03-10T16:51:41.348Z"
   },
   {
    "duration": 6,
    "start_time": "2022-03-10T16:51:43.964Z"
   },
   {
    "duration": 170,
    "start_time": "2022-03-10T16:51:43.987Z"
   },
   {
    "duration": 9,
    "start_time": "2022-03-10T16:51:44.160Z"
   },
   {
    "duration": 484,
    "start_time": "2022-03-10T16:51:44.188Z"
   },
   {
    "duration": -5058,
    "start_time": "2022-03-10T16:51:49.733Z"
   },
   {
    "duration": -5063,
    "start_time": "2022-03-10T16:51:49.740Z"
   },
   {
    "duration": -5198,
    "start_time": "2022-03-10T16:51:49.877Z"
   },
   {
    "duration": -5203,
    "start_time": "2022-03-10T16:51:49.883Z"
   },
   {
    "duration": -5207,
    "start_time": "2022-03-10T16:51:49.889Z"
   },
   {
    "duration": -5211,
    "start_time": "2022-03-10T16:51:49.895Z"
   },
   {
    "duration": -5216,
    "start_time": "2022-03-10T16:51:49.901Z"
   },
   {
    "duration": -5221,
    "start_time": "2022-03-10T16:51:49.908Z"
   },
   {
    "duration": -5225,
    "start_time": "2022-03-10T16:51:49.914Z"
   },
   {
    "duration": -5230,
    "start_time": "2022-03-10T16:51:49.920Z"
   },
   {
    "duration": -5243,
    "start_time": "2022-03-10T16:51:49.935Z"
   },
   {
    "duration": 5,
    "start_time": "2022-03-10T16:52:47.847Z"
   },
   {
    "duration": 77395,
    "start_time": "2022-03-10T16:52:58.048Z"
   },
   {
    "duration": 5,
    "start_time": "2022-03-10T16:55:12.218Z"
   },
   {
    "duration": 798,
    "start_time": "2022-03-10T16:55:17.307Z"
   },
   {
    "duration": 1592,
    "start_time": "2022-03-10T16:58:05.045Z"
   },
   {
    "duration": 38,
    "start_time": "2022-03-10T16:58:06.640Z"
   },
   {
    "duration": 11,
    "start_time": "2022-03-10T16:58:06.687Z"
   },
   {
    "duration": 18,
    "start_time": "2022-03-10T16:58:06.701Z"
   },
   {
    "duration": 5,
    "start_time": "2022-03-10T16:58:06.721Z"
   },
   {
    "duration": 14,
    "start_time": "2022-03-10T16:58:06.728Z"
   },
   {
    "duration": 62,
    "start_time": "2022-03-10T16:58:06.744Z"
   },
   {
    "duration": 28,
    "start_time": "2022-03-10T16:58:06.808Z"
   },
   {
    "duration": 90,
    "start_time": "2022-03-10T16:58:06.840Z"
   },
   {
    "duration": 6,
    "start_time": "2022-03-10T16:58:06.933Z"
   },
   {
    "duration": 65,
    "start_time": "2022-03-10T16:58:06.941Z"
   },
   {
    "duration": 7,
    "start_time": "2022-03-10T16:58:07.009Z"
   },
   {
    "duration": 17,
    "start_time": "2022-03-10T16:58:07.018Z"
   },
   {
    "duration": 9,
    "start_time": "2022-03-10T16:58:07.037Z"
   },
   {
    "duration": 48,
    "start_time": "2022-03-10T16:58:07.048Z"
   },
   {
    "duration": 9,
    "start_time": "2022-03-10T16:58:07.099Z"
   },
   {
    "duration": 8,
    "start_time": "2022-03-10T16:58:07.111Z"
   },
   {
    "duration": 17,
    "start_time": "2022-03-10T16:58:07.122Z"
   },
   {
    "duration": 4,
    "start_time": "2022-03-10T16:58:07.141Z"
   },
   {
    "duration": 41,
    "start_time": "2022-03-10T16:58:07.147Z"
   },
   {
    "duration": 13,
    "start_time": "2022-03-10T16:58:07.191Z"
   },
   {
    "duration": 20,
    "start_time": "2022-03-10T16:58:07.206Z"
   },
   {
    "duration": 109,
    "start_time": "2022-03-10T16:58:07.228Z"
   },
   {
    "duration": 47,
    "start_time": "2022-03-10T16:58:07.339Z"
   },
   {
    "duration": 5,
    "start_time": "2022-03-10T16:58:07.389Z"
   },
   {
    "duration": 13,
    "start_time": "2022-03-10T16:58:07.396Z"
   },
   {
    "duration": 11,
    "start_time": "2022-03-10T16:58:07.414Z"
   },
   {
    "duration": 4,
    "start_time": "2022-03-10T16:58:07.428Z"
   },
   {
    "duration": 11,
    "start_time": "2022-03-10T16:58:07.434Z"
   },
   {
    "duration": 40,
    "start_time": "2022-03-10T16:58:07.447Z"
   },
   {
    "duration": 802,
    "start_time": "2022-03-10T16:58:07.489Z"
   },
   {
    "duration": 79378,
    "start_time": "2022-03-10T16:58:08.294Z"
   },
   {
    "duration": 1961,
    "start_time": "2022-03-10T16:59:27.674Z"
   },
   {
    "duration": 6,
    "start_time": "2022-03-10T16:59:29.638Z"
   },
   {
    "duration": 184,
    "start_time": "2022-03-10T16:59:29.647Z"
   },
   {
    "duration": 9,
    "start_time": "2022-03-10T16:59:29.834Z"
   },
   {
    "duration": 41,
    "start_time": "2022-03-10T16:59:29.846Z"
   },
   {
    "duration": 234,
    "start_time": "2022-03-10T16:59:29.889Z"
   },
   {
    "duration": 10,
    "start_time": "2022-03-10T16:59:30.126Z"
   },
   {
    "duration": 110,
    "start_time": "2022-03-10T16:59:30.139Z"
   },
   {
    "duration": 11,
    "start_time": "2022-03-10T16:59:30.251Z"
   },
   {
    "duration": 158,
    "start_time": "2022-03-10T16:59:30.264Z"
   },
   {
    "duration": 4,
    "start_time": "2022-03-10T16:59:30.425Z"
   },
   {
    "duration": 612,
    "start_time": "2022-03-10T16:59:30.431Z"
   },
   {
    "duration": 7,
    "start_time": "2022-03-10T16:59:31.045Z"
   },
   {
    "duration": 442,
    "start_time": "2022-03-10T16:59:31.055Z"
   },
   {
    "duration": 15,
    "start_time": "2022-03-10T16:59:31.500Z"
   },
   {
    "duration": 9,
    "start_time": "2022-03-10T16:59:31.517Z"
   },
   {
    "duration": 1615,
    "start_time": "2022-03-10T17:10:15.633Z"
   },
   {
    "duration": 50,
    "start_time": "2022-03-10T17:10:17.251Z"
   },
   {
    "duration": 12,
    "start_time": "2022-03-10T17:10:17.305Z"
   },
   {
    "duration": 16,
    "start_time": "2022-03-10T17:10:17.320Z"
   },
   {
    "duration": 5,
    "start_time": "2022-03-10T17:10:17.338Z"
   },
   {
    "duration": 44,
    "start_time": "2022-03-10T17:10:17.345Z"
   },
   {
    "duration": 22,
    "start_time": "2022-03-10T17:10:17.391Z"
   },
   {
    "duration": 25,
    "start_time": "2022-03-10T17:10:17.416Z"
   },
   {
    "duration": 108,
    "start_time": "2022-03-10T17:10:17.444Z"
   },
   {
    "duration": 7,
    "start_time": "2022-03-10T17:10:17.555Z"
   },
   {
    "duration": 40,
    "start_time": "2022-03-10T17:10:17.588Z"
   },
   {
    "duration": 9,
    "start_time": "2022-03-10T17:10:17.630Z"
   },
   {
    "duration": 47,
    "start_time": "2022-03-10T17:10:17.641Z"
   },
   {
    "duration": 13,
    "start_time": "2022-03-10T17:10:17.691Z"
   },
   {
    "duration": 19,
    "start_time": "2022-03-10T17:10:17.707Z"
   },
   {
    "duration": 11,
    "start_time": "2022-03-10T17:10:17.729Z"
   },
   {
    "duration": 45,
    "start_time": "2022-03-10T17:10:17.743Z"
   },
   {
    "duration": 21,
    "start_time": "2022-03-10T17:10:17.792Z"
   },
   {
    "duration": 5,
    "start_time": "2022-03-10T17:10:17.816Z"
   },
   {
    "duration": 19,
    "start_time": "2022-03-10T17:10:17.824Z"
   },
   {
    "duration": 26,
    "start_time": "2022-03-10T17:10:17.846Z"
   },
   {
    "duration": 29,
    "start_time": "2022-03-10T17:10:17.889Z"
   },
   {
    "duration": 125,
    "start_time": "2022-03-10T17:10:17.925Z"
   },
   {
    "duration": 51,
    "start_time": "2022-03-10T17:10:18.054Z"
   },
   {
    "duration": 7,
    "start_time": "2022-03-10T17:10:18.107Z"
   },
   {
    "duration": 9,
    "start_time": "2022-03-10T17:10:18.116Z"
   },
   {
    "duration": 13,
    "start_time": "2022-03-10T17:10:18.127Z"
   },
   {
    "duration": 5,
    "start_time": "2022-03-10T17:10:18.142Z"
   },
   {
    "duration": 45,
    "start_time": "2022-03-10T17:10:18.149Z"
   },
   {
    "duration": 18,
    "start_time": "2022-03-10T17:10:18.197Z"
   },
   {
    "duration": 833,
    "start_time": "2022-03-10T17:10:18.218Z"
   },
   {
    "duration": 79482,
    "start_time": "2022-03-10T17:10:19.054Z"
   },
   {
    "duration": 1900,
    "start_time": "2022-03-10T17:11:38.538Z"
   },
   {
    "duration": 5,
    "start_time": "2022-03-10T17:11:40.440Z"
   },
   {
    "duration": 177,
    "start_time": "2022-03-10T17:11:40.448Z"
   },
   {
    "duration": 9,
    "start_time": "2022-03-10T17:11:40.627Z"
   },
   {
    "duration": 14,
    "start_time": "2022-03-10T17:11:40.638Z"
   },
   {
    "duration": 257,
    "start_time": "2022-03-10T17:11:40.654Z"
   },
   {
    "duration": 12,
    "start_time": "2022-03-10T17:11:40.914Z"
   },
   {
    "duration": 120,
    "start_time": "2022-03-10T17:11:40.928Z"
   },
   {
    "duration": 11,
    "start_time": "2022-03-10T17:11:41.051Z"
   },
   {
    "duration": 152,
    "start_time": "2022-03-10T17:11:41.064Z"
   },
   {
    "duration": 4,
    "start_time": "2022-03-10T17:11:41.218Z"
   },
   {
    "duration": 587,
    "start_time": "2022-03-10T17:11:41.225Z"
   },
   {
    "duration": 8,
    "start_time": "2022-03-10T17:11:41.815Z"
   },
   {
    "duration": 546,
    "start_time": "2022-03-10T17:11:41.826Z"
   },
   {
    "duration": 24,
    "start_time": "2022-03-10T17:11:42.374Z"
   },
   {
    "duration": 11,
    "start_time": "2022-03-10T17:11:42.401Z"
   },
   {
    "duration": 1645,
    "start_time": "2022-03-10T17:13:35.625Z"
   },
   {
    "duration": 42,
    "start_time": "2022-03-10T17:13:37.274Z"
   },
   {
    "duration": 12,
    "start_time": "2022-03-10T17:13:37.319Z"
   },
   {
    "duration": 22,
    "start_time": "2022-03-10T17:13:37.335Z"
   },
   {
    "duration": 28,
    "start_time": "2022-03-10T17:13:37.360Z"
   },
   {
    "duration": 11,
    "start_time": "2022-03-10T17:13:37.391Z"
   },
   {
    "duration": 24,
    "start_time": "2022-03-10T17:13:37.405Z"
   },
   {
    "duration": 68,
    "start_time": "2022-03-10T17:13:37.433Z"
   },
   {
    "duration": 96,
    "start_time": "2022-03-10T17:13:37.506Z"
   },
   {
    "duration": 7,
    "start_time": "2022-03-10T17:13:37.605Z"
   },
   {
    "duration": 43,
    "start_time": "2022-03-10T17:13:37.615Z"
   },
   {
    "duration": 8,
    "start_time": "2022-03-10T17:13:37.688Z"
   },
   {
    "duration": 46,
    "start_time": "2022-03-10T17:13:37.699Z"
   },
   {
    "duration": 9,
    "start_time": "2022-03-10T17:13:37.747Z"
   },
   {
    "duration": 37,
    "start_time": "2022-03-10T17:13:37.758Z"
   },
   {
    "duration": 18,
    "start_time": "2022-03-10T17:13:37.797Z"
   },
   {
    "duration": 8,
    "start_time": "2022-03-10T17:13:37.818Z"
   },
   {
    "duration": 26,
    "start_time": "2022-03-10T17:13:37.828Z"
   },
   {
    "duration": 4,
    "start_time": "2022-03-10T17:13:37.856Z"
   },
   {
    "duration": 28,
    "start_time": "2022-03-10T17:13:37.863Z"
   },
   {
    "duration": 16,
    "start_time": "2022-03-10T17:13:37.895Z"
   },
   {
    "duration": 26,
    "start_time": "2022-03-10T17:13:37.913Z"
   },
   {
    "duration": 104,
    "start_time": "2022-03-10T17:13:37.941Z"
   },
   {
    "duration": 46,
    "start_time": "2022-03-10T17:13:38.047Z"
   },
   {
    "duration": 8,
    "start_time": "2022-03-10T17:13:38.096Z"
   },
   {
    "duration": 8,
    "start_time": "2022-03-10T17:13:38.107Z"
   },
   {
    "duration": 11,
    "start_time": "2022-03-10T17:13:38.122Z"
   },
   {
    "duration": 5,
    "start_time": "2022-03-10T17:13:38.136Z"
   },
   {
    "duration": 18,
    "start_time": "2022-03-10T17:13:38.187Z"
   },
   {
    "duration": 12,
    "start_time": "2022-03-10T17:13:38.209Z"
   },
   {
    "duration": 840,
    "start_time": "2022-03-10T17:13:38.224Z"
   },
   {
    "duration": 1699,
    "start_time": "2022-03-10T17:14:23.606Z"
   },
   {
    "duration": 39,
    "start_time": "2022-03-10T17:14:25.308Z"
   },
   {
    "duration": 12,
    "start_time": "2022-03-10T17:14:25.350Z"
   },
   {
    "duration": 37,
    "start_time": "2022-03-10T17:14:25.365Z"
   },
   {
    "duration": 8,
    "start_time": "2022-03-10T17:14:25.405Z"
   },
   {
    "duration": 15,
    "start_time": "2022-03-10T17:14:25.416Z"
   },
   {
    "duration": 62,
    "start_time": "2022-03-10T17:14:25.433Z"
   },
   {
    "duration": 39,
    "start_time": "2022-03-10T17:14:25.501Z"
   },
   {
    "duration": 128,
    "start_time": "2022-03-10T17:14:25.544Z"
   },
   {
    "duration": 8,
    "start_time": "2022-03-10T17:14:25.687Z"
   },
   {
    "duration": 57,
    "start_time": "2022-03-10T17:14:25.699Z"
   },
   {
    "duration": 33,
    "start_time": "2022-03-10T17:14:25.760Z"
   },
   {
    "duration": 20,
    "start_time": "2022-03-10T17:14:25.796Z"
   },
   {
    "duration": 10,
    "start_time": "2022-03-10T17:14:25.819Z"
   },
   {
    "duration": 57,
    "start_time": "2022-03-10T17:14:25.831Z"
   },
   {
    "duration": 13,
    "start_time": "2022-03-10T17:14:25.891Z"
   },
   {
    "duration": 12,
    "start_time": "2022-03-10T17:14:25.907Z"
   },
   {
    "duration": 19,
    "start_time": "2022-03-10T17:14:25.922Z"
   },
   {
    "duration": 4,
    "start_time": "2022-03-10T17:14:25.943Z"
   },
   {
    "duration": 37,
    "start_time": "2022-03-10T17:14:25.950Z"
   },
   {
    "duration": 15,
    "start_time": "2022-03-10T17:14:25.990Z"
   },
   {
    "duration": 22,
    "start_time": "2022-03-10T17:14:26.008Z"
   },
   {
    "duration": 122,
    "start_time": "2022-03-10T17:14:26.039Z"
   },
   {
    "duration": 56,
    "start_time": "2022-03-10T17:14:26.165Z"
   },
   {
    "duration": 6,
    "start_time": "2022-03-10T17:14:26.224Z"
   },
   {
    "duration": 13,
    "start_time": "2022-03-10T17:14:26.233Z"
   },
   {
    "duration": 38,
    "start_time": "2022-03-10T17:14:26.249Z"
   },
   {
    "duration": 5,
    "start_time": "2022-03-10T17:14:26.290Z"
   },
   {
    "duration": 18,
    "start_time": "2022-03-10T17:14:26.299Z"
   },
   {
    "duration": 14,
    "start_time": "2022-03-10T17:14:26.321Z"
   },
   {
    "duration": 1040,
    "start_time": "2022-03-10T17:14:26.338Z"
   },
   {
    "duration": 102612,
    "start_time": "2022-03-10T17:14:27.381Z"
   },
   {
    "duration": 1738,
    "start_time": "2022-03-10T17:16:09.997Z"
   },
   {
    "duration": 6,
    "start_time": "2022-03-10T17:16:11.737Z"
   },
   {
    "duration": 179,
    "start_time": "2022-03-10T17:16:11.745Z"
   },
   {
    "duration": 11,
    "start_time": "2022-03-10T17:16:11.929Z"
   },
   {
    "duration": 14,
    "start_time": "2022-03-10T17:16:11.943Z"
   },
   {
    "duration": 248,
    "start_time": "2022-03-10T17:16:11.960Z"
   },
   {
    "duration": 12,
    "start_time": "2022-03-10T17:16:12.211Z"
   },
   {
    "duration": 110,
    "start_time": "2022-03-10T17:16:12.226Z"
   },
   {
    "duration": 13,
    "start_time": "2022-03-10T17:16:12.339Z"
   },
   {
    "duration": 167,
    "start_time": "2022-03-10T17:16:12.354Z"
   },
   {
    "duration": 6,
    "start_time": "2022-03-10T17:16:12.525Z"
   },
   {
    "duration": 639,
    "start_time": "2022-03-10T17:16:12.534Z"
   },
   {
    "duration": 17,
    "start_time": "2022-03-10T17:16:13.175Z"
   },
   {
    "duration": 484,
    "start_time": "2022-03-10T17:16:13.196Z"
   },
   {
    "duration": 17,
    "start_time": "2022-03-10T17:16:13.686Z"
   },
   {
    "duration": 12,
    "start_time": "2022-03-10T17:16:13.706Z"
   },
   {
    "duration": 1858,
    "start_time": "2022-03-10T17:17:02.687Z"
   },
   {
    "duration": 44,
    "start_time": "2022-03-10T17:17:04.548Z"
   },
   {
    "duration": 11,
    "start_time": "2022-03-10T17:17:04.596Z"
   },
   {
    "duration": 29,
    "start_time": "2022-03-10T17:17:04.610Z"
   },
   {
    "duration": 5,
    "start_time": "2022-03-10T17:17:04.642Z"
   },
   {
    "duration": 45,
    "start_time": "2022-03-10T17:17:04.650Z"
   },
   {
    "duration": 24,
    "start_time": "2022-03-10T17:17:04.697Z"
   },
   {
    "duration": 25,
    "start_time": "2022-03-10T17:17:04.725Z"
   },
   {
    "duration": 142,
    "start_time": "2022-03-10T17:17:04.754Z"
   },
   {
    "duration": 7,
    "start_time": "2022-03-10T17:17:04.899Z"
   },
   {
    "duration": 42,
    "start_time": "2022-03-10T17:17:04.909Z"
   },
   {
    "duration": 39,
    "start_time": "2022-03-10T17:17:04.954Z"
   },
   {
    "duration": 29,
    "start_time": "2022-03-10T17:17:04.996Z"
   },
   {
    "duration": 12,
    "start_time": "2022-03-10T17:17:05.028Z"
   },
   {
    "duration": 53,
    "start_time": "2022-03-10T17:17:05.044Z"
   },
   {
    "duration": 10,
    "start_time": "2022-03-10T17:17:05.100Z"
   },
   {
    "duration": 8,
    "start_time": "2022-03-10T17:17:05.112Z"
   },
   {
    "duration": 15,
    "start_time": "2022-03-10T17:17:05.122Z"
   },
   {
    "duration": 4,
    "start_time": "2022-03-10T17:17:05.140Z"
   },
   {
    "duration": 46,
    "start_time": "2022-03-10T17:17:05.146Z"
   },
   {
    "duration": 18,
    "start_time": "2022-03-10T17:17:05.195Z"
   },
   {
    "duration": 20,
    "start_time": "2022-03-10T17:17:05.215Z"
   },
   {
    "duration": 132,
    "start_time": "2022-03-10T17:17:05.238Z"
   },
   {
    "duration": 35,
    "start_time": "2022-03-10T17:17:05.387Z"
   },
   {
    "duration": 7,
    "start_time": "2022-03-10T17:17:05.424Z"
   },
   {
    "duration": 9,
    "start_time": "2022-03-10T17:17:05.434Z"
   },
   {
    "duration": 58,
    "start_time": "2022-03-10T17:17:05.448Z"
   },
   {
    "duration": 8,
    "start_time": "2022-03-10T17:17:05.509Z"
   },
   {
    "duration": 18,
    "start_time": "2022-03-10T17:17:05.521Z"
   },
   {
    "duration": 18,
    "start_time": "2022-03-10T17:17:05.541Z"
   },
   {
    "duration": 805,
    "start_time": "2022-03-10T17:17:05.561Z"
   },
   {
    "duration": 92146,
    "start_time": "2022-03-10T17:17:06.370Z"
   },
   {
    "duration": 2100,
    "start_time": "2022-03-10T17:18:38.519Z"
   },
   {
    "duration": 6,
    "start_time": "2022-03-10T17:18:40.621Z"
   },
   {
    "duration": 157,
    "start_time": "2022-03-10T17:18:40.630Z"
   },
   {
    "duration": 9,
    "start_time": "2022-03-10T17:18:40.790Z"
   },
   {
    "duration": 451,
    "start_time": "2022-03-10T17:18:40.801Z"
   },
   {
    "duration": -5790,
    "start_time": "2022-03-10T17:18:47.045Z"
   },
   {
    "duration": -5795,
    "start_time": "2022-03-10T17:18:47.051Z"
   },
   {
    "duration": -5802,
    "start_time": "2022-03-10T17:18:47.060Z"
   },
   {
    "duration": -5809,
    "start_time": "2022-03-10T17:18:47.068Z"
   },
   {
    "duration": -5816,
    "start_time": "2022-03-10T17:18:47.077Z"
   },
   {
    "duration": -5821,
    "start_time": "2022-03-10T17:18:47.083Z"
   },
   {
    "duration": -5826,
    "start_time": "2022-03-10T17:18:47.089Z"
   },
   {
    "duration": -5830,
    "start_time": "2022-03-10T17:18:47.095Z"
   },
   {
    "duration": -5835,
    "start_time": "2022-03-10T17:18:47.101Z"
   },
   {
    "duration": -5839,
    "start_time": "2022-03-10T17:18:47.107Z"
   },
   {
    "duration": -5844,
    "start_time": "2022-03-10T17:18:47.113Z"
   },
   {
    "duration": 1749,
    "start_time": "2022-03-10T17:22:50.553Z"
   },
   {
    "duration": 42,
    "start_time": "2022-03-10T17:22:52.305Z"
   },
   {
    "duration": 11,
    "start_time": "2022-03-10T17:22:52.350Z"
   },
   {
    "duration": 32,
    "start_time": "2022-03-10T17:22:52.363Z"
   },
   {
    "duration": 5,
    "start_time": "2022-03-10T17:22:52.397Z"
   },
   {
    "duration": 10,
    "start_time": "2022-03-10T17:22:52.405Z"
   },
   {
    "duration": 26,
    "start_time": "2022-03-10T17:22:52.418Z"
   },
   {
    "duration": 62,
    "start_time": "2022-03-10T17:22:52.446Z"
   },
   {
    "duration": 107,
    "start_time": "2022-03-10T17:22:52.513Z"
   },
   {
    "duration": 8,
    "start_time": "2022-03-10T17:22:52.623Z"
   },
   {
    "duration": 71,
    "start_time": "2022-03-10T17:22:52.633Z"
   },
   {
    "duration": 11,
    "start_time": "2022-03-10T17:22:52.707Z"
   },
   {
    "duration": 21,
    "start_time": "2022-03-10T17:22:52.721Z"
   },
   {
    "duration": 42,
    "start_time": "2022-03-10T17:22:52.745Z"
   },
   {
    "duration": 14,
    "start_time": "2022-03-10T17:22:52.789Z"
   },
   {
    "duration": 14,
    "start_time": "2022-03-10T17:22:52.805Z"
   },
   {
    "duration": 6,
    "start_time": "2022-03-10T17:22:52.822Z"
   },
   {
    "duration": 59,
    "start_time": "2022-03-10T17:22:52.830Z"
   },
   {
    "duration": 4,
    "start_time": "2022-03-10T17:22:52.892Z"
   },
   {
    "duration": 9,
    "start_time": "2022-03-10T17:22:52.899Z"
   },
   {
    "duration": 18,
    "start_time": "2022-03-10T17:22:52.911Z"
   },
   {
    "duration": 62,
    "start_time": "2022-03-10T17:22:52.932Z"
   },
   {
    "duration": 122,
    "start_time": "2022-03-10T17:22:52.997Z"
   },
   {
    "duration": 65,
    "start_time": "2022-03-10T17:22:53.122Z"
   },
   {
    "duration": 8,
    "start_time": "2022-03-10T17:22:53.190Z"
   },
   {
    "duration": 9,
    "start_time": "2022-03-10T17:22:53.201Z"
   },
   {
    "duration": 14,
    "start_time": "2022-03-10T17:22:53.220Z"
   },
   {
    "duration": 6,
    "start_time": "2022-03-10T17:22:53.238Z"
   },
   {
    "duration": 17,
    "start_time": "2022-03-10T17:22:53.287Z"
   },
   {
    "duration": 11,
    "start_time": "2022-03-10T17:22:53.307Z"
   },
   {
    "duration": 16,
    "start_time": "2022-03-10T17:22:53.322Z"
   },
   {
    "duration": 811,
    "start_time": "2022-03-10T17:22:53.341Z"
   },
   {
    "duration": 87680,
    "start_time": "2022-03-10T17:22:54.154Z"
   },
   {
    "duration": 2202,
    "start_time": "2022-03-10T17:24:21.837Z"
   },
   {
    "duration": 6,
    "start_time": "2022-03-10T17:24:24.042Z"
   },
   {
    "duration": 174,
    "start_time": "2022-03-10T17:24:24.051Z"
   },
   {
    "duration": 9,
    "start_time": "2022-03-10T17:24:24.227Z"
   },
   {
    "duration": 15,
    "start_time": "2022-03-10T17:24:24.239Z"
   },
   {
    "duration": 247,
    "start_time": "2022-03-10T17:24:24.256Z"
   },
   {
    "duration": 10,
    "start_time": "2022-03-10T17:24:24.506Z"
   },
   {
    "duration": 107,
    "start_time": "2022-03-10T17:24:24.518Z"
   },
   {
    "duration": 10,
    "start_time": "2022-03-10T17:24:24.627Z"
   },
   {
    "duration": 155,
    "start_time": "2022-03-10T17:24:24.639Z"
   },
   {
    "duration": 4,
    "start_time": "2022-03-10T17:24:24.796Z"
   },
   {
    "duration": 601,
    "start_time": "2022-03-10T17:24:24.802Z"
   },
   {
    "duration": 8,
    "start_time": "2022-03-10T17:24:25.405Z"
   },
   {
    "duration": 493,
    "start_time": "2022-03-10T17:24:25.417Z"
   },
   {
    "duration": 18,
    "start_time": "2022-03-10T17:24:25.913Z"
   },
   {
    "duration": 9,
    "start_time": "2022-03-10T17:24:25.933Z"
   },
   {
    "duration": 18,
    "start_time": "2022-03-10T17:25:21.963Z"
   },
   {
    "duration": 435,
    "start_time": "2022-03-10T17:25:29.582Z"
   },
   {
    "duration": 1673,
    "start_time": "2022-03-10T17:25:39.468Z"
   },
   {
    "duration": 48,
    "start_time": "2022-03-10T17:25:41.144Z"
   },
   {
    "duration": 12,
    "start_time": "2022-03-10T17:25:41.195Z"
   },
   {
    "duration": 17,
    "start_time": "2022-03-10T17:25:41.210Z"
   },
   {
    "duration": 7,
    "start_time": "2022-03-10T17:25:41.231Z"
   },
   {
    "duration": 50,
    "start_time": "2022-03-10T17:25:41.241Z"
   },
   {
    "duration": 25,
    "start_time": "2022-03-10T17:25:41.295Z"
   },
   {
    "duration": 38,
    "start_time": "2022-03-10T17:25:41.323Z"
   },
   {
    "duration": 127,
    "start_time": "2022-03-10T17:25:41.365Z"
   },
   {
    "duration": 7,
    "start_time": "2022-03-10T17:25:41.495Z"
   },
   {
    "duration": 41,
    "start_time": "2022-03-10T17:25:41.505Z"
   },
   {
    "duration": 40,
    "start_time": "2022-03-10T17:25:41.548Z"
   },
   {
    "duration": 22,
    "start_time": "2022-03-10T17:25:41.590Z"
   },
   {
    "duration": 12,
    "start_time": "2022-03-10T17:25:41.614Z"
   },
   {
    "duration": 58,
    "start_time": "2022-03-10T17:25:41.629Z"
   },
   {
    "duration": 11,
    "start_time": "2022-03-10T17:25:41.691Z"
   },
   {
    "duration": 4,
    "start_time": "2022-03-10T17:25:41.705Z"
   },
   {
    "duration": 19,
    "start_time": "2022-03-10T17:25:41.712Z"
   },
   {
    "duration": 4,
    "start_time": "2022-03-10T17:25:41.734Z"
   },
   {
    "duration": 49,
    "start_time": "2022-03-10T17:25:41.741Z"
   },
   {
    "duration": 14,
    "start_time": "2022-03-10T17:25:41.793Z"
   },
   {
    "duration": 21,
    "start_time": "2022-03-10T17:25:41.809Z"
   },
   {
    "duration": 153,
    "start_time": "2022-03-10T17:25:41.834Z"
   },
   {
    "duration": 51,
    "start_time": "2022-03-10T17:25:41.990Z"
   },
   {
    "duration": 7,
    "start_time": "2022-03-10T17:25:42.044Z"
   },
   {
    "duration": 33,
    "start_time": "2022-03-10T17:25:42.054Z"
   },
   {
    "duration": 12,
    "start_time": "2022-03-10T17:25:42.094Z"
   },
   {
    "duration": 5,
    "start_time": "2022-03-10T17:25:42.110Z"
   },
   {
    "duration": 34,
    "start_time": "2022-03-10T17:25:42.118Z"
   },
   {
    "duration": 37,
    "start_time": "2022-03-10T17:25:42.155Z"
   },
   {
    "duration": 8,
    "start_time": "2022-03-10T17:25:42.195Z"
   },
   {
    "duration": 29,
    "start_time": "2022-03-10T17:25:42.206Z"
   },
   {
    "duration": 1000,
    "start_time": "2022-03-10T17:25:42.239Z"
   },
   {
    "duration": 2161,
    "start_time": "2022-03-10T17:26:09.245Z"
   },
   {
    "duration": 52,
    "start_time": "2022-03-10T17:26:11.410Z"
   },
   {
    "duration": 27,
    "start_time": "2022-03-10T17:26:11.466Z"
   },
   {
    "duration": 18,
    "start_time": "2022-03-10T17:26:11.496Z"
   },
   {
    "duration": 5,
    "start_time": "2022-03-10T17:26:11.517Z"
   },
   {
    "duration": 12,
    "start_time": "2022-03-10T17:26:11.525Z"
   },
   {
    "duration": 63,
    "start_time": "2022-03-10T17:26:11.539Z"
   },
   {
    "duration": 22,
    "start_time": "2022-03-10T17:26:11.604Z"
   },
   {
    "duration": 112,
    "start_time": "2022-03-10T17:26:11.632Z"
   },
   {
    "duration": 7,
    "start_time": "2022-03-10T17:26:11.747Z"
   },
   {
    "duration": 61,
    "start_time": "2022-03-10T17:26:11.756Z"
   },
   {
    "duration": 8,
    "start_time": "2022-03-10T17:26:11.820Z"
   },
   {
    "duration": 57,
    "start_time": "2022-03-10T17:26:11.831Z"
   },
   {
    "duration": 9,
    "start_time": "2022-03-10T17:26:11.891Z"
   },
   {
    "duration": 19,
    "start_time": "2022-03-10T17:26:11.904Z"
   },
   {
    "duration": 11,
    "start_time": "2022-03-10T17:26:11.926Z"
   },
   {
    "duration": 6,
    "start_time": "2022-03-10T17:26:11.940Z"
   },
   {
    "duration": 24,
    "start_time": "2022-03-10T17:26:11.988Z"
   },
   {
    "duration": 4,
    "start_time": "2022-03-10T17:26:12.015Z"
   },
   {
    "duration": 20,
    "start_time": "2022-03-10T17:26:12.022Z"
   },
   {
    "duration": 27,
    "start_time": "2022-03-10T17:26:12.045Z"
   },
   {
    "duration": 33,
    "start_time": "2022-03-10T17:26:12.074Z"
   },
   {
    "duration": 144,
    "start_time": "2022-03-10T17:26:12.111Z"
   },
   {
    "duration": 59,
    "start_time": "2022-03-10T17:26:12.258Z"
   },
   {
    "duration": 7,
    "start_time": "2022-03-10T17:26:12.321Z"
   },
   {
    "duration": 21,
    "start_time": "2022-03-10T17:26:12.331Z"
   },
   {
    "duration": 35,
    "start_time": "2022-03-10T17:26:12.357Z"
   },
   {
    "duration": 5,
    "start_time": "2022-03-10T17:26:12.395Z"
   },
   {
    "duration": 18,
    "start_time": "2022-03-10T17:26:12.402Z"
   },
   {
    "duration": 17,
    "start_time": "2022-03-10T17:26:12.423Z"
   },
   {
    "duration": 24,
    "start_time": "2022-03-10T17:26:12.443Z"
   },
   {
    "duration": 37,
    "start_time": "2022-03-10T17:26:12.470Z"
   },
   {
    "duration": 732,
    "start_time": "2022-03-10T17:26:12.509Z"
   },
   {
    "duration": 1609,
    "start_time": "2022-03-10T17:26:43.949Z"
   },
   {
    "duration": 43,
    "start_time": "2022-03-10T17:26:45.561Z"
   },
   {
    "duration": 10,
    "start_time": "2022-03-10T17:26:45.607Z"
   },
   {
    "duration": 23,
    "start_time": "2022-03-10T17:26:45.619Z"
   },
   {
    "duration": 5,
    "start_time": "2022-03-10T17:26:45.644Z"
   },
   {
    "duration": 42,
    "start_time": "2022-03-10T17:26:45.652Z"
   },
   {
    "duration": 33,
    "start_time": "2022-03-10T17:26:45.697Z"
   },
   {
    "duration": 52,
    "start_time": "2022-03-10T17:26:45.735Z"
   },
   {
    "duration": 111,
    "start_time": "2022-03-10T17:26:45.790Z"
   },
   {
    "duration": 8,
    "start_time": "2022-03-10T17:26:45.905Z"
   },
   {
    "duration": 36,
    "start_time": "2022-03-10T17:26:45.915Z"
   },
   {
    "duration": 37,
    "start_time": "2022-03-10T17:26:45.953Z"
   },
   {
    "duration": 25,
    "start_time": "2022-03-10T17:26:45.994Z"
   },
   {
    "duration": 10,
    "start_time": "2022-03-10T17:26:46.021Z"
   },
   {
    "duration": 16,
    "start_time": "2022-03-10T17:26:46.033Z"
   },
   {
    "duration": 10,
    "start_time": "2022-03-10T17:26:46.088Z"
   },
   {
    "duration": 12,
    "start_time": "2022-03-10T17:26:46.101Z"
   },
   {
    "duration": 21,
    "start_time": "2022-03-10T17:26:46.116Z"
   },
   {
    "duration": 4,
    "start_time": "2022-03-10T17:26:46.140Z"
   },
   {
    "duration": 7,
    "start_time": "2022-03-10T17:26:46.147Z"
   },
   {
    "duration": 40,
    "start_time": "2022-03-10T17:26:46.157Z"
   },
   {
    "duration": 19,
    "start_time": "2022-03-10T17:26:46.199Z"
   },
   {
    "duration": 102,
    "start_time": "2022-03-10T17:26:46.221Z"
   },
   {
    "duration": 37,
    "start_time": "2022-03-10T17:26:46.325Z"
   },
   {
    "duration": 24,
    "start_time": "2022-03-10T17:26:46.365Z"
   },
   {
    "duration": 7,
    "start_time": "2022-03-10T17:26:46.395Z"
   },
   {
    "duration": 11,
    "start_time": "2022-03-10T17:26:46.406Z"
   },
   {
    "duration": 4,
    "start_time": "2022-03-10T17:26:46.420Z"
   },
   {
    "duration": 12,
    "start_time": "2022-03-10T17:26:46.428Z"
   },
   {
    "duration": 54,
    "start_time": "2022-03-10T17:26:46.443Z"
   },
   {
    "duration": 6,
    "start_time": "2022-03-10T17:26:46.500Z"
   },
   {
    "duration": 719,
    "start_time": "2022-03-10T17:26:46.508Z"
   },
   {
    "duration": 91788,
    "start_time": "2022-03-10T17:26:47.230Z"
   },
   {
    "duration": 2141,
    "start_time": "2022-03-10T17:28:19.021Z"
   },
   {
    "duration": 6,
    "start_time": "2022-03-10T17:28:21.165Z"
   },
   {
    "duration": 161,
    "start_time": "2022-03-10T17:28:21.187Z"
   },
   {
    "duration": 14,
    "start_time": "2022-03-10T17:28:21.351Z"
   },
   {
    "duration": 470,
    "start_time": "2022-03-10T17:28:21.367Z"
   },
   {
    "duration": -5182,
    "start_time": "2022-03-10T17:28:27.022Z"
   },
   {
    "duration": -5188,
    "start_time": "2022-03-10T17:28:27.029Z"
   },
   {
    "duration": -5193,
    "start_time": "2022-03-10T17:28:27.035Z"
   },
   {
    "duration": -5209,
    "start_time": "2022-03-10T17:28:27.052Z"
   },
   {
    "duration": -5214,
    "start_time": "2022-03-10T17:28:27.059Z"
   },
   {
    "duration": -5220,
    "start_time": "2022-03-10T17:28:27.066Z"
   },
   {
    "duration": -5225,
    "start_time": "2022-03-10T17:28:27.072Z"
   },
   {
    "duration": -5230,
    "start_time": "2022-03-10T17:28:27.078Z"
   },
   {
    "duration": -5235,
    "start_time": "2022-03-10T17:28:27.084Z"
   },
   {
    "duration": -5240,
    "start_time": "2022-03-10T17:28:27.091Z"
   },
   {
    "duration": -5244,
    "start_time": "2022-03-10T17:28:27.097Z"
   },
   {
    "duration": 96,
    "start_time": "2022-03-10T17:32:43.589Z"
   },
   {
    "duration": 1546,
    "start_time": "2022-03-10T17:39:21.786Z"
   },
   {
    "duration": 43,
    "start_time": "2022-03-10T17:39:23.335Z"
   },
   {
    "duration": 13,
    "start_time": "2022-03-10T17:39:23.381Z"
   },
   {
    "duration": 20,
    "start_time": "2022-03-10T17:39:23.396Z"
   },
   {
    "duration": 5,
    "start_time": "2022-03-10T17:39:23.418Z"
   },
   {
    "duration": 12,
    "start_time": "2022-03-10T17:39:23.426Z"
   },
   {
    "duration": 62,
    "start_time": "2022-03-10T17:39:23.440Z"
   },
   {
    "duration": 31,
    "start_time": "2022-03-10T17:39:23.504Z"
   },
   {
    "duration": 94,
    "start_time": "2022-03-10T17:39:23.541Z"
   },
   {
    "duration": 7,
    "start_time": "2022-03-10T17:39:23.639Z"
   },
   {
    "duration": 66,
    "start_time": "2022-03-10T17:39:23.649Z"
   },
   {
    "duration": 9,
    "start_time": "2022-03-10T17:39:23.718Z"
   },
   {
    "duration": 20,
    "start_time": "2022-03-10T17:39:23.729Z"
   },
   {
    "duration": 42,
    "start_time": "2022-03-10T17:39:23.752Z"
   },
   {
    "duration": 20,
    "start_time": "2022-03-10T17:39:23.798Z"
   },
   {
    "duration": 10,
    "start_time": "2022-03-10T17:39:23.821Z"
   },
   {
    "duration": 4,
    "start_time": "2022-03-10T17:39:23.833Z"
   },
   {
    "duration": 60,
    "start_time": "2022-03-10T17:39:23.840Z"
   },
   {
    "duration": 3,
    "start_time": "2022-03-10T17:39:23.903Z"
   },
   {
    "duration": 10,
    "start_time": "2022-03-10T17:39:23.908Z"
   },
   {
    "duration": 12,
    "start_time": "2022-03-10T17:39:23.920Z"
   },
   {
    "duration": 19,
    "start_time": "2022-03-10T17:39:23.935Z"
   },
   {
    "duration": 97,
    "start_time": "2022-03-10T17:39:23.956Z"
   },
   {
    "duration": 52,
    "start_time": "2022-03-10T17:39:24.055Z"
   },
   {
    "duration": 6,
    "start_time": "2022-03-10T17:39:24.109Z"
   },
   {
    "duration": 12,
    "start_time": "2022-03-10T17:39:24.117Z"
   },
   {
    "duration": 14,
    "start_time": "2022-03-10T17:39:24.134Z"
   },
   {
    "duration": 9,
    "start_time": "2022-03-10T17:39:24.151Z"
   },
   {
    "duration": 37,
    "start_time": "2022-03-10T17:39:24.162Z"
   },
   {
    "duration": 16,
    "start_time": "2022-03-10T17:39:24.201Z"
   },
   {
    "duration": 876,
    "start_time": "2022-03-10T17:39:24.219Z"
   },
   {
    "duration": 75923,
    "start_time": "2022-03-10T17:39:25.098Z"
   },
   {
    "duration": 2344,
    "start_time": "2022-03-10T17:40:41.024Z"
   },
   {
    "duration": 6,
    "start_time": "2022-03-10T17:40:43.370Z"
   },
   {
    "duration": 227,
    "start_time": "2022-03-10T17:40:43.378Z"
   },
   {
    "duration": 9,
    "start_time": "2022-03-10T17:40:43.608Z"
   },
   {
    "duration": 423,
    "start_time": "2022-03-10T17:40:43.619Z"
   },
   {
    "duration": -5172,
    "start_time": "2022-03-10T17:40:49.217Z"
   },
   {
    "duration": -5175,
    "start_time": "2022-03-10T17:40:49.222Z"
   },
   {
    "duration": -5181,
    "start_time": "2022-03-10T17:40:49.230Z"
   },
   {
    "duration": -5186,
    "start_time": "2022-03-10T17:40:49.236Z"
   },
   {
    "duration": -5190,
    "start_time": "2022-03-10T17:40:49.242Z"
   },
   {
    "duration": -5195,
    "start_time": "2022-03-10T17:40:49.249Z"
   },
   {
    "duration": -5200,
    "start_time": "2022-03-10T17:40:49.255Z"
   },
   {
    "duration": -5204,
    "start_time": "2022-03-10T17:40:49.261Z"
   },
   {
    "duration": -5209,
    "start_time": "2022-03-10T17:40:49.267Z"
   },
   {
    "duration": -5214,
    "start_time": "2022-03-10T17:40:49.274Z"
   },
   {
    "duration": -5218,
    "start_time": "2022-03-10T17:40:49.280Z"
   },
   {
    "duration": 1553,
    "start_time": "2022-03-10T17:48:05.088Z"
   },
   {
    "duration": 38,
    "start_time": "2022-03-10T17:48:06.643Z"
   },
   {
    "duration": 12,
    "start_time": "2022-03-10T17:48:06.684Z"
   },
   {
    "duration": 17,
    "start_time": "2022-03-10T17:48:06.698Z"
   },
   {
    "duration": 5,
    "start_time": "2022-03-10T17:48:06.717Z"
   },
   {
    "duration": 10,
    "start_time": "2022-03-10T17:48:06.724Z"
   },
   {
    "duration": 62,
    "start_time": "2022-03-10T17:48:06.737Z"
   },
   {
    "duration": 20,
    "start_time": "2022-03-10T17:48:06.803Z"
   },
   {
    "duration": 99,
    "start_time": "2022-03-10T17:48:06.826Z"
   },
   {
    "duration": 8,
    "start_time": "2022-03-10T17:48:06.928Z"
   },
   {
    "duration": 69,
    "start_time": "2022-03-10T17:48:06.939Z"
   },
   {
    "duration": 8,
    "start_time": "2022-03-10T17:48:07.011Z"
   },
   {
    "duration": 22,
    "start_time": "2022-03-10T17:48:07.021Z"
   },
   {
    "duration": 9,
    "start_time": "2022-03-10T17:48:07.045Z"
   },
   {
    "duration": 41,
    "start_time": "2022-03-10T17:48:07.056Z"
   },
   {
    "duration": 8,
    "start_time": "2022-03-10T17:48:07.100Z"
   },
   {
    "duration": 9,
    "start_time": "2022-03-10T17:48:07.110Z"
   },
   {
    "duration": 18,
    "start_time": "2022-03-10T17:48:07.121Z"
   },
   {
    "duration": 3,
    "start_time": "2022-03-10T17:48:07.141Z"
   },
   {
    "duration": 40,
    "start_time": "2022-03-10T17:48:07.147Z"
   },
   {
    "duration": 15,
    "start_time": "2022-03-10T17:48:07.190Z"
   },
   {
    "duration": 20,
    "start_time": "2022-03-10T17:48:07.208Z"
   },
   {
    "duration": 104,
    "start_time": "2022-03-10T17:48:07.233Z"
   },
   {
    "duration": 47,
    "start_time": "2022-03-10T17:48:07.340Z"
   },
   {
    "duration": 6,
    "start_time": "2022-03-10T17:48:07.389Z"
   },
   {
    "duration": 14,
    "start_time": "2022-03-10T17:48:07.397Z"
   },
   {
    "duration": 13,
    "start_time": "2022-03-10T17:48:07.413Z"
   },
   {
    "duration": 4,
    "start_time": "2022-03-10T17:48:07.428Z"
   },
   {
    "duration": 12,
    "start_time": "2022-03-10T17:48:07.435Z"
   },
   {
    "duration": 45,
    "start_time": "2022-03-10T17:48:07.450Z"
   },
   {
    "duration": 1373,
    "start_time": "2022-03-10T17:48:07.498Z"
   },
   {
    "duration": -5145,
    "start_time": "2022-03-10T17:48:14.018Z"
   },
   {
    "duration": -5151,
    "start_time": "2022-03-10T17:48:14.025Z"
   },
   {
    "duration": -5155,
    "start_time": "2022-03-10T17:48:14.031Z"
   },
   {
    "duration": -5160,
    "start_time": "2022-03-10T17:48:14.037Z"
   },
   {
    "duration": -5158,
    "start_time": "2022-03-10T17:48:14.044Z"
   },
   {
    "duration": -5162,
    "start_time": "2022-03-10T17:48:14.049Z"
   },
   {
    "duration": -5168,
    "start_time": "2022-03-10T17:48:14.056Z"
   },
   {
    "duration": -5172,
    "start_time": "2022-03-10T17:48:14.062Z"
   },
   {
    "duration": -5177,
    "start_time": "2022-03-10T17:48:14.068Z"
   },
   {
    "duration": -5182,
    "start_time": "2022-03-10T17:48:14.074Z"
   },
   {
    "duration": -5187,
    "start_time": "2022-03-10T17:48:14.080Z"
   },
   {
    "duration": -5195,
    "start_time": "2022-03-10T17:48:14.090Z"
   },
   {
    "duration": -5201,
    "start_time": "2022-03-10T17:48:14.097Z"
   },
   {
    "duration": -5205,
    "start_time": "2022-03-10T17:48:14.102Z"
   },
   {
    "duration": -5210,
    "start_time": "2022-03-10T17:48:14.109Z"
   },
   {
    "duration": -5226,
    "start_time": "2022-03-10T17:48:14.126Z"
   },
   {
    "duration": -5230,
    "start_time": "2022-03-10T17:48:14.132Z"
   },
   {
    "duration": 1643,
    "start_time": "2022-03-10T17:52:06.705Z"
   },
   {
    "duration": 43,
    "start_time": "2022-03-10T17:52:08.351Z"
   },
   {
    "duration": 12,
    "start_time": "2022-03-10T17:52:08.396Z"
   },
   {
    "duration": 16,
    "start_time": "2022-03-10T17:52:08.411Z"
   },
   {
    "duration": 6,
    "start_time": "2022-03-10T17:52:08.429Z"
   },
   {
    "duration": 14,
    "start_time": "2022-03-10T17:52:08.438Z"
   },
   {
    "duration": 34,
    "start_time": "2022-03-10T17:52:08.488Z"
   },
   {
    "duration": 37,
    "start_time": "2022-03-10T17:52:08.525Z"
   },
   {
    "duration": 96,
    "start_time": "2022-03-10T17:52:08.592Z"
   },
   {
    "duration": 9,
    "start_time": "2022-03-10T17:52:08.692Z"
   },
   {
    "duration": 41,
    "start_time": "2022-03-10T17:52:08.703Z"
   },
   {
    "duration": 7,
    "start_time": "2022-03-10T17:52:08.747Z"
   },
   {
    "duration": 21,
    "start_time": "2022-03-10T17:52:08.788Z"
   },
   {
    "duration": 9,
    "start_time": "2022-03-10T17:52:08.812Z"
   },
   {
    "duration": 15,
    "start_time": "2022-03-10T17:52:08.823Z"
   },
   {
    "duration": 53,
    "start_time": "2022-03-10T17:52:08.841Z"
   },
   {
    "duration": 32,
    "start_time": "2022-03-10T17:52:08.896Z"
   },
   {
    "duration": 19,
    "start_time": "2022-03-10T17:52:08.931Z"
   },
   {
    "duration": 4,
    "start_time": "2022-03-10T17:52:08.952Z"
   },
   {
    "duration": 8,
    "start_time": "2022-03-10T17:52:08.958Z"
   },
   {
    "duration": 25,
    "start_time": "2022-03-10T17:52:08.968Z"
   },
   {
    "duration": 19,
    "start_time": "2022-03-10T17:52:08.995Z"
   },
   {
    "duration": 104,
    "start_time": "2022-03-10T17:52:09.017Z"
   },
   {
    "duration": 35,
    "start_time": "2022-03-10T17:52:09.123Z"
   },
   {
    "duration": 5,
    "start_time": "2022-03-10T17:52:09.160Z"
   },
   {
    "duration": 6,
    "start_time": "2022-03-10T17:52:09.188Z"
   },
   {
    "duration": 17,
    "start_time": "2022-03-10T17:52:09.199Z"
   },
   {
    "duration": 5,
    "start_time": "2022-03-10T17:52:09.219Z"
   },
   {
    "duration": 13,
    "start_time": "2022-03-10T17:52:09.227Z"
   },
   {
    "duration": 49,
    "start_time": "2022-03-10T17:52:09.242Z"
   },
   {
    "duration": 1404,
    "start_time": "2022-03-10T17:52:09.293Z"
   },
   {
    "duration": -5141,
    "start_time": "2022-03-10T17:52:15.841Z"
   },
   {
    "duration": -5145,
    "start_time": "2022-03-10T17:52:15.847Z"
   },
   {
    "duration": -5150,
    "start_time": "2022-03-10T17:52:15.854Z"
   },
   {
    "duration": -5153,
    "start_time": "2022-03-10T17:52:15.859Z"
   },
   {
    "duration": -5158,
    "start_time": "2022-03-10T17:52:15.866Z"
   },
   {
    "duration": -5161,
    "start_time": "2022-03-10T17:52:15.872Z"
   },
   {
    "duration": -5166,
    "start_time": "2022-03-10T17:52:15.879Z"
   },
   {
    "duration": -5170,
    "start_time": "2022-03-10T17:52:15.885Z"
   },
   {
    "duration": -5174,
    "start_time": "2022-03-10T17:52:15.891Z"
   },
   {
    "duration": -5341,
    "start_time": "2022-03-10T17:52:16.060Z"
   },
   {
    "duration": -5346,
    "start_time": "2022-03-10T17:52:16.067Z"
   },
   {
    "duration": -5350,
    "start_time": "2022-03-10T17:52:16.073Z"
   },
   {
    "duration": -5354,
    "start_time": "2022-03-10T17:52:16.079Z"
   },
   {
    "duration": -5357,
    "start_time": "2022-03-10T17:52:16.084Z"
   },
   {
    "duration": -5361,
    "start_time": "2022-03-10T17:52:16.091Z"
   },
   {
    "duration": -5365,
    "start_time": "2022-03-10T17:52:16.097Z"
   },
   {
    "duration": -5316,
    "start_time": "2022-03-10T17:52:16.103Z"
   },
   {
    "duration": 1629,
    "start_time": "2022-03-10T17:53:15.643Z"
   },
   {
    "duration": 39,
    "start_time": "2022-03-10T17:53:17.275Z"
   },
   {
    "duration": 12,
    "start_time": "2022-03-10T17:53:17.317Z"
   },
   {
    "duration": 18,
    "start_time": "2022-03-10T17:53:17.332Z"
   },
   {
    "duration": 36,
    "start_time": "2022-03-10T17:53:17.352Z"
   },
   {
    "duration": 12,
    "start_time": "2022-03-10T17:53:17.391Z"
   },
   {
    "duration": 22,
    "start_time": "2022-03-10T17:53:17.405Z"
   },
   {
    "duration": 63,
    "start_time": "2022-03-10T17:53:17.435Z"
   },
   {
    "duration": 99,
    "start_time": "2022-03-10T17:53:17.501Z"
   },
   {
    "duration": 7,
    "start_time": "2022-03-10T17:53:17.603Z"
   },
   {
    "duration": 39,
    "start_time": "2022-03-10T17:53:17.613Z"
   },
   {
    "duration": 36,
    "start_time": "2022-03-10T17:53:17.654Z"
   },
   {
    "duration": 20,
    "start_time": "2022-03-10T17:53:17.693Z"
   },
   {
    "duration": 8,
    "start_time": "2022-03-10T17:53:17.716Z"
   },
   {
    "duration": 15,
    "start_time": "2022-03-10T17:53:17.726Z"
   },
   {
    "duration": 48,
    "start_time": "2022-03-10T17:53:17.744Z"
   },
   {
    "duration": 10,
    "start_time": "2022-03-10T17:53:17.794Z"
   },
   {
    "duration": 16,
    "start_time": "2022-03-10T17:53:17.806Z"
   },
   {
    "duration": 4,
    "start_time": "2022-03-10T17:53:17.825Z"
   },
   {
    "duration": 7,
    "start_time": "2022-03-10T17:53:17.831Z"
   },
   {
    "duration": 50,
    "start_time": "2022-03-10T17:53:17.841Z"
   },
   {
    "duration": 22,
    "start_time": "2022-03-10T17:53:17.894Z"
   },
   {
    "duration": 99,
    "start_time": "2022-03-10T17:53:17.922Z"
   },
   {
    "duration": 34,
    "start_time": "2022-03-10T17:53:18.024Z"
   },
   {
    "duration": 26,
    "start_time": "2022-03-10T17:53:18.061Z"
   },
   {
    "duration": 7,
    "start_time": "2022-03-10T17:53:18.090Z"
   },
   {
    "duration": 13,
    "start_time": "2022-03-10T17:53:18.099Z"
   },
   {
    "duration": 5,
    "start_time": "2022-03-10T17:53:18.115Z"
   },
   {
    "duration": 13,
    "start_time": "2022-03-10T17:53:18.123Z"
   },
   {
    "duration": 54,
    "start_time": "2022-03-10T17:53:18.138Z"
   },
   {
    "duration": 1386,
    "start_time": "2022-03-10T17:53:18.195Z"
   },
   {
    "duration": -6073,
    "start_time": "2022-03-10T17:53:25.660Z"
   },
   {
    "duration": -6078,
    "start_time": "2022-03-10T17:53:25.667Z"
   },
   {
    "duration": -6084,
    "start_time": "2022-03-10T17:53:25.674Z"
   },
   {
    "duration": -6176,
    "start_time": "2022-03-10T17:53:25.767Z"
   },
   {
    "duration": -6209,
    "start_time": "2022-03-10T17:53:25.801Z"
   },
   {
    "duration": -6215,
    "start_time": "2022-03-10T17:53:25.808Z"
   },
   {
    "duration": -6257,
    "start_time": "2022-03-10T17:53:25.852Z"
   },
   {
    "duration": -6533,
    "start_time": "2022-03-10T17:53:26.129Z"
   },
   {
    "duration": -6552,
    "start_time": "2022-03-10T17:53:26.149Z"
   },
   {
    "duration": -6559,
    "start_time": "2022-03-10T17:53:26.157Z"
   },
   {
    "duration": -6564,
    "start_time": "2022-03-10T17:53:26.164Z"
   },
   {
    "duration": -6571,
    "start_time": "2022-03-10T17:53:26.172Z"
   },
   {
    "duration": -6603,
    "start_time": "2022-03-10T17:53:26.206Z"
   },
   {
    "duration": -6609,
    "start_time": "2022-03-10T17:53:26.213Z"
   },
   {
    "duration": -6613,
    "start_time": "2022-03-10T17:53:26.218Z"
   },
   {
    "duration": -6648,
    "start_time": "2022-03-10T17:53:26.255Z"
   },
   {
    "duration": -6855,
    "start_time": "2022-03-10T17:53:26.463Z"
   },
   {
    "duration": 1816,
    "start_time": "2022-03-10T17:53:52.984Z"
   },
   {
    "duration": 40,
    "start_time": "2022-03-10T17:53:54.802Z"
   },
   {
    "duration": 17,
    "start_time": "2022-03-10T17:53:54.847Z"
   },
   {
    "duration": 40,
    "start_time": "2022-03-10T17:53:54.868Z"
   },
   {
    "duration": 6,
    "start_time": "2022-03-10T17:53:54.911Z"
   },
   {
    "duration": 21,
    "start_time": "2022-03-10T17:53:54.920Z"
   },
   {
    "duration": 48,
    "start_time": "2022-03-10T17:53:54.943Z"
   },
   {
    "duration": 23,
    "start_time": "2022-03-10T17:53:54.994Z"
   },
   {
    "duration": 107,
    "start_time": "2022-03-10T17:53:55.022Z"
   },
   {
    "duration": 7,
    "start_time": "2022-03-10T17:53:55.132Z"
   },
   {
    "duration": 67,
    "start_time": "2022-03-10T17:53:55.142Z"
   },
   {
    "duration": 8,
    "start_time": "2022-03-10T17:53:55.211Z"
   },
   {
    "duration": 21,
    "start_time": "2022-03-10T17:53:55.221Z"
   },
   {
    "duration": 9,
    "start_time": "2022-03-10T17:53:55.244Z"
   },
   {
    "duration": 44,
    "start_time": "2022-03-10T17:53:55.255Z"
   },
   {
    "duration": 9,
    "start_time": "2022-03-10T17:53:55.302Z"
   },
   {
    "duration": 4,
    "start_time": "2022-03-10T17:53:55.314Z"
   },
   {
    "duration": 67,
    "start_time": "2022-03-10T17:53:55.320Z"
   },
   {
    "duration": 4,
    "start_time": "2022-03-10T17:53:55.390Z"
   },
   {
    "duration": 11,
    "start_time": "2022-03-10T17:53:55.396Z"
   },
   {
    "duration": 13,
    "start_time": "2022-03-10T17:53:55.409Z"
   },
   {
    "duration": 19,
    "start_time": "2022-03-10T17:53:55.425Z"
   },
   {
    "duration": 110,
    "start_time": "2022-03-10T17:53:55.447Z"
   },
   {
    "duration": 57,
    "start_time": "2022-03-10T17:53:55.559Z"
   },
   {
    "duration": 6,
    "start_time": "2022-03-10T17:53:55.618Z"
   },
   {
    "duration": 11,
    "start_time": "2022-03-10T17:53:55.627Z"
   },
   {
    "duration": 49,
    "start_time": "2022-03-10T17:53:55.644Z"
   },
   {
    "duration": 5,
    "start_time": "2022-03-10T17:53:55.695Z"
   },
   {
    "duration": 19,
    "start_time": "2022-03-10T17:53:55.703Z"
   },
   {
    "duration": 15,
    "start_time": "2022-03-10T17:53:55.724Z"
   },
   {
    "duration": 1627,
    "start_time": "2022-03-10T17:53:55.741Z"
   },
   {
    "duration": -5621,
    "start_time": "2022-03-10T17:54:02.992Z"
   },
   {
    "duration": -5627,
    "start_time": "2022-03-10T17:54:02.999Z"
   },
   {
    "duration": -5631,
    "start_time": "2022-03-10T17:54:03.005Z"
   },
   {
    "duration": -5626,
    "start_time": "2022-03-10T17:54:03.012Z"
   },
   {
    "duration": -5781,
    "start_time": "2022-03-10T17:54:03.169Z"
   },
   {
    "duration": -5786,
    "start_time": "2022-03-10T17:54:03.175Z"
   },
   {
    "duration": -5846,
    "start_time": "2022-03-10T17:54:03.237Z"
   },
   {
    "duration": -5866,
    "start_time": "2022-03-10T17:54:03.258Z"
   },
   {
    "duration": -5915,
    "start_time": "2022-03-10T17:54:03.309Z"
   },
   {
    "duration": -5921,
    "start_time": "2022-03-10T17:54:03.316Z"
   },
   {
    "duration": -5924,
    "start_time": "2022-03-10T17:54:03.321Z"
   },
   {
    "duration": -5929,
    "start_time": "2022-03-10T17:54:03.327Z"
   },
   {
    "duration": -5934,
    "start_time": "2022-03-10T17:54:03.333Z"
   },
   {
    "duration": -6062,
    "start_time": "2022-03-10T17:54:03.463Z"
   },
   {
    "duration": -6066,
    "start_time": "2022-03-10T17:54:03.468Z"
   },
   {
    "duration": -6070,
    "start_time": "2022-03-10T17:54:03.474Z"
   },
   {
    "duration": -6117,
    "start_time": "2022-03-10T17:54:03.522Z"
   },
   {
    "duration": 263,
    "start_time": "2022-03-10T17:56:50.444Z"
   },
   {
    "duration": 1609,
    "start_time": "2022-03-10T17:57:41.468Z"
   },
   {
    "duration": 55,
    "start_time": "2022-03-10T17:57:43.081Z"
   },
   {
    "duration": 16,
    "start_time": "2022-03-10T17:57:43.141Z"
   },
   {
    "duration": 38,
    "start_time": "2022-03-10T17:57:43.161Z"
   },
   {
    "duration": 5,
    "start_time": "2022-03-10T17:57:43.201Z"
   },
   {
    "duration": 14,
    "start_time": "2022-03-10T17:57:43.209Z"
   },
   {
    "duration": 22,
    "start_time": "2022-03-10T17:57:43.226Z"
   },
   {
    "duration": 24,
    "start_time": "2022-03-10T17:57:43.286Z"
   },
   {
    "duration": 97,
    "start_time": "2022-03-10T17:57:43.315Z"
   },
   {
    "duration": 7,
    "start_time": "2022-03-10T17:57:43.415Z"
   },
   {
    "duration": 69,
    "start_time": "2022-03-10T17:57:43.424Z"
   },
   {
    "duration": 9,
    "start_time": "2022-03-10T17:57:43.496Z"
   },
   {
    "duration": 21,
    "start_time": "2022-03-10T17:57:43.508Z"
   },
   {
    "duration": 11,
    "start_time": "2022-03-10T17:57:43.532Z"
   },
   {
    "duration": 56,
    "start_time": "2022-03-10T17:57:43.545Z"
   },
   {
    "duration": 9,
    "start_time": "2022-03-10T17:57:43.603Z"
   },
   {
    "duration": 4,
    "start_time": "2022-03-10T17:57:43.614Z"
   },
   {
    "duration": 18,
    "start_time": "2022-03-10T17:57:43.620Z"
   },
   {
    "duration": 47,
    "start_time": "2022-03-10T17:57:43.640Z"
   },
   {
    "duration": 6,
    "start_time": "2022-03-10T17:57:43.690Z"
   },
   {
    "duration": 15,
    "start_time": "2022-03-10T17:57:43.699Z"
   },
   {
    "duration": 19,
    "start_time": "2022-03-10T17:57:43.717Z"
   },
   {
    "duration": 107,
    "start_time": "2022-03-10T17:57:43.739Z"
   },
   {
    "duration": 54,
    "start_time": "2022-03-10T17:57:43.849Z"
   },
   {
    "duration": 6,
    "start_time": "2022-03-10T17:57:43.906Z"
   },
   {
    "duration": 10,
    "start_time": "2022-03-10T17:57:43.915Z"
   },
   {
    "duration": 9,
    "start_time": "2022-03-10T17:57:43.931Z"
   },
   {
    "duration": 5,
    "start_time": "2022-03-10T17:57:43.943Z"
   },
   {
    "duration": 43,
    "start_time": "2022-03-10T17:57:43.951Z"
   },
   {
    "duration": 14,
    "start_time": "2022-03-10T17:57:43.997Z"
   },
   {
    "duration": 699,
    "start_time": "2022-03-10T17:57:44.014Z"
   },
   {
    "duration": 76109,
    "start_time": "2022-03-10T17:57:44.716Z"
   },
   {
    "duration": 1958,
    "start_time": "2022-03-10T17:59:00.829Z"
   },
   {
    "duration": 6,
    "start_time": "2022-03-10T17:59:02.789Z"
   },
   {
    "duration": 177,
    "start_time": "2022-03-10T17:59:02.798Z"
   },
   {
    "duration": 14,
    "start_time": "2022-03-10T17:59:02.978Z"
   },
   {
    "duration": 461,
    "start_time": "2022-03-10T17:59:02.995Z"
   },
   {
    "duration": -5165,
    "start_time": "2022-03-10T17:59:08.625Z"
   },
   {
    "duration": -5170,
    "start_time": "2022-03-10T17:59:08.633Z"
   },
   {
    "duration": -5175,
    "start_time": "2022-03-10T17:59:08.640Z"
   },
   {
    "duration": -5195,
    "start_time": "2022-03-10T17:59:08.662Z"
   },
   {
    "duration": -5200,
    "start_time": "2022-03-10T17:59:08.669Z"
   },
   {
    "duration": -5203,
    "start_time": "2022-03-10T17:59:08.675Z"
   },
   {
    "duration": -5207,
    "start_time": "2022-03-10T17:59:08.681Z"
   },
   {
    "duration": -5213,
    "start_time": "2022-03-10T17:59:08.689Z"
   },
   {
    "duration": -5216,
    "start_time": "2022-03-10T17:59:08.695Z"
   },
   {
    "duration": -5221,
    "start_time": "2022-03-10T17:59:08.702Z"
   },
   {
    "duration": -5226,
    "start_time": "2022-03-10T17:59:08.709Z"
   },
   {
    "duration": 1621,
    "start_time": "2022-03-10T18:04:17.385Z"
   },
   {
    "duration": 38,
    "start_time": "2022-03-10T18:04:19.009Z"
   },
   {
    "duration": 22,
    "start_time": "2022-03-10T18:04:19.050Z"
   },
   {
    "duration": 68,
    "start_time": "2022-03-10T18:04:19.075Z"
   },
   {
    "duration": 39,
    "start_time": "2022-03-10T18:04:19.146Z"
   },
   {
    "duration": 64,
    "start_time": "2022-03-10T18:04:19.188Z"
   },
   {
    "duration": 40,
    "start_time": "2022-03-10T18:04:19.254Z"
   },
   {
    "duration": 63,
    "start_time": "2022-03-10T18:04:19.297Z"
   },
   {
    "duration": 105,
    "start_time": "2022-03-10T18:04:19.364Z"
   },
   {
    "duration": 14,
    "start_time": "2022-03-10T18:04:19.472Z"
   },
   {
    "duration": 78,
    "start_time": "2022-03-10T18:04:19.489Z"
   },
   {
    "duration": 33,
    "start_time": "2022-03-10T18:04:19.569Z"
   },
   {
    "duration": 58,
    "start_time": "2022-03-10T18:04:19.605Z"
   },
   {
    "duration": 50,
    "start_time": "2022-03-10T18:04:19.666Z"
   },
   {
    "duration": 47,
    "start_time": "2022-03-10T18:04:19.718Z"
   },
   {
    "duration": 25,
    "start_time": "2022-03-10T18:04:19.768Z"
   },
   {
    "duration": 78,
    "start_time": "2022-03-10T18:04:19.795Z"
   },
   {
    "duration": 82,
    "start_time": "2022-03-10T18:04:19.876Z"
   },
   {
    "duration": 15,
    "start_time": "2022-03-10T18:04:19.960Z"
   },
   {
    "duration": 52,
    "start_time": "2022-03-10T18:04:19.977Z"
   },
   {
    "duration": 44,
    "start_time": "2022-03-10T18:04:20.032Z"
   },
   {
    "duration": 71,
    "start_time": "2022-03-10T18:04:20.079Z"
   },
   {
    "duration": 91,
    "start_time": "2022-03-10T18:04:20.153Z"
   },
   {
    "duration": 46,
    "start_time": "2022-03-10T18:04:20.246Z"
   },
   {
    "duration": 15,
    "start_time": "2022-03-10T18:04:20.294Z"
   },
   {
    "duration": 55,
    "start_time": "2022-03-10T18:04:20.311Z"
   },
   {
    "duration": 40,
    "start_time": "2022-03-10T18:04:20.371Z"
   },
   {
    "duration": 61,
    "start_time": "2022-03-10T18:04:20.414Z"
   },
   {
    "duration": 39,
    "start_time": "2022-03-10T18:04:20.479Z"
   },
   {
    "duration": 56,
    "start_time": "2022-03-10T18:04:20.521Z"
   },
   {
    "duration": 731,
    "start_time": "2022-03-10T18:04:20.580Z"
   },
   {
    "duration": 1514,
    "start_time": "2022-03-10T18:04:57.844Z"
   },
   {
    "duration": 43,
    "start_time": "2022-03-10T18:04:59.361Z"
   },
   {
    "duration": 12,
    "start_time": "2022-03-10T18:04:59.407Z"
   },
   {
    "duration": 21,
    "start_time": "2022-03-10T18:04:59.422Z"
   },
   {
    "duration": 5,
    "start_time": "2022-03-10T18:04:59.446Z"
   },
   {
    "duration": 38,
    "start_time": "2022-03-10T18:04:59.454Z"
   },
   {
    "duration": 45,
    "start_time": "2022-03-10T18:04:59.495Z"
   },
   {
    "duration": 29,
    "start_time": "2022-03-10T18:04:59.543Z"
   },
   {
    "duration": 81,
    "start_time": "2022-03-10T18:04:59.577Z"
   },
   {
    "duration": 28,
    "start_time": "2022-03-10T18:04:59.661Z"
   },
   {
    "duration": 40,
    "start_time": "2022-03-10T18:04:59.692Z"
   },
   {
    "duration": 9,
    "start_time": "2022-03-10T18:04:59.735Z"
   },
   {
    "duration": 59,
    "start_time": "2022-03-10T18:04:59.747Z"
   },
   {
    "duration": 11,
    "start_time": "2022-03-10T18:04:59.809Z"
   },
   {
    "duration": 25,
    "start_time": "2022-03-10T18:04:59.823Z"
   },
   {
    "duration": 42,
    "start_time": "2022-03-10T18:04:59.850Z"
   },
   {
    "duration": 26,
    "start_time": "2022-03-10T18:04:59.894Z"
   },
   {
    "duration": 33,
    "start_time": "2022-03-10T18:04:59.922Z"
   },
   {
    "duration": 6,
    "start_time": "2022-03-10T18:04:59.957Z"
   },
   {
    "duration": 29,
    "start_time": "2022-03-10T18:04:59.965Z"
   },
   {
    "duration": 24,
    "start_time": "2022-03-10T18:04:59.996Z"
   },
   {
    "duration": 34,
    "start_time": "2022-03-10T18:05:00.023Z"
   },
   {
    "duration": 100,
    "start_time": "2022-03-10T18:05:00.060Z"
   },
   {
    "duration": 40,
    "start_time": "2022-03-10T18:05:00.162Z"
   },
   {
    "duration": 6,
    "start_time": "2022-03-10T18:05:00.204Z"
   },
   {
    "duration": 29,
    "start_time": "2022-03-10T18:05:00.213Z"
   },
   {
    "duration": 20,
    "start_time": "2022-03-10T18:05:00.249Z"
   },
   {
    "duration": 5,
    "start_time": "2022-03-10T18:05:00.289Z"
   },
   {
    "duration": 28,
    "start_time": "2022-03-10T18:05:00.297Z"
   },
   {
    "duration": 37,
    "start_time": "2022-03-10T18:05:00.328Z"
   },
   {
    "duration": 1651,
    "start_time": "2022-03-10T18:05:00.368Z"
   },
   {
    "duration": -5137,
    "start_time": "2022-03-10T18:05:07.159Z"
   },
   {
    "duration": -5188,
    "start_time": "2022-03-10T18:05:07.212Z"
   },
   {
    "duration": -5213,
    "start_time": "2022-03-10T18:05:07.238Z"
   },
   {
    "duration": -5236,
    "start_time": "2022-03-10T18:05:07.263Z"
   },
   {
    "duration": -5264,
    "start_time": "2022-03-10T18:05:07.292Z"
   },
   {
    "duration": -5301,
    "start_time": "2022-03-10T18:05:07.331Z"
   },
   {
    "duration": -5326,
    "start_time": "2022-03-10T18:05:07.358Z"
   },
   {
    "duration": -5345,
    "start_time": "2022-03-10T18:05:07.379Z"
   },
   {
    "duration": -5366,
    "start_time": "2022-03-10T18:05:07.401Z"
   },
   {
    "duration": -5386,
    "start_time": "2022-03-10T18:05:07.423Z"
   },
   {
    "duration": -5406,
    "start_time": "2022-03-10T18:05:07.445Z"
   },
   {
    "duration": -5430,
    "start_time": "2022-03-10T18:05:07.470Z"
   },
   {
    "duration": -5450,
    "start_time": "2022-03-10T18:05:07.492Z"
   },
   {
    "duration": -5428,
    "start_time": "2022-03-10T18:05:07.514Z"
   },
   {
    "duration": -5450,
    "start_time": "2022-03-10T18:05:07.538Z"
   },
   {
    "duration": -5470,
    "start_time": "2022-03-10T18:05:07.560Z"
   },
   {
    "duration": -5493,
    "start_time": "2022-03-10T18:05:07.584Z"
   },
   {
    "duration": 1787,
    "start_time": "2022-03-10T18:05:21.285Z"
   },
   {
    "duration": 39,
    "start_time": "2022-03-10T18:05:23.075Z"
   },
   {
    "duration": 11,
    "start_time": "2022-03-10T18:05:23.117Z"
   },
   {
    "duration": 18,
    "start_time": "2022-03-10T18:05:23.130Z"
   },
   {
    "duration": 6,
    "start_time": "2022-03-10T18:05:23.150Z"
   },
   {
    "duration": 12,
    "start_time": "2022-03-10T18:05:23.192Z"
   },
   {
    "duration": 23,
    "start_time": "2022-03-10T18:05:23.207Z"
   },
   {
    "duration": 20,
    "start_time": "2022-03-10T18:05:23.232Z"
   },
   {
    "duration": 75,
    "start_time": "2022-03-10T18:05:23.288Z"
   },
   {
    "duration": 7,
    "start_time": "2022-03-10T18:05:23.389Z"
   },
   {
    "duration": 44,
    "start_time": "2022-03-10T18:05:23.399Z"
   },
   {
    "duration": 10,
    "start_time": "2022-03-10T18:05:23.446Z"
   },
   {
    "duration": 20,
    "start_time": "2022-03-10T18:05:23.488Z"
   },
   {
    "duration": 335,
    "start_time": "2022-03-10T18:05:23.511Z"
   },
   {
    "duration": 15,
    "start_time": "2022-03-10T18:05:23.849Z"
   },
   {
    "duration": 11,
    "start_time": "2022-03-10T18:05:23.867Z"
   },
   {
    "duration": 6,
    "start_time": "2022-03-10T18:05:23.880Z"
   },
   {
    "duration": 17,
    "start_time": "2022-03-10T18:05:23.889Z"
   },
   {
    "duration": 4,
    "start_time": "2022-03-10T18:05:23.908Z"
   },
   {
    "duration": 12,
    "start_time": "2022-03-10T18:05:23.914Z"
   },
   {
    "duration": 15,
    "start_time": "2022-03-10T18:05:23.928Z"
   },
   {
    "duration": 56,
    "start_time": "2022-03-10T18:05:23.946Z"
   },
   {
    "duration": 122,
    "start_time": "2022-03-10T18:05:24.004Z"
   },
   {
    "duration": 64,
    "start_time": "2022-03-10T18:05:24.129Z"
   },
   {
    "duration": 8,
    "start_time": "2022-03-10T18:05:24.196Z"
   },
   {
    "duration": 8,
    "start_time": "2022-03-10T18:05:24.207Z"
   },
   {
    "duration": 11,
    "start_time": "2022-03-10T18:05:24.223Z"
   },
   {
    "duration": 5,
    "start_time": "2022-03-10T18:05:24.237Z"
   },
   {
    "duration": 52,
    "start_time": "2022-03-10T18:05:24.245Z"
   },
   {
    "duration": 22,
    "start_time": "2022-03-10T18:05:24.300Z"
   },
   {
    "duration": 730,
    "start_time": "2022-03-10T18:05:24.324Z"
   },
   {
    "duration": 1568,
    "start_time": "2022-03-10T18:05:43.685Z"
   },
   {
    "duration": 47,
    "start_time": "2022-03-10T18:05:45.255Z"
   },
   {
    "duration": 12,
    "start_time": "2022-03-10T18:05:45.306Z"
   },
   {
    "duration": 15,
    "start_time": "2022-03-10T18:05:45.321Z"
   },
   {
    "duration": 4,
    "start_time": "2022-03-10T18:05:45.339Z"
   },
   {
    "duration": 48,
    "start_time": "2022-03-10T18:05:45.345Z"
   },
   {
    "duration": 22,
    "start_time": "2022-03-10T18:05:45.395Z"
   },
   {
    "duration": 22,
    "start_time": "2022-03-10T18:05:45.419Z"
   },
   {
    "duration": 103,
    "start_time": "2022-03-10T18:05:45.445Z"
   },
   {
    "duration": 6,
    "start_time": "2022-03-10T18:05:45.552Z"
   },
   {
    "duration": 47,
    "start_time": "2022-03-10T18:05:45.588Z"
   },
   {
    "duration": 8,
    "start_time": "2022-03-10T18:05:45.638Z"
   },
   {
    "duration": 47,
    "start_time": "2022-03-10T18:05:45.649Z"
   },
   {
    "duration": 13,
    "start_time": "2022-03-10T18:05:45.699Z"
   },
   {
    "duration": 24,
    "start_time": "2022-03-10T18:05:45.715Z"
   },
   {
    "duration": 10,
    "start_time": "2022-03-10T18:05:45.741Z"
   },
   {
    "duration": 38,
    "start_time": "2022-03-10T18:05:45.753Z"
   },
   {
    "duration": 34,
    "start_time": "2022-03-10T18:05:45.795Z"
   },
   {
    "duration": 4,
    "start_time": "2022-03-10T18:05:45.832Z"
   },
   {
    "duration": 12,
    "start_time": "2022-03-10T18:05:45.839Z"
   },
   {
    "duration": 34,
    "start_time": "2022-03-10T18:05:45.853Z"
   },
   {
    "duration": 20,
    "start_time": "2022-03-10T18:05:45.891Z"
   },
   {
    "duration": 100,
    "start_time": "2022-03-10T18:05:45.913Z"
   },
   {
    "duration": 34,
    "start_time": "2022-03-10T18:05:46.015Z"
   },
   {
    "duration": 6,
    "start_time": "2022-03-10T18:05:46.052Z"
   },
   {
    "duration": 27,
    "start_time": "2022-03-10T18:05:46.060Z"
   },
   {
    "duration": 11,
    "start_time": "2022-03-10T18:05:46.093Z"
   },
   {
    "duration": 4,
    "start_time": "2022-03-10T18:05:46.108Z"
   },
   {
    "duration": 10,
    "start_time": "2022-03-10T18:05:46.115Z"
   },
   {
    "duration": 17,
    "start_time": "2022-03-10T18:05:46.127Z"
   },
   {
    "duration": 768,
    "start_time": "2022-03-10T18:05:46.147Z"
   },
   {
    "duration": 77110,
    "start_time": "2022-03-10T18:05:46.918Z"
   },
   {
    "duration": 2514,
    "start_time": "2022-03-10T18:07:04.031Z"
   },
   {
    "duration": 8,
    "start_time": "2022-03-10T18:07:06.548Z"
   },
   {
    "duration": 161,
    "start_time": "2022-03-10T18:07:06.559Z"
   },
   {
    "duration": 10,
    "start_time": "2022-03-10T18:07:06.723Z"
   },
   {
    "duration": 409,
    "start_time": "2022-03-10T18:07:06.735Z"
   },
   {
    "duration": -5372,
    "start_time": "2022-03-10T18:07:12.519Z"
   },
   {
    "duration": -5378,
    "start_time": "2022-03-10T18:07:12.526Z"
   },
   {
    "duration": -5391,
    "start_time": "2022-03-10T18:07:12.541Z"
   },
   {
    "duration": -5397,
    "start_time": "2022-03-10T18:07:12.548Z"
   },
   {
    "duration": -5402,
    "start_time": "2022-03-10T18:07:12.554Z"
   },
   {
    "duration": -5407,
    "start_time": "2022-03-10T18:07:12.561Z"
   },
   {
    "duration": -5411,
    "start_time": "2022-03-10T18:07:12.566Z"
   },
   {
    "duration": -5416,
    "start_time": "2022-03-10T18:07:12.573Z"
   },
   {
    "duration": -5421,
    "start_time": "2022-03-10T18:07:12.579Z"
   },
   {
    "duration": -5425,
    "start_time": "2022-03-10T18:07:12.585Z"
   },
   {
    "duration": -5430,
    "start_time": "2022-03-10T18:07:12.591Z"
   },
   {
    "duration": 149,
    "start_time": "2022-03-10T18:32:17.127Z"
   },
   {
    "duration": 2241,
    "start_time": "2022-03-10T18:32:35.665Z"
   },
   {
    "duration": 57,
    "start_time": "2022-03-10T18:32:37.910Z"
   },
   {
    "duration": 25,
    "start_time": "2022-03-10T18:32:37.971Z"
   },
   {
    "duration": 23,
    "start_time": "2022-03-10T18:32:37.999Z"
   },
   {
    "duration": 5,
    "start_time": "2022-03-10T18:32:38.025Z"
   },
   {
    "duration": 12,
    "start_time": "2022-03-10T18:32:38.032Z"
   },
   {
    "duration": 25,
    "start_time": "2022-03-10T18:32:38.088Z"
   },
   {
    "duration": 29,
    "start_time": "2022-03-10T18:32:38.118Z"
   },
   {
    "duration": 114,
    "start_time": "2022-03-10T18:32:38.152Z"
   },
   {
    "duration": 24,
    "start_time": "2022-03-10T18:32:38.269Z"
   },
   {
    "duration": 39,
    "start_time": "2022-03-10T18:32:38.296Z"
   },
   {
    "duration": 8,
    "start_time": "2022-03-10T18:32:38.338Z"
   },
   {
    "duration": 55,
    "start_time": "2022-03-10T18:32:38.349Z"
   },
   {
    "duration": 9,
    "start_time": "2022-03-10T18:32:38.406Z"
   },
   {
    "duration": 15,
    "start_time": "2022-03-10T18:32:38.417Z"
   },
   {
    "duration": 17,
    "start_time": "2022-03-10T18:32:38.435Z"
   },
   {
    "duration": 35,
    "start_time": "2022-03-10T18:32:38.455Z"
   },
   {
    "duration": 26,
    "start_time": "2022-03-10T18:32:38.492Z"
   },
   {
    "duration": 16,
    "start_time": "2022-03-10T18:32:38.523Z"
   },
   {
    "duration": 16,
    "start_time": "2022-03-10T18:32:38.542Z"
   },
   {
    "duration": 29,
    "start_time": "2022-03-10T18:32:38.560Z"
   },
   {
    "duration": 29,
    "start_time": "2022-03-10T18:32:38.591Z"
   },
   {
    "duration": 91,
    "start_time": "2022-03-10T18:32:38.622Z"
   },
   {
    "duration": 35,
    "start_time": "2022-03-10T18:32:38.716Z"
   },
   {
    "duration": 38,
    "start_time": "2022-03-10T18:32:38.753Z"
   },
   {
    "duration": 27,
    "start_time": "2022-03-10T18:32:38.793Z"
   },
   {
    "duration": 24,
    "start_time": "2022-03-10T18:32:38.825Z"
   },
   {
    "duration": 12,
    "start_time": "2022-03-10T18:32:38.852Z"
   },
   {
    "duration": 25,
    "start_time": "2022-03-10T18:32:38.867Z"
   },
   {
    "duration": 26,
    "start_time": "2022-03-10T18:32:38.895Z"
   },
   {
    "duration": 702,
    "start_time": "2022-03-10T18:32:38.923Z"
   },
   {
    "duration": 77003,
    "start_time": "2022-03-10T18:32:39.628Z"
   },
   {
    "duration": 2627,
    "start_time": "2022-03-10T18:33:56.633Z"
   },
   {
    "duration": 91,
    "start_time": "2022-03-10T18:33:59.263Z"
   },
   {
    "duration": -5145,
    "start_time": "2022-03-10T18:34:04.501Z"
   },
   {
    "duration": -5153,
    "start_time": "2022-03-10T18:34:04.511Z"
   },
   {
    "duration": -5158,
    "start_time": "2022-03-10T18:34:04.517Z"
   },
   {
    "duration": -5163,
    "start_time": "2022-03-10T18:34:04.523Z"
   },
   {
    "duration": -5168,
    "start_time": "2022-03-10T18:34:04.530Z"
   },
   {
    "duration": -5191,
    "start_time": "2022-03-10T18:34:04.554Z"
   },
   {
    "duration": -5199,
    "start_time": "2022-03-10T18:34:04.563Z"
   },
   {
    "duration": -5204,
    "start_time": "2022-03-10T18:34:04.570Z"
   },
   {
    "duration": -5210,
    "start_time": "2022-03-10T18:34:04.577Z"
   },
   {
    "duration": -5215,
    "start_time": "2022-03-10T18:34:04.583Z"
   },
   {
    "duration": -5221,
    "start_time": "2022-03-10T18:34:04.590Z"
   },
   {
    "duration": -5224,
    "start_time": "2022-03-10T18:34:04.595Z"
   },
   {
    "duration": -5230,
    "start_time": "2022-03-10T18:34:04.602Z"
   },
   {
    "duration": -5234,
    "start_time": "2022-03-10T18:34:04.607Z"
   },
   {
    "duration": -5239,
    "start_time": "2022-03-10T18:34:04.614Z"
   },
   {
    "duration": 100,
    "start_time": "2022-03-10T18:35:06.102Z"
   },
   {
    "duration": 124,
    "start_time": "2022-03-10T18:35:26.704Z"
   },
   {
    "duration": 6,
    "start_time": "2022-03-10T18:36:04.882Z"
   },
   {
    "duration": 7,
    "start_time": "2022-03-10T18:38:33.362Z"
   },
   {
    "duration": 674,
    "start_time": "2022-03-10T18:38:34.073Z"
   },
   {
    "duration": 6,
    "start_time": "2022-03-10T18:39:20.521Z"
   },
   {
    "duration": 521,
    "start_time": "2022-03-10T18:39:21.001Z"
   },
   {
    "duration": 7,
    "start_time": "2022-03-10T18:41:09.162Z"
   },
   {
    "duration": 527,
    "start_time": "2022-03-10T18:41:09.853Z"
   },
   {
    "duration": 10,
    "start_time": "2022-03-10T18:41:34.007Z"
   },
   {
    "duration": 537,
    "start_time": "2022-03-10T18:41:34.401Z"
   },
   {
    "duration": 7,
    "start_time": "2022-03-10T18:41:49.584Z"
   },
   {
    "duration": 542,
    "start_time": "2022-03-10T18:41:49.961Z"
   },
   {
    "duration": 7,
    "start_time": "2022-03-10T18:42:03.722Z"
   },
   {
    "duration": 16,
    "start_time": "2022-03-10T18:42:04.101Z"
   },
   {
    "duration": 19,
    "start_time": "2022-03-10T18:43:17.658Z"
   },
   {
    "duration": 7,
    "start_time": "2022-03-10T18:46:36.662Z"
   },
   {
    "duration": 15,
    "start_time": "2022-03-10T18:46:37.433Z"
   },
   {
    "duration": 7,
    "start_time": "2022-03-10T18:46:49.963Z"
   },
   {
    "duration": 20,
    "start_time": "2022-03-10T18:46:50.403Z"
   },
   {
    "duration": 7,
    "start_time": "2022-03-10T18:49:55.090Z"
   },
   {
    "duration": 279,
    "start_time": "2022-03-10T18:49:55.582Z"
   },
   {
    "duration": 16,
    "start_time": "2022-03-10T18:50:15.402Z"
   },
   {
    "duration": 5,
    "start_time": "2022-03-10T18:50:37.524Z"
   },
   {
    "duration": 8,
    "start_time": "2022-03-10T18:51:47.263Z"
   },
   {
    "duration": 14,
    "start_time": "2022-03-10T18:51:47.950Z"
   },
   {
    "duration": 106,
    "start_time": "2022-03-10T18:53:23.830Z"
   },
   {
    "duration": 415,
    "start_time": "2022-03-10T18:53:39.992Z"
   },
   {
    "duration": 443,
    "start_time": "2022-03-10T18:53:58.783Z"
   },
   {
    "duration": 258,
    "start_time": "2022-03-10T18:55:10.227Z"
   },
   {
    "duration": 456,
    "start_time": "2022-03-10T18:55:45.602Z"
   },
   {
    "duration": 7,
    "start_time": "2022-03-10T18:56:23.594Z"
   },
   {
    "duration": 435,
    "start_time": "2022-03-10T18:56:27.374Z"
   },
   {
    "duration": 7,
    "start_time": "2022-03-10T18:56:46.354Z"
   },
   {
    "duration": 21,
    "start_time": "2022-03-10T18:56:48.202Z"
   },
   {
    "duration": 7,
    "start_time": "2022-03-10T18:57:01.114Z"
   },
   {
    "duration": 465,
    "start_time": "2022-03-10T18:57:03.922Z"
   },
   {
    "duration": 6,
    "start_time": "2022-03-10T18:57:12.007Z"
   },
   {
    "duration": 432,
    "start_time": "2022-03-10T18:57:15.430Z"
   },
   {
    "duration": 274,
    "start_time": "2022-03-10T19:01:53.126Z"
   },
   {
    "duration": 7,
    "start_time": "2022-03-10T19:01:57.122Z"
   },
   {
    "duration": 430,
    "start_time": "2022-03-10T19:01:57.488Z"
   },
   {
    "duration": 420,
    "start_time": "2022-03-10T19:04:04.683Z"
   },
   {
    "duration": 81246,
    "start_time": "2022-03-10T19:04:56.222Z"
   },
   {
    "duration": 483,
    "start_time": "2022-03-10T19:07:46.605Z"
   },
   {
    "duration": 426,
    "start_time": "2022-03-10T19:08:03.664Z"
   },
   {
    "duration": 430,
    "start_time": "2022-03-10T19:08:21.283Z"
   },
   {
    "duration": 87253,
    "start_time": "2022-03-10T19:10:28.222Z"
   },
   {
    "duration": 13,
    "start_time": "2022-03-10T19:17:14.765Z"
   },
   {
    "duration": 9,
    "start_time": "2022-03-10T19:17:17.563Z"
   },
   {
    "duration": 1042,
    "start_time": "2022-03-10T19:17:19.418Z"
   },
   {
    "duration": 80106,
    "start_time": "2022-03-10T19:17:31.702Z"
   },
   {
    "duration": 2483,
    "start_time": "2022-03-10T19:18:51.810Z"
   },
   {
    "duration": 307,
    "start_time": "2022-03-10T19:21:08.763Z"
   },
   {
    "duration": 252,
    "start_time": "2022-03-10T19:21:13.722Z"
   },
   {
    "duration": 1481,
    "start_time": "2022-03-11T15:26:26.805Z"
   },
   {
    "duration": 44,
    "start_time": "2022-03-11T15:26:28.289Z"
   },
   {
    "duration": 20,
    "start_time": "2022-03-11T15:26:28.336Z"
   },
   {
    "duration": 17,
    "start_time": "2022-03-11T15:26:28.359Z"
   },
   {
    "duration": 6,
    "start_time": "2022-03-11T15:26:28.379Z"
   },
   {
    "duration": 16,
    "start_time": "2022-03-11T15:26:28.387Z"
   },
   {
    "duration": 62,
    "start_time": "2022-03-11T15:26:28.406Z"
   },
   {
    "duration": 38,
    "start_time": "2022-03-11T15:26:28.470Z"
   },
   {
    "duration": 94,
    "start_time": "2022-03-11T15:26:28.512Z"
   },
   {
    "duration": 8,
    "start_time": "2022-03-11T15:26:28.611Z"
   },
   {
    "duration": 72,
    "start_time": "2022-03-11T15:26:28.621Z"
   },
   {
    "duration": 9,
    "start_time": "2022-03-11T15:26:28.695Z"
   },
   {
    "duration": 53,
    "start_time": "2022-03-11T15:26:28.706Z"
   },
   {
    "duration": 10,
    "start_time": "2022-03-11T15:26:28.762Z"
   },
   {
    "duration": 13,
    "start_time": "2022-03-11T15:26:28.775Z"
   },
   {
    "duration": 27,
    "start_time": "2022-03-11T15:26:28.791Z"
   },
   {
    "duration": 44,
    "start_time": "2022-03-11T15:26:28.821Z"
   },
   {
    "duration": 37,
    "start_time": "2022-03-11T15:26:28.868Z"
   },
   {
    "duration": 9,
    "start_time": "2022-03-11T15:26:28.907Z"
   },
   {
    "duration": 13,
    "start_time": "2022-03-11T15:26:28.919Z"
   },
   {
    "duration": 15,
    "start_time": "2022-03-11T15:26:28.934Z"
   },
   {
    "duration": 29,
    "start_time": "2022-03-11T15:26:28.952Z"
   },
   {
    "duration": 104,
    "start_time": "2022-03-11T15:26:28.983Z"
   },
   {
    "duration": 37,
    "start_time": "2022-03-11T15:26:29.089Z"
   },
   {
    "duration": 27,
    "start_time": "2022-03-11T15:26:29.129Z"
   },
   {
    "duration": 23,
    "start_time": "2022-03-11T15:26:29.158Z"
   },
   {
    "duration": 11,
    "start_time": "2022-03-11T15:26:29.187Z"
   },
   {
    "duration": 22,
    "start_time": "2022-03-11T15:26:29.201Z"
   },
   {
    "duration": 35,
    "start_time": "2022-03-11T15:26:29.226Z"
   },
   {
    "duration": 50,
    "start_time": "2022-03-11T15:26:29.264Z"
   },
   {
    "duration": 661,
    "start_time": "2022-03-11T15:26:29.317Z"
   },
   {
    "duration": 76970,
    "start_time": "2022-03-11T15:26:29.981Z"
   },
   {
    "duration": 2674,
    "start_time": "2022-03-11T15:27:46.953Z"
   },
   {
    "duration": 24,
    "start_time": "2022-03-11T15:27:49.629Z"
   },
   {
    "duration": 543,
    "start_time": "2022-03-11T15:27:49.656Z"
   },
   {
    "duration": 77343,
    "start_time": "2022-03-11T15:27:50.202Z"
   },
   {
    "duration": 5,
    "start_time": "2022-03-11T15:29:07.552Z"
   },
   {
    "duration": 10,
    "start_time": "2022-03-11T15:29:07.559Z"
   },
   {
    "duration": 481,
    "start_time": "2022-03-11T15:29:07.572Z"
   },
   {
    "duration": -6326,
    "start_time": "2022-03-11T15:29:14.381Z"
   },
   {
    "duration": -6335,
    "start_time": "2022-03-11T15:29:14.391Z"
   },
   {
    "duration": -6348,
    "start_time": "2022-03-11T15:29:14.406Z"
   },
   {
    "duration": -6362,
    "start_time": "2022-03-11T15:29:14.421Z"
   },
   {
    "duration": -6377,
    "start_time": "2022-03-11T15:29:14.438Z"
   },
   {
    "duration": -6391,
    "start_time": "2022-03-11T15:29:14.453Z"
   },
   {
    "duration": -6404,
    "start_time": "2022-03-11T15:29:14.468Z"
   },
   {
    "duration": -6410,
    "start_time": "2022-03-11T15:29:14.475Z"
   },
   {
    "duration": -6424,
    "start_time": "2022-03-11T15:29:14.491Z"
   },
   {
    "duration": -6429,
    "start_time": "2022-03-11T15:29:14.497Z"
   },
   {
    "duration": -6433,
    "start_time": "2022-03-11T15:29:14.503Z"
   },
   {
    "duration": 10,
    "start_time": "2022-03-11T15:44:58.407Z"
   },
   {
    "duration": 657,
    "start_time": "2022-03-11T15:45:05.804Z"
   },
   {
    "duration": 12,
    "start_time": "2022-03-11T15:45:28.474Z"
   },
   {
    "duration": 675,
    "start_time": "2022-03-11T15:45:33.285Z"
   },
   {
    "duration": 76718,
    "start_time": "2022-03-11T15:45:56.624Z"
   },
   {
    "duration": 11,
    "start_time": "2022-03-11T15:51:33.645Z"
   },
   {
    "duration": 777,
    "start_time": "2022-03-11T15:51:37.984Z"
   },
   {
    "duration": 11,
    "start_time": "2022-03-11T15:52:40.975Z"
   },
   {
    "duration": 695,
    "start_time": "2022-03-11T15:52:55.704Z"
   },
   {
    "duration": 10,
    "start_time": "2022-03-11T15:58:09.516Z"
   },
   {
    "duration": 652,
    "start_time": "2022-03-11T15:58:10.004Z"
   },
   {
    "duration": 11,
    "start_time": "2022-03-11T15:59:29.308Z"
   },
   {
    "duration": 662,
    "start_time": "2022-03-11T15:59:29.724Z"
   },
   {
    "duration": 12,
    "start_time": "2022-03-11T16:03:51.924Z"
   },
   {
    "duration": 59387,
    "start_time": "2022-03-11T16:03:52.384Z"
   },
   {
    "duration": -6245,
    "start_time": "2022-03-11T16:04:58.020Z"
   },
   {
    "duration": 12,
    "start_time": "2022-03-11T16:04:53.976Z"
   },
   {
    "duration": 640,
    "start_time": "2022-03-11T16:04:54.344Z"
   },
   {
    "duration": 11,
    "start_time": "2022-03-11T16:05:53.488Z"
   },
   {
    "duration": 664,
    "start_time": "2022-03-11T16:05:54.045Z"
   },
   {
    "duration": 110,
    "start_time": "2022-03-11T16:17:41.175Z"
   },
   {
    "duration": 6,
    "start_time": "2022-03-11T16:17:48.576Z"
   },
   {
    "duration": 4,
    "start_time": "2022-03-11T16:17:50.658Z"
   },
   {
    "duration": 5,
    "start_time": "2022-03-11T16:20:08.724Z"
   },
   {
    "duration": 9,
    "start_time": "2022-03-11T16:21:10.022Z"
   },
   {
    "duration": 11367,
    "start_time": "2022-03-11T16:21:13.644Z"
   },
   {
    "duration": 9,
    "start_time": "2022-03-11T16:22:38.154Z"
   },
   {
    "duration": 5,
    "start_time": "2022-03-11T16:22:42.945Z"
   },
   {
    "duration": 5,
    "start_time": "2022-03-11T16:22:43.385Z"
   },
   {
    "duration": 9,
    "start_time": "2022-03-11T16:22:43.919Z"
   },
   {
    "duration": 2616,
    "start_time": "2022-03-11T16:22:45.445Z"
   },
   {
    "duration": 5,
    "start_time": "2022-03-11T16:27:00.714Z"
   },
   {
    "duration": 6,
    "start_time": "2022-03-11T16:27:01.100Z"
   },
   {
    "duration": 10,
    "start_time": "2022-03-11T16:27:01.567Z"
   },
   {
    "duration": 25131,
    "start_time": "2022-03-11T16:27:03.405Z"
   },
   {
    "duration": 6,
    "start_time": "2022-03-11T16:28:16.605Z"
   },
   {
    "duration": 5,
    "start_time": "2022-03-11T16:28:17.045Z"
   },
   {
    "duration": 11,
    "start_time": "2022-03-11T16:28:17.574Z"
   },
   {
    "duration": 979,
    "start_time": "2022-03-11T16:28:19.246Z"
   },
   {
    "duration": 5,
    "start_time": "2022-03-11T16:30:41.452Z"
   },
   {
    "duration": 5,
    "start_time": "2022-03-11T16:30:41.756Z"
   },
   {
    "duration": 8,
    "start_time": "2022-03-11T16:30:42.227Z"
   },
   {
    "duration": 3223,
    "start_time": "2022-03-11T16:30:43.652Z"
   },
   {
    "duration": 6,
    "start_time": "2022-03-11T16:31:41.847Z"
   },
   {
    "duration": 5,
    "start_time": "2022-03-11T16:31:44.067Z"
   },
   {
    "duration": 9,
    "start_time": "2022-03-11T16:31:44.652Z"
   },
   {
    "duration": 683,
    "start_time": "2022-03-11T16:31:45.845Z"
   },
   {
    "duration": 6,
    "start_time": "2022-03-11T16:32:50.596Z"
   },
   {
    "duration": 5,
    "start_time": "2022-03-11T16:32:51.056Z"
   },
   {
    "duration": 9,
    "start_time": "2022-03-11T16:32:51.618Z"
   },
   {
    "duration": 844,
    "start_time": "2022-03-11T16:32:53.207Z"
   },
   {
    "duration": 5,
    "start_time": "2022-03-11T16:34:04.249Z"
   },
   {
    "duration": 5,
    "start_time": "2022-03-11T16:34:04.887Z"
   },
   {
    "duration": 10,
    "start_time": "2022-03-11T16:34:05.547Z"
   },
   {
    "duration": 1172,
    "start_time": "2022-03-11T16:34:06.675Z"
   },
   {
    "duration": 6,
    "start_time": "2022-03-11T16:35:01.347Z"
   },
   {
    "duration": 5,
    "start_time": "2022-03-11T16:35:01.712Z"
   },
   {
    "duration": 9,
    "start_time": "2022-03-11T16:35:02.259Z"
   },
   {
    "duration": 1054,
    "start_time": "2022-03-11T16:35:02.947Z"
   },
   {
    "duration": 5,
    "start_time": "2022-03-11T16:36:08.155Z"
   },
   {
    "duration": 4,
    "start_time": "2022-03-11T16:36:08.563Z"
   },
   {
    "duration": 10,
    "start_time": "2022-03-11T16:36:09.074Z"
   },
   {
    "duration": 586,
    "start_time": "2022-03-11T16:36:09.786Z"
   },
   {
    "duration": 6,
    "start_time": "2022-03-11T16:36:44.505Z"
   },
   {
    "duration": 6,
    "start_time": "2022-03-11T16:36:44.953Z"
   },
   {
    "duration": 10,
    "start_time": "2022-03-11T16:36:45.428Z"
   },
   {
    "duration": 864,
    "start_time": "2022-03-11T16:36:46.566Z"
   },
   {
    "duration": 6,
    "start_time": "2022-03-11T16:38:22.786Z"
   },
   {
    "duration": 4,
    "start_time": "2022-03-11T16:38:23.047Z"
   },
   {
    "duration": 10,
    "start_time": "2022-03-11T16:38:23.508Z"
   },
   {
    "duration": 607,
    "start_time": "2022-03-11T16:38:24.205Z"
   },
   {
    "duration": 12,
    "start_time": "2022-03-11T16:41:02.449Z"
   },
   {
    "duration": 680,
    "start_time": "2022-03-11T16:41:02.658Z"
   },
   {
    "duration": 678,
    "start_time": "2022-03-11T16:43:52.206Z"
   },
   {
    "duration": 76881,
    "start_time": "2022-03-11T16:44:09.846Z"
   },
   {
    "duration": 2569,
    "start_time": "2022-03-11T16:45:26.730Z"
   },
   {
    "duration": 358,
    "start_time": "2022-03-11T16:46:36.826Z"
   },
   {
    "duration": 11,
    "start_time": "2022-03-11T16:51:14.416Z"
   },
   {
    "duration": 692,
    "start_time": "2022-03-11T16:51:14.685Z"
   },
   {
    "duration": 14,
    "start_time": "2022-03-11T17:00:01.373Z"
   },
   {
    "duration": 5,
    "start_time": "2022-03-11T17:01:51.821Z"
   },
   {
    "duration": 7277,
    "start_time": "2022-03-11T17:01:52.446Z"
   },
   {
    "duration": 1539,
    "start_time": "2022-03-11T17:02:14.073Z"
   },
   {
    "duration": 42,
    "start_time": "2022-03-11T17:02:15.615Z"
   },
   {
    "duration": 12,
    "start_time": "2022-03-11T17:02:15.660Z"
   },
   {
    "duration": 17,
    "start_time": "2022-03-11T17:02:15.675Z"
   },
   {
    "duration": 6,
    "start_time": "2022-03-11T17:02:15.694Z"
   },
   {
    "duration": 55,
    "start_time": "2022-03-11T17:02:15.703Z"
   },
   {
    "duration": 23,
    "start_time": "2022-03-11T17:02:15.760Z"
   },
   {
    "duration": 20,
    "start_time": "2022-03-11T17:02:15.786Z"
   },
   {
    "duration": 69,
    "start_time": "2022-03-11T17:02:15.852Z"
   },
   {
    "duration": 8,
    "start_time": "2022-03-11T17:02:15.953Z"
   },
   {
    "duration": 43,
    "start_time": "2022-03-11T17:02:15.964Z"
   },
   {
    "duration": 41,
    "start_time": "2022-03-11T17:02:16.010Z"
   },
   {
    "duration": 27,
    "start_time": "2022-03-11T17:02:16.054Z"
   },
   {
    "duration": 9,
    "start_time": "2022-03-11T17:02:16.083Z"
   },
   {
    "duration": 58,
    "start_time": "2022-03-11T17:02:16.094Z"
   },
   {
    "duration": 10,
    "start_time": "2022-03-11T17:02:16.155Z"
   },
   {
    "duration": 9,
    "start_time": "2022-03-11T17:02:16.167Z"
   },
   {
    "duration": 20,
    "start_time": "2022-03-11T17:02:16.179Z"
   },
   {
    "duration": 4,
    "start_time": "2022-03-11T17:02:16.202Z"
   },
   {
    "duration": 44,
    "start_time": "2022-03-11T17:02:16.208Z"
   },
   {
    "duration": 24,
    "start_time": "2022-03-11T17:02:16.254Z"
   },
   {
    "duration": 19,
    "start_time": "2022-03-11T17:02:16.280Z"
   },
   {
    "duration": 102,
    "start_time": "2022-03-11T17:02:16.301Z"
   },
   {
    "duration": 456,
    "start_time": "2022-03-11T17:02:16.406Z"
   },
   {
    "duration": -6492,
    "start_time": "2022-03-11T17:02:23.358Z"
   },
   {
    "duration": -6498,
    "start_time": "2022-03-11T17:02:23.365Z"
   },
   {
    "duration": -6504,
    "start_time": "2022-03-11T17:02:23.373Z"
   },
   {
    "duration": -6508,
    "start_time": "2022-03-11T17:02:23.379Z"
   },
   {
    "duration": -6514,
    "start_time": "2022-03-11T17:02:23.386Z"
   },
   {
    "duration": -6519,
    "start_time": "2022-03-11T17:02:23.393Z"
   },
   {
    "duration": -6523,
    "start_time": "2022-03-11T17:02:23.399Z"
   },
   {
    "duration": -6529,
    "start_time": "2022-03-11T17:02:23.406Z"
   },
   {
    "duration": -6533,
    "start_time": "2022-03-11T17:02:23.412Z"
   },
   {
    "duration": -6538,
    "start_time": "2022-03-11T17:02:23.419Z"
   },
   {
    "duration": -6544,
    "start_time": "2022-03-11T17:02:23.426Z"
   },
   {
    "duration": -6548,
    "start_time": "2022-03-11T17:02:23.432Z"
   },
   {
    "duration": -6554,
    "start_time": "2022-03-11T17:02:23.439Z"
   },
   {
    "duration": -6569,
    "start_time": "2022-03-11T17:02:23.456Z"
   },
   {
    "duration": -6575,
    "start_time": "2022-03-11T17:02:23.463Z"
   },
   {
    "duration": -6580,
    "start_time": "2022-03-11T17:02:23.470Z"
   },
   {
    "duration": -6585,
    "start_time": "2022-03-11T17:02:23.477Z"
   },
   {
    "duration": -6591,
    "start_time": "2022-03-11T17:02:23.484Z"
   },
   {
    "duration": -6597,
    "start_time": "2022-03-11T17:02:23.492Z"
   },
   {
    "duration": -6602,
    "start_time": "2022-03-11T17:02:23.498Z"
   },
   {
    "duration": -6607,
    "start_time": "2022-03-11T17:02:23.505Z"
   },
   {
    "duration": -6611,
    "start_time": "2022-03-11T17:02:23.511Z"
   },
   {
    "duration": -6616,
    "start_time": "2022-03-11T17:02:23.518Z"
   },
   {
    "duration": -6621,
    "start_time": "2022-03-11T17:02:23.524Z"
   },
   {
    "duration": -6628,
    "start_time": "2022-03-11T17:02:23.532Z"
   },
   {
    "duration": -6634,
    "start_time": "2022-03-11T17:02:23.539Z"
   },
   {
    "duration": -6595,
    "start_time": "2022-03-11T17:02:23.546Z"
   },
   {
    "duration": -6599,
    "start_time": "2022-03-11T17:02:23.552Z"
   },
   {
    "duration": -6616,
    "start_time": "2022-03-11T17:02:23.570Z"
   },
   {
    "duration": 4,
    "start_time": "2022-03-11T17:02:51.110Z"
   },
   {
    "duration": 7300,
    "start_time": "2022-03-11T17:02:51.911Z"
   },
   {
    "duration": 1513,
    "start_time": "2022-03-11T17:03:24.785Z"
   },
   {
    "duration": 38,
    "start_time": "2022-03-11T17:03:26.300Z"
   },
   {
    "duration": 19,
    "start_time": "2022-03-11T17:03:26.341Z"
   },
   {
    "duration": 17,
    "start_time": "2022-03-11T17:03:26.363Z"
   },
   {
    "duration": 5,
    "start_time": "2022-03-11T17:03:26.382Z"
   },
   {
    "duration": 10,
    "start_time": "2022-03-11T17:03:26.389Z"
   },
   {
    "duration": 71,
    "start_time": "2022-03-11T17:03:26.401Z"
   },
   {
    "duration": 20,
    "start_time": "2022-03-11T17:03:26.476Z"
   },
   {
    "duration": 111,
    "start_time": "2022-03-11T17:03:26.499Z"
   },
   {
    "duration": 6,
    "start_time": "2022-03-11T17:03:26.613Z"
   },
   {
    "duration": 66,
    "start_time": "2022-03-11T17:03:26.621Z"
   },
   {
    "duration": 7,
    "start_time": "2022-03-11T17:03:26.690Z"
   },
   {
    "duration": 52,
    "start_time": "2022-03-11T17:03:26.700Z"
   },
   {
    "duration": 9,
    "start_time": "2022-03-11T17:03:26.754Z"
   },
   {
    "duration": 13,
    "start_time": "2022-03-11T17:03:26.765Z"
   },
   {
    "duration": 8,
    "start_time": "2022-03-11T17:03:26.780Z"
   },
   {
    "duration": 4,
    "start_time": "2022-03-11T17:03:26.790Z"
   },
   {
    "duration": 70,
    "start_time": "2022-03-11T17:03:26.797Z"
   },
   {
    "duration": 4,
    "start_time": "2022-03-11T17:03:26.870Z"
   },
   {
    "duration": 9,
    "start_time": "2022-03-11T17:03:26.876Z"
   },
   {
    "duration": 14,
    "start_time": "2022-03-11T17:03:26.887Z"
   },
   {
    "duration": 64,
    "start_time": "2022-03-11T17:03:26.903Z"
   },
   {
    "duration": 99,
    "start_time": "2022-03-11T17:03:26.974Z"
   },
   {
    "duration": 418,
    "start_time": "2022-03-11T17:03:27.078Z"
   },
   {
    "duration": -6505,
    "start_time": "2022-03-11T17:03:34.005Z"
   },
   {
    "duration": -6509,
    "start_time": "2022-03-11T17:03:34.011Z"
   },
   {
    "duration": -6513,
    "start_time": "2022-03-11T17:03:34.017Z"
   },
   {
    "duration": -6517,
    "start_time": "2022-03-11T17:03:34.023Z"
   },
   {
    "duration": -6522,
    "start_time": "2022-03-11T17:03:34.030Z"
   },
   {
    "duration": -6526,
    "start_time": "2022-03-11T17:03:34.036Z"
   },
   {
    "duration": -6529,
    "start_time": "2022-03-11T17:03:34.042Z"
   },
   {
    "duration": -6535,
    "start_time": "2022-03-11T17:03:34.049Z"
   },
   {
    "duration": -6538,
    "start_time": "2022-03-11T17:03:34.054Z"
   },
   {
    "duration": -6558,
    "start_time": "2022-03-11T17:03:34.075Z"
   },
   {
    "duration": -6562,
    "start_time": "2022-03-11T17:03:34.081Z"
   },
   {
    "duration": -6568,
    "start_time": "2022-03-11T17:03:34.088Z"
   },
   {
    "duration": -6572,
    "start_time": "2022-03-11T17:03:34.093Z"
   },
   {
    "duration": -6577,
    "start_time": "2022-03-11T17:03:34.100Z"
   },
   {
    "duration": -6581,
    "start_time": "2022-03-11T17:03:34.106Z"
   },
   {
    "duration": -6586,
    "start_time": "2022-03-11T17:03:34.112Z"
   },
   {
    "duration": -6592,
    "start_time": "2022-03-11T17:03:34.119Z"
   },
   {
    "duration": -6596,
    "start_time": "2022-03-11T17:03:34.125Z"
   },
   {
    "duration": -6602,
    "start_time": "2022-03-11T17:03:34.132Z"
   },
   {
    "duration": -6608,
    "start_time": "2022-03-11T17:03:34.139Z"
   },
   {
    "duration": -6613,
    "start_time": "2022-03-11T17:03:34.146Z"
   },
   {
    "duration": -6619,
    "start_time": "2022-03-11T17:03:34.153Z"
   },
   {
    "duration": -6622,
    "start_time": "2022-03-11T17:03:34.158Z"
   },
   {
    "duration": -6628,
    "start_time": "2022-03-11T17:03:34.165Z"
   },
   {
    "duration": -6620,
    "start_time": "2022-03-11T17:03:34.171Z"
   },
   {
    "duration": -6636,
    "start_time": "2022-03-11T17:03:34.188Z"
   },
   {
    "duration": -6641,
    "start_time": "2022-03-11T17:03:34.194Z"
   },
   {
    "duration": -6646,
    "start_time": "2022-03-11T17:03:34.201Z"
   },
   {
    "duration": 4,
    "start_time": "2022-03-11T17:04:03.305Z"
   },
   {
    "duration": 26,
    "start_time": "2022-03-11T17:04:03.973Z"
   },
   {
    "duration": 14,
    "start_time": "2022-03-11T17:04:27.085Z"
   },
   {
    "duration": 4,
    "start_time": "2022-03-11T17:08:09.245Z"
   },
   {
    "duration": 25,
    "start_time": "2022-03-11T17:08:10.733Z"
   },
   {
    "duration": 4,
    "start_time": "2022-03-11T17:15:00.384Z"
   },
   {
    "duration": 42,
    "start_time": "2022-03-11T17:15:00.887Z"
   },
   {
    "duration": 26,
    "start_time": "2022-03-11T17:15:10.013Z"
   },
   {
    "duration": 1494,
    "start_time": "2022-03-11T17:18:36.776Z"
   },
   {
    "duration": 39,
    "start_time": "2022-03-11T17:18:38.273Z"
   },
   {
    "duration": 11,
    "start_time": "2022-03-11T17:18:38.315Z"
   },
   {
    "duration": 16,
    "start_time": "2022-03-11T17:18:38.351Z"
   },
   {
    "duration": 6,
    "start_time": "2022-03-11T17:18:38.370Z"
   },
   {
    "duration": 10,
    "start_time": "2022-03-11T17:18:38.379Z"
   },
   {
    "duration": 67,
    "start_time": "2022-03-11T17:18:38.391Z"
   },
   {
    "duration": 20,
    "start_time": "2022-03-11T17:18:38.461Z"
   },
   {
    "duration": 116,
    "start_time": "2022-03-11T17:18:38.487Z"
   },
   {
    "duration": 8,
    "start_time": "2022-03-11T17:18:38.608Z"
   },
   {
    "duration": 71,
    "start_time": "2022-03-11T17:18:38.619Z"
   },
   {
    "duration": 9,
    "start_time": "2022-03-11T17:18:38.694Z"
   },
   {
    "duration": 55,
    "start_time": "2022-03-11T17:18:38.705Z"
   },
   {
    "duration": 9,
    "start_time": "2022-03-11T17:18:38.762Z"
   },
   {
    "duration": 14,
    "start_time": "2022-03-11T17:18:38.774Z"
   },
   {
    "duration": 8,
    "start_time": "2022-03-11T17:18:38.790Z"
   },
   {
    "duration": 53,
    "start_time": "2022-03-11T17:18:38.800Z"
   },
   {
    "duration": 16,
    "start_time": "2022-03-11T17:18:38.856Z"
   },
   {
    "duration": 3,
    "start_time": "2022-03-11T17:18:38.875Z"
   },
   {
    "duration": 6,
    "start_time": "2022-03-11T17:18:38.881Z"
   },
   {
    "duration": 61,
    "start_time": "2022-03-11T17:18:38.891Z"
   },
   {
    "duration": 19,
    "start_time": "2022-03-11T17:18:38.955Z"
   },
   {
    "duration": 7,
    "start_time": "2022-03-11T17:18:38.976Z"
   },
   {
    "duration": 77,
    "start_time": "2022-03-11T17:18:38.985Z"
   },
   {
    "duration": 26,
    "start_time": "2022-03-11T17:18:39.064Z"
   },
   {
    "duration": 404,
    "start_time": "2022-03-11T17:18:39.092Z"
   },
   {
    "duration": -6462,
    "start_time": "2022-03-11T17:18:45.962Z"
   },
   {
    "duration": -6468,
    "start_time": "2022-03-11T17:18:45.969Z"
   },
   {
    "duration": -6484,
    "start_time": "2022-03-11T17:18:45.987Z"
   },
   {
    "duration": -6491,
    "start_time": "2022-03-11T17:18:45.995Z"
   },
   {
    "duration": -6496,
    "start_time": "2022-03-11T17:18:46.001Z"
   },
   {
    "duration": -6501,
    "start_time": "2022-03-11T17:18:46.008Z"
   },
   {
    "duration": -6507,
    "start_time": "2022-03-11T17:18:46.015Z"
   },
   {
    "duration": -6510,
    "start_time": "2022-03-11T17:18:46.020Z"
   },
   {
    "duration": -6516,
    "start_time": "2022-03-11T17:18:46.027Z"
   },
   {
    "duration": -6521,
    "start_time": "2022-03-11T17:18:46.033Z"
   },
   {
    "duration": -6526,
    "start_time": "2022-03-11T17:18:46.040Z"
   },
   {
    "duration": -6532,
    "start_time": "2022-03-11T17:18:46.047Z"
   },
   {
    "duration": -6537,
    "start_time": "2022-03-11T17:18:46.053Z"
   },
   {
    "duration": -6541,
    "start_time": "2022-03-11T17:18:46.059Z"
   },
   {
    "duration": -6547,
    "start_time": "2022-03-11T17:18:46.066Z"
   },
   {
    "duration": -6552,
    "start_time": "2022-03-11T17:18:46.072Z"
   },
   {
    "duration": -6557,
    "start_time": "2022-03-11T17:18:46.079Z"
   },
   {
    "duration": -6562,
    "start_time": "2022-03-11T17:18:46.085Z"
   },
   {
    "duration": -6577,
    "start_time": "2022-03-11T17:18:46.102Z"
   },
   {
    "duration": -6584,
    "start_time": "2022-03-11T17:18:46.110Z"
   },
   {
    "duration": -6589,
    "start_time": "2022-03-11T17:18:46.116Z"
   },
   {
    "duration": -6594,
    "start_time": "2022-03-11T17:18:46.123Z"
   },
   {
    "duration": -6600,
    "start_time": "2022-03-11T17:18:46.130Z"
   },
   {
    "duration": -6604,
    "start_time": "2022-03-11T17:18:46.135Z"
   },
   {
    "duration": -6610,
    "start_time": "2022-03-11T17:18:46.142Z"
   },
   {
    "duration": -6614,
    "start_time": "2022-03-11T17:18:46.148Z"
   },
   {
    "duration": 4,
    "start_time": "2022-03-11T17:22:28.188Z"
   },
   {
    "duration": 37,
    "start_time": "2022-03-11T17:22:28.636Z"
   },
   {
    "duration": 27,
    "start_time": "2022-03-11T17:22:31.295Z"
   },
   {
    "duration": 35,
    "start_time": "2022-03-11T17:22:36.376Z"
   },
   {
    "duration": 28,
    "start_time": "2022-03-11T17:22:38.696Z"
   },
   {
    "duration": 36,
    "start_time": "2022-03-11T17:22:45.036Z"
   },
   {
    "duration": 26,
    "start_time": "2022-03-11T17:22:46.804Z"
   },
   {
    "duration": 339,
    "start_time": "2022-03-11T17:23:58.749Z"
   },
   {
    "duration": 1539,
    "start_time": "2022-03-11T17:24:07.012Z"
   },
   {
    "duration": 41,
    "start_time": "2022-03-11T17:24:08.554Z"
   },
   {
    "duration": 11,
    "start_time": "2022-03-11T17:24:08.601Z"
   },
   {
    "duration": 43,
    "start_time": "2022-03-11T17:24:08.615Z"
   },
   {
    "duration": 5,
    "start_time": "2022-03-11T17:24:08.660Z"
   },
   {
    "duration": 11,
    "start_time": "2022-03-11T17:24:08.668Z"
   },
   {
    "duration": 22,
    "start_time": "2022-03-11T17:24:08.681Z"
   },
   {
    "duration": 62,
    "start_time": "2022-03-11T17:24:08.707Z"
   },
   {
    "duration": 113,
    "start_time": "2022-03-11T17:24:08.772Z"
   },
   {
    "duration": 7,
    "start_time": "2022-03-11T17:24:08.887Z"
   },
   {
    "duration": 69,
    "start_time": "2022-03-11T17:24:08.896Z"
   },
   {
    "duration": 8,
    "start_time": "2022-03-11T17:24:08.968Z"
   },
   {
    "duration": 19,
    "start_time": "2022-03-11T17:24:08.978Z"
   },
   {
    "duration": 8,
    "start_time": "2022-03-11T17:24:08.999Z"
   },
   {
    "duration": 16,
    "start_time": "2022-03-11T17:24:09.052Z"
   },
   {
    "duration": 9,
    "start_time": "2022-03-11T17:24:09.071Z"
   },
   {
    "duration": 4,
    "start_time": "2022-03-11T17:24:09.083Z"
   },
   {
    "duration": 15,
    "start_time": "2022-03-11T17:24:09.090Z"
   },
   {
    "duration": 4,
    "start_time": "2022-03-11T17:24:09.153Z"
   },
   {
    "duration": 9,
    "start_time": "2022-03-11T17:24:09.160Z"
   },
   {
    "duration": 17,
    "start_time": "2022-03-11T17:24:09.173Z"
   },
   {
    "duration": 77,
    "start_time": "2022-03-11T17:24:09.193Z"
   },
   {
    "duration": 4,
    "start_time": "2022-03-11T17:24:09.273Z"
   },
   {
    "duration": 83,
    "start_time": "2022-03-11T17:24:09.281Z"
   },
   {
    "duration": 518,
    "start_time": "2022-03-11T17:24:09.367Z"
   },
   {
    "duration": -6522,
    "start_time": "2022-03-11T17:24:16.412Z"
   },
   {
    "duration": -6527,
    "start_time": "2022-03-11T17:24:16.419Z"
   },
   {
    "duration": -6531,
    "start_time": "2022-03-11T17:24:16.426Z"
   },
   {
    "duration": -6535,
    "start_time": "2022-03-11T17:24:16.432Z"
   },
   {
    "duration": -6539,
    "start_time": "2022-03-11T17:24:16.438Z"
   },
   {
    "duration": -6542,
    "start_time": "2022-03-11T17:24:16.444Z"
   },
   {
    "duration": -6547,
    "start_time": "2022-03-11T17:24:16.451Z"
   },
   {
    "duration": -6564,
    "start_time": "2022-03-11T17:24:16.470Z"
   },
   {
    "duration": -6568,
    "start_time": "2022-03-11T17:24:16.476Z"
   },
   {
    "duration": -6572,
    "start_time": "2022-03-11T17:24:16.483Z"
   },
   {
    "duration": -6577,
    "start_time": "2022-03-11T17:24:16.490Z"
   },
   {
    "duration": -6581,
    "start_time": "2022-03-11T17:24:16.496Z"
   },
   {
    "duration": -6586,
    "start_time": "2022-03-11T17:24:16.503Z"
   },
   {
    "duration": -6597,
    "start_time": "2022-03-11T17:24:16.516Z"
   },
   {
    "duration": -6600,
    "start_time": "2022-03-11T17:24:16.522Z"
   },
   {
    "duration": -6604,
    "start_time": "2022-03-11T17:24:16.528Z"
   },
   {
    "duration": -6608,
    "start_time": "2022-03-11T17:24:16.534Z"
   },
   {
    "duration": -6613,
    "start_time": "2022-03-11T17:24:16.540Z"
   },
   {
    "duration": -6618,
    "start_time": "2022-03-11T17:24:16.546Z"
   },
   {
    "duration": -6623,
    "start_time": "2022-03-11T17:24:16.552Z"
   },
   {
    "duration": -6607,
    "start_time": "2022-03-11T17:24:16.559Z"
   },
   {
    "duration": -6611,
    "start_time": "2022-03-11T17:24:16.565Z"
   },
   {
    "duration": -6627,
    "start_time": "2022-03-11T17:24:16.583Z"
   },
   {
    "duration": -6631,
    "start_time": "2022-03-11T17:24:16.589Z"
   },
   {
    "duration": -6636,
    "start_time": "2022-03-11T17:24:16.595Z"
   },
   {
    "duration": -6640,
    "start_time": "2022-03-11T17:24:16.601Z"
   },
   {
    "duration": -6645,
    "start_time": "2022-03-11T17:24:16.608Z"
   },
   {
    "duration": 26,
    "start_time": "2022-03-11T17:24:58.252Z"
   },
   {
    "duration": 25,
    "start_time": "2022-03-11T17:25:03.171Z"
   },
   {
    "duration": 303,
    "start_time": "2022-03-11T17:26:04.373Z"
   },
   {
    "duration": 15,
    "start_time": "2022-03-11T17:26:13.432Z"
   },
   {
    "duration": 17,
    "start_time": "2022-03-11T17:26:15.152Z"
   },
   {
    "duration": 15,
    "start_time": "2022-03-11T17:26:16.560Z"
   },
   {
    "duration": 5,
    "start_time": "2022-03-11T17:30:44.052Z"
   },
   {
    "duration": 6,
    "start_time": "2022-03-11T17:32:07.999Z"
   },
   {
    "duration": 6,
    "start_time": "2022-03-11T17:32:08.302Z"
   },
   {
    "duration": 11,
    "start_time": "2022-03-11T17:32:12.360Z"
   },
   {
    "duration": 5,
    "start_time": "2022-03-11T17:32:13.641Z"
   },
   {
    "duration": 11,
    "start_time": "2022-03-11T17:32:14.274Z"
   },
   {
    "duration": 10,
    "start_time": "2022-03-11T17:32:41.624Z"
   },
   {
    "duration": 699,
    "start_time": "2022-03-11T17:32:45.052Z"
   },
   {
    "duration": 7,
    "start_time": "2022-03-11T17:33:54.712Z"
   },
   {
    "duration": 777,
    "start_time": "2022-03-11T17:33:56.211Z"
   },
   {
    "duration": 1631,
    "start_time": "2022-03-11T17:34:06.752Z"
   },
   {
    "duration": 44,
    "start_time": "2022-03-11T17:34:08.385Z"
   },
   {
    "duration": 23,
    "start_time": "2022-03-11T17:34:08.432Z"
   },
   {
    "duration": 18,
    "start_time": "2022-03-11T17:34:08.458Z"
   },
   {
    "duration": 5,
    "start_time": "2022-03-11T17:34:08.478Z"
   },
   {
    "duration": 10,
    "start_time": "2022-03-11T17:34:08.485Z"
   },
   {
    "duration": 73,
    "start_time": "2022-03-11T17:34:08.498Z"
   },
   {
    "duration": 19,
    "start_time": "2022-03-11T17:34:08.575Z"
   },
   {
    "duration": 114,
    "start_time": "2022-03-11T17:34:08.597Z"
   },
   {
    "duration": 7,
    "start_time": "2022-03-11T17:34:08.713Z"
   },
   {
    "duration": 64,
    "start_time": "2022-03-11T17:34:08.722Z"
   },
   {
    "duration": 8,
    "start_time": "2022-03-11T17:34:08.789Z"
   },
   {
    "duration": 57,
    "start_time": "2022-03-11T17:34:08.799Z"
   },
   {
    "duration": 10,
    "start_time": "2022-03-11T17:34:08.858Z"
   },
   {
    "duration": 14,
    "start_time": "2022-03-11T17:34:08.870Z"
   },
   {
    "duration": 8,
    "start_time": "2022-03-11T17:34:08.886Z"
   },
   {
    "duration": 57,
    "start_time": "2022-03-11T17:34:08.896Z"
   },
   {
    "duration": 18,
    "start_time": "2022-03-11T17:34:08.955Z"
   },
   {
    "duration": 4,
    "start_time": "2022-03-11T17:34:08.975Z"
   },
   {
    "duration": 7,
    "start_time": "2022-03-11T17:34:08.981Z"
   },
   {
    "duration": 15,
    "start_time": "2022-03-11T17:34:08.991Z"
   },
   {
    "duration": 60,
    "start_time": "2022-03-11T17:34:09.009Z"
   },
   {
    "duration": 8,
    "start_time": "2022-03-11T17:34:09.074Z"
   },
   {
    "duration": 71,
    "start_time": "2022-03-11T17:34:09.085Z"
   },
   {
    "duration": 4,
    "start_time": "2022-03-11T17:34:09.158Z"
   },
   {
    "duration": 17,
    "start_time": "2022-03-11T17:34:09.164Z"
   },
   {
    "duration": 6,
    "start_time": "2022-03-11T17:34:09.183Z"
   },
   {
    "duration": 8,
    "start_time": "2022-03-11T17:34:09.191Z"
   },
   {
    "duration": 60,
    "start_time": "2022-03-11T17:34:09.201Z"
   },
   {
    "duration": 6,
    "start_time": "2022-03-11T17:34:09.264Z"
   },
   {
    "duration": 13,
    "start_time": "2022-03-11T17:34:09.274Z"
   },
   {
    "duration": 63,
    "start_time": "2022-03-11T17:34:09.290Z"
   },
   {
    "duration": 738,
    "start_time": "2022-03-11T17:34:09.356Z"
   },
   {
    "duration": 61864,
    "start_time": "2022-03-11T17:34:10.097Z"
   },
   {
    "duration": 434,
    "start_time": "2022-03-11T17:35:11.963Z"
   },
   {
    "duration": -6020,
    "start_time": "2022-03-11T17:35:18.420Z"
   },
   {
    "duration": -6025,
    "start_time": "2022-03-11T17:35:18.427Z"
   },
   {
    "duration": -6030,
    "start_time": "2022-03-11T17:35:18.433Z"
   },
   {
    "duration": -6165,
    "start_time": "2022-03-11T17:35:18.570Z"
   },
   {
    "duration": -6236,
    "start_time": "2022-03-11T17:35:18.642Z"
   },
   {
    "duration": -6241,
    "start_time": "2022-03-11T17:35:18.649Z"
   },
   {
    "duration": -6247,
    "start_time": "2022-03-11T17:35:18.656Z"
   },
   {
    "duration": -6251,
    "start_time": "2022-03-11T17:35:18.662Z"
   },
   {
    "duration": -6256,
    "start_time": "2022-03-11T17:35:18.669Z"
   },
   {
    "duration": -6261,
    "start_time": "2022-03-11T17:35:18.675Z"
   },
   {
    "duration": -6266,
    "start_time": "2022-03-11T17:35:18.682Z"
   },
   {
    "duration": -6272,
    "start_time": "2022-03-11T17:35:18.689Z"
   },
   {
    "duration": -6276,
    "start_time": "2022-03-11T17:35:18.695Z"
   },
   {
    "duration": -6283,
    "start_time": "2022-03-11T17:35:18.703Z"
   },
   {
    "duration": -6287,
    "start_time": "2022-03-11T17:35:18.709Z"
   },
   {
    "duration": -6291,
    "start_time": "2022-03-11T17:35:18.715Z"
   },
   {
    "duration": -6297,
    "start_time": "2022-03-11T17:35:18.722Z"
   },
   {
    "duration": 8,
    "start_time": "2022-03-11T17:37:03.532Z"
   },
   {
    "duration": 11,
    "start_time": "2022-03-11T17:37:04.132Z"
   },
   {
    "duration": 11,
    "start_time": "2022-03-11T17:37:12.132Z"
   },
   {
    "duration": 5,
    "start_time": "2022-03-11T17:37:13.780Z"
   },
   {
    "duration": 12,
    "start_time": "2022-03-11T17:37:14.291Z"
   },
   {
    "duration": 11,
    "start_time": "2022-03-11T17:37:17.852Z"
   },
   {
    "duration": 695,
    "start_time": "2022-03-11T17:37:23.732Z"
   },
   {
    "duration": 1565,
    "start_time": "2022-03-11T17:37:57.429Z"
   },
   {
    "duration": 37,
    "start_time": "2022-03-11T17:37:58.997Z"
   },
   {
    "duration": 21,
    "start_time": "2022-03-11T17:37:59.037Z"
   },
   {
    "duration": 17,
    "start_time": "2022-03-11T17:37:59.060Z"
   },
   {
    "duration": 5,
    "start_time": "2022-03-11T17:37:59.079Z"
   },
   {
    "duration": 10,
    "start_time": "2022-03-11T17:37:59.087Z"
   },
   {
    "duration": 22,
    "start_time": "2022-03-11T17:37:59.151Z"
   },
   {
    "duration": 20,
    "start_time": "2022-03-11T17:37:59.176Z"
   },
   {
    "duration": 107,
    "start_time": "2022-03-11T17:37:59.201Z"
   },
   {
    "duration": 7,
    "start_time": "2022-03-11T17:37:59.311Z"
   },
   {
    "duration": 81,
    "start_time": "2022-03-11T17:37:59.321Z"
   },
   {
    "duration": 10,
    "start_time": "2022-03-11T17:37:59.405Z"
   },
   {
    "duration": 47,
    "start_time": "2022-03-11T17:37:59.418Z"
   },
   {
    "duration": 8,
    "start_time": "2022-03-11T17:37:59.468Z"
   },
   {
    "duration": 13,
    "start_time": "2022-03-11T17:37:59.479Z"
   },
   {
    "duration": 9,
    "start_time": "2022-03-11T17:37:59.494Z"
   },
   {
    "duration": 4,
    "start_time": "2022-03-11T17:37:59.552Z"
   },
   {
    "duration": 17,
    "start_time": "2022-03-11T17:37:59.559Z"
   },
   {
    "duration": 4,
    "start_time": "2022-03-11T17:37:59.579Z"
   },
   {
    "duration": 6,
    "start_time": "2022-03-11T17:37:59.586Z"
   },
   {
    "duration": 60,
    "start_time": "2022-03-11T17:37:59.595Z"
   },
   {
    "duration": 20,
    "start_time": "2022-03-11T17:37:59.658Z"
   },
   {
    "duration": 4,
    "start_time": "2022-03-11T17:37:59.680Z"
   },
   {
    "duration": 82,
    "start_time": "2022-03-11T17:37:59.686Z"
   },
   {
    "duration": 3,
    "start_time": "2022-03-11T17:37:59.771Z"
   },
   {
    "duration": 21,
    "start_time": "2022-03-11T17:37:59.777Z"
   },
   {
    "duration": 6,
    "start_time": "2022-03-11T17:37:59.803Z"
   },
   {
    "duration": 43,
    "start_time": "2022-03-11T17:37:59.812Z"
   },
   {
    "duration": 14,
    "start_time": "2022-03-11T17:37:59.857Z"
   },
   {
    "duration": 4,
    "start_time": "2022-03-11T17:37:59.874Z"
   },
   {
    "duration": 11,
    "start_time": "2022-03-11T17:37:59.880Z"
   },
   {
    "duration": 58,
    "start_time": "2022-03-11T17:37:59.894Z"
   },
   {
    "duration": 748,
    "start_time": "2022-03-11T17:37:59.955Z"
   },
   {
    "duration": 27198,
    "start_time": "2022-03-11T17:38:00.705Z"
   },
   {
    "duration": 438,
    "start_time": "2022-03-11T17:38:27.905Z"
   },
   {
    "duration": -6041,
    "start_time": "2022-03-11T17:38:34.386Z"
   },
   {
    "duration": -6048,
    "start_time": "2022-03-11T17:38:34.395Z"
   },
   {
    "duration": -6100,
    "start_time": "2022-03-11T17:38:34.448Z"
   },
   {
    "duration": -6134,
    "start_time": "2022-03-11T17:38:34.484Z"
   },
   {
    "duration": -6140,
    "start_time": "2022-03-11T17:38:34.491Z"
   },
   {
    "duration": -6145,
    "start_time": "2022-03-11T17:38:34.497Z"
   },
   {
    "duration": -6151,
    "start_time": "2022-03-11T17:38:34.505Z"
   },
   {
    "duration": -6156,
    "start_time": "2022-03-11T17:38:34.511Z"
   },
   {
    "duration": -6161,
    "start_time": "2022-03-11T17:38:34.518Z"
   },
   {
    "duration": -6165,
    "start_time": "2022-03-11T17:38:34.523Z"
   },
   {
    "duration": -6170,
    "start_time": "2022-03-11T17:38:34.530Z"
   },
   {
    "duration": -6175,
    "start_time": "2022-03-11T17:38:34.536Z"
   },
   {
    "duration": -6180,
    "start_time": "2022-03-11T17:38:34.542Z"
   },
   {
    "duration": -6185,
    "start_time": "2022-03-11T17:38:34.549Z"
   },
   {
    "duration": -6189,
    "start_time": "2022-03-11T17:38:34.555Z"
   },
   {
    "duration": -6215,
    "start_time": "2022-03-11T17:38:34.583Z"
   },
   {
    "duration": -6220,
    "start_time": "2022-03-11T17:38:34.590Z"
   },
   {
    "duration": 2420,
    "start_time": "2022-03-11T17:39:08.309Z"
   },
   {
    "duration": 80,
    "start_time": "2022-03-11T17:42:33.650Z"
   },
   {
    "duration": 7,
    "start_time": "2022-03-11T17:42:35.749Z"
   },
   {
    "duration": 701,
    "start_time": "2022-03-11T17:42:37.909Z"
   },
   {
    "duration": 11,
    "start_time": "2022-03-11T17:43:32.270Z"
   },
   {
    "duration": 308,
    "start_time": "2022-03-11T17:43:36.536Z"
   },
   {
    "duration": 10,
    "start_time": "2022-03-11T17:43:58.890Z"
   },
   {
    "duration": 768,
    "start_time": "2022-03-11T17:44:06.568Z"
   },
   {
    "duration": 7,
    "start_time": "2022-03-11T17:44:56.769Z"
   },
   {
    "duration": 447,
    "start_time": "2022-03-11T17:44:57.229Z"
   },
   {
    "duration": 7,
    "start_time": "2022-03-11T17:46:50.528Z"
   },
   {
    "duration": 449,
    "start_time": "2022-03-11T17:46:51.029Z"
   },
   {
    "duration": 26886,
    "start_time": "2022-03-11T17:57:38.888Z"
   },
   {
    "duration": 10,
    "start_time": "2022-03-11T18:03:52.849Z"
   },
   {
    "duration": 270,
    "start_time": "2022-03-11T18:03:57.190Z"
   },
   {
    "duration": 6,
    "start_time": "2022-03-11T18:04:17.311Z"
   },
   {
    "duration": 380,
    "start_time": "2022-03-11T18:05:04.748Z"
   },
   {
    "duration": 7,
    "start_time": "2022-03-11T18:06:13.857Z"
   },
   {
    "duration": 316,
    "start_time": "2022-03-11T18:06:37.842Z"
   },
   {
    "duration": 7,
    "start_time": "2022-03-11T18:07:14.408Z"
   },
   {
    "duration": 1617,
    "start_time": "2022-03-11T18:08:36.449Z"
   },
   {
    "duration": 38,
    "start_time": "2022-03-11T18:08:38.069Z"
   },
   {
    "duration": 13,
    "start_time": "2022-03-11T18:08:38.111Z"
   },
   {
    "duration": 16,
    "start_time": "2022-03-11T18:08:38.153Z"
   },
   {
    "duration": 5,
    "start_time": "2022-03-11T18:08:38.172Z"
   },
   {
    "duration": 14,
    "start_time": "2022-03-11T18:08:38.180Z"
   },
   {
    "duration": 76,
    "start_time": "2022-03-11T18:08:38.197Z"
   },
   {
    "duration": 24,
    "start_time": "2022-03-11T18:08:38.276Z"
   },
   {
    "duration": 105,
    "start_time": "2022-03-11T18:08:38.304Z"
   },
   {
    "duration": 9,
    "start_time": "2022-03-11T18:08:38.413Z"
   },
   {
    "duration": 44,
    "start_time": "2022-03-11T18:08:38.452Z"
   },
   {
    "duration": 8,
    "start_time": "2022-03-11T18:08:38.498Z"
   },
   {
    "duration": 61,
    "start_time": "2022-03-11T18:08:38.509Z"
   },
   {
    "duration": 12,
    "start_time": "2022-03-11T18:08:38.573Z"
   },
   {
    "duration": 18,
    "start_time": "2022-03-11T18:08:38.588Z"
   },
   {
    "duration": 52,
    "start_time": "2022-03-11T18:08:38.608Z"
   },
   {
    "duration": 4,
    "start_time": "2022-03-11T18:08:38.664Z"
   },
   {
    "duration": 20,
    "start_time": "2022-03-11T18:08:38.671Z"
   },
   {
    "duration": 4,
    "start_time": "2022-03-11T18:08:38.693Z"
   },
   {
    "duration": 57,
    "start_time": "2022-03-11T18:08:38.700Z"
   },
   {
    "duration": 16,
    "start_time": "2022-03-11T18:08:38.760Z"
   },
   {
    "duration": 21,
    "start_time": "2022-03-11T18:08:38.778Z"
   },
   {
    "duration": 4,
    "start_time": "2022-03-11T18:08:38.801Z"
   },
   {
    "duration": 38,
    "start_time": "2022-03-11T18:08:38.852Z"
   },
   {
    "duration": 3,
    "start_time": "2022-03-11T18:08:38.893Z"
   },
   {
    "duration": 57,
    "start_time": "2022-03-11T18:08:38.899Z"
   },
   {
    "duration": 7,
    "start_time": "2022-03-11T18:08:38.961Z"
   },
   {
    "duration": 19,
    "start_time": "2022-03-11T18:08:38.971Z"
   },
   {
    "duration": 13,
    "start_time": "2022-03-11T18:08:38.993Z"
   },
   {
    "duration": 51,
    "start_time": "2022-03-11T18:08:39.009Z"
   },
   {
    "duration": 464,
    "start_time": "2022-03-11T18:08:39.063Z"
   },
   {
    "duration": -7645,
    "start_time": "2022-03-11T18:08:47.174Z"
   },
   {
    "duration": -7664,
    "start_time": "2022-03-11T18:08:47.196Z"
   },
   {
    "duration": -7689,
    "start_time": "2022-03-11T18:08:47.222Z"
   },
   {
    "duration": -7711,
    "start_time": "2022-03-11T18:08:47.246Z"
   },
   {
    "duration": -7734,
    "start_time": "2022-03-11T18:08:47.270Z"
   },
   {
    "duration": -7755,
    "start_time": "2022-03-11T18:08:47.293Z"
   },
   {
    "duration": -7782,
    "start_time": "2022-03-11T18:08:47.322Z"
   },
   {
    "duration": -7804,
    "start_time": "2022-03-11T18:08:47.345Z"
   },
   {
    "duration": -7825,
    "start_time": "2022-03-11T18:08:47.368Z"
   },
   {
    "duration": -7848,
    "start_time": "2022-03-11T18:08:47.392Z"
   },
   {
    "duration": -7871,
    "start_time": "2022-03-11T18:08:47.417Z"
   },
   {
    "duration": -7894,
    "start_time": "2022-03-11T18:08:47.441Z"
   },
   {
    "duration": -7917,
    "start_time": "2022-03-11T18:08:47.466Z"
   },
   {
    "duration": -7943,
    "start_time": "2022-03-11T18:08:47.493Z"
   },
   {
    "duration": -7966,
    "start_time": "2022-03-11T18:08:47.517Z"
   },
   {
    "duration": -7989,
    "start_time": "2022-03-11T18:08:47.542Z"
   },
   {
    "duration": -8010,
    "start_time": "2022-03-11T18:08:47.564Z"
   },
   {
    "duration": -8031,
    "start_time": "2022-03-11T18:08:47.587Z"
   },
   {
    "duration": -8053,
    "start_time": "2022-03-11T18:08:47.610Z"
   },
   {
    "duration": -8058,
    "start_time": "2022-03-11T18:08:47.616Z"
   },
   {
    "duration": -8064,
    "start_time": "2022-03-11T18:08:47.624Z"
   },
   {
    "duration": 11,
    "start_time": "2022-03-11T18:09:17.068Z"
   },
   {
    "duration": 7,
    "start_time": "2022-03-11T18:09:17.879Z"
   },
   {
    "duration": 4,
    "start_time": "2022-03-11T18:09:53.428Z"
   },
   {
    "duration": 23,
    "start_time": "2022-03-11T18:09:59.248Z"
   },
   {
    "duration": 1541,
    "start_time": "2022-03-11T18:11:34.472Z"
   },
   {
    "duration": 49,
    "start_time": "2022-03-11T18:11:36.017Z"
   },
   {
    "duration": 16,
    "start_time": "2022-03-11T18:11:36.070Z"
   },
   {
    "duration": 19,
    "start_time": "2022-03-11T18:11:36.090Z"
   },
   {
    "duration": 7,
    "start_time": "2022-03-11T18:11:36.153Z"
   },
   {
    "duration": 17,
    "start_time": "2022-03-11T18:11:36.163Z"
   },
   {
    "duration": 70,
    "start_time": "2022-03-11T18:11:36.183Z"
   },
   {
    "duration": 20,
    "start_time": "2022-03-11T18:11:36.258Z"
   },
   {
    "duration": 109,
    "start_time": "2022-03-11T18:11:36.281Z"
   },
   {
    "duration": 8,
    "start_time": "2022-03-11T18:11:36.393Z"
   },
   {
    "duration": 86,
    "start_time": "2022-03-11T18:11:36.404Z"
   },
   {
    "duration": 11,
    "start_time": "2022-03-11T18:11:36.493Z"
   },
   {
    "duration": 54,
    "start_time": "2022-03-11T18:11:36.507Z"
   },
   {
    "duration": 12,
    "start_time": "2022-03-11T18:11:36.564Z"
   },
   {
    "duration": 19,
    "start_time": "2022-03-11T18:11:36.579Z"
   },
   {
    "duration": 53,
    "start_time": "2022-03-11T18:11:36.601Z"
   },
   {
    "duration": 4,
    "start_time": "2022-03-11T18:11:36.657Z"
   },
   {
    "duration": 21,
    "start_time": "2022-03-11T18:11:36.663Z"
   },
   {
    "duration": 4,
    "start_time": "2022-03-11T18:11:36.687Z"
   },
   {
    "duration": 11,
    "start_time": "2022-03-11T18:11:36.693Z"
   },
   {
    "duration": 52,
    "start_time": "2022-03-11T18:11:36.706Z"
   },
   {
    "duration": 38,
    "start_time": "2022-03-11T18:11:36.761Z"
   },
   {
    "duration": 5,
    "start_time": "2022-03-11T18:11:36.806Z"
   },
   {
    "duration": 46,
    "start_time": "2022-03-11T18:11:36.851Z"
   },
   {
    "duration": 4,
    "start_time": "2022-03-11T18:11:36.900Z"
   },
   {
    "duration": 53,
    "start_time": "2022-03-11T18:11:36.907Z"
   },
   {
    "duration": 6,
    "start_time": "2022-03-11T18:11:36.962Z"
   },
   {
    "duration": 6,
    "start_time": "2022-03-11T18:11:36.970Z"
   },
   {
    "duration": 14,
    "start_time": "2022-03-11T18:11:36.979Z"
   },
   {
    "duration": 5,
    "start_time": "2022-03-11T18:11:36.995Z"
   },
   {
    "duration": 11,
    "start_time": "2022-03-11T18:11:37.052Z"
   },
   {
    "duration": 14,
    "start_time": "2022-03-11T18:11:37.066Z"
   },
   {
    "duration": 5,
    "start_time": "2022-03-11T18:11:37.083Z"
   },
   {
    "duration": 831,
    "start_time": "2022-03-11T18:11:37.092Z"
   },
   {
    "duration": 27634,
    "start_time": "2022-03-11T18:11:37.926Z"
   },
   {
    "duration": 2545,
    "start_time": "2022-03-11T18:12:05.562Z"
   },
   {
    "duration": 7,
    "start_time": "2022-03-11T18:12:08.110Z"
   },
   {
    "duration": 13,
    "start_time": "2022-03-11T18:12:08.119Z"
   },
   {
    "duration": 9,
    "start_time": "2022-03-11T18:12:08.152Z"
   },
   {
    "duration": 526,
    "start_time": "2022-03-11T18:12:08.163Z"
   },
   {
    "duration": -6099,
    "start_time": "2022-03-11T18:12:14.791Z"
   },
   {
    "duration": -6106,
    "start_time": "2022-03-11T18:12:14.801Z"
   },
   {
    "duration": -6111,
    "start_time": "2022-03-11T18:12:14.808Z"
   },
   {
    "duration": -6115,
    "start_time": "2022-03-11T18:12:14.814Z"
   },
   {
    "duration": -6120,
    "start_time": "2022-03-11T18:12:14.821Z"
   },
   {
    "duration": -6172,
    "start_time": "2022-03-11T18:12:14.875Z"
   },
   {
    "duration": -6189,
    "start_time": "2022-03-11T18:12:14.894Z"
   },
   {
    "duration": -6249,
    "start_time": "2022-03-11T18:12:14.956Z"
   },
   {
    "duration": -6261,
    "start_time": "2022-03-11T18:12:14.971Z"
   },
   {
    "duration": -6265,
    "start_time": "2022-03-11T18:12:14.977Z"
   },
   {
    "duration": -6271,
    "start_time": "2022-03-11T18:12:14.985Z"
   },
   {
    "duration": 1501,
    "start_time": "2022-03-11T18:14:19.393Z"
   },
   {
    "duration": 38,
    "start_time": "2022-03-11T18:14:20.897Z"
   },
   {
    "duration": 20,
    "start_time": "2022-03-11T18:14:20.938Z"
   },
   {
    "duration": 18,
    "start_time": "2022-03-11T18:14:20.961Z"
   },
   {
    "duration": 5,
    "start_time": "2022-03-11T18:14:20.981Z"
   },
   {
    "duration": 12,
    "start_time": "2022-03-11T18:14:20.989Z"
   },
   {
    "duration": 22,
    "start_time": "2022-03-11T18:14:21.051Z"
   },
   {
    "duration": 22,
    "start_time": "2022-03-11T18:14:21.076Z"
   },
   {
    "duration": 104,
    "start_time": "2022-03-11T18:14:21.103Z"
   },
   {
    "duration": 6,
    "start_time": "2022-03-11T18:14:21.210Z"
   },
   {
    "duration": 67,
    "start_time": "2022-03-11T18:14:21.219Z"
   },
   {
    "duration": 7,
    "start_time": "2022-03-11T18:14:21.288Z"
   },
   {
    "duration": 55,
    "start_time": "2022-03-11T18:14:21.298Z"
   },
   {
    "duration": 9,
    "start_time": "2022-03-11T18:14:21.356Z"
   },
   {
    "duration": 15,
    "start_time": "2022-03-11T18:14:21.368Z"
   },
   {
    "duration": 9,
    "start_time": "2022-03-11T18:14:21.386Z"
   },
   {
    "duration": 54,
    "start_time": "2022-03-11T18:14:21.397Z"
   },
   {
    "duration": 16,
    "start_time": "2022-03-11T18:14:21.453Z"
   },
   {
    "duration": 4,
    "start_time": "2022-03-11T18:14:21.471Z"
   },
   {
    "duration": 7,
    "start_time": "2022-03-11T18:14:21.477Z"
   },
   {
    "duration": 13,
    "start_time": "2022-03-11T18:14:21.486Z"
   },
   {
    "duration": 64,
    "start_time": "2022-03-11T18:14:21.502Z"
   },
   {
    "duration": 3,
    "start_time": "2022-03-11T18:14:21.569Z"
   },
   {
    "duration": 76,
    "start_time": "2022-03-11T18:14:21.575Z"
   },
   {
    "duration": 3,
    "start_time": "2022-03-11T18:14:21.653Z"
   },
   {
    "duration": 15,
    "start_time": "2022-03-11T18:14:21.659Z"
   },
   {
    "duration": 6,
    "start_time": "2022-03-11T18:14:21.679Z"
   },
   {
    "duration": 6,
    "start_time": "2022-03-11T18:14:21.688Z"
   },
   {
    "duration": 61,
    "start_time": "2022-03-11T18:14:21.696Z"
   },
   {
    "duration": 5,
    "start_time": "2022-03-11T18:14:21.760Z"
   },
   {
    "duration": 13,
    "start_time": "2022-03-11T18:14:21.768Z"
   },
   {
    "duration": 18,
    "start_time": "2022-03-11T18:14:21.784Z"
   },
   {
    "duration": 50,
    "start_time": "2022-03-11T18:14:21.804Z"
   },
   {
    "duration": 784,
    "start_time": "2022-03-11T18:14:21.857Z"
   },
   {
    "duration": 27639,
    "start_time": "2022-03-11T18:14:22.651Z"
   },
   {
    "duration": 2720,
    "start_time": "2022-03-11T18:14:50.293Z"
   },
   {
    "duration": 7,
    "start_time": "2022-03-11T18:14:53.015Z"
   },
   {
    "duration": 27,
    "start_time": "2022-03-11T18:14:53.024Z"
   },
   {
    "duration": 10,
    "start_time": "2022-03-11T18:14:53.053Z"
   },
   {
    "duration": 526,
    "start_time": "2022-03-11T18:14:53.065Z"
   },
   {
    "duration": -6116,
    "start_time": "2022-03-11T18:14:59.710Z"
   },
   {
    "duration": -6130,
    "start_time": "2022-03-11T18:14:59.725Z"
   },
   {
    "duration": -6135,
    "start_time": "2022-03-11T18:14:59.732Z"
   },
   {
    "duration": -6141,
    "start_time": "2022-03-11T18:14:59.739Z"
   },
   {
    "duration": -6147,
    "start_time": "2022-03-11T18:14:59.746Z"
   },
   {
    "duration": -6162,
    "start_time": "2022-03-11T18:14:59.763Z"
   },
   {
    "duration": -6262,
    "start_time": "2022-03-11T18:14:59.864Z"
   },
   {
    "duration": -6283,
    "start_time": "2022-03-11T18:14:59.887Z"
   },
   {
    "duration": -6289,
    "start_time": "2022-03-11T18:14:59.894Z"
   },
   {
    "duration": -6293,
    "start_time": "2022-03-11T18:14:59.900Z"
   },
   {
    "duration": -6298,
    "start_time": "2022-03-11T18:14:59.906Z"
   },
   {
    "duration": 7583,
    "start_time": "2022-03-11T18:40:58.512Z"
   },
   {
    "duration": 4440,
    "start_time": "2022-03-11T18:41:37.174Z"
   },
   {
    "duration": 4863,
    "start_time": "2022-03-11T18:42:09.794Z"
   },
   {
    "duration": 319,
    "start_time": "2022-03-11T18:42:27.492Z"
   },
   {
    "duration": 7,
    "start_time": "2022-03-11T18:42:33.332Z"
   },
   {
    "duration": 292,
    "start_time": "2022-03-11T18:43:33.571Z"
   },
   {
    "duration": 5,
    "start_time": "2022-03-11T18:43:37.333Z"
   },
   {
    "duration": 872,
    "start_time": "2022-03-11T18:43:50.888Z"
   },
   {
    "duration": 1269,
    "start_time": "2022-03-12T13:44:17.562Z"
   },
   {
    "duration": 81,
    "start_time": "2022-03-12T13:44:18.834Z"
   },
   {
    "duration": 9,
    "start_time": "2022-03-12T13:44:18.918Z"
   },
   {
    "duration": 18,
    "start_time": "2022-03-12T13:44:18.929Z"
   },
   {
    "duration": 3,
    "start_time": "2022-03-12T13:44:18.949Z"
   },
   {
    "duration": 10,
    "start_time": "2022-03-12T13:44:18.954Z"
   },
   {
    "duration": 34,
    "start_time": "2022-03-12T13:44:18.967Z"
   },
   {
    "duration": 15,
    "start_time": "2022-03-12T13:44:19.003Z"
   },
   {
    "duration": 58,
    "start_time": "2022-03-12T13:44:19.022Z"
   },
   {
    "duration": 19,
    "start_time": "2022-03-12T13:44:19.082Z"
   },
   {
    "duration": 30,
    "start_time": "2022-03-12T13:44:19.103Z"
   },
   {
    "duration": 5,
    "start_time": "2022-03-12T13:44:19.135Z"
   },
   {
    "duration": 21,
    "start_time": "2022-03-12T13:44:19.142Z"
   },
   {
    "duration": 7,
    "start_time": "2022-03-12T13:44:19.165Z"
   },
   {
    "duration": 14,
    "start_time": "2022-03-12T13:44:19.174Z"
   },
   {
    "duration": 9,
    "start_time": "2022-03-12T13:44:19.190Z"
   },
   {
    "duration": 9,
    "start_time": "2022-03-12T13:44:19.201Z"
   },
   {
    "duration": 21,
    "start_time": "2022-03-12T13:44:19.212Z"
   },
   {
    "duration": 13,
    "start_time": "2022-03-12T13:44:19.235Z"
   },
   {
    "duration": 11,
    "start_time": "2022-03-12T13:44:19.250Z"
   },
   {
    "duration": 14,
    "start_time": "2022-03-12T13:44:19.263Z"
   },
   {
    "duration": 17,
    "start_time": "2022-03-12T13:44:19.279Z"
   },
   {
    "duration": 21,
    "start_time": "2022-03-12T13:44:19.298Z"
   },
   {
    "duration": 35,
    "start_time": "2022-03-12T13:44:19.322Z"
   },
   {
    "duration": 3,
    "start_time": "2022-03-12T13:44:19.359Z"
   },
   {
    "duration": 27,
    "start_time": "2022-03-12T13:44:19.363Z"
   },
   {
    "duration": 8,
    "start_time": "2022-03-12T13:44:19.393Z"
   },
   {
    "duration": 10,
    "start_time": "2022-03-12T13:44:19.403Z"
   },
   {
    "duration": 13,
    "start_time": "2022-03-12T13:44:19.415Z"
   },
   {
    "duration": 3,
    "start_time": "2022-03-12T13:44:19.430Z"
   },
   {
    "duration": 14,
    "start_time": "2022-03-12T13:44:19.435Z"
   },
   {
    "duration": 19,
    "start_time": "2022-03-12T13:44:19.451Z"
   },
   {
    "duration": 31,
    "start_time": "2022-03-12T13:44:19.472Z"
   },
   {
    "duration": 1005,
    "start_time": "2022-03-12T13:44:19.505Z"
   },
   {
    "duration": 21246,
    "start_time": "2022-03-12T13:44:20.512Z"
   },
   {
    "duration": 2310,
    "start_time": "2022-03-12T13:44:41.760Z"
   },
   {
    "duration": 6,
    "start_time": "2022-03-12T13:44:44.072Z"
   },
   {
    "duration": 23,
    "start_time": "2022-03-12T13:44:44.080Z"
   },
   {
    "duration": 16,
    "start_time": "2022-03-12T13:44:44.105Z"
   },
   {
    "duration": 274,
    "start_time": "2022-03-12T13:44:44.123Z"
   },
   {
    "duration": -7101,
    "start_time": "2022-03-12T13:44:51.500Z"
   },
   {
    "duration": -7107,
    "start_time": "2022-03-12T13:44:51.507Z"
   },
   {
    "duration": -7114,
    "start_time": "2022-03-12T13:44:51.515Z"
   },
   {
    "duration": -7121,
    "start_time": "2022-03-12T13:44:51.523Z"
   },
   {
    "duration": -7126,
    "start_time": "2022-03-12T13:44:51.529Z"
   },
   {
    "duration": -7134,
    "start_time": "2022-03-12T13:44:51.538Z"
   },
   {
    "duration": -7139,
    "start_time": "2022-03-12T13:44:51.545Z"
   },
   {
    "duration": -7146,
    "start_time": "2022-03-12T13:44:51.553Z"
   },
   {
    "duration": -7152,
    "start_time": "2022-03-12T13:44:51.560Z"
   },
   {
    "duration": -7181,
    "start_time": "2022-03-12T13:44:51.590Z"
   },
   {
    "duration": -7201,
    "start_time": "2022-03-12T13:44:51.611Z"
   },
   {
    "duration": -7113,
    "start_time": "2022-03-12T13:44:51.619Z"
   },
   {
    "duration": 17,
    "start_time": "2022-03-12T13:45:14.541Z"
   },
   {
    "duration": 5,
    "start_time": "2022-03-12T13:45:53.022Z"
   },
   {
    "duration": 1213,
    "start_time": "2022-03-12T13:46:13.383Z"
   },
   {
    "duration": 33,
    "start_time": "2022-03-12T13:46:14.598Z"
   },
   {
    "duration": 9,
    "start_time": "2022-03-12T13:46:14.633Z"
   },
   {
    "duration": 17,
    "start_time": "2022-03-12T13:46:14.644Z"
   },
   {
    "duration": 4,
    "start_time": "2022-03-12T13:46:14.663Z"
   },
   {
    "duration": 39,
    "start_time": "2022-03-12T13:46:14.668Z"
   },
   {
    "duration": 18,
    "start_time": "2022-03-12T13:46:14.709Z"
   },
   {
    "duration": 15,
    "start_time": "2022-03-12T13:46:14.729Z"
   },
   {
    "duration": 96,
    "start_time": "2022-03-12T13:46:14.747Z"
   },
   {
    "duration": 5,
    "start_time": "2022-03-12T13:46:14.845Z"
   },
   {
    "duration": 55,
    "start_time": "2022-03-12T13:46:14.851Z"
   },
   {
    "duration": 5,
    "start_time": "2022-03-12T13:46:14.908Z"
   },
   {
    "duration": 19,
    "start_time": "2022-03-12T13:46:14.915Z"
   },
   {
    "duration": 7,
    "start_time": "2022-03-12T13:46:14.936Z"
   },
   {
    "duration": 12,
    "start_time": "2022-03-12T13:46:14.944Z"
   },
   {
    "duration": 46,
    "start_time": "2022-03-12T13:46:14.958Z"
   },
   {
    "duration": 5,
    "start_time": "2022-03-12T13:46:15.006Z"
   },
   {
    "duration": 33,
    "start_time": "2022-03-12T13:46:15.013Z"
   },
   {
    "duration": 28,
    "start_time": "2022-03-12T13:46:15.049Z"
   },
   {
    "duration": 17,
    "start_time": "2022-03-12T13:46:15.079Z"
   },
   {
    "duration": 12,
    "start_time": "2022-03-12T13:46:15.098Z"
   },
   {
    "duration": 15,
    "start_time": "2022-03-12T13:46:15.112Z"
   },
   {
    "duration": 7,
    "start_time": "2022-03-12T13:46:15.129Z"
   },
   {
    "duration": 30,
    "start_time": "2022-03-12T13:46:15.138Z"
   },
   {
    "duration": 3,
    "start_time": "2022-03-12T13:46:15.169Z"
   },
   {
    "duration": 10,
    "start_time": "2022-03-12T13:46:15.202Z"
   },
   {
    "duration": 6,
    "start_time": "2022-03-12T13:46:15.215Z"
   },
   {
    "duration": 5,
    "start_time": "2022-03-12T13:46:15.224Z"
   },
   {
    "duration": 21,
    "start_time": "2022-03-12T13:46:15.230Z"
   },
   {
    "duration": 6,
    "start_time": "2022-03-12T13:46:15.253Z"
   },
   {
    "duration": 39,
    "start_time": "2022-03-12T13:46:15.262Z"
   },
   {
    "duration": 19,
    "start_time": "2022-03-12T13:46:15.304Z"
   },
   {
    "duration": 11,
    "start_time": "2022-03-12T13:46:15.325Z"
   },
   {
    "duration": 597,
    "start_time": "2022-03-12T13:46:15.338Z"
   },
   {
    "duration": 21288,
    "start_time": "2022-03-12T13:46:15.937Z"
   },
   {
    "duration": 2148,
    "start_time": "2022-03-12T13:46:37.226Z"
   },
   {
    "duration": 5,
    "start_time": "2022-03-12T13:46:39.376Z"
   },
   {
    "duration": 23,
    "start_time": "2022-03-12T13:46:39.383Z"
   },
   {
    "duration": 12,
    "start_time": "2022-03-12T13:46:39.408Z"
   },
   {
    "duration": 7,
    "start_time": "2022-03-12T13:46:39.421Z"
   },
   {
    "duration": 436,
    "start_time": "2022-03-12T13:46:39.429Z"
   },
   {
    "duration": -7346,
    "start_time": "2022-03-12T13:46:47.213Z"
   },
   {
    "duration": -7361,
    "start_time": "2022-03-12T13:46:47.229Z"
   },
   {
    "duration": -7368,
    "start_time": "2022-03-12T13:46:47.237Z"
   },
   {
    "duration": -7374,
    "start_time": "2022-03-12T13:46:47.244Z"
   },
   {
    "duration": -7380,
    "start_time": "2022-03-12T13:46:47.251Z"
   },
   {
    "duration": -7385,
    "start_time": "2022-03-12T13:46:47.257Z"
   },
   {
    "duration": -7391,
    "start_time": "2022-03-12T13:46:47.264Z"
   },
   {
    "duration": -7397,
    "start_time": "2022-03-12T13:46:47.271Z"
   },
   {
    "duration": -7403,
    "start_time": "2022-03-12T13:46:47.278Z"
   },
   {
    "duration": -7408,
    "start_time": "2022-03-12T13:46:47.284Z"
   },
   {
    "duration": -7414,
    "start_time": "2022-03-12T13:46:47.291Z"
   },
   {
    "duration": 18,
    "start_time": "2022-03-12T13:47:03.903Z"
   },
   {
    "duration": 6,
    "start_time": "2022-03-12T13:48:39.909Z"
   },
   {
    "duration": 9,
    "start_time": "2022-03-12T13:49:08.463Z"
   },
   {
    "duration": 4,
    "start_time": "2022-03-12T13:49:09.363Z"
   },
   {
    "duration": 16,
    "start_time": "2022-03-12T13:49:14.202Z"
   },
   {
    "duration": 6,
    "start_time": "2022-03-12T13:49:17.942Z"
   },
   {
    "duration": 16,
    "start_time": "2022-03-12T13:49:21.079Z"
   },
   {
    "duration": 462,
    "start_time": "2022-03-12T13:49:46.483Z"
   },
   {
    "duration": 19,
    "start_time": "2022-03-12T13:49:50.162Z"
   },
   {
    "duration": 1238,
    "start_time": "2022-03-12T13:50:42.187Z"
   },
   {
    "duration": 34,
    "start_time": "2022-03-12T13:50:43.427Z"
   },
   {
    "duration": 11,
    "start_time": "2022-03-12T13:50:43.465Z"
   },
   {
    "duration": 36,
    "start_time": "2022-03-12T13:50:43.479Z"
   },
   {
    "duration": 9,
    "start_time": "2022-03-12T13:50:43.517Z"
   },
   {
    "duration": 14,
    "start_time": "2022-03-12T13:50:43.528Z"
   },
   {
    "duration": 18,
    "start_time": "2022-03-12T13:50:43.544Z"
   },
   {
    "duration": 52,
    "start_time": "2022-03-12T13:50:43.565Z"
   },
   {
    "duration": 84,
    "start_time": "2022-03-12T13:50:43.621Z"
   },
   {
    "duration": 5,
    "start_time": "2022-03-12T13:50:43.708Z"
   },
   {
    "duration": 34,
    "start_time": "2022-03-12T13:50:43.715Z"
   },
   {
    "duration": 6,
    "start_time": "2022-03-12T13:50:43.751Z"
   },
   {
    "duration": 47,
    "start_time": "2022-03-12T13:50:43.759Z"
   },
   {
    "duration": 10,
    "start_time": "2022-03-12T13:50:43.808Z"
   },
   {
    "duration": 16,
    "start_time": "2022-03-12T13:50:43.820Z"
   },
   {
    "duration": 9,
    "start_time": "2022-03-12T13:50:43.838Z"
   },
   {
    "duration": 19,
    "start_time": "2022-03-12T13:50:43.850Z"
   },
   {
    "duration": 43,
    "start_time": "2022-03-12T13:50:43.871Z"
   },
   {
    "duration": 3,
    "start_time": "2022-03-12T13:50:43.916Z"
   },
   {
    "duration": 11,
    "start_time": "2022-03-12T13:50:43.921Z"
   },
   {
    "duration": 19,
    "start_time": "2022-03-12T13:50:43.934Z"
   },
   {
    "duration": 28,
    "start_time": "2022-03-12T13:50:43.954Z"
   },
   {
    "duration": 19,
    "start_time": "2022-03-12T13:50:43.985Z"
   },
   {
    "duration": 31,
    "start_time": "2022-03-12T13:50:44.006Z"
   },
   {
    "duration": 3,
    "start_time": "2022-03-12T13:50:44.039Z"
   },
   {
    "duration": 23,
    "start_time": "2022-03-12T13:50:44.045Z"
   },
   {
    "duration": 30,
    "start_time": "2022-03-12T13:50:44.073Z"
   },
   {
    "duration": 25,
    "start_time": "2022-03-12T13:50:44.106Z"
   },
   {
    "duration": 16,
    "start_time": "2022-03-12T13:50:44.133Z"
   },
   {
    "duration": 4,
    "start_time": "2022-03-12T13:50:44.151Z"
   },
   {
    "duration": 10,
    "start_time": "2022-03-12T13:50:44.157Z"
   },
   {
    "duration": 32,
    "start_time": "2022-03-12T13:50:44.169Z"
   },
   {
    "duration": 288,
    "start_time": "2022-03-12T13:50:44.203Z"
   },
   {
    "duration": -9003,
    "start_time": "2022-03-12T13:50:53.496Z"
   },
   {
    "duration": -9028,
    "start_time": "2022-03-12T13:50:53.523Z"
   },
   {
    "duration": -9057,
    "start_time": "2022-03-12T13:50:53.553Z"
   },
   {
    "duration": -9092,
    "start_time": "2022-03-12T13:50:53.589Z"
   },
   {
    "duration": -9139,
    "start_time": "2022-03-12T13:50:53.637Z"
   },
   {
    "duration": -9146,
    "start_time": "2022-03-12T13:50:53.645Z"
   },
   {
    "duration": -9152,
    "start_time": "2022-03-12T13:50:53.652Z"
   },
   {
    "duration": -9158,
    "start_time": "2022-03-12T13:50:53.660Z"
   },
   {
    "duration": -9164,
    "start_time": "2022-03-12T13:50:53.667Z"
   },
   {
    "duration": -9170,
    "start_time": "2022-03-12T13:50:53.674Z"
   },
   {
    "duration": -9177,
    "start_time": "2022-03-12T13:50:53.682Z"
   },
   {
    "duration": -9182,
    "start_time": "2022-03-12T13:50:53.689Z"
   },
   {
    "duration": -9189,
    "start_time": "2022-03-12T13:50:53.697Z"
   },
   {
    "duration": -9194,
    "start_time": "2022-03-12T13:50:53.703Z"
   },
   {
    "duration": -9201,
    "start_time": "2022-03-12T13:50:53.711Z"
   },
   {
    "duration": -9207,
    "start_time": "2022-03-12T13:50:53.718Z"
   },
   {
    "duration": -9211,
    "start_time": "2022-03-12T13:50:53.725Z"
   },
   {
    "duration": -9241,
    "start_time": "2022-03-12T13:50:53.756Z"
   },
   {
    "duration": -9248,
    "start_time": "2022-03-12T13:50:53.764Z"
   },
   {
    "duration": -9253,
    "start_time": "2022-03-12T13:50:53.771Z"
   },
   {
    "duration": -9259,
    "start_time": "2022-03-12T13:50:53.779Z"
   },
   {
    "duration": 8,
    "start_time": "2022-03-12T13:51:46.707Z"
   },
   {
    "duration": 1167,
    "start_time": "2022-03-12T13:52:17.547Z"
   },
   {
    "duration": 30,
    "start_time": "2022-03-12T13:52:18.716Z"
   },
   {
    "duration": 8,
    "start_time": "2022-03-12T13:52:18.749Z"
   },
   {
    "duration": 16,
    "start_time": "2022-03-12T13:52:18.759Z"
   },
   {
    "duration": 27,
    "start_time": "2022-03-12T13:52:18.777Z"
   },
   {
    "duration": 11,
    "start_time": "2022-03-12T13:52:18.806Z"
   },
   {
    "duration": 27,
    "start_time": "2022-03-12T13:52:18.819Z"
   },
   {
    "duration": 17,
    "start_time": "2022-03-12T13:52:18.848Z"
   },
   {
    "duration": 84,
    "start_time": "2022-03-12T13:52:18.869Z"
   },
   {
    "duration": 5,
    "start_time": "2022-03-12T13:52:18.955Z"
   },
   {
    "duration": 28,
    "start_time": "2022-03-12T13:52:19.002Z"
   },
   {
    "duration": 6,
    "start_time": "2022-03-12T13:52:19.031Z"
   },
   {
    "duration": 68,
    "start_time": "2022-03-12T13:52:19.039Z"
   },
   {
    "duration": 7,
    "start_time": "2022-03-12T13:52:19.108Z"
   },
   {
    "duration": 11,
    "start_time": "2022-03-12T13:52:19.117Z"
   },
   {
    "duration": 7,
    "start_time": "2022-03-12T13:52:19.129Z"
   },
   {
    "duration": 7,
    "start_time": "2022-03-12T13:52:19.138Z"
   },
   {
    "duration": 17,
    "start_time": "2022-03-12T13:52:19.146Z"
   },
   {
    "duration": 3,
    "start_time": "2022-03-12T13:52:19.165Z"
   },
   {
    "duration": 9,
    "start_time": "2022-03-12T13:52:19.170Z"
   },
   {
    "duration": 20,
    "start_time": "2022-03-12T13:52:19.180Z"
   },
   {
    "duration": 20,
    "start_time": "2022-03-12T13:52:19.203Z"
   },
   {
    "duration": 8,
    "start_time": "2022-03-12T13:52:19.225Z"
   },
   {
    "duration": 33,
    "start_time": "2022-03-12T13:52:19.235Z"
   },
   {
    "duration": 2,
    "start_time": "2022-03-12T13:52:19.270Z"
   },
   {
    "duration": 25,
    "start_time": "2022-03-12T13:52:19.274Z"
   },
   {
    "duration": 5,
    "start_time": "2022-03-12T13:52:19.304Z"
   },
   {
    "duration": 17,
    "start_time": "2022-03-12T13:52:19.312Z"
   },
   {
    "duration": 22,
    "start_time": "2022-03-12T13:52:19.331Z"
   },
   {
    "duration": 8,
    "start_time": "2022-03-12T13:52:19.354Z"
   },
   {
    "duration": 12,
    "start_time": "2022-03-12T13:52:19.364Z"
   },
   {
    "duration": 20,
    "start_time": "2022-03-12T13:52:19.378Z"
   },
   {
    "duration": 26,
    "start_time": "2022-03-12T13:52:19.400Z"
   },
   {
    "duration": 14,
    "start_time": "2022-03-12T13:52:19.428Z"
   },
   {
    "duration": 24,
    "start_time": "2022-03-12T13:52:19.444Z"
   },
   {
    "duration": 453,
    "start_time": "2022-03-12T13:52:19.470Z"
   },
   {
    "duration": -9057,
    "start_time": "2022-03-12T13:52:28.982Z"
   },
   {
    "duration": -9064,
    "start_time": "2022-03-12T13:52:28.990Z"
   },
   {
    "duration": -9105,
    "start_time": "2022-03-12T13:52:29.032Z"
   },
   {
    "duration": -9131,
    "start_time": "2022-03-12T13:52:29.059Z"
   },
   {
    "duration": -9156,
    "start_time": "2022-03-12T13:52:29.085Z"
   },
   {
    "duration": -9180,
    "start_time": "2022-03-12T13:52:29.111Z"
   },
   {
    "duration": -9201,
    "start_time": "2022-03-12T13:52:29.132Z"
   },
   {
    "duration": -9230,
    "start_time": "2022-03-12T13:52:29.163Z"
   },
   {
    "duration": -9254,
    "start_time": "2022-03-12T13:52:29.188Z"
   },
   {
    "duration": -9293,
    "start_time": "2022-03-12T13:52:29.228Z"
   },
   {
    "duration": -9317,
    "start_time": "2022-03-12T13:52:29.253Z"
   },
   {
    "duration": -9343,
    "start_time": "2022-03-12T13:52:29.280Z"
   },
   {
    "duration": -9404,
    "start_time": "2022-03-12T13:52:29.342Z"
   },
   {
    "duration": -9434,
    "start_time": "2022-03-12T13:52:29.373Z"
   },
   {
    "duration": -9462,
    "start_time": "2022-03-12T13:52:29.402Z"
   },
   {
    "duration": -9486,
    "start_time": "2022-03-12T13:52:29.427Z"
   },
   {
    "duration": -9512,
    "start_time": "2022-03-12T13:52:29.454Z"
   },
   {
    "duration": -9537,
    "start_time": "2022-03-12T13:52:29.480Z"
   },
   {
    "duration": -9544,
    "start_time": "2022-03-12T13:52:29.488Z"
   },
   {
    "duration": 1229,
    "start_time": "2022-03-12T13:53:09.389Z"
   },
   {
    "duration": 34,
    "start_time": "2022-03-12T13:53:10.620Z"
   },
   {
    "duration": 10,
    "start_time": "2022-03-12T13:53:10.656Z"
   },
   {
    "duration": 35,
    "start_time": "2022-03-12T13:53:10.668Z"
   },
   {
    "duration": 4,
    "start_time": "2022-03-12T13:53:10.704Z"
   },
   {
    "duration": 15,
    "start_time": "2022-03-12T13:53:10.710Z"
   },
   {
    "duration": 16,
    "start_time": "2022-03-12T13:53:10.727Z"
   },
   {
    "duration": 22,
    "start_time": "2022-03-12T13:53:10.745Z"
   },
   {
    "duration": 86,
    "start_time": "2022-03-12T13:53:10.770Z"
   },
   {
    "duration": 6,
    "start_time": "2022-03-12T13:53:10.858Z"
   },
   {
    "duration": 61,
    "start_time": "2022-03-12T13:53:10.866Z"
   },
   {
    "duration": 7,
    "start_time": "2022-03-12T13:53:10.929Z"
   },
   {
    "duration": 19,
    "start_time": "2022-03-12T13:53:10.937Z"
   },
   {
    "duration": 8,
    "start_time": "2022-03-12T13:53:10.958Z"
   },
   {
    "duration": 12,
    "start_time": "2022-03-12T13:53:11.002Z"
   },
   {
    "duration": 21,
    "start_time": "2022-03-12T13:53:11.016Z"
   },
   {
    "duration": 6,
    "start_time": "2022-03-12T13:53:11.039Z"
   },
   {
    "duration": 15,
    "start_time": "2022-03-12T13:53:11.047Z"
   },
   {
    "duration": 3,
    "start_time": "2022-03-12T13:53:11.065Z"
   },
   {
    "duration": 34,
    "start_time": "2022-03-12T13:53:11.070Z"
   },
   {
    "duration": 11,
    "start_time": "2022-03-12T13:53:11.106Z"
   },
   {
    "duration": 15,
    "start_time": "2022-03-12T13:53:11.119Z"
   },
   {
    "duration": 3,
    "start_time": "2022-03-12T13:53:11.135Z"
   },
   {
    "duration": 71,
    "start_time": "2022-03-12T13:53:11.140Z"
   },
   {
    "duration": 2,
    "start_time": "2022-03-12T13:53:11.213Z"
   },
   {
    "duration": 17,
    "start_time": "2022-03-12T13:53:11.218Z"
   },
   {
    "duration": 5,
    "start_time": "2022-03-12T13:53:11.239Z"
   },
   {
    "duration": 5,
    "start_time": "2022-03-12T13:53:11.247Z"
   },
   {
    "duration": 18,
    "start_time": "2022-03-12T13:53:11.254Z"
   },
   {
    "duration": 31,
    "start_time": "2022-03-12T13:53:11.274Z"
   },
   {
    "duration": 13,
    "start_time": "2022-03-12T13:53:11.307Z"
   },
   {
    "duration": 15,
    "start_time": "2022-03-12T13:53:11.322Z"
   },
   {
    "duration": 9,
    "start_time": "2022-03-12T13:53:11.339Z"
   },
   {
    "duration": 297,
    "start_time": "2022-03-12T13:53:11.350Z"
   },
   {
    "duration": -7753,
    "start_time": "2022-03-12T13:53:19.403Z"
   },
   {
    "duration": -7759,
    "start_time": "2022-03-12T13:53:19.410Z"
   },
   {
    "duration": -7765,
    "start_time": "2022-03-12T13:53:19.417Z"
   },
   {
    "duration": -7771,
    "start_time": "2022-03-12T13:53:19.424Z"
   },
   {
    "duration": -7802,
    "start_time": "2022-03-12T13:53:19.456Z"
   },
   {
    "duration": -7846,
    "start_time": "2022-03-12T13:53:19.501Z"
   },
   {
    "duration": -7868,
    "start_time": "2022-03-12T13:53:19.525Z"
   },
   {
    "duration": -7893,
    "start_time": "2022-03-12T13:53:19.550Z"
   },
   {
    "duration": -7934,
    "start_time": "2022-03-12T13:53:19.593Z"
   },
   {
    "duration": -7960,
    "start_time": "2022-03-12T13:53:19.620Z"
   },
   {
    "duration": -7983,
    "start_time": "2022-03-12T13:53:19.644Z"
   },
   {
    "duration": -8008,
    "start_time": "2022-03-12T13:53:19.670Z"
   },
   {
    "duration": -8032,
    "start_time": "2022-03-12T13:53:19.695Z"
   },
   {
    "duration": -8057,
    "start_time": "2022-03-12T13:53:19.721Z"
   },
   {
    "duration": -8103,
    "start_time": "2022-03-12T13:53:19.768Z"
   },
   {
    "duration": -8128,
    "start_time": "2022-03-12T13:53:19.793Z"
   },
   {
    "duration": -8150,
    "start_time": "2022-03-12T13:53:19.816Z"
   },
   {
    "duration": -8173,
    "start_time": "2022-03-12T13:53:19.840Z"
   },
   {
    "duration": -8196,
    "start_time": "2022-03-12T13:53:19.865Z"
   },
   {
    "duration": -8221,
    "start_time": "2022-03-12T13:53:19.891Z"
   },
   {
    "duration": -8246,
    "start_time": "2022-03-12T13:53:19.916Z"
   },
   {
    "duration": 220,
    "start_time": "2022-03-12T13:53:51.983Z"
   },
   {
    "duration": 179,
    "start_time": "2022-03-12T13:54:26.862Z"
   },
   {
    "duration": 185,
    "start_time": "2022-03-12T13:54:42.462Z"
   },
   {
    "duration": 196,
    "start_time": "2022-03-12T13:55:17.864Z"
   },
   {
    "duration": 183,
    "start_time": "2022-03-12T13:55:31.542Z"
   },
   {
    "duration": 170,
    "start_time": "2022-03-12T13:56:22.323Z"
   },
   {
    "duration": 175,
    "start_time": "2022-03-12T13:56:33.303Z"
   },
   {
    "duration": 171,
    "start_time": "2022-03-12T13:57:13.215Z"
   },
   {
    "duration": 199,
    "start_time": "2022-03-12T13:57:21.202Z"
   },
   {
    "duration": 1280,
    "start_time": "2022-03-12T13:58:47.925Z"
   },
   {
    "duration": 30,
    "start_time": "2022-03-12T13:58:49.207Z"
   },
   {
    "duration": 8,
    "start_time": "2022-03-12T13:58:49.240Z"
   },
   {
    "duration": 14,
    "start_time": "2022-03-12T13:58:49.250Z"
   },
   {
    "duration": 10,
    "start_time": "2022-03-12T13:58:49.266Z"
   },
   {
    "duration": 29,
    "start_time": "2022-03-12T13:58:49.278Z"
   },
   {
    "duration": 16,
    "start_time": "2022-03-12T13:58:49.309Z"
   },
   {
    "duration": 19,
    "start_time": "2022-03-12T13:58:49.327Z"
   },
   {
    "duration": 90,
    "start_time": "2022-03-12T13:58:49.349Z"
   },
   {
    "duration": 6,
    "start_time": "2022-03-12T13:58:49.441Z"
   },
   {
    "duration": 32,
    "start_time": "2022-03-12T13:58:49.448Z"
   },
   {
    "duration": 7,
    "start_time": "2022-03-12T13:58:49.501Z"
   },
   {
    "duration": 30,
    "start_time": "2022-03-12T13:58:49.510Z"
   },
   {
    "duration": 10,
    "start_time": "2022-03-12T13:58:49.542Z"
   },
   {
    "duration": 11,
    "start_time": "2022-03-12T13:58:49.554Z"
   },
   {
    "duration": 6,
    "start_time": "2022-03-12T13:58:49.567Z"
   },
   {
    "duration": 26,
    "start_time": "2022-03-12T13:58:49.575Z"
   },
   {
    "duration": 17,
    "start_time": "2022-03-12T13:58:49.604Z"
   },
   {
    "duration": 3,
    "start_time": "2022-03-12T13:58:49.622Z"
   },
   {
    "duration": 8,
    "start_time": "2022-03-12T13:58:49.627Z"
   },
   {
    "duration": 15,
    "start_time": "2022-03-12T13:58:49.637Z"
   },
   {
    "duration": 15,
    "start_time": "2022-03-12T13:58:49.654Z"
   },
   {
    "duration": 6,
    "start_time": "2022-03-12T13:58:49.671Z"
   },
   {
    "duration": 29,
    "start_time": "2022-03-12T13:58:49.703Z"
   },
   {
    "duration": 2,
    "start_time": "2022-03-12T13:58:49.734Z"
   },
   {
    "duration": 17,
    "start_time": "2022-03-12T13:58:49.738Z"
   },
   {
    "duration": 7,
    "start_time": "2022-03-12T13:58:49.759Z"
   },
   {
    "duration": 32,
    "start_time": "2022-03-12T13:58:49.769Z"
   },
   {
    "duration": 10,
    "start_time": "2022-03-12T13:58:49.804Z"
   },
   {
    "duration": 4,
    "start_time": "2022-03-12T13:58:49.816Z"
   },
   {
    "duration": 11,
    "start_time": "2022-03-12T13:58:49.822Z"
   },
   {
    "duration": 21,
    "start_time": "2022-03-12T13:58:49.835Z"
   },
   {
    "duration": 306,
    "start_time": "2022-03-12T13:58:49.858Z"
   },
   {
    "duration": -8677,
    "start_time": "2022-03-12T13:58:58.843Z"
   },
   {
    "duration": -8700,
    "start_time": "2022-03-12T13:58:58.867Z"
   },
   {
    "duration": -8723,
    "start_time": "2022-03-12T13:58:58.892Z"
   },
   {
    "duration": -8728,
    "start_time": "2022-03-12T13:58:58.899Z"
   },
   {
    "duration": -8735,
    "start_time": "2022-03-12T13:58:58.907Z"
   },
   {
    "duration": -8740,
    "start_time": "2022-03-12T13:58:58.914Z"
   },
   {
    "duration": -8747,
    "start_time": "2022-03-12T13:58:58.922Z"
   },
   {
    "duration": -8752,
    "start_time": "2022-03-12T13:58:58.929Z"
   },
   {
    "duration": -8759,
    "start_time": "2022-03-12T13:58:58.937Z"
   },
   {
    "duration": -8782,
    "start_time": "2022-03-12T13:58:58.962Z"
   },
   {
    "duration": -8808,
    "start_time": "2022-03-12T13:58:58.989Z"
   },
   {
    "duration": -8821,
    "start_time": "2022-03-12T13:58:59.004Z"
   },
   {
    "duration": -8845,
    "start_time": "2022-03-12T13:58:59.029Z"
   },
   {
    "duration": -8870,
    "start_time": "2022-03-12T13:58:59.056Z"
   },
   {
    "duration": -8896,
    "start_time": "2022-03-12T13:58:59.083Z"
   },
   {
    "duration": -8922,
    "start_time": "2022-03-12T13:58:59.111Z"
   },
   {
    "duration": -8954,
    "start_time": "2022-03-12T13:58:59.145Z"
   },
   {
    "duration": -8987,
    "start_time": "2022-03-12T13:58:59.179Z"
   },
   {
    "duration": -9012,
    "start_time": "2022-03-12T13:58:59.206Z"
   },
   {
    "duration": -9036,
    "start_time": "2022-03-12T13:58:59.231Z"
   },
   {
    "duration": -9077,
    "start_time": "2022-03-12T13:58:59.274Z"
   },
   {
    "duration": -9103,
    "start_time": "2022-03-12T13:58:59.301Z"
   },
   {
    "duration": 25,
    "start_time": "2022-03-12T13:59:09.112Z"
   },
   {
    "duration": 5,
    "start_time": "2022-03-12T14:00:13.244Z"
   },
   {
    "duration": 171,
    "start_time": "2022-03-12T14:00:17.196Z"
   },
   {
    "duration": 210,
    "start_time": "2022-03-12T14:00:20.555Z"
   },
   {
    "duration": 1336,
    "start_time": "2022-03-12T14:00:43.485Z"
   },
   {
    "duration": 31,
    "start_time": "2022-03-12T14:00:44.823Z"
   },
   {
    "duration": 9,
    "start_time": "2022-03-12T14:00:44.856Z"
   },
   {
    "duration": 22,
    "start_time": "2022-03-12T14:00:44.867Z"
   },
   {
    "duration": 5,
    "start_time": "2022-03-12T14:00:44.901Z"
   },
   {
    "duration": 17,
    "start_time": "2022-03-12T14:00:44.907Z"
   },
   {
    "duration": 17,
    "start_time": "2022-03-12T14:00:44.926Z"
   },
   {
    "duration": 59,
    "start_time": "2022-03-12T14:00:44.944Z"
   },
   {
    "duration": 114,
    "start_time": "2022-03-12T14:00:45.008Z"
   },
   {
    "duration": 5,
    "start_time": "2022-03-12T14:00:45.124Z"
   },
   {
    "duration": 90,
    "start_time": "2022-03-12T14:00:45.131Z"
   },
   {
    "duration": 6,
    "start_time": "2022-03-12T14:00:45.223Z"
   },
   {
    "duration": 71,
    "start_time": "2022-03-12T14:00:45.231Z"
   },
   {
    "duration": 8,
    "start_time": "2022-03-12T14:00:45.304Z"
   },
   {
    "duration": 21,
    "start_time": "2022-03-12T14:00:45.314Z"
   },
   {
    "duration": 65,
    "start_time": "2022-03-12T14:00:45.337Z"
   },
   {
    "duration": 3,
    "start_time": "2022-03-12T14:00:45.405Z"
   },
   {
    "duration": 16,
    "start_time": "2022-03-12T14:00:45.410Z"
   },
   {
    "duration": 3,
    "start_time": "2022-03-12T14:00:45.429Z"
   },
   {
    "duration": 15,
    "start_time": "2022-03-12T14:00:45.433Z"
   },
   {
    "duration": 56,
    "start_time": "2022-03-12T14:00:45.450Z"
   },
   {
    "duration": 15,
    "start_time": "2022-03-12T14:00:45.508Z"
   },
   {
    "duration": 7,
    "start_time": "2022-03-12T14:00:45.525Z"
   },
   {
    "duration": 72,
    "start_time": "2022-03-12T14:00:45.534Z"
   },
   {
    "duration": 3,
    "start_time": "2022-03-12T14:00:45.608Z"
   },
   {
    "duration": 14,
    "start_time": "2022-03-12T14:00:45.613Z"
   },
   {
    "duration": 4,
    "start_time": "2022-03-12T14:00:45.632Z"
   },
   {
    "duration": 9,
    "start_time": "2022-03-12T14:00:45.639Z"
   },
   {
    "duration": 17,
    "start_time": "2022-03-12T14:00:45.650Z"
   },
   {
    "duration": 5,
    "start_time": "2022-03-12T14:00:45.669Z"
   },
   {
    "duration": 29,
    "start_time": "2022-03-12T14:00:45.676Z"
   },
   {
    "duration": 79,
    "start_time": "2022-03-12T14:00:45.707Z"
   },
   {
    "duration": -7608,
    "start_time": "2022-03-12T14:00:53.396Z"
   },
   {
    "duration": -7628,
    "start_time": "2022-03-12T14:00:53.417Z"
   },
   {
    "duration": -7650,
    "start_time": "2022-03-12T14:00:53.440Z"
   },
   {
    "duration": -7670,
    "start_time": "2022-03-12T14:00:53.461Z"
   },
   {
    "duration": -7742,
    "start_time": "2022-03-12T14:00:53.534Z"
   },
   {
    "duration": -7763,
    "start_time": "2022-03-12T14:00:53.556Z"
   },
   {
    "duration": -7790,
    "start_time": "2022-03-12T14:00:53.585Z"
   },
   {
    "duration": -7830,
    "start_time": "2022-03-12T14:00:53.625Z"
   },
   {
    "duration": -7855,
    "start_time": "2022-03-12T14:00:53.651Z"
   },
   {
    "duration": -7880,
    "start_time": "2022-03-12T14:00:53.677Z"
   },
   {
    "duration": -7903,
    "start_time": "2022-03-12T14:00:53.701Z"
   },
   {
    "duration": -7927,
    "start_time": "2022-03-12T14:00:53.726Z"
   },
   {
    "duration": -7970,
    "start_time": "2022-03-12T14:00:53.770Z"
   },
   {
    "duration": -7993,
    "start_time": "2022-03-12T14:00:53.794Z"
   },
   {
    "duration": -8199,
    "start_time": "2022-03-12T14:00:54.001Z"
   },
   {
    "duration": -8223,
    "start_time": "2022-03-12T14:00:54.025Z"
   },
   {
    "duration": -8246,
    "start_time": "2022-03-12T14:00:54.049Z"
   },
   {
    "duration": -8268,
    "start_time": "2022-03-12T14:00:54.072Z"
   },
   {
    "duration": -8273,
    "start_time": "2022-03-12T14:00:54.078Z"
   },
   {
    "duration": -8278,
    "start_time": "2022-03-12T14:00:54.084Z"
   },
   {
    "duration": -8284,
    "start_time": "2022-03-12T14:00:54.091Z"
   },
   {
    "duration": -8290,
    "start_time": "2022-03-12T14:00:54.098Z"
   },
   {
    "duration": -8311,
    "start_time": "2022-03-12T14:00:54.120Z"
   },
   {
    "duration": -8338,
    "start_time": "2022-03-12T14:00:54.149Z"
   },
   {
    "duration": 10,
    "start_time": "2022-03-12T14:00:55.745Z"
   },
   {
    "duration": 16,
    "start_time": "2022-03-12T14:00:58.804Z"
   },
   {
    "duration": 1380,
    "start_time": "2022-03-12T14:02:00.248Z"
   },
   {
    "duration": 33,
    "start_time": "2022-03-12T14:02:01.630Z"
   },
   {
    "duration": 35,
    "start_time": "2022-03-12T14:02:01.666Z"
   },
   {
    "duration": 30,
    "start_time": "2022-03-12T14:02:01.704Z"
   },
   {
    "duration": 19,
    "start_time": "2022-03-12T14:02:01.736Z"
   },
   {
    "duration": 36,
    "start_time": "2022-03-12T14:02:01.757Z"
   },
   {
    "duration": 40,
    "start_time": "2022-03-12T14:02:01.795Z"
   },
   {
    "duration": 36,
    "start_time": "2022-03-12T14:02:01.838Z"
   },
   {
    "duration": 78,
    "start_time": "2022-03-12T14:02:01.878Z"
   },
   {
    "duration": 5,
    "start_time": "2022-03-12T14:02:01.959Z"
   },
   {
    "duration": 56,
    "start_time": "2022-03-12T14:02:01.966Z"
   },
   {
    "duration": 6,
    "start_time": "2022-03-12T14:02:02.024Z"
   },
   {
    "duration": 34,
    "start_time": "2022-03-12T14:02:02.032Z"
   },
   {
    "duration": 11,
    "start_time": "2022-03-12T14:02:02.068Z"
   },
   {
    "duration": 29,
    "start_time": "2022-03-12T14:02:02.081Z"
   },
   {
    "duration": 20,
    "start_time": "2022-03-12T14:02:02.112Z"
   },
   {
    "duration": 27,
    "start_time": "2022-03-12T14:02:02.134Z"
   },
   {
    "duration": 22,
    "start_time": "2022-03-12T14:02:02.164Z"
   },
   {
    "duration": 3,
    "start_time": "2022-03-12T14:02:02.188Z"
   },
   {
    "duration": 11,
    "start_time": "2022-03-12T14:02:02.193Z"
   },
   {
    "duration": 26,
    "start_time": "2022-03-12T14:02:02.206Z"
   },
   {
    "duration": 30,
    "start_time": "2022-03-12T14:02:02.234Z"
   },
   {
    "duration": 10,
    "start_time": "2022-03-12T14:02:02.266Z"
   },
   {
    "duration": 39,
    "start_time": "2022-03-12T14:02:02.278Z"
   },
   {
    "duration": 2,
    "start_time": "2022-03-12T14:02:02.319Z"
   },
   {
    "duration": 29,
    "start_time": "2022-03-12T14:02:02.323Z"
   },
   {
    "duration": 21,
    "start_time": "2022-03-12T14:02:02.356Z"
   },
   {
    "duration": 26,
    "start_time": "2022-03-12T14:02:02.380Z"
   },
   {
    "duration": 35,
    "start_time": "2022-03-12T14:02:02.408Z"
   },
   {
    "duration": 15,
    "start_time": "2022-03-12T14:02:02.445Z"
   },
   {
    "duration": 22,
    "start_time": "2022-03-12T14:02:02.463Z"
   },
   {
    "duration": 32,
    "start_time": "2022-03-12T14:02:02.487Z"
   },
   {
    "duration": 710,
    "start_time": "2022-03-12T14:02:02.522Z"
   },
   {
    "duration": 21612,
    "start_time": "2022-03-12T14:02:03.234Z"
   },
   {
    "duration": 1928,
    "start_time": "2022-03-12T14:02:24.848Z"
   },
   {
    "duration": 7,
    "start_time": "2022-03-12T14:02:26.778Z"
   },
   {
    "duration": 17,
    "start_time": "2022-03-12T14:02:26.787Z"
   },
   {
    "duration": 18,
    "start_time": "2022-03-12T14:02:26.806Z"
   },
   {
    "duration": 20,
    "start_time": "2022-03-12T14:02:26.826Z"
   },
   {
    "duration": 89,
    "start_time": "2022-03-12T14:02:26.848Z"
   },
   {
    "duration": 324,
    "start_time": "2022-03-12T14:02:26.939Z"
   },
   {
    "duration": -7128,
    "start_time": "2022-03-12T14:02:34.393Z"
   },
   {
    "duration": -7132,
    "start_time": "2022-03-12T14:02:34.399Z"
   },
   {
    "duration": -7138,
    "start_time": "2022-03-12T14:02:34.406Z"
   },
   {
    "duration": -7143,
    "start_time": "2022-03-12T14:02:34.412Z"
   },
   {
    "duration": -7149,
    "start_time": "2022-03-12T14:02:34.419Z"
   },
   {
    "duration": -7154,
    "start_time": "2022-03-12T14:02:34.425Z"
   },
   {
    "duration": -7159,
    "start_time": "2022-03-12T14:02:34.432Z"
   },
   {
    "duration": -7164,
    "start_time": "2022-03-12T14:02:34.438Z"
   },
   {
    "duration": -7170,
    "start_time": "2022-03-12T14:02:34.445Z"
   },
   {
    "duration": -7175,
    "start_time": "2022-03-12T14:02:34.451Z"
   },
   {
    "duration": 5,
    "start_time": "2022-03-12T14:03:08.635Z"
   },
   {
    "duration": 171,
    "start_time": "2022-03-12T14:03:19.268Z"
   },
   {
    "duration": 108359,
    "start_time": "2022-03-12T14:03:40.668Z"
   },
   {
    "duration": 6,
    "start_time": "2022-03-12T14:06:41.829Z"
   },
   {
    "duration": 4,
    "start_time": "2022-03-12T14:06:42.388Z"
   },
   {
    "duration": 42023,
    "start_time": "2022-03-12T14:06:51.128Z"
   },
   {
    "duration": 6,
    "start_time": "2022-03-12T14:09:14.528Z"
   },
   {
    "duration": 4,
    "start_time": "2022-03-12T14:09:17.617Z"
   },
   {
    "duration": 70263,
    "start_time": "2022-03-12T14:09:25.716Z"
   },
   {
    "duration": 6,
    "start_time": "2022-03-12T14:10:38.028Z"
   },
   {
    "duration": 4,
    "start_time": "2022-03-12T14:10:38.788Z"
   },
   {
    "duration": 103287,
    "start_time": "2022-03-12T14:10:52.308Z"
   },
   {
    "duration": -7248,
    "start_time": "2022-03-12T14:12:42.846Z"
   },
   {
    "duration": -7253,
    "start_time": "2022-03-12T14:12:42.852Z"
   },
   {
    "duration": 6,
    "start_time": "2022-03-12T14:12:37.509Z"
   },
   {
    "duration": 4,
    "start_time": "2022-03-12T14:12:37.988Z"
   },
   {
    "duration": 39071,
    "start_time": "2022-03-12T14:12:45.028Z"
   },
   {
    "duration": -7183,
    "start_time": "2022-03-12T14:13:31.287Z"
   },
   {
    "duration": 4,
    "start_time": "2022-03-12T14:13:24.488Z"
   },
   {
    "duration": 1335,
    "start_time": "2022-03-12T14:15:09.064Z"
   },
   {
    "duration": 39,
    "start_time": "2022-03-12T14:15:10.401Z"
   },
   {
    "duration": 10,
    "start_time": "2022-03-12T14:15:10.443Z"
   },
   {
    "duration": 13,
    "start_time": "2022-03-12T14:15:10.455Z"
   },
   {
    "duration": 5,
    "start_time": "2022-03-12T14:15:10.470Z"
   },
   {
    "duration": 10,
    "start_time": "2022-03-12T14:15:10.502Z"
   },
   {
    "duration": 18,
    "start_time": "2022-03-12T14:15:10.514Z"
   },
   {
    "duration": 25,
    "start_time": "2022-03-12T14:15:10.534Z"
   },
   {
    "duration": 91,
    "start_time": "2022-03-12T14:15:10.563Z"
   },
   {
    "duration": 6,
    "start_time": "2022-03-12T14:15:10.656Z"
   },
   {
    "duration": 56,
    "start_time": "2022-03-12T14:15:10.664Z"
   },
   {
    "duration": 7,
    "start_time": "2022-03-12T14:15:10.722Z"
   },
   {
    "duration": 18,
    "start_time": "2022-03-12T14:15:10.730Z"
   },
   {
    "duration": 8,
    "start_time": "2022-03-12T14:15:10.749Z"
   },
   {
    "duration": 13,
    "start_time": "2022-03-12T14:15:10.759Z"
   },
   {
    "duration": 8,
    "start_time": "2022-03-12T14:15:10.801Z"
   },
   {
    "duration": 7,
    "start_time": "2022-03-12T14:15:10.812Z"
   },
   {
    "duration": 21,
    "start_time": "2022-03-12T14:15:10.821Z"
   },
   {
    "duration": 13,
    "start_time": "2022-03-12T14:15:10.844Z"
   },
   {
    "duration": 11,
    "start_time": "2022-03-12T14:15:10.859Z"
   },
   {
    "duration": 29,
    "start_time": "2022-03-12T14:15:10.873Z"
   },
   {
    "duration": 16,
    "start_time": "2022-03-12T14:15:10.905Z"
   },
   {
    "duration": 7,
    "start_time": "2022-03-12T14:15:10.924Z"
   },
   {
    "duration": 31,
    "start_time": "2022-03-12T14:15:10.933Z"
   },
   {
    "duration": 2,
    "start_time": "2022-03-12T14:15:10.967Z"
   },
   {
    "duration": 11,
    "start_time": "2022-03-12T14:15:11.010Z"
   },
   {
    "duration": 5,
    "start_time": "2022-03-12T14:15:11.025Z"
   },
   {
    "duration": 6,
    "start_time": "2022-03-12T14:15:11.032Z"
   },
   {
    "duration": 13,
    "start_time": "2022-03-12T14:15:11.040Z"
   },
   {
    "duration": 5,
    "start_time": "2022-03-12T14:15:11.055Z"
   },
   {
    "duration": 42,
    "start_time": "2022-03-12T14:15:11.062Z"
   },
   {
    "duration": 18,
    "start_time": "2022-03-12T14:15:11.106Z"
   },
   {
    "duration": 612,
    "start_time": "2022-03-12T14:15:11.126Z"
   },
   {
    "duration": 22179,
    "start_time": "2022-03-12T14:15:11.739Z"
   },
   {
    "duration": 2070,
    "start_time": "2022-03-12T14:15:33.920Z"
   },
   {
    "duration": 10,
    "start_time": "2022-03-12T14:15:35.992Z"
   },
   {
    "duration": 24,
    "start_time": "2022-03-12T14:15:36.005Z"
   },
   {
    "duration": 26,
    "start_time": "2022-03-12T14:15:36.031Z"
   },
   {
    "duration": 78,
    "start_time": "2022-03-12T14:15:36.059Z"
   },
   {
    "duration": 730,
    "start_time": "2022-03-12T14:15:36.138Z"
   },
   {
    "duration": 8,
    "start_time": "2022-03-12T14:15:36.870Z"
   },
   {
    "duration": 308,
    "start_time": "2022-03-12T14:15:36.880Z"
   },
   {
    "duration": -7106,
    "start_time": "2022-03-12T14:15:44.296Z"
   },
   {
    "duration": -7131,
    "start_time": "2022-03-12T14:15:44.322Z"
   },
   {
    "duration": -7153,
    "start_time": "2022-03-12T14:15:44.345Z"
   },
   {
    "duration": -7176,
    "start_time": "2022-03-12T14:15:44.369Z"
   },
   {
    "duration": -7198,
    "start_time": "2022-03-12T14:15:44.393Z"
   },
   {
    "duration": -7223,
    "start_time": "2022-03-12T14:15:44.418Z"
   },
   {
    "duration": -7247,
    "start_time": "2022-03-12T14:15:44.443Z"
   },
   {
    "duration": -7268,
    "start_time": "2022-03-12T14:15:44.465Z"
   },
   {
    "duration": 6,
    "start_time": "2022-03-12T14:16:04.936Z"
   },
   {
    "duration": 52169,
    "start_time": "2022-03-12T14:16:10.443Z"
   },
   {
    "duration": 5,
    "start_time": "2022-03-12T14:18:59.107Z"
   },
   {
    "duration": 120211,
    "start_time": "2022-03-12T14:19:04.251Z"
   },
   {
    "duration": 61,
    "start_time": "2022-03-12T14:22:14.622Z"
   },
   {
    "duration": 57,
    "start_time": "2022-03-12T14:22:21.846Z"
   },
   {
    "duration": 56,
    "start_time": "2022-03-12T14:22:24.806Z"
   },
   {
    "duration": 4,
    "start_time": "2022-03-12T14:22:40.894Z"
   },
   {
    "duration": 21699,
    "start_time": "2022-03-12T14:22:48.365Z"
   },
   {
    "duration": -7364,
    "start_time": "2022-03-12T14:23:17.430Z"
   },
   {
    "duration": 7,
    "start_time": "2022-03-12T14:23:11.944Z"
   },
   {
    "duration": 71675,
    "start_time": "2022-03-12T14:23:16.287Z"
   },
   {
    "duration": -7237,
    "start_time": "2022-03-12T14:24:35.202Z"
   },
   {
    "duration": 5,
    "start_time": "2022-03-12T14:24:29.345Z"
   },
   {
    "duration": 1563,
    "start_time": "2022-03-12T17:47:41.277Z"
   },
   {
    "duration": 44,
    "start_time": "2022-03-12T17:47:42.843Z"
   },
   {
    "duration": 1499,
    "start_time": "2022-03-12T17:49:05.911Z"
   },
   {
    "duration": 36,
    "start_time": "2022-03-12T17:49:07.413Z"
   },
   {
    "duration": 12,
    "start_time": "2022-03-12T17:49:07.452Z"
   },
   {
    "duration": 35,
    "start_time": "2022-03-12T17:49:07.467Z"
   },
   {
    "duration": 6,
    "start_time": "2022-03-12T17:49:07.504Z"
   },
   {
    "duration": 10,
    "start_time": "2022-03-12T17:49:07.513Z"
   },
   {
    "duration": 21,
    "start_time": "2022-03-12T17:49:07.525Z"
   },
   {
    "duration": 57,
    "start_time": "2022-03-12T17:49:07.548Z"
   },
   {
    "duration": 98,
    "start_time": "2022-03-12T17:49:07.609Z"
   },
   {
    "duration": 7,
    "start_time": "2022-03-12T17:49:07.710Z"
   },
   {
    "duration": 37,
    "start_time": "2022-03-12T17:49:07.719Z"
   },
   {
    "duration": 35,
    "start_time": "2022-03-12T17:49:07.758Z"
   },
   {
    "duration": 22,
    "start_time": "2022-03-12T17:49:07.795Z"
   },
   {
    "duration": 12,
    "start_time": "2022-03-12T17:49:07.819Z"
   },
   {
    "duration": 22,
    "start_time": "2022-03-12T17:49:07.833Z"
   },
   {
    "duration": 35,
    "start_time": "2022-03-12T17:49:07.857Z"
   },
   {
    "duration": 7,
    "start_time": "2022-03-12T17:49:07.894Z"
   },
   {
    "duration": 17,
    "start_time": "2022-03-12T17:49:07.904Z"
   },
   {
    "duration": 5,
    "start_time": "2022-03-12T17:49:07.924Z"
   },
   {
    "duration": 14,
    "start_time": "2022-03-12T17:49:07.932Z"
   },
   {
    "duration": 47,
    "start_time": "2022-03-12T17:49:07.949Z"
   },
   {
    "duration": 22,
    "start_time": "2022-03-12T17:49:07.999Z"
   },
   {
    "duration": 4,
    "start_time": "2022-03-12T17:49:08.024Z"
   },
   {
    "duration": 74,
    "start_time": "2022-03-12T17:49:08.031Z"
   },
   {
    "duration": 4,
    "start_time": "2022-03-12T17:49:08.108Z"
   },
   {
    "duration": 17,
    "start_time": "2022-03-12T17:49:08.114Z"
   },
   {
    "duration": 6,
    "start_time": "2022-03-12T17:49:08.139Z"
   },
   {
    "duration": 34,
    "start_time": "2022-03-12T17:49:08.153Z"
   },
   {
    "duration": 12,
    "start_time": "2022-03-12T17:49:08.190Z"
   },
   {
    "duration": 4,
    "start_time": "2022-03-12T17:49:08.204Z"
   },
   {
    "duration": 14,
    "start_time": "2022-03-12T17:49:08.210Z"
   },
   {
    "duration": 21,
    "start_time": "2022-03-12T17:49:08.226Z"
   },
   {
    "duration": 796,
    "start_time": "2022-03-12T17:49:08.249Z"
   },
   {
    "duration": 28429,
    "start_time": "2022-03-12T17:49:09.047Z"
   },
   {
    "duration": 2199,
    "start_time": "2022-03-12T17:49:37.478Z"
   },
   {
    "duration": 7,
    "start_time": "2022-03-12T17:49:39.687Z"
   },
   {
    "duration": 7,
    "start_time": "2022-03-12T17:49:39.696Z"
   },
   {
    "duration": 16,
    "start_time": "2022-03-12T17:49:39.706Z"
   },
   {
    "duration": 95,
    "start_time": "2022-03-12T17:49:39.724Z"
   },
   {
    "duration": 143116,
    "start_time": "2022-03-12T17:49:39.821Z"
   },
   {
    "duration": 10,
    "start_time": "2022-03-12T17:52:02.940Z"
   },
   {
    "duration": 439,
    "start_time": "2022-03-12T17:52:02.953Z"
   },
   {
    "duration": -6772,
    "start_time": "2022-03-12T17:52:10.167Z"
   },
   {
    "duration": -6787,
    "start_time": "2022-03-12T17:52:10.184Z"
   },
   {
    "duration": -6792,
    "start_time": "2022-03-12T17:52:10.191Z"
   },
   {
    "duration": -6797,
    "start_time": "2022-03-12T17:52:10.198Z"
   },
   {
    "duration": -6802,
    "start_time": "2022-03-12T17:52:10.205Z"
   },
   {
    "duration": -6806,
    "start_time": "2022-03-12T17:52:10.211Z"
   },
   {
    "duration": -6811,
    "start_time": "2022-03-12T17:52:10.218Z"
   },
   {
    "duration": -6815,
    "start_time": "2022-03-12T17:52:10.225Z"
   },
   {
    "duration": 19124,
    "start_time": "2022-03-12T17:54:53.990Z"
   },
   {
    "duration": 11,
    "start_time": "2022-03-12T17:56:34.467Z"
   },
   {
    "duration": 50163,
    "start_time": "2022-03-12T17:56:34.849Z"
   },
   {
    "duration": 4,
    "start_time": "2022-03-12T18:00:09.739Z"
   },
   {
    "duration": 582,
    "start_time": "2022-03-12T18:00:10.631Z"
   },
   {
    "duration": 5,
    "start_time": "2022-03-12T18:05:48.534Z"
   },
   {
    "duration": 525,
    "start_time": "2022-03-12T18:05:52.172Z"
   },
   {
    "duration": 4,
    "start_time": "2022-03-12T18:07:15.518Z"
   },
   {
    "duration": 166025,
    "start_time": "2022-03-12T18:07:16.070Z"
   },
   {
    "duration": 8,
    "start_time": "2022-03-12T18:10:52.034Z"
   },
   {
    "duration": 284,
    "start_time": "2022-03-12T18:10:53.370Z"
   },
   {
    "duration": 284,
    "start_time": "2022-03-12T18:11:14.311Z"
   },
   {
    "duration": 279,
    "start_time": "2022-03-12T18:11:52.334Z"
   },
   {
    "duration": 3746,
    "start_time": "2022-03-12T18:14:34.291Z"
   },
   {
    "duration": 2646,
    "start_time": "2022-03-12T18:16:21.591Z"
   },
   {
    "duration": 17962,
    "start_time": "2022-03-12T18:16:45.958Z"
   },
   {
    "duration": 1594,
    "start_time": "2022-03-12T18:17:19.356Z"
   },
   {
    "duration": 44,
    "start_time": "2022-03-12T18:17:20.954Z"
   },
   {
    "duration": 13,
    "start_time": "2022-03-12T18:17:21.001Z"
   },
   {
    "duration": 24,
    "start_time": "2022-03-12T18:17:21.017Z"
   },
   {
    "duration": 15,
    "start_time": "2022-03-12T18:17:21.044Z"
   },
   {
    "duration": 32,
    "start_time": "2022-03-12T18:17:21.063Z"
   },
   {
    "duration": 38,
    "start_time": "2022-03-12T18:17:21.099Z"
   },
   {
    "duration": 57,
    "start_time": "2022-03-12T18:17:21.140Z"
   },
   {
    "duration": 100,
    "start_time": "2022-03-12T18:17:21.203Z"
   },
   {
    "duration": 7,
    "start_time": "2022-03-12T18:17:21.308Z"
   },
   {
    "duration": 52,
    "start_time": "2022-03-12T18:17:21.317Z"
   },
   {
    "duration": 13,
    "start_time": "2022-03-12T18:17:21.389Z"
   },
   {
    "duration": 25,
    "start_time": "2022-03-12T18:17:21.404Z"
   },
   {
    "duration": 10,
    "start_time": "2022-03-12T18:17:21.433Z"
   },
   {
    "duration": 49,
    "start_time": "2022-03-12T18:17:21.446Z"
   },
   {
    "duration": 22,
    "start_time": "2022-03-12T18:17:21.498Z"
   },
   {
    "duration": 20,
    "start_time": "2022-03-12T18:17:21.523Z"
   },
   {
    "duration": 20,
    "start_time": "2022-03-12T18:17:21.545Z"
   },
   {
    "duration": 4,
    "start_time": "2022-03-12T18:17:21.568Z"
   },
   {
    "duration": 18,
    "start_time": "2022-03-12T18:17:21.575Z"
   },
   {
    "duration": 27,
    "start_time": "2022-03-12T18:17:21.596Z"
   },
   {
    "duration": 43,
    "start_time": "2022-03-12T18:17:21.626Z"
   },
   {
    "duration": 16,
    "start_time": "2022-03-12T18:17:21.672Z"
   },
   {
    "duration": 56,
    "start_time": "2022-03-12T18:17:21.691Z"
   },
   {
    "duration": 3,
    "start_time": "2022-03-12T18:17:21.749Z"
   },
   {
    "duration": 35,
    "start_time": "2022-03-12T18:17:21.756Z"
   },
   {
    "duration": 6,
    "start_time": "2022-03-12T18:17:21.797Z"
   },
   {
    "duration": 16,
    "start_time": "2022-03-12T18:17:21.807Z"
   },
   {
    "duration": 34,
    "start_time": "2022-03-12T18:17:21.825Z"
   },
   {
    "duration": 21,
    "start_time": "2022-03-12T18:17:21.862Z"
   },
   {
    "duration": 49,
    "start_time": "2022-03-12T18:17:21.886Z"
   },
   {
    "duration": 44,
    "start_time": "2022-03-12T18:17:21.938Z"
   },
   {
    "duration": 944,
    "start_time": "2022-03-12T18:17:21.985Z"
   },
   {
    "duration": 33183,
    "start_time": "2022-03-12T18:17:22.931Z"
   },
   {
    "duration": 2471,
    "start_time": "2022-03-12T18:17:56.116Z"
   },
   {
    "duration": 6,
    "start_time": "2022-03-12T18:17:58.590Z"
   },
   {
    "duration": 11,
    "start_time": "2022-03-12T18:17:58.599Z"
   },
   {
    "duration": 19,
    "start_time": "2022-03-12T18:17:58.613Z"
   },
   {
    "duration": 121,
    "start_time": "2022-03-12T18:17:58.635Z"
   },
   {
    "duration": 160968,
    "start_time": "2022-03-12T18:17:58.759Z"
   },
   {
    "duration": 11,
    "start_time": "2022-03-12T18:20:39.730Z"
   },
   {
    "duration": 20011,
    "start_time": "2022-03-12T18:20:39.744Z"
   },
   {
    "duration": 11,
    "start_time": "2022-03-12T18:20:59.757Z"
   },
   {
    "duration": 50046,
    "start_time": "2022-03-12T18:20:59.770Z"
   },
   {
    "duration": 4,
    "start_time": "2022-03-12T18:21:49.819Z"
   },
   {
    "duration": 6,
    "start_time": "2022-03-12T18:21:49.826Z"
   },
   {
    "duration": 170085,
    "start_time": "2022-03-12T18:21:49.835Z"
   },
   {
    "duration": 8,
    "start_time": "2022-03-12T18:24:39.922Z"
   },
   {
    "duration": 5049,
    "start_time": "2022-03-12T18:24:39.933Z"
   },
   {
    "duration": 506,
    "start_time": "2022-03-12T18:24:44.985Z"
   },
   {
    "duration": -6674,
    "start_time": "2022-03-12T18:24:52.168Z"
   },
   {
    "duration": 213,
    "start_time": "2022-03-12T18:28:57.406Z"
   },
   {
    "duration": 297,
    "start_time": "2022-03-12T18:42:47.140Z"
   },
   {
    "duration": 310,
    "start_time": "2022-03-12T18:42:56.515Z"
   },
   {
    "duration": 19,
    "start_time": "2022-03-12T18:43:30.508Z"
   },
   {
    "duration": 2043,
    "start_time": "2022-03-12T18:44:13.528Z"
   },
   {
    "duration": 214,
    "start_time": "2022-03-12T18:45:23.595Z"
   },
   {
    "duration": 1701,
    "start_time": "2022-03-12T18:45:46.554Z"
   },
   {
    "duration": 42,
    "start_time": "2022-03-12T18:45:48.257Z"
   },
   {
    "duration": 11,
    "start_time": "2022-03-12T18:45:48.302Z"
   },
   {
    "duration": 18,
    "start_time": "2022-03-12T18:45:48.316Z"
   },
   {
    "duration": 4,
    "start_time": "2022-03-12T18:45:48.337Z"
   },
   {
    "duration": 47,
    "start_time": "2022-03-12T18:45:48.344Z"
   },
   {
    "duration": 22,
    "start_time": "2022-03-12T18:45:48.393Z"
   },
   {
    "duration": 23,
    "start_time": "2022-03-12T18:45:48.417Z"
   },
   {
    "duration": 105,
    "start_time": "2022-03-12T18:45:48.444Z"
   },
   {
    "duration": 34,
    "start_time": "2022-03-12T18:45:48.553Z"
   },
   {
    "duration": 46,
    "start_time": "2022-03-12T18:45:48.589Z"
   },
   {
    "duration": 9,
    "start_time": "2022-03-12T18:45:48.638Z"
   },
   {
    "duration": 51,
    "start_time": "2022-03-12T18:45:48.649Z"
   },
   {
    "duration": 12,
    "start_time": "2022-03-12T18:45:48.703Z"
   },
   {
    "duration": 16,
    "start_time": "2022-03-12T18:45:48.718Z"
   },
   {
    "duration": 13,
    "start_time": "2022-03-12T18:45:48.737Z"
   },
   {
    "duration": 5,
    "start_time": "2022-03-12T18:45:48.788Z"
   },
   {
    "duration": 20,
    "start_time": "2022-03-12T18:45:48.795Z"
   },
   {
    "duration": 4,
    "start_time": "2022-03-12T18:45:48.817Z"
   },
   {
    "duration": 14,
    "start_time": "2022-03-12T18:45:48.823Z"
   },
   {
    "duration": 52,
    "start_time": "2022-03-12T18:45:48.841Z"
   },
   {
    "duration": 28,
    "start_time": "2022-03-12T18:45:48.896Z"
   },
   {
    "duration": 4,
    "start_time": "2022-03-12T18:45:48.927Z"
   },
   {
    "duration": 74,
    "start_time": "2022-03-12T18:45:48.934Z"
   },
   {
    "duration": 3,
    "start_time": "2022-03-12T18:45:49.010Z"
   },
   {
    "duration": 17,
    "start_time": "2022-03-12T18:45:49.015Z"
   },
   {
    "duration": 6,
    "start_time": "2022-03-12T18:45:49.038Z"
   },
   {
    "duration": 7,
    "start_time": "2022-03-12T18:45:49.047Z"
   },
   {
    "duration": 11,
    "start_time": "2022-03-12T18:45:49.088Z"
   },
   {
    "duration": 4,
    "start_time": "2022-03-12T18:45:49.102Z"
   },
   {
    "duration": 12,
    "start_time": "2022-03-12T18:45:49.109Z"
   },
   {
    "duration": 19,
    "start_time": "2022-03-12T18:45:49.124Z"
   },
   {
    "duration": 819,
    "start_time": "2022-03-12T18:45:49.146Z"
   },
   {
    "duration": 36657,
    "start_time": "2022-03-12T18:45:49.968Z"
   },
   {
    "duration": 2941,
    "start_time": "2022-03-12T18:46:26.628Z"
   },
   {
    "duration": 19,
    "start_time": "2022-03-12T18:46:29.572Z"
   },
   {
    "duration": 13,
    "start_time": "2022-03-12T18:46:29.593Z"
   },
   {
    "duration": 13,
    "start_time": "2022-03-12T18:46:29.608Z"
   },
   {
    "duration": 104,
    "start_time": "2022-03-12T18:46:29.624Z"
   },
   {
    "duration": 144057,
    "start_time": "2022-03-12T18:46:29.730Z"
   },
   {
    "duration": 10,
    "start_time": "2022-03-12T18:48:53.789Z"
   },
   {
    "duration": 19836,
    "start_time": "2022-03-12T18:48:53.801Z"
   },
   {
    "duration": 10,
    "start_time": "2022-03-12T18:49:13.639Z"
   },
   {
    "duration": 50428,
    "start_time": "2022-03-12T18:49:13.651Z"
   },
   {
    "duration": 5,
    "start_time": "2022-03-12T18:50:04.086Z"
   },
   {
    "duration": 9,
    "start_time": "2022-03-12T18:50:04.093Z"
   },
   {
    "duration": 167140,
    "start_time": "2022-03-12T18:50:04.104Z"
   },
   {
    "duration": 8,
    "start_time": "2022-03-12T18:52:51.246Z"
   },
   {
    "duration": 3414,
    "start_time": "2022-03-12T18:52:51.256Z"
   },
   {
    "duration": 3035,
    "start_time": "2022-03-12T18:52:54.673Z"
   },
   {
    "duration": 18,
    "start_time": "2022-03-12T18:52:57.710Z"
   },
   {
    "duration": 2013,
    "start_time": "2022-03-12T18:52:57.730Z"
   },
   {
    "duration": 204,
    "start_time": "2022-03-12T18:52:59.745Z"
   },
   {
    "duration": 1533,
    "start_time": "2022-03-12T19:11:30.035Z"
   },
   {
    "duration": 44,
    "start_time": "2022-03-12T19:11:31.571Z"
   },
   {
    "duration": 13,
    "start_time": "2022-03-12T19:11:31.618Z"
   },
   {
    "duration": 22,
    "start_time": "2022-03-12T19:11:31.634Z"
   },
   {
    "duration": 29,
    "start_time": "2022-03-12T19:11:31.658Z"
   },
   {
    "duration": 17,
    "start_time": "2022-03-12T19:11:31.690Z"
   },
   {
    "duration": 49,
    "start_time": "2022-03-12T19:11:31.710Z"
   },
   {
    "duration": 20,
    "start_time": "2022-03-12T19:11:31.761Z"
   },
   {
    "duration": 72,
    "start_time": "2022-03-12T19:11:31.789Z"
   },
   {
    "duration": 7,
    "start_time": "2022-03-12T19:11:31.888Z"
   },
   {
    "duration": 38,
    "start_time": "2022-03-12T19:11:31.898Z"
   },
   {
    "duration": 8,
    "start_time": "2022-03-12T19:11:31.939Z"
   },
   {
    "duration": 56,
    "start_time": "2022-03-12T19:11:31.949Z"
   },
   {
    "duration": 8,
    "start_time": "2022-03-12T19:11:32.007Z"
   },
   {
    "duration": 17,
    "start_time": "2022-03-12T19:11:32.018Z"
   },
   {
    "duration": 8,
    "start_time": "2022-03-12T19:11:32.037Z"
   },
   {
    "duration": 49,
    "start_time": "2022-03-12T19:11:32.047Z"
   },
   {
    "duration": 19,
    "start_time": "2022-03-12T19:11:32.099Z"
   },
   {
    "duration": 4,
    "start_time": "2022-03-12T19:11:32.120Z"
   },
   {
    "duration": 15,
    "start_time": "2022-03-12T19:11:32.126Z"
   },
   {
    "duration": 19,
    "start_time": "2022-03-12T19:11:32.143Z"
   },
   {
    "duration": 32,
    "start_time": "2022-03-12T19:11:32.164Z"
   },
   {
    "duration": 6,
    "start_time": "2022-03-12T19:11:32.198Z"
   },
   {
    "duration": 52,
    "start_time": "2022-03-12T19:11:32.207Z"
   },
   {
    "duration": 3,
    "start_time": "2022-03-12T19:11:32.261Z"
   },
   {
    "duration": 28,
    "start_time": "2022-03-12T19:11:32.267Z"
   },
   {
    "duration": 8,
    "start_time": "2022-03-12T19:11:32.300Z"
   },
   {
    "duration": 11,
    "start_time": "2022-03-12T19:11:32.311Z"
   },
   {
    "duration": 22,
    "start_time": "2022-03-12T19:11:32.324Z"
   },
   {
    "duration": 4,
    "start_time": "2022-03-12T19:11:32.349Z"
   },
   {
    "duration": 33,
    "start_time": "2022-03-12T19:11:32.356Z"
   },
   {
    "duration": 17,
    "start_time": "2022-03-12T19:11:32.391Z"
   },
   {
    "duration": 800,
    "start_time": "2022-03-12T19:11:32.410Z"
   },
   {
    "duration": 28523,
    "start_time": "2022-03-12T19:11:33.212Z"
   },
   {
    "duration": 2721,
    "start_time": "2022-03-12T19:12:01.738Z"
   },
   {
    "duration": 24,
    "start_time": "2022-03-12T19:12:04.463Z"
   },
   {
    "duration": 11,
    "start_time": "2022-03-12T19:12:04.490Z"
   },
   {
    "duration": 17,
    "start_time": "2022-03-12T19:12:04.503Z"
   },
   {
    "duration": 86,
    "start_time": "2022-03-12T19:12:04.522Z"
   },
   {
    "duration": 91691,
    "start_time": "2022-03-12T19:12:04.611Z"
   },
   {
    "duration": 9,
    "start_time": "2022-03-12T19:13:36.305Z"
   },
   {
    "duration": 23731,
    "start_time": "2022-03-12T19:13:36.317Z"
   },
   {
    "duration": 11,
    "start_time": "2022-03-12T19:14:00.050Z"
   },
   {
    "duration": 79110,
    "start_time": "2022-03-12T19:14:00.063Z"
   },
   {
    "duration": 12,
    "start_time": "2022-03-12T19:15:19.175Z"
   },
   {
    "duration": 8,
    "start_time": "2022-03-12T19:15:19.190Z"
   },
   {
    "duration": 169698,
    "start_time": "2022-03-12T19:15:19.201Z"
   },
   {
    "duration": 7,
    "start_time": "2022-03-12T19:18:08.902Z"
   },
   {
    "duration": 3404,
    "start_time": "2022-03-12T19:18:08.911Z"
   },
   {
    "duration": 3128,
    "start_time": "2022-03-12T19:18:12.317Z"
   },
   {
    "duration": 20,
    "start_time": "2022-03-12T19:18:15.447Z"
   },
   {
    "duration": 1995,
    "start_time": "2022-03-12T19:18:15.486Z"
   },
   {
    "duration": 207,
    "start_time": "2022-03-12T19:18:17.483Z"
   },
   {
    "duration": 1549,
    "start_time": "2022-03-13T07:36:08.596Z"
   },
   {
    "duration": 50,
    "start_time": "2022-03-13T07:36:10.148Z"
   },
   {
    "duration": 13,
    "start_time": "2022-03-13T07:36:10.202Z"
   },
   {
    "duration": 20,
    "start_time": "2022-03-13T07:36:10.218Z"
   },
   {
    "duration": 12,
    "start_time": "2022-03-13T07:36:10.241Z"
   },
   {
    "duration": 38,
    "start_time": "2022-03-13T07:36:10.256Z"
   },
   {
    "duration": 34,
    "start_time": "2022-03-13T07:36:10.297Z"
   },
   {
    "duration": 24,
    "start_time": "2022-03-13T07:36:10.333Z"
   },
   {
    "duration": 93,
    "start_time": "2022-03-13T07:36:10.361Z"
   },
   {
    "duration": 25,
    "start_time": "2022-03-13T07:36:10.457Z"
   },
   {
    "duration": 49,
    "start_time": "2022-03-13T07:36:10.485Z"
   },
   {
    "duration": 9,
    "start_time": "2022-03-13T07:36:10.537Z"
   },
   {
    "duration": 42,
    "start_time": "2022-03-13T07:36:10.548Z"
   },
   {
    "duration": 10,
    "start_time": "2022-03-13T07:36:10.592Z"
   },
   {
    "duration": 18,
    "start_time": "2022-03-13T07:36:10.605Z"
   },
   {
    "duration": 19,
    "start_time": "2022-03-13T07:36:10.626Z"
   },
   {
    "duration": 21,
    "start_time": "2022-03-13T07:36:10.647Z"
   },
   {
    "duration": 31,
    "start_time": "2022-03-13T07:36:10.670Z"
   },
   {
    "duration": 7,
    "start_time": "2022-03-13T07:36:10.704Z"
   },
   {
    "duration": 20,
    "start_time": "2022-03-13T07:36:10.714Z"
   },
   {
    "duration": 20,
    "start_time": "2022-03-13T07:36:10.736Z"
   },
   {
    "duration": 28,
    "start_time": "2022-03-13T07:36:10.758Z"
   },
   {
    "duration": 13,
    "start_time": "2022-03-13T07:36:10.788Z"
   },
   {
    "duration": 47,
    "start_time": "2022-03-13T07:36:10.803Z"
   },
   {
    "duration": 4,
    "start_time": "2022-03-13T07:36:10.853Z"
   },
   {
    "duration": 38,
    "start_time": "2022-03-13T07:36:10.860Z"
   },
   {
    "duration": 7,
    "start_time": "2022-03-13T07:36:10.906Z"
   },
   {
    "duration": 17,
    "start_time": "2022-03-13T07:36:10.917Z"
   },
   {
    "duration": 14,
    "start_time": "2022-03-13T07:36:10.937Z"
   },
   {
    "duration": 7,
    "start_time": "2022-03-13T07:36:10.954Z"
   },
   {
    "duration": 42,
    "start_time": "2022-03-13T07:36:10.963Z"
   },
   {
    "duration": 25,
    "start_time": "2022-03-13T07:36:11.008Z"
   },
   {
    "duration": 2302,
    "start_time": "2022-03-13T07:36:11.036Z"
   },
   {
    "duration": 27603,
    "start_time": "2022-03-13T07:36:13.340Z"
   },
   {
    "duration": 774,
    "start_time": "2022-03-13T07:36:40.945Z"
   },
   {
    "duration": 382,
    "start_time": "2022-03-13T07:36:41.722Z"
   },
   {
    "duration": -7701,
    "start_time": "2022-03-13T07:36:49.808Z"
   },
   {
    "duration": -7724,
    "start_time": "2022-03-13T07:36:49.833Z"
   },
   {
    "duration": -7746,
    "start_time": "2022-03-13T07:36:49.858Z"
   },
   {
    "duration": -7769,
    "start_time": "2022-03-13T07:36:49.883Z"
   },
   {
    "duration": -7793,
    "start_time": "2022-03-13T07:36:49.909Z"
   },
   {
    "duration": -7817,
    "start_time": "2022-03-13T07:36:49.935Z"
   },
   {
    "duration": -7841,
    "start_time": "2022-03-13T07:36:49.961Z"
   },
   {
    "duration": -7861,
    "start_time": "2022-03-13T07:36:49.984Z"
   },
   {
    "duration": -7884,
    "start_time": "2022-03-13T07:36:50.009Z"
   },
   {
    "duration": -7905,
    "start_time": "2022-03-13T07:36:50.032Z"
   },
   {
    "duration": -7936,
    "start_time": "2022-03-13T07:36:50.065Z"
   },
   {
    "duration": -7958,
    "start_time": "2022-03-13T07:36:50.089Z"
   },
   {
    "duration": -7980,
    "start_time": "2022-03-13T07:36:50.113Z"
   },
   {
    "duration": -8003,
    "start_time": "2022-03-13T07:36:50.138Z"
   },
   {
    "duration": -8025,
    "start_time": "2022-03-13T07:36:50.162Z"
   },
   {
    "duration": -8048,
    "start_time": "2022-03-13T07:36:50.187Z"
   },
   {
    "duration": -8069,
    "start_time": "2022-03-13T07:36:50.211Z"
   },
   {
    "duration": -8037,
    "start_time": "2022-03-13T07:36:50.218Z"
   },
   {
    "duration": 520,
    "start_time": "2022-03-13T07:37:21.403Z"
   },
   {
    "duration": 155,
    "start_time": "2022-03-13T07:39:59.714Z"
   },
   {
    "duration": 82,
    "start_time": "2022-03-13T07:40:17.812Z"
   },
   {
    "duration": -8642,
    "start_time": "2022-03-13T07:40:26.538Z"
   },
   {
    "duration": 11,
    "start_time": "2022-03-13T07:40:49.410Z"
   },
   {
    "duration": 242,
    "start_time": "2022-03-13T07:40:49.861Z"
   },
   {
    "duration": 12,
    "start_time": "2022-03-13T07:41:05.131Z"
   },
   {
    "duration": 244,
    "start_time": "2022-03-13T07:41:05.510Z"
   },
   {
    "duration": 370,
    "start_time": "2022-03-13T07:41:21.739Z"
   },
   {
    "duration": 229,
    "start_time": "2022-03-13T07:41:40.338Z"
   },
   {
    "duration": 3,
    "start_time": "2022-03-13T07:44:37.953Z"
   },
   {
    "duration": 559,
    "start_time": "2022-03-13T07:44:41.603Z"
   },
   {
    "duration": 11,
    "start_time": "2022-03-13T07:45:02.596Z"
   },
   {
    "duration": 2340,
    "start_time": "2022-03-13T07:45:06.713Z"
   },
   {
    "duration": 5,
    "start_time": "2022-03-13T07:45:44.148Z"
   },
   {
    "duration": 5,
    "start_time": "2022-03-13T07:46:23.659Z"
   },
   {
    "duration": 5,
    "start_time": "2022-03-13T07:46:28.699Z"
   },
   {
    "duration": 4,
    "start_time": "2022-03-13T07:48:03.107Z"
   },
   {
    "duration": 2117,
    "start_time": "2022-03-13T07:48:04.508Z"
   },
   {
    "duration": 6,
    "start_time": "2022-03-13T07:48:26.076Z"
   },
   {
    "duration": 11,
    "start_time": "2022-03-13T07:50:04.229Z"
   },
   {
    "duration": 2601,
    "start_time": "2022-03-13T07:50:13.568Z"
   },
   {
    "duration": 5,
    "start_time": "2022-03-13T07:56:50.233Z"
   },
   {
    "duration": 2889,
    "start_time": "2022-03-13T07:57:03.667Z"
   },
   {
    "duration": 2243,
    "start_time": "2022-03-13T07:57:34.047Z"
   },
   {
    "duration": 11,
    "start_time": "2022-03-13T07:57:49.570Z"
   },
   {
    "duration": 2316,
    "start_time": "2022-03-13T07:57:56.056Z"
   },
   {
    "duration": 2979,
    "start_time": "2022-03-13T07:58:08.856Z"
   },
   {
    "duration": 12,
    "start_time": "2022-03-13T07:59:10.470Z"
   },
   {
    "duration": 4,
    "start_time": "2022-03-13T08:00:12.509Z"
   },
   {
    "duration": 11,
    "start_time": "2022-03-13T08:00:51.207Z"
   },
   {
    "duration": 84,
    "start_time": "2022-03-13T08:01:01.908Z"
   },
   {
    "duration": 4,
    "start_time": "2022-03-13T08:01:19.756Z"
   },
   {
    "duration": 1527,
    "start_time": "2022-03-13T08:01:36.596Z"
   },
   {
    "duration": 38,
    "start_time": "2022-03-13T08:01:38.127Z"
   },
   {
    "duration": 21,
    "start_time": "2022-03-13T08:01:38.169Z"
   },
   {
    "duration": 20,
    "start_time": "2022-03-13T08:01:38.195Z"
   },
   {
    "duration": 6,
    "start_time": "2022-03-13T08:01:38.218Z"
   },
   {
    "duration": 9,
    "start_time": "2022-03-13T08:01:38.226Z"
   },
   {
    "duration": 60,
    "start_time": "2022-03-13T08:01:38.237Z"
   },
   {
    "duration": 20,
    "start_time": "2022-03-13T08:01:38.299Z"
   },
   {
    "duration": 105,
    "start_time": "2022-03-13T08:01:38.324Z"
   },
   {
    "duration": 7,
    "start_time": "2022-03-13T08:01:38.432Z"
   },
   {
    "duration": 67,
    "start_time": "2022-03-13T08:01:38.441Z"
   },
   {
    "duration": 8,
    "start_time": "2022-03-13T08:01:38.511Z"
   },
   {
    "duration": 27,
    "start_time": "2022-03-13T08:01:38.521Z"
   },
   {
    "duration": 10,
    "start_time": "2022-03-13T08:01:38.551Z"
   },
   {
    "duration": 42,
    "start_time": "2022-03-13T08:01:38.564Z"
   },
   {
    "duration": 23,
    "start_time": "2022-03-13T08:01:38.608Z"
   },
   {
    "duration": 10,
    "start_time": "2022-03-13T08:01:38.634Z"
   },
   {
    "duration": 33,
    "start_time": "2022-03-13T08:01:38.647Z"
   },
   {
    "duration": 4,
    "start_time": "2022-03-13T08:01:38.683Z"
   },
   {
    "duration": 23,
    "start_time": "2022-03-13T08:01:38.689Z"
   },
   {
    "duration": 26,
    "start_time": "2022-03-13T08:01:38.714Z"
   },
   {
    "duration": 23,
    "start_time": "2022-03-13T08:01:38.743Z"
   },
   {
    "duration": 8,
    "start_time": "2022-03-13T08:01:38.769Z"
   },
   {
    "duration": 61,
    "start_time": "2022-03-13T08:01:38.779Z"
   },
   {
    "duration": 3,
    "start_time": "2022-03-13T08:01:38.843Z"
   },
   {
    "duration": 43,
    "start_time": "2022-03-13T08:01:38.848Z"
   },
   {
    "duration": 6,
    "start_time": "2022-03-13T08:01:38.898Z"
   },
   {
    "duration": 6,
    "start_time": "2022-03-13T08:01:38.907Z"
   },
   {
    "duration": 23,
    "start_time": "2022-03-13T08:01:38.916Z"
   },
   {
    "duration": 6,
    "start_time": "2022-03-13T08:01:38.941Z"
   },
   {
    "duration": 11,
    "start_time": "2022-03-13T08:01:38.950Z"
   },
   {
    "duration": 18,
    "start_time": "2022-03-13T08:01:38.983Z"
   },
   {
    "duration": 11,
    "start_time": "2022-03-13T08:01:39.004Z"
   },
   {
    "duration": 2816,
    "start_time": "2022-03-13T08:01:39.017Z"
   },
   {
    "duration": -7477,
    "start_time": "2022-03-13T08:01:49.313Z"
   },
   {
    "duration": -7494,
    "start_time": "2022-03-13T08:01:49.332Z"
   },
   {
    "duration": -7500,
    "start_time": "2022-03-13T08:01:49.339Z"
   },
   {
    "duration": -7504,
    "start_time": "2022-03-13T08:01:49.345Z"
   },
   {
    "duration": -7510,
    "start_time": "2022-03-13T08:01:49.353Z"
   },
   {
    "duration": -7515,
    "start_time": "2022-03-13T08:01:49.359Z"
   },
   {
    "duration": -7519,
    "start_time": "2022-03-13T08:01:49.366Z"
   },
   {
    "duration": -7524,
    "start_time": "2022-03-13T08:01:49.373Z"
   },
   {
    "duration": -7539,
    "start_time": "2022-03-13T08:01:49.390Z"
   },
   {
    "duration": -7515,
    "start_time": "2022-03-13T08:01:49.396Z"
   },
   {
    "duration": -7516,
    "start_time": "2022-03-13T08:01:49.402Z"
   },
   {
    "duration": -7522,
    "start_time": "2022-03-13T08:01:49.410Z"
   },
   {
    "duration": -7527,
    "start_time": "2022-03-13T08:01:49.416Z"
   },
   {
    "duration": -7532,
    "start_time": "2022-03-13T08:01:49.423Z"
   },
   {
    "duration": -7536,
    "start_time": "2022-03-13T08:01:49.429Z"
   },
   {
    "duration": -7541,
    "start_time": "2022-03-13T08:01:49.435Z"
   },
   {
    "duration": -7547,
    "start_time": "2022-03-13T08:01:49.442Z"
   },
   {
    "duration": -7550,
    "start_time": "2022-03-13T08:01:49.448Z"
   },
   {
    "duration": -7554,
    "start_time": "2022-03-13T08:01:49.454Z"
   },
   {
    "duration": -7558,
    "start_time": "2022-03-13T08:01:49.460Z"
   },
   {
    "duration": -7612,
    "start_time": "2022-03-13T08:01:49.515Z"
   },
   {
    "duration": 2532,
    "start_time": "2022-03-13T08:04:19.755Z"
   },
   {
    "duration": 2387,
    "start_time": "2022-03-13T08:04:53.971Z"
   },
   {
    "duration": 12,
    "start_time": "2022-03-13T08:08:04.520Z"
   },
   {
    "duration": 14,
    "start_time": "2022-03-13T08:08:15.780Z"
   },
   {
    "duration": 2445,
    "start_time": "2022-03-13T08:08:26.868Z"
   },
   {
    "duration": 28603,
    "start_time": "2022-03-13T08:08:52.408Z"
   },
   {
    "duration": 928,
    "start_time": "2022-03-13T08:09:21.015Z"
   },
   {
    "duration": 13,
    "start_time": "2022-03-13T08:10:20.334Z"
   },
   {
    "duration": 961,
    "start_time": "2022-03-13T08:10:42.424Z"
   },
   {
    "duration": 956,
    "start_time": "2022-03-13T08:10:52.224Z"
   },
   {
    "duration": 11,
    "start_time": "2022-03-13T08:11:02.198Z"
   },
   {
    "duration": 837,
    "start_time": "2022-03-13T08:11:02.515Z"
   },
   {
    "duration": 15,
    "start_time": "2022-03-13T08:11:25.888Z"
   },
   {
    "duration": 787,
    "start_time": "2022-03-13T08:11:26.454Z"
   },
   {
    "duration": 380,
    "start_time": "2022-03-13T08:11:31.804Z"
   },
   {
    "duration": 497,
    "start_time": "2022-03-13T08:12:01.296Z"
   },
   {
    "duration": 249,
    "start_time": "2022-03-13T08:18:55.392Z"
   },
   {
    "duration": 740,
    "start_time": "2022-03-13T08:19:26.284Z"
   },
   {
    "duration": 347,
    "start_time": "2022-03-13T08:19:31.025Z"
   },
   {
    "duration": 10,
    "start_time": "2022-03-13T08:20:33.865Z"
   },
   {
    "duration": 10,
    "start_time": "2022-03-13T08:20:40.712Z"
   },
   {
    "duration": 4639,
    "start_time": "2022-03-13T08:20:58.264Z"
   },
   {
    "duration": 8,
    "start_time": "2022-03-13T08:21:10.824Z"
   },
   {
    "duration": 490,
    "start_time": "2022-03-13T08:21:38.123Z"
   },
   {
    "duration": 6,
    "start_time": "2022-03-13T08:22:10.344Z"
   },
   {
    "duration": 886,
    "start_time": "2022-03-13T08:22:19.104Z"
   },
   {
    "duration": 997,
    "start_time": "2022-03-13T08:22:30.804Z"
   },
   {
    "duration": 743,
    "start_time": "2022-03-13T08:22:38.560Z"
   },
   {
    "duration": 402,
    "start_time": "2022-03-13T08:22:53.463Z"
   },
   {
    "duration": 494,
    "start_time": "2022-03-13T08:24:14.599Z"
   },
   {
    "duration": 506,
    "start_time": "2022-03-13T08:24:29.294Z"
   },
   {
    "duration": 360,
    "start_time": "2022-03-13T08:24:43.223Z"
   },
   {
    "duration": 345,
    "start_time": "2022-03-13T08:24:50.324Z"
   },
   {
    "duration": 753,
    "start_time": "2022-03-13T08:25:14.564Z"
   },
   {
    "duration": 389,
    "start_time": "2022-03-13T08:25:21.240Z"
   },
   {
    "duration": 399,
    "start_time": "2022-03-13T08:25:46.203Z"
   },
   {
    "duration": 525,
    "start_time": "2022-03-13T08:26:05.651Z"
   },
   {
    "duration": 363,
    "start_time": "2022-03-13T08:26:14.523Z"
   },
   {
    "duration": 418,
    "start_time": "2022-03-13T08:28:06.253Z"
   },
   {
    "duration": 473,
    "start_time": "2022-03-13T08:28:12.892Z"
   },
   {
    "duration": 529,
    "start_time": "2022-03-13T08:32:39.670Z"
   },
   {
    "duration": 6,
    "start_time": "2022-03-13T08:33:24.151Z"
   },
   {
    "duration": 414,
    "start_time": "2022-03-13T08:34:10.558Z"
   },
   {
    "duration": 2793,
    "start_time": "2022-03-13T08:38:07.317Z"
   },
   {
    "duration": 2664,
    "start_time": "2022-03-13T08:38:17.390Z"
   },
   {
    "duration": 439,
    "start_time": "2022-03-13T08:38:42.729Z"
   },
   {
    "duration": 1479,
    "start_time": "2022-03-13T08:39:44.610Z"
   },
   {
    "duration": 37,
    "start_time": "2022-03-13T08:39:46.092Z"
   },
   {
    "duration": 11,
    "start_time": "2022-03-13T08:39:46.132Z"
   },
   {
    "duration": 38,
    "start_time": "2022-03-13T08:39:46.145Z"
   },
   {
    "duration": 5,
    "start_time": "2022-03-13T08:39:46.185Z"
   },
   {
    "duration": 10,
    "start_time": "2022-03-13T08:39:46.193Z"
   },
   {
    "duration": 21,
    "start_time": "2022-03-13T08:39:46.206Z"
   },
   {
    "duration": 54,
    "start_time": "2022-03-13T08:39:46.229Z"
   },
   {
    "duration": 99,
    "start_time": "2022-03-13T08:39:46.288Z"
   },
   {
    "duration": 9,
    "start_time": "2022-03-13T08:39:46.390Z"
   },
   {
    "duration": 47,
    "start_time": "2022-03-13T08:39:46.401Z"
   },
   {
    "duration": 35,
    "start_time": "2022-03-13T08:39:46.451Z"
   },
   {
    "duration": 22,
    "start_time": "2022-03-13T08:39:46.488Z"
   },
   {
    "duration": 9,
    "start_time": "2022-03-13T08:39:46.512Z"
   },
   {
    "duration": 14,
    "start_time": "2022-03-13T08:39:46.524Z"
   },
   {
    "duration": 48,
    "start_time": "2022-03-13T08:39:46.540Z"
   },
   {
    "duration": 5,
    "start_time": "2022-03-13T08:39:46.591Z"
   },
   {
    "duration": 17,
    "start_time": "2022-03-13T08:39:46.598Z"
   },
   {
    "duration": 4,
    "start_time": "2022-03-13T08:39:46.617Z"
   },
   {
    "duration": 9,
    "start_time": "2022-03-13T08:39:46.623Z"
   },
   {
    "duration": 49,
    "start_time": "2022-03-13T08:39:46.634Z"
   },
   {
    "duration": 20,
    "start_time": "2022-03-13T08:39:46.685Z"
   },
   {
    "duration": 10,
    "start_time": "2022-03-13T08:39:46.708Z"
   },
   {
    "duration": 62,
    "start_time": "2022-03-13T08:39:46.720Z"
   },
   {
    "duration": 4,
    "start_time": "2022-03-13T08:39:46.784Z"
   },
   {
    "duration": 19,
    "start_time": "2022-03-13T08:39:46.790Z"
   },
   {
    "duration": 5,
    "start_time": "2022-03-13T08:39:46.815Z"
   },
   {
    "duration": 6,
    "start_time": "2022-03-13T08:39:46.823Z"
   },
   {
    "duration": 26,
    "start_time": "2022-03-13T08:39:46.831Z"
   },
   {
    "duration": 24,
    "start_time": "2022-03-13T08:39:46.860Z"
   },
   {
    "duration": 20,
    "start_time": "2022-03-13T08:39:46.887Z"
   },
   {
    "duration": 27,
    "start_time": "2022-03-13T08:39:46.909Z"
   },
   {
    "duration": 765,
    "start_time": "2022-03-13T08:39:46.939Z"
   },
   {
    "duration": 14,
    "start_time": "2022-03-13T08:39:47.707Z"
   },
   {
    "duration": 2649,
    "start_time": "2022-03-13T08:39:47.724Z"
   },
   {
    "duration": 408,
    "start_time": "2022-03-13T08:39:50.383Z"
   },
   {
    "duration": 27491,
    "start_time": "2022-03-13T08:39:50.794Z"
   },
   {
    "duration": 374,
    "start_time": "2022-03-13T08:40:18.288Z"
   },
   {
    "duration": 767,
    "start_time": "2022-03-13T08:40:18.664Z"
   },
   {
    "duration": 402,
    "start_time": "2022-03-13T08:40:19.434Z"
   },
   {
    "duration": 385,
    "start_time": "2022-03-13T08:40:19.839Z"
   },
   {
    "duration": -7621,
    "start_time": "2022-03-13T08:40:27.847Z"
   },
   {
    "duration": -7629,
    "start_time": "2022-03-13T08:40:27.857Z"
   },
   {
    "duration": -7635,
    "start_time": "2022-03-13T08:40:27.864Z"
   },
   {
    "duration": -7641,
    "start_time": "2022-03-13T08:40:27.871Z"
   },
   {
    "duration": -7647,
    "start_time": "2022-03-13T08:40:27.879Z"
   },
   {
    "duration": -7653,
    "start_time": "2022-03-13T08:40:27.886Z"
   },
   {
    "duration": -7660,
    "start_time": "2022-03-13T08:40:27.894Z"
   },
   {
    "duration": -7664,
    "start_time": "2022-03-13T08:40:27.900Z"
   },
   {
    "duration": -7671,
    "start_time": "2022-03-13T08:40:27.908Z"
   },
   {
    "duration": -7677,
    "start_time": "2022-03-13T08:40:27.915Z"
   },
   {
    "duration": -7682,
    "start_time": "2022-03-13T08:40:27.922Z"
   },
   {
    "duration": -7688,
    "start_time": "2022-03-13T08:40:27.929Z"
   },
   {
    "duration": -7694,
    "start_time": "2022-03-13T08:40:27.937Z"
   },
   {
    "duration": -7700,
    "start_time": "2022-03-13T08:40:27.944Z"
   },
   {
    "duration": -7717,
    "start_time": "2022-03-13T08:40:27.962Z"
   },
   {
    "duration": -7722,
    "start_time": "2022-03-13T08:40:27.969Z"
   },
   {
    "duration": -7737,
    "start_time": "2022-03-13T08:40:27.986Z"
   },
   {
    "duration": -7743,
    "start_time": "2022-03-13T08:40:27.993Z"
   },
   {
    "duration": 1566,
    "start_time": "2022-03-13T08:53:57.166Z"
   },
   {
    "duration": 46,
    "start_time": "2022-03-13T08:53:58.736Z"
   },
   {
    "duration": 14,
    "start_time": "2022-03-13T08:53:58.785Z"
   },
   {
    "duration": 17,
    "start_time": "2022-03-13T08:53:58.803Z"
   },
   {
    "duration": 6,
    "start_time": "2022-03-13T08:53:58.823Z"
   },
   {
    "duration": 56,
    "start_time": "2022-03-13T08:53:58.833Z"
   },
   {
    "duration": 24,
    "start_time": "2022-03-13T08:53:58.891Z"
   },
   {
    "duration": 20,
    "start_time": "2022-03-13T08:53:58.920Z"
   },
   {
    "duration": 108,
    "start_time": "2022-03-13T08:53:58.944Z"
   },
   {
    "duration": 30,
    "start_time": "2022-03-13T08:53:59.055Z"
   },
   {
    "duration": 43,
    "start_time": "2022-03-13T08:53:59.088Z"
   },
   {
    "duration": 8,
    "start_time": "2022-03-13T08:53:59.133Z"
   },
   {
    "duration": 43,
    "start_time": "2022-03-13T08:53:59.144Z"
   },
   {
    "duration": 8,
    "start_time": "2022-03-13T08:53:59.190Z"
   },
   {
    "duration": 13,
    "start_time": "2022-03-13T08:53:59.200Z"
   },
   {
    "duration": 8,
    "start_time": "2022-03-13T08:53:59.215Z"
   },
   {
    "duration": 4,
    "start_time": "2022-03-13T08:53:59.226Z"
   },
   {
    "duration": 55,
    "start_time": "2022-03-13T08:53:59.233Z"
   },
   {
    "duration": 4,
    "start_time": "2022-03-13T08:53:59.291Z"
   },
   {
    "duration": 7,
    "start_time": "2022-03-13T08:53:59.298Z"
   },
   {
    "duration": 15,
    "start_time": "2022-03-13T08:53:59.307Z"
   },
   {
    "duration": 19,
    "start_time": "2022-03-13T08:53:59.324Z"
   },
   {
    "duration": 4,
    "start_time": "2022-03-13T08:53:59.384Z"
   },
   {
    "duration": 38,
    "start_time": "2022-03-13T08:53:59.391Z"
   },
   {
    "duration": 4,
    "start_time": "2022-03-13T08:53:59.431Z"
   },
   {
    "duration": 51,
    "start_time": "2022-03-13T08:53:59.437Z"
   },
   {
    "duration": 6,
    "start_time": "2022-03-13T08:53:59.491Z"
   },
   {
    "duration": 11,
    "start_time": "2022-03-13T08:53:59.500Z"
   },
   {
    "duration": 18,
    "start_time": "2022-03-13T08:53:59.513Z"
   },
   {
    "duration": 4,
    "start_time": "2022-03-13T08:53:59.533Z"
   },
   {
    "duration": 42,
    "start_time": "2022-03-13T08:53:59.540Z"
   },
   {
    "duration": 9,
    "start_time": "2022-03-13T08:53:59.585Z"
   },
   {
    "duration": 15,
    "start_time": "2022-03-13T08:53:59.597Z"
   },
   {
    "duration": 798,
    "start_time": "2022-03-13T08:53:59.614Z"
   },
   {
    "duration": 388,
    "start_time": "2022-03-13T08:54:00.414Z"
   },
   {
    "duration": 27147,
    "start_time": "2022-03-13T08:54:00.804Z"
   },
   {
    "duration": 451,
    "start_time": "2022-03-13T08:54:27.954Z"
   },
   {
    "duration": 2658,
    "start_time": "2022-03-13T08:54:28.408Z"
   },
   {
    "duration": 575,
    "start_time": "2022-03-13T08:54:31.069Z"
   },
   {
    "duration": 458,
    "start_time": "2022-03-13T08:54:31.647Z"
   },
   {
    "duration": -7486,
    "start_time": "2022-03-13T08:54:39.594Z"
   },
   {
    "duration": -7490,
    "start_time": "2022-03-13T08:54:39.601Z"
   },
   {
    "duration": -7496,
    "start_time": "2022-03-13T08:54:39.609Z"
   },
   {
    "duration": -7502,
    "start_time": "2022-03-13T08:54:39.617Z"
   },
   {
    "duration": -7506,
    "start_time": "2022-03-13T08:54:39.623Z"
   },
   {
    "duration": -7511,
    "start_time": "2022-03-13T08:54:39.630Z"
   },
   {
    "duration": -7564,
    "start_time": "2022-03-13T08:54:39.685Z"
   },
   {
    "duration": -7570,
    "start_time": "2022-03-13T08:54:39.694Z"
   },
   {
    "duration": -7576,
    "start_time": "2022-03-13T08:54:39.702Z"
   },
   {
    "duration": -7595,
    "start_time": "2022-03-13T08:54:39.723Z"
   },
   {
    "duration": -7601,
    "start_time": "2022-03-13T08:54:39.731Z"
   },
   {
    "duration": -7607,
    "start_time": "2022-03-13T08:54:39.739Z"
   },
   {
    "duration": -7623,
    "start_time": "2022-03-13T08:54:39.757Z"
   },
   {
    "duration": -7629,
    "start_time": "2022-03-13T08:54:39.766Z"
   },
   {
    "duration": -7635,
    "start_time": "2022-03-13T08:54:39.774Z"
   },
   {
    "duration": -7641,
    "start_time": "2022-03-13T08:54:39.782Z"
   },
   {
    "duration": -7648,
    "start_time": "2022-03-13T08:54:39.790Z"
   },
   {
    "duration": -7655,
    "start_time": "2022-03-13T08:54:39.799Z"
   },
   {
    "duration": 6,
    "start_time": "2022-03-13T09:00:39.945Z"
   },
   {
    "duration": 731,
    "start_time": "2022-03-13T09:00:44.386Z"
   },
   {
    "duration": 6,
    "start_time": "2022-03-13T09:01:27.125Z"
   },
   {
    "duration": 79,
    "start_time": "2022-03-13T09:01:39.687Z"
   },
   {
    "duration": 11,
    "start_time": "2022-03-13T09:01:51.535Z"
   },
   {
    "duration": 1339,
    "start_time": "2022-03-13T09:01:58.345Z"
   },
   {
    "duration": 101,
    "start_time": "2022-03-13T09:05:03.466Z"
   },
   {
    "duration": 12,
    "start_time": "2022-03-13T09:05:15.667Z"
   },
   {
    "duration": 760,
    "start_time": "2022-03-13T09:05:24.646Z"
   },
   {
    "duration": 11,
    "start_time": "2022-03-13T09:06:12.537Z"
   },
   {
    "duration": 740,
    "start_time": "2022-03-13T09:06:17.886Z"
   },
   {
    "duration": 11,
    "start_time": "2022-03-13T09:07:24.568Z"
   },
   {
    "duration": 1184,
    "start_time": "2022-03-13T09:07:29.366Z"
   },
   {
    "duration": 12,
    "start_time": "2022-03-13T09:08:26.769Z"
   },
   {
    "duration": 787,
    "start_time": "2022-03-13T09:08:29.106Z"
   },
   {
    "duration": 800,
    "start_time": "2022-03-13T09:08:39.266Z"
   },
   {
    "duration": 407,
    "start_time": "2022-03-13T09:08:40.069Z"
   },
   {
    "duration": 27729,
    "start_time": "2022-03-13T09:08:40.483Z"
   },
   {
    "duration": 477,
    "start_time": "2022-03-13T09:09:08.215Z"
   },
   {
    "duration": 2568,
    "start_time": "2022-03-13T09:09:08.695Z"
   },
   {
    "duration": 421,
    "start_time": "2022-03-13T09:09:11.265Z"
   },
   {
    "duration": 11,
    "start_time": "2022-03-13T09:09:36.368Z"
   },
   {
    "duration": 796,
    "start_time": "2022-03-13T09:09:41.586Z"
   },
   {
    "duration": 35622,
    "start_time": "2022-03-13T09:10:01.125Z"
   },
   {
    "duration": 2833,
    "start_time": "2022-03-13T09:10:36.750Z"
   },
   {
    "duration": 1531,
    "start_time": "2022-03-13T10:13:36.927Z"
   },
   {
    "duration": 52,
    "start_time": "2022-03-13T10:13:38.461Z"
   },
   {
    "duration": 11,
    "start_time": "2022-03-13T10:13:38.516Z"
   },
   {
    "duration": 15,
    "start_time": "2022-03-13T10:13:38.530Z"
   },
   {
    "duration": 5,
    "start_time": "2022-03-13T10:13:38.547Z"
   },
   {
    "duration": 11,
    "start_time": "2022-03-13T10:13:38.584Z"
   },
   {
    "duration": 24,
    "start_time": "2022-03-13T10:13:38.598Z"
   },
   {
    "duration": 20,
    "start_time": "2022-03-13T10:13:38.624Z"
   },
   {
    "duration": 105,
    "start_time": "2022-03-13T10:13:38.648Z"
   },
   {
    "duration": 31,
    "start_time": "2022-03-13T10:13:38.756Z"
   },
   {
    "duration": 45,
    "start_time": "2022-03-13T10:13:38.791Z"
   },
   {
    "duration": 9,
    "start_time": "2022-03-13T10:13:38.839Z"
   },
   {
    "duration": 50,
    "start_time": "2022-03-13T10:13:38.850Z"
   },
   {
    "duration": 9,
    "start_time": "2022-03-13T10:13:38.903Z"
   },
   {
    "duration": 14,
    "start_time": "2022-03-13T10:13:38.914Z"
   },
   {
    "duration": 51,
    "start_time": "2022-03-13T10:13:38.931Z"
   },
   {
    "duration": 4,
    "start_time": "2022-03-13T10:13:38.985Z"
   },
   {
    "duration": 18,
    "start_time": "2022-03-13T10:13:38.993Z"
   },
   {
    "duration": 5,
    "start_time": "2022-03-13T10:13:39.014Z"
   },
   {
    "duration": 12,
    "start_time": "2022-03-13T10:13:39.022Z"
   },
   {
    "duration": 52,
    "start_time": "2022-03-13T10:13:39.036Z"
   },
   {
    "duration": 18,
    "start_time": "2022-03-13T10:13:39.091Z"
   },
   {
    "duration": 8,
    "start_time": "2022-03-13T10:13:39.111Z"
   },
   {
    "duration": 60,
    "start_time": "2022-03-13T10:13:39.122Z"
   },
   {
    "duration": 3,
    "start_time": "2022-03-13T10:13:39.185Z"
   },
   {
    "duration": 17,
    "start_time": "2022-03-13T10:13:39.190Z"
   },
   {
    "duration": 5,
    "start_time": "2022-03-13T10:13:39.213Z"
   },
   {
    "duration": 382,
    "start_time": "2022-03-13T10:13:39.221Z"
   },
   {
    "duration": -7880,
    "start_time": "2022-03-13T10:13:47.486Z"
   },
   {
    "duration": -7887,
    "start_time": "2022-03-13T10:13:47.494Z"
   },
   {
    "duration": -7891,
    "start_time": "2022-03-13T10:13:47.500Z"
   },
   {
    "duration": -7897,
    "start_time": "2022-03-13T10:13:47.507Z"
   },
   {
    "duration": -7902,
    "start_time": "2022-03-13T10:13:47.514Z"
   },
   {
    "duration": -7908,
    "start_time": "2022-03-13T10:13:47.521Z"
   },
   {
    "duration": -8008,
    "start_time": "2022-03-13T10:13:47.623Z"
   },
   {
    "duration": -8014,
    "start_time": "2022-03-13T10:13:47.630Z"
   },
   {
    "duration": -8019,
    "start_time": "2022-03-13T10:13:47.637Z"
   },
   {
    "duration": -8025,
    "start_time": "2022-03-13T10:13:47.644Z"
   },
   {
    "duration": -8029,
    "start_time": "2022-03-13T10:13:47.650Z"
   },
   {
    "duration": -8035,
    "start_time": "2022-03-13T10:13:47.657Z"
   },
   {
    "duration": -8154,
    "start_time": "2022-03-13T10:13:47.778Z"
   },
   {
    "duration": -8244,
    "start_time": "2022-03-13T10:13:47.869Z"
   },
   {
    "duration": -8250,
    "start_time": "2022-03-13T10:13:47.876Z"
   },
   {
    "duration": -8255,
    "start_time": "2022-03-13T10:13:47.883Z"
   },
   {
    "duration": -8259,
    "start_time": "2022-03-13T10:13:47.889Z"
   },
   {
    "duration": -8266,
    "start_time": "2022-03-13T10:13:47.897Z"
   },
   {
    "duration": -8270,
    "start_time": "2022-03-13T10:13:47.903Z"
   },
   {
    "duration": -8277,
    "start_time": "2022-03-13T10:13:47.911Z"
   },
   {
    "duration": -8282,
    "start_time": "2022-03-13T10:13:47.917Z"
   },
   {
    "duration": -8300,
    "start_time": "2022-03-13T10:13:47.937Z"
   },
   {
    "duration": -8307,
    "start_time": "2022-03-13T10:13:47.945Z"
   },
   {
    "duration": -8313,
    "start_time": "2022-03-13T10:13:47.952Z"
   },
   {
    "duration": -8318,
    "start_time": "2022-03-13T10:13:47.959Z"
   },
   {
    "duration": -8283,
    "start_time": "2022-03-13T10:13:47.966Z"
   },
   {
    "duration": -8288,
    "start_time": "2022-03-13T10:13:47.973Z"
   },
   {
    "duration": -8294,
    "start_time": "2022-03-13T10:13:47.980Z"
   },
   {
    "duration": -8298,
    "start_time": "2022-03-13T10:13:47.986Z"
   },
   {
    "duration": -8304,
    "start_time": "2022-03-13T10:13:47.994Z"
   },
   {
    "duration": 1538,
    "start_time": "2022-03-13T10:13:50.355Z"
   },
   {
    "duration": 37,
    "start_time": "2022-03-13T10:13:51.896Z"
   },
   {
    "duration": 11,
    "start_time": "2022-03-13T10:13:51.937Z"
   },
   {
    "duration": 38,
    "start_time": "2022-03-13T10:13:51.951Z"
   },
   {
    "duration": 6,
    "start_time": "2022-03-13T10:13:51.991Z"
   },
   {
    "duration": 14,
    "start_time": "2022-03-13T10:13:51.999Z"
   },
   {
    "duration": 27,
    "start_time": "2022-03-13T10:13:52.016Z"
   },
   {
    "duration": 54,
    "start_time": "2022-03-13T10:13:52.046Z"
   },
   {
    "duration": 97,
    "start_time": "2022-03-13T10:13:52.106Z"
   },
   {
    "duration": 7,
    "start_time": "2022-03-13T10:13:52.206Z"
   },
   {
    "duration": 66,
    "start_time": "2022-03-13T10:13:52.216Z"
   },
   {
    "duration": 10,
    "start_time": "2022-03-13T10:13:52.285Z"
   },
   {
    "duration": 24,
    "start_time": "2022-03-13T10:13:52.298Z"
   },
   {
    "duration": 11,
    "start_time": "2022-03-13T10:13:52.325Z"
   },
   {
    "duration": 54,
    "start_time": "2022-03-13T10:13:52.339Z"
   },
   {
    "duration": 10,
    "start_time": "2022-03-13T10:13:52.396Z"
   },
   {
    "duration": 5,
    "start_time": "2022-03-13T10:13:52.409Z"
   },
   {
    "duration": 17,
    "start_time": "2022-03-13T10:13:52.417Z"
   },
   {
    "duration": 45,
    "start_time": "2022-03-13T10:13:52.437Z"
   },
   {
    "duration": 10,
    "start_time": "2022-03-13T10:13:52.485Z"
   },
   {
    "duration": 14,
    "start_time": "2022-03-13T10:13:52.497Z"
   },
   {
    "duration": 18,
    "start_time": "2022-03-13T10:13:52.513Z"
   },
   {
    "duration": 8,
    "start_time": "2022-03-13T10:13:52.533Z"
   },
   {
    "duration": 65,
    "start_time": "2022-03-13T10:13:52.543Z"
   },
   {
    "duration": 3,
    "start_time": "2022-03-13T10:13:52.610Z"
   },
   {
    "duration": 20,
    "start_time": "2022-03-13T10:13:52.616Z"
   },
   {
    "duration": 5,
    "start_time": "2022-03-13T10:13:52.641Z"
   },
   {
    "duration": 415,
    "start_time": "2022-03-13T10:13:52.650Z"
   },
   {
    "duration": -8092,
    "start_time": "2022-03-13T10:14:01.160Z"
   },
   {
    "duration": -8098,
    "start_time": "2022-03-13T10:14:01.167Z"
   },
   {
    "duration": -8104,
    "start_time": "2022-03-13T10:14:01.175Z"
   },
   {
    "duration": -8108,
    "start_time": "2022-03-13T10:14:01.181Z"
   },
   {
    "duration": -8115,
    "start_time": "2022-03-13T10:14:01.189Z"
   },
   {
    "duration": -8119,
    "start_time": "2022-03-13T10:14:01.195Z"
   },
   {
    "duration": -8153,
    "start_time": "2022-03-13T10:14:01.230Z"
   },
   {
    "duration": -8160,
    "start_time": "2022-03-13T10:14:01.238Z"
   },
   {
    "duration": -8167,
    "start_time": "2022-03-13T10:14:01.247Z"
   },
   {
    "duration": -8172,
    "start_time": "2022-03-13T10:14:01.254Z"
   },
   {
    "duration": -8178,
    "start_time": "2022-03-13T10:14:01.261Z"
   },
   {
    "duration": -8183,
    "start_time": "2022-03-13T10:14:01.268Z"
   },
   {
    "duration": -8189,
    "start_time": "2022-03-13T10:14:01.275Z"
   },
   {
    "duration": -8194,
    "start_time": "2022-03-13T10:14:01.282Z"
   },
   {
    "duration": -8200,
    "start_time": "2022-03-13T10:14:01.289Z"
   },
   {
    "duration": -8205,
    "start_time": "2022-03-13T10:14:01.296Z"
   },
   {
    "duration": -8211,
    "start_time": "2022-03-13T10:14:01.303Z"
   },
   {
    "duration": -8217,
    "start_time": "2022-03-13T10:14:01.310Z"
   },
   {
    "duration": -8222,
    "start_time": "2022-03-13T10:14:01.317Z"
   },
   {
    "duration": -8242,
    "start_time": "2022-03-13T10:14:01.338Z"
   },
   {
    "duration": -8249,
    "start_time": "2022-03-13T10:14:01.346Z"
   },
   {
    "duration": -8254,
    "start_time": "2022-03-13T10:14:01.353Z"
   },
   {
    "duration": -8261,
    "start_time": "2022-03-13T10:14:01.361Z"
   },
   {
    "duration": -8266,
    "start_time": "2022-03-13T10:14:01.367Z"
   },
   {
    "duration": -8272,
    "start_time": "2022-03-13T10:14:01.375Z"
   },
   {
    "duration": -8279,
    "start_time": "2022-03-13T10:14:01.383Z"
   },
   {
    "duration": -8285,
    "start_time": "2022-03-13T10:14:01.390Z"
   },
   {
    "duration": -8290,
    "start_time": "2022-03-13T10:14:01.397Z"
   },
   {
    "duration": -8296,
    "start_time": "2022-03-13T10:14:01.404Z"
   },
   {
    "duration": -8301,
    "start_time": "2022-03-13T10:14:01.410Z"
   },
   {
    "duration": 16,
    "start_time": "2022-03-13T10:14:45.526Z"
   },
   {
    "duration": 444,
    "start_time": "2022-03-13T10:14:49.458Z"
   },
   {
    "duration": 6,
    "start_time": "2022-03-13T10:15:31.707Z"
   },
   {
    "duration": 232,
    "start_time": "2022-03-13T10:15:32.883Z"
   },
   {
    "duration": 1520,
    "start_time": "2022-03-13T10:17:37.587Z"
   },
   {
    "duration": 37,
    "start_time": "2022-03-13T10:17:39.110Z"
   },
   {
    "duration": 12,
    "start_time": "2022-03-13T10:17:39.150Z"
   },
   {
    "duration": 15,
    "start_time": "2022-03-13T10:17:39.181Z"
   },
   {
    "duration": 5,
    "start_time": "2022-03-13T10:17:39.199Z"
   },
   {
    "duration": 14,
    "start_time": "2022-03-13T10:17:39.206Z"
   },
   {
    "duration": 31,
    "start_time": "2022-03-13T10:17:39.222Z"
   },
   {
    "duration": 27,
    "start_time": "2022-03-13T10:17:39.282Z"
   },
   {
    "duration": 97,
    "start_time": "2022-03-13T10:17:39.314Z"
   },
   {
    "duration": 7,
    "start_time": "2022-03-13T10:17:39.414Z"
   },
   {
    "duration": 59,
    "start_time": "2022-03-13T10:17:39.423Z"
   },
   {
    "duration": 8,
    "start_time": "2022-03-13T10:17:39.485Z"
   },
   {
    "duration": 20,
    "start_time": "2022-03-13T10:17:39.496Z"
   },
   {
    "duration": 8,
    "start_time": "2022-03-13T10:17:39.518Z"
   },
   {
    "duration": 54,
    "start_time": "2022-03-13T10:17:39.529Z"
   },
   {
    "duration": 9,
    "start_time": "2022-03-13T10:17:39.586Z"
   },
   {
    "duration": 5,
    "start_time": "2022-03-13T10:17:39.597Z"
   },
   {
    "duration": 17,
    "start_time": "2022-03-13T10:17:39.604Z"
   },
   {
    "duration": 4,
    "start_time": "2022-03-13T10:17:39.623Z"
   },
   {
    "duration": 13,
    "start_time": "2022-03-13T10:17:39.629Z"
   },
   {
    "duration": 47,
    "start_time": "2022-03-13T10:17:39.645Z"
   },
   {
    "duration": 19,
    "start_time": "2022-03-13T10:17:39.694Z"
   },
   {
    "duration": 5,
    "start_time": "2022-03-13T10:17:39.715Z"
   },
   {
    "duration": 70,
    "start_time": "2022-03-13T10:17:39.723Z"
   },
   {
    "duration": 3,
    "start_time": "2022-03-13T10:17:39.795Z"
   },
   {
    "duration": 30,
    "start_time": "2022-03-13T10:17:39.800Z"
   },
   {
    "duration": 6,
    "start_time": "2022-03-13T10:17:39.835Z"
   },
   {
    "duration": 20,
    "start_time": "2022-03-13T10:17:39.843Z"
   },
   {
    "duration": 19,
    "start_time": "2022-03-13T10:17:39.865Z"
   },
   {
    "duration": 13,
    "start_time": "2022-03-13T10:17:39.886Z"
   },
   {
    "duration": 15,
    "start_time": "2022-03-13T10:17:39.901Z"
   },
   {
    "duration": 15,
    "start_time": "2022-03-13T10:17:39.918Z"
   },
   {
    "duration": 808,
    "start_time": "2022-03-13T10:17:39.936Z"
   },
   {
    "duration": 425,
    "start_time": "2022-03-13T10:17:40.746Z"
   },
   {
    "duration": 27142,
    "start_time": "2022-03-13T10:17:41.174Z"
   },
   {
    "duration": 440,
    "start_time": "2022-03-13T10:18:08.319Z"
   },
   {
    "duration": 2707,
    "start_time": "2022-03-13T10:18:08.761Z"
   },
   {
    "duration": 417,
    "start_time": "2022-03-13T10:18:11.470Z"
   },
   {
    "duration": 7,
    "start_time": "2022-03-13T10:18:11.889Z"
   },
   {
    "duration": 14,
    "start_time": "2022-03-13T10:18:11.898Z"
   },
   {
    "duration": 19,
    "start_time": "2022-03-13T10:18:11.914Z"
   },
   {
    "duration": 14,
    "start_time": "2022-03-13T10:18:11.936Z"
   },
   {
    "duration": 86377,
    "start_time": "2022-03-13T10:18:11.952Z"
   },
   {
    "duration": 10,
    "start_time": "2022-03-13T10:19:38.332Z"
   },
   {
    "duration": 23105,
    "start_time": "2022-03-13T10:19:38.345Z"
   },
   {
    "duration": 30,
    "start_time": "2022-03-13T10:20:01.454Z"
   },
   {
    "duration": 75704,
    "start_time": "2022-03-13T10:20:01.488Z"
   },
   {
    "duration": 5,
    "start_time": "2022-03-13T10:21:17.195Z"
   },
   {
    "duration": 34,
    "start_time": "2022-03-13T10:21:17.202Z"
   },
   {
    "duration": 160338,
    "start_time": "2022-03-13T10:21:17.239Z"
   },
   {
    "duration": 7,
    "start_time": "2022-03-13T10:23:57.583Z"
   },
   {
    "duration": 3791,
    "start_time": "2022-03-13T10:23:57.593Z"
   },
   {
    "duration": 3095,
    "start_time": "2022-03-13T10:24:01.387Z"
   },
   {
    "duration": 20,
    "start_time": "2022-03-13T10:24:04.484Z"
   },
   {
    "duration": 2013,
    "start_time": "2022-03-13T10:24:04.506Z"
   },
   {
    "duration": 1951,
    "start_time": "2022-03-13T10:24:06.522Z"
   },
   {
    "duration": 203,
    "start_time": "2022-03-13T10:24:08.483Z"
   },
   {
    "duration": 566,
    "start_time": "2022-03-13T10:26:02.467Z"
   },
   {
    "duration": 582,
    "start_time": "2022-03-13T10:26:36.501Z"
   },
   {
    "duration": 2394,
    "start_time": "2022-03-13T10:27:09.467Z"
   },
   {
    "duration": 1483,
    "start_time": "2022-03-13T10:27:21.327Z"
   },
   {
    "duration": 37,
    "start_time": "2022-03-13T10:27:22.812Z"
   },
   {
    "duration": 10,
    "start_time": "2022-03-13T10:27:22.852Z"
   },
   {
    "duration": 14,
    "start_time": "2022-03-13T10:27:22.883Z"
   },
   {
    "duration": 5,
    "start_time": "2022-03-13T10:27:22.900Z"
   },
   {
    "duration": 12,
    "start_time": "2022-03-13T10:27:22.907Z"
   },
   {
    "duration": 23,
    "start_time": "2022-03-13T10:27:22.921Z"
   },
   {
    "duration": 54,
    "start_time": "2022-03-13T10:27:22.946Z"
   },
   {
    "duration": 93,
    "start_time": "2022-03-13T10:27:23.005Z"
   },
   {
    "duration": 6,
    "start_time": "2022-03-13T10:27:23.101Z"
   },
   {
    "duration": 37,
    "start_time": "2022-03-13T10:27:23.109Z"
   },
   {
    "duration": 9,
    "start_time": "2022-03-13T10:27:23.181Z"
   },
   {
    "duration": 20,
    "start_time": "2022-03-13T10:27:23.194Z"
   },
   {
    "duration": 11,
    "start_time": "2022-03-13T10:27:23.217Z"
   },
   {
    "duration": 61,
    "start_time": "2022-03-13T10:27:23.230Z"
   },
   {
    "duration": 11,
    "start_time": "2022-03-13T10:27:23.294Z"
   },
   {
    "duration": 6,
    "start_time": "2022-03-13T10:27:23.307Z"
   },
   {
    "duration": 16,
    "start_time": "2022-03-13T10:27:23.316Z"
   },
   {
    "duration": 47,
    "start_time": "2022-03-13T10:27:23.335Z"
   },
   {
    "duration": 9,
    "start_time": "2022-03-13T10:27:23.386Z"
   },
   {
    "duration": 14,
    "start_time": "2022-03-13T10:27:23.397Z"
   },
   {
    "duration": 19,
    "start_time": "2022-03-13T10:27:23.414Z"
   },
   {
    "duration": 8,
    "start_time": "2022-03-13T10:27:23.436Z"
   },
   {
    "duration": 48,
    "start_time": "2022-03-13T10:27:23.483Z"
   },
   {
    "duration": 4,
    "start_time": "2022-03-13T10:27:23.533Z"
   },
   {
    "duration": 43,
    "start_time": "2022-03-13T10:27:23.539Z"
   },
   {
    "duration": 6,
    "start_time": "2022-03-13T10:27:23.588Z"
   },
   {
    "duration": 12,
    "start_time": "2022-03-13T10:27:23.597Z"
   },
   {
    "duration": 4,
    "start_time": "2022-03-13T10:27:23.611Z"
   },
   {
    "duration": 11,
    "start_time": "2022-03-13T10:27:23.618Z"
   },
   {
    "duration": 13,
    "start_time": "2022-03-13T10:27:23.631Z"
   },
   {
    "duration": 45,
    "start_time": "2022-03-13T10:27:23.646Z"
   },
   {
    "duration": 808,
    "start_time": "2022-03-13T10:27:23.693Z"
   },
   {
    "duration": 395,
    "start_time": "2022-03-13T10:27:24.503Z"
   },
   {
    "duration": 26911,
    "start_time": "2022-03-13T10:27:24.901Z"
   },
   {
    "duration": 479,
    "start_time": "2022-03-13T10:27:51.815Z"
   },
   {
    "duration": 2787,
    "start_time": "2022-03-13T10:27:52.297Z"
   },
   {
    "duration": 411,
    "start_time": "2022-03-13T10:27:55.087Z"
   },
   {
    "duration": 7,
    "start_time": "2022-03-13T10:27:55.500Z"
   },
   {
    "duration": 12,
    "start_time": "2022-03-13T10:27:55.510Z"
   },
   {
    "duration": 13,
    "start_time": "2022-03-13T10:27:55.524Z"
   },
   {
    "duration": 14,
    "start_time": "2022-03-13T10:27:55.539Z"
   },
   {
    "duration": 86842,
    "start_time": "2022-03-13T10:27:55.555Z"
   },
   {
    "duration": 12,
    "start_time": "2022-03-13T10:29:22.400Z"
   },
   {
    "duration": 23091,
    "start_time": "2022-03-13T10:29:22.414Z"
   },
   {
    "duration": 11,
    "start_time": "2022-03-13T10:29:45.507Z"
   },
   {
    "duration": 77029,
    "start_time": "2022-03-13T10:29:45.520Z"
   },
   {
    "duration": 6,
    "start_time": "2022-03-13T10:31:02.552Z"
   },
   {
    "duration": 23,
    "start_time": "2022-03-13T10:31:02.561Z"
   },
   {
    "duration": 170592,
    "start_time": "2022-03-13T10:31:02.587Z"
   },
   {
    "duration": 8,
    "start_time": "2022-03-13T10:33:53.183Z"
   },
   {
    "duration": 5195,
    "start_time": "2022-03-13T10:33:53.194Z"
   },
   {
    "duration": 3400,
    "start_time": "2022-03-13T10:33:58.392Z"
   },
   {
    "duration": 21,
    "start_time": "2022-03-13T10:34:01.794Z"
   },
   {
    "duration": 2066,
    "start_time": "2022-03-13T10:34:01.818Z"
   },
   {
    "duration": 2967,
    "start_time": "2022-03-13T10:34:03.886Z"
   },
   {
    "duration": 213,
    "start_time": "2022-03-13T10:34:06.856Z"
   },
   {
    "duration": 4,
    "start_time": "2022-03-13T10:36:26.686Z"
   },
   {
    "duration": 2006,
    "start_time": "2022-03-13T10:36:38.586Z"
   },
   {
    "duration": 4,
    "start_time": "2022-03-13T10:36:49.345Z"
   },
   {
    "duration": 2848,
    "start_time": "2022-03-13T10:36:51.614Z"
   },
   {
    "duration": 4,
    "start_time": "2022-03-13T10:37:08.486Z"
   },
   {
    "duration": 10,
    "start_time": "2022-03-13T10:39:53.454Z"
   },
   {
    "duration": 3338,
    "start_time": "2022-03-13T10:40:03.245Z"
   },
   {
    "duration": 264,
    "start_time": "2022-03-13T10:40:30.286Z"
   },
   {
    "duration": 3158,
    "start_time": "2022-03-13T10:42:52.027Z"
   },
   {
    "duration": 19,
    "start_time": "2022-03-13T10:43:03.598Z"
   },
   {
    "duration": 1522,
    "start_time": "2022-03-13T10:43:05.066Z"
   },
   {
    "duration": 19,
    "start_time": "2022-03-13T10:43:52.666Z"
   },
   {
    "duration": 454,
    "start_time": "2022-03-13T10:43:53.466Z"
   },
   {
    "duration": 19,
    "start_time": "2022-03-13T10:44:22.487Z"
   },
   {
    "duration": 463,
    "start_time": "2022-03-13T10:44:23.106Z"
   },
   {
    "duration": 1525,
    "start_time": "2022-03-13T10:44:45.589Z"
   },
   {
    "duration": 39,
    "start_time": "2022-03-13T10:44:47.116Z"
   },
   {
    "duration": 25,
    "start_time": "2022-03-13T10:44:47.158Z"
   },
   {
    "duration": 15,
    "start_time": "2022-03-13T10:44:47.185Z"
   },
   {
    "duration": 5,
    "start_time": "2022-03-13T10:44:47.203Z"
   },
   {
    "duration": 10,
    "start_time": "2022-03-13T10:44:47.211Z"
   },
   {
    "duration": 61,
    "start_time": "2022-03-13T10:44:47.223Z"
   },
   {
    "duration": 21,
    "start_time": "2022-03-13T10:44:47.286Z"
   },
   {
    "duration": 98,
    "start_time": "2022-03-13T10:44:47.311Z"
   },
   {
    "duration": 8,
    "start_time": "2022-03-13T10:44:47.413Z"
   },
   {
    "duration": 67,
    "start_time": "2022-03-13T10:44:47.423Z"
   },
   {
    "duration": 8,
    "start_time": "2022-03-13T10:44:47.492Z"
   },
   {
    "duration": 22,
    "start_time": "2022-03-13T10:44:47.503Z"
   },
   {
    "duration": 9,
    "start_time": "2022-03-13T10:44:47.527Z"
   },
   {
    "duration": 50,
    "start_time": "2022-03-13T10:44:47.538Z"
   },
   {
    "duration": 9,
    "start_time": "2022-03-13T10:44:47.590Z"
   },
   {
    "duration": 11,
    "start_time": "2022-03-13T10:44:47.601Z"
   },
   {
    "duration": 18,
    "start_time": "2022-03-13T10:44:47.614Z"
   },
   {
    "duration": 4,
    "start_time": "2022-03-13T10:44:47.634Z"
   },
   {
    "duration": 8,
    "start_time": "2022-03-13T10:44:47.640Z"
   },
   {
    "duration": 43,
    "start_time": "2022-03-13T10:44:47.651Z"
   },
   {
    "duration": 20,
    "start_time": "2022-03-13T10:44:47.697Z"
   },
   {
    "duration": 7,
    "start_time": "2022-03-13T10:44:47.720Z"
   },
   {
    "duration": 80,
    "start_time": "2022-03-13T10:44:47.730Z"
   },
   {
    "duration": 3,
    "start_time": "2022-03-13T10:44:47.813Z"
   },
   {
    "duration": 14,
    "start_time": "2022-03-13T10:44:47.819Z"
   },
   {
    "duration": 5,
    "start_time": "2022-03-13T10:44:47.839Z"
   },
   {
    "duration": 45,
    "start_time": "2022-03-13T10:44:47.847Z"
   },
   {
    "duration": 4,
    "start_time": "2022-03-13T10:44:47.895Z"
   },
   {
    "duration": 12,
    "start_time": "2022-03-13T10:44:47.902Z"
   },
   {
    "duration": 7,
    "start_time": "2022-03-13T10:44:47.916Z"
   },
   {
    "duration": 13,
    "start_time": "2022-03-13T10:44:47.926Z"
   },
   {
    "duration": 960,
    "start_time": "2022-03-13T10:44:47.941Z"
   },
   {
    "duration": 393,
    "start_time": "2022-03-13T10:44:48.903Z"
   },
   {
    "duration": 27383,
    "start_time": "2022-03-13T10:44:49.299Z"
   },
   {
    "duration": 471,
    "start_time": "2022-03-13T10:45:16.685Z"
   },
   {
    "duration": 2731,
    "start_time": "2022-03-13T10:45:17.158Z"
   },
   {
    "duration": 422,
    "start_time": "2022-03-13T10:45:19.891Z"
   },
   {
    "duration": 7,
    "start_time": "2022-03-13T10:45:20.316Z"
   },
   {
    "duration": 15,
    "start_time": "2022-03-13T10:45:20.325Z"
   },
   {
    "duration": 21,
    "start_time": "2022-03-13T10:45:20.343Z"
   },
   {
    "duration": 27,
    "start_time": "2022-03-13T10:45:20.367Z"
   },
   {
    "duration": 97586,
    "start_time": "2022-03-13T10:45:20.396Z"
   },
   {
    "duration": 10,
    "start_time": "2022-03-13T10:46:57.985Z"
   },
   {
    "duration": 22737,
    "start_time": "2022-03-13T10:46:57.997Z"
   },
   {
    "duration": 11,
    "start_time": "2022-03-13T10:47:20.737Z"
   },
   {
    "duration": 76649,
    "start_time": "2022-03-13T10:47:20.751Z"
   },
   {
    "duration": 5,
    "start_time": "2022-03-13T10:48:37.403Z"
   },
   {
    "duration": 7,
    "start_time": "2022-03-13T10:48:37.410Z"
   },
   {
    "duration": 170527,
    "start_time": "2022-03-13T10:48:37.420Z"
   },
   {
    "duration": 10,
    "start_time": "2022-03-13T10:51:27.950Z"
   },
   {
    "duration": 3735,
    "start_time": "2022-03-13T10:51:27.964Z"
   },
   {
    "duration": 3130,
    "start_time": "2022-03-13T10:51:31.702Z"
   },
   {
    "duration": 21,
    "start_time": "2022-03-13T10:51:34.836Z"
   },
   {
    "duration": 911,
    "start_time": "2022-03-13T10:51:34.860Z"
   },
   {
    "duration": -8253,
    "start_time": "2022-03-13T10:51:44.027Z"
   },
   {
    "duration": -8261,
    "start_time": "2022-03-13T10:51:44.037Z"
   },
   {
    "duration": 28,
    "start_time": "2022-03-13T10:54:10.709Z"
   },
   {
    "duration": 661,
    "start_time": "2022-03-13T10:54:29.720Z"
   },
   {
    "duration": 19,
    "start_time": "2022-03-13T10:58:23.448Z"
   },
   {
    "duration": 882,
    "start_time": "2022-03-13T10:58:24.046Z"
   },
   {
    "duration": 25,
    "start_time": "2022-03-13T10:59:04.530Z"
   },
   {
    "duration": 3862,
    "start_time": "2022-03-13T10:59:05.067Z"
   },
   {
    "duration": 1680,
    "start_time": "2022-03-13T11:00:58.266Z"
   },
   {
    "duration": 47,
    "start_time": "2022-03-13T11:00:59.949Z"
   },
   {
    "duration": 17,
    "start_time": "2022-03-13T11:01:00.000Z"
   },
   {
    "duration": 24,
    "start_time": "2022-03-13T11:01:00.021Z"
   },
   {
    "duration": 37,
    "start_time": "2022-03-13T11:01:00.048Z"
   },
   {
    "duration": 15,
    "start_time": "2022-03-13T11:01:00.088Z"
   },
   {
    "duration": 24,
    "start_time": "2022-03-13T11:01:00.106Z"
   },
   {
    "duration": 59,
    "start_time": "2022-03-13T11:01:00.138Z"
   },
   {
    "duration": 105,
    "start_time": "2022-03-13T11:01:00.202Z"
   },
   {
    "duration": 8,
    "start_time": "2022-03-13T11:01:00.311Z"
   },
   {
    "duration": 76,
    "start_time": "2022-03-13T11:01:00.322Z"
   },
   {
    "duration": 12,
    "start_time": "2022-03-13T11:01:00.401Z"
   },
   {
    "duration": 67,
    "start_time": "2022-03-13T11:01:00.417Z"
   },
   {
    "duration": 26,
    "start_time": "2022-03-13T11:01:00.486Z"
   },
   {
    "duration": 59,
    "start_time": "2022-03-13T11:01:00.516Z"
   },
   {
    "duration": 26,
    "start_time": "2022-03-13T11:01:00.578Z"
   },
   {
    "duration": 37,
    "start_time": "2022-03-13T11:01:00.607Z"
   },
   {
    "duration": 35,
    "start_time": "2022-03-13T11:01:00.647Z"
   },
   {
    "duration": 41,
    "start_time": "2022-03-13T11:01:00.685Z"
   },
   {
    "duration": 39,
    "start_time": "2022-03-13T11:01:00.729Z"
   },
   {
    "duration": 29,
    "start_time": "2022-03-13T11:01:00.771Z"
   },
   {
    "duration": 56,
    "start_time": "2022-03-13T11:01:00.803Z"
   },
   {
    "duration": 29,
    "start_time": "2022-03-13T11:01:00.862Z"
   },
   {
    "duration": 54,
    "start_time": "2022-03-13T11:01:00.895Z"
   },
   {
    "duration": 4,
    "start_time": "2022-03-13T11:01:00.952Z"
   },
   {
    "duration": 31,
    "start_time": "2022-03-13T11:01:00.959Z"
   },
   {
    "duration": 20,
    "start_time": "2022-03-13T11:01:00.997Z"
   },
   {
    "duration": 19,
    "start_time": "2022-03-13T11:01:01.020Z"
   },
   {
    "duration": 22,
    "start_time": "2022-03-13T11:01:01.041Z"
   },
   {
    "duration": 32,
    "start_time": "2022-03-13T11:01:01.066Z"
   },
   {
    "duration": 21,
    "start_time": "2022-03-13T11:01:01.100Z"
   },
   {
    "duration": 23,
    "start_time": "2022-03-13T11:01:01.123Z"
   },
   {
    "duration": 874,
    "start_time": "2022-03-13T11:01:01.149Z"
   },
   {
    "duration": 419,
    "start_time": "2022-03-13T11:01:02.026Z"
   },
   {
    "duration": 31715,
    "start_time": "2022-03-13T11:01:02.448Z"
   },
   {
    "duration": 580,
    "start_time": "2022-03-13T11:01:34.166Z"
   },
   {
    "duration": 3239,
    "start_time": "2022-03-13T11:01:34.749Z"
   },
   {
    "duration": 416,
    "start_time": "2022-03-13T11:01:37.991Z"
   },
   {
    "duration": 7,
    "start_time": "2022-03-13T11:01:38.410Z"
   },
   {
    "duration": 17,
    "start_time": "2022-03-13T11:01:38.420Z"
   },
   {
    "duration": 18,
    "start_time": "2022-03-13T11:01:38.439Z"
   },
   {
    "duration": 35,
    "start_time": "2022-03-13T11:01:38.460Z"
   },
   {
    "duration": 97178,
    "start_time": "2022-03-13T11:01:38.497Z"
   },
   {
    "duration": 10,
    "start_time": "2022-03-13T11:03:15.678Z"
   },
   {
    "duration": 33905,
    "start_time": "2022-03-13T11:03:15.693Z"
   },
   {
    "duration": 15,
    "start_time": "2022-03-13T11:03:49.602Z"
   },
   {
    "duration": 90808,
    "start_time": "2022-03-13T11:03:49.620Z"
   },
   {
    "duration": 4,
    "start_time": "2022-03-13T11:05:20.431Z"
   },
   {
    "duration": 6,
    "start_time": "2022-03-13T11:05:20.438Z"
   },
   {
    "duration": 193307,
    "start_time": "2022-03-13T11:05:20.447Z"
   },
   {
    "duration": 7,
    "start_time": "2022-03-13T11:08:33.757Z"
   },
   {
    "duration": 3553,
    "start_time": "2022-03-13T11:08:33.783Z"
   },
   {
    "duration": 3158,
    "start_time": "2022-03-13T11:08:37.338Z"
   },
   {
    "duration": 19,
    "start_time": "2022-03-13T11:08:40.499Z"
   },
   {
    "duration": 7696,
    "start_time": "2022-03-13T11:08:40.521Z"
   },
   {
    "duration": 1043,
    "start_time": "2022-03-13T11:08:48.220Z"
   },
   {
    "duration": 1052,
    "start_time": "2022-03-13T11:08:49.266Z"
   },
   {
    "duration": 395,
    "start_time": "2022-03-13T11:08:50.322Z"
   },
   {
    "duration": 7552,
    "start_time": "2022-03-13T11:14:01.971Z"
   },
   {
    "duration": 808,
    "start_time": "2022-03-13T11:14:39.053Z"
   },
   {
    "duration": 5,
    "start_time": "2022-03-13T11:25:31.646Z"
   },
   {
    "duration": 6,
    "start_time": "2022-03-13T11:25:49.045Z"
   },
   {
    "duration": 5,
    "start_time": "2022-03-13T11:25:55.606Z"
   },
   {
    "duration": 5,
    "start_time": "2022-03-13T11:26:14.445Z"
   },
   {
    "duration": 5,
    "start_time": "2022-03-13T11:26:26.085Z"
   },
   {
    "duration": 6,
    "start_time": "2022-03-13T11:26:34.153Z"
   },
   {
    "duration": 6,
    "start_time": "2022-03-13T11:26:45.665Z"
   },
   {
    "duration": 5,
    "start_time": "2022-03-13T11:26:55.046Z"
   },
   {
    "duration": 5,
    "start_time": "2022-03-13T11:27:36.046Z"
   },
   {
    "duration": 5,
    "start_time": "2022-03-13T11:28:06.466Z"
   },
   {
    "duration": 6,
    "start_time": "2022-03-13T11:29:06.073Z"
   },
   {
    "duration": 6,
    "start_time": "2022-03-13T11:30:04.319Z"
   },
   {
    "duration": 72,
    "start_time": "2022-03-13T11:31:39.605Z"
   },
   {
    "duration": 6,
    "start_time": "2022-03-13T11:31:43.925Z"
   },
   {
    "duration": 6,
    "start_time": "2022-03-13T11:36:08.665Z"
   },
   {
    "duration": 7,
    "start_time": "2022-03-13T11:40:10.113Z"
   },
   {
    "duration": 6,
    "start_time": "2022-03-13T11:41:45.145Z"
   },
   {
    "duration": 1590,
    "start_time": "2022-03-13T11:44:39.970Z"
   },
   {
    "duration": 38,
    "start_time": "2022-03-13T11:44:41.562Z"
   },
   {
    "duration": 12,
    "start_time": "2022-03-13T11:44:41.604Z"
   },
   {
    "duration": 16,
    "start_time": "2022-03-13T11:44:41.618Z"
   },
   {
    "duration": 5,
    "start_time": "2022-03-13T11:44:41.636Z"
   },
   {
    "duration": 44,
    "start_time": "2022-03-13T11:44:41.644Z"
   },
   {
    "duration": 21,
    "start_time": "2022-03-13T11:44:41.691Z"
   },
   {
    "duration": 23,
    "start_time": "2022-03-13T11:44:41.716Z"
   },
   {
    "duration": 115,
    "start_time": "2022-03-13T11:44:41.742Z"
   },
   {
    "duration": 27,
    "start_time": "2022-03-13T11:44:41.860Z"
   },
   {
    "duration": 45,
    "start_time": "2022-03-13T11:44:41.890Z"
   },
   {
    "duration": 9,
    "start_time": "2022-03-13T11:44:41.938Z"
   },
   {
    "duration": 46,
    "start_time": "2022-03-13T11:44:41.950Z"
   },
   {
    "duration": 11,
    "start_time": "2022-03-13T11:44:41.999Z"
   },
   {
    "duration": 20,
    "start_time": "2022-03-13T11:44:42.013Z"
   },
   {
    "duration": 47,
    "start_time": "2022-03-13T11:44:42.035Z"
   },
   {
    "duration": 5,
    "start_time": "2022-03-13T11:44:42.084Z"
   },
   {
    "duration": 18,
    "start_time": "2022-03-13T11:44:42.091Z"
   },
   {
    "duration": 4,
    "start_time": "2022-03-13T11:44:42.111Z"
   },
   {
    "duration": 9,
    "start_time": "2022-03-13T11:44:42.117Z"
   },
   {
    "duration": 16,
    "start_time": "2022-03-13T11:44:42.128Z"
   },
   {
    "duration": 51,
    "start_time": "2022-03-13T11:44:42.147Z"
   },
   {
    "duration": 8,
    "start_time": "2022-03-13T11:44:42.204Z"
   },
   {
    "duration": 37,
    "start_time": "2022-03-13T11:44:42.216Z"
   },
   {
    "duration": 3,
    "start_time": "2022-03-13T11:44:42.282Z"
   },
   {
    "duration": 22,
    "start_time": "2022-03-13T11:44:42.287Z"
   },
   {
    "duration": 6,
    "start_time": "2022-03-13T11:44:42.312Z"
   },
   {
    "duration": 13,
    "start_time": "2022-03-13T11:44:42.321Z"
   },
   {
    "duration": 5,
    "start_time": "2022-03-13T11:44:42.337Z"
   },
   {
    "duration": 44,
    "start_time": "2022-03-13T11:44:42.345Z"
   },
   {
    "duration": 16,
    "start_time": "2022-03-13T11:44:42.393Z"
   },
   {
    "duration": 14,
    "start_time": "2022-03-13T11:44:42.411Z"
   },
   {
    "duration": 810,
    "start_time": "2022-03-13T11:44:42.428Z"
   },
   {
    "duration": 459,
    "start_time": "2022-03-13T11:44:43.240Z"
   },
   {
    "duration": 27015,
    "start_time": "2022-03-13T11:44:43.701Z"
   },
   {
    "duration": 442,
    "start_time": "2022-03-13T11:45:10.719Z"
   },
   {
    "duration": 2727,
    "start_time": "2022-03-13T11:45:11.163Z"
   },
   {
    "duration": 405,
    "start_time": "2022-03-13T11:45:13.893Z"
   },
   {
    "duration": 7,
    "start_time": "2022-03-13T11:45:14.300Z"
   },
   {
    "duration": 16,
    "start_time": "2022-03-13T11:45:14.310Z"
   },
   {
    "duration": 16,
    "start_time": "2022-03-13T11:45:14.329Z"
   },
   {
    "duration": 13,
    "start_time": "2022-03-13T11:45:14.348Z"
   },
   {
    "duration": 88988,
    "start_time": "2022-03-13T11:45:14.382Z"
   },
   {
    "duration": 17,
    "start_time": "2022-03-13T11:46:43.373Z"
   },
   {
    "duration": 23879,
    "start_time": "2022-03-13T11:46:43.392Z"
   },
   {
    "duration": 15,
    "start_time": "2022-03-13T11:47:07.273Z"
   },
   {
    "duration": 76585,
    "start_time": "2022-03-13T11:47:07.290Z"
   },
   {
    "duration": 4,
    "start_time": "2022-03-13T11:48:23.883Z"
   },
   {
    "duration": 22,
    "start_time": "2022-03-13T11:48:23.890Z"
   },
   {
    "duration": 161229,
    "start_time": "2022-03-13T11:48:23.915Z"
   },
   {
    "duration": 7,
    "start_time": "2022-03-13T11:51:05.146Z"
   },
   {
    "duration": 3411,
    "start_time": "2022-03-13T11:51:05.155Z"
   },
   {
    "duration": 2962,
    "start_time": "2022-03-13T11:51:08.568Z"
   },
   {
    "duration": 25,
    "start_time": "2022-03-13T11:51:11.533Z"
   },
   {
    "duration": 6016,
    "start_time": "2022-03-13T11:51:11.562Z"
   },
   {
    "duration": 686,
    "start_time": "2022-03-13T11:51:17.580Z"
   },
   {
    "duration": 643,
    "start_time": "2022-03-13T11:51:18.268Z"
   },
   {
    "duration": 280,
    "start_time": "2022-03-13T11:51:18.914Z"
   },
   {
    "duration": 655,
    "start_time": "2022-03-13T11:58:18.090Z"
   },
   {
    "duration": 542,
    "start_time": "2022-03-13T11:58:39.493Z"
   },
   {
    "duration": 462,
    "start_time": "2022-03-13T12:00:19.902Z"
   },
   {
    "duration": 11,
    "start_time": "2022-03-13T12:02:16.950Z"
   },
   {
    "duration": 6,
    "start_time": "2022-03-13T12:02:27.290Z"
   },
   {
    "duration": 5,
    "start_time": "2022-03-13T12:02:44.230Z"
   },
   {
    "duration": 6,
    "start_time": "2022-03-13T12:02:54.441Z"
   },
   {
    "duration": 5,
    "start_time": "2022-03-13T12:03:03.221Z"
   },
   {
    "duration": 6,
    "start_time": "2022-03-13T12:03:09.941Z"
   },
   {
    "duration": 9,
    "start_time": "2022-03-13T12:03:17.491Z"
   },
   {
    "duration": 6,
    "start_time": "2022-03-13T12:03:21.670Z"
   },
   {
    "duration": 10,
    "start_time": "2022-03-13T12:03:26.271Z"
   },
   {
    "duration": 6,
    "start_time": "2022-03-13T12:04:12.820Z"
   },
   {
    "duration": 6,
    "start_time": "2022-03-13T12:05:24.338Z"
   },
   {
    "duration": 6,
    "start_time": "2022-03-13T12:05:43.278Z"
   },
   {
    "duration": 6,
    "start_time": "2022-03-13T12:06:11.369Z"
   },
   {
    "duration": 11,
    "start_time": "2022-03-13T12:07:05.629Z"
   },
   {
    "duration": 5,
    "start_time": "2022-03-13T12:07:06.201Z"
   },
   {
    "duration": 9,
    "start_time": "2022-03-13T12:07:45.977Z"
   },
   {
    "duration": 6,
    "start_time": "2022-03-13T12:07:46.200Z"
   },
   {
    "duration": 12,
    "start_time": "2022-03-13T12:08:30.089Z"
   },
   {
    "duration": 6,
    "start_time": "2022-03-13T12:08:30.629Z"
   },
   {
    "duration": 5,
    "start_time": "2022-03-13T12:08:58.469Z"
   },
   {
    "duration": 5,
    "start_time": "2022-03-13T12:09:07.789Z"
   },
   {
    "duration": 5,
    "start_time": "2022-03-13T12:09:11.670Z"
   },
   {
    "duration": 303,
    "start_time": "2022-03-13T12:09:13.329Z"
   },
   {
    "duration": 223,
    "start_time": "2022-03-13T12:09:26.870Z"
   },
   {
    "duration": 11,
    "start_time": "2022-03-13T12:09:34.230Z"
   },
   {
    "duration": 229,
    "start_time": "2022-03-13T12:09:36.521Z"
   },
   {
    "duration": 5,
    "start_time": "2022-03-13T12:09:53.910Z"
   },
   {
    "duration": 5,
    "start_time": "2022-03-13T12:10:00.640Z"
   },
   {
    "duration": 9,
    "start_time": "2022-03-13T12:10:30.638Z"
   },
   {
    "duration": 11,
    "start_time": "2022-03-13T12:10:39.581Z"
   },
   {
    "duration": 6,
    "start_time": "2022-03-13T12:10:57.149Z"
   },
   {
    "duration": 6,
    "start_time": "2022-03-13T12:11:06.269Z"
   },
   {
    "duration": 6,
    "start_time": "2022-03-13T12:11:31.769Z"
   },
   {
    "duration": 235,
    "start_time": "2022-03-13T12:11:39.309Z"
   },
   {
    "duration": 5,
    "start_time": "2022-03-13T12:12:23.689Z"
   },
   {
    "duration": 5,
    "start_time": "2022-03-13T12:12:35.569Z"
   },
   {
    "duration": 5,
    "start_time": "2022-03-13T12:12:41.630Z"
   },
   {
    "duration": 9,
    "start_time": "2022-03-13T12:12:58.609Z"
   },
   {
    "duration": 11,
    "start_time": "2022-03-13T12:12:58.860Z"
   },
   {
    "duration": 6,
    "start_time": "2022-03-13T12:12:59.480Z"
   },
   {
    "duration": 10,
    "start_time": "2022-03-13T12:13:27.149Z"
   },
   {
    "duration": 11,
    "start_time": "2022-03-13T12:13:27.520Z"
   },
   {
    "duration": 5,
    "start_time": "2022-03-13T12:13:28.141Z"
   },
   {
    "duration": 8,
    "start_time": "2022-03-13T12:13:28.669Z"
   },
   {
    "duration": 1731,
    "start_time": "2022-03-13T12:13:39.370Z"
   },
   {
    "duration": 481,
    "start_time": "2022-03-13T12:13:48.329Z"
   },
   {
    "duration": 9,
    "start_time": "2022-03-13T12:14:00.830Z"
   },
   {
    "duration": 11,
    "start_time": "2022-03-13T12:14:01.330Z"
   },
   {
    "duration": 5,
    "start_time": "2022-03-13T12:14:02.001Z"
   },
   {
    "duration": 11,
    "start_time": "2022-03-13T12:14:02.610Z"
   },
   {
    "duration": 471,
    "start_time": "2022-03-13T12:14:03.298Z"
   },
   {
    "duration": 11,
    "start_time": "2022-03-13T12:15:00.710Z"
   },
   {
    "duration": 12,
    "start_time": "2022-03-13T12:15:01.309Z"
   },
   {
    "duration": 387,
    "start_time": "2022-03-13T12:15:01.929Z"
   },
   {
    "duration": 697,
    "start_time": "2022-03-13T12:15:02.770Z"
   },
   {
    "duration": 292,
    "start_time": "2022-03-13T12:16:17.778Z"
   },
   {
    "duration": 12,
    "start_time": "2022-03-13T12:17:17.559Z"
   },
   {
    "duration": 14,
    "start_time": "2022-03-13T12:18:01.096Z"
   },
   {
    "duration": 6,
    "start_time": "2022-03-13T12:19:02.361Z"
   },
   {
    "duration": 479,
    "start_time": "2022-03-13T12:22:33.590Z"
   },
   {
    "duration": 1532,
    "start_time": "2022-03-13T12:24:01.786Z"
   },
   {
    "duration": 37,
    "start_time": "2022-03-13T12:24:03.321Z"
   },
   {
    "duration": 23,
    "start_time": "2022-03-13T12:24:03.361Z"
   },
   {
    "duration": 17,
    "start_time": "2022-03-13T12:24:03.386Z"
   },
   {
    "duration": 6,
    "start_time": "2022-03-13T12:24:03.406Z"
   },
   {
    "duration": 18,
    "start_time": "2022-03-13T12:24:03.415Z"
   },
   {
    "duration": 55,
    "start_time": "2022-03-13T12:24:03.436Z"
   },
   {
    "duration": 22,
    "start_time": "2022-03-13T12:24:03.493Z"
   },
   {
    "duration": 100,
    "start_time": "2022-03-13T12:24:03.521Z"
   },
   {
    "duration": 7,
    "start_time": "2022-03-13T12:24:03.624Z"
   },
   {
    "duration": 70,
    "start_time": "2022-03-13T12:24:03.634Z"
   },
   {
    "duration": 8,
    "start_time": "2022-03-13T12:24:03.707Z"
   },
   {
    "duration": 20,
    "start_time": "2022-03-13T12:24:03.718Z"
   },
   {
    "duration": 9,
    "start_time": "2022-03-13T12:24:03.740Z"
   },
   {
    "duration": 14,
    "start_time": "2022-03-13T12:24:03.783Z"
   },
   {
    "duration": 9,
    "start_time": "2022-03-13T12:24:03.799Z"
   },
   {
    "duration": 10,
    "start_time": "2022-03-13T12:24:03.811Z"
   },
   {
    "duration": 18,
    "start_time": "2022-03-13T12:24:03.823Z"
   },
   {
    "duration": 3,
    "start_time": "2022-03-13T12:24:03.843Z"
   },
   {
    "duration": 38,
    "start_time": "2022-03-13T12:24:03.849Z"
   },
   {
    "duration": 13,
    "start_time": "2022-03-13T12:24:03.889Z"
   },
   {
    "duration": 18,
    "start_time": "2022-03-13T12:24:03.904Z"
   },
   {
    "duration": 6,
    "start_time": "2022-03-13T12:24:03.924Z"
   },
   {
    "duration": 73,
    "start_time": "2022-03-13T12:24:03.932Z"
   },
   {
    "duration": 3,
    "start_time": "2022-03-13T12:24:04.008Z"
   },
   {
    "duration": 14,
    "start_time": "2022-03-13T12:24:04.014Z"
   },
   {
    "duration": 5,
    "start_time": "2022-03-13T12:24:04.034Z"
   },
   {
    "duration": 49,
    "start_time": "2022-03-13T12:24:04.042Z"
   },
   {
    "duration": 5,
    "start_time": "2022-03-13T12:24:04.094Z"
   },
   {
    "duration": 25,
    "start_time": "2022-03-13T12:24:04.102Z"
   },
   {
    "duration": 21,
    "start_time": "2022-03-13T12:24:04.129Z"
   },
   {
    "duration": 36,
    "start_time": "2022-03-13T12:24:04.152Z"
   },
   {
    "duration": 778,
    "start_time": "2022-03-13T12:24:04.191Z"
   },
   {
    "duration": 409,
    "start_time": "2022-03-13T12:24:04.983Z"
   },
   {
    "duration": 29327,
    "start_time": "2022-03-13T12:24:05.394Z"
   },
   {
    "duration": 459,
    "start_time": "2022-03-13T12:24:34.723Z"
   },
   {
    "duration": 3000,
    "start_time": "2022-03-13T12:24:35.185Z"
   },
   {
    "duration": 422,
    "start_time": "2022-03-13T12:24:38.188Z"
   },
   {
    "duration": 10,
    "start_time": "2022-03-13T12:24:38.613Z"
   },
   {
    "duration": 14,
    "start_time": "2022-03-13T12:24:38.626Z"
   },
   {
    "duration": 17,
    "start_time": "2022-03-13T12:24:38.643Z"
   },
   {
    "duration": 28,
    "start_time": "2022-03-13T12:24:38.663Z"
   },
   {
    "duration": 90329,
    "start_time": "2022-03-13T12:24:38.694Z"
   },
   {
    "duration": 10,
    "start_time": "2022-03-13T12:26:09.025Z"
   },
   {
    "duration": 23293,
    "start_time": "2022-03-13T12:26:09.037Z"
   },
   {
    "duration": 14,
    "start_time": "2022-03-13T12:26:32.333Z"
   },
   {
    "duration": 78266,
    "start_time": "2022-03-13T12:26:32.350Z"
   },
   {
    "duration": 5,
    "start_time": "2022-03-13T12:27:50.619Z"
   },
   {
    "duration": 17,
    "start_time": "2022-03-13T12:27:50.627Z"
   },
   {
    "duration": 168088,
    "start_time": "2022-03-13T12:27:50.647Z"
   },
   {
    "duration": 7,
    "start_time": "2022-03-13T12:30:38.738Z"
   },
   {
    "duration": 3582,
    "start_time": "2022-03-13T12:30:38.748Z"
   },
   {
    "duration": 3042,
    "start_time": "2022-03-13T12:30:42.333Z"
   },
   {
    "duration": 13,
    "start_time": "2022-03-13T12:30:45.382Z"
   },
   {
    "duration": 410,
    "start_time": "2022-03-13T12:30:45.398Z"
   },
   {
    "duration": -8444,
    "start_time": "2022-03-13T12:30:54.255Z"
   },
   {
    "duration": -8451,
    "start_time": "2022-03-13T12:30:54.263Z"
   },
   {
    "duration": -8456,
    "start_time": "2022-03-13T12:30:54.270Z"
   },
   {
    "duration": -8462,
    "start_time": "2022-03-13T12:30:54.277Z"
   },
   {
    "duration": -8466,
    "start_time": "2022-03-13T12:30:54.284Z"
   },
   {
    "duration": -8471,
    "start_time": "2022-03-13T12:30:54.290Z"
   },
   {
    "duration": 14,
    "start_time": "2022-03-13T12:33:14.302Z"
   },
   {
    "duration": 4,
    "start_time": "2022-03-13T12:33:18.126Z"
   },
   {
    "duration": 10,
    "start_time": "2022-03-13T12:33:20.485Z"
   },
   {
    "duration": 3760,
    "start_time": "2022-03-13T12:33:25.086Z"
   },
   {
    "duration": 984,
    "start_time": "2022-03-13T12:35:00.648Z"
   },
   {
    "duration": 3918,
    "start_time": "2022-03-13T12:35:47.269Z"
   },
   {
    "duration": 618,
    "start_time": "2022-03-13T12:36:32.206Z"
   },
   {
    "duration": 239,
    "start_time": "2022-03-13T12:37:00.588Z"
   },
   {
    "duration": 3053,
    "start_time": "2022-03-13T12:37:16.046Z"
   },
   {
    "duration": 20,
    "start_time": "2022-03-13T12:37:22.286Z"
   },
   {
    "duration": 4061,
    "start_time": "2022-03-13T12:37:23.746Z"
   },
   {
    "duration": 3336,
    "start_time": "2022-03-13T12:38:35.687Z"
   },
   {
    "duration": 3058,
    "start_time": "2022-03-13T12:40:28.042Z"
   },
   {
    "duration": 3566,
    "start_time": "2022-03-13T12:41:44.877Z"
   },
   {
    "duration": 233,
    "start_time": "2022-03-13T12:44:13.488Z"
   },
   {
    "duration": 3415,
    "start_time": "2022-03-13T12:46:40.067Z"
   },
   {
    "duration": 3154,
    "start_time": "2022-03-13T12:47:08.305Z"
   },
   {
    "duration": 205,
    "start_time": "2022-03-13T12:47:57.214Z"
   },
   {
    "duration": 3749,
    "start_time": "2022-03-13T12:49:10.245Z"
   },
   {
    "duration": 593,
    "start_time": "2022-03-13T12:50:42.545Z"
   },
   {
    "duration": 619,
    "start_time": "2022-03-13T12:50:55.106Z"
   },
   {
    "duration": 663,
    "start_time": "2022-03-13T12:52:31.967Z"
   },
   {
    "duration": 3404,
    "start_time": "2022-03-13T12:54:13.866Z"
   },
   {
    "duration": 503,
    "start_time": "2022-03-13T12:56:02.554Z"
   },
   {
    "duration": 541,
    "start_time": "2022-03-13T12:56:59.893Z"
   },
   {
    "duration": 625,
    "start_time": "2022-03-13T12:57:45.414Z"
   },
   {
    "duration": 249,
    "start_time": "2022-03-13T13:01:01.906Z"
   },
   {
    "duration": 3336,
    "start_time": "2022-03-13T13:01:19.107Z"
   },
   {
    "duration": 213,
    "start_time": "2022-03-13T13:01:35.807Z"
   },
   {
    "duration": 219,
    "start_time": "2022-03-13T13:05:53.606Z"
   },
   {
    "duration": 615,
    "start_time": "2022-03-13T13:10:55.907Z"
   },
   {
    "duration": 1781,
    "start_time": "2022-03-13T13:21:14.607Z"
   },
   {
    "duration": 55,
    "start_time": "2022-03-13T13:21:16.392Z"
   },
   {
    "duration": 32,
    "start_time": "2022-03-13T13:21:16.451Z"
   },
   {
    "duration": 17,
    "start_time": "2022-03-13T13:21:16.486Z"
   },
   {
    "duration": 5,
    "start_time": "2022-03-13T13:21:16.505Z"
   },
   {
    "duration": 10,
    "start_time": "2022-03-13T13:21:16.512Z"
   },
   {
    "duration": 58,
    "start_time": "2022-03-13T13:21:16.524Z"
   },
   {
    "duration": 19,
    "start_time": "2022-03-13T13:21:16.589Z"
   },
   {
    "duration": 118,
    "start_time": "2022-03-13T13:21:16.613Z"
   },
   {
    "duration": 8,
    "start_time": "2022-03-13T13:21:16.735Z"
   },
   {
    "duration": 87,
    "start_time": "2022-03-13T13:21:16.746Z"
   },
   {
    "duration": 12,
    "start_time": "2022-03-13T13:21:16.836Z"
   },
   {
    "duration": 44,
    "start_time": "2022-03-13T13:21:16.851Z"
   },
   {
    "duration": 9,
    "start_time": "2022-03-13T13:21:16.898Z"
   },
   {
    "duration": 14,
    "start_time": "2022-03-13T13:21:16.909Z"
   },
   {
    "duration": 8,
    "start_time": "2022-03-13T13:21:16.927Z"
   },
   {
    "duration": 44,
    "start_time": "2022-03-13T13:21:16.938Z"
   },
   {
    "duration": 16,
    "start_time": "2022-03-13T13:21:16.985Z"
   },
   {
    "duration": 9,
    "start_time": "2022-03-13T13:21:17.004Z"
   },
   {
    "duration": 12,
    "start_time": "2022-03-13T13:21:17.015Z"
   },
   {
    "duration": 20,
    "start_time": "2022-03-13T13:21:17.029Z"
   },
   {
    "duration": 39,
    "start_time": "2022-03-13T13:21:17.051Z"
   },
   {
    "duration": 3,
    "start_time": "2022-03-13T13:21:17.096Z"
   },
   {
    "duration": 37,
    "start_time": "2022-03-13T13:21:17.102Z"
   },
   {
    "duration": 3,
    "start_time": "2022-03-13T13:21:17.141Z"
   },
   {
    "duration": 14,
    "start_time": "2022-03-13T13:21:17.182Z"
   },
   {
    "duration": 7,
    "start_time": "2022-03-13T13:21:17.199Z"
   },
   {
    "duration": 14,
    "start_time": "2022-03-13T13:21:17.209Z"
   },
   {
    "duration": 5,
    "start_time": "2022-03-13T13:21:17.226Z"
   },
   {
    "duration": 58,
    "start_time": "2022-03-13T13:21:17.234Z"
   },
   {
    "duration": 10,
    "start_time": "2022-03-13T13:21:17.295Z"
   },
   {
    "duration": 15,
    "start_time": "2022-03-13T13:21:17.307Z"
   },
   {
    "duration": 843,
    "start_time": "2022-03-13T13:21:17.326Z"
   },
   {
    "duration": 399,
    "start_time": "2022-03-13T13:21:18.183Z"
   },
   {
    "duration": 27229,
    "start_time": "2022-03-13T13:21:18.585Z"
   },
   {
    "duration": 436,
    "start_time": "2022-03-13T13:21:45.817Z"
   },
   {
    "duration": 2728,
    "start_time": "2022-03-13T13:21:46.255Z"
   },
   {
    "duration": 428,
    "start_time": "2022-03-13T13:21:48.985Z"
   },
   {
    "duration": 7,
    "start_time": "2022-03-13T13:21:49.415Z"
   },
   {
    "duration": 20,
    "start_time": "2022-03-13T13:21:49.425Z"
   },
   {
    "duration": 17,
    "start_time": "2022-03-13T13:21:49.447Z"
   },
   {
    "duration": 28,
    "start_time": "2022-03-13T13:21:49.467Z"
   },
   {
    "duration": 87696,
    "start_time": "2022-03-13T13:21:49.497Z"
   },
   {
    "duration": 12,
    "start_time": "2022-03-13T13:23:17.195Z"
   },
   {
    "duration": 23753,
    "start_time": "2022-03-13T13:23:17.209Z"
   },
   {
    "duration": 21,
    "start_time": "2022-03-13T13:23:40.965Z"
   },
   {
    "duration": 75719,
    "start_time": "2022-03-13T13:23:40.989Z"
   },
   {
    "duration": 4,
    "start_time": "2022-03-13T13:24:56.710Z"
   },
   {
    "duration": 7,
    "start_time": "2022-03-13T13:24:56.716Z"
   },
   {
    "duration": 161258,
    "start_time": "2022-03-13T13:24:56.725Z"
   },
   {
    "duration": 8,
    "start_time": "2022-03-13T13:27:37.985Z"
   },
   {
    "duration": 3363,
    "start_time": "2022-03-13T13:27:37.996Z"
   },
   {
    "duration": 234,
    "start_time": "2022-03-13T13:27:41.362Z"
   },
   {
    "duration": 237,
    "start_time": "2022-03-13T13:27:41.599Z"
   },
   {
    "duration": 19,
    "start_time": "2022-03-13T13:27:41.838Z"
   },
   {
    "duration": 3788,
    "start_time": "2022-03-13T13:27:41.859Z"
   },
   {
    "duration": 607,
    "start_time": "2022-03-13T13:27:45.649Z"
   },
   {
    "duration": 5,
    "start_time": "2022-03-13T13:27:46.260Z"
   },
   {
    "duration": 5,
    "start_time": "2022-03-13T13:29:53.549Z"
   },
   {
    "duration": 6,
    "start_time": "2022-03-13T13:30:04.468Z"
   },
   {
    "duration": 6,
    "start_time": "2022-03-13T13:32:33.416Z"
   },
   {
    "duration": 5,
    "start_time": "2022-03-13T13:34:54.960Z"
   },
   {
    "duration": 7,
    "start_time": "2022-03-13T13:35:03.961Z"
   },
   {
    "duration": 5,
    "start_time": "2022-03-13T13:35:37.875Z"
   },
   {
    "duration": 6,
    "start_time": "2022-03-13T13:35:47.026Z"
   },
   {
    "duration": 5,
    "start_time": "2022-03-13T13:36:38.159Z"
   },
   {
    "duration": 1463,
    "start_time": "2022-03-14T05:05:53.509Z"
   },
   {
    "duration": 37,
    "start_time": "2022-03-14T05:05:54.974Z"
   },
   {
    "duration": 11,
    "start_time": "2022-03-14T05:05:55.014Z"
   },
   {
    "duration": 31,
    "start_time": "2022-03-14T05:05:55.028Z"
   },
   {
    "duration": 5,
    "start_time": "2022-03-14T05:05:55.062Z"
   },
   {
    "duration": 11,
    "start_time": "2022-03-14T05:05:55.069Z"
   },
   {
    "duration": 24,
    "start_time": "2022-03-14T05:05:55.083Z"
   },
   {
    "duration": 52,
    "start_time": "2022-03-14T05:05:55.110Z"
   },
   {
    "duration": 92,
    "start_time": "2022-03-14T05:05:55.166Z"
   },
   {
    "duration": 6,
    "start_time": "2022-03-14T05:05:55.262Z"
   },
   {
    "duration": 36,
    "start_time": "2022-03-14T05:05:55.271Z"
   },
   {
    "duration": 8,
    "start_time": "2022-03-14T05:05:55.309Z"
   },
   {
    "duration": 17,
    "start_time": "2022-03-14T05:05:55.351Z"
   },
   {
    "duration": 8,
    "start_time": "2022-03-14T05:05:55.370Z"
   },
   {
    "duration": 15,
    "start_time": "2022-03-14T05:05:55.381Z"
   },
   {
    "duration": 8,
    "start_time": "2022-03-14T05:05:55.398Z"
   },
   {
    "duration": 44,
    "start_time": "2022-03-14T05:05:55.409Z"
   },
   {
    "duration": 16,
    "start_time": "2022-03-14T05:05:55.456Z"
   },
   {
    "duration": 4,
    "start_time": "2022-03-14T05:05:55.474Z"
   },
   {
    "duration": 8,
    "start_time": "2022-03-14T05:05:55.480Z"
   },
   {
    "duration": 11,
    "start_time": "2022-03-14T05:05:55.490Z"
   },
   {
    "duration": 57,
    "start_time": "2022-03-14T05:05:55.503Z"
   },
   {
    "duration": 6,
    "start_time": "2022-03-14T05:05:55.562Z"
   },
   {
    "duration": 35,
    "start_time": "2022-03-14T05:05:55.570Z"
   },
   {
    "duration": 3,
    "start_time": "2022-03-14T05:05:55.607Z"
   },
   {
    "duration": 47,
    "start_time": "2022-03-14T05:05:55.612Z"
   },
   {
    "duration": 5,
    "start_time": "2022-03-14T05:05:55.665Z"
   },
   {
    "duration": 12,
    "start_time": "2022-03-14T05:05:55.673Z"
   },
   {
    "duration": 4,
    "start_time": "2022-03-14T05:05:55.687Z"
   },
   {
    "duration": 11,
    "start_time": "2022-03-14T05:05:55.694Z"
   },
   {
    "duration": 44,
    "start_time": "2022-03-14T05:05:55.707Z"
   },
   {
    "duration": 12,
    "start_time": "2022-03-14T05:05:55.753Z"
   },
   {
    "duration": 804,
    "start_time": "2022-03-14T05:05:55.767Z"
   },
   {
    "duration": 385,
    "start_time": "2022-03-14T05:05:56.573Z"
   },
   {
    "duration": 26426,
    "start_time": "2022-03-14T05:05:56.961Z"
   },
   {
    "duration": 438,
    "start_time": "2022-03-14T05:06:23.389Z"
   },
   {
    "duration": 1588,
    "start_time": "2022-03-14T05:06:23.829Z"
   },
   {
    "duration": 437,
    "start_time": "2022-03-14T05:06:25.420Z"
   },
   {
    "duration": 7,
    "start_time": "2022-03-14T05:06:25.860Z"
   },
   {
    "duration": 8,
    "start_time": "2022-03-14T05:06:25.869Z"
   },
   {
    "duration": 12,
    "start_time": "2022-03-14T05:06:25.879Z"
   },
   {
    "duration": 13,
    "start_time": "2022-03-14T05:06:25.893Z"
   },
   {
    "duration": 84674,
    "start_time": "2022-03-14T05:06:25.908Z"
   },
   {
    "duration": 9,
    "start_time": "2022-03-14T05:07:50.585Z"
   },
   {
    "duration": 22424,
    "start_time": "2022-03-14T05:07:50.597Z"
   },
   {
    "duration": 10,
    "start_time": "2022-03-14T05:08:13.023Z"
   },
   {
    "duration": 73902,
    "start_time": "2022-03-14T05:08:13.036Z"
   },
   {
    "duration": 12,
    "start_time": "2022-03-14T05:09:26.940Z"
   },
   {
    "duration": 6,
    "start_time": "2022-03-14T05:09:26.955Z"
   },
   {
    "duration": 159669,
    "start_time": "2022-03-14T05:09:26.964Z"
   },
   {
    "duration": 16,
    "start_time": "2022-03-14T05:12:06.636Z"
   },
   {
    "duration": 3234,
    "start_time": "2022-03-14T05:12:06.655Z"
   },
   {
    "duration": 230,
    "start_time": "2022-03-14T05:12:09.891Z"
   },
   {
    "duration": 221,
    "start_time": "2022-03-14T05:12:10.124Z"
   },
   {
    "duration": 18,
    "start_time": "2022-03-14T05:12:10.347Z"
   },
   {
    "duration": 3853,
    "start_time": "2022-03-14T05:12:10.367Z"
   },
   {
    "duration": 609,
    "start_time": "2022-03-14T05:12:14.222Z"
   },
   {
    "duration": 17,
    "start_time": "2022-03-15T17:13:31.884Z"
   }
  ],
  "kernelspec": {
   "display_name": "Python 3 (ipykernel)",
   "language": "python",
   "name": "python3"
  },
  "language_info": {
   "codemirror_mode": {
    "name": "ipython",
    "version": 3
   },
   "file_extension": ".py",
   "mimetype": "text/x-python",
   "name": "python",
   "nbconvert_exporter": "python",
   "pygments_lexer": "ipython3",
   "version": "3.9.7"
  },
  "toc": {
   "base_numbering": 1,
   "nav_menu": {},
   "number_sections": true,
   "sideBar": true,
   "skip_h1_title": true,
   "title_cell": "Содержание",
   "title_sidebar": "Contents",
   "toc_cell": true,
   "toc_position": {
    "height": "550px",
    "left": "43px",
    "top": "111.441px",
    "width": "212.571px"
   },
   "toc_section_display": true,
   "toc_window_display": true
  }
 },
 "nbformat": 4,
 "nbformat_minor": 2
}
